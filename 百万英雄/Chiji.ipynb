{
 "cells": [
  {
   "cell_type": "code",
   "execution_count": 29,
   "metadata": {
    "collapsed": true
   },
   "outputs": [],
   "source": [
    "import PIL\n",
    "import subprocess\n",
    "import re\n",
    "import os\n",
    "import time\n",
    "import io\n",
    "import cv2\n",
    "import requests\n",
    "import bs4\n",
    "import jieba\n",
    "import jieba.analyse\n",
    "from IPython.display import display, HTML\n",
    "import json\n",
    "from functools import *\n",
    "\n",
    "import pandas as pd\n",
    "import sqlite3"
   ]
  },
  {
   "cell_type": "code",
   "execution_count": 2,
   "metadata": {
    "collapsed": true
   },
   "outputs": [],
   "source": [
    "%run key.py"
   ]
  },
  {
   "cell_type": "code",
   "execution_count": 3,
   "metadata": {
    "collapsed": true
   },
   "outputs": [],
   "source": [
    "from aip import AipOcr\n",
    "\n",
    "client = AipOcr(AIP_APP_ID, AIP_API_KEY, AIP_SECRET_KEY)"
   ]
  },
  {
   "cell_type": "code",
   "execution_count": 39,
   "metadata": {
    "collapsed": true
   },
   "outputs": [],
   "source": [
    "def capture_img():\n",
    "    subprocess.call('.\\\\adb\\\\adb shell /system/bin/screencap -p /sdcard/screenshot.png')\n",
    "    time.sleep(0.1)\n",
    "    subprocess.call('.\\\\adb\\\\adb pull /sdcard/screenshot.png %s' % './tmp/screenshot.png')\n",
    "    time.sleep(0.1)\n",
    "    \n",
    "    return cv2.imread('./tmp/screenshot.png')\n",
    "\n",
    "\n",
    "def get_text_in_region(aip_rst, region):\n",
    "    s = ''\n",
    "    if 'words_result' in aip_rst:\n",
    "        words = []\n",
    "        for p in aip_rst['words_result']:\n",
    "            loc = p['location']\n",
    "            if loc['top'] > region[0] and loc['top'] + loc['height'] < region[1] \\\n",
    "                and loc['left'] > region[2] and loc['left'] + loc['width'] < region[3]:\n",
    "                if loc['left'] < 1080 / 2: # only get words that starts from left\n",
    "                    words.append(p['words'])\n",
    "        s = ''.join(words)\n",
    "        \n",
    "    if s != '':\n",
    "        # remove heading, like 1. A. B.\n",
    "        if re.match(r\"^A|B|C|\\d+\\.|,|。|，\", s) != None: \n",
    "            ss = re.split(r\"\\.|,|。|，\",s)\n",
    "            if len(ss) > 1:\n",
    "                s = ''.join(ss[1:])\n",
    "            \n",
    "    return s\n",
    "\n",
    "def ocr(im, regions):\n",
    "    _, byte_arr = cv2.imencode('.jpg', im, [int(cv2.IMWRITE_JPEG_QUALITY), 90])\n",
    "    aip_rst = client.general(byte_arr.tobytes())\n",
    "    return [get_text_in_region(aip_rst, region) for region in regions]\n",
    "\n",
    "\n",
    "def go_search(s, engine='google'):\n",
    "    if engine == 'google':\n",
    "        os.system('start www.google.com/search?q=%s' % s)\n",
    "    elif engine == 'baidu':\n",
    "        os.system('start www.baidu.com/s?wd=%s' % s)\n",
    "\n",
    "def search(question):\n",
    "    rst = requests.get('http://www.baidu.com/s?wd=%s&rn=50' % question)\n",
    "    rst.encoding = 'utf-8'\n",
    "    search_rst = rst.text\n",
    "    \n",
    "    soup = bs4.BeautifulSoup(search_rst, 'html.parser')\n",
    "    rst = soup.select('div#content_left')[0]\n",
    "    return rst.text\n",
    "\n",
    "def search_advanced(question, optional_words, return_string=True, engine='baidu'):\n",
    "    '''\n",
    "    Advanced search\n",
    "    question_words: list of words of the question\n",
    "    opt_words: list of list of words of the options\n",
    "    '''\n",
    "        \n",
    "    if len(question) > 38:\n",
    "        question_words = jieba.analyse.extract_tags(question)\n",
    "    else:\n",
    "        question_words = [question]\n",
    "    all_opt_words = list(set(optional_words))\n",
    "    \n",
    "    if engine == 'baidu':\n",
    "        url = 'http://www.baidu.com/s?q1=%s&q2=&q3=%s&q4=&rn=50' % (\n",
    "            '+'.join(question_words),\n",
    "            '+'.join(all_opt_words))\n",
    "        rst = requests.get(url)\n",
    "        print(url)\n",
    "        rst.encoding = 'utf-8'\n",
    "        search_rst = rst.text\n",
    "\n",
    "        soup = bs4.BeautifulSoup(search_rst, 'html.parser')\n",
    "        rst = soup.select('div#content_left')[0]\n",
    "\n",
    "        if return_string:\n",
    "            return rst.text\n",
    "        else:\n",
    "            ret = []\n",
    "\n",
    "            containers = rst.select('.c-container')\n",
    "\n",
    "            for c in containers:\n",
    "                datum = {}\n",
    "                title = c.select('h3')\n",
    "                title = title[0].text if len(title) > 0 else ''\n",
    "\n",
    "                abstract = c.select('.c-abstract')\n",
    "                abstract = abstract[0].text if len(abstract) > 0 else ''\n",
    "\n",
    "                datum['title'] = title\n",
    "                datum['abstract'] = abstract\n",
    "\n",
    "                datum['html'] = str(c)\n",
    "                ret.append(datum)\n",
    "            return ret\n",
    "            \n",
    "    elif engine == 'google':\n",
    "        \n",
    "        query = '%20'.join(question_words) + '%20' + '%20OR%20'.join(all_opt_words)\n",
    "        url = 'https://www.googleapis.com/customsearch/v1?key=%s&cx=%s&q=%s' % (\n",
    "            G_KEY,\n",
    "            G_CX,\n",
    "            query)\n",
    "        print(url)\n",
    "        rst = requests.get(url, proxies={'http':'127.0.0.1:1080','https':'127.0.0.1:1080'}, verify=False)\n",
    "        rst = json.loads(rst.text)\n",
    "        \n",
    "        ret = []\n",
    "        \n",
    "        for item in rst['items']:\n",
    "            title = item['title']\n",
    "            abstract = item['snippet']\n",
    "            \n",
    "            html = '<h3>%s</h3>' % item['htmlTitle'] + item['htmlSnippet']\n",
    "            \n",
    "            datum = {'title':title, 'abstract':abstract, 'html':html}\n",
    "            \n",
    "            ret.append(datum)\n",
    "            \n",
    "        return '' if return_string else ret\n",
    "        \n",
    "    return '' if return_string else []\n",
    "\n",
    "\n",
    "class Sentence:\n",
    "    def __init__(self, sentence):\n",
    "        self._sentence = sentence\n",
    "        self._words = None\n",
    "        self._tfidf = None\n",
    "        \n",
    "    def get_sentence(self):\n",
    "        return self._sentence\n",
    "    \n",
    "    def get_tfidf(self):\n",
    "        if self._tfidf == None:\n",
    "            tfidf = jieba.analyse.tfidf(self._sentence, withWeight=True)\n",
    "    \n",
    "            question_tfidf = {}\n",
    "            if len(tfidf) > 0:\n",
    "                \n",
    "                for p in tfidf:\n",
    "                    question_tfidf[p[0]] = p[1]\n",
    "            else:\n",
    "                question_tfidf[self._sentence] = 1\n",
    "                \n",
    "            self._tfidf = question_tfidf\n",
    "        return self._tfidf\n",
    "    \n",
    "    def get_words(self):\n",
    "        if self._words == None:\n",
    "            self._words = jieba.lcut(self._sentence)\n",
    "        return self._words\n",
    "    \n",
    "    def __str__(self):\n",
    "        return self._sentence\n",
    "    \n",
    "    def __repr__(self):\n",
    "        return self.__str__()\n",
    "\n",
    "    \n",
    "def term_match_evidence_score(evidence_sentence, question_sentence, with_tfidf=True):\n",
    "    evidence_words = evidence_sentence.get_words()\n",
    "    question_tfidf = question_sentence.get_tfidf()\n",
    "    score = 0\n",
    "    \n",
    "    for word in evidence_words:\n",
    "        if word in question_tfidf:\n",
    "            if with_tfidf:\n",
    "                score += question_tfidf[word]\n",
    "            else:\n",
    "                score += 1\n",
    "                \n",
    "    return score\n",
    "\n",
    "def bigram_evidence_score(evidence_sentence, question_sentence):\n",
    "    question_words = question_sentence.get_words()\n",
    "    \n",
    "    score = 0\n",
    "    for i, word in enumerate(question_words):\n",
    "        if i < len(question_words) - 1:\n",
    "            pattern = question_words[i] + question_words[i+1]\n",
    "            \n",
    "            score += len(re.findall(pattern, evidence_sentence.get_sentence()))\n",
    "            \n",
    "    return score\n",
    "\n",
    "def skip_bigram_evidence_score(evidence_sentence, question_sentence):\n",
    "    question_words = question_sentence.get_words()\n",
    "    score = 0\n",
    "    for i, word in enumerate(question_words):\n",
    "        if i < len(question_words) - 2:\n",
    "            pattern = re.escape(question_words[i]) + '.+?' + re.escape(question_words[i+2])\n",
    "            \n",
    "            score += len(re.findall(pattern, evidence_sentence.get_sentence()))\n",
    "    return score\n",
    "\n",
    "def sorted_evidence_tuple(search_rst, question_sentence, opt_sentence_list, evidence_topK=10):\n",
    "    evidence_for_sort = []\n",
    "    \n",
    "    opt_str = ','.join(map(lambda s:s.get_sentence(), opt_sentence_list))\n",
    "    \n",
    "    for p in search_rst:\n",
    "        title = p['title']\n",
    "        abstract = p['abstract']\n",
    "        \n",
    "        score = 0\n",
    "        \n",
    "        st_title = Sentence(title)\n",
    "        st_abstract = Sentence(abstract)\n",
    "        \n",
    "        qopt = Sentence(question_sentence.get_sentence() + ',' + opt_str)\n",
    "        \n",
    "        score += (term_match_evidence_score(st_title, qopt) * 2 + \\\n",
    "                  term_match_evidence_score(st_abstract, qopt))\n",
    "        \n",
    "        st_evidence = Sentence(title + abstract)\n",
    "        \n",
    "        score += bigram_evidence_score(st_evidence, question_sentence)\n",
    "        \n",
    "        score += skip_bigram_evidence_score(st_evidence, question_sentence)\n",
    "        \n",
    "        if score > 0:\n",
    "            evidence_for_sort.append((st_title, st_abstract, st_evidence, score))\n",
    "            \n",
    "    ret = sorted(evidence_for_sort, key=lambda p:p[3], reverse=True)\n",
    "    \n",
    "    if evidence_topK < 0:\n",
    "        evidence_topK = len(ret)\n",
    "    \n",
    "    ret = ret[:evidence_topK]\n",
    "    \n",
    "    ret = [(p[0], p[1], p[2], p[3] / ret[0][3]) for p in ret]\n",
    "    \n",
    "    return ret\n",
    "    \n",
    "def term_distance_option_score(evidence_sentence, question_sentence, option_sentence_list):\n",
    "    qwords_offsets = []\n",
    "    question_words = question_sentence.get_words()\n",
    "    for word in question_words:\n",
    "        offsets = []\n",
    "        for i, eword in enumerate(evidence_sentence.get_words()):\n",
    "            if word == eword:\n",
    "                offsets.append(i)\n",
    "        qwords_offsets.append(offsets)\n",
    "        \n",
    "    dists = []\n",
    "    for opt in option_sentence_list:\n",
    "        opt_words = opt.get_words()\n",
    "        \n",
    "        dist = 0\n",
    "        if len(opt_words) > 0:\n",
    "            for word in opt_words:\n",
    "                offsets = []\n",
    "                for i, eword in enumerate(evidence_sentence.get_words()):\n",
    "                    if word == eword:\n",
    "                        for j, q_w in enumerate(question_words):\n",
    "                            for k, word_off in enumerate(qwords_offsets[j]):\n",
    "                                dist += abs(word_off - i)\n",
    "\n",
    "            dist /= len(opt_words)\n",
    "        dist = 1e9 if dist == 0 else dist\n",
    "        dists.append(dist)\n",
    "    \n",
    "    return dists\n",
    "\n",
    "def term_min_dist_option_score(evidence_sentence, question_sentence, option_sentence_list):\n",
    "    qwords_offsets = []\n",
    "    question_words = question_sentence.get_words()\n",
    "    for word in question_words:\n",
    "        offsets = []\n",
    "        for i, eword in enumerate(evidence_sentence.get_words()):\n",
    "            if word == eword:\n",
    "                offsets.append(i)\n",
    "        qwords_offsets.append(offsets)\n",
    "        \n",
    "    dists = []\n",
    "    for opt in option_sentence_list:\n",
    "        opt_words = opt.get_words()\n",
    "        \n",
    "        dist = 0\n",
    "        if len(opt_words) > 0:\n",
    "            for word in opt_words:\n",
    "                offsets = []\n",
    "                for i, eword in enumerate(evidence_sentence.get_words()):\n",
    "                    if word == eword:\n",
    "                        for j, q_w in enumerate(question_words):\n",
    "                            min_dist = int(1e9)\n",
    "                            for k, word_off in enumerate(qwords_offsets[j]):\n",
    "                                min_dist = min(abs(word_off - i), min_dist)\n",
    "                            if min_dist != int(1e9):\n",
    "                                dist += min_dist\n",
    "            dist /= len(opt_words)\n",
    "        dist = 1e9 if dist == 0 else dist\n",
    "        dists.append(dist)\n",
    "    \n",
    "    return dists\n",
    "\n",
    "def score_options(evidence_tuples, question_sentence, option_sentence_list):\n",
    "    scores = [0 for i in option_sentence_list]\n",
    "    decay = 0.7\n",
    "    decay_weight = 1\n",
    "    \n",
    "    idx = 0\n",
    "    for title, abstract, evidence, weight in evidence_tuples:\n",
    "        base_scores = []\n",
    "\n",
    "        for i, opt in enumerate(option_sentence_list):\n",
    "            score = term_match_evidence_score(title, opt, with_tfidf=False) * 2\n",
    "            score += term_match_evidence_score(abstract, opt, with_tfidf=False)\n",
    "            base_scores.append(score)\n",
    "            scores[i] += (score * weight * decay_weight)\n",
    "\n",
    "        dist = term_distance_option_score(evidence, question_sentence, option_sentence_list)\n",
    "\n",
    "        for i, d in enumerate(dist):\n",
    "            scores[i] += (base_scores[i] / d * weight * decay_weight)\n",
    "\n",
    "        dist = term_min_dist_option_score(evidence, question_sentence, option_sentence_list)\n",
    "\n",
    "        for i, d in enumerate(dist):\n",
    "            scores[i] += (base_scores[i] / d * weight * decay_weight)\n",
    "            \n",
    "        decay_weight *= decay\n",
    "        \n",
    "        if idx < 3:\n",
    "            print(title, base_scores, scores)\n",
    "            idx += 1\n",
    "        \n",
    "    return scores\n",
    "\n",
    "\n",
    "def keywords(question, opt_a, opt_b, opt_c):\n",
    "    quest_words = jieba.analyse.extract_tags(question, allowPOS=['n','nr','ns','nt','nz','nl','ng'])\n",
    "    opt_words = jieba.analyse.extract_tags(' '.join([opt_a,opt_b,opt_c]), allowPOS=['n','nr','ns','nt','nz','nl','ng'])\n",
    "    words = quest_words + opt_words\n",
    "    return words\n",
    "\n",
    "def dump_question(question, opt_a, opt_b, opt_c):\n",
    "    with open('questions.txt','a+') as f:\n",
    "        f.write(','.join([question, opt_a, opt_b, opt_c]) + '\\n')\n",
    "        \n",
    "def similar_words(word):\n",
    "    with sqlite3.connect('./how_net.db') as conn:\n",
    "        sql = '''\n",
    "            select distinct b.* from how_net a, how_net b\n",
    "            where a.W_C = ? and b.W_E = a.W_E and b.DEF = a.DEF'''\n",
    "\n",
    "        rst = conn.execute(sql, (word,)).fetchall()\n",
    "    conn.close()\n",
    "    \n",
    "    ret = set()\n",
    "    for row in rst:\n",
    "        ret.add(row[0])\n",
    "        ret.add(row[-1])\n",
    "        \n",
    "    if word in ret:\n",
    "        ret.remove(word)\n",
    "    ret = list(ret)\n",
    "    return ret\n",
    "\n",
    "def lower_words(word):\n",
    "    with sqlite3.connect('./how_net.db') as conn:\n",
    "        sql = '''\n",
    "            select distinct b.* from how_net a, how_net b\n",
    "            where a.W_C = ? and b.UPPER = a.W_C'''\n",
    "        rst = conn.execute(sql, (word,)).fetchall()\n",
    "    conn.close()\n",
    "\n",
    "    ret = set()\n",
    "    for row in rst:\n",
    "        ret.add(row[0])\n",
    "        \n",
    "    if word in ret:\n",
    "        ret.remove(word)\n",
    "    ret = list(ret)\n",
    "    return ret\n",
    "\n",
    "\n",
    "def expand_question(question, opts):\n",
    "    if max([len(o) for o in opts]) < 3:\n",
    "        opt_str = ','.join(opts)\n",
    "        pattern = r'哪[种|个|些|里]'\n",
    "        return re.sub(pattern, lambda m:opt_str+m[0], question, count=1)\n",
    "    else:\n",
    "        return question\n",
    "\n",
    "def search_ans(question, opt_a, opt_b, opt_c, engine='baidu'):\n",
    "    opts = [opt_a, opt_b, opt_c]\n",
    "    question_for_search = expand_question(question, opts)\n",
    "\n",
    "#     # question might be too long\n",
    "#     len_q = len(question)\n",
    "#     len_opt = len(opt_a) + len(opt_b) + len(opt_c)\n",
    "\n",
    "#     if len_q + len_opt > 37:\n",
    "#         words = jieba.analyse.extract_tags(question)\n",
    "#         quest_words = []\n",
    "#         l = 0\n",
    "\n",
    "#         for w in reversed(words):\n",
    "#             l += len(w)\n",
    "#             if l < 37 - len_opt:\n",
    "#                 quest_words.append(w)\n",
    "#             else:\n",
    "#                 break\n",
    "\n",
    "#     else:\n",
    "#         quest_words = [question]\n",
    "\n",
    "#     opt_words = []\n",
    "\n",
    "#     for opt in opts:\n",
    "# #             opt_words.append(list(map(lambda p:p.word, filter(lambda p:p.flag.startswith('n'), \n",
    "# #                                                  jieba.posseg.cut(opt)))))\n",
    "#         if len(opt) > 4:\n",
    "#             opt_words.append(jieba.analyse.extract_tags(opt))\n",
    "#         else:\n",
    "#             opt_words.append([opt])\n",
    "\n",
    "#         rst = search(question)\n",
    "#         time.sleep(0.1)\n",
    "#         rst += search('%20'.join(quest_words))\n",
    "    search_rst = search_advanced(question_for_search, [], return_string=False, engine=engine)\n",
    "#         print(rst)\n",
    "    \n",
    "    question_sentence = Sentence(question)\n",
    "    opt_sentences = [Sentence(opt) for opt in opts]\n",
    "    \n",
    "    evidences = sorted_evidence_tuple(search_rst, question_sentence, opt_sentences)\n",
    "    \n",
    "    extend_opts = []\n",
    "    if max([len(o) for o in opts]) < 3:\n",
    "        for opt in opts:\n",
    "            words = list(filter(lambda w: len(w) < 3, similar_words(opt) + lower_words(opt)))\n",
    "            extend_opts.append(set(words))\n",
    "            for w in words:\n",
    "                opt_sentences.append(Sentence(w))\n",
    "    \n",
    "#     print(evidences[:3])\n",
    "    \n",
    "    scores = score_options(evidences, question_sentence, opt_sentences)\n",
    "    \n",
    "    if len(extend_opts) == len(opts):\n",
    "        print(list(zip(opt_sentences,scores)))\n",
    "        for i, opt_sntnc in enumerate(opt_sentences):\n",
    "            for j, opt_set in enumerate(extend_opts):\n",
    "                if opt_sntnc.get_sentence() in opt_set:\n",
    "                    scores[j] += scores[i]\n",
    "        scores = scores[:len(opts)]\n",
    "        \n",
    "    # 考虑反向问题，比方说在战国初期下列哪一个国家*未*与燕国相邻?\n",
    "    neg_words = ['不','未','没有']\n",
    "\n",
    "    neg_question = False\n",
    "    for nw in neg_words:\n",
    "        if nw in question:\n",
    "            neg_question = True\n",
    "#             print('!!!!!!!!!!!!!!!!!!!!!!!!!!!!!!!!!!!!!!!!!!!!!')\n",
    "#             print('!!               疑似反向问题              !!!')\n",
    "#             print('!!!!!!!!!!!!!!!!!!!!!!!!!!!!!!!!!!!!!!!!!!!!!')\n",
    "            display(HTML('<h2>疑似反向问题!!</h2>'))\n",
    "            break\n",
    "\n",
    "    ans = [('A',opt_a,scores[0]),\n",
    "          ('B',opt_b,scores[1]),\n",
    "          ('C',opt_c,scores[2])]\n",
    "\n",
    "    print('question:', question)\n",
    "    for p in sorted(ans, key=lambda p:p[2], reverse=True):\n",
    "        print(p)\n",
    "\n",
    "    # Show top search result\n",
    "#     print('----------------------------')\n",
    "    for i in range(2):\n",
    "#         print(rst_soup.select('.c-container')[i])\n",
    "        if i < len(search_rst):\n",
    "            display(HTML(search_rst[i]['html']))\n",
    "#     print('----------------------------')\n",
    "\n",
    "#         go_search(question)\n",
    "\n",
    "def search_ans_from_pic(im, game='baiwan', engine='baidu', dump_flag=True):\n",
    "    print('Parsing pic...')\n",
    "    \n",
    "    if game == 'baiwan':\n",
    "        #百万英雄\n",
    "        question, opt_a, opt_b, opt_c = ocr(im,\n",
    "                       [(300,600,0,1080),\n",
    "                       (655,815,0,1080),\n",
    "                       (845,1005,0,1080),\n",
    "                       (1035,1200,0,1080)])\n",
    "    elif game == 'zhishi':\n",
    "        #芝士超人\n",
    "        question, opt_a, opt_b, opt_c = ocr(im,\n",
    "                       [(280,580,0,1080),\n",
    "                       (580,735,0,1080),\n",
    "                       (775,930,0,1080),\n",
    "                       (970,1125,0,1080)])\n",
    "    elif game == 'chongding':\n",
    "        #冲顶大会\n",
    "        question, opt_a, opt_b, opt_c = ocr(im,\n",
    "                       [(305,645,0,1080),\n",
    "                       (645,775,0,1080),\n",
    "                       (805,940,0,1080),\n",
    "                       (970,1105,0,1080)])\n",
    "    else:\n",
    "        return\n",
    "\n",
    "    if question != '':\n",
    "        search_ans(question, opt_a, opt_b, opt_c, engine=engine)\n",
    "        return True\n",
    "    else:\n",
    "        print('No question found!')\n",
    "        return False\n",
    "    \n",
    "    if dump_flag == True:\n",
    "        dump_question(question, opt_a, opt_b, opt_c)"
   ]
  },
  {
   "cell_type": "markdown",
   "metadata": {},
   "source": [
    "# 问题列表\n",
    "+ 对长答案切分不一，如三个选项分别问塔克拉玛干沙漠,撒哈拉沙漠,戈壁沙漠的情况下，分词系统将戈壁沙漠切分为戈壁与沙漠，但是其他两个未被切分，造成戈壁沙漠这个答案被搜索到的概率加大\n",
    "+ 反向问题理解，如：在战国初期下列哪一个国家*未*与燕国相邻?\n",
    "+ 三个选项经常同时出现的情况，如“一些小伤口流血之后会自行凝结结痂是因为血液中含有哪种成分?,红细胞,血小板,白细胞”，这类问题常常作为中学考试选择题出现，造成三个选项同时出现的概率很高，搜索引擎无法正确判断。"
   ]
  },
  {
   "cell_type": "code",
   "execution_count": 11,
   "metadata": {},
   "outputs": [
    {
     "data": {
      "text/plain": [
       "'食用适量的海苔可以预防甲状腺肿大是因为海苔中的一二三四哪个元素'"
      ]
     },
     "execution_count": 11,
     "metadata": {},
     "output_type": "execute_result"
    }
   ],
   "source": [
    "re.sub(r'哪[种|个|些|里]',lambda s:r'一二三四'+s[0],'食用适量的海苔可以预防甲状腺肿大是因为海苔中的哪个元素',count=1)"
   ]
  },
  {
   "cell_type": "code",
   "execution_count": 10,
   "metadata": {
    "collapsed": true
   },
   "outputs": [],
   "source": [
    "im = cv2.imread('./tmp/screenshot.png')\n",
    "im = im[:1200,:,:]"
   ]
  },
  {
   "cell_type": "code",
   "execution_count": 178,
   "metadata": {
    "scrolled": true
   },
   "outputs": [
    {
     "name": "stdout",
     "output_type": "stream",
     "text": [
      "Parsing pic...\n",
      "http://www.baidu.com/s?q1=世界上第一家电视台出现在哪个国家&q2=&q3=&q4=&rn=50\n",
      "[(英国, 4.375970407905959), (美国, 6.072849787214996), (法国, 0.0), (英, 0.0), (欧洲, 0.0), (B, 0.0), (A, 0.0), (g, 0.0), (k, 0.0), (F, 0.0), (Y, 0.0), (O, 0.0), (D, 0.0), (b, 0.0), (q, 0.0), (h, 0.0), (英镑, 0.0), (v, 0.0), (M, 0.0), (p, 0.0), (r, 0.0), (I, 0.0), (t, 0.0), (N, 0.0), (Z, 0.0), (雪莱, 0.0), (s, 0.0), (K, 0.0), (拜伦, 0.0), (a, 0.0), (剑桥, 0.0), (e, 0.0), (n, 0.0), (英文, 0.0), (英, 0.0), (W, 0.0), (V, 0.0), (P, 0.0), (o, 0.0), (z, 0.0), (Q, 0.0), (c, 0.0), (J, 0.0), (d, 0.0), (乔叟, 0.0), (i, 0.0), (伦敦, 1.9586318739844988), (S, 0.0), (英制, 0.0), (T, 0.0), (白厅, 0.0), (f, 0.0), (L, 0.0), (u, 0.0), (w, 0.0), (E, 0.0), (X, 0.0), (R, 0.0), (y, 0.0), (便士, 0.0), (C, 0.0), (牛顿, 0.0), (镑, 0.0), (x, 0.0), (H, 0.0), (j, 0.0), (m, 0.0), (G, 0.0), (l, 0.0), (U, 0.0), (美, 0.0), (北美, 0.0), (费城, 0.0), (微软, 0.0), (花旗, 0.0), (哈佛, 0.0), (美钞, 0.0), (美军, 0.0), (美金, 0.0), (美式, 0.0), (美商, 0.0), (硅谷, 0.0), (加州, 0.0), (美元, 0.0), (布什, 0.0), (麻省, 0.0), (波音, 0.0), (美, 0.0), (犹他, 0.0), (白宫, 0.0), (国会, 0.0), (美籍, 0.0), (美分, 0.0), (福特, 0.0), (林肯, 0.0), (缅因, 0.0), (矽谷, 0.0), (纽约, 0.0), (, 0.0), (法, 0.0), (巴黎, 0.0), (法, 0.0), (法郎, 0.0), (里昂, 0.0), (马赛, 0.0)]\n",
      "question: 世界上第一家电视台出现在哪个国家\n",
      "('A', '英国', 6.334602281890458)\n",
      "('B', '美国', 6.072849787214996)\n",
      "('C', '法国', 0.0)\n"
     ]
    },
    {
     "data": {
      "text/html": [
       "<div class=\"result c-container \" data-click=\"{'rsv_bdr':'0' }\" id=\"1\" srcid=\"1528\" tpl=\"se_com_default\"><h3 class=\"t\"><a data-click=\"{\n",
       "\t\t\t'F':'778317E8',\n",
       "\t\t\t'F1':'9D73B1E4',\n",
       "\t\t\t'F2':'4CA6DD6B',\n",
       "\t\t\t'F3':'54E5343D',\n",
       "\t\t\t'T':'1516757623',\n",
       "\t\t\t\t\t\t'y':'FEFBFFFA'\n",
       "\t\t\t \n",
       "\t\t\t\t\t\t\t\t\t}\" href=\"http://www.baidu.com/link?url=ndIjtqqR7tv2Unz83Yr-A3LZsOnRq9EXhBgEKbGMUcnAhw-DMLVETBTmW7En0LLXSN_c-OBOSX-6fTfFmatnQ_\" target=\"_blank\"><em>世界上第一家电视台在哪个国家</em>?_百度知道</a></h3><p class=\"f13 m\">2个回答 - 提问时间: 2007年04月11日</p><div class=\"c-abstract\"><i class=\"c-text c-text-info c-gap-icon-right-small\"><b>[</b><span>专业</span><b>]</b></i><span class=\"m\">答案:</span>英国。 1936年11月,英国广播公司在伦敦以北的亚历山大宫建成英国<em>第一</em>座正式的<em>电视台</em>,也是<em>世界第一</em>座正式<em>电视台</em>。11月2日,英国广播公司<em>第一</em>次正式播出...</div><div class=\"f13\"><a class=\"c-showurl\" href=\"http://www.baidu.com/link?url=ndIjtqqR7tv2Unz83Yr-A3LZsOnRq9EXhBgEKbGMUcnAhw-DMLVETBTmW7En0LLXSN_c-OBOSX-6fTfFmatnQ_\" style=\"text-decoration:none;\" target=\"_blank\">https://zhidao.baidu.com/quest... </a><div class=\"c-tools\" data-tools='{\"title\":\"世界上第一家电视台在哪个国家?_百度知道\",\"url\":\"http://www.baidu.com/link?url=ndIjtqqR7tv2Unz83Yr-A3LZsOnRq9EXhBgEKbGMUcnAhw-DMLVETBTmW7En0LLXSN_c-OBOSX-6fTfFmatnQ_\"}' id=\"tools_9832712678553803105_1\"><a class=\"c-tip-icon\"><i class=\"c-icon c-icon-triangle-down-g\"></i></a></div><span class=\"c-icons-outer\"><span class=\"c-icons-inner\"></span></span></div><div class=\"c-offset\"><table class=\"subLink_factory subLink_factory_right\"><tr><td class=\"first c-default \"><a href=\"http://www.baidu.com/link?url=0U1GF2Emye7xw9wLz1daqxLFb2sBvcdTDeefoeGG2HQzt2bB2_9Dg7NQudDLi6o_wVdSPkF8QhMqddnIR39KHq\" target=\"_blank\"><em>世界上第一个电视台</em></a></td><td class=\"middle c-default \">2个回答</td><td class=\"last c-default rightTd\">2008-06-14</td></tr><tr><td class=\"first c-default \"><a href=\"http://www.baidu.com/link?url=qcmSWzHmIgzuauhPJyQr0-KO6XhsbdhszWKGGcHn8P4zHKakmTdxdPS0TOhGWuXYglXLzNLZEZZMdqmMUG0af_\" target=\"_blank\"><em>世界第一台电视</em>诞生于几几年?<em>哪国</em>人造的?叫什...</a></td><td class=\"middle c-default \">2个回答</td><td class=\"last c-default rightTd\">2013-05-14</td></tr></table><a class=\"c\" href=\"http://www.baidu.com/link?url=oBf1huC7pZI19EZZYaS4I_Aj0Fcx0jFjBtJXXq4dx75em54tVGhIT9whdBlucjPfRqTq-nOhUENcfBjRJQlG_mIYgj6lbYg0d4VKiHmFcf_WZrxtHeRK5VgjNkhk0-F0km8_JZhJVayZD0Eno8oENd7AnZWaib1xkVOLKnHwOUSMIEkcVt5EP6tGjdQOk7I40XcNTLT65PIGoXLby3Nt-vpz37o9PGf-PepiFdXLqbpfr1b1Rcfb8PASob9R4qrVdv2iC2PW_MhDzV5W6pZBwvRD8x_pboE3oJU2Pe9oNa3\" target=\"_blank\">更多知道相关问题&gt;&gt;</a></div></div>"
      ],
      "text/plain": [
       "<IPython.core.display.HTML object>"
      ]
     },
     "metadata": {},
     "output_type": "display_data"
    },
    {
     "data": {
      "text/html": [
       "<div class=\"result c-container \" data-click=\"{'rsv_bdr':'0' ,'rsv_cd':'pt:40520'}\" id=\"2\" srcid=\"1599\" tpl=\"se_com_default\"><h3 class=\"t\"><a data-click=\"{\n",
       "\t\t\t'F':'778317E8',\n",
       "\t\t\t'F1':'9D73F1E4',\n",
       "\t\t\t'F2':'4CA6DD6B',\n",
       "\t\t\t'F3':'54E5343D',\n",
       "\t\t\t'T':'1516757623',\n",
       "\t\t\t\t\t\t'y':'DE7EFFAF'\n",
       "\t\t\t \n",
       "\t\t\t\t\t\t\t\t\t}\" href=\"http://www.baidu.com/link?url=3aKETX6NSk63SbIhRgbPwOJ295yrnIgeXD6NIXQqjUURkCYjlUZkgCo_M9ZWKt34mltP3g3FaTww33Q2zLlhqq\" target=\"_blank\"><em>全世界第一家电视台</em>是<em>在哪个国家</em>成立的 - 爱问知识人</a></h3><div class=\"c-abstract\"><span class=\" newTimeFactor_before_abs m\">2017年11月20日 - </span><em>全世界第一家电视台</em>是<em>在哪个国家</em>成立的:1935年,贝尔德与德国公司合作,成立了第一家电视台,每周播放三次节目?</div><div class=\"f13\"><a class=\"c-showurl\" href=\"http://www.baidu.com/link?url=3aKETX6NSk63SbIhRgbPwOJ295yrnIgeXD6NIXQqjUURkCYjlUZkgCo_M9ZWKt34mltP3g3FaTww33Q2zLlhqq\" style=\"text-decoration:none;\" target=\"_blank\">https://iask.sina.com.cn/b/913... </a><div class=\"c-tools\" data-tools='{\"title\":\"全世界第一家电视台是在哪个国家成立的 - 爱问知识人\",\"url\":\"http://www.baidu.com/link?url=3aKETX6NSk63SbIhRgbPwOJ295yrnIgeXD6NIXQqjUURkCYjlUZkgCo_M9ZWKt34mltP3g3FaTww33Q2zLlhqq\"}' id=\"tools_9242718256036642780_2\"><a class=\"c-tip-icon\"><i class=\"c-icon c-icon-triangle-down-g\"></i></a></div><span class=\"c-icons-outer\"><span class=\"c-icons-inner\"></span></span> - <a class=\"m\" data-click=\"{'rsv_snapshot':'1'}\" href=\"http://cache.baiducontent.com/c?m=9d78d513d9d430dc4f9c96697d60c0111c4381132ba6db020ea08449e3732b46501090ac26520772d3d20c1716ae394b9a812104371421c78cb88f5daabe85595c9f5135671df65663a20edcc15124b137e05bfedb1df0cb8425e5aac5d2af4325cc44730997f1fb4d7112dd1ef60341e9b1ed4c025e60ad9d3b728b2a6059ee3436b653bea06c615dc7b09f1d5bc259cd7c4ac4ee6ca73e65f448f84c0c2433f111ee1f515161bc5277e24f3e0598e15dec3d793779f017ed&amp;p=c6769a4786cc41ac5ff3d5124d578c&amp;newp=8a64c54ad6c046e52abe9b7c4a5e82231610db2151d7d21e6b82c825d7331b001c3bbfb423251304d5c47f6101ae4a5aeaf63d7437012ba3dda5c91d9fb4c57479c255&amp;user=baidu&amp;fm=sc&amp;query=%CA%C0%BD%E7%C9%CF%B5%DA%D2%BB%BC%D2%B5%E7%CA%D3%CC%A8%B3%F6%CF%D6%D4%DA%C4%C4%B8%F6%B9%FA%BC%D2&amp;qid=a56ef73000003e8b&amp;p1=2\" target=\"_blank\">百度快照</a></div></div>"
      ],
      "text/plain": [
       "<IPython.core.display.HTML object>"
      ]
     },
     "metadata": {},
     "output_type": "display_data"
    },
    {
     "data": {
      "text/plain": [
       "True"
      ]
     },
     "execution_count": 178,
     "metadata": {},
     "output_type": "execute_result"
    }
   ],
   "source": [
    "search_ans_from_pic(im, game='baiwan', engine='baidu')"
   ]
  },
  {
   "cell_type": "code",
   "execution_count": 43,
   "metadata": {},
   "outputs": [
    {
     "name": "stdout",
     "output_type": "stream",
     "text": [
      "http://www.baidu.com/s?q1=三毛的经典名句“每想你一次天上飘落一粒沙”从此形成了哪个沙漠？&q2=&q3=&q4=&rn=50\n",
      "“每想你一次,天上飘落一粒沙,从此形成了撒哈拉”这段..._百度知道 [0, 0, 1] [0.0, 0.0, 1.0155553503521568]\n",
      "“每想你一次,天上飘落一粒沙,从此形成了撒哈拉”这段..._百度知道 [0, 0, 2] [0.0, 0.0, 2.4082463452966696]\n",
      "每想你一次,天上飘落一粒沙,从此形成了撒哈拉,是哪位台..._百度知道 [0, 0, 1] [0.0, 0.0, 2.8871275131533523]\n",
      "question: 三毛的经典名句“每想你一次天上飘落一粒沙”从此形成了哪个沙漠？\n",
      "('C', '戈壁沙漠', 3.802724352483554)\n",
      "('B', '撒哈拉沙漠', 0.09944293516538452)\n",
      "('A', '塔克拉玛干沙漠', 0.0)\n"
     ]
    },
    {
     "data": {
      "text/html": [
       "<div class=\"result c-container \" data-click=\"{'rsv_bdr':'0' }\" id=\"1\" srcid=\"1529\" tpl=\"se_com_default\"><h3 class=\"t\"><a data-click=\"{\n",
       "\t\t\t'F':'778717E8',\n",
       "\t\t\t'F1':'9D73E1E4',\n",
       "\t\t\t'F2':'4CA6DE6B',\n",
       "\t\t\t'F3':'54E5343D',\n",
       "\t\t\t'T':'1517969065',\n",
       "\t\t\t\t\t\t'y':'DB9FFBBB'\n",
       "\t\t\t \n",
       "\t\t\t\t\t\t\t\t\t}\" href=\"http://www.baidu.com/link?url=eWBCwV0ukvsZZmJKvsJW4-wZX5KTACeRSlCGOWRT8Qo8EQCcI_tzqu8zT6tkA2DnNUg4PQp2vm0IHavY7DAbZq\" target=\"_blank\">“<em>每想你一次</em>,<em>天上飘落一粒沙</em>,<em>从此形成了</em>撒哈拉”这段..._百度知道</a></h3><div class=\"c-row c-gap-top-small\"><div class=\"general_image_pic c-span6\"><a class=\"c-img6\" href=\"http://www.baidu.com/link?url=eWBCwV0ukvsZZmJKvsJW4-wZX5KTACeRSlCGOWRT8Qo8EQCcI_tzqu8zT6tkA2DnNUg4PQp2vm0IHavY7DAbZq\" style=\"height:75px\" target=\"_blank\"><img class=\"c-img c-img6\" src=\"http://i7.baidu.com/it/u=871432446,2811123534&amp;fm=85&amp;s=777516C683BB39842C2680220300F05B\" style=\"height:75px;\"/></a></div><div class=\"c-span18 c-span-last\"><p class=\"f13 m\">3个回答 - 最新回答: 2013年08月11日</p><div class=\"c-abstract\"><span class=\"m\">最佳答案: </span>奇女子<em>三毛</em> 原句:<em>每想你一次</em>,<em>天上飘落一粒沙</em>,<em>从此形成了</em>撒哈拉。<em>每想你一次</em>,天上就掉下一滴水,于是形成了太平洋。 ...<br/><a class=\"c\" href=\"http://zhidao.baidu.com/q?ct=17&amp;pn=0&amp;tn=ikaslist&amp;rn=10&amp;word=%E4%B8%89%E6%AF%9B%E7%9A%84%E7%BB%8F%E5%85%B8%E5%90%8D%E5%8F%A5%E2%80%9C%E6%AF%8F%E6%83%B3%E4%BD%A0%E4%B8%80%E6%AC%A1%E5%A4%A9%E4%B8%8A%E9%A3%98%E8%90%BD%E4%B8%80%E7%B2%92%E6%B2%99%E2%80%9D%E4%BB%8E%E6%AD%A4%E5%BD%A2%E6%88%90%E4%BA%86%E5%93%AA%E4%B8%AA%E6%B2%99%E6%BC%A0%3F\" target=\"_blank\">更多关于三毛的经典名句“每想你一次天上飘落一粒沙”从此形成了哪个沙漠?的问题&gt;&gt;</a></div><div class=\"f13\"><a class=\"c-showurl\" href=\"http://www.baidu.com/link?url=eWBCwV0ukvsZZmJKvsJW4-wZX5KTACeRSlCGOWRT8Qo8EQCcI_tzqu8zT6tkA2DnNUg4PQp2vm0IHavY7DAbZq\" style=\"text-decoration:none;\" target=\"_blank\">https://zhidao.baidu.com/quest... </a><div class=\"c-tools\" data-tools='{\"title\":\"“每想你一次,天上飘落一粒沙,从此形成了撒哈拉”这段..._百度知道\",\"url\":\"http://www.baidu.com/link?url=eWBCwV0ukvsZZmJKvsJW4-wZX5KTACeRSlCGOWRT8Qo8EQCcI_tzqu8zT6tkA2DnNUg4PQp2vm0IHavY7DAbZq\"}' id=\"tools_16335387754647592984_1\"><a class=\"c-tip-icon\"><i class=\"c-icon c-icon-triangle-down-g\"></i></a></div><span class=\"c-icons-outer\"><span class=\"c-icons-inner\"></span></span> - <a class=\"m\" data-click=\"{'rsv_snapshot':'1'}\" href=\"http://cache.baiducontent.com/c?m=9f65cb4a8c8507ed19fa950d100b9f3c4202d33e2bd7a7452c8fc50f84642c101a39fef8607551428898207a06aa4358eff53476321420c0c18ed714c9fecf68798730457a0bf23705a218b8b83632c050872aeeb868e1adf14284dea5c4ac2244ba54120d86e78a2a1765cb7884642693d18e3f134810cbfa4164e829033e9e5357c733ee9742797687e1aa5d5bc25ac7171180df45a74e14a262d3081a5453d13da67f203141eb58568b533c74859a59f0590e5752b65fc4bfd6b79b5ffadcfd41e8edbaac38e661f1c49aee00496722fb32bedaaac23b733303cebad801b542abfb9cad3aeb03a6674bca5c615e60d96ae495fe54e5132ae3e618e9582431590cc8c37ee801747830d82969ba08b074a6ff705caf9d&amp;p=8b2a971cc59e1ce01abd9b7e0d17a5&amp;newp=91769a478d9114ff57ed947f4a00a523161cda386a848d0a3b8fd12590654f171c0ba7ec67634b598fca786002a54e5be1f63c7231092abd98cf8c49d8afd4456edf653b2740d01a4086&amp;user=baidu&amp;fm=sc&amp;query=%C8%FD%C3%AB%B5%C4%BE%AD%B5%E4%C3%FB%BE%E4%A1%B0%C3%BF%CF%EB%C4%E3%D2%BB%B4%CE%CC%EC%C9%CF%C6%AE%C2%E4%D2%BB%C1%A3%C9%B3%A1%B1%B4%D3%B4%CB%D0%CE%B3%C9%C1%CB%C4%C4%B8%F6%C9%B3%C4%AE%3F&amp;qid=fbcaad14000106b4&amp;p1=1\" target=\"_blank\">百度快照</a></div></div></div></div>"
      ],
      "text/plain": [
       "<IPython.core.display.HTML object>"
      ]
     },
     "metadata": {},
     "output_type": "display_data"
    },
    {
     "data": {
      "text/html": [
       "<div class=\"result c-container \" data-click=\"{'rsv_bdr':'0' }\" id=\"2\" srcid=\"1529\" tpl=\"se_com_default\"><h3 class=\"t\"><a data-click=\"{\n",
       "\t\t\t'F':'778717E8',\n",
       "\t\t\t'F1':'9D73F1E4',\n",
       "\t\t\t'F2':'4CA6DE6B',\n",
       "\t\t\t'F3':'54E5343D',\n",
       "\t\t\t'T':'1517969065',\n",
       "\t\t\t\t\t\t'y':'E15BEBDF'\n",
       "\t\t\t \n",
       "\t\t\t\t\t\t\t\t\t}\" href=\"http://www.baidu.com/link?url=nIPSH8IJVyBaHD2wLwxtwE69oFJfox4gy2a6keTmwyY1pjYL518zCDYuAxsHOEBHB79s4mF7840_rPFs1BK1duNzjXCirLlAWKLJfztHD83\" target=\"_blank\">“<em>每想你一次</em>,<em>天上飘落一粒沙</em>,<em>从此形成了</em>撒哈拉”这段..._百度知道</a></h3><p class=\"f13 m\">1个回答 - 提问时间: 2017年12月01日</p><div class=\"c-abstract\"><span class=\"m\">最佳答案: </span>“<em>每想你一次</em>,<em>天上飘落一粒沙</em>,<em>从此形成了</em>撒哈拉”出自<em>三毛的</em>《撒哈拉的故事》。 简介: 《撒哈拉的故事》是一系列以<em>沙漠</em>为背景的故事。 因为一本地理杂志...<br/><a class=\"c\" href=\"http://zhidao.baidu.com/q?ct=17&amp;pn=0&amp;tn=ikaslist&amp;rn=10&amp;word=%E4%B8%89%E6%AF%9B%E7%9A%84%E7%BB%8F%E5%85%B8%E5%90%8D%E5%8F%A5%E2%80%9C%E6%AF%8F%E6%83%B3%E4%BD%A0%E4%B8%80%E6%AC%A1%E5%A4%A9%E4%B8%8A%E9%A3%98%E8%90%BD%E4%B8%80%E7%B2%92%E6%B2%99%E2%80%9D%E4%BB%8E%E6%AD%A4%E5%BD%A2%E6%88%90%E4%BA%86%E5%93%AA%E4%B8%AA%E6%B2%99%E6%BC%A0%3F\" target=\"_blank\">更多关于三毛的经典名句“每想你一次天上飘落一粒沙”从此形成了哪个沙漠?的问题&gt;&gt;</a></div><div class=\"f13\"><a class=\"c-showurl\" href=\"http://www.baidu.com/link?url=nIPSH8IJVyBaHD2wLwxtwE69oFJfox4gy2a6keTmwyY1pjYL518zCDYuAxsHOEBHB79s4mF7840_rPFs1BK1duNzjXCirLlAWKLJfztHD83\" style=\"text-decoration:none;\" target=\"_blank\">https://zhidao.baidu.com/quest... </a><div class=\"c-tools\" data-tools='{\"title\":\"“每想你一次,天上飘落一粒沙,从此形成了撒哈拉”这段..._百度知道\",\"url\":\"http://www.baidu.com/link?url=nIPSH8IJVyBaHD2wLwxtwE69oFJfox4gy2a6keTmwyY1pjYL518zCDYuAxsHOEBHB79s4mF7840_rPFs1BK1duNzjXCirLlAWKLJfztHD83\"}' id=\"tools_2576447207062272061_2\"><a class=\"c-tip-icon\"><i class=\"c-icon c-icon-triangle-down-g\"></i></a></div><span class=\"c-icons-outer\"><span class=\"c-icons-inner\"></span></span> - <a class=\"m\" data-click=\"{'rsv_snapshot':'1'}\" href=\"http://cache.baiducontent.com/c?m=9d78d513d9d430a54f99e2697c17c015694381132ba7d7020ed28449e3732b36501595ac57250773d5d27d1716de484b9e802102401457b18cc8f95dacba85585b9f2644676df25665a30edecd5152c037912afed919f0ca8025e3a8c5a2a84352ba44740b9787fa4d711fdd1e84033093b1e84c022c67ad9c3072885f6028ef3436b6508990251f049685dc4b4db33da16a06e7ae22b04f05c515b3691a3334a65bc078462740f73925e8354a13e2ea4a96216e4153a139b0aeb0c6fc49fccb9b378f8bcdb85f9f7792c1fdf801550159ed55bfbcccb42a1732169e8a80199e74fab8adad4d9a09ca5806e10b25727cce1cc4d1d401b5755a83b635a13461617f4b99e829a368736530af3512b419c770bb8e7d4bdaea988e9d0245d8c3832c29&amp;p=9b6fd415d9c340a91ab7c7710f4490&amp;newp=c357d51985cc43ff57ed9578160c8223161cda386a848d0a3b8fd12597634f171c0ba7ec67634b598fca786002a54d5ce9f13770350025bd9ec28a49d8afd4456edf653b2740d0&amp;user=baidu&amp;fm=sc&amp;query=%C8%FD%C3%AB%B5%C4%BE%AD%B5%E4%C3%FB%BE%E4%A1%B0%C3%BF%CF%EB%C4%E3%D2%BB%B4%CE%CC%EC%C9%CF%C6%AE%C2%E4%D2%BB%C1%A3%C9%B3%A1%B1%B4%D3%B4%CB%D0%CE%B3%C9%C1%CB%C4%C4%B8%F6%C9%B3%C4%AE%3F&amp;qid=fbcaad14000106b4&amp;p1=2\" target=\"_blank\">百度快照</a></div></div>"
      ],
      "text/plain": [
       "<IPython.core.display.HTML object>"
      ]
     },
     "metadata": {},
     "output_type": "display_data"
    }
   ],
   "source": [
    "q, a, b, c = '三毛的经典名句“每想你一次天上飘落一粒沙”从此形成了哪个沙漠？,塔克拉玛干沙漠,撒哈拉沙漠,戈壁沙漠'.split(',')\n",
    "search_ans(q, a, b, c)"
   ]
  },
  {
   "cell_type": "code",
   "execution_count": 37,
   "metadata": {
    "scrolled": true
   },
   "outputs": [
    {
     "data": {
      "text/plain": [
       "['品性', '伪善', '鳄鱼', '凶残', '善良', '形容', '眼泪', '用来', '通常', '一种']"
      ]
     },
     "execution_count": 37,
     "metadata": {},
     "output_type": "execute_result"
    }
   ],
   "source": [
    "jieba.analyse.tfidf('“鳄鱼的眼泪\"通常用来形容人的哪一种品性?,善良,伪善,凶残')"
   ]
  },
  {
   "cell_type": "code",
   "execution_count": 20,
   "metadata": {},
   "outputs": [
    {
     "data": {
      "text/plain": [
       "1"
      ]
     },
     "execution_count": 20,
     "metadata": {},
     "output_type": "execute_result"
    }
   ],
   "source": [
    "term_match_evidence_score(Sentence('2018年1月17日 - 1、“鳄鱼的眼泪通常用来形容人的哪一种品性? 伪善 2、日常生活中,蒸两层馒头,哪层会先熟? 上层 3、悟空问答是一款什么类型的APP? 所有人的问答社区 4、下...'),\n",
    "                         Sentence('伪善'), with_tfidf=False)"
   ]
  },
  {
   "cell_type": "code",
   "execution_count": 26,
   "metadata": {},
   "outputs": [
    {
     "data": {
      "text/plain": [
       "[278.0]"
      ]
     },
     "execution_count": 26,
     "metadata": {},
     "output_type": "execute_result"
    }
   ],
   "source": [
    "term_distance_option_score(Sentence('2018年1月17日 - 1、“鳄鱼的眼泪通常用来形容人的哪一种品性? 伪善 2、日常生活中,蒸两层馒头,哪层会先熟? 上层 3、悟空问答是一款什么类型的APP? 所有人的问答社区 4、下...'),\n",
    "                         Sentence('“鳄鱼的眼泪\"通常用来形容人的哪一种品性?'),[Sentence('伪善')])"
   ]
  },
  {
   "cell_type": "code",
   "execution_count": 46,
   "metadata": {},
   "outputs": [
    {
     "data": {
      "text/plain": [
       "[('塔克拉玛干沙漠', 9.96885201925)]"
      ]
     },
     "execution_count": 46,
     "metadata": {},
     "output_type": "execute_result"
    }
   ],
   "source": [
    "jieba.analyse.tfidf('塔克拉玛干沙漠',withWeight=True)"
   ]
  },
  {
   "cell_type": "code",
   "execution_count": 128,
   "metadata": {
    "collapsed": true
   },
   "outputs": [],
   "source": [
    "with sqlite3.connect('./how_net.db') as conn:\n",
    "    conn.execute('''\n",
    "        create table how_net(\n",
    "        W_C varchar,\n",
    "        G_C varchar,\n",
    "        E_C varchar,\n",
    "        W_E varchar,\n",
    "        G_E varchar,\n",
    "        E_E varchar,\n",
    "        DEF varchar,\n",
    "        UPPER varchar)''')\n",
    "    conn.execute('''\n",
    "        create index idx on how_net (W_C, W_E, DEF)''')\n",
    "    conn.commit()\n",
    "conn.close()"
   ]
  },
  {
   "cell_type": "code",
   "execution_count": 124,
   "metadata": {
    "collapsed": true
   },
   "outputs": [],
   "source": [
    "conn.close()"
   ]
  },
  {
   "cell_type": "code",
   "execution_count": 129,
   "metadata": {
    "collapsed": true
   },
   "outputs": [],
   "source": [
    "with sqlite3.connect('./how_net.db') as conn:   \n",
    "    with open('HowNet.txt','r') as f:\n",
    "        datum = []\n",
    "        for line in f:\n",
    "            s = str(line).strip()\n",
    "            if s != '':\n",
    "                p = s.split('=')\n",
    "                assert len(p) > 1\n",
    "\n",
    "                datum.append('='.join(p[1:]))\n",
    "            else:\n",
    "                assert len(datum) == 8\n",
    "                defs = datum[7].split(',')\n",
    "                \n",
    "                upper = ''\n",
    "                m = re.match(r'\\(.*?\\|(.*?)\\)',defs[-1])\n",
    "                if m != None:\n",
    "                    upper = m[1]\n",
    "                try:\n",
    "                    sql = \"insert into how_net values (?, ?, ?, ?, ?, ?, ?, ?)\"\n",
    "                    conn.execute(sql,(datum[1], datum[2], datum[3], datum[4], datum[5], datum[6], datum[7], upper))\n",
    "#                     print(sql)\n",
    "                except:\n",
    "                    print(sql)\n",
    "                    conn.execute(sql)\n",
    "                finally:\n",
    "                    datum = []\n",
    "    conn.commit()\n",
    "conn.close()"
   ]
  },
  {
   "cell_type": "code",
   "execution_count": 149,
   "metadata": {},
   "outputs": [
    {
     "data": {
      "text/plain": [
       "['美', '北美', '美利坚', '美国']"
      ]
     },
     "execution_count": 149,
     "metadata": {},
     "output_type": "execute_result"
    }
   ],
   "source": [
    "word = '美国'\n",
    "def similar_words(word):\n",
    "    with sqlite3.connect('./how_net.db') as conn:\n",
    "        sql = '''\n",
    "            select distinct b.* from how_net a, how_net b\n",
    "            where a.W_C = ? and b.W_E = a.W_E and b.DEF = a.DEF'''\n",
    "\n",
    "        rst = conn.execute(sql, (word,)).fetchall()\n",
    "    conn.close()\n",
    "    \n",
    "    ret = set()\n",
    "    for row in rst:\n",
    "        ret.add(row[0])\n",
    "        ret.add(row[-1])\n",
    "        \n",
    "    ret = list(ret)\n",
    "    return ret\n",
    "\n",
    "similar_words(word)"
   ]
  },
  {
   "cell_type": "code",
   "execution_count": 151,
   "metadata": {},
   "outputs": [
    {
     "data": {
      "text/plain": [
       "['旧金山',\n",
       " '耶鲁大学',\n",
       " '马克吐温',\n",
       " '国务卿',\n",
       " '肯特基',\n",
       " '休斯敦',\n",
       " '美国空军',\n",
       " '花旗银行',\n",
       " '西雅图',\n",
       " '加利福尼亚',\n",
       " '费城',\n",
       " '肯塔基',\n",
       " 'NMD',\n",
       " '杰克伦敦',\n",
       " '美国陆军',\n",
       " '卡内基梅隆大学',\n",
       " '俄亥俄',\n",
       " '微软',\n",
       " '路易斯安那',\n",
       " '美国海岸警卫队',\n",
       " '亚利桑那',\n",
       " '星球大战',\n",
       " '阿拉斯加',\n",
       " '哈佛大学',\n",
       " '星条旗',\n",
       " '花旗',\n",
       " '哈佛',\n",
       " '杜鲁门',\n",
       " '印第安纳',\n",
       " '康涅狄格',\n",
       " '查尔戈加戈格曼乔加戈格舍巴纳甘加马湖',\n",
       " '美钞',\n",
       " '北达科他',\n",
       " '好莱坞',\n",
       " '美军',\n",
       " '美国生活方式',\n",
       " '奥克兰',\n",
       " '密歇根',\n",
       " '蒙大拿',\n",
       " '美金',\n",
       " '美式',\n",
       " '夏威夷',\n",
       " '得克萨斯',\n",
       " '美商',\n",
       " '美国人',\n",
       " '内华达',\n",
       " '美联储',\n",
       " '麻省理工学院',\n",
       " '硅谷',\n",
       " '美国海军陆战队',\n",
       " '纳斯达克',\n",
       " '安大略湖',\n",
       " '弗吉尼亚',\n",
       " '微软公司',\n",
       " '战略防御计划',\n",
       " '中情局',\n",
       " '罗斯福',\n",
       " '加州',\n",
       " '美元',\n",
       " '迪斯尼',\n",
       " '圣保罗',\n",
       " '美国',\n",
       " '布什',\n",
       " '麻省',\n",
       " '科罗拉多',\n",
       " '衣阿华',\n",
       " '南卡罗来纳',\n",
       " '奥林匹克半岛',\n",
       " '波音',\n",
       " '西弗吉尼亚',\n",
       " '美',\n",
       " '威斯康星',\n",
       " '纽约州',\n",
       " '华盛顿州',\n",
       " '怀俄明',\n",
       " '犹他',\n",
       " '佛罗里达',\n",
       " '中央情报局',\n",
       " '美国海军',\n",
       " '美国宇航局',\n",
       " '白宫',\n",
       " '檀香山',\n",
       " '内布拉斯加',\n",
       " '麻萨诸塞',\n",
       " '田纳西',\n",
       " '乔治亚',\n",
       " '国会',\n",
       " '国务院',\n",
       " '俄克拉何马',\n",
       " '克林顿',\n",
       " '亚特兰大',\n",
       " '马里兰',\n",
       " '爱达荷',\n",
       " '美国国旗',\n",
       " '华盛顿',\n",
       " '尼克松',\n",
       " '美籍',\n",
       " 'IBM',\n",
       " '珍珠港',\n",
       " '道琼斯',\n",
       " '共和党',\n",
       " '奥马哈',\n",
       " '达拉斯',\n",
       " 'TMD',\n",
       " '民主党',\n",
       " '美分',\n",
       " '五角大楼',\n",
       " '芝加哥',\n",
       " '密苏里',\n",
       " '华尔街',\n",
       " '福特',\n",
       " '三K党',\n",
       " '国情咨文',\n",
       " '林肯',\n",
       " '联邦调查局',\n",
       " '战区导弹防御系统',\n",
       " '俄勒冈',\n",
       " '新罕布什尔',\n",
       " '波士顿',\n",
       " '合众社',\n",
       " '火奴鲁鲁',\n",
       " '佛蒙特',\n",
       " '国家导弹防御系统',\n",
       " '南达科他',\n",
       " '明尼苏达',\n",
       " '特拉华',\n",
       " '参议员',\n",
       " '迈阿密',\n",
       " '亚拉巴马',\n",
       " '堪萨斯',\n",
       " '罗德岛',\n",
       " '洛杉矶',\n",
       " '美联社',\n",
       " '缅因',\n",
       " '曼哈顿',\n",
       " '新墨西哥',\n",
       " '矽谷',\n",
       " '美籍华人',\n",
       " '底特律',\n",
       " '伊利诺斯',\n",
       " '纽约',\n",
       " '艾森豪威尔',\n",
       " '宾夕法尼亚',\n",
       " '新泽西',\n",
       " '北卡罗来纳',\n",
       " '肯尼迪']"
      ]
     },
     "execution_count": 151,
     "metadata": {},
     "output_type": "execute_result"
    }
   ],
   "source": [
    "word = '美国'\n",
    "\n",
    "def lower_words(word):\n",
    "    with sqlite3.connect('./how_net.db') as conn:\n",
    "        sql = '''\n",
    "            select distinct b.* from how_net a, how_net b\n",
    "            where a.W_C = ? and b.UPPER = a.W_C'''\n",
    "        rst = conn.execute(sql, (word,)).fetchall()\n",
    "    conn.close()\n",
    "\n",
    "    ret = set()\n",
    "    for row in rst:\n",
    "        ret.add(row[0])\n",
    "    ret = list(ret)\n",
    "    return ret\n",
    "\n",
    "lower_words(word)"
   ]
  },
  {
   "cell_type": "code",
   "execution_count": 99,
   "metadata": {},
   "outputs": [
    {
     "name": "stdout",
     "output_type": "stream",
     "text": [
      "Help on built-in function execute:\n",
      "\n",
      "execute(...) method of sqlite3.Connection instance\n",
      "    Executes a SQL statement. Non-standard.\n",
      "\n"
     ]
    }
   ],
   "source": [
    "help(conn.execute)"
   ]
  },
  {
   "cell_type": "code",
   "execution_count": 16,
   "metadata": {
    "scrolled": true
   },
   "outputs": [
    {
     "name": "stdout",
     "output_type": "stream",
     "text": [
      "q\n"
     ]
    }
   ],
   "source": [
    "while True:\n",
    "    ipt = input()\n",
    "    if ipt == 'q':\n",
    "        break\n",
    "    else:\n",
    "        im = capture_img()\n",
    "        search_ans_from_pic(im[:1200,:,:], game='baiwan')"
   ]
  },
  {
   "cell_type": "code",
   "execution_count": 17,
   "metadata": {
    "scrolled": true
   },
   "outputs": [
    {
     "name": "stdout",
     "output_type": "stream",
     "text": [
      "待机中，按回车键继续，按q退出\n",
      "\n",
      "进入等待状态……\n",
      "正在等待答题框出现，答题框相似度: 0.655504\n",
      "发现答题框，正在等待题目文字显示完成……\n",
      "正在解析……\n",
      "Parsing pic...\n",
      "http://www.baidu.com/s?q1=唐太宗的原名叫?&q2=&q3=李渊+李世民+李隆基&q4=&rn=50\n",
      "question: 唐太宗的原名叫?\n",
      "('C', '李隆基', 1.0470886528865435)\n",
      "('B', '李世民', 0.9800567626833754)\n",
      "('A', '李渊', 0.08229410852192132)\n"
     ]
    },
    {
     "data": {
      "text/html": [
       "<div class=\"result-op c-container xpath-log\" data-click=\"{'p1':'1','rsv_bdr':'0','fm':'albk',rsv_stl:''}\" data-op=\"{'y':'BDCFA92E'}\" id=\"1\" mu=\"https://baike.baidu.com/item/李隆基/274734\" srcid=\"1547\" tpl=\"bk_polysemy\">\n",
       "<h3 class=\"t c-gap-bottom-small\">\n",
       "<a href=\"http://www.baidu.com/link?url=PH617wukZM9QSWGSXpp2_KYKCXpJlSU3NRBewvr58MwpVMmRWqtfmBBYOHtZoJeishDcKyprm-qBrk2Elp9LbwXakICng7gusw1tIRzTn2CXs_Vr-DDFlpJwD8yqO6z_\" target=\"_blank\"><em>李隆基</em>_百度百科</a>\n",
       "</h3>\n",
       "<div class=\"c-row\">\n",
       "<div class=\"c-span6\">\n",
       "<a class=\"op-bk-polysemy-album op-se-listen-recommend\" href=\"http://www.baidu.com/link?url=PH617wukZM9QSWGSXpp2_KYKCXpJlSU3NRBewvr58MwpVMmRWqtfmBBYOHtZoJeishDcKyprm-qBrk2Elp9LbwXakICng7gusw1tIRzTn2CXs_Vr-DDFlpJwD8yqO6z_\" style=\"_height:141px\" target=\"_blank\">\n",
       "<img class=\"c-img c-img6\" src=\"http://t12.baidu.com/it/u=2705739359,1929909513&amp;fm=58&amp;bpow=345&amp;bpoh=439\"/>\n",
       "</a>\n",
       "</div>\n",
       "<div class=\"c-span18 c-span-last\">\n",
       "<p>主要成就：铲除韦后势力，中兴唐室，开创开元盛世</p>\n",
       "<p>\n",
       "                    简介：<em>李隆基</em>（685年9月8日—762年5月3日），即<em>唐</em>玄宗，先天元年（712年）至天宝十五年（756年）在位，因安史之乱而退位，是<em>唐</em>朝在位最长的皇帝，亦是<em>唐</em>代极盛时期的皇帝。<em>唐</em>睿宗李旦第三子，故又称李三郎，母窦德妃。大<em>唐</em>垂拱元年（685年）八月...   \n",
       "                </p>\n",
       "<p>\n",
       "<a class=\"c-gap-right-small op-se-listen-recommend\" href=\"http://www.baidu.com/link?url=3dFjtbjjVZH68QjPdYGbWAM8YnPMPaeu_IZu0htLa-GEbyWZNZEnLaL1XJs3k5s1SFaUgEkDWTAxBfTexEvojdCilKI9j4Omhscx2U0XuGn3-U9FFNbzlllFSc8SC0rO\" target=\"_blank\" title=\"人物生平\">人物生平</a>\n",
       "<a class=\"c-gap-right-small op-se-listen-recommend\" href=\"http://www.baidu.com/link?url=3dFjtbjjVZH68QjPdYGbWAM8YnPMPaeu_IZu0htLa-GEbyWZNZEnLaL1XJs3k5s1SFaUgEkDWTAxBfTexEvojdCilKI9j4Omhscx2U0XuGmrpAgNxg_ome6XrHuv0qg1\" target=\"_blank\" title=\"为政举措\">为政举措</a>\n",
       "<a class=\"c-gap-right-small op-se-listen-recommend\" href=\"http://www.baidu.com/link?url=3dFjtbjjVZH68QjPdYGbWAM8YnPMPaeu_IZu0htLa-GEbyWZNZEnLaL1XJs3k5s1SFaUgEkDWTAxBfTexEvojdCilKI9j4Omhscx2U0XuGmz1iQCx1Ox2cadO82WK61f\" target=\"_blank\" title=\"艺术成就\">艺术成就</a>\n",
       "<a class=\"c-gap-right-small op-se-listen-recommend\" href=\"http://www.baidu.com/link?url=3dFjtbjjVZH68QjPdYGbWAM8YnPMPaeu_IZu0htLa-GEbyWZNZEnLaL1XJs3k5s1SFaUgEkDWTAxBfTexEvojdCilKI9j4Omhscx2U0XuGo3pYlAPjOIv47un3Fa8-L2\" target=\"_blank\" title=\"轶事典故\">轶事典故</a>\n",
       "<a class=\"c-gap-right-small op-se-listen-recommend\" href=\"http://www.baidu.com/link?url=3dFjtbjjVZH68QjPdYGbWAM8YnPMPaeu_IZu0htLa-GEbyWZNZEnLaL1XJs3k5s1SFaUgEkDWTAxBfTexEvojdCilKI9j4Omhscx2U0XuGpQ7q32S4xF8if0jVlsXnH7\" target=\"_blank\" title=\"人物评价\">人物评价</a>\n",
       "<a class=\"op-se-listen-recommend\" href=\"http://www.baidu.com/link?url=PH617wukZM9QSWGSXpp2_KYKCXpJlSU3NRBewvr58MwpVMmRWqtfmBBYOHtZoJeishDcKyprm-qBrk2Elp9LbwXakICng7gusw1tIRzTn2CXs_Vr-DDFlpJwD8yqO6z_\" target=\"_blank\">更多&gt;&gt;</a>\n",
       "</p>\n",
       "<p class=\" op-bk-polysemy-move\"><span class=\"c-showurl\">baike.baidu.com/ </span><span class=\"c-tools\" data-tools=\"{title:'李隆基_百度百科',url:'http://baike.baidu.com/item/%E6%9D%8E%E9%9A%86%E5%9F%BA/274734?fr=aladdin'}\" id=\"tools_13646613801747686427_1\"><a class=\"c-tip-icon\"><i class=\"c-icon c-icon-triangle-down-g\"></i></a></span></p>\n",
       "</div>\n",
       "</div>\n",
       "</div>"
      ],
      "text/plain": [
       "<IPython.core.display.HTML object>"
      ]
     },
     "metadata": {},
     "output_type": "display_data"
    },
    {
     "data": {
      "text/html": [
       "<div class=\"result c-container \" data-click=\"{'rsv_bdr':'0' }\" id=\"2\" srcid=\"1528\" tpl=\"se_com_default\"><h3 class=\"t\"><a data-click=\"{\n",
       "\t\t\t'F':'778717EB',\n",
       "\t\t\t'F1':'9D73B1E4',\n",
       "\t\t\t'F2':'4CA6DE6B',\n",
       "\t\t\t'F3':'54E5242E',\n",
       "\t\t\t'T':'1516111498',\n",
       "\t\t\t\t\t\t'y':'FFCBEEEB'\n",
       "\t\t\t \n",
       "\t\t\t\t\t\t\t\t\t}\" href=\"http://www.baidu.com/link?url=17rmu0wcU5IINg9SKz2gUQ3E-XTtqmAZ0Ski3s9ac8Mrzjah1aVdFjbJD7TocFYXFde8zyeO60fSzehMs9j4va\" target=\"_blank\"><em>李世民的名是</em>什么?_百度知道</a></h3><p class=\"f13 m\">5个回答 - 提问时间: 2012年07月03日</p><div class=\"c-abstract\"><span class=\"m\">最佳答案: </span>关于“<em>李世民</em>”这个鼎鼎大名的来历,《旧唐书·本纪第二》记载:[[ 太宗文武大圣大广孝皇帝讳世民,高祖第二子也 ……高祖之临岐州,太宗时年四岁。有...</div><div class=\"f13\"><a class=\"c-showurl\" href=\"http://www.baidu.com/link?url=17rmu0wcU5IINg9SKz2gUQ3E-XTtqmAZ0Ski3s9ac8Mrzjah1aVdFjbJD7TocFYXFde8zyeO60fSzehMs9j4va\" style=\"text-decoration:none;\" target=\"_blank\">https://zhidao.baidu.com/quest... </a><div class=\"c-tools\" data-tools='{\"title\":\"李世民的名是什么?_百度知道\",\"url\":\"http://www.baidu.com/link?url=17rmu0wcU5IINg9SKz2gUQ3E-XTtqmAZ0Ski3s9ac8Mrzjah1aVdFjbJD7TocFYXFde8zyeO60fSzehMs9j4va\"}' id=\"tools_17366924882343357911_2\"><a class=\"c-tip-icon\"><i class=\"c-icon c-icon-triangle-down-g\"></i></a></div><span class=\"c-icons-outer\"><span class=\"c-icons-inner\"></span></span></div><div class=\"c-offset\"><table class=\"subLink_factory subLink_factory_right\"><tr><td class=\"first c-default \"><a href=\"http://www.baidu.com/link?url=0iv-YocP41Y027qn7DZ5EUK_vYSqpqbkvCiYynh8RscS6grv7KAlp_VAL0EQoLyAQxgHvRZSAtO-VwlFlPCIua\" target=\"_blank\"><em>唐太宗的名字是</em>什么?</a></td><td class=\"middle c-default \">5个回答</td><td class=\"last c-default rightTd\">2013-04-25</td></tr><tr><td class=\"first c-default \"><a href=\"http://www.baidu.com/link?url=PH617wukZM9QSWGSXpp2_NAcr6HimYoexWlHz3d6wAF5kCHo9Rs4r8Hv6203c058K5TVwQqCQ_3bjw8lr3lKvXrzExm2P7WLhJsHA2RxQjC\" target=\"_blank\"><em>李世民原名是</em>什么</a></td><td class=\"middle c-default \">4个回答</td><td class=\"last c-default rightTd\">2014-10-16</td></tr><tr><td class=\"first c-default \"><a href=\"http://www.baidu.com/link?url=_a13uaNBHqKvzlH1KJ6W43b72jqOjIjrl1HGzfvepZTD8eoLZD4BP7t2AUc-nhzlf6VbmDbmYF2-X4gsF5FCBq\" target=\"_blank\">唐朝<em>李世民</em>有哪些文官武将</a></td><td class=\"middle c-default \">4个回答</td><td class=\"last c-default rightTd\">2009-02-09</td></tr></table><a class=\"c\" href=\"http://www.baidu.com/link?url=9iJUWSNUUU7djKlexoEvNg4JKcVHJsD2qHu6S8BVpyZ8EyKwjMN-A3c4kTBxzrenksqx2EPgPja8SDyi4yy3q6yA4_WO0gccsHo90Evfvglp69LfvRIx8wGFx02gVHIlMPhltWpHAdidAXsbYXDk4MRHCw9oQA1jcMfQYbLeXNVv-oOC6TEbMwaaPUBOILcEFfYAQFOdfMtMvGPrQ-fa4iE_nVJMwzKqnBoyMv28YtcWRCrGBj8_Ri3tD2_tYlGLhNS0AKh-XDLrSISd52i6VK6M4NGEbTUFCHpsbbZa9zMwgIk8J-3ZcCpeItRbDebk\" target=\"_blank\">更多知道相关问题&gt;&gt;</a></div></div>"
      ],
      "text/plain": [
       "<IPython.core.display.HTML object>"
      ]
     },
     "metadata": {},
     "output_type": "display_data"
    },
    {
     "name": "stdout",
     "output_type": "stream",
     "text": [
      "完成搜索，进入待机状态\n",
      "待机中，按回车键继续，按q退出\n",
      "\n",
      "进入等待状态……\n",
      "正在等待答题框出现，答题框相似度: 0.208717\n",
      "正在等待答题框出现，答题框相似度: 0.650339\n",
      "发现答题框，正在等待题目文字显示完成……\n",
      "正在解析……\n",
      "Parsing pic...\n",
      "http://www.baidu.com/s?q1=唐太宗的原名叫?&q2=&q3=李渊+李世民+李隆基&q4=&rn=50\n",
      "question: 唐太宗的原名叫?\n",
      "('C', '李隆基', 1.0470886528865435)\n",
      "('B', '李世民', 0.9800567626833754)\n",
      "('A', '李渊', 0.08229410852192132)\n"
     ]
    },
    {
     "data": {
      "text/html": [
       "<div class=\"result-op c-container xpath-log\" data-click=\"{'p1':'1','rsv_bdr':'0','fm':'albk',rsv_stl:''}\" data-op=\"{'y':'EEBEAFFB'}\" id=\"1\" mu=\"https://baike.baidu.com/item/李隆基/274734\" srcid=\"1547\" tpl=\"bk_polysemy\">\n",
       "<h3 class=\"t c-gap-bottom-small\">\n",
       "<a href=\"http://www.baidu.com/link?url=nHV3s30Bc3AOknO2mZuI8O9tBO7L7DfOyU5p2QV7VbVp07oOUeIXcPQ21PZWL7sd-2dfJ8aMsc0kaeREvIeWyw4f7SMjJKPVh4CJuAAO78d9JLUaLUSRc4qvG3SgmwZ5\" target=\"_blank\"><em>李隆基</em>_百度百科</a>\n",
       "</h3>\n",
       "<div class=\"c-row\">\n",
       "<div class=\"c-span6\">\n",
       "<a class=\"op-bk-polysemy-album op-se-listen-recommend\" href=\"http://www.baidu.com/link?url=nHV3s30Bc3AOknO2mZuI8O9tBO7L7DfOyU5p2QV7VbVp07oOUeIXcPQ21PZWL7sd-2dfJ8aMsc0kaeREvIeWyw4f7SMjJKPVh4CJuAAO78d9JLUaLUSRc4qvG3SgmwZ5\" style=\"_height:141px\" target=\"_blank\">\n",
       "<img class=\"c-img c-img6\" src=\"http://t12.baidu.com/it/u=2705739359,1929909513&amp;fm=58&amp;bpow=345&amp;bpoh=439\"/>\n",
       "</a>\n",
       "</div>\n",
       "<div class=\"c-span18 c-span-last\">\n",
       "<p>主要成就：铲除韦后势力，中兴唐室，开创开元盛世</p>\n",
       "<p>\n",
       "                    简介：<em>李隆基</em>（685年9月8日—762年5月3日），即<em>唐</em>玄宗，先天元年（712年）至天宝十五年（756年）在位，因安史之乱而退位，是<em>唐</em>朝在位最长的皇帝，亦是<em>唐</em>代极盛时期的皇帝。<em>唐</em>睿宗李旦第三子，故又称李三郎，母窦德妃。大<em>唐</em>垂拱元年（685年）八月...   \n",
       "                </p>\n",
       "<p>\n",
       "<a class=\"c-gap-right-small op-se-listen-recommend\" href=\"http://www.baidu.com/link?url=2L5A_gqnhE6WHgvz9uqpHqMjdiKfu6_nfPe7SVfdghNjP3-GVQc9Uftu9GG0SaCpL6f56r0Nc2ZG7REB-ppMbG3q8xflQn9NgSRzy3IhCZqafNVCSRovQ51kOp5Ee52Q\" target=\"_blank\" title=\"人物生平\">人物生平</a>\n",
       "<a class=\"c-gap-right-small op-se-listen-recommend\" href=\"http://www.baidu.com/link?url=2L5A_gqnhE6WHgvz9uqpHqMjdiKfu6_nfPe7SVfdghNjP3-GVQc9Uftu9GG0SaCpL6f56r0Nc2ZG7REB-ppMbG3q8xflQn9NgSRzy3IhCZrVtDd3up9kfz_PQxdZw-25\" target=\"_blank\" title=\"为政举措\">为政举措</a>\n",
       "<a class=\"c-gap-right-small op-se-listen-recommend\" href=\"http://www.baidu.com/link?url=2L5A_gqnhE6WHgvz9uqpHqMjdiKfu6_nfPe7SVfdghNjP3-GVQc9Uftu9GG0SaCpL6f56r0Nc2ZG7REB-ppMbG3q8xflQn9NgSRzy3IhCZtE5p1HNRJyigiUxR06KnuH\" target=\"_blank\" title=\"艺术成就\">艺术成就</a>\n",
       "<a class=\"c-gap-right-small op-se-listen-recommend\" href=\"http://www.baidu.com/link?url=2L5A_gqnhE6WHgvz9uqpHqMjdiKfu6_nfPe7SVfdghNjP3-GVQc9Uftu9GG0SaCpL6f56r0Nc2ZG7REB-ppMbG3q8xflQn9NgSRzy3IhCZsJFGewqxVetfQvnbcglYqJ\" target=\"_blank\" title=\"轶事典故\">轶事典故</a>\n",
       "<a class=\"c-gap-right-small op-se-listen-recommend\" href=\"http://www.baidu.com/link?url=2L5A_gqnhE6WHgvz9uqpHqMjdiKfu6_nfPe7SVfdghNjP3-GVQc9Uftu9GG0SaCpL6f56r0Nc2ZG7REB-ppMbG3q8xflQn9NgSRzy3IhCZrKwOegsinuUlY81f8Cf7oM\" target=\"_blank\" title=\"人物评价\">人物评价</a>\n",
       "<a class=\"op-se-listen-recommend\" href=\"http://www.baidu.com/link?url=nHV3s30Bc3AOknO2mZuI8O9tBO7L7DfOyU5p2QV7VbVp07oOUeIXcPQ21PZWL7sd-2dfJ8aMsc0kaeREvIeWyw4f7SMjJKPVh4CJuAAO78d9JLUaLUSRc4qvG3SgmwZ5\" target=\"_blank\">更多&gt;&gt;</a>\n",
       "</p>\n",
       "<p class=\" op-bk-polysemy-move\"><span class=\"c-showurl\">baike.baidu.com/ </span><span class=\"c-tools\" data-tools=\"{title:'李隆基_百度百科',url:'http://baike.baidu.com/item/%E6%9D%8E%E9%9A%86%E5%9F%BA/274734?fr=aladdin'}\" id=\"tools_13646613801747686427_1\"><a class=\"c-tip-icon\"><i class=\"c-icon c-icon-triangle-down-g\"></i></a></span></p>\n",
       "</div>\n",
       "</div>\n",
       "</div>"
      ],
      "text/plain": [
       "<IPython.core.display.HTML object>"
      ]
     },
     "metadata": {},
     "output_type": "display_data"
    },
    {
     "data": {
      "text/html": [
       "<div class=\"result c-container \" data-click=\"{'rsv_bdr':'0' }\" id=\"2\" srcid=\"1528\" tpl=\"se_com_default\"><h3 class=\"t\"><a data-click=\"{\n",
       "\t\t\t'F':'778717EB',\n",
       "\t\t\t'F1':'9D73B1E4',\n",
       "\t\t\t'F2':'4CA6DE6B',\n",
       "\t\t\t'F3':'54E5242E',\n",
       "\t\t\t'T':'1516111525',\n",
       "\t\t\t\t\t\t'y':'DFDAB7DF'\n",
       "\t\t\t \n",
       "\t\t\t\t\t\t\t\t\t}\" href=\"http://www.baidu.com/link?url=BJBtKCmh2jAxIh76Ss6xks-2gRe1SH1vIL1kM7ScIGYP0QxEEvcku2qwPxrWMHs2s6flnbS8jDkkBx6U9HeKWK\" target=\"_blank\"><em>李世民的名是</em>什么?_百度知道</a></h3><p class=\"f13 m\">5个回答 - 提问时间: 2012年07月03日</p><div class=\"c-abstract\"><span class=\"m\">最佳答案: </span>关于“<em>李世民</em>”这个鼎鼎大名的来历,《旧唐书·本纪第二》记载:[[ 太宗文武大圣大广孝皇帝讳世民,高祖第二子也 ……高祖之临岐州,太宗时年四岁。有...</div><div class=\"f13\"><a class=\"c-showurl\" href=\"http://www.baidu.com/link?url=BJBtKCmh2jAxIh76Ss6xks-2gRe1SH1vIL1kM7ScIGYP0QxEEvcku2qwPxrWMHs2s6flnbS8jDkkBx6U9HeKWK\" style=\"text-decoration:none;\" target=\"_blank\">https://zhidao.baidu.com/quest... </a><div class=\"c-tools\" data-tools='{\"title\":\"李世民的名是什么?_百度知道\",\"url\":\"http://www.baidu.com/link?url=BJBtKCmh2jAxIh76Ss6xks-2gRe1SH1vIL1kM7ScIGYP0QxEEvcku2qwPxrWMHs2s6flnbS8jDkkBx6U9HeKWK\"}' id=\"tools_17366924882343357911_2\"><a class=\"c-tip-icon\"><i class=\"c-icon c-icon-triangle-down-g\"></i></a></div><span class=\"c-icons-outer\"><span class=\"c-icons-inner\"></span></span></div><div class=\"c-offset\"><table class=\"subLink_factory subLink_factory_right\"><tr><td class=\"first c-default \"><a href=\"http://www.baidu.com/link?url=5wS79etDtjTpRIyl-sDaxrIvdCo4R6f514CNtAzsETVCcxc-_ur66j7XRGVsbOddeTsh4GWLZdGpIA3aPoepma\" target=\"_blank\"><em>唐太宗的名字是</em>什么?</a></td><td class=\"middle c-default \">5个回答</td><td class=\"last c-default rightTd\">2013-04-25</td></tr><tr><td class=\"first c-default \"><a href=\"http://www.baidu.com/link?url=nHV3s30Bc3AOknO2mZuI8Z9RAeTq-uMTq0IERZlv6BLSmWtMEaaVjtzHSGmZ-40JqtsMlwSQJ266M7h1H7XhihstWHQFw6fV4AgI7o6wb8G\" target=\"_blank\"><em>李世民原名是</em>什么</a></td><td class=\"middle c-default \">4个回答</td><td class=\"last c-default rightTd\">2014-10-16</td></tr><tr><td class=\"first c-default \"><a href=\"http://www.baidu.com/link?url=XUsQ_b1vyUEJjCIAFgtlodEfcns_kNwSY8i_pcQw3vjF-b70C9Ke2lcOgqI618J_-_PtQd2hhPpnX2KGdx51Nq\" target=\"_blank\">唐朝<em>李世民</em>有哪些文官武将</a></td><td class=\"middle c-default \">4个回答</td><td class=\"last c-default rightTd\">2009-02-09</td></tr></table><a class=\"c\" href=\"http://www.baidu.com/link?url=2Js2wp75NVVSvHGWJw2oadGmwYjFyE2fM4TiTxRwA_IPBwgA8fby_ysK6E_m7FNrgJpIuudndRoznQr0Clo9YW3y6UXw1a_Bg9kzUzA6iUwDTGt9D-eVk97F8-oc-3oluWR9yPmu4Llzf5ZZhqM1HeEPVQXGNxIs3w9Qvo_4dUltbAu2r1KthjjMH2azOfUoml2LFwh4YvFjon039ncSTCV8gVMui6aCEpeZ6KrKyfWB7jcelrC0LZyQLOZ0aPGz747Df6GKK5H4DuQahRUXqwIkFCOwphybe10Yhs3oX7ep1vXXl8obC7IKpGvx1MeM\" target=\"_blank\">更多知道相关问题&gt;&gt;</a></div></div>"
      ],
      "text/plain": [
       "<IPython.core.display.HTML object>"
      ]
     },
     "metadata": {},
     "output_type": "display_data"
    },
    {
     "name": "stdout",
     "output_type": "stream",
     "text": [
      "完成搜索，进入待机状态\n",
      "待机中，按回车键继续，按q退出\n",
      "\n",
      "进入等待状态……\n",
      "正在等待答题框出现，答题框相似度: 0.232821\n",
      "正在等待答题框出现，答题框相似度: 0.733904\n",
      "发现答题框，正在等待题目文字显示完成……\n",
      "正在解析……\n",
      "Parsing pic...\n",
      "http://www.baidu.com/s?q1=人们经常通过注射外源性胰岛素的方法来治疗以下哪种疾病?&q2=&q3=高血压+糖尿病+骨质疏松&q4=&rn=50\n",
      "question: 人们经常通过注射外源性胰岛素的方法来治疗以下哪种疾病?\n",
      "('B', '糖尿病', 1.9999999999999858)\n",
      "('C', '骨质疏松', 6.103515625e-05)\n",
      "('A', '高血压', 7.629394588093419e-06)\n"
     ]
    },
    {
     "data": {
      "text/html": [
       "<div class=\"result c-container \" data-click=\"{'rsv_bdr':'0' }\" id=\"1\" srcid=\"1599\" tpl=\"se_com_default\"><h3 class=\"t\"><a data-click=\"{\n",
       "\t\t\t'F':'778717EA',\n",
       "\t\t\t'F1':'9D73F1E4',\n",
       "\t\t\t'F2':'4CA6DE6B',\n",
       "\t\t\t'F3':'54E5243F',\n",
       "\t\t\t'T':'1516111557',\n",
       "\t\t\t\t\t\t'y':'FFBFDE67'\n",
       "\t\t\t \n",
       "\t\t\t\t\t\t\t\t\t}\" href=\"http://www.baidu.com/link?url=ik6qWwC8GNPw37rD1g2-rglS0jTek-sVmqgI0Lvfi1u\" target=\"_blank\">39<em>糖尿病</em>_中国专业<em>糖尿病</em>网站_39健康网</a></h3><div class=\"c-row c-gap-top-small\"><div class=\"general_image_pic c-span6\"><a class=\"c-img6\" href=\"http://www.baidu.com/link?url=ik6qWwC8GNPw37rD1g2-rglS0jTek-sVmqgI0Lvfi1u\" style=\"height:75px\" target=\"_blank\"><img class=\"c-img c-img6\" src=\"http://i9.baidu.com/it/u=2712291626,107752129&amp;fm=85&amp;s=F4FEAF774333542450ED8CF90300D033\" style=\"height:75px;\"/></a></div><div class=\"c-span18 c-span-last\"><div class=\"c-abstract\">其实,<em>糖尿病</em>的到来是有迹可循的,<em>糖尿病</em>的早期症状主要有<em>以下</em>5种,赶快看看下文关于“<em>糖尿病</em>的早期……[详细] 病因|骨骼也能控糖 病因|得了<em>糖尿病</em>,务必先搞清...</div><div class=\"f13\"><a class=\"c-showurl\" href=\"http://www.baidu.com/link?url=ik6qWwC8GNPw37rD1g2-rglS0jTek-sVmqgI0Lvfi1u\" style=\"text-decoration:none;\" target=\"_blank\">tnb.39.net/ </a><div class=\"c-tools\" data-tools='{\"title\":\"39糖尿病_中国专业糖尿病网站_39健康网\",\"url\":\"http://www.baidu.com/link?url=ik6qWwC8GNPw37rD1g2-rglS0jTek-sVmqgI0Lvfi1u\"}' id=\"tools_7708511339385549326_1\"><a class=\"c-tip-icon\"><i class=\"c-icon c-icon-triangle-down-g\"></i></a></div><span class=\"c-icons-outer\"><span class=\"c-icons-inner\"></span></span> - <a class=\"m\" data-click=\"{'rsv_snapshot':'1'}\" href=\"http://cache.baiducontent.com/c?m=9d78d513d9d430a54f9ce4697c17c0171c4381132ba7a7020ca2843892732840506793ac56540777d9d20c6c16db3f4beb802104321453b78cb9835daabd85295f9f5642676b865664d50edfcd5124b137e658fed91ff0bb8025e5aec5a2d54323cd4475099781fb4d761edd6e800341e4b1e84e025e60ad9d35728f2f60599a3433bc50f890251f059686db4b4db33da66506e6d822c13d05c417b31e6b3332a05bc70e465744f73e27e8454d13e3ed4a962c6e4153a13eb7aeb7b2fc49fccb9a408f8acbb85f957795c6fdf900557023ed24cebccdb82a123115d8bac960c725cf89fbcc4ffe64dc075ccb4a075e7cbf6e83f3894086624df5977f8e2935552b1ddfc2638f7e671e34bc7958ef109a33f7cc614aaff780cec34552afeec47860fedae315f170&amp;p=8b2a9713828518fb08e2947d0c418a&amp;newp=c977de1ccd8b12a05abd9b7e0e17c4231610db2151d1d101298ffe0cc4241a1a1a3aecbf20201b01d8c57b6c06af485be0f13578350834f1f689df08d2ecce7e&amp;user=baidu&amp;fm=sc&amp;query=%C8%CB%C3%C7%BE%AD%B3%A3%CD%A8%B9%FD%D7%A2%C9%E4%CD%E2%D4%B4%D0%D4%D2%C8%B5%BA%CB%D8%B5%C4%B7%BD%B7%A8%C0%B4%D6%CE%C1%C6%D2%D4%CF%C2%C4%C4%D6%D6%BC%B2%B2%A1%3F+%28%B8%DF%D1%AA%D1%B9+%7C+%CC%C7%C4%F2%B2%A1+%7C+%B9%C7%D6%CA%CA%E8%CB%C9%29&amp;qid=a6d7902a0000a95b&amp;p1=1\" target=\"_blank\">百度快照</a><span class=\"c-pingjia\"> - <a class=\"m\" data-click=\"{'rsv_comments':'1'}\" data-from=\"ps_pc1\" href=\"http://www.baidu.com/tools?url=http%3A%2F%2Fwww.baidu.com%2Flink%3Furl%3Dik6qWwC8GNPw37rD1g2-rglS0jTek-sVmqgI0Lvfi1u&amp;jump=http%3A%2F%2Fkoubei.baidu.com%2Fp%2Fsentry%3Ftitle%3D%0139%02%E7%B3%96%E5%B0%BF%01%E7%97%85%03_%01%E4%B8%AD%E5%9B%BD%01%E4%B8%93%E4%B8%9A%02%E7%B3%96%E5%B0%BF%01%E7%97%85%03%E7%BD%91%E7%AB%99%01_%0139%01%E5%81%A5%E5%BA%B7%01%E7%BD%91%01%26q%3D%E4%BA%BA%E4%BB%AC%E7%BB%8F%E5%B8%B8%E9%80%9A%E8%BF%87%E6%B3%A8%E5%B0%84%E5%A4%96%E6%BA%90%E6%80%A7%E8%83%B0%E5%B2%9B%E7%B4%A0%E7%9A%84%E6%96%B9%E6%B3%95%E6%9D%A5%E6%B2%BB%E7%96%97%E4%BB%A5%E4%B8%8B%E5%93%AA%E7%A7%8D%E7%96%BE%E7%97%85%3F%20%28%E9%AB%98%E8%A1%80%E5%8E%8B%20%7C%20%E7%B3%96%E5%B0%BF%E7%97%85%20%7C%20%E9%AA%A8%26from%3Dps_pc1&amp;key=surl\" target=\"_blank\">评价</a></span></div></div></div></div>"
      ],
      "text/plain": [
       "<IPython.core.display.HTML object>"
      ]
     },
     "metadata": {},
     "output_type": "display_data"
    },
    {
     "data": {
      "text/html": [
       "<div class=\"result c-container \" data-click=\"{'rsv_bdr':'0' }\" id=\"2\" srcid=\"1599\" tpl=\"se_com_default\"><h3 class=\"t\"><a data-click=\"{\n",
       "\t\t\t'F':'778717EA',\n",
       "\t\t\t'F1':'9D73F1E4',\n",
       "\t\t\t'F2':'4CA6DE6B',\n",
       "\t\t\t'F3':'54E5243F',\n",
       "\t\t\t'T':'1516111557',\n",
       "\t\t\t\t\t\t'y':'BED3BB77'\n",
       "\t\t\t \n",
       "\t\t\t\t\t\t\t\t\t}\" href=\"http://www.baidu.com/link?url=_q-oOksW0OntC33EhlWvAaE5LxGoKckDcGZi3qGOEvV-zjhWmtd6ooO0CqE7f_vj\" target=\"_blank\"><em>糖尿病</em>_中华中医网</a></h3><div class=\"c-abstract\">肺<em>疾病</em> 食管贲门与腹部<em>疾病</em> 泌尿科<em>疾病</em> 运动系统<em>疾病</em> 节<em>骨</em>与关节<em>疾病</em> 常见皮肤病 新生儿<em>疾病</em> 婴幼儿童<em>疾病</em> 妇科<em>疾病</em> 经期<em>疾病</em> 孕产妇<em>疾病</em> 眼科<em>疾病</em> 耳鼻喉科<em>疾病</em> ...</div><div class=\"f13\"><a class=\"c-showurl\" href=\"http://www.baidu.com/link?url=_q-oOksW0OntC33EhlWvAaE5LxGoKckDcGZi3qGOEvV-zjhWmtd6ooO0CqE7f_vj\" style=\"text-decoration:none;\" target=\"_blank\">www.zhzyw.org/fmsz/t... </a><div class=\"c-tools\" data-tools='{\"title\":\"糖尿病_中华中医网\",\"url\":\"http://www.baidu.com/link?url=_q-oOksW0OntC33EhlWvAaE5LxGoKckDcGZi3qGOEvV-zjhWmtd6ooO0CqE7f_vj\"}' id=\"tools_14940224766707971450_2\"><a class=\"c-tip-icon\"><i class=\"c-icon c-icon-triangle-down-g\"></i></a></div><span class=\"c-icons-outer\"><span class=\"c-icons-inner\"></span></span> - <a class=\"m\" data-click=\"{'rsv_snapshot':'1'}\" href=\"http://cache.baiducontent.com/c?m=9f65cb4a8c8507ed4fece763105392230e54f72b669f9b5068d4e415d33146151827aba6617e4019c780212757a05e2de0e74702207221a0eacd9f4badace25f38fb5123001d913213c418dfdc3753d6539a4d99a40e93cce733e3b9a4d6c82753dd220e6df7f69c5b7003bb19e76331f4d09f5f655907bb9d2713fd4e012f882230a131f9f7436410f1f1ca2c3fd45ba076679db834c02962b204d5190c2534b73cb41f215027904a308c4e2a05e2fc2ce53d094634b738a4cfc5a19a3f9bade926e9fedcae5f8216e6d29cff663304458b25a9aacda54c625273dfdddf66d344b8ed9abe5be864c0602dad2d76381bce7ce781985783755a85f0698e3e522c3f7caba4758f62066c26db4d0fc71cd705ba99763acb9bec9fee1052de9fd20777e9accf55c76d1950ef304267db875d60649c&amp;p=882a9545d59c0bb50be2963f7f05c9&amp;newp=9f769a47839d0af708e2947e0e409d231610db2151d7d7116b82c825d7331b001c3bbfb42325120fd6c0796400ae485bebf7327637012ba3dda5c91d9fb4c57479dd797f28&amp;user=baidu&amp;fm=sc&amp;query=%C8%CB%C3%C7%BE%AD%B3%A3%CD%A8%B9%FD%D7%A2%C9%E4%CD%E2%D4%B4%D0%D4%D2%C8%B5%BA%CB%D8%B5%C4%B7%BD%B7%A8%C0%B4%D6%CE%C1%C6%D2%D4%CF%C2%C4%C4%D6%D6%BC%B2%B2%A1%3F+%28%B8%DF%D1%AA%D1%B9+%7C+%CC%C7%C4%F2%B2%A1+%7C+%B9%C7%D6%CA%CA%E8%CB%C9%29&amp;qid=a6d7902a0000a95b&amp;p1=2\" target=\"_blank\">百度快照</a></div></div>"
      ],
      "text/plain": [
       "<IPython.core.display.HTML object>"
      ]
     },
     "metadata": {},
     "output_type": "display_data"
    },
    {
     "name": "stdout",
     "output_type": "stream",
     "text": [
      "完成搜索，进入待机状态\n",
      "待机中，按回车键继续，按q退出\n",
      "\n",
      "进入等待状态……\n",
      "正在等待答题框出现，答题框相似度: 0.225316\n",
      "正在等待答题框出现，答题框相似度: 0.241717\n",
      "正在等待答题框出现，答题框相似度: 0.255894\n",
      "正在等待答题框出现，答题框相似度: 0.218208\n",
      "正在等待答题框出现，答题框相似度: 0.278355\n",
      "正在等待答题框出现，答题框相似度: 0.206802\n",
      "正在等待答题框出现，答题框相似度: 0.769741\n",
      "发现答题框，正在等待题目文字显示完成……\n",
      "正在解析……\n",
      "Parsing pic...\n",
      "http://www.baidu.com/s?q1=以下哪首不是张学友原唱的歌曲?&q2=&q3=爱如+潮水+心如刀割+《吻别》&q4=&rn=50\n"
     ]
    },
    {
     "data": {
      "text/html": [
       "<h2>疑似反向问题!!</h2>"
      ],
      "text/plain": [
       "<IPython.core.display.HTML object>"
      ]
     },
     "metadata": {},
     "output_type": "display_data"
    },
    {
     "name": "stdout",
     "output_type": "stream",
     "text": [
      "question: 以下哪首不是张学友原唱的歌曲?\n",
      "('C', '《吻别》', 1.999969480559228)\n",
      "('A', '《爱如潮水》', 0)\n",
      "('B', '《心如刀割》', 0)\n"
     ]
    },
    {
     "data": {
      "text/html": [
       "<div class=\"result c-container \" data-click=\"{'rsv_bdr':'0' ,'rsv_cd':'pt:40520|vLevel:3'}\" id=\"1\" srcid=\"1508\" tpl=\"se_st_single_video_zhanzhang\"><style>.wa-se-st-single-video-zhanzhang-play {\n",
       "    position: absolute;\n",
       "    height: 40px;\n",
       "    width: 40px;\n",
       "    top: 50%;\n",
       "    left: 50%;\n",
       "    margin: -20px 0 0 -20px;\n",
       "    background: url(data:image/png;base64,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) no-repeat;\n",
       "    background-size:40px 40px;\n",
       "}\n",
       ".wa-se-st-single-video-zhanzhang-play:hover {\n",
       "    background-image:url(data:image/png;base64,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);\n",
       "}</style><style>\n",
       "                .wa-se-st-image_single_video {overflow:hidden;position:relative;}\n",
       "                .wa-se-st-image_single_video img {height:91px;}</style><h3 class=\"t\"><a data-click=\"{'F':'F78717EA','F1':'9D73F1E4','F2':'4CA6DE6B','F3':'54E5243F','T':'1516111628','y':'FFDEFAFF'}\" href=\"http://www.baidu.com/link?url=vxHUrseW8QElUo39uH3RstzLuSBTUyiS4z_qYrqoBhaTXtJbCeJiaGrdD1-DI6C5tR1dY3Pg9ByaqsrlTa7e-K\" target=\"_blank\"><em>张学友</em>2017年520合肥演唱会5万人合唱<em>《吻别》</em>_腾讯视频</a></h3><div class=\"c-row c-gap-top-small\"><a class=\"wa-se-st-image_single_video c-span6\" href=\"http://www.baidu.com/link?url=vxHUrseW8QElUo39uH3RstzLuSBTUyiS4z_qYrqoBhaTXtJbCeJiaGrdD1-DI6C5tR1dY3Pg9ByaqsrlTa7e-K\" target=\"_blank\"><img alt=\"\" class=\"c-img c-img6\" src=\"http://t10.baidu.com/it/u=4148963073,3459383280&amp;fm=171&amp;s=6051E32AECF4181FA99AE39B0300508F&amp;w=121&amp;h=91&amp;img.JPEG&amp;bpow=496&amp;bpoh=280\"><span class=\"wa-se-st-single-video-zhanzhang-play\"></span></img></a><div class=\"c-span18 c-span-last\"><font size=\"-1\"><p class=\"m\"><i class=\"c-text-info c-text c-gap-right-small\"><b>[</b><span>视频</span><b>]</b></i>时长 02:24</p><p><em>音乐</em> 演唱会 美剧 韩剧 纪录片 微电影 新闻 体育 NBA 搞笑 游戏 原创 时尚 生活 拍客 汽车 科技 财经 房产 直播 影评 精品课 育儿 旅游 儒释道 热播榜 热搜...</p><div class=\"g\">v.qq.com/x/page/c0505zt0... <div class=\"c-tools\" data-tools='{\"title\":\"张学友2017年520合肥演唱会5万人合唱《吻别》_腾讯视频\",\"url\":\"http://www.baidu.com/link?url=vxHUrseW8QElUo39uH3RstzLuSBTUyiS4z_qYrqoBhaTXtJbCeJiaGrdD1-DI6C5tR1dY3Pg9ByaqsrlTa7e-K\"}' id=\"tools_11671060837923169074_1\"><a class=\"c-tip-icon\"><i class=\"c-icon c-icon-triangle-down-g\"></i></a></div> - <a class=\"m\" data-click=\"{'rsv_snapshot':'1'}\" href=\"http://cache.baiducontent.com/c?m=9f65cb4a8c8507ed19fa950d100b93711923c3202bd7a744228b8e028e260814107bb2b92020174c95c73d3857b8492bb0b6692c23467df7cdc79f3cddace42e38f95323011c914062c468a9dc3723d621e04d98dc0e91bfe733e3b9a2d3c82423dd52756df1839c2b0503cb1fe76236f4d79e5f142f07ccee2716fa4e0128885543a14689f7446810f280ca5d3cd45ad17662e4b834c02962b204d5190c2534b73cbb1f262c27914a308b372a04e3fc2de53d0a3734b738a4c8cba19c4d9bdc9b26e8fbdcdf2c821196d2998e664201458c27a9dabba53c145273d3dda913d333cced9cbd5b9910c0112cad2d7c381cb97c94f39824f1752af0f0698e3e53513f7bdaa404fc62046d26a94e0fc21cd705b4&amp;p=85759a4792df12a05aa5ce3853&amp;newp=827e8b15d9c15ded0cbe9b7c4d53d8254207dc357b9687787ec0c513fe200c01063dbee728261706d8c37f6204a4425ce8f731713c0224b48f8ee50b8af99d7f73de3b7624&amp;user=baidu&amp;fm=sc&amp;query=%D2%D4%CF%C2%C4%C4%CA%D7%B2%BB%CA%C7%D5%C5%D1%A7%D3%D1%D4%AD%B3%AA%B5%C4%B8%E8%C7%FA%3F+%28%B0%AE%C8%E7+%7C+%B3%B1%CB%AE+%7C+%D0%C4%C8%E7%B5%B6%B8%EE+%7C+%A1%B6%CE%C7%B1%F0%A1%B7%29&amp;qid=a5dbe12a0000b811&amp;p1=1\" target=\"_blank\">百度快照</a></div></font></div></div></div>"
      ],
      "text/plain": [
       "<IPython.core.display.HTML object>"
      ]
     },
     "metadata": {},
     "output_type": "display_data"
    },
    {
     "data": {
      "text/html": [
       "<div class=\"result c-container \" data-click=\"{'rsv_bdr':'0' }\" id=\"2\" srcid=\"1599\" tpl=\"se_com_default\"><h3 class=\"t\"><a data-click=\"{\n",
       "\t\t\t'F':'F78717EA',\n",
       "\t\t\t'F1':'9D73F1E4',\n",
       "\t\t\t'F2':'4CA6DE6B',\n",
       "\t\t\t'F3':'54E5243F',\n",
       "\t\t\t'T':'1516111628',\n",
       "\t\t\t\t\t\t'y':'FDD9FEDF'\n",
       "\t\t\t \n",
       "\t\t\t\t\t\t\t\t\t}\" href=\"http://www.baidu.com/link?url=hrVP_k6tMah_1N6dnAtnwiVBbx7binxBqsDCA9yQElH5smEdQhdN9R_sZyPEEj0CfRnahpLkmndzXnT2Yf98nK\" target=\"_blank\">老磁带 <em>张学友《吻别》</em>1993_唱片_通讯音像制品_孔夫子旧书网</a></h3><div class=\"c-abstract\"><span class=\" newTimeFactor_before_abs m\">2015年9月30日 - </span>老磁带 <em>张学友《吻别》</em>1993 20.00元 临时通知  本店主营的几千盘老磁带中,除未拆封的外,其余均为老旧二手磁带,上传前全部经过试听(非整盘试听,一般只...</div><div class=\"f13\"><a class=\"c-showurl\" href=\"http://www.baidu.com/link?url=hrVP_k6tMah_1N6dnAtnwiVBbx7binxBqsDCA9yQElH5smEdQhdN9R_sZyPEEj0CfRnahpLkmndzXnT2Yf98nK\" style=\"text-decoration:none;\" target=\"_blank\">book.kongfz.com/125793... </a><div class=\"c-tools\" data-tools='{\"title\":\"老磁带 张学友《吻别》1993_唱片_通讯音像制品_孔夫子旧书网\",\"url\":\"http://www.baidu.com/link?url=hrVP_k6tMah_1N6dnAtnwiVBbx7binxBqsDCA9yQElH5smEdQhdN9R_sZyPEEj0CfRnahpLkmndzXnT2Yf98nK\"}' id=\"tools_12991802787025408091_2\"><a class=\"c-tip-icon\"><i class=\"c-icon c-icon-triangle-down-g\"></i></a></div><span class=\"c-icons-outer\"><span class=\"c-icons-inner\"></span></span> - <a class=\"m\" data-click=\"{'rsv_snapshot':'1'}\" href=\"http://cache.baiducontent.com/c?m=9f65cb4a8c8507ed4fece76310468a3b40438014658a8c402b9c8448e435061e5a65e3bc22291119d2ce786106a54c5eeced22376a4376b88cbe885dabbd85595b9f5634671df65663d50edecd5124b137e129fed91cf0bb8025e3aec5a3af4352ba44740997818e4d0164dd19f70340e4b19838022913ad9e35728958605f9c3441c6508fe6251d7196f7ad4b3cc23da3120696df22c03905c415b31e6b3334aa5bc602465735f73b54e8444c13e2e94a945d6e4153a139b9aeb6b3fc48fdcb9a308f8ac8b85ee57795b2fdf900550650ed54b8bcbcc22a154f15aecfc917b425ccfdfbca48fe15a7072cb04a01587cce1a83f18c4082664df5977f8f5e35572d1dafb0638b77676e41bf4d1ba66fc5&amp;p=85759a4792df12a05aa5ce3853&amp;newp=827e8b15d9c15ded0cbe9b7c4d53d8254207dc357b9687787dc0c513fe200c01063dbee728261706d9c47e6305ae4e5debf330763c0223b68f8ee50b8af99d7f73de3b7624&amp;user=baidu&amp;fm=sc&amp;query=%D2%D4%CF%C2%C4%C4%CA%D7%B2%BB%CA%C7%D5%C5%D1%A7%D3%D1%D4%AD%B3%AA%B5%C4%B8%E8%C7%FA%3F+%28%B0%AE%C8%E7+%7C+%B3%B1%CB%AE+%7C+%D0%C4%C8%E7%B5%B6%B8%EE+%7C+%A1%B6%CE%C7%B1%F0%A1%B7%29&amp;qid=a5dbe12a0000b811&amp;p1=2\" target=\"_blank\">百度快照</a></div></div>"
      ],
      "text/plain": [
       "<IPython.core.display.HTML object>"
      ]
     },
     "metadata": {},
     "output_type": "display_data"
    },
    {
     "name": "stdout",
     "output_type": "stream",
     "text": [
      "完成搜索，进入待机状态\n",
      "待机中，按回车键继续，按q退出\n",
      "\n",
      "进入等待状态……\n",
      "正在等待答题框出现，答题框相似度: 0.790024\n",
      "发现答题框，正在等待题目文字显示完成……\n",
      "正在解析……\n",
      "Parsing pic...\n",
      "http://www.baidu.com/s?q1=相对原子质量最小的稀有气体是?&q2=&q3=氖+氦+氪&q4=&rn=50\n",
      "question: 相对原子质量最小的稀有气体是?\n",
      "('B', '氦', 1.9018330575199798)\n",
      "('C', '氪', 0.2815164765052032)\n",
      "('A', '氖', 0.15676829405128956)\n"
     ]
    },
    {
     "data": {
      "text/html": [
       "<div class=\"result-op c-container xpath-log\" data-click=\"{'p1':'1','rsv_bdr':'0','fm':'albk',rsv_stl:''}\" data-op=\"{'y':'9BD9E86F'}\" id=\"1\" mu=\"https://baike.baidu.com/item/氦/400171\" srcid=\"1547\" tpl=\"bk_polysemy\">\n",
       "<h3 class=\"t c-gap-bottom-small\">\n",
       "<a href=\"http://www.baidu.com/link?url=nksSi69nJNhqjZuM2h0quCmr1ugi9hiF6aTeyGYurI3H6WtAflD0NLlMdepHU2D8g4qmc_0TUKth9XtqzM6qdR85Trn6RMncEpAM6bbXzqe\" target=\"_blank\"><em>氦</em>_百度百科</a>\n",
       "</h3>\n",
       "<div class=\"c-row\">\n",
       "<div class=\"c-span6\">\n",
       "<a class=\"op-bk-polysemy-album op-se-listen-recommend\" href=\"http://www.baidu.com/link?url=nksSi69nJNhqjZuM2h0quCmr1ugi9hiF6aTeyGYurI3H6WtAflD0NLlMdepHU2D8g4qmc_0TUKth9XtqzM6qdR85Trn6RMncEpAM6bbXzqe\" style=\"_height:121px\" target=\"_blank\">\n",
       "<img class=\"c-img c-img6\" src=\"http://t11.baidu.com/it/u=1881093853,2350008013&amp;fm=58&amp;bpow=140&amp;bpoh=141\"/>\n",
       "</a>\n",
       "</div>\n",
       "<div class=\"c-span18 c-span-last\">\n",
       "<p>\n",
       "<em>氦</em>（Helium），为<em>稀有气体</em>的一种。元素名来源于希腊文，原意是“太阳”。1868年法国的杨森利用分光镜观察太阳表面，发现一条新的黄色谱线，并认为是属于太阳上的某个未知元素，故名<em>氦</em>。<em>氦</em>在通常情况下为无色、无味<em>的气体</em>，是唯一不能在标准...   \n",
       "                </p>\n",
       "<p>\n",
       "<a class=\"c-gap-right-small op-se-listen-recommend\" href=\"http://www.baidu.com/link?url=nksSi69nJNhqjZuM2h0qu256hkY8AiIP8nbZMd1YmrtVspuVqRiHQ32M0q1wguH7CHViDaaPH_89_nQB2-f-US36W7XRuo4vI6yrUXNP-6i\" target=\"_blank\" title=\"研究历史\">研究历史</a>\n",
       "<a class=\"c-gap-right-small op-se-listen-recommend\" href=\"http://www.baidu.com/link?url=nksSi69nJNhqjZuM2h0qu256hkY8AiIP8nbZMd1YmrtVspuVqRiHQ32M0q1wguH7CHViDaaPH_89_nQB2-f-UNdvKH3iMoyUVelmk3Qh-y3\" target=\"_blank\" title=\"含量分布\">含量分布</a>\n",
       "<a class=\"c-gap-right-small op-se-listen-recommend\" href=\"http://www.baidu.com/link?url=nksSi69nJNhqjZuM2h0qu256hkY8AiIP8nbZMd1YmrtVspuVqRiHQ32M0q1wguH7CHViDaaPH_89_nQB2-f-UKvIqM6w1w5ZYm2TOUrHEiK\" target=\"_blank\" title=\"物理性质\">物理性质</a>\n",
       "<a class=\"c-gap-right-small op-se-listen-recommend\" href=\"http://www.baidu.com/link?url=nksSi69nJNhqjZuM2h0qu256hkY8AiIP8nbZMd1YmrtVspuVqRiHQ32M0q1wguH7CHViDaaPH_89_nQB2-f-UQ_qWZ5La1d7ha4D-hi2qe3\" target=\"_blank\" title=\"化学性质\">化学性质</a>\n",
       "<a class=\"c-gap-right-small op-se-listen-recommend\" href=\"http://www.baidu.com/link?url=nksSi69nJNhqjZuM2h0qu256hkY8AiIP8nbZMd1YmrtVspuVqRiHQ32M0q1wguH7CHViDaaPH_89_nQB2-f-UUATM8g2TuzdJmus-wv2H6K\" target=\"_blank\" title=\"同位素\">同位素</a>\n",
       "<a class=\"op-se-listen-recommend\" href=\"http://www.baidu.com/link?url=nksSi69nJNhqjZuM2h0quCmr1ugi9hiF6aTeyGYurI3H6WtAflD0NLlMdepHU2D8g4qmc_0TUKth9XtqzM6qdR85Trn6RMncEpAM6bbXzqe\" target=\"_blank\">更多&gt;&gt;</a>\n",
       "</p>\n",
       "<p class=\" op-bk-polysemy-move\"><span class=\"c-showurl\">baike.baidu.com/ </span><span class=\"c-tools\" data-tools=\"{title:'氦_百度百科',url:'http://baike.baidu.com/item/%E6%B0%A6/400171?fr=aladdin'}\" id=\"tools_7287564198548883416_1\"><a class=\"c-tip-icon\"><i class=\"c-icon c-icon-triangle-down-g\"></i></a></span></p>\n",
       "</div>\n",
       "</div>\n",
       "</div>"
      ],
      "text/plain": [
       "<IPython.core.display.HTML object>"
      ]
     },
     "metadata": {},
     "output_type": "display_data"
    },
    {
     "data": {
      "text/html": [
       "<div class=\"result c-container \" data-click=\"{'rsv_bdr':'0' }\" id=\"2\" srcid=\"1599\" tpl=\"se_com_default\"><h3 class=\"t\"><a data-click=\"{\n",
       "\t\t\t'F':'778717EA',\n",
       "\t\t\t'F1':'9D73F1E4',\n",
       "\t\t\t'F2':'4CA6DE6B',\n",
       "\t\t\t'F3':'54E5243F',\n",
       "\t\t\t'T':'1516111697',\n",
       "\t\t\t\t\t\t'y':'D3F9EF77'\n",
       "\t\t\t \n",
       "\t\t\t\t\t\t\t\t\t}\" href=\"http://www.baidu.com/link?url=5idYBiEJt_0ODNTku_bN19F_lgYyxkSM-YJeggg4FGBdYMMlu_xJIn1muppz7_6c\" target=\"_blank\"><em>氦</em>_互动百科</a></h3><div class=\"c-row c-gap-top-small\"><div class=\"general_image_pic c-span6\"><a class=\"c-img6\" href=\"http://www.baidu.com/link?url=5idYBiEJt_0ODNTku_bN19F_lgYyxkSM-YJeggg4FGBdYMMlu_xJIn1muppz7_6c\" style=\"height:75px\" target=\"_blank\"><img class=\"c-img c-img6\" src=\"http://i8.baidu.com/it/u=1518578068,286958172&amp;fm=85&amp;s=488ED812414040EE086901CB0000E032\" style=\"height:75px;\"/></a></div><div class=\"c-span18 c-span-last\"><div class=\"c-abstract\"><span class=\" newTimeFactor_before_abs m\">2015年8月16日 - </span>4 19K钾 20Ca钙 21Sc钪 22Ti钛 23V钒 24Cr铬 25Mn锰 26Fe铁 27Co钴 28Ni镍 29Cu铜 30Zn锌 31Ga镓 32Ge锗 33As砷 34Se硒 35Br溴 36Kr<em>氪</em> NMLK...</div><div class=\"f13\"><a class=\"c-showurl\" href=\"http://www.baidu.com/link?url=5idYBiEJt_0ODNTku_bN19F_lgYyxkSM-YJeggg4FGBdYMMlu_xJIn1muppz7_6c\" style=\"text-decoration:none;\" target=\"_blank\">www.baike.com/wiki/<b>氦</b> </a><div class=\"c-tools\" data-tools='{\"title\":\"氦_互动百科 \",\"url\":\"http://www.baidu.com/link?url=5idYBiEJt_0ODNTku_bN19F_lgYyxkSM-YJeggg4FGBdYMMlu_xJIn1muppz7_6c\"}' id=\"tools_17436406583318963772_2\"><a class=\"c-tip-icon\"><i class=\"c-icon c-icon-triangle-down-g\"></i></a></div><span class=\"c-icons-outer\"><span class=\"c-icons-inner\"></span></span> - <a class=\"m\" data-click=\"{'rsv_snapshot':'1'}\" href=\"http://cache.baiducontent.com/c?m=9d78d513d9d430db4f9a96697d12c0101f4381132ba1d6020ca2843e96732d40506793ac51260775a0d20d6416df3d4beb802104321457c08cc9f85dabb9855b2c9f2644676c815663d50eaebb5154b537e359fed918f0ccf22592dec5a2db4327c044740b97878c4d0164dd1e830340e6b19939022e16ad9c4372ff286059ec3433b050f9912519779686db480b8374df3b57d1ed22b14d0fa856e15a0c2433f01fea51063130971e7aa059785fcbb040f05d7d5753b45fc0bd&amp;p=882a9546d69902e84ebe9b7c1b0e8f&amp;newp=8b2a97119d9400be02bd9b7e0e169e231610db2151d4d4166b82c825d7331b001c3bbfb42325120fd6c17f6304ac4f59e9f1347033012ba3dda5c91d9fb4c57479dc6c63310ddc&amp;user=baidu&amp;fm=sc&amp;query=%CF%E0%B6%D4%D4%AD%D7%D3%D6%CA%C1%BF%D7%EE%D0%A1%B5%C4%CF%A1%D3%D0%C6%F8%CC%E5%CA%C7%3F+%28%C4%CA+%7C+%BA%A4+%7C+%EB%B4%29&amp;qid=fa07ebba0000b087&amp;p1=2\" target=\"_blank\">百度快照</a></div></div></div></div>"
      ],
      "text/plain": [
       "<IPython.core.display.HTML object>"
      ]
     },
     "metadata": {},
     "output_type": "display_data"
    },
    {
     "name": "stdout",
     "output_type": "stream",
     "text": [
      "完成搜索，进入待机状态\n",
      "待机中，按回车键继续，按q退出\n",
      "\n",
      "进入等待状态……\n",
      "正在等待答题框出现，答题框相似度: 0.265058\n",
      "正在等待答题框出现，答题框相似度: 0.221446\n",
      "正在等待答题框出现，答题框相似度: 0.151815\n",
      "正在等待答题框出现，答题框相似度: 0.235856\n",
      "正在等待答题框出现，答题框相似度: 0.226434\n",
      "正在等待答题框出现，答题框相似度: 0.199557\n",
      "正在等待答题框出现，答题框相似度: 0.214228\n",
      "正在等待答题框出现，答题框相似度: 0.770567\n",
      "发现答题框，正在等待题目文字显示完成……\n",
      "正在解析……\n",
      "Parsing pic...\n",
      "http://www.baidu.com/s?q1=毛泽东诗句“虎踞龙盘今胜昔\"说的是哪个城市?&q2=&q3=长沙+贵阳+南京&q4=&rn=50\n",
      "question: 毛泽东诗句“虎踞龙盘今胜昔\"说的是哪个城市?\n",
      "('C', '南京', 1.9843597412109375)\n",
      "('A', '长沙', 0)\n",
      "('B', '贵阳', 0)\n"
     ]
    },
    {
     "data": {
      "text/html": [
       "<div class=\"result c-container \" data-click=\"{'rsv_bdr':'0' ,'rsv_cd':'pt:40520'}\" id=\"1\" srcid=\"1599\" tpl=\"se_com_default\"><h3 class=\"t\"><a data-click=\"{\n",
       "\t\t\t'F':'F78717EA',\n",
       "\t\t\t'F1':'9D73F1E4',\n",
       "\t\t\t'F2':'4CA6DE6B',\n",
       "\t\t\t'F3':'54E5243F',\n",
       "\t\t\t'T':'1516111756',\n",
       "\t\t\t\t\t\t'y':'C555FF6A'\n",
       "\t\t\t \n",
       "\t\t\t\t\t\t\t\t\t}\" href=\"http://www.baidu.com/link?url=Wd1h-7ApYpbJN3k5O6bgbrpp-Q0_46y2JJ9zONwBdkMx1WT7f__nezBSC_W4egKR1cJfuz50pNpO5-xJd8q7OpoZ3omPCG7jUtaqxJlqxxC\" target=\"_blank\">新华视点:<em>虎踞龙盘今胜昔</em>--写在<em>南京</em>解放60周年之际--新闻中心_...</a></h3><div class=\"c-abstract\"><span class=\" newTimeFactor_before_abs m\">2009年4月22日 - </span>新华网<em>南京</em>4月22日电(“新华视点”记者徐机玲、李灿、蔡玉高)1949年4月23日,人民解放军占领国民党政府首都<em>南京</em>,标志着旧政权的覆灭,共产党走上治理...</div><div class=\"f13\"><a class=\"c-showurl\" href=\"http://www.baidu.com/link?url=Wd1h-7ApYpbJN3k5O6bgbrpp-Q0_46y2JJ9zONwBdkMx1WT7f__nezBSC_W4egKR1cJfuz50pNpO5-xJd8q7OpoZ3omPCG7jUtaqxJlqxxC\" style=\"text-decoration:none;\" target=\"_blank\">news.china.com/zh_cn/n... </a><div class=\"c-tools\" data-tools='{\"title\":\"新华视点:虎踞龙盘今胜昔--写在南京解放60周年之际--新闻中心_...\",\"url\":\"http://www.baidu.com/link?url=Wd1h-7ApYpbJN3k5O6bgbrpp-Q0_46y2JJ9zONwBdkMx1WT7f__nezBSC_W4egKR1cJfuz50pNpO5-xJd8q7OpoZ3omPCG7jUtaqxJlqxxC\"}' id=\"tools_5837128490336409171_1\"><a class=\"c-tip-icon\"><i class=\"c-icon c-icon-triangle-down-g\"></i></a></div><span class=\"c-icons-outer\"><span class=\"c-icons-inner\"></span></span> - <a class=\"m\" data-click=\"{'rsv_snapshot':'1'}\" href=\"http://cache.baiducontent.com/c?m=9f65cb4a8c8507ed4fece763104a8023584380146d8d8b492cc3933fc239045c0f3cf4bc53734c198f92392602ad4b41e9f334733d082abc86c88a48d6b994282f952433761a804711d90eafbc1c639e7e841fb4ef4fe8ad813384dda2c4a95244be52120a84e7f82a1715ba7881672690d68e38624867bcfa3014e829073eec2357c630ee97317906f1e1ac5f5bb759c7606180de32a74f63a212d4086b5253d44fa609213141935854f9533c74859a2af05e7f5723c75fc2c9d6c6ec5f8dacfd419fedbaa9389410f1b499ee004767538a32cfadaac33b733508cebeda01c542ab8aedad3dec03a6634bcc5f612f1ad91b9595fc51e51351e39769e92953315801c8c775e803737845ae2918c008b173a6ff025cac9d8afb94&amp;p=8134c64ad4892ded03bd9b7c11&amp;newp=9967c64ad4b102ed00bd9b7c4653d8254207dc357b9687787ec0c513fe200c01063dbee728261706d8c37f6204a4425ce8f731713c0224b48f8ee50b8af99d7f73de55773244&amp;user=baidu&amp;fm=sc&amp;query=%C3%AB%D4%F3%B6%AB%CA%AB%BE%E4%A1%B0%BB%A2%BE%E1%C1%FA%C5%CC%BD%F1%CA%A4%CE%F4%22%CB%B5%B5%C4%CA%C7%C4%C4%B8%F6%B3%C7%CA%D0%3F+%28%B3%A4%C9%B3+%7C+%B9%F3%D1%F4+%7C+%C4%CF%BE%A9%29&amp;qid=ec8f08800000a225&amp;p1=1\" target=\"_blank\">百度快照</a></div></div>"
      ],
      "text/plain": [
       "<IPython.core.display.HTML object>"
      ]
     },
     "metadata": {},
     "output_type": "display_data"
    },
    {
     "data": {
      "text/html": [
       "<div class=\"result c-container \" data-click=\"{'rsv_bdr':'0' }\" id=\"2\" srcid=\"1599\" tpl=\"se_com_default\"><h3 class=\"t\"><a data-click=\"{\n",
       "\t\t\t'F':'F78717EA',\n",
       "\t\t\t'F1':'9D73F1E4',\n",
       "\t\t\t'F2':'4CA6DE6B',\n",
       "\t\t\t'F3':'54E5243F',\n",
       "\t\t\t'T':'1516111756',\n",
       "\t\t\t\t\t\t'y':'FEE57F56'\n",
       "\t\t\t \n",
       "\t\t\t\t\t\t\t\t\t}\" href=\"http://www.baidu.com/link?url=mBJX_1w2UsiIylwWkcWPOoCjeXELOLABEQ-uDFNywDmDstU9q5E-CtrNWesYxIQVU334KgK3A0zxTSDK4lv3eq\" target=\"_blank\"><em>南京</em> <em>虎踞龙盘</em>帝王居处</a></h3><div class=\"c-row c-gap-top-small\"><div class=\"general_image_pic c-span6\"><a class=\"c-img6\" href=\"http://www.baidu.com/link?url=mBJX_1w2UsiIylwWkcWPOoCjeXELOLABEQ-uDFNywDmDstU9q5E-CtrNWesYxIQVU334KgK3A0zxTSDK4lv3eq\" style=\"height:75px\" target=\"_blank\"><img class=\"c-img c-img6\" src=\"http://i7.baidu.com/it/u=213913677,1170778840&amp;fm=85&amp;s=801B3FD0C02542AD76042F41030000F7\" style=\"height:75px;\"/></a></div><div class=\"c-span18 c-span-last\"><div class=\"c-abstract\"><span class=\" newTimeFactor_before_abs m\">2010年6月22日 - </span>作为三国都城的其中一部分,<em>南京</em>如今已经看不到吴国的大致风貌,但是有专家指出,在三国考古以及历史研究方面,这里仍然有待进一步考究的可能,或许以后提及<em>南京</em>...</div><div class=\"f13\"><a class=\"c-showurl\" href=\"http://www.baidu.com/link?url=mBJX_1w2UsiIylwWkcWPOoCjeXELOLABEQ-uDFNywDmDstU9q5E-CtrNWesYxIQVU334KgK3A0zxTSDK4lv3eq\" style=\"text-decoration:none;\" target=\"_blank\">www.huaxia.com/zt/zhwh... </a><div class=\"c-tools\" data-tools='{\"title\":\"南京 虎踞龙盘帝王居处\",\"url\":\"http://www.baidu.com/link?url=mBJX_1w2UsiIylwWkcWPOoCjeXELOLABEQ-uDFNywDmDstU9q5E-CtrNWesYxIQVU334KgK3A0zxTSDK4lv3eq\"}' id=\"tools_3233343190668174747_2\"><a class=\"c-tip-icon\"><i class=\"c-icon c-icon-triangle-down-g\"></i></a></div><span class=\"c-icons-outer\"><span class=\"c-icons-inner\"></span></span> - <a class=\"m\" data-click=\"{'rsv_snapshot':'1'}\" href=\"http://cache.baiducontent.com/c?m=9d78d513d9d430ae4f9ee4697b10c0121843f0672ba4a0027ea48439e0732831501694ac50240704a2d20c1716dc494b9a872105341421c78cb98b5da9c885295f9f5633676df75613a30edfbd5151c237912afede6af0c9f62592dec5a2a84327cc44050b9781fb4d7013dd6e800341e4b1e84e025e60ad9c43728e5c6028ef3431b05088e6251e0d9682d94b4db33da06006e6aa22c14d05c311b31f6a3334a15bc20e46573bf73f26e8444c13e2e04a932b6e3620a13cb5aec1c7fc398acb9b458f8abcb85c9e74a185b4f62b043610ed24cdb6a0f778215202ae9099458e69efedeccd1db44bca581aa7152c6a31d36896958f21f06258e9e463f82d25262e1ddfc42eb92a2e&amp;p=9f368615d9c115fc57ef8f624b&amp;newp=8d769a47899457f108e296254b53d8254207dc357b9687787bc0c513fe200c01063dbee728261707d1c27d6602ab485bedf5317831092bb28f8ee50b8af99d7f73de78636642&amp;user=baidu&amp;fm=sc&amp;query=%C3%AB%D4%F3%B6%AB%CA%AB%BE%E4%A1%B0%BB%A2%BE%E1%C1%FA%C5%CC%BD%F1%CA%A4%CE%F4%22%CB%B5%B5%C4%CA%C7%C4%C4%B8%F6%B3%C7%CA%D0%3F+%28%B3%A4%C9%B3+%7C+%B9%F3%D1%F4+%7C+%C4%CF%BE%A9%29&amp;qid=ec8f08800000a225&amp;p1=2\" target=\"_blank\">百度快照</a></div></div></div></div>"
      ],
      "text/plain": [
       "<IPython.core.display.HTML object>"
      ]
     },
     "metadata": {},
     "output_type": "display_data"
    },
    {
     "name": "stdout",
     "output_type": "stream",
     "text": [
      "完成搜索，进入待机状态\n",
      "待机中，按回车键继续，按q退出\n",
      "\n",
      "进入等待状态……\n",
      "正在等待答题框出现，答题框相似度: 0.218916\n",
      "正在等待答题框出现，答题框相似度: 0.231622\n",
      "正在等待答题框出现，答题框相似度: 0.203084\n",
      "正在等待答题框出现，答题框相似度: 0.203231\n",
      "正在等待答题框出现，答题框相似度: 0.786702\n",
      "发现答题框，正在等待题目文字显示完成……\n",
      "正在解析……\n",
      "Parsing pic...\n",
      "http://www.baidu.com/s?q1=一般来说树枝上哪部分叶子最后枯落?&q2=&q3=树干+靠近+部分+树枝中部+树梢部分&q4=&rn=50\n",
      "question: 一般来说树枝上哪部分叶子最后枯落?\n",
      "('A', '靠近树干部分', 1.998046874067768)\n",
      "('C', '树梢部分', 1.4931001053018917)\n",
      "('B', '树枝中部', 1.0019531250004547)\n"
     ]
    },
    {
     "data": {
      "text/html": [
       "<div class=\"result c-container \" data-click=\"{'rsv_bdr':'0' }\" id=\"1\" srcid=\"1528\" tpl=\"se_com_default\"><h3 class=\"t\"><a data-click=\"{\n",
       "\t\t\t'F':'778717EA',\n",
       "\t\t\t'F1':'9D73B1E4',\n",
       "\t\t\t'F2':'4CA6DE6B',\n",
       "\t\t\t'F3':'54E5243F',\n",
       "\t\t\t'T':'1516111815',\n",
       "\t\t\t\t\t\t'y':'B6FF5B7F'\n",
       "\t\t\t \n",
       "\t\t\t\t\t\t\t\t\t}\" href=\"http://www.baidu.com/link?url=3zJCRsoadeBchMkk1ByZpZL1ZzXQwF-LzhqMCiKXfqGUW8FB8OZP8pcVvh2wv2Yvrw98WBx9A0C9oNsViN04-WR1a-t9h2GUCmtDuJo-E8C\" target=\"_blank\">秋天<em>到</em>了,<em>树枝上那部分</em>的<em>叶子最后</em>落叶_百度知道</a></h3><p class=\"f13 m\">2个回答 - 提问时间: 2015年02月08日</p><div class=\"c-abstract\"><em>树梢</em>的营养状况优于<em>树枝</em>的下部,结果就使下部<em>叶子</em>先落,顶端的<em>叶子</em>后落 本回答由网友推荐 评论 lxz56119  采纳率:81% 来自团队:生.活 擅长: 北京 购车养车 ...</div><div class=\"f13\"><a class=\"c-showurl\" href=\"http://www.baidu.com/link?url=3zJCRsoadeBchMkk1ByZpZL1ZzXQwF-LzhqMCiKXfqGUW8FB8OZP8pcVvh2wv2Yvrw98WBx9A0C9oNsViN04-WR1a-t9h2GUCmtDuJo-E8C\" style=\"text-decoration:none;\" target=\"_blank\">https://zhidao.baidu.com/quest... </a><div class=\"c-tools\" data-tools='{\"title\":\"秋天到了,树枝上那部分的叶子最后落叶_百度知道\",\"url\":\"http://www.baidu.com/link?url=3zJCRsoadeBchMkk1ByZpZL1ZzXQwF-LzhqMCiKXfqGUW8FB8OZP8pcVvh2wv2Yvrw98WBx9A0C9oNsViN04-WR1a-t9h2GUCmtDuJo-E8C\"}' id=\"tools_8721746226221026235_1\"><a class=\"c-tip-icon\"><i class=\"c-icon c-icon-triangle-down-g\"></i></a></div><span class=\"c-icons-outer\"><span class=\"c-icons-inner\"></span></span></div></div>"
      ],
      "text/plain": [
       "<IPython.core.display.HTML object>"
      ]
     },
     "metadata": {},
     "output_type": "display_data"
    },
    {
     "data": {
      "text/html": [
       "<div class=\"result c-container \" data-click=\"{'rsv_bdr':'0' }\" id=\"2\" srcid=\"1599\" tpl=\"se_com_default\"><h3 class=\"t\"><a data-click=\"{\n",
       "\t\t\t'F':'778717EA',\n",
       "\t\t\t'F1':'9D73F1E4',\n",
       "\t\t\t'F2':'4CA6DE6B',\n",
       "\t\t\t'F3':'54E5243F',\n",
       "\t\t\t'T':'1516111815',\n",
       "\t\t\t\t\t\t'y':'91BFBBBD'\n",
       "\t\t\t \n",
       "\t\t\t\t\t\t\t\t\t}\" href=\"http://www.baidu.com/link?url=4Ti1_cUggsTfYeoQ-UTL5UQjND0JI_BlJFZM-qCl5Fvk7DgwSnk-n9NoXWm2Y2-dOTqnJEy5gHhWX3cKYzHy5q\" target=\"_blank\">语文:四年级下册<em>部分</em>教案 (苏教版)_学霸学习网</a></h3><div class=\"c-abstract\">(对阿联酋人民、对自己、对同学、对那些破坏环境的人<em>??</em>你还想 对谁说) 2、老师也有话<em>要</em>说:(小黑板出示)生活在沙漠的人们,他们竭尽全力的想把沙漠改 造成...</div><div class=\"f13\"><a class=\"c-showurl\" href=\"http://www.baidu.com/link?url=4Ti1_cUggsTfYeoQ-UTL5UQjND0JI_BlJFZM-qCl5Fvk7DgwSnk-n9NoXWm2Y2-dOTqnJEy5gHhWX3cKYzHy5q\" style=\"text-decoration:none;\" target=\"_blank\">www.tceic.com/263l8111... </a><div class=\"c-tools\" data-tools='{\"title\":\"语文:四年级下册部分教案 (苏教版)_学霸学习网\",\"url\":\"http://www.baidu.com/link?url=4Ti1_cUggsTfYeoQ-UTL5UQjND0JI_BlJFZM-qCl5Fvk7DgwSnk-n9NoXWm2Y2-dOTqnJEy5gHhWX3cKYzHy5q\"}' id=\"tools_7577262999015133224_2\"><a class=\"c-tip-icon\"><i class=\"c-icon c-icon-triangle-down-g\"></i></a></div><span class=\"c-icons-outer\"><span class=\"c-icons-inner\"></span></span> - <a class=\"m\" data-click=\"{'rsv_snapshot':'1'}\" href=\"http://cache.baiducontent.com/c?m=9d78d513d9d437af4f9de4697d14c011184381132ba6d2020fd28449e3732a315016e4ac26520775a0d2086216d94d4b99f42173471451bc8cb9fc5ddccb8559299f5632671df65662d30edfbf5155c437e65efeae69f0ccf025e3aac5a5da4325cb44040a97868e4d7763dd1f830345e2b19838022f64ad9b4672fe2960589f3437b050f991251f749682d84b3cc93da16a0697de22c04a05c567b36f6d3330d15bb179465630f73f53e8343813e4ef4ae75b6e3150a13cb6aeb7b2fc3b88cbeb418f8ccfb859977796c5fd8905557023ed54cdbcc9b72a154e15afcac917b425ccfafbca38fe64d2072abe49316f35c131d2c4cd40f31147e9a22dbb3e22516e5b88e825e875073e6cf72318b51e9e7fb28d7541d8eec3d2951310f69fc2287da6aab855b71a5465b379&amp;p=86769a47c59a1de817bd9b7e0d1685&amp;newp=ce77c64ad4d206ff57ed947e5a509c231610db2151d7d1146b82c825d7331b001c3bbfb42325120fd6c0796400ae485bebf7327637012ba3dda5c91d9fb4c574799960&amp;user=baidu&amp;fm=sc&amp;query=%D2%BB%B0%E3%C0%B4%CB%B5%CA%F7%D6%A6%C9%CF%C4%C4%B2%BF%B7%D6%D2%B6%D7%D3%D7%EE%BA%F3%BF%DD%C2%E4%3F+%28%CA%F7%B8%C9+%7C+%BF%BF%BD%FC+%7C+%B2%BF%B7%D6+%7C+%CA%F7%D6%A6%D6%D0%B2%BF+%7C+%CA%F7%C9%D2%B2%BF%B7%D6%29&amp;qid=ab86ccc10000d246&amp;p1=2\" target=\"_blank\">百度快照</a></div></div>"
      ],
      "text/plain": [
       "<IPython.core.display.HTML object>"
      ]
     },
     "metadata": {},
     "output_type": "display_data"
    },
    {
     "name": "stdout",
     "output_type": "stream",
     "text": [
      "完成搜索，进入待机状态\n",
      "待机中，按回车键继续，按q退出\n",
      "q\n"
     ]
    }
   ],
   "source": [
    "game = 'baiwan'\n",
    "engine = 'baidu'\n",
    "\n",
    "STATE_STANDBY = 0\n",
    "STATE_PARSING = 1\n",
    "STATE_COOLDOWN = 2\n",
    "\n",
    "state = STATE_COOLDOWN\n",
    "\n",
    "if game == 'baiwan':\n",
    "    questionbox_template = cv2.imread('template_baiwan.jpg')\n",
    "\n",
    "while True:\n",
    "    if state == STATE_STANDBY:\n",
    "        im = capture_img()\n",
    "        \n",
    "        match = cv2.matchTemplate(im,\n",
    "            questionbox_template,\n",
    "            cv2.TM_CCOEFF_NORMED)\n",
    "        print('正在等待答题框出现，答题框相似度:', match.max())\n",
    "        if match.max() > 0.6:\n",
    "            # 等待文字显示动画完成\n",
    "            print('发现答题框，正在等待题目文字显示完成……')\n",
    "            time.sleep(0.5)\n",
    "            state = STATE_PARSING\n",
    "        else:\n",
    "            time.sleep(0.1)\n",
    "    elif state == STATE_PARSING:\n",
    "        print('正在解析……')\n",
    "        im = capture_img()\n",
    "        \n",
    "        match = cv2.matchTemplate(im,\n",
    "            questionbox_template,\n",
    "            cv2.TM_CCOEFF_NORMED)\n",
    "#         print(match)\n",
    "        if match.max() > 0.6:\n",
    "            ok = search_ans_from_pic(im[:1200,:,:], game=game)\n",
    "            \n",
    "            if ok:\n",
    "                print('完成搜索，进入待机状态')\n",
    "                state = STATE_COOLDOWN\n",
    "            else:\n",
    "                print('未找到答案，重新解析题目文本……')\n",
    "                time.sleep(0.1)\n",
    "        else:\n",
    "            print('答题框消失，进入等待状态')\n",
    "            state = STATE_STANDBY\n",
    "    elif state == STATE_COOLDOWN:\n",
    "        print('待机中，按回车键继续，按q退出')\n",
    "        ipt = input()\n",
    "        if ipt != 'q':\n",
    "            print('进入等待状态……')\n",
    "            state = STATE_STANDBY\n",
    "        else:\n",
    "            break"
   ]
  },
  {
   "cell_type": "code",
   "execution_count": 12,
   "metadata": {
    "scrolled": true
   },
   "outputs": [
    {
     "name": "stdout",
     "output_type": "stream",
     "text": [
      "http://www.baidu.com/s?q1=杨万里的《小池》中“小荷才露尖尖角\"蜻蜓,蝴蝶,蜜蜂哪种动物落在了荷花上?&q2=&q3=&q4=&rn=50\n",
      "[(蜻蜓, 5.957168237348997), (蝴蝶, 1.9823462600457467), (蜜蜂, 1.982010705891236), (, 0.0), (, 0.0), (蝶, 0.0), (, 0.0)]\n",
      "question: 杨万里的《小池》中“小荷才露尖尖角\"蜻蜓,蝴蝶,蜜蜂哪种动物落在了荷花上?\n",
      "('A', '蜻蜓', 5.957168237348997)\n",
      "('B', '蝴蝶', 1.9823462600457467)\n",
      "('C', '蜜蜂', 1.982010705891236)\n"
     ]
    },
    {
     "data": {
      "text/html": [
       "<div class=\"result c-container \" data-click=\"{'rsv_bdr':'0' ,'rsv_cd':'vLevel:1'}\" id=\"1\" srcid=\"1529\" tpl=\"se_com_default\"><h3 class=\"t\"><a data-click=\"{\n",
       "\t\t\t'F':'778717E8',\n",
       "\t\t\t'F1':'9D73F1E4',\n",
       "\t\t\t'F2':'4CA6DE6B',\n",
       "\t\t\t'F3':'54E5243D',\n",
       "\t\t\t'T':'1517904253',\n",
       "\t\t\t\t\t\t'y':'DFB695E9'\n",
       "\t\t\t \n",
       "\t\t\t\t\t\t\t\t\t}\" href=\"http://www.baidu.com/link?url=6k6_y8Rt0xZQ-VGXxEwwyVbUhkpnLN_qw-O5N4lPcyfCeo0Dj4gveSoYZoprO9LqAsBKv2NhKk22g9TnZe_vU_\" target=\"_blank\"><em>杨万里《小池》中</em>“<em>小荷才露尖尖角,</em>早有<em>蜻蜓</em>立上头”的“荷”是指...</a></h3><div class=\"c-row c-gap-top-small\"><div class=\"general_image_pic c-span6\"><a class=\"c-img6\" href=\"http://www.baidu.com/link?url=6k6_y8Rt0xZQ-VGXxEwwyVbUhkpnLN_qw-O5N4lPcyfCeo0Dj4gveSoYZoprO9LqAsBKv2NhKk22g9TnZe_vU_\" style=\"height:75px\" target=\"_blank\"><img class=\"c-img c-img6\" src=\"http://i9.baidu.com/it/u=2550556409,1878591093&amp;fm=85&amp;s=613A76D94832760759005F51030080D4\" style=\"height:75px;\"/></a></div><div class=\"c-span18 c-span-last\"><p class=\"f13 m\">7个回答 - 提问时间: 2012年05月11日</p><div class=\"c-abstract\">这个吧。答案修改下： <em>杨万里</em>作诗地点时间： <em>《小池》</em>一诗的详细写作时间和地点并未搜到，但个人认为仍可从两方面来推断。一<em>，</em>...</div><div class=\"f13\"><a class=\"c-showurl\" href=\"http://www.baidu.com/link?url=6k6_y8Rt0xZQ-VGXxEwwyVbUhkpnLN_qw-O5N4lPcyfCeo0Dj4gveSoYZoprO9LqAsBKv2NhKk22g9TnZe_vU_\" style=\"text-decoration:none;\" target=\"_blank\">https://www.zhihu.com/question... </a><div class=\"c-tools\" data-tools='{\"title\":\"杨万里《小池》中“小荷才露尖尖角,早有蜻蜓立上头”的“荷”是指...\",\"url\":\"http://www.baidu.com/link?url=6k6_y8Rt0xZQ-VGXxEwwyVbUhkpnLN_qw-O5N4lPcyfCeo0Dj4gveSoYZoprO9LqAsBKv2NhKk22g9TnZe_vU_\"}' id=\"tools_8348252784853255684_1\"><a class=\"c-tip-icon\"><i class=\"c-icon c-icon-triangle-down-g\"></i></a></div><span class=\"c-icons-outer\"><span class=\"c-icons-inner\"><span class=\"c-vline\"></span><span class=\"c-trust-as vstar \" data_key=\"12397541887370352527\" hint-data='{\"label\":\"北京智者天下科技有限公司\",\"url\":\"https://www.baidu.com/s?wd=%E5%8C%97%E4%BA%AC%E6%99%BA%E8%80%85%E5%A4%A9%E4%B8%8B%E7%A7%91%E6%8A%80%E6%9C%89%E9%99%90%E5%85%AC%E5%8F%B8@v&amp;vmp_ec=14517bee698c11a4d87fd3a3d0ld3bd6j9c3d81fb2b=b2c4Gao15aS3esdd75dyXJXf8bf554b423b8&amp;vmp_ectm=1517903367&amp;from=vs\",\"hint\":[{\"txt\":\"[ecard 73]\",\"vlevel\":\"1\"}]}' hint-type=\"vstar\"><a class=\"c-icon c-icon-v c-icon-v1\" data-click=\"{'title':'vstar','rsv_vlevel':'1'}\" href=\"https://www.baidu.com/s?wd=%E5%8C%97%E4%BA%AC%E6%99%BA%E8%80%85%E5%A4%A9%E4%B8%8B%E7%A7%91%E6%8A%80%E6%9C%89%E9%99%90%E5%85%AC%E5%8F%B8@v&amp;vmp_ec=14517bee698c11a4d87fd3a3d0ld3bd6j9c3d81fb2b=b2c4Gao15aS3esdd75dyXJXf8bf554b423b8&amp;vmp_ectm=1517903367&amp;from=vs&amp;product=v&amp;rsv_dl=0_left_v_1\" target=\"_blank\"></a></span></span></span> - <a class=\"m\" data-click=\"{'rsv_snapshot':'1'}\" href=\"http://cache.baiducontent.com/c?m=9d78d513d9d437ac4f9ae3697c60c0121943f1612ba0a4027ea4843894732a47506793ac54210774d7d27d1716d94b4b99f32102361456bd8cc9f85daeb885582a9f2644676a825664d10eafba5153c337e359fedf6af0cbfb2592dec5a3df4322cd44040a97818b4d7010dd6e80034192b1ee48022f61ad9a3072fe296059e93431b350f991251a079680a94b38c33da6620697de22c04d05c163b36f1c3330d05bb179465731f73957e8343813e5ed4ae65a6e3125a139b5aec0c6fc3e88cb9c358ffbbbb85f917795b1fd8806550726ed24cebcccb22a134315d8bac960c225ca89fbbb3cfe65d4072dca4a775f7cbe1883f3844082124d87ed7fff593557231daec760b8352e606bee785af008c106ac93330e99fd9dffd74f1ef5ded27300aff0e05ff42a5962aa7c1f4ad1f75477149b0b7d96&amp;p=9749c80c85cc43e908e2947d0b0585&amp;newp=9736c54ad6c047f840be9b7c154a8a231610db2151d4d2156b82c825d7331b001c3bbfb423251301d4c77e6607ae4e5aedf0377331012ba3dda5c91d9fb4c57479df3f&amp;user=baidu&amp;fm=sc&amp;query=%D1%EE%CD%F2%C0%EF%B5%C4%A1%B6%D0%A1%B3%D8%A1%B7%D6%D0%A1%B0%D0%A1%BA%C9%B2%C5%C2%B6%BC%E2%BC%E2%BD%C7%22%F2%DF%F2%D1%2C%BA%FB%B5%FB%2C%C3%DB%B7%E4%C4%C4%D6%D6%B6%AF%CE%EF%C2%E4%D4%DA%C1%CB%BA%C9%BB%A8%C9%CF%3F&amp;qid=ed56d87f0000e6df&amp;p1=1\" target=\"_blank\">百度快照</a></div></div></div></div>"
      ],
      "text/plain": [
       "<IPython.core.display.HTML object>"
      ]
     },
     "metadata": {},
     "output_type": "display_data"
    },
    {
     "data": {
      "text/html": [
       "<div class=\"result c-container \" data-click=\"{'rsv_bdr':'0' }\" id=\"2\" srcid=\"1599\" tpl=\"se_com_default\"><h3 class=\"t\"><a data-click=\"{\n",
       "\t\t\t'F':'378717E8',\n",
       "\t\t\t'F1':'9D73F1E4',\n",
       "\t\t\t'F2':'4CA6DE6B',\n",
       "\t\t\t'F3':'54E5243D',\n",
       "\t\t\t'T':'1517904253',\n",
       "\t\t\t\t\t\t'y':'F7F3E77D'\n",
       "\t\t\t \n",
       "\t\t\t\t\t\t\t\t\t}\" href=\"http://www.baidu.com/link?url=RKda0Fz8wzQ66DsHtPs8zEjcU2xE8lCEF70uq64B8XbOqHRnfSyRtHRzq7tT1te-kYZGgzhQJxVAECmrqEzQcZtZjVfiBMEKKnY2s-NR9t3\" target=\"_blank\">百万英雄题目及答案回顾1.14</a></h3><div class=\"c-row c-gap-top-small\"><div class=\"general_image_pic c-span6\"><a class=\"c-img6\" href=\"http://www.baidu.com/link?url=RKda0Fz8wzQ66DsHtPs8zEjcU2xE8lCEF70uq64B8XbOqHRnfSyRtHRzq7tT1te-kYZGgzhQJxVAECmrqEzQcZtZjVfiBMEKKnY2s-NR9t3\" style=\"height:75px\" target=\"_blank\"><img class=\"c-img c-img6\" src=\"http://t12.baidu.com/it/u=758278310,798377617&amp;fm=96&amp;s=73C8B70E16620EAC2491AC6C0300E058&amp;w=121&amp;h=75&amp;img.JPEG\" style=\"height:75px;\"/></a></div><div class=\"c-span18 c-span-last\"><div class=\"c-abstract\"><span class=\" newTimeFactor_before_abs m\">2018年1月17日 - </span>2、在每一年的NBA联赛之中,下列哪一系列比赛最先进行? 季前赛 3、<em>杨万里的《小池》中</em>“<em>小荷才露尖尖角</em>”<em>哪种动物落在了荷花上?</em> <em>蜻蜓</em> 4、以下哪个体育项目是...</div><div class=\"f13\"><a class=\"c-showurl\" href=\"http://www.baidu.com/link?url=RKda0Fz8wzQ66DsHtPs8zEjcU2xE8lCEF70uq64B8XbOqHRnfSyRtHRzq7tT1te-kYZGgzhQJxVAECmrqEzQcZtZjVfiBMEKKnY2s-NR9t3\" style=\"text-decoration:none;\" target=\"_blank\">https://baijiahao.baidu.com/s?... </a><div class=\"c-tools\" data-tools='{\"title\":\"百万英雄题目及答案回顾1.14\",\"url\":\"http://www.baidu.com/link?url=RKda0Fz8wzQ66DsHtPs8zEjcU2xE8lCEF70uq64B8XbOqHRnfSyRtHRzq7tT1te-kYZGgzhQJxVAECmrqEzQcZtZjVfiBMEKKnY2s-NR9t3\"}' id=\"tools_10334303126848659542_2\"><a class=\"c-tip-icon\"><i class=\"c-icon c-icon-triangle-down-g\"></i></a></div><span class=\"c-icons-outer\"><span class=\"c-icons-inner\"></span></span> - <a class=\"m\" data-click=\"{'rsv_snapshot':'1'}\" href=\"http://cache.baiducontent.com/c?m=9f65cb4a8c8507ed19fa950d100b8735420cdb3066848d027fa3c31bc8321c564711b2e6783f5113d2b1273116ae3f5fedfa3d77330725b099cf8f4fd6bd92232a8a30347459d20105d26fee891d739660875aedfb44a7adf144d1ffc696821405c54473799787fc4d7162dd1bf00340e1b1ee3c025e60ad9d37728e5f6028ef3433b55089e4256f779680df4b3fc03da06006e1a522b14e05c610b36f1e3345d05bc70c465032f74f56e8323f13e1e84a97596e3128a149c3aeb1b6fc398bcbeb418f8bcbb85f9177e7b5fd8900550752ed55cfbccab22a653515a9bcc967c125bc8bfbce4cfe62a30728ba4a002c7cce1a83f2fc4086124d84e07f8a593526591daeb2638905671f34bf491ea61eb062c088613adafd9cf8886341b8efc164768ebacf46a01e7a349d505561b8e0570702e80c6debd5b968a76b72a5de76b3101bec7d631dea95c5e9d91ca35c6db970d7e9d1cf7833ff29c01cf156c68f094a&amp;p=882a9547d6991afb2aacc7710f5580&amp;newp=8f7ac64ad4dd11a058ef946f59498b231610db2151d6d7156b82c825d7331b001c3bbfb423251301d4c0796306af425beef7327131012ba3dda5c91d9fb4c5747996&amp;user=baidu&amp;fm=sc&amp;query=%D1%EE%CD%F2%C0%EF%B5%C4%A1%B6%D0%A1%B3%D8%A1%B7%D6%D0%A1%B0%D0%A1%BA%C9%B2%C5%C2%B6%BC%E2%BC%E2%BD%C7%22%F2%DF%F2%D1%2C%BA%FB%B5%FB%2C%C3%DB%B7%E4%C4%C4%D6%D6%B6%AF%CE%EF%C2%E4%D4%DA%C1%CB%BA%C9%BB%A8%C9%CF%3F&amp;qid=ed56d87f0000e6df&amp;p1=2\" target=\"_blank\">百度快照</a></div></div></div></div>"
      ],
      "text/plain": [
       "<IPython.core.display.HTML object>"
      ]
     },
     "metadata": {},
     "output_type": "display_data"
    },
    {
     "name": "stdout",
     "output_type": "stream",
     "text": [
      "http://www.baidu.com/s?q1=中国古代历史上哪位皇帝写的诗最多?&q2=&q3=&q4=&rn=50\n",
      "question: 中国古代历史上哪位皇帝写的诗最多?\n",
      "('A', '乾隆', 0.6211586905424245)\n",
      "('B', '康熙', 0.0)\n",
      "('C', '朱元璋', 0.0)\n"
     ]
    },
    {
     "data": {
      "text/html": [
       "<div class=\"result c-container \" data-click=\"{'rsv_bdr':'0' }\" id=\"1\" srcid=\"1529\" tpl=\"se_com_default\"><h3 class=\"t\"><a data-click=\"{\n",
       "\t\t\t'F':'778317E8',\n",
       "\t\t\t'F1':'9D73F1E4',\n",
       "\t\t\t'F2':'4CA6DC6B',\n",
       "\t\t\t'F3':'54E5342D',\n",
       "\t\t\t'T':'1517904256',\n",
       "\t\t\t\t\t\t'y':'F79CEDFD'\n",
       "\t\t\t \n",
       "\t\t\t\t\t\t\t\t\t}\" href=\"http://www.baidu.com/link?url=wGLgMLsCCffhOTbtnOuMJD1Dt3wxKnXtD_8E4bD-EF14aglsyAHZJbIdmxC4g5ujVZE4Mo-Kg4D2eK4G46PQliiizgHPKt2oZKsjGCVM3ji\" target=\"_blank\"><em>历史上</em>哪个<em>皇帝的诗写的最</em>多少_百度知道</a></h3><p class=\"f13 m\">1个回答 - 提问时间: 2017年01月30日</p><div class=\"c-abstract\">钱聋十全老狗,据说是3万首垃圾打油诗。<br/><a class=\"c\" href=\"http://zhidao.baidu.com/q?ct=17&amp;pn=0&amp;tn=ikaslist&amp;rn=10&amp;word=%E4%B8%AD%E5%9B%BD%E5%8F%A4%E4%BB%A3%E5%8E%86%E5%8F%B2%E4%B8%8A%E5%93%AA%E4%BD%8D%E7%9A%87%E5%B8%9D%E5%86%99%E7%9A%84%E8%AF%97%E6%9C%80%E5%A4%9A%3F\" target=\"_blank\">更多关于中国古代历史上哪位皇帝写的诗最多?的问题&gt;&gt;</a></div><div class=\"f13\"><a class=\"c-showurl\" href=\"http://www.baidu.com/link?url=wGLgMLsCCffhOTbtnOuMJD1Dt3wxKnXtD_8E4bD-EF14aglsyAHZJbIdmxC4g5ujVZE4Mo-Kg4D2eK4G46PQliiizgHPKt2oZKsjGCVM3ji\" style=\"text-decoration:none;\" target=\"_blank\">https://zhidao.baidu.com/quest... </a><div class=\"c-tools\" data-tools='{\"title\":\"历史上哪个皇帝的诗写的最多少_百度知道\",\"url\":\"http://www.baidu.com/link?url=wGLgMLsCCffhOTbtnOuMJD1Dt3wxKnXtD_8E4bD-EF14aglsyAHZJbIdmxC4g5ujVZE4Mo-Kg4D2eK4G46PQliiizgHPKt2oZKsjGCVM3ji\"}' id=\"tools_12219703779393173408_1\"><a class=\"c-tip-icon\"><i class=\"c-icon c-icon-triangle-down-g\"></i></a></div><span class=\"c-icons-outer\"><span class=\"c-icons-inner\"></span></span> - <a class=\"m\" data-click=\"{'rsv_snapshot':'1'}\" href=\"http://cache.baiducontent.com/c?m=9f65cb4a8c8507ed19fa950d100b9f3c4202d33e2bd7a7452c8fc50f84642c101a39fef8607551428898207a02a5485bebf33474370223b190ca8c4edebd903f2fff7d722f4292044f934fa0dc3021d656924d99a40e93c9e733e3b9a2d8c82554dd23036df4839c5b7003bb6de76042f4d7ea5f655a07bb9d2714f44e065d882230a136fff74368108086ca2d3bd45aa07610e7b845c02963c604d4180c5234b74dc11f272427904930fe342a7495fc2ce13d783034c73ba4cab1a1ea389baaef26ef8ddcae5f8210e2d29dfb&amp;p=8149cc1885cc43e62abd9b7e0c1c83&amp;newp=9b6ac116d9c15de908e2947f07408023161cda386a848d0a3b8fd125976f4f171c0ba7ec67634b598fca786002aa4e5aeef53679370122b198c28249d8afd4456edf653b2740d05d54&amp;user=baidu&amp;fm=sc&amp;query=%D6%D0%B9%FA%B9%C5%B4%FA%C0%FA%CA%B7%C9%CF%C4%C4%CE%BB%BB%CA%B5%DB%D0%B4%B5%C4%CA%AB%D7%EE%B6%E0%3F&amp;qid=8e235d820000f57b&amp;p1=1\" target=\"_blank\">百度快照</a></div></div>"
      ],
      "text/plain": [
       "<IPython.core.display.HTML object>"
      ]
     },
     "metadata": {},
     "output_type": "display_data"
    },
    {
     "data": {
      "text/html": [
       "<div class=\"result c-container \" data-click=\"{'rsv_bdr':'0' }\" id=\"2\" srcid=\"1529\" tpl=\"se_com_default\"><h3 class=\"t\"><a data-click=\"{\n",
       "\t\t\t'F':'778317E8',\n",
       "\t\t\t'F1':'9D73F1E4',\n",
       "\t\t\t'F2':'4CA6DE6B',\n",
       "\t\t\t'F3':'54E5343D',\n",
       "\t\t\t'T':'1517904256',\n",
       "\t\t\t\t\t\t'y':'FDF71FDF'\n",
       "\t\t\t \n",
       "\t\t\t\t\t\t\t\t\t}\" href=\"http://www.baidu.com/link?url=zVDtqgz2HXPpYmTzI3Lz2air68dOphw0eGj0CkL2fIE-faa0IbR0Nb5gFpPjvUt5S0c4bGfMfdprKh41TBNUG7xaE-0fyXqUm8Z_CmziRge\" target=\"_blank\"><em>中国古代</em>谁<em>写的古诗最多?</em>_百度知道</a></h3><p class=\"f13 m\">7个回答 - 最新回答: 2015年10月29日</p><div class=\"c-abstract\"><span class=\"m\">最佳答案: </span><em>中国历史上</em>谁<em>写的诗最多?</em>你会说那当然是李白、杜甫或白居易吧。不,写诗最多的不是这三位大诗人,而是一<em>位皇帝</em>,那便是清朝的乾隆皇帝。集唐代诗歌大全...<br/><a class=\"c\" href=\"http://zhidao.baidu.com/q?ct=17&amp;pn=0&amp;tn=ikaslist&amp;rn=10&amp;word=%E4%B8%AD%E5%9B%BD%E5%8F%A4%E4%BB%A3%E5%8E%86%E5%8F%B2%E4%B8%8A%E5%93%AA%E4%BD%8D%E7%9A%87%E5%B8%9D%E5%86%99%E7%9A%84%E8%AF%97%E6%9C%80%E5%A4%9A%3F\" target=\"_blank\">更多关于中国古代历史上哪位皇帝写的诗最多?的问题&gt;&gt;</a></div><div class=\"f13\"><a class=\"c-showurl\" href=\"http://www.baidu.com/link?url=zVDtqgz2HXPpYmTzI3Lz2air68dOphw0eGj0CkL2fIE-faa0IbR0Nb5gFpPjvUt5S0c4bGfMfdprKh41TBNUG7xaE-0fyXqUm8Z_CmziRge\" style=\"text-decoration:none;\" target=\"_blank\">https://zhidao.baidu.com/quest... </a><div class=\"c-tools\" data-tools='{\"title\":\"中国古代谁写的古诗最多?_百度知道\",\"url\":\"http://www.baidu.com/link?url=zVDtqgz2HXPpYmTzI3Lz2air68dOphw0eGj0CkL2fIE-faa0IbR0Nb5gFpPjvUt5S0c4bGfMfdprKh41TBNUG7xaE-0fyXqUm8Z_CmziRge\"}' id=\"tools_280548949430930298_2\"><a class=\"c-tip-icon\"><i class=\"c-icon c-icon-triangle-down-g\"></i></a></div><span class=\"c-icons-outer\"><span class=\"c-icons-inner\"></span></span> - <a class=\"m\" data-click=\"{'rsv_snapshot':'1'}\" href=\"http://cache.baiducontent.com/c?m=9f65cb4a8c8507ed19fa950d100b9f3c4202d33e2bd7a7452c8fc50f84642c101a39fef8607551428898207a02ac4c5decf13d7932052abc91cc8340d9b8993f2fff7d722f4292044f934fa0dc3021d656924d99a40e93c9e733e3b9a2d8c82554dd23036df4839c5b7003bb6de76042f4d7ea5f655a07bb9d2714f44e065d882230a136fff74368108086ca2d3bd45aa07610e7b845c02963c604d4180c5234b74dc11f272427904930fe342a7495fc2ce13d783034c73ba4cab1a1ea389baaef26ef8ddcae5f8210e2d29dfb&amp;p=8149cc1885cc43e62abd9b7a0d42&amp;newp=9b6ac116d9c15de908e2907e5b419269510edb356f8acf512496fe4396700d1a2a22b4fb66794d58dcc17b6404a84c59eef7367933052bb099ca8b4fc9fdff6978ca28632c4a9a07&amp;user=baidu&amp;fm=sc&amp;query=%D6%D0%B9%FA%B9%C5%B4%FA%C0%FA%CA%B7%C9%CF%C4%C4%CE%BB%BB%CA%B5%DB%D0%B4%B5%C4%CA%AB%D7%EE%B6%E0%3F&amp;qid=8e235d820000f57b&amp;p1=2\" target=\"_blank\">百度快照</a></div></div>"
      ],
      "text/plain": [
       "<IPython.core.display.HTML object>"
      ]
     },
     "metadata": {},
     "output_type": "display_data"
    },
    {
     "name": "stdout",
     "output_type": "stream",
     "text": [
      "http://www.baidu.com/s?q1=“云想衣裳花想容春风拂槛露华浓\"是李白为下列哪一位所作?&q2=&q3=&q4=&rn=50\n",
      "question: “云想衣裳花想容春风拂槛露华浓\"是李白为下列哪一位所作?\n",
      "('A', '杨贵妃', 1.1393835181319307)\n",
      "('B', '李师师', 0.0)\n",
      "('C', '武则天', 0.0)\n"
     ]
    },
    {
     "data": {
      "text/html": [
       "<div class=\"result c-container \" data-click=\"{'rsv_bdr':'0' }\" id=\"1\" srcid=\"1529\" tpl=\"se_com_default\"><h3 class=\"t\"><a data-click=\"{\n",
       "\t\t\t'F':'778717E8',\n",
       "\t\t\t'F1':'9D73F1E4',\n",
       "\t\t\t'F2':'4CA6DE6B',\n",
       "\t\t\t'F3':'54E5343D',\n",
       "\t\t\t'T':'1517904259',\n",
       "\t\t\t\t\t\t'y':'EB7FEFA2'\n",
       "\t\t\t \n",
       "\t\t\t\t\t\t\t\t\t}\" href=\"http://www.baidu.com/link?url=-jpZMTC4NFLl4ZVZ27CUhxjaHwOdJI3NWjECIHkliEXDZzVvSf-osP8N87ynLpLFnK72_9cNcMDZu1QWhRaVulGCLQbDS9vK8ywTEh-T0oK\" target=\"_blank\">\"<em>云想衣裳花想容</em>,<em>春风拂槛露华浓</em>\"<em>李白</em>的这句诗什么意思_百度知道</a></h3><div class=\"c-row c-gap-top-small\"><div class=\"general_image_pic c-span6\"><a class=\"c-img6\" href=\"http://www.baidu.com/link?url=-jpZMTC4NFLl4ZVZ27CUhxjaHwOdJI3NWjECIHkliEXDZzVvSf-osP8N87ynLpLFnK72_9cNcMDZu1QWhRaVulGCLQbDS9vK8ywTEh-T0oK\" style=\"height:75px\" target=\"_blank\"><img class=\"c-img c-img6\" src=\"http://i7.baidu.com/it/u=1762947303,3590072131&amp;fm=85&amp;s=CA338041963355841A94F9C3030060A1\" style=\"height:75px;\"/></a></div><div class=\"c-span18 c-span-last\"><p class=\"f13 m\">1个回答 - 最新回答: 2016年05月17日 - 57人觉得有用</p><div class=\"c-abstract\"><i class=\"c-text c-text-info c-gap-icon-right-small\"><b>[</b><span>专业</span><b>]</b></i><span class=\"m\">答案:</span><em>1</em>、释义 “<em>云想衣裳花想容</em>,<em>春风拂槛露华浓</em>”意思是见云之灿烂想其衣裳之华艳,见花之艳丽想人之容貌照人。 2、原文 ...<br/><a class=\"c\" href=\"http://zhidao.baidu.com/q?ct=17&amp;pn=0&amp;tn=ikaslist&amp;rn=10&amp;word=%E2%80%9C%E4%BA%91%E6%83%B3%E8%A1%A3%E8%A3%B3%E8%8A%B1%E6%83%B3%E5%AE%B9%E6%98%A5%E9%A3%8E%E6%8B%82%E6%A7%9B%E9%9C%B2%E5%8D%8E%E6%B5%93%22%E6%98%AF%E6%9D%8E%E7%99%BD%E4%B8%BA%E4%B8%8B%E5%88%97%E5%93%AA%E4%B8%80%E4%BD%8D%E6%89%80%E4%BD%9C%3F\" target=\"_blank\">更多关于“云想衣裳花想容春风拂槛露华浓\"是李白为下列哪一位所作?的问题&gt;&gt;</a></div><div class=\"f13\"><a class=\"c-showurl\" href=\"http://www.baidu.com/link?url=-jpZMTC4NFLl4ZVZ27CUhxjaHwOdJI3NWjECIHkliEXDZzVvSf-osP8N87ynLpLFnK72_9cNcMDZu1QWhRaVulGCLQbDS9vK8ywTEh-T0oK\" style=\"text-decoration:none;\" target=\"_blank\">https://zhidao.baidu.com/quest... </a><div class=\"c-tools\" data-tools='{\"title\":\"\\\"云想衣裳花想容,春风拂槛露华浓\\\"李白的这句诗什么意思_百度知道\",\"url\":\"http://www.baidu.com/link?url=-jpZMTC4NFLl4ZVZ27CUhxjaHwOdJI3NWjECIHkliEXDZzVvSf-osP8N87ynLpLFnK72_9cNcMDZu1QWhRaVulGCLQbDS9vK8ywTEh-T0oK\"}' id=\"tools_8818949009027102801_1\"><a class=\"c-tip-icon\"><i class=\"c-icon c-icon-triangle-down-g\"></i></a></div><span class=\"c-icons-outer\"><span class=\"c-icons-inner\"></span></span> - <a class=\"m\" data-click=\"{'rsv_snapshot':'1'}\" href=\"http://cache.baiducontent.com/c?m=9f65cb4a8c8507ed19fa950d100b9f3c4202d33e2bd7a7452c8fc50f84642c101a39fef8607551428898207a05a9435de8f53578340722b19ece8d48dfbc852858d2616b2e08c31c528516b8bd4032b024875b99b86893ad874284afa2c4a95444bb53120b8be7fd591715ba7880642690ac8e49654861cefa4715e858073eee2957c031eee142797787e1ad2f5bb32fc7161480ae45a74e17a267a1081a5453d03da67c543131905856ff534d00859b2df0590a5752b15fc0b3d6b69a5ffdaffd409dedcadf38e462f1b29dee01406724ff32bfdbaac34a733671cecbae01b546ab8becad3dea03a1124bbb2d615e6dd91a92958e27e5145ae39718e9285231597dc8c304e874007840d8296cba08c105a6f8735ca8ef&amp;p=8d67c64ad4d907f92abd9b7e0c15cf&amp;newp=8b2a975b86cc41ae5ba5d33f49509723161cda386a848d0a3b8fd12597644f171c0ba7ec67634b598fca786002aa4e5aeef53679370122b198c28249d8afd4456edf653b2740d05f&amp;user=baidu&amp;fm=sc&amp;query=%A1%B0%D4%C6%CF%EB%D2%C2%C9%D1%BB%A8%CF%EB%C8%DD%B4%BA%B7%E7%B7%F7%BC%F7%C2%B6%BB%AA%C5%A8%22%CA%C7%C0%EE%B0%D7%CE%AA%CF%C2%C1%D0%C4%C4%D2%BB%CE%BB%CB%F9%D7%F7%3F&amp;qid=9be537470000fd4f&amp;p1=1\" target=\"_blank\">百度快照</a></div></div></div></div>"
      ],
      "text/plain": [
       "<IPython.core.display.HTML object>"
      ]
     },
     "metadata": {},
     "output_type": "display_data"
    },
    {
     "data": {
      "text/html": [
       "<div class=\"result c-container \" data-click=\"{'rsv_bdr':'0' }\" id=\"2\" srcid=\"1529\" tpl=\"se_com_default\"><h3 class=\"t\"><a data-click=\"{\n",
       "\t\t\t'F':'778717E8',\n",
       "\t\t\t'F1':'9D73F1E4',\n",
       "\t\t\t'F2':'4CA6DE6B',\n",
       "\t\t\t'F3':'54E5343D',\n",
       "\t\t\t'T':'1517904259',\n",
       "\t\t\t\t\t\t'y':'EABF9FFF'\n",
       "\t\t\t \n",
       "\t\t\t\t\t\t\t\t\t}\" href=\"http://www.baidu.com/link?url=zdMu86E4N3THtt2qgUEZMIi25s5plGOhYZgwL078vNSkv6xnVMAWIr-aiWenWH2DiJMrA9yoLYJeIrMXmLMPydtYntHGDBAPQyM7gZ-KUgS\" target=\"_blank\"><em>云想衣裳花想容 春风拂槛露华浓</em> <em>李白为</em>谁写的_百度知道</a></h3><p class=\"f13 m\">2个回答 - 最新回答: 2015年12月17日 - 2人觉得有用</p><div class=\"c-abstract\"><i class=\"c-text c-text-info c-gap-icon-right-small\"><b>[</b><span>专业</span><b>]</b></i><span class=\"m\">答案:</span>这两句诗是写杨贵妃(杨玉环)的。 原诗如下: 清平调·其一 <em>李白</em> <em>云想衣裳花想容</em>,<em>春风拂槛露华浓</em>。 若非群玉山头见,会向瑶台月下逢。 写作背景: ...<br/><a class=\"c\" href=\"http://zhidao.baidu.com/q?ct=17&amp;pn=0&amp;tn=ikaslist&amp;rn=10&amp;word=%E2%80%9C%E4%BA%91%E6%83%B3%E8%A1%A3%E8%A3%B3%E8%8A%B1%E6%83%B3%E5%AE%B9%E6%98%A5%E9%A3%8E%E6%8B%82%E6%A7%9B%E9%9C%B2%E5%8D%8E%E6%B5%93%22%E6%98%AF%E6%9D%8E%E7%99%BD%E4%B8%BA%E4%B8%8B%E5%88%97%E5%93%AA%E4%B8%80%E4%BD%8D%E6%89%80%E4%BD%9C%3F\" target=\"_blank\">更多关于“云想衣裳花想容春风拂槛露华浓\"是李白为下列哪一位所作?的问题&gt;&gt;</a></div><div class=\"f13\"><a class=\"c-showurl\" href=\"http://www.baidu.com/link?url=zdMu86E4N3THtt2qgUEZMIi25s5plGOhYZgwL078vNSkv6xnVMAWIr-aiWenWH2DiJMrA9yoLYJeIrMXmLMPydtYntHGDBAPQyM7gZ-KUgS\" style=\"text-decoration:none;\" target=\"_blank\">https://zhidao.baidu.com/quest... </a><div class=\"c-tools\" data-tools='{\"title\":\"云想衣裳花想容 春风拂槛露华浓 李白为谁写的_百度知道\",\"url\":\"http://www.baidu.com/link?url=zdMu86E4N3THtt2qgUEZMIi25s5plGOhYZgwL078vNSkv6xnVMAWIr-aiWenWH2DiJMrA9yoLYJeIrMXmLMPydtYntHGDBAPQyM7gZ-KUgS\"}' id=\"tools_13037386525667430328_2\"><a class=\"c-tip-icon\"><i class=\"c-icon c-icon-triangle-down-g\"></i></a></div><span class=\"c-icons-outer\"><span class=\"c-icons-inner\"></span></span> - <a class=\"m\" data-click=\"{'rsv_snapshot':'1'}\" href=\"http://cache.baiducontent.com/c?m=9f65cb4a8c8507ed19fa950d100b9f3c4202d33e2bd7a7452c8fc50f84642c101a39fef8607551428898207a01ac4f5ee8f2357434082bbc9ace884fd9bb983f2fff7d722f4292044f934fa0dc3023d651944de8df0e96cee745e3b9d3a3c82253dd22056df1fb9c2c0303cb1fe76441f4d5935f142f07cb9927128f4e765988524aa1318ff7331e10f1f0ca2c3fd45ad5766692b834c02962b004d01a0c2534b73cc01f252327e13f308e442a7496fc2d973d0a3334c74fa4cacba1eb399bad9926e9ffdcae5f8211e4d29d8e663272458c20a9aacda54c135271aadddf66d343c8ed9dba5b9817c0665ead5c06381ac87ce584985682752cf4f0188e3e23563f7ba8a4048f62711f26d94e0fc514d774c199004ecb9e98&amp;p=8b2a971790d511a058ec92275f44c1&amp;newp=b47d8316d9c133ff57ed957858518523161cda386a848d0a3b8fd12597634f171c0ba7ec67634b598fca786002aa4e5aeef53679370122b198c28249d8afd4456edf653b2740d033&amp;user=baidu&amp;fm=sc&amp;query=%A1%B0%D4%C6%CF%EB%D2%C2%C9%D1%BB%A8%CF%EB%C8%DD%B4%BA%B7%E7%B7%F7%BC%F7%C2%B6%BB%AA%C5%A8%22%CA%C7%C0%EE%B0%D7%CE%AA%CF%C2%C1%D0%C4%C4%D2%BB%CE%BB%CB%F9%D7%F7%3F&amp;qid=9be537470000fd4f&amp;p1=2\" target=\"_blank\">百度快照</a></div></div>"
      ],
      "text/plain": [
       "<IPython.core.display.HTML object>"
      ]
     },
     "metadata": {},
     "output_type": "display_data"
    },
    {
     "name": "stdout",
     "output_type": "stream",
     "text": [
      "http://www.baidu.com/s?q1=“人生自是有情痴此恨不关风与月”的作者还写过以下哪部词作?&q2=&q3=&q4=&rn=50\n"
     ]
    },
    {
     "data": {
      "text/html": [
       "<h2>疑似反向问题!!</h2>"
      ],
      "text/plain": [
       "<IPython.core.display.HTML object>"
      ]
     },
     "metadata": {},
     "output_type": "display_data"
    },
    {
     "name": "stdout",
     "output_type": "stream",
     "text": [
      "question: “人生自是有情痴此恨不关风与月”的作者还写过以下哪部词作?\n",
      "('A', '《声声慢·寻寻觅觅》', 0.0)\n",
      "('B', '《生查子元夕》', 0.0)\n",
      "('C', '《鹊桥仙·纤云弄巧》', 0.0)\n"
     ]
    },
    {
     "data": {
      "text/html": [
       "<div class=\"result c-container \" data-click=\"{'rsv_bdr':'0' ,'rsv_cd':'vLevel:3'}\" id=\"1\" srcid=\"1599\" tpl=\"se_com_default\"><h3 class=\"t\"><a data-click=\"{\n",
       "\t\t\t'F':'778717EA',\n",
       "\t\t\t'F1':'9D73F1E4',\n",
       "\t\t\t'F2':'48A6DD6B',\n",
       "\t\t\t'F3':'54E5243F',\n",
       "\t\t\t'T':'1517904261',\n",
       "\t\t\t\t\t\t'y':'AC26BFFF'\n",
       "\t\t\t \n",
       "\t\t\t\t\t\t\t\t\t}\" href=\"http://www.baidu.com/link?url=jNzSQdG9gGNcYExvdKSLQjkUEPwEUMe2kyG6HdMtU23z5g9b4joAWKK8a61-Hw-S\" target=\"_blank\">...<em>此恨不关风与月</em>”<em>的作者还写过以下哪部词作?</em>A、《声..._百度贴吧</a></h3><div class=\"c-abstract\"><span class=\" newTimeFactor_before_abs m\">2018年1月25日 - </span>#百万富翁出题官#“..#百万富翁出题官#“<em>人生自是有情痴</em>,<em>此恨不关风与月</em>”<em>的作者还写过以下哪部词作?</em>A、《声声慢·寻寻觅觅》 B、《生查子·元夕》 C...</div><div class=\"f13\"><a class=\"c-showurl\" href=\"http://www.baidu.com/link?url=jNzSQdG9gGNcYExvdKSLQjkUEPwEUMe2kyG6HdMtU23z5g9b4joAWKK8a61-Hw-S\" style=\"text-decoration:none;\" target=\"_blank\">tieba.baidu.com/p/5528... </a><div class=\"c-tools\" data-tools='{\"title\":\"...此恨不关风与月”的作者还写过以下哪部词作?A、《声..._百度贴吧\",\"url\":\"http://www.baidu.com/link?url=jNzSQdG9gGNcYExvdKSLQjkUEPwEUMe2kyG6HdMtU23z5g9b4joAWKK8a61-Hw-S\"}' id=\"tools_32891968783402092_1\"><a class=\"c-tip-icon\"><i class=\"c-icon c-icon-triangle-down-g\"></i></a></div><span class=\"c-icons-outer\"><span class=\"c-icons-inner\"><span class=\"c-vline\"></span><span class=\"c-trust-as vstar \" data_key=\"7706407786847786660\" hint-data='{\"label\":\"百度在线网络技术(北京)有限公司\",\"url\":\"https://www.baidu.com/s?wd=%E7%99%BE%E5%BA%A6%E5%9C%A8%E7%BA%BF%E7%BD%91%E7%BB%9C%E6%8A%80%E6%9C%AF%E5%8C%97%E4%BA%AC%E6%9C%89%E9%99%90%E5%85%AC%E5%8F%B8@v&amp;vmp_ec=1cce0131f32d7f5b0d93d8b9a50f1b0Nh4=LWJhXmsZfb=337baQ916ecvmXJJRpW3L7R99bd5dc7609f3088a77&amp;vmp_ectm=1517904019&amp;from=vs\",\"hint\":[{\"txt\":\"[ecard 119]\",\"vlevel\":\"3\"}]}' hint-type=\"vstar\"><a class=\"c-icon c-icon-v c-icon-v3\" data-click=\"{'title':'vstar','rsv_vlevel':'3'}\" href=\"https://www.baidu.com/s?wd=%E7%99%BE%E5%BA%A6%E5%9C%A8%E7%BA%BF%E7%BD%91%E7%BB%9C%E6%8A%80%E6%9C%AF%E5%8C%97%E4%BA%AC%E6%9C%89%E9%99%90%E5%85%AC%E5%8F%B8@v&amp;vmp_ec=1cce0131f32d7f5b0d93d8b9a50f1b0Nh4=LWJhXmsZfb=337baQ916ecvmXJJRpW3L7R99bd5dc7609f3088a77&amp;vmp_ectm=1517904019&amp;from=vs&amp;product=v&amp;rsv_dl=0_left_v_3\" target=\"_blank\"></a></span></span></span> - <a class=\"m\" data-click=\"{'rsv_snapshot':'1'}\" href=\"http://cache.baiducontent.com/c?m=9d78d513d9d430a54f9ce4697c1dc0126a4381132ba1d50209d28449e3732a325017e6ac26520772d2d20a6516ae394b9bf521053c1450b68cbe8f5ddccb8558299f5644671df65662a00ed9bc5124b137e05afedf69f0bb8025e3a5c5a5d54352ba44757f97878e4d0164dd19f1034693b19838022916ad9c3072ff286059983431b050f8902518029682d84b3ac43da6150696df22c04e05c518b31e6b3332a25bc10e462740f73f2ce8304b13939b4a912a6e3625a139c7aeb0b6fc49fccb9b378f8bcdb82ee57796c5fd8905557122ed55b8bcccc12a653515afcfc962c126fbbab2b516af5295075dc9406b6930993bc7958f20a23101a2a07ffe5e737b77179dae73f8757a6a30af351cb2&amp;p=973fc816d9c111a05bef95605c4d8c&amp;newp=99769a4786cc42ad59bcc1231c5797231611c20e3fd6c44324b9d71fd325001c1b69e3b822261a02d2c0796215e9241dbdb239256b55&amp;user=baidu&amp;fm=sc&amp;query=%A1%B0%C8%CB%C9%FA%D7%D4%CA%C7%D3%D0%C7%E9%B3%D5%B4%CB%BA%DE%B2%BB%B9%D8%B7%E7%D3%EB%D4%C2%A1%B1%B5%C4%D7%F7%D5%DF%BB%B9%D0%B4%B9%FD%D2%D4%CF%C2%C4%C4%B2%BF%B4%CA%D7%F7%3F&amp;qid=8728ab170000d900&amp;p1=1\" target=\"_blank\">百度快照</a></div></div>"
      ],
      "text/plain": [
       "<IPython.core.display.HTML object>"
      ]
     },
     "metadata": {},
     "output_type": "display_data"
    },
    {
     "data": {
      "text/html": [
       "<div class=\"result c-container \" data-click=\"{'rsv_bdr':'0' ,'rsv_cd':'pt:40520'}\" id=\"2\" srcid=\"1599\" tpl=\"se_com_default\"><h3 class=\"t\"><a data-click=\"{\n",
       "\t\t\t'F':'778717E8',\n",
       "\t\t\t'F1':'9D73F1E4',\n",
       "\t\t\t'F2':'4CA6DE6B',\n",
       "\t\t\t'F3':'54E5243D',\n",
       "\t\t\t'T':'1517904261',\n",
       "\t\t\t\t\t\t'y':'EFD7FFDE'\n",
       "\t\t\t \n",
       "\t\t\t\t\t\t\t\t\t}\" href=\"http://www.baidu.com/link?url=abP752agq0DgO8u0J1W61eMPWcW8GETVP1FPiTynuo4zRpvztHiuD-QP8E566BASA16yYPvpf9u7l4rsEnU4Bq\" target=\"_blank\">“<em>人生自是有情痴</em>,<em>此恨不关风与月</em>”出自何处<em>?作者</em>是..._爱问知识人</a></h3><div class=\"c-abstract\"><span class=\" newTimeFactor_before_abs m\">2017年10月20日 - </span>呵呵最近刚<em>写过</em>这首词的评论 这首词是<em>作者</em>离官洛阳时所作。人生之恨,但因...<em>人生自是有情痴</em>,<em>此恨不关风和月</em>。离歌且莫翻新阕。一曲能教肠寸结。直须看...</div><div class=\"f13\"><a class=\"c-showurl\" href=\"http://www.baidu.com/link?url=abP752agq0DgO8u0J1W61eMPWcW8GETVP1FPiTynuo4zRpvztHiuD-QP8E566BASA16yYPvpf9u7l4rsEnU4Bq\" style=\"text-decoration:none;\" target=\"_blank\">https://iask.sina.com.cn/b/103... </a><div class=\"c-tools\" data-tools='{\"title\":\"“人生自是有情痴,此恨不关风与月”出自何处?作者是..._爱问知识人\",\"url\":\"http://www.baidu.com/link?url=abP752agq0DgO8u0J1W61eMPWcW8GETVP1FPiTynuo4zRpvztHiuD-QP8E566BASA16yYPvpf9u7l4rsEnU4Bq\"}' id=\"tools_8923142119279429951_2\"><a class=\"c-tip-icon\"><i class=\"c-icon c-icon-triangle-down-g\"></i></a></div><span class=\"c-icons-outer\"><span class=\"c-icons-inner\"></span></span> - <a class=\"m\" data-click=\"{'rsv_snapshot':'1'}\" href=\"http://cache.baiducontent.com/c?m=9f65cb4a8c8507ed19fa950d100b8c35580d97634b968b492cc3933fc23904564711b2e73a720d07d1c47f660ba84f4bea876c34685d34f2c688de45caca983f5ef830457b0bf23205d269b8bd4332b726875b99b86894ad813784afa2c4a95544bc51127bf0e7fa5f1763c17880152695a18e49654860bcfa4115e858073eef5057c030eee142797781e1ad2c5bc25ac7111a80d93fa73f62a263a1086c2153a13ca67e5031479058268f534b02859a5df02a085753b15fc2bfd6b79b5ffad9fd459dedbda838e314f1c49aee01326722f132bfdbaac43f733504cecbae01b439ab8e9aad4d9903a1104bcc5b615e1fd91a94958e27e5135ce3966ee9285231580ac8c300e874007841ae2969c208c105a6f8735ca8ef&amp;p=882a9546d2975fee0be29634477a81&amp;newp=823fc54ad6c045e413be9b7c54558e231610db2151d7d31e6b82c825d7331b001c3bbfb423251301d4c3786201a44a57eaf2377037012ba3dda5c91d9fb4c57479c36c&amp;user=baidu&amp;fm=sc&amp;query=%A1%B0%C8%CB%C9%FA%D7%D4%CA%C7%D3%D0%C7%E9%B3%D5%B4%CB%BA%DE%B2%BB%B9%D8%B7%E7%D3%EB%D4%C2%A1%B1%B5%C4%D7%F7%D5%DF%BB%B9%D0%B4%B9%FD%D2%D4%CF%C2%C4%C4%B2%BF%B4%CA%D7%F7%3F&amp;qid=8728ab170000d900&amp;p1=2\" target=\"_blank\">百度快照</a></div></div>"
      ],
      "text/plain": [
       "<IPython.core.display.HTML object>"
      ]
     },
     "metadata": {},
     "output_type": "display_data"
    },
    {
     "name": "stdout",
     "output_type": "stream",
     "text": [
      "http://www.baidu.com/s?q1=“士不可以不弘毅任重而道远”这句论语中的名言谁说的?&q2=&q3=&q4=&rn=50\n",
      "[(孔子, 0.1679197170945359), (孟子, 0.0), (曾子, 2.535073547393177), (中国, 0.0), (中国, 0.0)]\n"
     ]
    },
    {
     "data": {
      "text/html": [
       "<h2>疑似反向问题!!</h2>"
      ],
      "text/plain": [
       "<IPython.core.display.HTML object>"
      ]
     },
     "metadata": {},
     "output_type": "display_data"
    },
    {
     "name": "stdout",
     "output_type": "stream",
     "text": [
      "question: “士不可以不弘毅任重而道远”这句论语中的名言谁说的?\n",
      "('C', '曾子', 2.535073547393177)\n",
      "('A', '孔子', 0.1679197170945359)\n",
      "('B', '孟子', 0.0)\n"
     ]
    },
    {
     "data": {
      "text/html": [
       "<div class=\"result c-container \" data-click=\"{'rsv_bdr':'0' ,'rsv_cd':'vLevel:2'}\" id=\"1\" srcid=\"1529\" tpl=\"se_com_default\"><h3 class=\"t\"><a data-click=\"{\n",
       "\t\t\t'F':'378717E8',\n",
       "\t\t\t'F1':'9D73F1E4',\n",
       "\t\t\t'F2':'4CA6DE6B',\n",
       "\t\t\t'F3':'54E5343D',\n",
       "\t\t\t'T':'1517904263',\n",
       "\t\t\t\t\t\t'y':'C75F7BB9'\n",
       "\t\t\t \n",
       "\t\t\t\t\t\t\t\t\t}\" href=\"http://www.baidu.com/link?url=nRztmvtYvLNfLbczQJkVWfOKUWVOpd_l64YpXQeCRFfX39dggvXLEO5iuMVZ1duy72ZwWmPy69283aGvsk0hexrMl8KiWIB6dZMuS8vAfq_\" target=\"_blank\"><em>《论语》</em>“<em>士不可以不弘毅</em>,<em>任重而道远</em>,不亦重乎?死而..._百度作业帮</a></h3><p class=\"f13 m\">1个回答 - 提问时间: 2014年09月18日</p><div class=\"c-abstract\"><span class=\"m\">最佳答案: </span>宝剑锋从磨砺出,梅花香自苦寒来.位卑未敢忘忧国,事定犹须待阖棺.前一句解释“<em>士不可以不弘毅</em>,”说明人要坚韧不拔,后一句解释“<em>任重而道远</em>,不亦重...</div><div class=\"f13\"><a class=\"c-showurl\" href=\"http://www.baidu.com/link?url=nRztmvtYvLNfLbczQJkVWfOKUWVOpd_l64YpXQeCRFfX39dggvXLEO5iuMVZ1duy72ZwWmPy69283aGvsk0hexrMl8KiWIB6dZMuS8vAfq_\" style=\"text-decoration:none;\" target=\"_blank\">https://www.zybang.com/questio... </a><div class=\"c-tools\" data-tools='{\"title\":\"《论语》“士不可以不弘毅,任重而道远,不亦重乎?死而..._百度作业帮\",\"url\":\"http://www.baidu.com/link?url=nRztmvtYvLNfLbczQJkVWfOKUWVOpd_l64YpXQeCRFfX39dggvXLEO5iuMVZ1duy72ZwWmPy69283aGvsk0hexrMl8KiWIB6dZMuS8vAfq_\"}' id=\"tools_8366125384024452497_1\"><a class=\"c-tip-icon\"><i class=\"c-icon c-icon-triangle-down-g\"></i></a></div><span class=\"c-icons-outer\"><span class=\"c-icons-inner\"><span class=\"c-vline\"></span><span class=\"c-trust-as vstar \" data_key=\"5854561520976348714\" hint-data='{\"label\":\"小船出海教育科技(北京)有限公司\",\"url\":\"https://www.baidu.com/s?wd=%E5%B0%8F%E8%88%B9%E5%87%BA%E6%B5%B7%E6%95%99%E8%82%B2%E7%A7%91%E6%8A%80%E5%8C%97%E4%BA%AC%E6%9C%89%E9%99%90%E5%85%AC%E5%8F%B8@v&amp;vmp_ec=770a240ea667f01f97675e741dsff23he3e78e4c8fWJtb8Y92cudm5JbX56y43aacc58Xdca062563a&amp;vmp_ectm=1517900253&amp;from=vs\",\"hint\":[{\"txt\":\"[ecard 96]\",\"vlevel\":\"2\"}]}' hint-type=\"vstar\"><a class=\"c-icon c-icon-v c-icon-v2\" data-click=\"{'title':'vstar','rsv_vlevel':'2'}\" href=\"https://www.baidu.com/s?wd=%E5%B0%8F%E8%88%B9%E5%87%BA%E6%B5%B7%E6%95%99%E8%82%B2%E7%A7%91%E6%8A%80%E5%8C%97%E4%BA%AC%E6%9C%89%E9%99%90%E5%85%AC%E5%8F%B8@v&amp;vmp_ec=770a240ea667f01f97675e741dsff23he3e78e4c8fWJtb8Y92cudm5JbX56y43aacc58Xdca062563a&amp;vmp_ectm=1517900253&amp;from=vs&amp;product=v&amp;rsv_dl=0_left_v_2\" target=\"_blank\"></a></span></span></span> - <a class=\"m\" data-click=\"{'rsv_snapshot':'1'}\" href=\"http://cache.baiducontent.com/c?m=9f65cb4a8c8507ed19fa950d100b92235c438014749c804623818448e435061e5a25a4ec66644b598fd82f3002a84f0abdf162723d0422e69dc3de4c8ebe957b7b8b2362711d844519850eafbc1c639e7e841fb4ef4fe8ad814184dea6c4de2444ba53120af0e78a2a1764be78811f2695a68e3e134811cafa4065e829073e9e5357c634ee9742797181e1aa5d5bc25ac7101b80de42a74816a265ae081a5453d048a67c5b3131905857f8534c0685ea2df05c7f5753b25fb3c8d6c0ec5ffbdcfd30e8edbbd838e266f1c49aee004267248a32c8aaaac549734472cebcda01b230abfb9cad3cee03a6164bbb2d615e6ad91fe495f954e5145ce3e618e95852315b7cc8b204e804007841af2919c108b072a6ff70&amp;p=90759a45d5c418b343be9b7c4f52c9&amp;newp=8166ce1c86cc41ac5fb9c7710f508523161cda386a848d0a3b8fd12595604f171c0ba7ec67634b598fca786002aa4e5de9f0327736002ab49cc98849d8afd4456edf653b2740d015&amp;user=baidu&amp;fm=sc&amp;query=%A1%B0%CA%BF%B2%BB%BF%C9%D2%D4%B2%BB%BA%EB%D2%E3%C8%CE%D6%D8%B6%F8%B5%C0%D4%B6%A1%B1%D5%E2%BE%E4%C2%DB%D3%EF%D6%D0%B5%C4%C3%FB%D1%D4%CB%AD%CB%B5%B5%C4%3F&amp;qid=93ec3d75000104f9&amp;p1=1\" target=\"_blank\">百度快照</a></div></div>"
      ],
      "text/plain": [
       "<IPython.core.display.HTML object>"
      ]
     },
     "metadata": {},
     "output_type": "display_data"
    },
    {
     "data": {
      "text/html": [
       "<div class=\"result c-container \" data-click=\"{'rsv_bdr':'0' }\" id=\"2\" srcid=\"1529\" tpl=\"se_com_default\"><h3 class=\"t\"><a data-click=\"{\n",
       "\t\t\t'F':'378717E8',\n",
       "\t\t\t'F1':'9D73F1E4',\n",
       "\t\t\t'F2':'4CA6DE6B',\n",
       "\t\t\t'F3':'54E5243D',\n",
       "\t\t\t'T':'1517904263',\n",
       "\t\t\t\t\t\t'y':'FCDFF1F7'\n",
       "\t\t\t \n",
       "\t\t\t\t\t\t\t\t\t}\" href=\"http://www.baidu.com/link?url=B_q66GqZQo7nWggDswqcRrqoM3cNfSIck9WPmpzA29m5Wd_74IjftW5JqZM04cXFx-fW5RzGXMkwwzNTYzDH8LMotPHyHlftBkAo56z7KlK\" target=\"_blank\">“<em>士不可以不弘毅</em>,<em>任重而道远</em>”是什么意思_百度知道</a></h3><p class=\"f13 m\">5个回答 - 最新回答: 2015年10月09日 - 18人觉得有用</p><div class=\"c-abstract\"><span class=\"m\">最佳答案: </span><em>士不可以不弘毅</em> “<em>士不可以不弘毅</em>”是《<em>论语</em>·泰伯章》<em>中的</em>曾子<em>说的</em>一句话,原文为“<em>士不可以不弘毅</em>,<em>任重而道远</em>。仁以为己任,不亦重乎?死而后已,...<br/><a class=\"c\" href=\"http://zhidao.baidu.com/q?ct=17&amp;pn=0&amp;tn=ikaslist&amp;rn=10&amp;word=%E2%80%9C%E5%A3%AB%E4%B8%8D%E5%8F%AF%E4%BB%A5%E4%B8%8D%E5%BC%98%E6%AF%85%E4%BB%BB%E9%87%8D%E8%80%8C%E9%81%93%E8%BF%9C%E2%80%9D%E8%BF%99%E5%8F%A5%E8%AE%BA%E8%AF%AD%E4%B8%AD%E7%9A%84%E5%90%8D%E8%A8%80%E8%B0%81%E8%AF%B4%E7%9A%84%3F\" target=\"_blank\">更多关于“士不可以不弘毅任重而道远”这句论语中的名言谁说的?的问题&gt;&gt;</a></div><div class=\"f13\"><a class=\"c-showurl\" href=\"http://www.baidu.com/link?url=B_q66GqZQo7nWggDswqcRrqoM3cNfSIck9WPmpzA29m5Wd_74IjftW5JqZM04cXFx-fW5RzGXMkwwzNTYzDH8LMotPHyHlftBkAo56z7KlK\" style=\"text-decoration:none;\" target=\"_blank\">https://zhidao.baidu.com/quest... </a><div class=\"c-tools\" data-tools='{\"title\":\"“士不可以不弘毅,任重而道远”是什么意思_百度知道\",\"url\":\"http://www.baidu.com/link?url=B_q66GqZQo7nWggDswqcRrqoM3cNfSIck9WPmpzA29m5Wd_74IjftW5JqZM04cXFx-fW5RzGXMkwwzNTYzDH8LMotPHyHlftBkAo56z7KlK\"}' id=\"tools_12892496047976760276_2\"><a class=\"c-tip-icon\"><i class=\"c-icon c-icon-triangle-down-g\"></i></a></div><span class=\"c-icons-outer\"><span class=\"c-icons-inner\"></span></span> - <a class=\"m\" data-click=\"{'rsv_snapshot':'1'}\" href=\"http://cache.baiducontent.com/c?m=9f65cb4a8c8507ed19fa950d100b9f3c4202d33e2bd7a7452c8fc50f84642c101a39fef8607551428898207a02a5485ceaf13679360322b19bce8f4ddab9903f2fff7d722f4292044f934fa0dc3756d650e44de8df0e97bae742e3b9d3a3c82427dd220e6df6f09c2c0603cb1fe76431f4d6e95f142f07ca9e27128f4e0129885441a14689f7436410f081ca2a48d45cda7610e7b845b42966bf04a56f0c5443b73db31f5056279649308f402a04e3fc2be03d0e4034b738a4c9b6a19c4e9bdd9a26e9fadcd95f8216e7d29d8d664300458c21a9ddbfa53c145272deddaf10d333cced9dbb5b9d64c0665fad2b70386abe7ce5f2982484755b84f0198e3e52213f0bafa404f8620169&amp;p=c93ec64ad49d07ff57ea93626140&amp;newp=882a9242949b16fc57efdf0c4e579269510edb356f8acf512496fe4291700d1a2a22b4fb66794d58dcc17b6404a84d5ce9fb35703d0324bd9dce8b4fc9fdff6978ca28632c4ac41945&amp;user=baidu&amp;fm=sc&amp;query=%A1%B0%CA%BF%B2%BB%BF%C9%D2%D4%B2%BB%BA%EB%D2%E3%C8%CE%D6%D8%B6%F8%B5%C0%D4%B6%A1%B1%D5%E2%BE%E4%C2%DB%D3%EF%D6%D0%B5%C4%C3%FB%D1%D4%CB%AD%CB%B5%B5%C4%3F&amp;qid=93ec3d75000104f9&amp;p1=2\" target=\"_blank\">百度快照</a></div></div>"
      ],
      "text/plain": [
       "<IPython.core.display.HTML object>"
      ]
     },
     "metadata": {},
     "output_type": "display_data"
    },
    {
     "name": "stdout",
     "output_type": "stream",
     "text": [
      "http://www.baidu.com/s?q1=“大河向东流哇天上的星星参北斗哇“这首歌的名字叫?&q2=&q3=&q4=&rn=50\n",
      "question: “大河向东流哇天上的星星参北斗哇“这首歌的名字叫?\n",
      "('A', '《好汉歌》', 2.9091246240173003)\n",
      "('B', '《大风歌》', 0.0)\n",
      "('C', '《男儿当自强》', 0.0)\n"
     ]
    },
    {
     "data": {
      "text/html": [
       "<div class=\"result c-container \" data-click=\"{'rsv_bdr':'0' }\" id=\"1\" srcid=\"1529\" tpl=\"se_com_default\"><h3 class=\"t\"><a data-click=\"{\n",
       "\t\t\t'F':'778717EA',\n",
       "\t\t\t'F1':'9D73F1E4',\n",
       "\t\t\t'F2':'4CA6DE6B',\n",
       "\t\t\t'F3':'54E5343F',\n",
       "\t\t\t'T':'1517904266',\n",
       "\t\t\t\t\t\t'y':'F3FE7EF1'\n",
       "\t\t\t \n",
       "\t\t\t\t\t\t\t\t\t}\" href=\"http://www.baidu.com/link?url=FaZIkD1RP66laJkvor_mWfnVVHj4-bmKF8w1X1x8ueSBqV8alFNmCD2SJWd449P6obCb4HVqcJCoJCn-5bVi2Ool4iIt1IlvCg2jLd8QpBS\" target=\"_blank\"><em>大河向东流</em>啊<em>天上的星星参北斗</em>是什么歌_百度知道</a></h3><p class=\"f13 m\">3个回答 - 最新回答: 2018年01月01日 - 21人觉得有用</p><div class=\"c-abstract\"><em>大河向东流哇天上的星星参北斗哇</em>嘿嘿 参北斗哇生死之交一碗酒哇说走咱就走哇你...<em>这首歌叫</em>什么<em>名字?</em> 8  2013-06-04 大河向东流,天上的星星参北斗吖。这是哪...<br/><a class=\"c\" href=\"http://zhidao.baidu.com/q?ct=17&amp;pn=0&amp;tn=ikaslist&amp;rn=10&amp;word=%E2%80%9C%E5%A4%A7%E6%B2%B3%E5%90%91%E4%B8%9C%E6%B5%81%E5%93%87%E5%A4%A9%E4%B8%8A%E7%9A%84%E6%98%9F%E6%98%9F%E5%8F%82%E5%8C%97%E6%96%97%E5%93%87%E2%80%9C%E8%BF%99%E9%A6%96%E6%AD%8C%E7%9A%84%E5%90%8D%E5%AD%97%E5%8F%AB%3F\" target=\"_blank\">更多关于“大河向东流哇天上的星星参北斗哇“这首歌的名字叫?的问题&gt;&gt;</a></div><div class=\"f13\"><a class=\"c-showurl\" href=\"http://www.baidu.com/link?url=FaZIkD1RP66laJkvor_mWfnVVHj4-bmKF8w1X1x8ueSBqV8alFNmCD2SJWd449P6obCb4HVqcJCoJCn-5bVi2Ool4iIt1IlvCg2jLd8QpBS\" style=\"text-decoration:none;\" target=\"_blank\">https://zhidao.baidu.com/quest... </a><div class=\"c-tools\" data-tools='{\"title\":\"大河向东流啊天上的星星参北斗是什么歌_百度知道\",\"url\":\"http://www.baidu.com/link?url=FaZIkD1RP66laJkvor_mWfnVVHj4-bmKF8w1X1x8ueSBqV8alFNmCD2SJWd449P6obCb4HVqcJCoJCn-5bVi2Ool4iIt1IlvCg2jLd8QpBS\"}' id=\"tools_4142069218275504724_1\"><a class=\"c-tip-icon\"><i class=\"c-icon c-icon-triangle-down-g\"></i></a></div><span class=\"c-icons-outer\"><span class=\"c-icons-inner\"></span></span> - <a class=\"m\" data-click=\"{'rsv_snapshot':'1'}\" href=\"http://cache.baiducontent.com/c?m=9d78d513d9d431a94f9995697d65c010184381132ba6a4020bd4843897732831506793ac56210770d6d27d1716de3f4b9c802173471451c68cbff95dacb085595b9f2644676c815663d50eaebb5153c337e15ffed91bf0cbf52592dec5a3df4322bd44040a9780884d7017dd1ff40341e6b19838022e66ad9b4072ff28605f983437b650f890251f749680d84b4db33da06b06e0a522b14e05c514b36e1d3345d05bc009465240f73922e8323913939b4a975c6e3621a20ff3e7ceecad0ece9dfd30ebe7d6e775ce36b598fdf906122309ac62a9abcae3603b58419e9d9f509f6fe0e7ecba4eed17dd1b5cb05a76256fc86a9585895de5622daea137a0&amp;p=8677d05d92934eaf58eed32d0214cb&amp;newp=c43eca029c904ead08e2947e0e0ebb23161cda386a848d0a3b8fd12594644f171c0ba7ec67634b598fca786002aa4e5de9f0327736002ab49cc98849d8afd4456edf653b2740d0&amp;user=baidu&amp;fm=sc&amp;query=%A1%B0%B4%F3%BA%D3%CF%F2%B6%AB%C1%F7%CD%DB%CC%EC%C9%CF%B5%C4%D0%C7%D0%C7%B2%CE%B1%B1%B6%B7%CD%DB%A1%B0%D5%E2%CA%D7%B8%E8%B5%C4%C3%FB%D7%D6%BD%D0%3F&amp;qid=dab610b10000fbd4&amp;p1=1\" target=\"_blank\">百度快照</a></div></div>"
      ],
      "text/plain": [
       "<IPython.core.display.HTML object>"
      ]
     },
     "metadata": {},
     "output_type": "display_data"
    },
    {
     "data": {
      "text/html": [
       "<div class=\"result c-container \" data-click=\"{'rsv_bdr':'0' }\" id=\"2\" srcid=\"1599\" tpl=\"se_com_default\"><h3 class=\"t\"><a data-click=\"{\n",
       "\t\t\t'F':'778717EA',\n",
       "\t\t\t'F1':'9D43F1E4',\n",
       "\t\t\t'F2':'4CA6DE6E',\n",
       "\t\t\t'F3':'54E5243F',\n",
       "\t\t\t'T':'1517904266',\n",
       "\t\t\t\t\t\t'y':'FDEFFA9B'\n",
       "\t\t\t \n",
       "\t\t\t\t\t\t\t\t\t}\" href=\"http://www.baidu.com/link?url=CYxYgmGuG90SiqqECBqGVXS05TmnnR_uqYXmkvipvC8oswJaPb_Ew6V69ZdXXoE7oTpmtHnGqBELAoHdd-LMIK\" target=\"_blank\">“<em>大河向东流哇</em>,<em>天上的星星参北斗哇</em> ”<em>这首歌的名字叫?</em></a></h3><div class=\"c-abstract\"><span class=\" newTimeFactor_before_abs m\">2天前 - </span>“<em>大河向东流哇</em>,<em>天上的星星参北斗哇</em> ”<em>这首歌的名字叫?</em>分享求助 去提问 您可能感兴趣的试题 1 孟姜女是哪个朝代的的人? 点击查看答案 2 从100数到200,...</div><div class=\"f13\"><a class=\"c-showurl\" href=\"http://www.baidu.com/link?url=CYxYgmGuG90SiqqECBqGVXS05TmnnR_uqYXmkvipvC8oswJaPb_Ew6V69ZdXXoE7oTpmtHnGqBELAoHdd-LMIK\" style=\"text-decoration:none;\" target=\"_blank\">www.shangxueba.com/ask... </a><div class=\"c-tools\" data-tools='{\"title\":\"“大河向东流哇,天上的星星参北斗哇 ”这首歌的名字叫?\",\"url\":\"http://www.baidu.com/link?url=CYxYgmGuG90SiqqECBqGVXS05TmnnR_uqYXmkvipvC8oswJaPb_Ew6V69ZdXXoE7oTpmtHnGqBELAoHdd-LMIK\"}' id=\"tools_1127541640531653156_2\"><a class=\"c-tip-icon\"><i class=\"c-icon c-icon-triangle-down-g\"></i></a></div><span class=\"c-icons-outer\"><span class=\"c-icons-inner\"></span></span> - <a class=\"m\" data-click=\"{'rsv_snapshot':'1'}\" href=\"http://cache.baiducontent.com/c?m=9d78d513d9d431a94f9995697d65c010184381132ba6a4020bd4843897732831506793ac56210770d6d27d1716de3f4b9c802173471451c68cbff95dacb085595b9f2644676c815663d50eaebb5153c337e15ffed91bf0cbf52592dec5a3df4322bd44040a9780884d7017dd1ff40341e6b19838022e66ad9b4072ff28605f983437b650f890251f749680d84b4db33da06b06e0a522b14e05c514b36e1d3345d05bc009465240f73922e8323913939b4a975c6e3621a20ff3e7ceecad0ececbeb4285e78eea6a82609184b0aa2d173a15ad75edbcbdc56c391a1f8a8b870bc730bbf9e9b14eea03d76706fc0228&amp;p=8677d05d92934eae59aac7710f0a&amp;newp=c43eca029c904ead08e2957f157a92695c02dc3051d2d501298ffe0cc4241a1a1a3aecbb24241502d9c478610abb0f31aba7747d605f76&amp;user=baidu&amp;fm=sc&amp;query=%A1%B0%B4%F3%BA%D3%CF%F2%B6%AB%C1%F7%CD%DB%CC%EC%C9%CF%B5%C4%D0%C7%D0%C7%B2%CE%B1%B1%B6%B7%CD%DB%A1%B0%D5%E2%CA%D7%B8%E8%B5%C4%C3%FB%D7%D6%BD%D0%3F&amp;qid=dab610b10000fbd4&amp;p1=2\" target=\"_blank\">百度快照</a></div></div>"
      ],
      "text/plain": [
       "<IPython.core.display.HTML object>"
      ]
     },
     "metadata": {},
     "output_type": "display_data"
    },
    {
     "name": "stdout",
     "output_type": "stream",
     "text": [
      "http://www.baidu.com/s?q1=“小时不识月呼作白玉盘”中“白玉盘\"指什么?&q2=&q3=&q4=&rn=50\n",
      "[(太阳, 0.0), (月亮, 1.6066256537975017), (金星, 0.0), (, 0.0), (昡, 0.0), (昱, 0.0), (曦, 0.0), (阳光, 0.0), (白日, 0.0), (日, 0.03439365648208115), (曜, 0.0), (日光, 0.0), (日头, 0.0), (烨, 0.0), (晖, 0.0), (, 0.0), (太阴, 0.0), (月, 16.259451585331362), (月球, 0.0), (卫星, 0.0), (, 0.0)]\n"
     ]
    },
    {
     "data": {
      "text/html": [
       "<h2>疑似反向问题!!</h2>"
      ],
      "text/plain": [
       "<IPython.core.display.HTML object>"
      ]
     },
     "metadata": {},
     "output_type": "display_data"
    },
    {
     "name": "stdout",
     "output_type": "stream",
     "text": [
      "question: “小时不识月呼作白玉盘”中“白玉盘\"指什么?\n",
      "('B', '月亮', 17.866077239128863)\n",
      "('A', '太阳', 0.03439365648208115)\n",
      "('C', '金星', 0.0)\n"
     ]
    },
    {
     "data": {
      "text/html": [
       "<div class=\"result c-container \" data-click=\"{'rsv_bdr':'0' }\" id=\"1\" srcid=\"1528\" tpl=\"se_com_default\"><h3 class=\"t\"><a data-click=\"{\n",
       "\t\t\t'F':'778717E8',\n",
       "\t\t\t'F1':'9D73B1E4',\n",
       "\t\t\t'F2':'4CA6DE6B',\n",
       "\t\t\t'F3':'54E5343D',\n",
       "\t\t\t'T':'1517904268',\n",
       "\t\t\t\t\t\t'y':'F76EBBD6'\n",
       "\t\t\t \n",
       "\t\t\t\t\t\t\t\t\t}\" href=\"http://www.baidu.com/link?url=-HAWkiFeTDuzSLMT7r9KTBAxWPIOSzJ7oeyDgiF73uFqJIlQx30BGH1p7aA6OiLhx9VSXCXv3eB193uaVYwo9s3RT0S0s4AE4fQp_DB9G0_\" target=\"_blank\"><em>小时不识月 呼作白玉盘是什么</em>意思_百度知道</a></h3><div class=\"c-row c-gap-top-small\"><div class=\"general_image_pic c-span6\"><a class=\"c-img6\" href=\"http://www.baidu.com/link?url=-HAWkiFeTDuzSLMT7r9KTBAxWPIOSzJ7oeyDgiF73uFqJIlQx30BGH1p7aA6OiLhx9VSXCXv3eB193uaVYwo9s3RT0S0s4AE4fQp_DB9G0_\" style=\"height:75px\" target=\"_blank\"><img class=\"c-img c-img6\" src=\"http://i8.baidu.com/it/u=779443027,2196103974&amp;fm=85&amp;s=01518B6EEF3610969EC876380300D050\" style=\"height:75px;\"/></a></div><div class=\"c-span18 c-span-last\"><p class=\"f13 m\">1个回答 - 提问时间: 2015年07月23日</p><div class=\"c-abstract\"><span class=\"m\">最佳答案: </span><em>小时不识月</em> ,<em>呼作白玉盘</em>。 意思: 小时候不认识月亮, 把它称为<em>白玉盘</em>。 出自:唐代,李白的《古朗月行》。</div><div class=\"f13\"><a class=\"c-showurl\" href=\"http://www.baidu.com/link?url=-HAWkiFeTDuzSLMT7r9KTBAxWPIOSzJ7oeyDgiF73uFqJIlQx30BGH1p7aA6OiLhx9VSXCXv3eB193uaVYwo9s3RT0S0s4AE4fQp_DB9G0_\" style=\"text-decoration:none;\" target=\"_blank\">https://zhidao.baidu.com/quest... </a><div class=\"c-tools\" data-tools='{\"title\":\"小时不识月 呼作白玉盘是什么意思_百度知道\",\"url\":\"http://www.baidu.com/link?url=-HAWkiFeTDuzSLMT7r9KTBAxWPIOSzJ7oeyDgiF73uFqJIlQx30BGH1p7aA6OiLhx9VSXCXv3eB193uaVYwo9s3RT0S0s4AE4fQp_DB9G0_\"}' id=\"tools_5433850746545749171_1\"><a class=\"c-tip-icon\"><i class=\"c-icon c-icon-triangle-down-g\"></i></a></div><span class=\"c-icons-outer\"><span class=\"c-icons-inner\"></span></span></div></div></div><div><table class=\"subLink_factory subLink_factory_right\"><tr><td class=\"first c-default \"><a href=\"http://www.baidu.com/link?url=6nPOi8poS2D8NkLCSkLHgbpjXfVo2UZ-qxJA5C81BkRbTe5Hp4Tl_IgbdHoo3rZQ_HFdZsKVYTloNuXBeOCpz_\" target=\"_blank\">“<em>小时不识月</em>,<em>呼作白玉盘</em>。”的全诗<em>是什么?</em></a></td><td class=\"middle c-default \">16个回答</td><td class=\"last c-default rightTd\">2008-02-18</td></tr><tr><td class=\"first c-default \"><a href=\"http://www.baidu.com/link?url=h59D77qTzni-qvL4KszvrjyotfFjRCVqzXppTdmgW2DahljcPNjjbdhmMFWizqdN7tc_pkavETjD0SoiD0yvS_\" target=\"_blank\"><em>小时不识月</em>,<em>呼作白玉盘</em>。这首诗后面的<em>是什么?</em></a></td><td class=\"middle c-default \">9个回答</td><td class=\"last c-default rightTd\">2006-08-22</td></tr></table><a class=\"c\" href=\"http://www.baidu.com/link?url=0NOigDDPWA_pZePMi7CjTROAD9jYnwflBT_K6Bbz1N7BMJ_El8Q4dNwhB0DeO41MGwJrVwYAMn7BfwnKVwOSIds2wPTyBjP56Der7R5DRhP94XAL6cPuY9EpQefZtMHCDol2W6HHcE0VoFY6AXcDyshewLoo_zoJ_SXvfHXm4xfSW4er8d_xCN5q-Wyy60LpnoqjdqWNbgxkB2wywAZZqiHVgyDOIpSEeMsraSBAorB_xMsUVOfx42KIjta7LRq5MW6tEDhL2yUxlATmVWoSWk-r2DNgnA1efDO405-4sETmalRLkWmFPo4bh0yjNYcA0rhqGY2YVzH9-zHH6fh-wa\" target=\"_blank\">更多知道相关问题&gt;&gt;</a></div></div>"
      ],
      "text/plain": [
       "<IPython.core.display.HTML object>"
      ]
     },
     "metadata": {},
     "output_type": "display_data"
    },
    {
     "data": {
      "text/html": [
       "<div class=\"result c-container \" data-click=\"{'rsv_bdr':'0' ,'rsv_cd':'vLevel:2'}\" id=\"2\" srcid=\"1529\" tpl=\"se_com_default\"><h3 class=\"t\"><a data-click=\"{\n",
       "\t\t\t'F':'778717E9',\n",
       "\t\t\t'F1':'9D73F1E4',\n",
       "\t\t\t'F2':'4CA6DE6B',\n",
       "\t\t\t'F3':'54E5343C',\n",
       "\t\t\t'T':'1517904268',\n",
       "\t\t\t\t\t\t'y':'FF73D7F1'\n",
       "\t\t\t \n",
       "\t\t\t\t\t\t\t\t\t}\" href=\"http://www.baidu.com/link?url=vvt7EPNlb2X9ymm5jQj-sNWfD6AmO0_yHkHd25kz7j_RdEkPL0b7sl595kgkCp1QHo8EweANa28X3rWU3iq93pP555WR8iD2VUGCvg9MuuW\" target=\"_blank\">“<em>少时不识月</em>,<em>呼作白玉盘</em>”<em>是什么</em>意思_百度作业帮</a></h3><p class=\"f13 m\">1个回答 - 提问时间: 2014年09月29日</p><div class=\"c-abstract\"><span class=\"m\">最佳答案: </span>1,<em>少时不识月</em>,<em>呼作白玉盘</em>: 李白:唐朝. 诗名:《古朗月行》 <em>小时不识月</em>, <em>呼作白玉盘</em>. 又疑瑶台镜, 飞在青云端 解释:小时侯,年少无知,误将月亮...</div><div class=\"f13\"><a class=\"c-showurl\" href=\"http://www.baidu.com/link?url=vvt7EPNlb2X9ymm5jQj-sNWfD6AmO0_yHkHd25kz7j_RdEkPL0b7sl595kgkCp1QHo8EweANa28X3rWU3iq93pP555WR8iD2VUGCvg9MuuW\" style=\"text-decoration:none;\" target=\"_blank\">https://www.zybang.com/questio... </a><div class=\"c-tools\" data-tools='{\"title\":\"“少时不识月,呼作白玉盘”是什么意思_百度作业帮\",\"url\":\"http://www.baidu.com/link?url=vvt7EPNlb2X9ymm5jQj-sNWfD6AmO0_yHkHd25kz7j_RdEkPL0b7sl595kgkCp1QHo8EweANa28X3rWU3iq93pP555WR8iD2VUGCvg9MuuW\"}' id=\"tools_11731057540393621532_2\"><a class=\"c-tip-icon\"><i class=\"c-icon c-icon-triangle-down-g\"></i></a></div><span class=\"c-icons-outer\"><span class=\"c-icons-inner\"><span class=\"c-vline\"></span><span class=\"c-trust-as vstar \" data_key=\"5854561520976348714\" hint-data='{\"label\":\"小船出海教育科技(北京)有限公司\",\"url\":\"https://www.baidu.com/s?wd=%E5%B0%8F%E8%88%B9%E5%87%BA%E6%B5%B7%E6%95%99%E8%82%B2%E7%A7%91%E6%8A%80%E5%8C%97%E4%BA%AC%E6%9C%89%E9%99%90%E5%85%AC%E5%8F%B8@v&amp;vmp_ec=770a240ea667f01f97675e741dsff23he3e78e4c8fWJtb8Y92cudm5JbX56y43aacc58Xdca062563a&amp;vmp_ectm=1517900253&amp;from=vs\",\"hint\":[{\"txt\":\"[ecard 96]\",\"vlevel\":\"2\"}]}' hint-type=\"vstar\"><a class=\"c-icon c-icon-v c-icon-v2\" data-click=\"{'title':'vstar','rsv_vlevel':'2'}\" href=\"https://www.baidu.com/s?wd=%E5%B0%8F%E8%88%B9%E5%87%BA%E6%B5%B7%E6%95%99%E8%82%B2%E7%A7%91%E6%8A%80%E5%8C%97%E4%BA%AC%E6%9C%89%E9%99%90%E5%85%AC%E5%8F%B8@v&amp;vmp_ec=770a240ea667f01f97675e741dsff23he3e78e4c8fWJtb8Y92cudm5JbX56y43aacc58Xdca062563a&amp;vmp_ectm=1517900253&amp;from=vs&amp;product=v&amp;rsv_dl=0_left_v_2\" target=\"_blank\"></a></span></span></span> - <a class=\"m\" data-click=\"{'rsv_snapshot':'1'}\" href=\"http://cache.baiducontent.com/c?m=9d78d513d9d437ad4f9e97697c65c0161a4381132ba7d0020fa48449e3732a325016e7ac26520772d5d20d6716ae394b9a832106311421c78cbe8d5da9be85295f9f5736676a835664d20edbc85124b137e15dfede68f0ba8125e5aac5a5dd4353bb44757897868e4d7615dd1bf3033093b1e84f022e61aded4172895d6059953441c6508893251e079687dc4b3cc53e97214f98f573f67c53a212d702066101e55bb17f196d60b31372e8444a55cfb440a46d2e0165ed15efa4cbe0e01c88dde965c9fcc0ad7cc636e792eefd76152058f920edffbee36b374715d9bd84509b6c&amp;p=8b2a9715d9c440ef11f1dd3b444b&amp;newp=882a9244808201fd0be296214e079269510edb356f8acf512496fe4299700d1a2a22b4fb66794d58dcc17b6404a84c59eef7367933052bb099ca8b4fc9fdff6978ca28632c4ad0005281&amp;user=baidu&amp;fm=sc&amp;query=%A1%B0%D0%A1%CA%B1%B2%BB%CA%B6%D4%C2%BA%F4%D7%F7%B0%D7%D3%F1%C5%CC%A1%B1%D6%D0%A1%B0%B0%D7%D3%F1%C5%CC%22%D6%B8%CA%B2%C3%B4%3F&amp;qid=ed7660d30000f5ec&amp;p1=2\" target=\"_blank\">百度快照</a></div></div>"
      ],
      "text/plain": [
       "<IPython.core.display.HTML object>"
      ]
     },
     "metadata": {},
     "output_type": "display_data"
    },
    {
     "name": "stdout",
     "output_type": "stream",
     "text": [
      "http://www.baidu.com/s?q1=“忽如一夜春风来干树万树梨花开\"所形容的景色是在哪一个季&q2=&q3=&q4=&rn=50\n",
      "[(春季, 0.31319974366225767), (秋季, 0.0), (冬季, 1.755617977181824), (, 0.0), (阳春, 0.0), (春日, 0.0), (春, 0.0), (春天, 0.0333824947683297), (春令, 0.0), (, 0.0), (秋天, 0.0), (秋, 0.0), (秋令, 0.0), (, 0.0), (冬令, 0.0), (冬日, 0.0), (冬, 0.31335593987887206), (冬天, 1.7424989861928417)]\n",
      "question: “忽如一夜春风来干树万树梨花开\"所形容的景色是在哪一个季\n",
      "('C', '冬季', 3.811472903253538)\n",
      "('A', '春季', 0.3465822384305874)\n",
      "('B', '秋季', 0.0)\n"
     ]
    },
    {
     "data": {
      "text/html": [
       "<div class=\"result c-container \" data-click=\"{'rsv_bdr':'0' }\" id=\"1\" srcid=\"1528\" tpl=\"se_com_default\"><h3 class=\"t\"><a data-click=\"{\n",
       "\t\t\t'F':'778717EA',\n",
       "\t\t\t'F1':'9D73B1E4',\n",
       "\t\t\t'F2':'4CA6DE6B',\n",
       "\t\t\t'F3':'54E5343F',\n",
       "\t\t\t'T':'1517904272',\n",
       "\t\t\t\t\t\t'y':'B277C6F4'\n",
       "\t\t\t \n",
       "\t\t\t\t\t\t\t\t\t}\" href=\"http://www.baidu.com/link?url=DKZMR5S8veajGVOxrp6Ea01IRmnNCnDGruerLKTh05puvLhCOPMbm8GPlwRfw7UTvKjhJN0si44yi5UH6GceJiH88sL8ML7xGnt_FOQ2wtW\" target=\"_blank\"><em>忽如一夜春风来 干树万树梨花开描写</em>什么景象_百度知道</a></h3><p class=\"f13 m\">3个回答 - 提问时间: 2017年12月20日</p><div class=\"c-abstract\"><span class=\"m\">最佳答案: </span>冬季。 直译:(外面雪茫茫的一片)好像<em>春风一夜</em>刮来,所有的<em>梨花</em>都来了。 用春天的景象来比喻冬天<em>的景色</em>。</div><div class=\"f13\"><a class=\"c-showurl\" href=\"http://www.baidu.com/link?url=DKZMR5S8veajGVOxrp6Ea01IRmnNCnDGruerLKTh05puvLhCOPMbm8GPlwRfw7UTvKjhJN0si44yi5UH6GceJiH88sL8ML7xGnt_FOQ2wtW\" style=\"text-decoration:none;\" target=\"_blank\">https://zhidao.baidu.com/quest... </a><div class=\"c-tools\" data-tools='{\"title\":\"忽如一夜春风来 干树万树梨花开描写什么景象_百度知道\",\"url\":\"http://www.baidu.com/link?url=DKZMR5S8veajGVOxrp6Ea01IRmnNCnDGruerLKTh05puvLhCOPMbm8GPlwRfw7UTvKjhJN0si44yi5UH6GceJiH88sL8ML7xGnt_FOQ2wtW\"}' id=\"tools_13648016994136707462_1\"><a class=\"c-tip-icon\"><i class=\"c-icon c-icon-triangle-down-g\"></i></a></div><span class=\"c-icons-outer\"><span class=\"c-icons-inner\"></span></span></div></div>"
      ],
      "text/plain": [
       "<IPython.core.display.HTML object>"
      ]
     },
     "metadata": {},
     "output_type": "display_data"
    },
    {
     "data": {
      "text/html": [
       "<div class=\"result c-container \" data-click=\"{'rsv_bdr':'0' ,'rsv_cd':'vLevel:2'}\" id=\"2\" srcid=\"1529\" tpl=\"se_com_default\"><h3 class=\"t\"><a data-click=\"{\n",
       "\t\t\t'F':'778717E8',\n",
       "\t\t\t'F1':'9D73F1E4',\n",
       "\t\t\t'F2':'4CA6DE6B',\n",
       "\t\t\t'F3':'54E5342D',\n",
       "\t\t\t'T':'1517904272',\n",
       "\t\t\t\t\t\t'y':'F7FFFFEB'\n",
       "\t\t\t \n",
       "\t\t\t\t\t\t\t\t\t}\" href=\"http://www.baidu.com/link?url=qCeKKO3QsT9Xl7Ppl9LKIMbIB-bMj7fYGWFdEMW3JXlXl5HDcIy6AV-RUHmBrMNFRsI_ixMq2Y0ZmS2Ok6_HxqGkGKpSLcmr69pa3qYcNu_\" target=\"_blank\">“<em>忽如一夜春风来</em>,<em>干树万树梨花开</em>”是<em>描写</em>什么季节的?_作业帮</a></h3><p class=\"f13 m\">12个回答 - 提问时间: 2017年03月29日</p><div class=\"c-abstract\"><span class=\"m\">最佳答案: </span>冬天</div><div class=\"f13\"><a class=\"c-showurl\" href=\"http://www.baidu.com/link?url=qCeKKO3QsT9Xl7Ppl9LKIMbIB-bMj7fYGWFdEMW3JXlXl5HDcIy6AV-RUHmBrMNFRsI_ixMq2Y0ZmS2Ok6_HxqGkGKpSLcmr69pa3qYcNu_\" style=\"text-decoration:none;\" target=\"_blank\">https://www.zybang.com/questio... </a><div class=\"c-tools\" data-tools='{\"title\":\"“忽如一夜春风来,干树万树梨花开”是描写什么季节的?_作业帮\",\"url\":\"http://www.baidu.com/link?url=qCeKKO3QsT9Xl7Ppl9LKIMbIB-bMj7fYGWFdEMW3JXlXl5HDcIy6AV-RUHmBrMNFRsI_ixMq2Y0ZmS2Ok6_HxqGkGKpSLcmr69pa3qYcNu_\"}' id=\"tools_14133482273471931324_2\"><a class=\"c-tip-icon\"><i class=\"c-icon c-icon-triangle-down-g\"></i></a></div><span class=\"c-icons-outer\"><span class=\"c-icons-inner\"><span class=\"c-vline\"></span><span class=\"c-trust-as vstar \" data_key=\"5854561520976348714\" hint-data='{\"label\":\"小船出海教育科技(北京)有限公司\",\"url\":\"https://www.baidu.com/s?wd=%E5%B0%8F%E8%88%B9%E5%87%BA%E6%B5%B7%E6%95%99%E8%82%B2%E7%A7%91%E6%8A%80%E5%8C%97%E4%BA%AC%E6%9C%89%E9%99%90%E5%85%AC%E5%8F%B8@v&amp;vmp_ec=770a240ea667f01f97675e741dsff23he3e78e4c8fWJtb8Y92cudm5JbX56y43aacc58Xdca062563a&amp;vmp_ectm=1517900253&amp;from=vs\",\"hint\":[{\"txt\":\"[ecard 96]\",\"vlevel\":\"2\"}]}' hint-type=\"vstar\"><a class=\"c-icon c-icon-v c-icon-v2\" data-click=\"{'title':'vstar','rsv_vlevel':'2'}\" href=\"https://www.baidu.com/s?wd=%E5%B0%8F%E8%88%B9%E5%87%BA%E6%B5%B7%E6%95%99%E8%82%B2%E7%A7%91%E6%8A%80%E5%8C%97%E4%BA%AC%E6%9C%89%E9%99%90%E5%85%AC%E5%8F%B8@v&amp;vmp_ec=770a240ea667f01f97675e741dsff23he3e78e4c8fWJtb8Y92cudm5JbX56y43aacc58Xdca062563a&amp;vmp_ectm=1517900253&amp;from=vs&amp;product=v&amp;rsv_dl=0_left_v_2\" target=\"_blank\"></a></span></span></span> - <a class=\"m\" data-click=\"{'rsv_snapshot':'1'}\" href=\"http://cache.baiducontent.com/c?m=9f65cb4a8c8507ed19fa950d100b92235c438014749c804623818448e435061e5a25a4ec66644b598fd87c3107ab4858baa73573645320e7cacc8a1edcbe94232dd87637771b801046d90eafbc1c639e7e841fb4ef4fe8ad804184dad6c4de2444bb59120d85e78a2a1762ca7880642695a68e381e4811cafa4063e829043eef2657c142eee142797683e1ad5a5bc25ac7111b80de3ea73f62a262d7086f2153a13ca679273144e058568c53490185ea2df05b7b5754b25fc3c9d6c5e15f8dacfd41ecedb8dc389511f1b49aee054967538a32c8a9aac34a733408cebca801c542ab8aebad3def03d6604bca2a615f69d91a9f95fc27e5632ae3961be9582731297ac8c572e803037830d82969b708b173a68f065caaea8af8ef0244df8eb579608aa9a843c77a7e52fb5735&amp;p=882a9546d7d812a05ab6d06f1c5690&amp;newp=98769a4786cc41ac59b0c22a5b448123161cda386a848d0a3b8fd12592700d1a2a22b4fb66794d58dcc17b6404a9435ae0fa3576320021b09fce8b4fc9fdff6978ca28632c4a&amp;user=baidu&amp;fm=sc&amp;query=%A1%B0%BA%F6%C8%E7%D2%BB%D2%B9%B4%BA%B7%E7%C0%B4%B8%C9%CA%F7%CD%F2%CA%F7%C0%E6%BB%A8%BF%AA%22%CB%F9%D0%CE%C8%DD%B5%C4%BE%B0%C9%AB%CA%C7%D4%DA%C4%C4%D2%BB%B8%F6%BC%BE&amp;qid=8c4ad3f30000dfec&amp;p1=2\" target=\"_blank\">百度快照</a></div></div>"
      ],
      "text/plain": [
       "<IPython.core.display.HTML object>"
      ]
     },
     "metadata": {},
     "output_type": "display_data"
    },
    {
     "name": "stdout",
     "output_type": "stream",
     "text": [
      "http://www.baidu.com/s?q1=“桃李满天下”中的“桃李”一般用来指代?&q2=&q3=&q4=&rn=50\n",
      "[(老师, 0.9354680236246674), (学生, 6.617369656608794), (前辈, 0.0), (, 0.0), (师长, 0.0), (, 0.0), (门徒, 0.0), (弟子, 0.0768941165667404), (生, 0.0), (门下, 0.0), (门生, 0.0), (徒弟, 0.0), (, 0.0)]\n",
      "question: “桃李满天下”中的“桃李”一般用来指代?\n",
      "('B', '学生', 6.694263773175535)\n",
      "('A', '老师', 0.9354680236246674)\n",
      "('C', '前辈', 0.0)\n"
     ]
    },
    {
     "data": {
      "text/html": [
       "<div class=\"result c-container \" data-click=\"{'rsv_bdr':'0' }\" id=\"1\" srcid=\"1528\" tpl=\"se_com_default\"><h3 class=\"t\"><a data-click=\"{\n",
       "\t\t\t'F':'778717EA',\n",
       "\t\t\t'F1':'9D43B1E4',\n",
       "\t\t\t'F2':'4CA6DE6B',\n",
       "\t\t\t'F3':'54E5343F',\n",
       "\t\t\t'T':'1517904276',\n",
       "\t\t\t\t\t\t'y':'F970EFFF'\n",
       "\t\t\t \n",
       "\t\t\t\t\t\t\t\t\t}\" href=\"http://www.baidu.com/link?url=65mTgNUBrEc8yK2efAh7ZrxRpH9D7c493KEVeh3dqZbrFhIwJ0u1CyBlG6ZQnPYEyhN7mH3yKARpXNaO0WYr5EDESaCVXzDmy5VrCOMBP1O\" target=\"_blank\">“<em>桃李满天下</em>”<em>中的</em>“<em>桃李</em>”<em>一般用来指代?</em>_百度知道</a></h3><p class=\"f13 m\">1个回答 - 提问时间: 2018年02月01日</p><div class=\"c-abstract\"><span class=\"m\">最佳答案: </span>学生 <em>桃李满天下</em>。<em>桃李</em>:指培养的后辈或所教的学生。比喻学生很多,各地都有。</div><div class=\"f13\"><a class=\"c-showurl\" href=\"http://www.baidu.com/link?url=65mTgNUBrEc8yK2efAh7ZrxRpH9D7c493KEVeh3dqZbrFhIwJ0u1CyBlG6ZQnPYEyhN7mH3yKARpXNaO0WYr5EDESaCVXzDmy5VrCOMBP1O\" style=\"text-decoration:none;\" target=\"_blank\">https://zhidao.baidu.com/quest... </a><div class=\"c-tools\" data-tools='{\"title\":\"“桃李满天下”中的“桃李”一般用来指代?_百度知道\",\"url\":\"http://www.baidu.com/link?url=65mTgNUBrEc8yK2efAh7ZrxRpH9D7c493KEVeh3dqZbrFhIwJ0u1CyBlG6ZQnPYEyhN7mH3yKARpXNaO0WYr5EDESaCVXzDmy5VrCOMBP1O\"}' id=\"tools_16243648299486905726_1\"><a class=\"c-tip-icon\"><i class=\"c-icon c-icon-triangle-down-g\"></i></a></div><span class=\"c-icons-outer\"><span class=\"c-icons-inner\"></span></span></div></div>"
      ],
      "text/plain": [
       "<IPython.core.display.HTML object>"
      ]
     },
     "metadata": {},
     "output_type": "display_data"
    },
    {
     "data": {
      "text/html": [
       "<div class=\"result c-container \" data-click=\"{'rsv_bdr':'0' ,'rsv_cd':'vLevel:2'}\" id=\"2\" srcid=\"1529\" tpl=\"se_com_default\"><h3 class=\"t\"><a data-click=\"{\n",
       "\t\t\t'F':'778717EA',\n",
       "\t\t\t'F1':'9D73F1E4',\n",
       "\t\t\t'F2':'4CA6DE6B',\n",
       "\t\t\t'F3':'54E5343F',\n",
       "\t\t\t'T':'1517904276',\n",
       "\t\t\t\t\t\t'y':'FFEE99FF'\n",
       "\t\t\t \n",
       "\t\t\t\t\t\t\t\t\t}\" href=\"http://www.baidu.com/link?url=i1dmyctZ1PWLxAGt6UWv7eUzCgMsPNkcMZ635SBeGMAxvCM5LLH4lkMfHhn8O-UMFgZe-nDzz1_daLPQyYj65b94BXhxpLqwANc9CVDgPRG\" target=\"_blank\">【什么<em>用</em>园丁来比喻什么<em>用桃李</em>来<em>指代</em>什么<em>用桃李满天下</em>来比喻什么...</a></h3><p class=\"f13 m\">1个回答 - 提问时间: 2016年11月20日</p><div class=\"c-abstract\"><span class=\"m\">最佳答案: </span>精锐教育温馨提示:<em>一般 用</em>园丁比喻老师,把学生比喻成<em>桃李</em>,从教多年的老师我们通常说他是“<em>桃李满天下</em>”,表明他对教育事业做出的贡献.</div><div class=\"f13\"><a class=\"c-showurl\" href=\"http://www.baidu.com/link?url=i1dmyctZ1PWLxAGt6UWv7eUzCgMsPNkcMZ635SBeGMAxvCM5LLH4lkMfHhn8O-UMFgZe-nDzz1_daLPQyYj65b94BXhxpLqwANc9CVDgPRG\" style=\"text-decoration:none;\" target=\"_blank\">https://www.zybang.com/questio... </a><div class=\"c-tools\" data-tools='{\"title\":\"【什么用园丁来比喻什么用桃李来指代什么用桃李满天下来比喻什么...\",\"url\":\"http://www.baidu.com/link?url=i1dmyctZ1PWLxAGt6UWv7eUzCgMsPNkcMZ635SBeGMAxvCM5LLH4lkMfHhn8O-UMFgZe-nDzz1_daLPQyYj65b94BXhxpLqwANc9CVDgPRG\"}' id=\"tools_3182059870049019968_2\"><a class=\"c-tip-icon\"><i class=\"c-icon c-icon-triangle-down-g\"></i></a></div><span class=\"c-icons-outer\"><span class=\"c-icons-inner\"><span class=\"c-vline\"></span><span class=\"c-trust-as vstar \" data_key=\"5854561520976348714\" hint-data='{\"label\":\"小船出海教育科技(北京)有限公司\",\"url\":\"https://www.baidu.com/s?wd=%E5%B0%8F%E8%88%B9%E5%87%BA%E6%B5%B7%E6%95%99%E8%82%B2%E7%A7%91%E6%8A%80%E5%8C%97%E4%BA%AC%E6%9C%89%E9%99%90%E5%85%AC%E5%8F%B8@v&amp;vmp_ec=770a240ea667f01f97675e741dsff23he3e78e4c8fWJtb8Y92cudm5JbX56y43aacc58Xdca062563a&amp;vmp_ectm=1517900253&amp;from=vs\",\"hint\":[{\"txt\":\"[ecard 96]\",\"vlevel\":\"2\"}]}' hint-type=\"vstar\"><a class=\"c-icon c-icon-v c-icon-v2\" data-click=\"{'title':'vstar','rsv_vlevel':'2'}\" href=\"https://www.baidu.com/s?wd=%E5%B0%8F%E8%88%B9%E5%87%BA%E6%B5%B7%E6%95%99%E8%82%B2%E7%A7%91%E6%8A%80%E5%8C%97%E4%BA%AC%E6%9C%89%E9%99%90%E5%85%AC%E5%8F%B8@v&amp;vmp_ec=770a240ea667f01f97675e741dsff23he3e78e4c8fWJtb8Y92cudm5JbX56y43aacc58Xdca062563a&amp;vmp_ectm=1517900253&amp;from=vs&amp;product=v&amp;rsv_dl=0_left_v_2\" target=\"_blank\"></a></span></span></span> - <a class=\"m\" data-click=\"{'rsv_snapshot':'1'}\" href=\"http://cache.baiducontent.com/c?m=9f65cb4a8c8507ed19fa950d100b92235c438014749c804623818448e435061e5a25a4ec66644b598fd87d6c57ad1e59b9f13677600020b2cd9f8e498eb0902f2fde243e261b874211850eafbc1c639e7e841fb4ef4fe8ad814384d8d2c4ae5644bd24127bf0e7fa5a1760b978f1642692d78e3f644861cefa4165e859063ee92757c045eee142797786e1ac5a5bc35bc7106080d935a74f10a264d3081b5553d64ca678213140e25850fe533c74859d5cf05b785752b45fc3bfd6b79b5ffad8fd4192edcadf38e566f1b199&amp;p=882a9546d1db5bbc10be9b7c595e8a&amp;newp=9073d216d9c103eb08e2947d0a55cf23161cda386a848d0a3b8fd12594700d1a2a22b4fb66794d58dcc17b6405aa435febf43270370920b298cc8b4fc9fdff6978ca28632c4ac405&amp;user=baidu&amp;fm=sc&amp;query=%A1%B0%CC%D2%C0%EE%C2%FA%CC%EC%CF%C2%A1%B1%D6%D0%B5%C4%A1%B0%CC%D2%C0%EE%A1%B1%D2%BB%B0%E3%D3%C3%C0%B4%D6%B8%B4%FA%3F&amp;qid=874666910000f165&amp;p1=2\" target=\"_blank\">百度快照</a></div></div>"
      ],
      "text/plain": [
       "<IPython.core.display.HTML object>"
      ]
     },
     "metadata": {},
     "output_type": "display_data"
    },
    {
     "name": "stdout",
     "output_type": "stream",
     "text": [
      "http://www.baidu.com/s?q1=“鳄鱼的眼泪\"通常用来形容人的哪一种品性?&q2=&q3=&q4=&rn=50\n",
      "[(伪善, 0.0), (善良, 0.07978411726020779), (凶残, 0.0), (, 0.0), (仁, 0.0), (仁爱, 0.0), (, 0.0)]\n",
      "question: “鳄鱼的眼泪\"通常用来形容人的哪一种品性?\n",
      "('B', '善良', 0.07978411726020779)\n",
      "('A', '伪善', 0.0)\n",
      "('C', '凶残', 0.0)\n"
     ]
    },
    {
     "data": {
      "text/html": [
       "<div class=\"result c-container \" data-click=\"{'rsv_bdr':'0' }\" id=\"1\" srcid=\"1599\" tpl=\"se_com_default\"><h3 class=\"t\"><a data-click=\"{\n",
       "\t\t\t'F':'778717EA',\n",
       "\t\t\t'F1':'9D73E1E4',\n",
       "\t\t\t'F2':'4CA6DE6B',\n",
       "\t\t\t'F3':'54E5243F',\n",
       "\t\t\t'T':'1517904279',\n",
       "\t\t\t\t\t\t'y':'E77BCF7E'\n",
       "\t\t\t \n",
       "\t\t\t\t\t\t\t\t\t}\" href=\"http://www.baidu.com/link?url=QHmU23Xjg-M5Y14NEvoedHYVB4Wvbxavq3qQLHJS3w-zfWAq6Lwsk6_-OroNx8hH2TsY67sVwqOYnyR43pf0wdSm1IkAdG7nwJnXmfyz933\" target=\"_blank\">百万英雄题目及答案回顾1.14</a></h3><div class=\"c-row c-gap-top-small\"><div class=\"general_image_pic c-span6\"><a class=\"c-img6\" href=\"http://www.baidu.com/link?url=QHmU23Xjg-M5Y14NEvoedHYVB4Wvbxavq3qQLHJS3w-zfWAq6Lwsk6_-OroNx8hH2TsY67sVwqOYnyR43pf0wdSm1IkAdG7nwJnXmfyz933\" style=\"height:75px\" target=\"_blank\"><img class=\"c-img c-img6\" src=\"http://t12.baidu.com/it/u=758278310,798377617&amp;fm=96&amp;s=73C8B70E16620EAC2491AC6C0300E058&amp;w=121&amp;h=75&amp;img.JPEG\" style=\"height:75px;\"/></a></div><div class=\"c-span18 c-span-last\"><div class=\"c-abstract\"><span class=\" newTimeFactor_before_abs m\">2018年1月17日 - </span>1、“<em>鳄鱼的眼泪通常用来形容人的哪一种品性?</em> 伪善 2、日常生活中,蒸两层馒头,哪层会先熟? 上层 3、悟空问答是一款什么类型的APP? 所有人的问答社区 4、下...</div><div class=\"f13\"><a class=\"c-showurl\" href=\"http://www.baidu.com/link?url=QHmU23Xjg-M5Y14NEvoedHYVB4Wvbxavq3qQLHJS3w-zfWAq6Lwsk6_-OroNx8hH2TsY67sVwqOYnyR43pf0wdSm1IkAdG7nwJnXmfyz933\" style=\"text-decoration:none;\" target=\"_blank\">https://baijiahao.baidu.com/s?... </a><div class=\"c-tools\" data-tools='{\"title\":\"百万英雄题目及答案回顾1.14\",\"url\":\"http://www.baidu.com/link?url=QHmU23Xjg-M5Y14NEvoedHYVB4Wvbxavq3qQLHJS3w-zfWAq6Lwsk6_-OroNx8hH2TsY67sVwqOYnyR43pf0wdSm1IkAdG7nwJnXmfyz933\"}' id=\"tools_10334303126848659542_1\"><a class=\"c-tip-icon\"><i class=\"c-icon c-icon-triangle-down-g\"></i></a></div><span class=\"c-icons-outer\"><span class=\"c-icons-inner\"></span></span> - <a class=\"m\" data-click=\"{'rsv_snapshot':'1'}\" href=\"http://cache.baiducontent.com/c?m=9f65cb4a8c8507ed19fa950d100b8735420cdb3066848d027fa3c31bc8321c564711b2e6783f5113d2b1273116ae3f5fedfa3d77330725b099cf8f4fd6bd92232a8a30347459d20105d26fee891d739660875aedfb44a7adf144d1ffc696821405c544717e9784804d7615dd18f1033093b1e94f022e16adec4072895a605fef3431b4508ee3256e769687ab4b3fc93da06006e4ae22b14e05c312b36e1a3335a25bc10e462740f73925e8354a13e3e14a915c6e4153a139b9aeb0c6fc49fccb9a368f8bcdb82ee57797c3fd8877557122ed53bebccdc22a653515afcec960c025bd8afbcb48fe64d2075dca4a002d7cb86d&amp;p=8b2a975f86cc41ad58f58f0c54429e&amp;newp=882a9547d6af12a05aa7dd27455190231610db2151d6d7156b82c825d7331b001c3bbfb423251301d4c0796306af425beef7327131012ba3dda5c91d9fb4c57479e4&amp;user=baidu&amp;fm=sc&amp;query=%A1%B0%F6%F9%D3%E3%B5%C4%D1%DB%C0%E1%22%CD%A8%B3%A3%D3%C3%C0%B4%D0%CE%C8%DD%C8%CB%B5%C4%C4%C4%D2%BB%D6%D6%C6%B7%D0%D4%3F&amp;qid=e9d59be20000e175&amp;p1=1\" target=\"_blank\">百度快照</a></div></div></div></div>"
      ],
      "text/plain": [
       "<IPython.core.display.HTML object>"
      ]
     },
     "metadata": {},
     "output_type": "display_data"
    },
    {
     "data": {
      "text/html": [
       "<div class=\"result c-container \" data-click=\"{'rsv_bdr':'0' }\" id=\"2\" srcid=\"1599\" tpl=\"se_com_default\"><h3 class=\"t\"><a data-click=\"{\n",
       "\t\t\t'F':'778717EA',\n",
       "\t\t\t'F1':'9D73E1E4',\n",
       "\t\t\t'F2':'4CA6DE6B',\n",
       "\t\t\t'F3':'54E5243F',\n",
       "\t\t\t'T':'1517904279',\n",
       "\t\t\t\t\t\t'y':'6EE73BCB'\n",
       "\t\t\t \n",
       "\t\t\t\t\t\t\t\t\t}\" href=\"http://www.baidu.com/link?url=ap7hwvbFzHPEuSBD7FJHpAmHkhuwUaucxSYh3RJ-t4eg9gDoZOEo2eCGklGGYstU\" target=\"_blank\">百万英雄<em>1</em>月14日题目_百万英雄<em>1</em>月14日题目答案揭晓_游戏吧</a></h3><div class=\"c-abstract\"><span class=\" newTimeFactor_before_abs m\">2018年1月15日 - </span>1、“<em>鳄鱼的眼泪通常用来形容人的哪一种品性?</em>  伪善 2、日常生活中,蒸...或者在百度上搜索【百万英雄游戏吧】,即可在第一时间获得百万英雄的最新...</div><div class=\"f13\"><a class=\"c-showurl\" href=\"http://www.baidu.com/link?url=ap7hwvbFzHPEuSBD7FJHpAmHkhuwUaucxSYh3RJ-t4eg9gDoZOEo2eCGklGGYstU\" style=\"text-decoration:none;\" target=\"_blank\">www.gmz88.com/xinwen/2... </a><div class=\"c-tools\" data-tools='{\"title\":\"百万英雄1月14日题目_百万英雄1月14日题目答案揭晓_游戏吧\",\"url\":\"http://www.baidu.com/link?url=ap7hwvbFzHPEuSBD7FJHpAmHkhuwUaucxSYh3RJ-t4eg9gDoZOEo2eCGklGGYstU\"}' id=\"tools_12929787983473314429_2\"><a class=\"c-tip-icon\"><i class=\"c-icon c-icon-triangle-down-g\"></i></a></div><span class=\"c-icons-outer\"><span class=\"c-icons-inner\"></span></span> - <a class=\"m\" data-click=\"{'rsv_snapshot':'1'}\" href=\"http://cache.baiducontent.com/c?m=9d78d513d9d435ab4f999f697b17c011184381132ba7d7020ed28449e3732d42501093ac56200773d0d27c1616de3f4b99fa2102361453b68cc9f85dabba85592e9f5636676c805613a30ed9c95154b637e150fed96ff0bb8025e2a4c5a2af4352ba44757d97818d4d0164dd1ef60340e5b19838022910ad9d4072fe29605f9b3436b250f890251f039686d84b4db33da66306e1a921f77e4cba49e259593345d351ac4d146327e03872a00c370e85eb2ab677265d69ed14f6ee9dabeb4c8dd8ec26988d91e970cb&amp;p=c9759a45d5c20be84bbe9b7c454780&amp;newp=8b2a97109daf14f708e2947d0c5498231610db2151d4d7146b82c825d7331b001c3bbfb423251300d4c77d6506af4a5de1f3347237012ba3dda5c91d9fb4c57479dd6c582544&amp;user=baidu&amp;fm=sc&amp;query=%A1%B0%F6%F9%D3%E3%B5%C4%D1%DB%C0%E1%22%CD%A8%B3%A3%D3%C3%C0%B4%D0%CE%C8%DD%C8%CB%B5%C4%C4%C4%D2%BB%D6%D6%C6%B7%D0%D4%3F&amp;qid=e9d59be20000e175&amp;p1=2\" target=\"_blank\">百度快照</a></div></div>"
      ],
      "text/plain": [
       "<IPython.core.display.HTML object>"
      ]
     },
     "metadata": {},
     "output_type": "display_data"
    },
    {
     "name": "stdout",
     "output_type": "stream",
     "text": [
      "http://www.baidu.com/s?q1=《瓦尔登湖》、《霍乱时期的爱情》、《远大前程》哪部作品的作者&q2=&q3=&q4=&rn=50\n",
      "question: 《瓦尔登湖》、《霍乱时期的爱情》、《远大前程》哪部作品的作者\n",
      "('B', '《霍乱时期的爱情》', 29.033646807884093)\n",
      "('A', '《瓦尔登湖》', 6.232464439349418)\n",
      "('C', '《远大前程》', 5.971643084485263)\n"
     ]
    },
    {
     "data": {
      "text/html": [
       "<div class=\"result c-container \" data-click=\"{'rsv_bdr':'0' }\" id=\"1\" srcid=\"1528\" tpl=\"se_com_default\"><h3 class=\"t\"><a data-click=\"{\n",
       "\t\t\t'F':'778717EA',\n",
       "\t\t\t'F1':'9D43B1E4',\n",
       "\t\t\t'F2':'4CA6DE6B',\n",
       "\t\t\t'F3':'54E5243F',\n",
       "\t\t\t'T':'1517904282',\n",
       "\t\t\t\t\t\t'y':'DF69F99F'\n",
       "\t\t\t \n",
       "\t\t\t\t\t\t\t\t\t}\" href=\"http://www.baidu.com/link?url=Hp7lV7PukgEOjzRtBCV7w7wxM0Go2IkS8NTzM4PIspkx6fyPxAlNWUxGmYJTjgOo3KArI7GR_MLXipcwJ562olofskYuQaWWwoRRHfWi9O7\" target=\"_blank\"><em>《瓦尔登湖》</em>、<em>《霍乱时期的爱情》</em>、<em>《远大前程》,哪部</em>..._百度知道</a></h3><p class=\"f13 m\">1个回答 - 提问时间: 2018年01月30日</p><div class=\"c-abstract\"><span class=\"m\">最佳答案: </span><em>《霍乱时期的爱情》</em> <em>《霍乱时期的爱情》</em>是加西亚·马尔克斯获得诺贝尔文学奖后出版的第一部小说。加西亚·马尔克斯是哥伦比亚作家,哥伦比亚共和国(西班牙语:...</div><div class=\"f13\"><a class=\"c-showurl\" href=\"http://www.baidu.com/link?url=Hp7lV7PukgEOjzRtBCV7w7wxM0Go2IkS8NTzM4PIspkx6fyPxAlNWUxGmYJTjgOo3KArI7GR_MLXipcwJ562olofskYuQaWWwoRRHfWi9O7\" style=\"text-decoration:none;\" target=\"_blank\">https://zhidao.baidu.com/quest... </a><div class=\"c-tools\" data-tools='{\"title\":\"《瓦尔登湖》、《霍乱时期的爱情》、《远大前程》,哪部..._百度知道\",\"url\":\"http://www.baidu.com/link?url=Hp7lV7PukgEOjzRtBCV7w7wxM0Go2IkS8NTzM4PIspkx6fyPxAlNWUxGmYJTjgOo3KArI7GR_MLXipcwJ562olofskYuQaWWwoRRHfWi9O7\"}' id=\"tools_17842897227918070740_1\"><a class=\"c-tip-icon\"><i class=\"c-icon c-icon-triangle-down-g\"></i></a></div><span class=\"c-icons-outer\"><span class=\"c-icons-inner\"></span></span></div></div>"
      ],
      "text/plain": [
       "<IPython.core.display.HTML object>"
      ]
     },
     "metadata": {},
     "output_type": "display_data"
    },
    {
     "data": {
      "text/html": [
       "<div class=\"result c-container \" data-click=\"{'rsv_bdr':'0' }\" id=\"2\" srcid=\"1599\" tpl=\"se_com_default\"><h3 class=\"t\"><a data-click=\"{\n",
       "\t\t\t'F':'778717EA',\n",
       "\t\t\t'F1':'9D43F1E4',\n",
       "\t\t\t'F2':'4CA6DE6B',\n",
       "\t\t\t'F3':'54E5243F',\n",
       "\t\t\t'T':'1517904282',\n",
       "\t\t\t\t\t\t'y':'37FFEEFF'\n",
       "\t\t\t \n",
       "\t\t\t\t\t\t\t\t\t}\" href=\"http://www.baidu.com/link?url=sxZRfOP52sMdwpDxokRpU-9aY620_atOCOXkX7uYsCQE5hHURosrRmuJ5HPFMPKFU42bUIXRZrewxrRchiBh3_\" target=\"_blank\"><em>《瓦尔登湖》</em>、<em>《霍乱时期的爱情》</em>、<em>《远大前程》,</em>那部作..._上学吧</a></h3><div class=\"c-abstract\"><span class=\" newTimeFactor_before_abs m\">2天前 - </span><em>《瓦尔登湖》</em>、<em>《霍乱时期的爱情》</em>、<em>《远大前程》,</em>那<em>部作品的作者</em>的国籍位于南半球?分享求助 去提问 您可能感兴趣的试题 1 漫画中一直陪伴在大熊左右...</div><div class=\"f13\"><a class=\"c-showurl\" href=\"http://www.baidu.com/link?url=sxZRfOP52sMdwpDxokRpU-9aY620_atOCOXkX7uYsCQE5hHURosrRmuJ5HPFMPKFU42bUIXRZrewxrRchiBh3_\" style=\"text-decoration:none;\" target=\"_blank\">www.shangxueba.com/ask... </a><div class=\"c-tools\" data-tools='{\"title\":\"《瓦尔登湖》、《霍乱时期的爱情》、《远大前程》,那部作..._上学吧\",\"url\":\"http://www.baidu.com/link?url=sxZRfOP52sMdwpDxokRpU-9aY620_atOCOXkX7uYsCQE5hHURosrRmuJ5HPFMPKFU42bUIXRZrewxrRchiBh3_\"}' id=\"tools_1815898777719681484_2\"><a class=\"c-tip-icon\"><i class=\"c-icon c-icon-triangle-down-g\"></i></a></div><span class=\"c-icons-outer\"><span class=\"c-icons-inner\"></span></span> - <a class=\"m\" data-click=\"{'rsv_snapshot':'1'}\" href=\"http://cache.baiducontent.com/c?m=9d78d513d9d432ac4f9d90690c66c0176f43f6172ba7d4020ba4843894732a44506793ac57510770a4d27d1716dc4a4b9af52172461453b48cb88c5ddccb85585f9f5332676d865664d30eaebb5154b237e059fede1df0cc832592dec5a3d84322cc44040a9780894d7363dd1ef50346e8b19838022c13ad9d3572ff28605a9c3430b250f8902518019686d94b3cc53da4600696df22c13b05c511b36f1a3335d15bb078465533f73f22e8454d13e3ed4a962c6e4153a138b3aeb1c2fc49fccb9c348f8eceb85e917796c0fdf801550055ed54b8bcbcc22a124015adcfc960c325ca8ef8fd0cb71b8d561af84a775c76d32ed1c79857852300a7bb3db46e75767b1ddfc425a22a6d3c70f1231bb318c370ba8c7c5cdc9dc7cec04b&amp;p=8b2a9715d9c240fe1da888345248&amp;newp=9f7ec415d9c240f20be29612114c92695c02dc3051d2d501298ffe0cc4241a1a1a3aecbb24241502d9c478610abb0f31aba7747d605f76ea&amp;user=baidu&amp;fm=sc&amp;query=%A1%B6%CD%DF%B6%FB%B5%C7%BA%FE%A1%B7%A1%A2%A1%B6%BB%F4%C2%D2%CA%B1%C6%DA%B5%C4%B0%AE%C7%E9%A1%B7%A1%A2%A1%B6%D4%B6%B4%F3%C7%B0%B3%CC%A1%B7%C4%C4%B2%BF%D7%F7%C6%B7%B5%C4%D7%F7%D5%DF&amp;qid=a5e38b370000efd0&amp;p1=2\" target=\"_blank\">百度快照</a></div></div>"
      ],
      "text/plain": [
       "<IPython.core.display.HTML object>"
      ]
     },
     "metadata": {},
     "output_type": "display_data"
    },
    {
     "name": "stdout",
     "output_type": "stream",
     "text": [
      "http://www.baidu.com/s?q1=《白雪公主》选自哪部经典作品?&q2=&q3=&q4=&rn=50\n",
      "question: 《白雪公主》选自哪部经典作品?\n",
      "('B', '《安徒生童话》', 3.4864160908809922)\n",
      "('A', '《格林童话》', 2.149436903072462)\n",
      "('C', '《伊索寓言》', 0.0)\n"
     ]
    },
    {
     "data": {
      "text/html": [
       "<div class=\"result c-container \" data-click=\"{'rsv_bdr':'0' }\" id=\"1\" srcid=\"1528\" tpl=\"se_com_default\"><h3 class=\"t\"><a data-click=\"{\n",
       "\t\t\t'F':'778717EA',\n",
       "\t\t\t'F1':'9D43B1E4',\n",
       "\t\t\t'F2':'4CA6DE6B',\n",
       "\t\t\t'F3':'54E5343F',\n",
       "\t\t\t'T':'1517904284',\n",
       "\t\t\t\t\t\t'y':'A6BFF7EF'\n",
       "\t\t\t \n",
       "\t\t\t\t\t\t\t\t\t}\" href=\"http://www.baidu.com/link?url=UTxRWr9JWaHHxwv3aUpWQupKoLJ34LSRqd7ojs96S21mZhcGHzS2o1B8-jfgmSIRzLAqqxphwPEUfk3q-wSiBq--xLM7N_sYATBEml186JS\" target=\"_blank\"><em>《白雪公主》选自哪部经典作品?</em>_百度知道</a></h3><p class=\"f13 m\">1个回答 - 提问时间: 2018年01月30日</p><div class=\"c-abstract\"><span class=\"m\">最佳答案: </span>《格林童话<em>》</em> 1812年格林童话第一集出版,包含了86篇童话故事,第二集增加了70个故事,其中以《灰姑娘<em>》</em>、《玫瑰小姐<em>》</em>、《受骗的青蛙<em>》</em>、《雪白和玫瑰红...</div><div class=\"f13\"><a class=\"c-showurl\" href=\"http://www.baidu.com/link?url=UTxRWr9JWaHHxwv3aUpWQupKoLJ34LSRqd7ojs96S21mZhcGHzS2o1B8-jfgmSIRzLAqqxphwPEUfk3q-wSiBq--xLM7N_sYATBEml186JS\" style=\"text-decoration:none;\" target=\"_blank\">https://zhidao.baidu.com/quest... </a><div class=\"c-tools\" data-tools='{\"title\":\"《白雪公主》选自哪部经典作品?_百度知道\",\"url\":\"http://www.baidu.com/link?url=UTxRWr9JWaHHxwv3aUpWQupKoLJ34LSRqd7ojs96S21mZhcGHzS2o1B8-jfgmSIRzLAqqxphwPEUfk3q-wSiBq--xLM7N_sYATBEml186JS\"}' id=\"tools_4907686674301532950_1\"><a class=\"c-tip-icon\"><i class=\"c-icon c-icon-triangle-down-g\"></i></a></div><span class=\"c-icons-outer\"><span class=\"c-icons-inner\"></span></span></div></div>"
      ],
      "text/plain": [
       "<IPython.core.display.HTML object>"
      ]
     },
     "metadata": {},
     "output_type": "display_data"
    },
    {
     "data": {
      "text/html": [
       "<div class=\"result c-container \" data-click=\"{'rsv_bdr':'0' }\" id=\"2\" srcid=\"1599\" tpl=\"se_com_default\"><h3 class=\"t\"><a data-click=\"{\n",
       "\t\t\t'F':'778717EA',\n",
       "\t\t\t'F1':'9D43F1E4',\n",
       "\t\t\t'F2':'4CA6DE6B',\n",
       "\t\t\t'F3':'54E5243F',\n",
       "\t\t\t'T':'1517904284',\n",
       "\t\t\t\t\t\t'y':'F1CD27FB'\n",
       "\t\t\t \n",
       "\t\t\t\t\t\t\t\t\t}\" href=\"http://www.baidu.com/link?url=i5tEfQV958RPGtQQR9PumnKJJSWAS2m3p_82RWUriWR3iS_lQsbzRst0kXAWtZCj3cVxWlJhbjgd5REI3pBmca\" target=\"_blank\"><em>《白雪公主》选自哪部经典作品?</em> - 上学吧找答案</a></h3><div class=\"c-abstract\"><span class=\" newTimeFactor_before_abs m\">2天前 - </span><em>《白雪公主》选自哪部经典作品?</em>分享求助 去提问 您可能感兴趣的试题 1 苹果手机通话时结束通话的按钮颜色是什么颜色? 点击查看答案 2 “大河向东流哇,...</div><div class=\"f13\"><a class=\"c-showurl\" href=\"http://www.baidu.com/link?url=i5tEfQV958RPGtQQR9PumnKJJSWAS2m3p_82RWUriWR3iS_lQsbzRst0kXAWtZCj3cVxWlJhbjgd5REI3pBmca\" style=\"text-decoration:none;\" target=\"_blank\">www.shangxueba.com/ask... </a><div class=\"c-tools\" data-tools='{\"title\":\"《白雪公主》选自哪部经典作品? - 上学吧找答案 \",\"url\":\"http://www.baidu.com/link?url=i5tEfQV958RPGtQQR9PumnKJJSWAS2m3p_82RWUriWR3iS_lQsbzRst0kXAWtZCj3cVxWlJhbjgd5REI3pBmca\"}' id=\"tools_15162250421344991031_2\"><a class=\"c-tip-icon\"><i class=\"c-icon c-icon-triangle-down-g\"></i></a></div><span class=\"c-icons-outer\"><span class=\"c-icons-inner\"></span></span> - <a class=\"m\" data-click=\"{'rsv_snapshot':'1'}\" href=\"http://cache.baiducontent.com/c?m=9f65cb4a8c8507ed4fece763105392230e54f72266848c403593c418c0735b36163bbca674634919d0c77b6404a44b5afdf04128715c7ea3de95c81cd2ace12b38f82323716c913110c46faadc3026d6539b4de8df0e97b1e741e3b9a4d7c82056dd52756df3f39c2a0503cb1fe76232f4d59a5f635a07cceb27648f4e062f885246a14689f7426e10f182ca5d3cd45aa77662e1b845b72965b304a56f0c5241b738b41f202227904a&amp;p=9a769a478e9513ff57ed93214741&amp;newp=8b2a970799934eaf5fadc83e4b5c92695c02dc3051d2d701298ffe0cc4241a1a1a3aecbb24241502d9c478610abb0f31aba7747d605f76f5d4&amp;user=baidu&amp;fm=sc&amp;query=%A1%B6%B0%D7%D1%A9%B9%AB%D6%F7%A1%B7%D1%A1%D7%D4%C4%C4%B2%BF%BE%AD%B5%E4%D7%F7%C6%B7%3F&amp;qid=e489372e0000f359&amp;p1=2\" target=\"_blank\">百度快照</a></div></div>"
      ],
      "text/plain": [
       "<IPython.core.display.HTML object>"
      ]
     },
     "metadata": {},
     "output_type": "display_data"
    },
    {
     "name": "stdout",
     "output_type": "stream",
     "text": [
      "http://www.baidu.com/s?q1=《马里奥》系列游戏中马里奥吃哪种植物可以体积变大?&q2=&q3=&q4=&rn=50\n",
      "question: 《马里奥》系列游戏中马里奥吃哪种植物可以体积变大?\n",
      "('A', '蘑菇', 3.52776997532736)\n",
      "('B', '土豆', 0.692685883109891)\n",
      "('C', '西红柿', 0.0)\n"
     ]
    },
    {
     "data": {
      "text/html": [
       "<div class=\"result c-container \" data-click=\"{'rsv_bdr':'0' }\" id=\"1\" srcid=\"1528\" tpl=\"se_com_default\"><h3 class=\"t\"><a data-click=\"{\n",
       "\t\t\t'F':'778717EA',\n",
       "\t\t\t'F1':'9D73B1E4',\n",
       "\t\t\t'F2':'4CA6DE6B',\n",
       "\t\t\t'F3':'54E5243F',\n",
       "\t\t\t'T':'1517904287',\n",
       "\t\t\t\t\t\t'y':'7F7F76F2'\n",
       "\t\t\t \n",
       "\t\t\t\t\t\t\t\t\t}\" href=\"http://www.baidu.com/link?url=sYMevoLIyEZM-YSdw_PUeRSQ-kGXYLXjbOXX0xm-ZhSKHh65Hzo0ICVzkw2TBng0XA3vypDbv69RMnQ8ZAZMeXJnkNu95SYQP6Li9W1IEGW\" target=\"_blank\"><em>《马里奥》系列游戏中</em>,<em>马里奥吃哪种植物可以体积变大?</em>_百度知道</a></h3><p class=\"f13 m\">1个回答 - 提问时间: 2018年01月30日</p><div class=\"c-abstract\"><span class=\"m\">最佳答案: </span>土豆 <em>游戏</em>开始时<em>马里奥</em>的“小型体型”、吃了红蘑菇之后的“大型体型”。</div><div class=\"f13\"><a class=\"c-showurl\" href=\"http://www.baidu.com/link?url=sYMevoLIyEZM-YSdw_PUeRSQ-kGXYLXjbOXX0xm-ZhSKHh65Hzo0ICVzkw2TBng0XA3vypDbv69RMnQ8ZAZMeXJnkNu95SYQP6Li9W1IEGW\" style=\"text-decoration:none;\" target=\"_blank\">https://zhidao.baidu.com/quest... </a><div class=\"c-tools\" data-tools='{\"title\":\"《马里奥》系列游戏中,马里奥吃哪种植物可以体积变大?_百度知道\",\"url\":\"http://www.baidu.com/link?url=sYMevoLIyEZM-YSdw_PUeRSQ-kGXYLXjbOXX0xm-ZhSKHh65Hzo0ICVzkw2TBng0XA3vypDbv69RMnQ8ZAZMeXJnkNu95SYQP6Li9W1IEGW\"}' id=\"tools_14146833437360225510_1\"><a class=\"c-tip-icon\"><i class=\"c-icon c-icon-triangle-down-g\"></i></a></div><span class=\"c-icons-outer\"><span class=\"c-icons-inner\"></span></span></div></div>"
      ],
      "text/plain": [
       "<IPython.core.display.HTML object>"
      ]
     },
     "metadata": {},
     "output_type": "display_data"
    },
    {
     "data": {
      "text/html": [
       "<div class=\"result c-container \" data-click=\"{'rsv_bdr':'0' }\" id=\"2\" srcid=\"1529\" tpl=\"se_com_default\"><h3 class=\"t\"><a data-click=\"{\n",
       "\t\t\t'F':'778717E8',\n",
       "\t\t\t'F1':'9D73F1E4',\n",
       "\t\t\t'F2':'4CA6DE6B',\n",
       "\t\t\t'F3':'54E5243D',\n",
       "\t\t\t'T':'1517904287',\n",
       "\t\t\t\t\t\t'y':'918BFBFA'\n",
       "\t\t\t \n",
       "\t\t\t\t\t\t\t\t\t}\" href=\"http://www.baidu.com/link?url=j7LZp22GtWyVRsDGUGdxZHmPOCzk_BXMtLrOPGVvMxu-S4f57ybENTSKTYbr4249PEu3uyh5iqsLqspj0cOCTURATaB4YjcLFB92SNHCmS_\" target=\"_blank\"><em>马里奥吃什么变大</em>_百度知道</a></h3><p class=\"f13 m\">3个回答 - 最新回答: 2017年11月01日</p><div class=\"c-abstract\">豆苗蘑菇汤 材料 豆苗、口蘑、金针菇、姜、色拉油、鸡精、味精 做法 1.豆苗、金针菇洗净,口蘑洗净切片,姜去皮切片。 2.水中放姜片煮,水热后加入口蘑,盖上盖。...<br/><a class=\"c\" href=\"http://zhidao.baidu.com/q?ct=17&amp;pn=0&amp;tn=ikaslist&amp;rn=10&amp;word=%E3%80%8A%E9%A9%AC%E9%87%8C%E5%A5%A5%E3%80%8B%E7%B3%BB%E5%88%97%E6%B8%B8%E6%88%8F%E4%B8%AD%E9%A9%AC%E9%87%8C%E5%A5%A5%E5%90%83%E5%93%AA%E7%A7%8D%E6%A4%8D%E7%89%A9%E5%8F%AF%E4%BB%A5%E4%BD%93%E7%A7%AF%E5%8F%98%E5%A4%A7%3F\" target=\"_blank\">更多关于《马里奥》系列游戏中马里奥吃哪种植物可以体积变大?的问题&gt;&gt;</a></div><div class=\"f13\"><a class=\"c-showurl\" href=\"http://www.baidu.com/link?url=j7LZp22GtWyVRsDGUGdxZHmPOCzk_BXMtLrOPGVvMxu-S4f57ybENTSKTYbr4249PEu3uyh5iqsLqspj0cOCTURATaB4YjcLFB92SNHCmS_\" style=\"text-decoration:none;\" target=\"_blank\">https://zhidao.baidu.com/quest... </a><div class=\"c-tools\" data-tools='{\"title\":\"马里奥吃什么变大_百度知道\",\"url\":\"http://www.baidu.com/link?url=j7LZp22GtWyVRsDGUGdxZHmPOCzk_BXMtLrOPGVvMxu-S4f57ybENTSKTYbr4249PEu3uyh5iqsLqspj0cOCTURATaB4YjcLFB92SNHCmS_\"}' id=\"tools_12756251449521389098_2\"><a class=\"c-tip-icon\"><i class=\"c-icon c-icon-triangle-down-g\"></i></a></div><span class=\"c-icons-outer\"><span class=\"c-icons-inner\"></span></span> - <a class=\"m\" data-click=\"{'rsv_snapshot':'1'}\" href=\"http://cache.baiducontent.com/c?m=9f65cb4a8c8507ed19fa950d100b9f3c4202d33e2bd7a7452c8fc50f84642c101a39fef8607551428898207a01ab4856eefa3d78350226b799cb8b40dbbc852858d2616b2e08c31c528516b8b84532b124875b99b868e7ad874484dfd0c4a82044ba51120b80e78a2a1767c978801126e2d68e39614860bdfa4166e82f753e9e5357c046ee91457976f5e1ad595bc25ac7171580d937a73f62a262a4086c5253d14ea67f253140e25856ff533c74859b5cf05c7f5722c65fc2bfd6c7ed5f8dacfd479cedbdab389410f1b3eeee014267238d32c9dfaab34d733576cebbd501b232ab8ceaad4d9903a6614bcd5a615f1bd91fe2958e27e51259e3906ee9285231580cc8c775&amp;p=853bc64ad4934eaf59e6cc37160d9e&amp;newp=8c70d715d9c340a403bcc7710f4e8c23161cda386a848d0a3b8fd12596664f171c0ba7ec67634b598fca786002aa4e58eaf33d71350920b391ce8e49d8afd4456edf653b2740d01a43&amp;user=baidu&amp;fm=sc&amp;query=%A1%B6%C2%ED%C0%EF%B0%C2%A1%B7%CF%B5%C1%D0%D3%CE%CF%B7%D6%D0%C2%ED%C0%EF%B0%C2%B3%D4%C4%C4%D6%D6%D6%B2%CE%EF%BF%C9%D2%D4%CC%E5%BB%FD%B1%E4%B4%F3%3F&amp;qid=e06b178f00010221&amp;p1=2\" target=\"_blank\">百度快照</a></div></div>"
      ],
      "text/plain": [
       "<IPython.core.display.HTML object>"
      ]
     },
     "metadata": {},
     "output_type": "display_data"
    },
    {
     "name": "stdout",
     "output_type": "stream",
     "text": [
      "http://www.baidu.com/s?q1=一个蚂蚁社群中负责产卵繁殖处于最核心地位的成员通常被称为?&q2=&q3=&q4=&rn=50\n",
      "[(蚁后, 2.6165740598367515), (蚁王, 0.0), (工蚁, 0.0), (, 0.0)]\n",
      "question: 一个蚂蚁社群中负责产卵繁殖处于最核心地位的成员通常被称为?\n",
      "('A', '蚁后', 2.6165740598367515)\n",
      "('B', '蚁王', 0.0)\n",
      "('C', '工蚁', 0.0)\n"
     ]
    },
    {
     "data": {
      "text/html": [
       "<div class=\"result c-container \" data-click=\"{'rsv_bdr':'0' }\" id=\"1\" srcid=\"1528\" tpl=\"se_com_default\"><h3 class=\"t\"><a data-click=\"{\n",
       "\t\t\t'F':'778717EA',\n",
       "\t\t\t'F1':'9D43B1E4',\n",
       "\t\t\t'F2':'4CA6DE6E',\n",
       "\t\t\t'F3':'54E5243F',\n",
       "\t\t\t'T':'1517904290',\n",
       "\t\t\t\t\t\t'y':'ADC88CE'\n",
       "\t\t\t \n",
       "\t\t\t\t\t\t\t\t\t}\" href=\"http://www.baidu.com/link?url=y7ghhiX5AE7PhKCRZlfyUosR2j_r1QtWkxJ2CMAD9hecgj9BGNy2cn8sPOB3xvzoeP0WBrOUeKsehLXkmpcBW4KwgXlZBR4q_Gpent8dLMK\" target=\"_blank\"><em>一个蚂蚁社群中</em>,<em>负责产卵繁殖</em>,<em>处于最核心地位的成员通常被称为?</em></a></h3><p class=\"f13 m\">1个回答 - 提问时间: 2018年01月30日</p><div class=\"c-abstract\"><span class=\"m\">最佳答案: </span>蚁后 最高级的也就<em>是</em>家族中的领导者--蚁后,它的主要职责<em>是产卵繁殖</em>后代。</div><div class=\"f13\"><a class=\"c-showurl\" href=\"http://www.baidu.com/link?url=y7ghhiX5AE7PhKCRZlfyUosR2j_r1QtWkxJ2CMAD9hecgj9BGNy2cn8sPOB3xvzoeP0WBrOUeKsehLXkmpcBW4KwgXlZBR4q_Gpent8dLMK\" style=\"text-decoration:none;\" target=\"_blank\">https://zhidao.baidu.com/quest... </a><div class=\"c-tools\" data-tools='{\"title\":\"一个蚂蚁社群中,负责产卵繁殖,处于最核心地位的成员通常被称为?\",\"url\":\"http://www.baidu.com/link?url=y7ghhiX5AE7PhKCRZlfyUosR2j_r1QtWkxJ2CMAD9hecgj9BGNy2cn8sPOB3xvzoeP0WBrOUeKsehLXkmpcBW4KwgXlZBR4q_Gpent8dLMK\"}' id=\"tools_15196362889323062361_1\"><a class=\"c-tip-icon\"><i class=\"c-icon c-icon-triangle-down-g\"></i></a></div><span class=\"c-icons-outer\"><span class=\"c-icons-inner\"></span></span></div></div>"
      ],
      "text/plain": [
       "<IPython.core.display.HTML object>"
      ]
     },
     "metadata": {},
     "output_type": "display_data"
    },
    {
     "data": {
      "text/html": [
       "<div class=\"result c-container \" data-click=\"{'rsv_bdr':'0' ,'rsv_cd':'pt:40519'}\" id=\"2\" srcid=\"1599\" tpl=\"se_com_default\"><h3 class=\"t\"><a data-click=\"{\n",
       "\t\t\t'F':'778717E8',\n",
       "\t\t\t'F1':'9D73F1E4',\n",
       "\t\t\t'F2':'4CA6DE6B',\n",
       "\t\t\t'F3':'54E5242D',\n",
       "\t\t\t'T':'1517904290',\n",
       "\t\t\t\t\t\t'y':'C6FE7FBF'\n",
       "\t\t\t \n",
       "\t\t\t\t\t\t\t\t\t}\" href=\"http://www.baidu.com/link?url=13_tY7ZTYUA_PKQD2XEeUWKbH8umnpThgToHJmMffgm5XmqUrJH17fcf5dHG_njWNhN2daM5kMa1aFRQKkhzHK\" target=\"_blank\">...一只<em>蚂蚁</em>发现食物后,会迅速返回巢穴.不一会儿,一大<em>群蚂蚁</em>排着...</a></h3><div class=\"c-abstract\">蚁后的主要职能<em>是产卵</em>,<em>繁殖</em>后代;雄蚁的职能是与蚁后交配,工蚁的主要职能是筑巢,...像<em>蚂蚁</em>一样营<em>社群</em>生活的动物,群体内部往往形成一定的组织,<em>成员</em>之间有明确的分式...</div><div class=\"f13\"><a class=\"c-showurl\" href=\"http://www.baidu.com/link?url=13_tY7ZTYUA_PKQD2XEeUWKbH8umnpThgToHJmMffgm5XmqUrJH17fcf5dHG_njWNhN2daM5kMa1aFRQKkhzHK\" style=\"text-decoration:none;\" target=\"_blank\">www.qiujieda.com/exerc... </a><div class=\"c-tools\" data-tools='{\"title\":\"...一只蚂蚁发现食物后,会迅速返回巢穴.不一会儿,一大群蚂蚁排着...\",\"url\":\"http://www.baidu.com/link?url=13_tY7ZTYUA_PKQD2XEeUWKbH8umnpThgToHJmMffgm5XmqUrJH17fcf5dHG_njWNhN2daM5kMa1aFRQKkhzHK\"}' id=\"tools_17151570185055119272_2\"><a class=\"c-tip-icon\"><i class=\"c-icon c-icon-triangle-down-g\"></i></a></div><span class=\"c-icons-outer\"><span class=\"c-icons-inner\"></span></span> - <a class=\"m\" data-click=\"{'rsv_snapshot':'1'}\" href=\"http://cache.baiducontent.com/c?m=9f65cb4a8c8507ed4fece763105392230e54f7206790884e2882c05f93130a1c187bb4f17062415f929261375af21701bfbb2b75340924b390dccd179ded9d3f59883044000b873105a313b8bf4232c050872be9b86e96ad863284dfa6c4de2444bb58120d85e78a2a1765c078806726e2d68e3e114866b8fa3115e8297d3eef5057c041ee94307906f1e1ad5c5bb759c7101180d936a73f62a263a1086b2753d648a678503131905857f9534e00859d5cf05c0a5722c65fc5bcd6c19c5f8dacfd41ebedbadf38e362f1b4ecee70326722fd32c8a1aac34a733572cecbae01b435ab8beaad4d9903a7114bcb5661596dd91b97958e27e5132ce39462e95923315b0bc8b204e805737841d82919c108b074a6ff725cdd9a8af9e80236dc&amp;p=8b2a9715d9c342ab43b7c3271c408a&amp;newp=cb64c64ad48408fd18bd9b7e0e128d231610db2151d7d31e6b82c825d7331b001c3bbfb423251301d4c3786201a44a57eaf2377037012ba3dda5c91d9fb4c57479cf6e6630&amp;user=baidu&amp;fm=sc&amp;query=%D2%BB%B8%F6%C2%EC%D2%CF%C9%E7%C8%BA%D6%D0%B8%BA%D4%F0%B2%FA%C2%D1%B7%B1%D6%B3%B4%A6%D3%DA%D7%EE%BA%CB%D0%C4%B5%D8%CE%BB%B5%C4%B3%C9%D4%B1%CD%A8%B3%A3%B1%BB%B3%C6%CE%AA%3F&amp;qid=e7a2ebed000102e1&amp;p1=2\" target=\"_blank\">百度快照</a></div></div>"
      ],
      "text/plain": [
       "<IPython.core.display.HTML object>"
      ]
     },
     "metadata": {},
     "output_type": "display_data"
    },
    {
     "name": "stdout",
     "output_type": "stream",
     "text": [
      "http://www.baidu.com/s?q1=一些小伤口流血之后会自行凝结结痂是因为血液中含有哪种成分?&q2=&q3=&q4=&rn=50\n",
      "question: 一些小伤口流血之后会自行凝结结痂是因为血液中含有哪种成分?\n",
      "('A', '红细胞', 2.7933566329880883)\n",
      "('B', '血小板', 2.5869419278897974)\n",
      "('C', '白细胞', 1.6013718185037016)\n"
     ]
    },
    {
     "data": {
      "text/html": [
       "<div class=\"result c-container \" data-click=\"{'rsv_bdr':'0' }\" id=\"1\" srcid=\"1599\" tpl=\"se_com_default\"><h3 class=\"t\"><a data-click=\"{\n",
       "\t\t\t'F':'378717EA',\n",
       "\t\t\t'F1':'9D73F1E4',\n",
       "\t\t\t'F2':'4CA6DE6B',\n",
       "\t\t\t'F3':'54E5243F',\n",
       "\t\t\t'T':'1517904292',\n",
       "\t\t\t\t\t\t'y':'7FE7F77B'\n",
       "\t\t\t \n",
       "\t\t\t\t\t\t\t\t\t}\" href=\"http://www.baidu.com/link?url=MqdA5NedQsVUC6cIYxfLx9VoaBmBF8qWoHHO5ENkGr6E0vFka9f4OX17OimwfKKg9e_9sPXI2gu62yTUiGE59hcX5wc0QwtzNEZ3UkLcVZq\" target=\"_blank\">百万英雄题目及答案回顾1.14</a></h3><div class=\"c-row c-gap-top-small\"><div class=\"general_image_pic c-span6\"><a class=\"c-img6\" href=\"http://www.baidu.com/link?url=MqdA5NedQsVUC6cIYxfLx9VoaBmBF8qWoHHO5ENkGr6E0vFka9f4OX17OimwfKKg9e_9sPXI2gu62yTUiGE59hcX5wc0QwtzNEZ3UkLcVZq\" style=\"height:75px\" target=\"_blank\"><img class=\"c-img c-img6\" src=\"http://t12.baidu.com/it/u=758278310,798377617&amp;fm=96&amp;s=73C8B70E16620EAC2491AC6C0300E058&amp;w=121&amp;h=75&amp;img.JPEG\" style=\"height:75px;\"/></a></div><div class=\"c-span18 c-span-last\"><div class=\"c-abstract\"><span class=\" newTimeFactor_before_abs m\">2018年1月17日 - </span>5、下列哪一种物质的主要化学成分与其他两种不同? 水晶 6、<em>一些小伤口流血之后会自行凝结结痂是因为血液中含有哪种成分?</em> 血小板 7、获得了“奥斯卡金像奖终身成就...</div><div class=\"f13\"><a class=\"c-showurl\" href=\"http://www.baidu.com/link?url=MqdA5NedQsVUC6cIYxfLx9VoaBmBF8qWoHHO5ENkGr6E0vFka9f4OX17OimwfKKg9e_9sPXI2gu62yTUiGE59hcX5wc0QwtzNEZ3UkLcVZq\" style=\"text-decoration:none;\" target=\"_blank\">https://baijiahao.baidu.com/s?... </a><div class=\"c-tools\" data-tools='{\"title\":\"百万英雄题目及答案回顾1.14\",\"url\":\"http://www.baidu.com/link?url=MqdA5NedQsVUC6cIYxfLx9VoaBmBF8qWoHHO5ENkGr6E0vFka9f4OX17OimwfKKg9e_9sPXI2gu62yTUiGE59hcX5wc0QwtzNEZ3UkLcVZq\"}' id=\"tools_10334303126848659542_1\"><a class=\"c-tip-icon\"><i class=\"c-icon c-icon-triangle-down-g\"></i></a></div><span class=\"c-icons-outer\"><span class=\"c-icons-inner\"></span></span> - <a class=\"m\" data-click=\"{'rsv_snapshot':'1'}\" href=\"http://cache.baiducontent.com/c?m=9d78d513d9d437af4f9de4697b14c015124381132ba1d2020cd78449e3732a4a501793ac57560772a0d27d1716de4a4b9ef52104341453c48cc9f85dabbf855b589f57476768875613a30edfbb5152c237912afed91cf0ccf625e5acc5a5dd4352ba44747c9784fd4d7062dd18f3033093b1e93e022813ad99327288536028ef3431c55088e5256f779680dd4b38c33da11606e4dc22b14e05c310b36c683332a05bc17b462740f73923e8323f13939b4a97596e3352a13eb2aeb7b4fc49fccb9b378f8bcdb82ee57790c1fd8f75557122ed55bfbcccb92a144015afceca51846cb3a0aafc0ea803d66341a70d2574339538ced1d240f2150aa7bc3eb93e2251795780ae35e874043467bf3f6eb218ca7eb48a724edbe89a8f9a1e43af92c07160fea9fa16f77a0f55ad6519409bb7417711cd513a8bd2d82b86&amp;p=9d61c45b94934eaf5aedd72d0214cd&amp;newp=c06ec54ad6c141e80db2d62d0214c9231610db2151d6d7156b82c825d7331b001c3bbfb423251301d4c0796306af425beef7327131012ba3dda5c91d9fb4c57479cf726b32&amp;user=baidu&amp;fm=sc&amp;query=%D2%BB%D0%A9%D0%A1%C9%CB%BF%DA%C1%F7%D1%AA%D6%AE%BA%F3%BB%E1%D7%D4%D0%D0%C4%FD%BD%E1%BD%E1%F0%E8%CA%C7%D2%F2%CE%AA%D1%AA%D2%BA%D6%D0%BA%AC%D3%D0%C4%C4%D6%D6%B3%C9%B7%D6%3F&amp;qid=db61ac790001206b&amp;p1=1\" target=\"_blank\">百度快照</a></div></div></div></div>"
      ],
      "text/plain": [
       "<IPython.core.display.HTML object>"
      ]
     },
     "metadata": {},
     "output_type": "display_data"
    },
    {
     "data": {
      "text/html": [
       "<div class=\"result c-container \" data-click=\"{'rsv_bdr':'0' ,'rsv_cd':'vLevel:1'}\" id=\"2\" srcid=\"1599\" tpl=\"se_com_default\"><h3 class=\"t\"><a data-click=\"{\n",
       "\t\t\t'F':'378717EA',\n",
       "\t\t\t'F1':'9D73F1E4',\n",
       "\t\t\t'F2':'4CA6DE6B',\n",
       "\t\t\t'F3':'54E5243F',\n",
       "\t\t\t'T':'1517904292',\n",
       "\t\t\t\t\t\t'y':'9F9F3EFF'\n",
       "\t\t\t \n",
       "\t\t\t\t\t\t\t\t\t}\" href=\"http://www.baidu.com/link?url=dYwz3GzczaXOtfgCOO5GcrLYX8GO5tpYdfhU-NYqyauM_5Sxk7ZRDFpqQfKTIYPkxp3TzGL3ox5hVEy6I0HD-VUKpbvJFKUU7uz1u0z9pOG\" target=\"_blank\">百万英雄往期题目总结(1月14日题)</a></h3><div class=\"c-abstract\"><span class=\" newTimeFactor_before_abs m\">2018年1月25日 - </span>6、<em>一些小伤口流血之后会自行凝结结痂是因为血液中含有哪种成分?</em>答案:血小板。 7、获得了“奥斯卡金像奖终身成就奖”的首位中国人,以下哪部电影中他出...</div><div class=\"f13\"><a class=\"c-showurl\" href=\"http://www.baidu.com/link?url=dYwz3GzczaXOtfgCOO5GcrLYX8GO5tpYdfhU-NYqyauM_5Sxk7ZRDFpqQfKTIYPkxp3TzGL3ox5hVEy6I0HD-VUKpbvJFKUU7uz1u0z9pOG\" style=\"text-decoration:none;\" target=\"_blank\">www.360doc.com/content... </a><div class=\"c-tools\" data-tools='{\"title\":\"百万英雄往期题目总结(1月14日题) \",\"url\":\"http://www.baidu.com/link?url=dYwz3GzczaXOtfgCOO5GcrLYX8GO5tpYdfhU-NYqyauM_5Sxk7ZRDFpqQfKTIYPkxp3TzGL3ox5hVEy6I0HD-VUKpbvJFKUU7uz1u0z9pOG\"}' id=\"tools_7157941033674970165_2\"><a class=\"c-tip-icon\"><i class=\"c-icon c-icon-triangle-down-g\"></i></a></div><span class=\"c-icons-outer\"><span class=\"c-icons-inner\"><span class=\"c-vline\"></span><span class=\"c-trust-as vstar \" data_key=\"4587693043541246114\" hint-data='{\"label\":\"北京六智信息技术股份有限公司\",\"url\":\"https://www.baidu.com/s?wd=%E5%8C%97%E4%BA%AC%E5%85%AD%E6%99%BA%E4%BF%A1%E6%81%AF%E6%8A%80%E6%9C%AF%E8%82%A1%E4%BB%BD%E6%9C%89%E9%99%90%E5%85%AC%E5%8F%B8@v&amp;vmp_ec=fd65671c839d48e75e9347aaat94c3z2B3X99d548e3b7uY562dbNyMk27je1s4dX34J2abe336a57b6&amp;vmp_ectm=1517454717&amp;from=vs\",\"hint\":[{\"txt\":\"[ecard 67]\",\"vlevel\":\"1\"}]}' hint-type=\"vstar\"><a class=\"c-icon c-icon-v c-icon-v1\" data-click=\"{'title':'vstar','rsv_vlevel':'1'}\" href=\"https://www.baidu.com/s?wd=%E5%8C%97%E4%BA%AC%E5%85%AD%E6%99%BA%E4%BF%A1%E6%81%AF%E6%8A%80%E6%9C%AF%E8%82%A1%E4%BB%BD%E6%9C%89%E9%99%90%E5%85%AC%E5%8F%B8@v&amp;vmp_ec=fd65671c839d48e75e9347aaat94c3z2B3X99d548e3b7uY562dbNyMk27je1s4dX34J2abe336a57b6&amp;vmp_ectm=1517454717&amp;from=vs&amp;product=v&amp;rsv_dl=0_left_v_1\" target=\"_blank\"></a></span></span></span> - <a class=\"m\" data-click=\"{'rsv_snapshot':'1'}\" href=\"http://cache.baiducontent.com/c?m=9d78d513d9d437af4f9de4697b14c015124381132ba1d2020cd78449e3732a4a501793ac57560772a0d27d1716de4a4b9ef52104341453c48cc9f85dabbf855b589f57476768875613a30edfbb5152c237912afed91cf0ccf625e5acc5a5dd4352ba44747c9784fd4d7062dd18f3033093b1e93e022813ad99327288536028ef3431c55088e5256f779680dd4b38c33da11606e4dc22b14e05c310b36c683332a05bc17b462740f73923e8323f13939b4a97596e3352a13eb2aeb7b4fc49fccb9b378f8bcdb82ee57790c1fd8f75557122ed55bfbcccb92a144015afceca51846cb3a0aafc0efe15a40d41ff1833386bb96a9080d90aa3755a83b635a134737b744c88ef32e2767a7233ab3e1fac1cc668b28c7d40dcea998c881231aa99c3787cfcaebf48a06d7962b6611d48&amp;p=9336f95986cc46a819acc7710f4a&amp;newp=c96ec64ad4934ea85fa5cf36474992695c02dc3051d4d401298ffe0cc4241a1a1a3aecbb24241502d9c478610abb0f31aba7747d605f76&amp;user=baidu&amp;fm=sc&amp;query=%D2%BB%D0%A9%D0%A1%C9%CB%BF%DA%C1%F7%D1%AA%D6%AE%BA%F3%BB%E1%D7%D4%D0%D0%C4%FD%BD%E1%BD%E1%F0%E8%CA%C7%D2%F2%CE%AA%D1%AA%D2%BA%D6%D0%BA%AC%D3%D0%C4%C4%D6%D6%B3%C9%B7%D6%3F&amp;qid=db61ac790001206b&amp;p1=2\" target=\"_blank\">百度快照</a></div></div>"
      ],
      "text/plain": [
       "<IPython.core.display.HTML object>"
      ]
     },
     "metadata": {},
     "output_type": "display_data"
    },
    {
     "name": "stdout",
     "output_type": "stream",
     "text": [
      "http://www.baidu.com/s?q1=一般来说树枝上哪部分叶子最后枯落?&q2=&q3=&q4=&rn=50\n",
      "question: 一般来说树枝上哪部分叶子最后枯落?\n",
      "('C', '树梢部分', 11.411201706922602)\n",
      "('B', '树枝中部', 11.31538180507507)\n",
      "('A', '靠近树干部分', 9.609642185581501)\n"
     ]
    },
    {
     "data": {
      "text/html": [
       "<div class=\"result c-container \" data-click=\"{'rsv_bdr':'0' ,'rsv_cd':'pt:40520'}\" id=\"1\" srcid=\"1599\" tpl=\"se_com_default\"><h3 class=\"t\"><a data-click=\"{\n",
       "\t\t\t'F':'778317E8',\n",
       "\t\t\t'F1':'9D73F1E4',\n",
       "\t\t\t'F2':'4CA6DD6E',\n",
       "\t\t\t'F3':'54E5342D',\n",
       "\t\t\t'T':'1517904294',\n",
       "\t\t\t\t\t\t'y':'DCFFFCFE'\n",
       "\t\t\t \n",
       "\t\t\t\t\t\t\t\t\t}\" href=\"http://www.baidu.com/link?url=7B_pLniP_eMwHP2Zm1E-ewPjXDlA-JNOyIhQk-tWc8tj9kdnXzN5xUQqKvXvsg8MquSB4C-FyQZcU7WlAylEc_\" target=\"_blank\"><em>到</em>了秋天,万木凋零,落叶满地。<em>树枝上哪部分</em>的<em>叶子最后枯落?</em></a></h3><div class=\"c-abstract\"><span class=\" newTimeFactor_before_abs m\">2014年1月30日 - </span>到了秋天,万木凋零,落叶满地。<em>树枝上哪部分</em>的<em>叶子最后枯落?</em>:树梢部分’。因为树木在生长过程中,把大量的养料送上树梢,树梢平时得到的养料最多,所以那...</div><div class=\"f13\"><a class=\"c-showurl\" href=\"http://www.baidu.com/link?url=7B_pLniP_eMwHP2Zm1E-ewPjXDlA-JNOyIhQk-tWc8tj9kdnXzN5xUQqKvXvsg8MquSB4C-FyQZcU7WlAylEc_\" style=\"text-decoration:none;\" target=\"_blank\">https://iask.sina.com.cn/b/5du... </a><div class=\"c-tools\" data-tools='{\"title\":\"到了秋天,万木凋零,落叶满地。树枝上哪部分的叶子最后枯落?\",\"url\":\"http://www.baidu.com/link?url=7B_pLniP_eMwHP2Zm1E-ewPjXDlA-JNOyIhQk-tWc8tj9kdnXzN5xUQqKvXvsg8MquSB4C-FyQZcU7WlAylEc_\"}' id=\"tools_18046511020522282617_1\"><a class=\"c-tip-icon\"><i class=\"c-icon c-icon-triangle-down-g\"></i></a></div><span class=\"c-icons-outer\"><span class=\"c-icons-inner\"></span></span> - <a class=\"m\" data-click=\"{'rsv_snapshot':'1'}\" href=\"http://cache.baiducontent.com/c?m=9f65cb4a8c8507ed19fa950d100b8c35580d97634b968b492cc3933fc23904564711b2e73a720d038582396043d9115f998f2172405966e8c5dccd179ded9d3f59883044000bf64305a418b8ca3632b022872aefb81897ad814284ded5c4de2444bb20120e85e7fd5e1767ce78f1642692ad8e39614811cafa4163e828713e9e5357c647ee9046797784e1ab585bc25ac7171180df31a74817a265a5081a5453d649a67f263140935853fe533c74859b29f05c0f5722c65fc2b9d6c1ed&amp;p=80759a45d5c606e407be9b7c56009c&amp;newp=882a9546d38512a05af3d6235150c9231610db2151d4d6106b82c825d7331b001c3bbfb423251300d6ce786d01aa425eeaf3307833012ba3dda5c91d9fb4c57479ce&amp;user=baidu&amp;fm=sc&amp;query=%D2%BB%B0%E3%C0%B4%CB%B5%CA%F7%D6%A6%C9%CF%C4%C4%B2%BF%B7%D6%D2%B6%D7%D3%D7%EE%BA%F3%BF%DD%C2%E4%3F&amp;qid=e6e0ab940000e8b0&amp;p1=1\" target=\"_blank\">百度快照</a></div></div>"
      ],
      "text/plain": [
       "<IPython.core.display.HTML object>"
      ]
     },
     "metadata": {},
     "output_type": "display_data"
    },
    {
     "data": {
      "text/html": [
       "<div class=\"result c-container \" data-click=\"{'rsv_bdr':'0' }\" id=\"2\" srcid=\"1529\" tpl=\"se_com_default\"><h3 class=\"t\"><a data-click=\"{\n",
       "\t\t\t'F':'778317E8',\n",
       "\t\t\t'F1':'9D73F1E4',\n",
       "\t\t\t'F2':'4CA6DE6B',\n",
       "\t\t\t'F3':'54E5343D',\n",
       "\t\t\t'T':'1517904294',\n",
       "\t\t\t\t\t\t'y':'D5FBC4EF'\n",
       "\t\t\t \n",
       "\t\t\t\t\t\t\t\t\t}\" href=\"http://www.baidu.com/link?url=L8J4mA7pFL9A9g2WJ9kpLIVvq9pe06RRwIwh8Lz3w9SgyuDE5EvNYZMOHkAYNjSw1bX1aq9TsffZVeW3-oc8-F7ys4g9TCfaLI9R-suQRM3\" target=\"_blank\">秋天<em>树枝上哪部分</em>的<em>叶子最后枯落?</em>_百度知道</a></h3><p class=\"f13 m\">2个回答 - 提问时间: 2014年01月23日</p><div class=\"c-abstract\"><em>最后落</em>的那个 呵呵呵<br/><a class=\"c\" href=\"http://zhidao.baidu.com/q?ct=17&amp;pn=0&amp;tn=ikaslist&amp;rn=10&amp;word=%E4%B8%80%E8%88%AC%E6%9D%A5%E8%AF%B4%E6%A0%91%E6%9E%9D%E4%B8%8A%E5%93%AA%E9%83%A8%E5%88%86%E5%8F%B6%E5%AD%90%E6%9C%80%E5%90%8E%E6%9E%AF%E8%90%BD%3F\" target=\"_blank\">更多关于一般来说树枝上哪部分叶子最后枯落?的问题&gt;&gt;</a></div><div class=\"f13\"><a class=\"c-showurl\" href=\"http://www.baidu.com/link?url=L8J4mA7pFL9A9g2WJ9kpLIVvq9pe06RRwIwh8Lz3w9SgyuDE5EvNYZMOHkAYNjSw1bX1aq9TsffZVeW3-oc8-F7ys4g9TCfaLI9R-suQRM3\" style=\"text-decoration:none;\" target=\"_blank\">https://zhidao.baidu.com/quest... </a><div class=\"c-tools\" data-tools='{\"title\":\"秋天树枝上哪部分的叶子最后枯落?_百度知道\",\"url\":\"http://www.baidu.com/link?url=L8J4mA7pFL9A9g2WJ9kpLIVvq9pe06RRwIwh8Lz3w9SgyuDE5EvNYZMOHkAYNjSw1bX1aq9TsffZVeW3-oc8-F7ys4g9TCfaLI9R-suQRM3\"}' id=\"tools_13660071139633171256_2\"><a class=\"c-tip-icon\"><i class=\"c-icon c-icon-triangle-down-g\"></i></a></div><span class=\"c-icons-outer\"><span class=\"c-icons-inner\"></span></span> - <a class=\"m\" data-click=\"{'rsv_snapshot':'1'}\" href=\"http://cache.baiducontent.com/c?m=9f65cb4a8c8507ed19fa950d100b9f3c4202d33e2bd7a7452c8fc50f84642c101a39fef8607551428898207a07ae4a58edf13176350827b099c8834bd9bd852858d2616b2e08c31c528516b8bd4632b150872aebb86ee6adf14284dfd0c4af5244cb23120bf0e7fb5d1715ba7881672697a38e3e114863befa3115e8287c3eee5757b737ee9134797687e1dc2c5bb32ac7116580df30a74816a212d4086d2453d048a67e543146e158268f534b01859c2af05a0a5757b75fb2c9d6c69f5ffaaafd30e8edbaaf38e266&amp;p=8a7fc64ad48003ff57ed947e5c4994&amp;newp=8b2a972986cc41af58fed4225f07c623161cda386a848d0a3b8fd12594654f171c0ba7ec67634b598fca786002aa4e5de9f0327736002ab49cc98849d8afd4456edf653b2740d02d&amp;user=baidu&amp;fm=sc&amp;query=%D2%BB%B0%E3%C0%B4%CB%B5%CA%F7%D6%A6%C9%CF%C4%C4%B2%BF%B7%D6%D2%B6%D7%D3%D7%EE%BA%F3%BF%DD%C2%E4%3F&amp;qid=e6e0ab940000e8b0&amp;p1=2\" target=\"_blank\">百度快照</a></div></div>"
      ],
      "text/plain": [
       "<IPython.core.display.HTML object>"
      ]
     },
     "metadata": {},
     "output_type": "display_data"
    },
    {
     "name": "stdout",
     "output_type": "stream",
     "text": [
      "http://www.baidu.com/s?q1=三毛的经典名句“每想你一次天上飘落一粒沙”从此形成了哪个沙&q2=&q3=&q4=&rn=50\n",
      "question: 三毛的经典名句“每想你一次天上飘落一粒沙”从此形成了哪个沙\n",
      "('C', '戈壁沙漠', 0.4753252157538469)\n",
      "('A', '塔克拉玛干沙漠', 0.0)\n",
      "('B', '撒哈拉沙漠', 0.0)\n"
     ]
    },
    {
     "data": {
      "text/html": [
       "<div class=\"result c-container \" data-click=\"{'rsv_bdr':'0' }\" id=\"1\" srcid=\"1529\" tpl=\"se_com_default\"><h3 class=\"t\"><a data-click=\"{\n",
       "\t\t\t'F':'778717E8',\n",
       "\t\t\t'F1':'9D73F1E4',\n",
       "\t\t\t'F2':'4CA6DE6B',\n",
       "\t\t\t'F3':'54E5343D',\n",
       "\t\t\t'T':'1517904296',\n",
       "\t\t\t\t\t\t'y':'F7FDD7F6'\n",
       "\t\t\t \n",
       "\t\t\t\t\t\t\t\t\t}\" href=\"http://www.baidu.com/link?url=ZaHZvTmVnXErMRhCorcysg9D3U7vhdRExeD6VQLYgyeoIpqwYxBsmn3hFlF7gpPTo_wnrAwPZP-CPMw8Nhbl8K\" target=\"_blank\">“<em>每想你一次</em>,<em>天上飘落一粒沙</em>,<em>从此形成了</em>撒哈拉”这段..._百度知道</a></h3><div class=\"c-row c-gap-top-small\"><div class=\"general_image_pic c-span6\"><a class=\"c-img6\" href=\"http://www.baidu.com/link?url=ZaHZvTmVnXErMRhCorcysg9D3U7vhdRExeD6VQLYgyeoIpqwYxBsmn3hFlF7gpPTo_wnrAwPZP-CPMw8Nhbl8K\" style=\"height:75px\" target=\"_blank\"><img class=\"c-img c-img6\" src=\"http://i7.baidu.com/it/u=871432446,2811123534&amp;fm=85&amp;s=777516C683BB39842C2680220300F05B\" style=\"height:75px;\"/></a></div><div class=\"c-span18 c-span-last\"><p class=\"f13 m\">3个回答 - 最新回答: 2013年08月11日</p><div class=\"c-abstract\"><span class=\"m\">最佳答案: </span>奇女子<em>三毛</em> 原句:<em>每想你一次</em>,<em>天上飘落一粒沙</em>,<em>从此形成了</em>撒哈拉。<em>每想你一次</em>,天上就掉下一滴水,于是形成了太平洋。 ...<br/><a class=\"c\" href=\"http://zhidao.baidu.com/q?ct=17&amp;pn=0&amp;tn=ikaslist&amp;rn=10&amp;word=%E4%B8%89%E6%AF%9B%E7%9A%84%E7%BB%8F%E5%85%B8%E5%90%8D%E5%8F%A5%E2%80%9C%E6%AF%8F%E6%83%B3%E4%BD%A0%E4%B8%80%E6%AC%A1%E5%A4%A9%E4%B8%8A%E9%A3%98%E8%90%BD%E4%B8%80%E7%B2%92%E6%B2%99%E2%80%9D%E4%BB%8E%E6%AD%A4%E5%BD%A2%E6%88%90%E4%BA%86%E5%93%AA%E4%B8%AA%E6%B2%99\" target=\"_blank\">更多关于三毛的经典名句“每想你一次天上飘落一粒沙”从此形成了哪个沙的问题&gt;&gt;</a></div><div class=\"f13\"><a class=\"c-showurl\" href=\"http://www.baidu.com/link?url=ZaHZvTmVnXErMRhCorcysg9D3U7vhdRExeD6VQLYgyeoIpqwYxBsmn3hFlF7gpPTo_wnrAwPZP-CPMw8Nhbl8K\" style=\"text-decoration:none;\" target=\"_blank\">https://zhidao.baidu.com/quest... </a><div class=\"c-tools\" data-tools='{\"title\":\"“每想你一次,天上飘落一粒沙,从此形成了撒哈拉”这段..._百度知道\",\"url\":\"http://www.baidu.com/link?url=ZaHZvTmVnXErMRhCorcysg9D3U7vhdRExeD6VQLYgyeoIpqwYxBsmn3hFlF7gpPTo_wnrAwPZP-CPMw8Nhbl8K\"}' id=\"tools_16335387754647592984_1\"><a class=\"c-tip-icon\"><i class=\"c-icon c-icon-triangle-down-g\"></i></a></div><span class=\"c-icons-outer\"><span class=\"c-icons-inner\"></span></span> - <a class=\"m\" data-click=\"{'rsv_snapshot':'1'}\" href=\"http://cache.baiducontent.com/c?m=9d78d513d9d430a54f99e2697c17c015694381132ba7d7020ed28449e3732b36501595ac57250773d5d27d1716de484b9e802102401457b18cc8f95dacba85585b9f2644676df25665a30edecd5152c037912afed919f0ca8025e3a8c5a2a84352ba44740b9787fa4d711fdd1e84033093b1e84c022c67ad9c3072885f6028ef3436b6508990251f049685dc4b4db33da16a06e7ae22b04f05c515b3691a3334a65bc078462740f73925e8354a13e2ea4a96216e4153a139b0aeb0c6fc49fccb9b378f8bcdb85f9f7792c1fdf801550159ed55bfbffaf2636b1f449f889f01c541a1e7a4e017bf478a075ccd0d25743d897c94f5de0aad7f19b3b029b8727f7a350ddab970fa70726b34bf3e6feb599f2b&amp;p=9765dd5486cc41af59aec7710f4e91&amp;newp=9871de0485cc43b32abd9b7e0d178023161cda386a848d0a3b8fd12590654f171c0ba7ec67634b598fca786002ab4c56e9f1327635032ab79ecb8c49d8afd4456edf653b2740d05d60&amp;user=baidu&amp;fm=sc&amp;query=%C8%FD%C3%AB%B5%C4%BE%AD%B5%E4%C3%FB%BE%E4%A1%B0%C3%BF%CF%EB%C4%E3%D2%BB%B4%CE%CC%EC%C9%CF%C6%AE%C2%E4%D2%BB%C1%A3%C9%B3%A1%B1%B4%D3%B4%CB%D0%CE%B3%C9%C1%CB%C4%C4%B8%F6%C9%B3&amp;qid=8e62e9970000f28f&amp;p1=1\" target=\"_blank\">百度快照</a></div></div></div></div>"
      ],
      "text/plain": [
       "<IPython.core.display.HTML object>"
      ]
     },
     "metadata": {},
     "output_type": "display_data"
    },
    {
     "data": {
      "text/html": [
       "<div class=\"result c-container \" data-click=\"{'rsv_bdr':'0' }\" id=\"2\" srcid=\"1599\" tpl=\"se_com_default\"><h3 class=\"t\"><a data-click=\"{\n",
       "\t\t\t'F':'778717E9',\n",
       "\t\t\t'F1':'9D73F1E4',\n",
       "\t\t\t'F2':'4CA6DE6B',\n",
       "\t\t\t'F3':'54E5342C',\n",
       "\t\t\t'T':'1517904296',\n",
       "\t\t\t\t\t\t'y':'5FFFFFFD'\n",
       "\t\t\t \n",
       "\t\t\t\t\t\t\t\t\t}\" href=\"http://www.baidu.com/link?url=USDQtBhQapfIIx3x8StH8UsqLV0eQvMzkEYFJQifGTO2UYzL9f2yi9Mzx4kbJbOT8SMonYr38wbLrzgwt6Gt0ns1DqXnt_genFtvEyaaooK\" target=\"_blank\"><em>每想你一次</em>,<em>天上飘落一粒沙</em>,<em>从此形成了</em>撒哈拉,<em>三毛经典语录</em></a></h3><div class=\"c-row c-gap-top-small\"><div class=\"general_image_pic c-span6\"><a class=\"c-img6\" href=\"http://www.baidu.com/link?url=USDQtBhQapfIIx3x8StH8UsqLV0eQvMzkEYFJQifGTO2UYzL9f2yi9Mzx4kbJbOT8SMonYr38wbLrzgwt6Gt0ns1DqXnt_genFtvEyaaooK\" style=\"height:75px\" target=\"_blank\"><img class=\"c-img c-img6\" src=\"http://i8.baidu.com/it/u=834276988,1265349228&amp;fm=85&amp;s=9CC272215E7394C25CB939830100E091\" style=\"height:75px;\"/></a></div><div class=\"c-span18 c-span-last\"><div class=\"c-abstract\"><span class=\" newTimeFactor_before_abs m\">2016年12月29日 - </span>——<em>三毛</em> <em>每想你一次</em>,<em>天上飘落一粒沙</em>,<em>从此形成了</em>撒哈拉——<em>三毛</em> 因为上帝恒久不变的大爱,我就能学着去爱这世上的一草一木一沙. ——<em>三毛</em> 生活,是一种缓缓如...</div><div class=\"f13\"><a class=\"c-showurl\" href=\"http://www.baidu.com/link?url=USDQtBhQapfIIx3x8StH8UsqLV0eQvMzkEYFJQifGTO2UYzL9f2yi9Mzx4kbJbOT8SMonYr38wbLrzgwt6Gt0ns1DqXnt_genFtvEyaaooK\" style=\"text-decoration:none;\" target=\"_blank\">https://baijiahao.baidu.com/s?... </a><div class=\"c-tools\" data-tools='{\"title\":\"每想你一次,天上飘落一粒沙,从此形成了撒哈拉,三毛经典语录\",\"url\":\"http://www.baidu.com/link?url=USDQtBhQapfIIx3x8StH8UsqLV0eQvMzkEYFJQifGTO2UYzL9f2yi9Mzx4kbJbOT8SMonYr38wbLrzgwt6Gt0ns1DqXnt_genFtvEyaaooK\"}' id=\"tools_3351374491928557485_2\"><a class=\"c-tip-icon\"><i class=\"c-icon c-icon-triangle-down-g\"></i></a></div><span class=\"c-icons-outer\"><span class=\"c-icons-inner\"></span></span> - <a class=\"m\" data-click=\"{'rsv_snapshot':'1'}\" href=\"http://cache.baiducontent.com/c?m=9d78d513d9d430a54f99e2697c17c015694381132ba7d7020ed28449e3732b36501595ac57250773d5d27d1716de484b9e802102401457b18cc8f95dacba85585b9f2644676df25665a30edecd5152c037912afed919f0ca8025e3a8c5a2a84352ba44740b9787fa4d711fdd1e84033093b1e84c022c67ad9c3072885f6028ef3436b6508990251f049685dc4b4db33da16a06e7ae22b04f05c515b3691a3334a65bc078462740f73925e8354a13e2ea4a96216e4153a139b0aeb0c6fc49fccb9b378f8bcdb85f9f7792c1fdf801550159ed55bfbffaf2636b1f449f889f01c541a1e7bce917b14f844a0fe74a76583b9d30c2c59857853307abfa29e928567d7e1ddec577f872776d32ab3c1fba1ac37eb08a745cdceed8dcdf0244d9d8872821a9eda842b3395363fb2634549d&amp;p=8939c64ad4934eaf58edd22c5759c1&amp;newp=917dc54ad6c341b4099fc7710f5c97231610db2151d7d4166b82c825d7331b001c3bbfb423251301d4c3786201a44a57eaf2377037012ba3dda5c91d9fb4c57479937646&amp;user=baidu&amp;fm=sc&amp;query=%C8%FD%C3%AB%B5%C4%BE%AD%B5%E4%C3%FB%BE%E4%A1%B0%C3%BF%CF%EB%C4%E3%D2%BB%B4%CE%CC%EC%C9%CF%C6%AE%C2%E4%D2%BB%C1%A3%C9%B3%A1%B1%B4%D3%B4%CB%D0%CE%B3%C9%C1%CB%C4%C4%B8%F6%C9%B3&amp;qid=8e62e9970000f28f&amp;p1=2\" target=\"_blank\">百度快照</a></div></div></div></div>"
      ],
      "text/plain": [
       "<IPython.core.display.HTML object>"
      ]
     },
     "metadata": {},
     "output_type": "display_data"
    },
    {
     "name": "stdout",
     "output_type": "stream",
     "text": [
      "http://www.baidu.com/s?q1=下列动物中哪一种不属于冷血动物?&q2=&q3=&q4=&rn=50\n",
      "[(乌龟, 0.0), (鳄鱼, 0.0), (鲸鱼, 1.6558200235216107), (, 0.0), (金龟, 0.0), (龟, 0.0), (王八, 0.0), (, 0.0), (鳄, 0.0), (, 0.0), (鲸, 1.0112695583283817)]\n"
     ]
    },
    {
     "data": {
      "text/html": [
       "<h2>疑似反向问题!!</h2>"
      ],
      "text/plain": [
       "<IPython.core.display.HTML object>"
      ]
     },
     "metadata": {},
     "output_type": "display_data"
    },
    {
     "name": "stdout",
     "output_type": "stream",
     "text": [
      "question: 下列动物中哪一种不属于冷血动物?\n",
      "('C', '鲸鱼', 2.6670895818499925)\n",
      "('A', '乌龟', 0.0)\n",
      "('B', '鳄鱼', 0.0)\n"
     ]
    },
    {
     "data": {
      "text/html": [
       "<div class=\"result c-container \" data-click=\"{'rsv_bdr':'0' }\" id=\"1\" srcid=\"1528\" tpl=\"se_com_default\"><h3 class=\"t\"><a data-click=\"{\n",
       "\t\t\t'F':'778717EA',\n",
       "\t\t\t'F1':'9D43B1E4',\n",
       "\t\t\t'F2':'4CA6DE6B',\n",
       "\t\t\t'F3':'54E5343F',\n",
       "\t\t\t'T':'1517904298',\n",
       "\t\t\t\t\t\t'y':'BC7EDEFA'\n",
       "\t\t\t \n",
       "\t\t\t\t\t\t\t\t\t}\" href=\"http://www.baidu.com/link?url=vT8mAbsqFwLpLcU_tqraGssdhQmQQedm8aVEFBenjM3M5VYdPV4md-fIAMGPRh10GXPyp-qETxCQW0qHSoSKhEnzzor9vokQXX_rV4pEpDa\" target=\"_blank\"><em>下列动物中</em>,<em>哪一种不属于冷血动物?</em>_百度知道</a></h3><p class=\"f13 m\">1个回答 - 提问时间: 2018年01月30日</p><div class=\"c-abstract\"><span class=\"m\">最佳答案: </span>鲸鱼 鲸<em>属于</em>脊索<em>动物</em>门,脊椎<em>动物</em>亚门,哺乳纲,真兽亚纲,包含了大约98种生活在海洋、河流中的胎生哺乳<em>动物</em>。</div><div class=\"f13\"><a class=\"c-showurl\" href=\"http://www.baidu.com/link?url=vT8mAbsqFwLpLcU_tqraGssdhQmQQedm8aVEFBenjM3M5VYdPV4md-fIAMGPRh10GXPyp-qETxCQW0qHSoSKhEnzzor9vokQXX_rV4pEpDa\" style=\"text-decoration:none;\" target=\"_blank\">https://zhidao.baidu.com/quest... </a><div class=\"c-tools\" data-tools='{\"title\":\"下列动物中,哪一种不属于冷血动物?_百度知道\",\"url\":\"http://www.baidu.com/link?url=vT8mAbsqFwLpLcU_tqraGssdhQmQQedm8aVEFBenjM3M5VYdPV4md-fIAMGPRh10GXPyp-qETxCQW0qHSoSKhEnzzor9vokQXX_rV4pEpDa\"}' id=\"tools_14827702895758265877_1\"><a class=\"c-tip-icon\"><i class=\"c-icon c-icon-triangle-down-g\"></i></a></div><span class=\"c-icons-outer\"><span class=\"c-icons-inner\"></span></span></div></div>"
      ],
      "text/plain": [
       "<IPython.core.display.HTML object>"
      ]
     },
     "metadata": {},
     "output_type": "display_data"
    },
    {
     "data": {
      "text/html": [
       "<div class=\"result c-container \" data-click=\"{'rsv_bdr':'0' }\" id=\"2\" srcid=\"1599\" tpl=\"se_com_default\"><h3 class=\"t\"><a data-click=\"{\n",
       "\t\t\t'F':'778717EA',\n",
       "\t\t\t'F1':'9D73F1E4',\n",
       "\t\t\t'F2':'4CA6DD6B',\n",
       "\t\t\t'F3':'54E5342F',\n",
       "\t\t\t'T':'1517904298',\n",
       "\t\t\t\t\t\t'y':'F1F9F77E'\n",
       "\t\t\t \n",
       "\t\t\t\t\t\t\t\t\t}\" href=\"http://www.baidu.com/link?url=RoKYlwlcjWTCED-NQt3LrMXK9DMfR59b0HB6fMkplZ4agObPyd_t81X53PHVPKjfYurjA5o34vpO9xguWMmBta\" target=\"_blank\"><em>以下动物中</em>,<em>哪一种不属于冷血动物?</em>_百万英雄英雄题库答案大全_...</a></h3><div class=\"c-abstract\"><span class=\" newTimeFactor_before_abs m\">2018年1月14日 - </span><em>以下动物中</em>,<em>哪一种不属于冷血动物?</em>正确答案:鲸鱼变温动物又称冷血动物,是除了哺乳类和鸟类的动物,地球上的动物大部分都是变温动物。变温动物并不是血...</div><div class=\"f13\"><a class=\"c-showurl\" href=\"http://www.baidu.com/link?url=RoKYlwlcjWTCED-NQt3LrMXK9DMfR59b0HB6fMkplZ4agObPyd_t81X53PHVPKjfYurjA5o34vpO9xguWMmBta\" style=\"text-decoration:none;\" target=\"_blank\">www.binzz.com/gongzuo/... </a><div class=\"c-tools\" data-tools='{\"title\":\"以下动物中,哪一种不属于冷血动物?_百万英雄英雄题库答案大全_...\",\"url\":\"http://www.baidu.com/link?url=RoKYlwlcjWTCED-NQt3LrMXK9DMfR59b0HB6fMkplZ4agObPyd_t81X53PHVPKjfYurjA5o34vpO9xguWMmBta\"}' id=\"tools_8493693911253963190_2\"><a class=\"c-tip-icon\"><i class=\"c-icon c-icon-triangle-down-g\"></i></a></div><span class=\"c-icons-outer\"><span class=\"c-icons-inner\"></span></span> - <a class=\"m\" data-click=\"{'rsv_snapshot':'1'}\" href=\"http://cache.baiducontent.com/c?m=9f65cb4a8c8507ed4fece763105392230e54f733678b985d68d4e419ce3b46141a3ab6f3607f0d07d1c5786705b8492bb0b6692c23467df7cdc79f3ba9ace32838f92423061e914062c469abdc3551d651e74d9edb0ee6cae74497b9a4d1c85523dd22036df1f69c5b7003bc6fe76441f4a7e95f635b07cce927648f4e0729885330a14689f7431d10f5f0ca2a4dd45ca37610e7b844b22965b304d21c0c5737b74dc11f212227933b308e332a73e6&amp;p=8966c64ad4812dff57ed977b5b5dc9&amp;newp=9f72c54ad6c044ef40a28e2d02149c231610db2151d7d3166b82c825d7331b001c3bbfb423251301d4c47f6705aa485ee1f5327433012ba3dda5c91d9fb4c57479c83f7b6a&amp;user=baidu&amp;fm=sc&amp;query=%CF%C2%C1%D0%B6%AF%CE%EF%D6%D0%C4%C4%D2%BB%D6%D6%B2%BB%CA%F4%D3%DA%C0%E4%D1%AA%B6%AF%CE%EF%3F&amp;qid=fd4a959500010d4f&amp;p1=2\" target=\"_blank\">百度快照</a></div></div>"
      ],
      "text/plain": [
       "<IPython.core.display.HTML object>"
      ]
     },
     "metadata": {},
     "output_type": "display_data"
    },
    {
     "name": "stdout",
     "output_type": "stream",
     "text": [
      "http://www.baidu.com/s?q1=下列哪一个国家不属于“金砖国家”?&q2=&q3=&q4=&rn=50\n"
     ]
    },
    {
     "data": {
      "text/html": [
       "<h2>疑似反向问题!!</h2>"
      ],
      "text/plain": [
       "<IPython.core.display.HTML object>"
      ]
     },
     "metadata": {},
     "output_type": "display_data"
    },
    {
     "name": "stdout",
     "output_type": "stream",
     "text": [
      "question: 下列哪一个国家不属于“金砖国家”?\n",
      "('C', '新加坡', 3.4119287787583037)\n",
      "('A', '中国', 2.801390942121475)\n",
      "('B', '巴西', 1.8838730572031734)\n"
     ]
    },
    {
     "data": {
      "text/html": [
       "<div class=\"result c-container \" data-click=\"{'rsv_bdr':'0' }\" id=\"1\" srcid=\"1599\" tpl=\"se_com_default\"><h3 class=\"t\"><a data-click=\"{\n",
       "\t\t\t'F':'778717E8',\n",
       "\t\t\t'F1':'9D73E1E4',\n",
       "\t\t\t'F2':'4CA6DE6B',\n",
       "\t\t\t'F3':'54E5343D',\n",
       "\t\t\t'T':'1517904301',\n",
       "\t\t\t\t\t\t'y':'EFB1B7DF'\n",
       "\t\t\t \n",
       "\t\t\t\t\t\t\t\t\t}\" href=\"http://www.baidu.com/link?url=Bhhqy2e29L7TSzzz21De7bgY4_wKqhr4kt42CUzfoNJPC7BMBIqt4Wi-ueBqYQ4AovuCVW-d-KqrfIbxmMnR0m-Mw_ZwMxamygPKzCBlgwy\" target=\"_blank\"><em>下列国家不属于</em>“<em>金砖国家</em>”的是()A.韩国B.中国C.俄罗斯D..._魔方格</a></h3><div class=\"c-abstract\"><span class=\" newTimeFactor_before_abs m\">6天前 - </span>据魔方格专家权威分析,试题“<em>下列国家不属于</em>“<em>金砖国家</em>”的是()A.韩国B.中国C.俄罗斯D.巴西-七年..”主要考查你对 世界的国家和区域划分 等考点的理解...</div><div class=\"f13\"><a class=\"c-showurl\" href=\"http://www.baidu.com/link?url=Bhhqy2e29L7TSzzz21De7bgY4_wKqhr4kt42CUzfoNJPC7BMBIqt4Wi-ueBqYQ4AovuCVW-d-KqrfIbxmMnR0m-Mw_ZwMxamygPKzCBlgwy\" style=\"text-decoration:none;\" target=\"_blank\">www.mofangge.com/html/... </a><div class=\"c-tools\" data-tools='{\"title\":\"下列国家不属于“金砖国家”的是()A.韩国B.中国C.俄罗斯D..._魔方格\",\"url\":\"http://www.baidu.com/link?url=Bhhqy2e29L7TSzzz21De7bgY4_wKqhr4kt42CUzfoNJPC7BMBIqt4Wi-ueBqYQ4AovuCVW-d-KqrfIbxmMnR0m-Mw_ZwMxamygPKzCBlgwy\"}' id=\"tools_7667746472217356710_1\"><a class=\"c-tip-icon\"><i class=\"c-icon c-icon-triangle-down-g\"></i></a></div><span class=\"c-icons-outer\"><span class=\"c-icons-inner\"></span></span> - <a class=\"m\" data-click=\"{'rsv_snapshot':'1'}\" href=\"http://cache.baiducontent.com/c?m=9f65cb4a8c8507ed4fece763105392230e54f73c618383492a81c45f93130a1c187bb9fd787c0d47a5923a345af1545eeeed67712a0322b49dca8c578eb895787e8b2530731a824615d10eafbc1c639e7e841fb4ef4fe8ad814684dfd2c4ae5744bc51127bf0e7fa5c1765cc78f1642695a68e38654811cafa406fe82d733e9e5357c64cee94417977f0e1ab5c5bc25ac7111180df45a73f62a262d7086f2253d64da67e22313091585789534906859d58f059725722c65fc3b2d6c2985ffcadfd4798edcbde&amp;p=9f70c80086cc41ac59b1c92d021483&amp;newp=8f34c54ad6c040f200be9b7c4a438d231610db2151d4d1146b82c825d7331b001c3bbfb423251300d6ce786d01aa425eeaf3307833012ba3dda5c91d9fb4c57479d57f&amp;user=baidu&amp;fm=sc&amp;query=%CF%C2%C1%D0%C4%C4%D2%BB%B8%F6%B9%FA%BC%D2%B2%BB%CA%F4%D3%DA%A1%B0%BD%F0%D7%A9%B9%FA%BC%D2%A1%B1%3F&amp;qid=e7a2ebed00010440&amp;p1=1\" target=\"_blank\">百度快照</a></div></div>"
      ],
      "text/plain": [
       "<IPython.core.display.HTML object>"
      ]
     },
     "metadata": {},
     "output_type": "display_data"
    },
    {
     "data": {
      "text/html": [
       "<div class=\"result c-container \" data-click=\"{'rsv_bdr':'0' }\" id=\"2\" srcid=\"1529\" tpl=\"se_com_default\"><h3 class=\"t\"><a data-click=\"{\n",
       "\t\t\t'F':'778717EA',\n",
       "\t\t\t'F1':'9D43B1E4',\n",
       "\t\t\t'F2':'4CA6DE6B',\n",
       "\t\t\t'F3':'54E5343F',\n",
       "\t\t\t'T':'1517904301',\n",
       "\t\t\t\t\t\t'y':'BFEFEFFF'\n",
       "\t\t\t \n",
       "\t\t\t\t\t\t\t\t\t}\" href=\"http://www.baidu.com/link?url=IYhyZxMaHMuiuwBRdZw1lwyNLiCBuEkFwoh5ULyLptHwDWtxzZCnk6eS1v7eTUlNjQfg5QZg3VguhV_X126v1u3eSRT1r1r7ad_cNp0ZjBG\" target=\"_blank\"><em>下列哪一个国家不属于</em>“<em>金砖国家</em>”<em>?</em>_百度知道</a></h3><p class=\"f13 m\">1个回答 - 提问时间: 2018年01月30日</p><div class=\"c-abstract\"><span class=\"m\">最佳答案: </span>新加坡 新加坡共和国(英语:RepublicofSingapore),简称新加坡,旧称新嘉坡、星洲或星岛,别称为狮城,<em>是</em>东南亚的<em>一个</em>岛国,政治体制实行议会制共和制。<br/><a class=\"c\" href=\"http://zhidao.baidu.com/q?ct=17&amp;pn=0&amp;tn=ikaslist&amp;rn=10&amp;word=%E4%B8%8B%E5%88%97%E5%93%AA%E4%B8%80%E4%B8%AA%E5%9B%BD%E5%AE%B6%E4%B8%8D%E5%B1%9E%E4%BA%8E%E2%80%9C%E9%87%91%E7%A0%96%E5%9B%BD%E5%AE%B6%E2%80%9D%3F\" target=\"_blank\">更多关于下列哪一个国家不属于“金砖国家”?的问题&gt;&gt;</a></div><div class=\"f13\"><a class=\"c-showurl\" href=\"http://www.baidu.com/link?url=IYhyZxMaHMuiuwBRdZw1lwyNLiCBuEkFwoh5ULyLptHwDWtxzZCnk6eS1v7eTUlNjQfg5QZg3VguhV_X126v1u3eSRT1r1r7ad_cNp0ZjBG\" style=\"text-decoration:none;\" target=\"_blank\">https://zhidao.baidu.com/quest... </a><div class=\"c-tools\" data-tools='{\"title\":\"下列哪一个国家不属于“金砖国家”?_百度知道\",\"url\":\"http://www.baidu.com/link?url=IYhyZxMaHMuiuwBRdZw1lwyNLiCBuEkFwoh5ULyLptHwDWtxzZCnk6eS1v7eTUlNjQfg5QZg3VguhV_X126v1u3eSRT1r1r7ad_cNp0ZjBG\"}' id=\"tools_5791270804576017886_2\"><a class=\"c-tip-icon\"><i class=\"c-icon c-icon-triangle-down-g\"></i></a></div><span class=\"c-icons-outer\"><span class=\"c-icons-inner\"></span></span> - <a class=\"m\" data-click=\"{'rsv_snapshot':'1'}\" href=\"http://cache.baiducontent.com/c?m=9f65cb4a8c8507ed19fa950d100b9f3c4202d33e2bd7a7452c8fc50f84642c101a39fef8607551428898207a02a54a57e0f2367831012bb298cf894adbbd852858d2616b2e08c31c528516b8ba3232b020872beab86fe5adf14284dfd4c4ae5244cb23120c80e7fb2a1715ba78801e2697a28e49654860b1fa4416e829063ee92357b737ee90327977f1e1dc2c5bb259c7151780d934a74861a213d5086b5253d44ea67e543143eb58268f534d0f859f2ef05a085755b65fb3c8&amp;p=876fc816d9c111a058fbc3125c&amp;newp=897ec212949712a05abd9b7e5253d8304a0fde28239f8a4e2987ce2593700d1a2a22b4fb66794d58dcc57f6205a54f5deff53366716e61e0d9c7df168b&amp;user=baidu&amp;fm=sc&amp;query=%CF%C2%C1%D0%C4%C4%D2%BB%B8%F6%B9%FA%BC%D2%B2%BB%CA%F4%D3%DA%A1%B0%BD%F0%D7%A9%B9%FA%BC%D2%A1%B1%3F&amp;qid=e7a2ebed00010440&amp;p1=2\" target=\"_blank\">百度快照</a></div></div>"
      ],
      "text/plain": [
       "<IPython.core.display.HTML object>"
      ]
     },
     "metadata": {},
     "output_type": "display_data"
    },
    {
     "name": "stdout",
     "output_type": "stream",
     "text": [
      "http://www.baidu.com/s?q1=下列哪一种物质的主要化学成分与其他两种不同?&q2=&q3=&q4=&rn=50\n"
     ]
    },
    {
     "data": {
      "text/html": [
       "<h2>疑似反向问题!!</h2>"
      ],
      "text/plain": [
       "<IPython.core.display.HTML object>"
      ]
     },
     "metadata": {},
     "output_type": "display_data"
    },
    {
     "name": "stdout",
     "output_type": "stream",
     "text": [
      "question: 下列哪一种物质的主要化学成分与其他两种不同?\n",
      "('A', '大理石', 0.4560774705899929)\n",
      "('B', '水晶', 0.0)\n",
      "('C', '珍珠', 0.0)\n"
     ]
    },
    {
     "data": {
      "text/html": [
       "<div class=\"result c-container \" data-click=\"{'rsv_bdr':'0' }\" id=\"1\" srcid=\"1529\" tpl=\"se_com_default\"><h3 class=\"t\"><a data-click=\"{\n",
       "\t\t\t'F':'778717E8',\n",
       "\t\t\t'F1':'9D43F1E4',\n",
       "\t\t\t'F2':'4CA6DE6B',\n",
       "\t\t\t'F3':'54E5242D',\n",
       "\t\t\t'T':'1517904304',\n",
       "\t\t\t\t\t\t'y':'EDFD36FF'\n",
       "\t\t\t \n",
       "\t\t\t\t\t\t\t\t\t}\" href=\"http://www.baidu.com/link?url=KGErw9vYIfLqxTgL9AFJXomu9auhntktYxU9ir9aiCpNqjqDg5G8MmXThFk35nEQtGLVFKLZdIr-SpXbOTQqxg3c5j4F_VkkyKDKdGBfjoy\" target=\"_blank\"><em>下列</em>选项中,<em>哪两种物质的主要成分不</em>相同?_百度知道</a></h3><p class=\"f13 m\">1个回答 - 提问时间: 2018年02月01日</p><div class=\"c-abstract\"><span class=\"m\">最佳答案: </span>金刚石<em>和</em>金刚砂 金刚石<em>和</em>金刚砂从严格上说不是同<em>一种物质</em>,金刚砂<em>的主要成分</em>是碳化硅;金刚石<em>的主要成分</em>是碳。工业用金刚石粉末绝大部分由石墨经高温高压...<br/><a class=\"c\" href=\"http://zhidao.baidu.com/q?ct=17&amp;pn=0&amp;tn=ikaslist&amp;rn=10&amp;word=%E4%B8%8B%E5%88%97%E5%93%AA%E4%B8%80%E7%A7%8D%E7%89%A9%E8%B4%A8%E7%9A%84%E4%B8%BB%E8%A6%81%E5%8C%96%E5%AD%A6%E6%88%90%E5%88%86%E4%B8%8E%E5%85%B6%E4%BB%96%E4%B8%A4%E7%A7%8D%E4%B8%8D%E5%90%8C%3F\" target=\"_blank\">更多关于下列哪一种物质的主要化学成分与其他两种不同?的问题&gt;&gt;</a></div><div class=\"f13\"><a class=\"c-showurl\" href=\"http://www.baidu.com/link?url=KGErw9vYIfLqxTgL9AFJXomu9auhntktYxU9ir9aiCpNqjqDg5G8MmXThFk35nEQtGLVFKLZdIr-SpXbOTQqxg3c5j4F_VkkyKDKdGBfjoy\" style=\"text-decoration:none;\" target=\"_blank\">https://zhidao.baidu.com/quest... </a><div class=\"c-tools\" data-tools='{\"title\":\"下列选项中,哪两种物质的主要成分不相同?_百度知道\",\"url\":\"http://www.baidu.com/link?url=KGErw9vYIfLqxTgL9AFJXomu9auhntktYxU9ir9aiCpNqjqDg5G8MmXThFk35nEQtGLVFKLZdIr-SpXbOTQqxg3c5j4F_VkkyKDKdGBfjoy\"}' id=\"tools_10406379102968456259_1\"><a class=\"c-tip-icon\"><i class=\"c-icon c-icon-triangle-down-g\"></i></a></div><span class=\"c-icons-outer\"><span class=\"c-icons-inner\"></span></span> - <a class=\"m\" data-click=\"{'rsv_snapshot':'1'}\" href=\"http://cache.baiducontent.com/c?m=9f65cb4a8c8507ed19fa950d100b9f3c4202d33e2bd7a7452c8fc50f84642c101a39fef8607551428898207a06af4e5de9f032793d082bb09ac38b4adfbc852858d2616b2e08c31c528516b8ba3232b020872beab86fe5adf14284dfd4c4ae5244cb23120c80e7fb2a1715ba7886102695a28e49654861cdfa4711e82f733eee5057b737ee9035797687e1dc2c5bb52ec7151480d935a74d61a212d4086b5453d338a67e523143e558268f534d05859a56f05a7c5755b25fb2c9d6c0ea5ffbacfd30e8edbaab38e266f1b49aee053267538a32cfa8aac24b733306cebcda01c542ab8aecad3c9903d6604bcb2b615c1a&amp;p=8f65c64ad49709f708e2963951&amp;newp=89738f1886cc43f90be2960c1b53d8304a0fde28239f8a4e2987ce2591700d1a2a22b4fb66794d58dcc57f6205a54f5deff53366716e61e0d9c7df168bed&amp;user=baidu&amp;fm=sc&amp;query=%CF%C2%C1%D0%C4%C4%D2%BB%D6%D6%CE%EF%D6%CA%B5%C4%D6%F7%D2%AA%BB%AF%D1%A7%B3%C9%B7%D6%D3%EB%C6%E4%CB%FB%C1%BD%D6%D6%B2%BB%CD%AC%3F&amp;qid=d51961ef0000f392&amp;p1=1\" target=\"_blank\">百度快照</a></div></div>"
      ],
      "text/plain": [
       "<IPython.core.display.HTML object>"
      ]
     },
     "metadata": {},
     "output_type": "display_data"
    },
    {
     "data": {
      "text/html": [
       "<div class=\"result c-container \" data-click=\"{'rsv_bdr':'0' }\" id=\"2\" srcid=\"1599\" tpl=\"se_com_default\"><h3 class=\"t\"><a data-click=\"{\n",
       "\t\t\t'F':'778717E8',\n",
       "\t\t\t'F1':'9D73F164',\n",
       "\t\t\t'F2':'4CA6DE6B',\n",
       "\t\t\t'F3':'54E5343D',\n",
       "\t\t\t'T':'1517904304',\n",
       "\t\t\t\t\t\t'y':'EBA7FD6F'\n",
       "\t\t\t \n",
       "\t\t\t\t\t\t\t\t\t}\" href=\"http://www.baidu.com/link?url=uqLqSmoE_kbGH201AKiB1a8Fp2tsQVVss2idDDh0NDH_xRa1nDXPBW_HZSe-BGt4WQYCc92jex8zB347BBUNyh_uBhMRRqX0ckSf0l-uGvp83rSAEYqg6aCxYu0PRfhW\" target=\"_blank\"><em>下列</em>各结构中.<em>哪一种</em>在<em>化学成分</em>上<em>与其他</em>的都<em>不同?</em> A 鸵鸟毛 B ...</a></h3><div class=\"c-abstract\"><em>下列</em>各结构中,<em>哪一种</em>在<em>化学成分</em>上<em>与其他</em>的都<em>不同?</em>A 鸵鸟毛 B 鹿角 C 水...<em>物质种类</em> 膜的类别 蛋白质(%) 脂类(%)(<em>主要</em>是磷脂) 糖类(%)  变形虫细胞膜...</div><div class=\"f13\"><a class=\"c-showurl\" href=\"http://www.baidu.com/link?url=uqLqSmoE_kbGH201AKiB1a8Fp2tsQVVss2idDDh0NDH_xRa1nDXPBW_HZSe-BGt4WQYCc92jex8zB347BBUNyh_uBhMRRqX0ckSf0l-uGvp83rSAEYqg6aCxYu0PRfhW\" style=\"text-decoration:none;\" target=\"_blank\">www.1010jiajiao.com/gz... </a><div class=\"c-tools\" data-tools='{\"title\":\"下列各结构中.哪一种在化学成分上与其他的都不同? A 鸵鸟毛 B ...\",\"url\":\"http://www.baidu.com/link?url=uqLqSmoE_kbGH201AKiB1a8Fp2tsQVVss2idDDh0NDH_xRa1nDXPBW_HZSe-BGt4WQYCc92jex8zB347BBUNyh_uBhMRRqX0ckSf0l-uGvp83rSAEYqg6aCxYu0PRfhW\"}' id=\"tools_4180183619363115222_2\"><a class=\"c-tip-icon\"><i class=\"c-icon c-icon-triangle-down-g\"></i></a></div><span class=\"c-icons-outer\"><span class=\"c-icons-inner\"></span></span> - <a class=\"m\" data-click=\"{'rsv_snapshot':'1'}\" href=\"http://cache.baiducontent.com/c?m=9f65cb4a8c8507ed4fece763105392230e54f7603ed4d24d2487cb13c0394c413037bee43a77584596d83d3d5ae9124bed846d24200454bcc8cc8f1ed9b1932379d97662734b8316178519a4cd432f972a945eeef848e5aeb56fd3f8ddc4ae2044bb53120b83e7fd581715ba7881122692a08e49654866bafa4015e858073ee92757c043eee1427976f6e1aa285bb52ec7106280ae45a74e15a262a2081a5453d648a67c543146e058548c533c74859b2df0590d5755b55fc0bcd6b79b5ffcddfd4093edbbaa38e364f1c49aee074367258a32bfdbaac339733204cebbae01b042abfb9cad3dea03a7664bcc5961596fd96ae495ff57e5122ae3e618e95854315b7b&amp;p=8d79c54ad2c41efb0be2960c6100&amp;newp=c463c54ad2c416eb1a81c7710f5d92695803ed633ad7d001298ffe0cc4241a1a1a3aecbf2021150fd6c27b650bab4e59e0fb3374320234f1f689df08d2ecce7e78cc6558&amp;user=baidu&amp;fm=sc&amp;query=%CF%C2%C1%D0%C4%C4%D2%BB%D6%D6%CE%EF%D6%CA%B5%C4%D6%F7%D2%AA%BB%AF%D1%A7%B3%C9%B7%D6%D3%EB%C6%E4%CB%FB%C1%BD%D6%D6%B2%BB%CD%AC%3F&amp;qid=d51961ef0000f392&amp;p1=2\" target=\"_blank\">百度快照</a></div></div>"
      ],
      "text/plain": [
       "<IPython.core.display.HTML object>"
      ]
     },
     "metadata": {},
     "output_type": "display_data"
    },
    {
     "name": "stdout",
     "output_type": "stream",
     "text": [
      "http://www.baidu.com/s?q1=下列哪一种物质的硬度最高?&q2=&q3=&q4=&rn=50\n",
      "question: 下列哪一种物质的硬度最高?\n",
      "('C', '金刚石', 1.80310238371874)\n",
      "('A', '金', 0.0)\n",
      "('B', '银', 0.0)\n"
     ]
    },
    {
     "data": {
      "text/html": [
       "<div class=\"result c-container \" data-click=\"{'rsv_bdr':'0' }\" id=\"1\" srcid=\"1599\" tpl=\"se_com_default\"><h3 class=\"t\"><a data-click=\"{\n",
       "\t\t\t'F':'778317E8',\n",
       "\t\t\t'F1':'9D73F1E4',\n",
       "\t\t\t'F2':'4CA6DE6B',\n",
       "\t\t\t'F3':'54E5243D',\n",
       "\t\t\t'T':'1517904306',\n",
       "\t\t\t\t\t\t'y':'F57EAFFA'\n",
       "\t\t\t \n",
       "\t\t\t\t\t\t\t\t\t}\" href=\"http://www.baidu.com/link?url=1uJZ0p9Yvu1ulWjVBzyx8eM_gjkjvIm75Ascyfo1qTzJJsPKMk2TAgwUk_4d-s2XmPIo73D8s0GK_kuwR1zvNR7xZ8OtG5oyByWA6Jeg98m\" target=\"_blank\"><em>下列物质</em>中,<em>硬度最大</em>的是()A.金刚石B.石墨C.焦炭D.活性炭..._魔方格</a></h3><div class=\"c-abstract\"><span class=\" newTimeFactor_before_abs m\">7天前 - </span>据魔方格专家权威分析,试题“<em>下列物质</em>中,<em>硬度最大</em>的是()A.金刚石B.石墨C....“碳”是<em>一种</em>核电荷数为6的非金属元素,而“炭” 一般是指由石墨的微小晶体...</div><div class=\"f13\"><a class=\"c-showurl\" href=\"http://www.baidu.com/link?url=1uJZ0p9Yvu1ulWjVBzyx8eM_gjkjvIm75Ascyfo1qTzJJsPKMk2TAgwUk_4d-s2XmPIo73D8s0GK_kuwR1zvNR7xZ8OtG5oyByWA6Jeg98m\" style=\"text-decoration:none;\" target=\"_blank\">www.mofangge.com/html/... </a><div class=\"c-tools\" data-tools='{\"title\":\"下列物质中,硬度最大的是()A.金刚石B.石墨C.焦炭D.活性炭..._魔方格\",\"url\":\"http://www.baidu.com/link?url=1uJZ0p9Yvu1ulWjVBzyx8eM_gjkjvIm75Ascyfo1qTzJJsPKMk2TAgwUk_4d-s2XmPIo73D8s0GK_kuwR1zvNR7xZ8OtG5oyByWA6Jeg98m\"}' id=\"tools_14490924015183335315_1\"><a class=\"c-tip-icon\"><i class=\"c-icon c-icon-triangle-down-g\"></i></a></div><span class=\"c-icons-outer\"><span class=\"c-icons-inner\"></span></span> - <a class=\"m\" data-click=\"{'rsv_snapshot':'1'}\" href=\"http://cache.baiducontent.com/c?m=9d78d513d9d430db4f9c94697c15c0101b4381132ba6d6020ed28449e3732d41501693ac26520772d7d20a6316ae394b9b872105431456b38cb9fb5ddccb8558289f5632671df65664d20edfcb5155c537e150feae69f0ccf525e4d9c5d2af4323c044730e94b7cb040f4e8c29b2033090bb840d501a07ba9a6f38ab0a2b7cca7457b630a8bd6d735dc7a983410fb57d96324ac9b237b72343b70ea41d182246a351f6431b6361e24d20ff443a0693ed4ae75d23067ce8&amp;p=9a57da15d9c342aa43ae872d02149d&amp;newp=85759a45d5c613fc57efd4237f0597231610db2151d4d4116b82c825d7331b001c3bbfb423251301d4c47f6705aa485ee1f5327433012ba3dda5c91d9fb4c57479da&amp;user=baidu&amp;fm=sc&amp;query=%CF%C2%C1%D0%C4%C4%D2%BB%D6%D6%CE%EF%D6%CA%B5%C4%D3%B2%B6%C8%D7%EE%B8%DF%3F&amp;qid=e048afc400010680&amp;p1=1\" target=\"_blank\">百度快照</a></div></div>"
      ],
      "text/plain": [
       "<IPython.core.display.HTML object>"
      ]
     },
     "metadata": {},
     "output_type": "display_data"
    },
    {
     "data": {
      "text/html": [
       "<div class=\"result c-container \" data-click=\"{'rsv_bdr':'0' }\" id=\"2\" srcid=\"1599\" tpl=\"se_com_default\"><h3 class=\"t\"><a data-click=\"{\n",
       "\t\t\t'F':'778317E8',\n",
       "\t\t\t'F1':'9D73F1E4',\n",
       "\t\t\t'F2':'4CA6DE6B',\n",
       "\t\t\t'F3':'54E5343D',\n",
       "\t\t\t'T':'1517904306',\n",
       "\t\t\t\t\t\t'y':'7D9DDD97'\n",
       "\t\t\t \n",
       "\t\t\t\t\t\t\t\t\t}\" href=\"http://www.baidu.com/link?url=1LMtmoWmBJDQRl0BFZwFOfDZpTVcZZmNLMx2PbASZpGVI1wGunA3HthhOGIZaxNh0sYdobbD3cM8czGBIwwwO36pppgpC4PCIs-dSLL3D4W\" target=\"_blank\"><em>下列</em>各<em>物质</em>中,<em>硬度最大</em>的是[]A.金刚石B.石墨C.纯铁D.大理..._魔方格</a></h3><div class=\"c-abstract\"><span class=\" newTimeFactor_before_abs m\">6天前 - </span>据魔方格专家权威分析,试题“<em>下列</em>各<em>物质</em>中,<em>硬度最大</em>的是[]A.金刚石B.石墨C.纯铁D.大理石-九年..”主要考查你对 金刚石、石墨、C60的结构和用途 等考点...</div><div class=\"f13\"><a class=\"c-showurl\" href=\"http://www.baidu.com/link?url=1LMtmoWmBJDQRl0BFZwFOfDZpTVcZZmNLMx2PbASZpGVI1wGunA3HthhOGIZaxNh0sYdobbD3cM8czGBIwwwO36pppgpC4PCIs-dSLL3D4W\" style=\"text-decoration:none;\" target=\"_blank\">www.mofangge.com/html/... </a><div class=\"c-tools\" data-tools='{\"title\":\"下列各物质中,硬度最大的是[]A.金刚石B.石墨C.纯铁D.大理..._魔方格\",\"url\":\"http://www.baidu.com/link?url=1LMtmoWmBJDQRl0BFZwFOfDZpTVcZZmNLMx2PbASZpGVI1wGunA3HthhOGIZaxNh0sYdobbD3cM8czGBIwwwO36pppgpC4PCIs-dSLL3D4W\"}' id=\"tools_7293555367504988667_2\"><a class=\"c-tip-icon\"><i class=\"c-icon c-icon-triangle-down-g\"></i></a></div><span class=\"c-icons-outer\"><span class=\"c-icons-inner\"></span></span> - <a class=\"m\" data-click=\"{'rsv_snapshot':'1'}\" href=\"http://cache.baiducontent.com/c?m=9f65cb4a8c8507ed4fece763105392230e54f73c618383492a81c45f93130a1c187bb9fd787c0d47a5923a345af1545eeded67732a0322b498ca8d57dee5927e7e892533701e8d4314c419d891007a9f34d507a9f916f0cb8425e2aec5a2dc4325c844040a97818d4d7112dd6e800347e3b1e938025e60ad9b3472895d6028ef3431c1508e942518039687ae4b4db33da06606e6a922b14e05c312b36f1b3334a45bc002462740f73922e8334a13939b4a97206e3657&amp;p=84618316d9c111a058ee9e235764c9&amp;newp=882a9546dc855ab70be2963d15059e231610db2151d2da01298ffe0cc4241a1a1a3aecbf20211503d1c77d6100a84f5beaf13774350834f1f689df08d2ecce7e69933f&amp;user=baidu&amp;fm=sc&amp;query=%CF%C2%C1%D0%C4%C4%D2%BB%D6%D6%CE%EF%D6%CA%B5%C4%D3%B2%B6%C8%D7%EE%B8%DF%3F&amp;qid=e048afc400010680&amp;p1=2\" target=\"_blank\">百度快照</a></div></div>"
      ],
      "text/plain": [
       "<IPython.core.display.HTML object>"
      ]
     },
     "metadata": {},
     "output_type": "display_data"
    },
    {
     "name": "stdout",
     "output_type": "stream",
     "text": [
      "http://www.baidu.com/s?q1=下列哪一种能源是可再生能源?&q2=&q3=&q4=&rn=50\n",
      "[(煤炭, 0.0), (石油, 0.684270284899685), (风能, 1.1546451381454002), (, 0.0), (乌金, 0.0), (煤, 1.285424380195591), (, 0.0), (油, 0.0), (, 0.0)]\n",
      "question: 下列哪一种能源是可再生能源?\n",
      "('A', '煤炭', 1.285424380195591)\n",
      "('C', '风能', 1.1546451381454002)\n",
      "('B', '石油', 0.684270284899685)\n"
     ]
    },
    {
     "data": {
      "text/html": [
       "<div class=\"result c-container \" data-click=\"{'rsv_bdr':'0' }\" id=\"1\" srcid=\"1528\" tpl=\"se_com_default\"><h3 class=\"t\"><a data-click=\"{\n",
       "\t\t\t'F':'F78717EA',\n",
       "\t\t\t'F1':'9D43B1E4',\n",
       "\t\t\t'F2':'4CA6DE6B',\n",
       "\t\t\t'F3':'54E5343F',\n",
       "\t\t\t'T':'1517904309',\n",
       "\t\t\t\t\t\t'y':'D63EDFDF'\n",
       "\t\t\t \n",
       "\t\t\t\t\t\t\t\t\t}\" href=\"http://www.baidu.com/link?url=7Nof_9ZEHEoqqODLfRZQU703lF4976L2z9LRI41fKcQXlVZMYB7JMg84iWM1jE48b3KuGKhbT85FKvXllj53TclDyvZXBJMaZC7EDKZ2cqW\" target=\"_blank\"><em>下列哪一种能源是可再生能源?</em>_百度知道</a></h3><p class=\"f13 m\">1个回答 - 提问时间: 2018年01月30日</p><div class=\"c-abstract\"><span class=\"m\">最佳答案: </span>风能 风能<em>是可再生</em>的清洁<em>能源</em>,储量大、分布广,但它的能量密度低(只有水能的<em>1</em>/800),并且不稳定。</div><div class=\"f13\"><a class=\"c-showurl\" href=\"http://www.baidu.com/link?url=7Nof_9ZEHEoqqODLfRZQU703lF4976L2z9LRI41fKcQXlVZMYB7JMg84iWM1jE48b3KuGKhbT85FKvXllj53TclDyvZXBJMaZC7EDKZ2cqW\" style=\"text-decoration:none;\" target=\"_blank\">https://zhidao.baidu.com/quest... </a><div class=\"c-tools\" data-tools='{\"title\":\"下列哪一种能源是可再生能源?_百度知道\",\"url\":\"http://www.baidu.com/link?url=7Nof_9ZEHEoqqODLfRZQU703lF4976L2z9LRI41fKcQXlVZMYB7JMg84iWM1jE48b3KuGKhbT85FKvXllj53TclDyvZXBJMaZC7EDKZ2cqW\"}' id=\"tools_3538543474775704185_1\"><a class=\"c-tip-icon\"><i class=\"c-icon c-icon-triangle-down-g\"></i></a></div><span class=\"c-icons-outer\"><span class=\"c-icons-inner\"></span></span></div></div>"
      ],
      "text/plain": [
       "<IPython.core.display.HTML object>"
      ]
     },
     "metadata": {},
     "output_type": "display_data"
    },
    {
     "data": {
      "text/html": [
       "<div class=\"result c-container \" data-click=\"{'rsv_bdr':'0' }\" id=\"2\" srcid=\"1599\" tpl=\"se_com_default\"><h3 class=\"t\"><a data-click=\"{\n",
       "\t\t\t'F':'778717E8',\n",
       "\t\t\t'F1':'9D73F1E4',\n",
       "\t\t\t'F2':'4CA6DE6B',\n",
       "\t\t\t'F3':'54E5343D',\n",
       "\t\t\t'T':'1517904309',\n",
       "\t\t\t\t\t\t'y':'AFFFFFB7'\n",
       "\t\t\t \n",
       "\t\t\t\t\t\t\t\t\t}\" href=\"http://www.baidu.com/link?url=7RlClQ1vbzvMJnI2bS_XLXInavf3RztPZfT2ooJJE_VrihJUXdzUYV0ir__GSAIjCYrtqEqkLcZhz8Jl3YiSpq\" target=\"_blank\"><em>下列哪</em>一项不属于<em>可再生能源</em>利用:()A.羊八井地热能发..._考试资料网</a></h3><div class=\"c-abstract\">中国电力与<em>能源</em>知识竞赛 展开更多节能减排知识竞赛题库 以下试题来自:节能减排知识题库单项选择题<em>下列哪</em>一项不属于<em>可再生能源</em>利用:()A...</div><div class=\"f13\"><a class=\"c-showurl\" href=\"http://www.baidu.com/link?url=7RlClQ1vbzvMJnI2bS_XLXInavf3RztPZfT2ooJJE_VrihJUXdzUYV0ir__GSAIjCYrtqEqkLcZhz8Jl3YiSpq\" style=\"text-decoration:none;\" target=\"_blank\">https://www.ppkao.com/tiku/shi... </a><div class=\"c-tools\" data-tools='{\"title\":\"下列哪一项不属于可再生能源利用:()A.羊八井地热能发..._考试资料网\",\"url\":\"http://www.baidu.com/link?url=7RlClQ1vbzvMJnI2bS_XLXInavf3RztPZfT2ooJJE_VrihJUXdzUYV0ir__GSAIjCYrtqEqkLcZhz8Jl3YiSpq\"}' id=\"tools_9441928435432494033_2\"><a class=\"c-tip-icon\"><i class=\"c-icon c-icon-triangle-down-g\"></i></a></div><span class=\"c-icons-outer\"><span class=\"c-icons-inner\"></span></span> - <a class=\"m\" data-click=\"{'rsv_snapshot':'1'}\" href=\"http://cache.baiducontent.com/c?m=9d78d513d9d430db4f9c94697c15c0101b4381132ba6d6020ed28449e3732d41501693ac26520772d7d20a6316ae394b9bf62104461456b18cb88e5ddccb85595c9f5631671df65662a70edec05124b137e65cfed912f0cbfb25e7ddc5d2af4322cc44730b97868d4d7012de28b04a3eb9e0df0a544811c9f02d20ba1c6029e86102ef14a4f7321956dca9c01a179a6dcd204bcce96ead3d13b516a01b1a3344d716f7570f&amp;p=9b769a479e934eaf5beddf2a5f058b&amp;newp=8362cc06919812a05abd9b7e0e168c231610db2151d4d001298ffe0cc4241a1a1a3aecbf20211502d9c3766d02ab4d5ce1f43378350834f1f689df08d2ecce7e&amp;user=baidu&amp;fm=sc&amp;query=%CF%C2%C1%D0%C4%C4%D2%BB%D6%D6%C4%DC%D4%B4%CA%C7%BF%C9%D4%D9%C9%FA%C4%DC%D4%B4%3F&amp;qid=fae79ffc0000ffd9&amp;p1=2\" target=\"_blank\">百度快照</a></div></div>"
      ],
      "text/plain": [
       "<IPython.core.display.HTML object>"
      ]
     },
     "metadata": {},
     "output_type": "display_data"
    },
    {
     "name": "stdout",
     "output_type": "stream",
     "text": [
      "http://www.baidu.com/s?q1=下列河流哪一条是世界流程最长?&q2=&q3=&q4=&rn=50\n",
      "question: 下列河流哪一条是世界流程最长?\n",
      "('A', '尼罗河', 4.087310473424539)\n",
      "('B', '长江', 0.7400349115300416)\n",
      "('C', '亚马孙河', 0.13730506182594257)\n"
     ]
    },
    {
     "data": {
      "text/html": [
       "<div class=\"result c-container \" data-click=\"{'rsv_bdr':'0' ,'rsv_cd':'vLevel:2'}\" id=\"1\" srcid=\"1529\" tpl=\"se_com_default\"><h3 class=\"t\"><a data-click=\"{\n",
       "\t\t\t'F':'378717EA',\n",
       "\t\t\t'F1':'9D73F1E4',\n",
       "\t\t\t'F2':'4CA6DE6B',\n",
       "\t\t\t'F3':'54E5343F',\n",
       "\t\t\t'T':'1517904311',\n",
       "\t\t\t\t\t\t'y':'759F09BF'\n",
       "\t\t\t \n",
       "\t\t\t\t\t\t\t\t\t}\" href=\"http://www.baidu.com/link?url=zLxDb0ObIv_PXryYyFWfMOtWSE9giTWe7aKivvHnPSHdfQyF0uZbNfNLHxHMfMLg8bB65WXSlLGDx9nKhX2Bb86D2Io5AlQ0WN-tJJ2FNh_\" target=\"_blank\"><em>河流哪一条是世界流程最长</em>_百度作业帮</a></h3><p class=\"f13 m\">1个回答 - 提问时间: 2014年10月06日</p><div class=\"c-abstract\"><span class=\"m\">最佳答案: </span>普遍公认的<em>全球</em>五大河:尼罗河 6695公里,亚马逊河 6436公里,长江 6300公里,密西西比河 6262公里,黄河 5464公里但是巴西空间研究院7月2日宣布,根据卫星拍摄的...</div><div class=\"f13\"><a class=\"c-showurl\" href=\"http://www.baidu.com/link?url=zLxDb0ObIv_PXryYyFWfMOtWSE9giTWe7aKivvHnPSHdfQyF0uZbNfNLHxHMfMLg8bB65WXSlLGDx9nKhX2Bb86D2Io5AlQ0WN-tJJ2FNh_\" style=\"text-decoration:none;\" target=\"_blank\">https://www.zybang.com/questio... </a><div class=\"c-tools\" data-tools='{\"title\":\"河流哪一条是世界流程最长_百度作业帮\",\"url\":\"http://www.baidu.com/link?url=zLxDb0ObIv_PXryYyFWfMOtWSE9giTWe7aKivvHnPSHdfQyF0uZbNfNLHxHMfMLg8bB65WXSlLGDx9nKhX2Bb86D2Io5AlQ0WN-tJJ2FNh_\"}' id=\"tools_13225922252655303883_1\"><a class=\"c-tip-icon\"><i class=\"c-icon c-icon-triangle-down-g\"></i></a></div><span class=\"c-icons-outer\"><span class=\"c-icons-inner\"><span class=\"c-vline\"></span><span class=\"c-trust-as vstar \" data_key=\"5854561520976348714\" hint-data='{\"label\":\"小船出海教育科技(北京)有限公司\",\"url\":\"https://www.baidu.com/s?wd=%E5%B0%8F%E8%88%B9%E5%87%BA%E6%B5%B7%E6%95%99%E8%82%B2%E7%A7%91%E6%8A%80%E5%8C%97%E4%BA%AC%E6%9C%89%E9%99%90%E5%85%AC%E5%8F%B8@v&amp;vmp_ec=770a240ea667f01f97675e741dsff23he3e78e4c8fWJtb8Y92cudm5JbX56y43aacc58Xdca062563a&amp;vmp_ectm=1517900253&amp;from=vs\",\"hint\":[{\"txt\":\"[ecard 96]\",\"vlevel\":\"2\"}]}' hint-type=\"vstar\"><a class=\"c-icon c-icon-v c-icon-v2\" data-click=\"{'title':'vstar','rsv_vlevel':'2'}\" href=\"https://www.baidu.com/s?wd=%E5%B0%8F%E8%88%B9%E5%87%BA%E6%B5%B7%E6%95%99%E8%82%B2%E7%A7%91%E6%8A%80%E5%8C%97%E4%BA%AC%E6%9C%89%E9%99%90%E5%85%AC%E5%8F%B8@v&amp;vmp_ec=770a240ea667f01f97675e741dsff23he3e78e4c8fWJtb8Y92cudm5JbX56y43aacc58Xdca062563a&amp;vmp_ectm=1517900253&amp;from=vs&amp;product=v&amp;rsv_dl=0_left_v_2\" target=\"_blank\"></a></span></span></span> - <a class=\"m\" data-click=\"{'rsv_snapshot':'1'}\" href=\"http://cache.baiducontent.com/c?m=9d78d513d9d430db4f9c94697c15c0101b4381132ba7a30209d5843990732f44506793ac56240775d5d27d1716d9494b9a802173471451c68cbc8f5ddccb85595c9f5631671df65663a00edec95155b737e75ffeae69f0cbf325e7abc5a3de4322bb44040a97868e4d7763dd1ff10342e5b2de084b504afcab7224e8580434826605f350f9977a2557d2aa884b4cb47b8d3e0cd4e862f17849e84fb9184b2e42f649b00e532532b34c73f5403a0f97ea5be6797c1720b749e0bdc7b6fc48fb86ac6ec6&amp;p=9f63d615d9c341a80efcc7710f0e89&amp;newp=c262d61386cc41af5faad32d02149023161cda386a848d0a3b8fd12594604f171c0ba7ec67634b598fca786002aa4e5aeef53679370122b198c28249d8afd4456edf653b2740d00655&amp;user=baidu&amp;fm=sc&amp;query=%CF%C2%C1%D0%BA%D3%C1%F7%C4%C4%D2%BB%CC%F5%CA%C7%CA%C0%BD%E7%C1%F7%B3%CC%D7%EE%B3%A4%3F&amp;qid=faef278a0000e682&amp;p1=1\" target=\"_blank\">百度快照</a></div></div>"
      ],
      "text/plain": [
       "<IPython.core.display.HTML object>"
      ]
     },
     "metadata": {},
     "output_type": "display_data"
    },
    {
     "data": {
      "text/html": [
       "<div class=\"result c-container \" data-click=\"{'rsv_bdr':'0' }\" id=\"2\" srcid=\"1599\" tpl=\"se_com_default\"><h3 class=\"t\"><a data-click=\"{\n",
       "\t\t\t'F':'778717EA',\n",
       "\t\t\t'F1':'9D73F1E4',\n",
       "\t\t\t'F2':'4CA6DE6B',\n",
       "\t\t\t'F3':'54E5243F',\n",
       "\t\t\t'T':'1517904311',\n",
       "\t\t\t\t\t\t'y':'5FFBBFBE'\n",
       "\t\t\t \n",
       "\t\t\t\t\t\t\t\t\t}\" href=\"http://www.baidu.com/link?url=f4r0wbCoKoNkLbfRLlkCN08gmeVhoWAY5vjUXXiH66eYMpN1qXfXrFEDS2V7B6uKIezBXlkf5lTOb_5emysuv6OcO-lDEpbG52rRsTLZ1XyWY6KnKf-OisVCsJXjCbNh\" target=\"_blank\"><em>下列河流哪一条是世界流程最长</em>:() A尼罗河 B.长江 C亚马孙河 D...</a></h3><div class=\"c-abstract\">啊,让我们注视着<em>河流</em>,让我们仰望着高山,让我们拥抱大海,让我们奔向蓝天。<em>那是一个</em>竞技场,<em>那是一个</em>快乐园,<em>那</em>也是一部青春大辞典! (1)给<em>下列</em>加粗字注音。 惊涛...</div><div class=\"f13\"><a class=\"c-showurl\" href=\"http://www.baidu.com/link?url=f4r0wbCoKoNkLbfRLlkCN08gmeVhoWAY5vjUXXiH66eYMpN1qXfXrFEDS2V7B6uKIezBXlkf5lTOb_5emysuv6OcO-lDEpbG52rRsTLZ1XyWY6KnKf-OisVCsJXjCbNh\" style=\"text-decoration:none;\" target=\"_blank\">www.1010jiajiao.com/cz... </a><div class=\"c-tools\" data-tools='{\"title\":\"下列河流哪一条是世界流程最长:() A尼罗河 B.长江 C亚马孙河 D....\",\"url\":\"http://www.baidu.com/link?url=f4r0wbCoKoNkLbfRLlkCN08gmeVhoWAY5vjUXXiH66eYMpN1qXfXrFEDS2V7B6uKIezBXlkf5lTOb_5emysuv6OcO-lDEpbG52rRsTLZ1XyWY6KnKf-OisVCsJXjCbNh\"}' id=\"tools_6310386632752239439_2\"><a class=\"c-tip-icon\"><i class=\"c-icon c-icon-triangle-down-g\"></i></a></div><span class=\"c-icons-outer\"><span class=\"c-icons-inner\"></span></span> - <a class=\"m\" data-click=\"{'rsv_snapshot':'1'}\" href=\"http://cache.baiducontent.com/c?m=9d78d513d9d430db4f9c94697c15c0101b4381132ba7a30209d5843990732f44506793ac56240775d5d27d1716d9494b9a802173471451c68cbc8f5ddccb85595c9f5631671df65663a00edec95155b737e75ffeae69f0cbf325e7abc5a3de4322bb44040a97868e4d7763dd1ff10342e5b2de084b504afcab7272fe2a6a34da6605a1478ee3306d05d9ad8e04179077c76166c6f26aad6f5afe56b95e417f02fb5bb67c0a7027e73b73fa136a0f95bc5bb67d2e4328b219e2eac5b5ea498c8aed3a9dfb98fb7ec167&amp;p=8b2a9704879c5ff219bd9b7e0e10c1&amp;newp=98759a45d5c506f40be2962a505e95231610db2151d7d601298ffe0cc4241a1a1a3aecbf20211502d9c3766d02ab4d5ce1f43378350834f1f689df08d2ecce7e68d3&amp;user=baidu&amp;fm=sc&amp;query=%CF%C2%C1%D0%BA%D3%C1%F7%C4%C4%D2%BB%CC%F5%CA%C7%CA%C0%BD%E7%C1%F7%B3%CC%D7%EE%B3%A4%3F&amp;qid=faef278a0000e682&amp;p1=2\" target=\"_blank\">百度快照</a></div></div>"
      ],
      "text/plain": [
       "<IPython.core.display.HTML object>"
      ]
     },
     "metadata": {},
     "output_type": "display_data"
    },
    {
     "name": "stdout",
     "output_type": "stream",
     "text": [
      "http://www.baidu.com/s?q1=世界上第一家电视台出现在英国,美国,法国哪个国家&q2=&q3=&q4=&rn=50\n",
      "[(英国, 9.091888781589894), (美国, 10.794421765064559), (法国, 7.545225940307949), (英, 2.006244956142005), (欧洲, 0.06495329946704688), (Q, 0.0), (g, 0.0), (E, 0.0), (h, 0.0), (S, 0.0), (牛顿, 0.0), (l, 0.0), (雪莱, 0.0), (e, 0.0), (j, 0.0), (W, 0.0), (拜伦, 0.0), (白厅, 0.0), (Z, 0.0), (n, 0.0), (a, 0.39969338993470693), (d, 0.0), (C, 1.136424585918963), (w, 0.0), (乔叟, 0.0), (y, 0.0), (q, 0.0), (F, 0.0), (剑桥, 0.0), (H, 0.0), (D, 0.1265884639664984), (镑, 0.0), (伦敦, 0.0), (s, 0.0), (t, 0.0), (M, 0.0), (k, 0.0), (r, 0.0), (A, 4.429423180023959), (L, 0.0), (T, 0.0), (V, 0.0), (i, 0.0), (m, 0.0), (便士, 0.0), (英文, 0.0), (英镑, 0.0), (o, 0.0), (P, 0.0), (p, 0.0), (英制, 0.0), (J, 0.0), (I, 0.0), (f, 0.0), (O, 0.0), (u, 0.0), (c, 0.39979478952180947), (英, 2.006244956142005), (R, 0.0), (B, 4.132886877166684), (x, 0.0), (v, 0.0), (K, 0.0), (N, 0.0), (Y, 0.0), (U, 0.0), (X, 0.0), (z, 0.0), (b, 0.3997481821671437), (G, 0.0), (北美, 0.0), (美, 0.0), (费城, 0.0), (加州, 0.0), (布什, 0.0), (花旗, 0.0), (犹他, 0.0), (福特, 0.0), (波音, 0.0), (美商, 0.0), (美式, 0.0), (纽约, 0.0), (美元, 0.0), (美籍, 0.0), (麻省, 0.0), (微软, 0.0), (白宫, 0.0), (林肯, 0.0), (国会, 0.0), (美钞, 0.0), (缅因, 0.0), (矽谷, 0.0), (美, 0.0), (哈佛, 0.0), (硅谷, 0.0), (美分, 0.0), (美军, 0.0), (美金, 0.0), (, 0.0), (法, 0.0), (马赛, 0.0), (里昂, 0.0), (巴黎, 0.0), (法郎, 0.0), (法, 0.0)]\n",
      "question: 世界上第一家电视台出现在英国,美国,法国哪个国家\n",
      "('A', '英国', 24.193891462040717)\n",
      "('B', '美国', 10.794421765064559)\n",
      "('C', '法国', 7.545225940307949)\n"
     ]
    },
    {
     "data": {
      "text/html": [
       "<div class=\"result c-container \" data-click=\"{'rsv_bdr':'0' ,'rsv_cd':'vLevel:3'}\" id=\"1\" srcid=\"1599\" tpl=\"se_com_default\"><h3 class=\"t\"><a data-click=\"{\n",
       "\t\t\t'F':'F78717E8',\n",
       "\t\t\t'F1':'9D73F1E4',\n",
       "\t\t\t'F2':'48A6DE6B',\n",
       "\t\t\t'F3':'54E5243D',\n",
       "\t\t\t'T':'1517904314',\n",
       "\t\t\t\t\t\t'y':'E9CFFBE7'\n",
       "\t\t\t \n",
       "\t\t\t\t\t\t\t\t\t}\" href=\"http://www.baidu.com/link?url=YPuxAkHod7LmDMgpkAA4qK3nGEx_k9vD1BwhuuTfloM3NoHFyvzzoigbC-SjGoaS\" target=\"_blank\">...<em>世界上第一家电视台出现在哪个国家</em>?正确答案:<em>英国</em>错..._百度贴吧</a></h3><div class=\"c-abstract\"><span class=\" newTimeFactor_before_abs m\">2018年1月27日 - </span>题目:<em>世界上第一家电视台出现在哪个国家</em>?正确答案:<em>英国</em>错误答案1:<em>美国</em>错误答案2:<em>法国</em> 送TA礼物  回复 举报|来自Android客户端1楼2018-01-27 20:48  一...</div><div class=\"f13\"><a class=\"c-showurl\" href=\"http://www.baidu.com/link?url=YPuxAkHod7LmDMgpkAA4qK3nGEx_k9vD1BwhuuTfloM3NoHFyvzzoigbC-SjGoaS\" style=\"text-decoration:none;\" target=\"_blank\">tieba.baidu.com/p/5530... </a><div class=\"c-tools\" data-tools='{\"title\":\"...世界上第一家电视台出现在哪个国家?正确答案:英国错..._百度贴吧\",\"url\":\"http://www.baidu.com/link?url=YPuxAkHod7LmDMgpkAA4qK3nGEx_k9vD1BwhuuTfloM3NoHFyvzzoigbC-SjGoaS\"}' id=\"tools_7264287449640267858_1\"><a class=\"c-tip-icon\"><i class=\"c-icon c-icon-triangle-down-g\"></i></a></div><span class=\"c-icons-outer\"><span class=\"c-icons-inner\"><span class=\"c-vline\"></span><span class=\"c-trust-as vstar \" data_key=\"7706407786847786660\" hint-data='{\"label\":\"百度在线网络技术(北京)有限公司\",\"url\":\"https://www.baidu.com/s?wd=%E7%99%BE%E5%BA%A6%E5%9C%A8%E7%BA%BF%E7%BD%91%E7%BB%9C%E6%8A%80%E6%9C%AF%E5%8C%97%E4%BA%AC%E6%9C%89%E9%99%90%E5%85%AC%E5%8F%B8@v&amp;vmp_ec=1cce0131f32d7f5b0d93d8b9a50f1b0Nh4=LWJhXmsZfb=337baQ916ecvmXJJRpW3L7R99bd5dc7609f3088a77&amp;vmp_ectm=1517904019&amp;from=vs\",\"hint\":[{\"txt\":\"[ecard 119]\",\"vlevel\":\"3\"}]}' hint-type=\"vstar\"><a class=\"c-icon c-icon-v c-icon-v3\" data-click=\"{'title':'vstar','rsv_vlevel':'3'}\" href=\"https://www.baidu.com/s?wd=%E7%99%BE%E5%BA%A6%E5%9C%A8%E7%BA%BF%E7%BD%91%E7%BB%9C%E6%8A%80%E6%9C%AF%E5%8C%97%E4%BA%AC%E6%9C%89%E9%99%90%E5%85%AC%E5%8F%B8@v&amp;vmp_ec=1cce0131f32d7f5b0d93d8b9a50f1b0Nh4=LWJhXmsZfb=337baQ916ecvmXJJRpW3L7R99bd5dc7609f3088a77&amp;vmp_ectm=1517904019&amp;from=vs&amp;product=v&amp;rsv_dl=0_left_v_3\" target=\"_blank\"></a></span></span></span> - <a class=\"m\" data-click=\"{'rsv_snapshot':'1'}\" href=\"http://cache.baiducontent.com/c?m=9f65cb4a8c8507ed4fece76310508c31490797634b87834e29938448e435061e5a24febc2023120ed4c57f6703bb0c01aaa63965467037c699dff83ccacc973f2ef830457b0bf73505d269b8bb4132b753875b99b86fe7ad804284afa2c4af2544bc53127bf0e7fb5d1763cf7881672695a78e49654861cbfa436fe858073eef2257c243ee9146797185e1dc2c5bb52cc7176280ae45a74813a260a4086b2f53d43fa608203141e15856fd534d0f859f2ef02a085753b35fc0b3d6c6e05ff8affd30e8edbaa938e466f1b5e0ee054667538a32cea0aac64e733573cebcde&amp;p=882a93458f8719f00be2963d5f57&amp;newp=882a93458c8a12a05aaa883c565092695803ed6237d4c44324b9d71fd325001c1b69e7bc24261306d3c67b6c0ba54c5ae1fb3676301766dada9fca458ae7c47266&amp;user=baidu&amp;fm=sc&amp;query=%CA%C0%BD%E7%C9%CF%B5%DA%D2%BB%BC%D2%B5%E7%CA%D3%CC%A8%B3%F6%CF%D6%D4%DA%D3%A2%B9%FA%2C%C3%C0%B9%FA%2C%B7%A8%B9%FA%C4%C4%B8%F6%B9%FA%BC%D2&amp;qid=edaaed1d0001086b&amp;p1=1\" target=\"_blank\">百度快照</a></div></div>"
      ],
      "text/plain": [
       "<IPython.core.display.HTML object>"
      ]
     },
     "metadata": {},
     "output_type": "display_data"
    },
    {
     "data": {
      "text/html": [
       "<div class=\"result c-container \" data-click=\"{'rsv_bdr':'0' ,'rsv_cd':'vLevel:1'}\" id=\"2\" srcid=\"1599\" tpl=\"se_com_default\"><h3 class=\"t\"><a data-click=\"{\n",
       "\t\t\t'F':'778717E8',\n",
       "\t\t\t'F1':'9D73F1E4',\n",
       "\t\t\t'F2':'4CA6DE6B',\n",
       "\t\t\t'F3':'54E5243D',\n",
       "\t\t\t'T':'1517904314',\n",
       "\t\t\t\t\t\t'y':'DEFFFF7F'\n",
       "\t\t\t \n",
       "\t\t\t\t\t\t\t\t\t}\" href=\"http://www.baidu.com/link?url=VETYNM9ae_U0tG12HJ-qQ3fekiyGgE3ci-80mSIkpU6c2NgZTw1Wi9ZW5ORDwi4GU66MOH1ntTcyn1ccnAKUtwBguUubVAQJVDerSQhbheC\" target=\"_blank\"><em>世界</em>十大<em>电视台</em>排名</a></h3><div class=\"c-row c-gap-top-small\"><div class=\"general_image_pic c-span6\"><a class=\"c-img6\" href=\"http://www.baidu.com/link?url=VETYNM9ae_U0tG12HJ-qQ3fekiyGgE3ci-80mSIkpU6c2NgZTw1Wi9ZW5ORDwi4GU66MOH1ntTcyn1ccnAKUtwBguUubVAQJVDerSQhbheC\" style=\"height:75px\" target=\"_blank\"><img class=\"c-img c-img6\" src=\"http://i9.baidu.com/it/u=3496588304,2824237603&amp;fm=85&amp;s=26D06C2248761BA308B189810300E0E3\" style=\"height:75px;\"/></a></div><div class=\"c-span18 c-span-last\"><div class=\"c-abstract\"><span class=\" newTimeFactor_before_abs m\">2012年4月4日 - </span>ABC是<em>美国</em>观众最多的电视网。 第二名:BBC <em>英国</em>...天空<em>电视台</em>是传媒大王默多克的新闻集团旗下的<em>一个电视</em>...第九名:CANAL+ 所在<em>国家</em>:<em>法国</em> CANAL+标志 Canal+是...</div><div class=\"f13\"><a class=\"c-showurl\" href=\"http://www.baidu.com/link?url=VETYNM9ae_U0tG12HJ-qQ3fekiyGgE3ci-80mSIkpU6c2NgZTw1Wi9ZW5ORDwi4GU66MOH1ntTcyn1ccnAKUtwBguUubVAQJVDerSQhbheC\" style=\"text-decoration:none;\" target=\"_blank\">www.360doc.com/content... </a><div class=\"c-tools\" data-tools='{\"title\":\"世界十大电视台排名 \",\"url\":\"http://www.baidu.com/link?url=VETYNM9ae_U0tG12HJ-qQ3fekiyGgE3ci-80mSIkpU6c2NgZTw1Wi9ZW5ORDwi4GU66MOH1ntTcyn1ccnAKUtwBguUubVAQJVDerSQhbheC\"}' id=\"tools_12477698116198442331_2\"><a class=\"c-tip-icon\"><i class=\"c-icon c-icon-triangle-down-g\"></i></a></div><span class=\"c-icons-outer\"><span class=\"c-icons-inner\"><span class=\"c-vline\"></span><span class=\"c-trust-as vstar \" data_key=\"4587693043541246114\" hint-data='{\"label\":\"北京六智信息技术股份有限公司\",\"url\":\"https://www.baidu.com/s?wd=%E5%8C%97%E4%BA%AC%E5%85%AD%E6%99%BA%E4%BF%A1%E6%81%AF%E6%8A%80%E6%9C%AF%E8%82%A1%E4%BB%BD%E6%9C%89%E9%99%90%E5%85%AC%E5%8F%B8@v&amp;vmp_ec=fd65671c839d48e75e9347aaat94c3z2B3X99d548e3b7uY562dbNyMk27je1s4dX34J2abe336a57b6&amp;vmp_ectm=1517454717&amp;from=vs\",\"hint\":[{\"txt\":\"[ecard 67]\",\"vlevel\":\"1\"}]}' hint-type=\"vstar\"><a class=\"c-icon c-icon-v c-icon-v1\" data-click=\"{'title':'vstar','rsv_vlevel':'1'}\" href=\"https://www.baidu.com/s?wd=%E5%8C%97%E4%BA%AC%E5%85%AD%E6%99%BA%E4%BF%A1%E6%81%AF%E6%8A%80%E6%9C%AF%E8%82%A1%E4%BB%BD%E6%9C%89%E9%99%90%E5%85%AC%E5%8F%B8@v&amp;vmp_ec=fd65671c839d48e75e9347aaat94c3z2B3X99d548e3b7uY562dbNyMk27je1s4dX34J2abe336a57b6&amp;vmp_ectm=1517454717&amp;from=vs&amp;product=v&amp;rsv_dl=0_left_v_1\" target=\"_blank\"></a></span></span></span> - <a class=\"m\" data-click=\"{'rsv_snapshot':'1'}\" href=\"http://cache.baiducontent.com/c?m=9f65cb4a8c8507ed4fece763105392230e54f76238d586482ec3933fc239045c163bbffd707e5619d0c5616507ad4f41e9f12b71320326b191cc9f4da9bb902a2a8b203f711b9141659243e9941831847dd00ce6b86894ad813084dea4c4a85144cb23120b8be7fa2e1715ba7880132695d58e49654866bafa4015e858073eef5257c047eee142797786e1aa595bb259c7171080ae45a74f63a260ae081a5453d04da67c553141945851fb533c74859d5bf05c0a5722c65fc5b8d6c5eb5ffcd7fd45ebedcbde38e461f1b4e8ee014967268932bedaaac238733608cebad501b041abfb9cad3def03a6164bca57615b6fd96ae495ff5ce51629e39719e95f22&amp;p=9367c64ad4842df449bd9b7e0e16a5&amp;newp=8270e715d9c342af1efb852d0214c9231610db2151d4d51e6b82c825d7331b001c3bbfb423251301d4c47f6705aa485ee1f5327433012ba3dda5c91d9fb4c57479ce3125&amp;user=baidu&amp;fm=sc&amp;query=%CA%C0%BD%E7%C9%CF%B5%DA%D2%BB%BC%D2%B5%E7%CA%D3%CC%A8%B3%F6%CF%D6%D4%DA%D3%A2%B9%FA%2C%C3%C0%B9%FA%2C%B7%A8%B9%FA%C4%C4%B8%F6%B9%FA%BC%D2&amp;qid=edaaed1d0001086b&amp;p1=2\" target=\"_blank\">百度快照</a></div></div></div></div>"
      ],
      "text/plain": [
       "<IPython.core.display.HTML object>"
      ]
     },
     "metadata": {},
     "output_type": "display_data"
    },
    {
     "name": "stdout",
     "output_type": "stream",
     "text": [
      "http://www.baidu.com/s?q1=世界上销量最多的酒是啤酒,,白酒哪种?&q2=&q3=&q4=&rn=50\n",
      "[(啤酒, 11.058098653792788), (, 0.0), (白酒, 3.128777872749392), (, 0.0), (啤, 0.38735233126428253), (, 0.0), (烧酒, 0.0)]\n",
      "question: 世界上销量最多的酒是啤酒,,白酒哪种?\n",
      "('A', '啤酒', 11.44545098505707)\n",
      "('C', '白酒', 3.128777872749392)\n",
      "('B', '', 0.0)\n"
     ]
    },
    {
     "data": {
      "text/html": [
       "<div class=\"result c-container \" data-click=\"{'rsv_bdr':'0' }\" id=\"1\" srcid=\"1528\" tpl=\"se_com_default\"><h3 class=\"t\"><a data-click=\"{\n",
       "\t\t\t'F':'778717EA',\n",
       "\t\t\t'F1':'9D73B1E4',\n",
       "\t\t\t'F2':'4CA6DE6B',\n",
       "\t\t\t'F3':'54E5343F',\n",
       "\t\t\t'T':'1517904317',\n",
       "\t\t\t\t\t\t'y':'F0DFDFC7'\n",
       "\t\t\t \n",
       "\t\t\t\t\t\t\t\t\t}\" href=\"http://www.baidu.com/link?url=PsHAm1UoDxMpM0d_qQvb0E2BPCOmzp1Hk5pR0g_eNLTXWM5oHSpeVSF-CfYcnxlVCtuTNri9ULYgPqQDPMA9EZWCBdyTGAKmNUpcbxnOtzC\" target=\"_blank\"><em>世界上销量最多的酒是哪种?</em>_百度知道</a></h3><p class=\"f13 m\">1个回答 - 提问时间: 2018年01月24日</p><div class=\"c-abstract\"><span class=\"m\">最佳答案: </span>啤酒 <em>世界上销售量最多的酒是啤酒,</em>以产量来说: 啤酒、葡萄酒、兰姆酒、威士忌、伏特加这五款是<em>世界销售</em>量最大的酒类 。</div><div class=\"f13\"><a class=\"c-showurl\" href=\"http://www.baidu.com/link?url=PsHAm1UoDxMpM0d_qQvb0E2BPCOmzp1Hk5pR0g_eNLTXWM5oHSpeVSF-CfYcnxlVCtuTNri9ULYgPqQDPMA9EZWCBdyTGAKmNUpcbxnOtzC\" style=\"text-decoration:none;\" target=\"_blank\">https://zhidao.baidu.com/quest... </a><div class=\"c-tools\" data-tools='{\"title\":\"世界上销量最多的酒是哪种?_百度知道\",\"url\":\"http://www.baidu.com/link?url=PsHAm1UoDxMpM0d_qQvb0E2BPCOmzp1Hk5pR0g_eNLTXWM5oHSpeVSF-CfYcnxlVCtuTNri9ULYgPqQDPMA9EZWCBdyTGAKmNUpcbxnOtzC\"}' id=\"tools_1421217415937396253_1\"><a class=\"c-tip-icon\"><i class=\"c-icon c-icon-triangle-down-g\"></i></a></div><span class=\"c-icons-outer\"><span class=\"c-icons-inner\"></span></span></div><div class=\"c-offset\"><table class=\"subLink_factory subLink_factory_right\"><tr><td class=\"first c-default \"><a href=\"http://www.baidu.com/link?url=9qaiyeAza76JWGGlqA3jJzQiZMO5TtOI-abyB43fX-Xl8vMe7aNtl2oMPTUOlMgSAqxTNTJU6kFyATLCYuucPWIwJJsHai8HDcN2esiagW3\" target=\"_blank\"><em>啤酒,红酒,白酒</em>,谁才是<em>世界上销量最</em>大<em>的酒</em></a></td><td class=\"middle c-default \">1个回答</td><td class=\"last c-default rightTd\">2017-06-12</td></tr></table><a class=\"c\" href=\"http://www.baidu.com/link?url=BFz6DVdqr5bNfnLMTds3zG5cAR9hWKE1Jcswle4vaHjPeLDu23XAHa7falG2IE-kg2W6CX8cWCDgrNBNXAfsMzwBBeYzJkyMrcYAD0rv-75TfOrIHNhpSgFIMJLO1fTAxP73kOe0EIFfp87a0uEzptqATDLIbFta0CzGwZFNAK8t6wvza3DkW39M_B2LNqUmoikanclVvpDlxHumAZ3g3ib8aoXaErbaVLWV-3sHNqtNYeZMNpirKLpUGt0DjC7u4Io3kDZWuTtxsq-1RpjpVAmWNCTufF8IOgfYyBUlTkW\" target=\"_blank\">更多知道相关问题&gt;&gt;</a></div></div>"
      ],
      "text/plain": [
       "<IPython.core.display.HTML object>"
      ]
     },
     "metadata": {},
     "output_type": "display_data"
    },
    {
     "data": {
      "text/html": [
       "<div class=\"result c-container \" data-click=\"{'rsv_bdr':'0' }\" id=\"2\" srcid=\"1599\" tpl=\"se_com_default\"><h3 class=\"t\"><a data-click=\"{\n",
       "\t\t\t'F':'778717EA',\n",
       "\t\t\t'F1':'9D73F1E4',\n",
       "\t\t\t'F2':'4CA6DE6B',\n",
       "\t\t\t'F3':'54E5242F',\n",
       "\t\t\t'T':'1517904317',\n",
       "\t\t\t\t\t\t'y':'ADEDFB57'\n",
       "\t\t\t \n",
       "\t\t\t\t\t\t\t\t\t}\" href=\"http://www.baidu.com/link?url=ejJ_E9b706QvbstnjousDeDuL8D5ampizfrskWQsu54irPqxq7o2ZKSVbrnm3yJ1NFmKd8FL8eEd51Rx6mYOLfHMN-u1ksBPvor3Rrxtceu\" target=\"_blank\">10<em>种世界</em>最著名,也是<em>销量最高的啤酒</em>中,你喝过多少<em>种?</em></a></h3><div class=\"c-row c-gap-top-small\"><div class=\"general_image_pic c-span6\"><a class=\"c-img6\" href=\"http://www.baidu.com/link?url=ejJ_E9b706QvbstnjousDeDuL8D5ampizfrskWQsu54irPqxq7o2ZKSVbrnm3yJ1NFmKd8FL8eEd51Rx6mYOLfHMN-u1ksBPvor3Rrxtceu\" style=\"height:75px\" target=\"_blank\"><img class=\"c-img c-img6\" src=\"http://i7.baidu.com/it/u=804921810,3441848140&amp;fm=85&amp;s=1915C311CE1673DECA2051C20300E011\" style=\"height:75px;\"/></a></div><div class=\"c-span18 c-span-last\"><div class=\"c-abstract\"><span class=\" newTimeFactor_before_abs m\">2017年1月25日 - </span><em>世界上啤酒种类</em>繁多,下列10<em>种世界</em>最著名,也是<em>销量最高的啤酒</em>中,你喝过多少<em>种?</em>...一位爱尔兰骑兵从滑铁卢战争中康复后是这样描述健力士黑<em>啤酒</em>的:“当我完全痊愈并...</div><div class=\"f13\"><a class=\"c-showurl\" href=\"http://www.baidu.com/link?url=ejJ_E9b706QvbstnjousDeDuL8D5ampizfrskWQsu54irPqxq7o2ZKSVbrnm3yJ1NFmKd8FL8eEd51Rx6mYOLfHMN-u1ksBPvor3Rrxtceu\" style=\"text-decoration:none;\" target=\"_blank\">https://baijiahao.baidu.com/s?... </a><div class=\"c-tools\" data-tools='{\"title\":\"10种世界最著名,也是销量最高的啤酒中,你喝过多少种?\",\"url\":\"http://www.baidu.com/link?url=ejJ_E9b706QvbstnjousDeDuL8D5ampizfrskWQsu54irPqxq7o2ZKSVbrnm3yJ1NFmKd8FL8eEd51Rx6mYOLfHMN-u1ksBPvor3Rrxtceu\"}' id=\"tools_15541215526679208453_2\"><a class=\"c-tip-icon\"><i class=\"c-icon c-icon-triangle-down-g\"></i></a></div><span class=\"c-icons-outer\"><span class=\"c-icons-inner\"></span></span> - <a class=\"m\" data-click=\"{'rsv_snapshot':'1'}\" href=\"http://cache.baiducontent.com/c?m=9d78d513d9d430dc4f9c96697d60c0111c4381132ba6db020ea08449e3732a35501290ac56210774a7d27d1716d94c4b9d872173471450b38cbf8a5ddccb8558289f5632671df65662a40edecf5124b137e129fede1cf0bb8025e2aac5a0dc4323bd44747e97f0fa4d0065dd6e800341e1b1ef4d022f67ad9c3472fe296058993431b050f8902518039680d9480b8374df3b57d1ed74a73f61a80ef44c407c1ff316e255462647b01c7ca9032a04e5ba00b837385722c213e5aec0c0e84f8bd9ec359afdcbaa2a9f67e1c7e8ee71463506ba32bfddfcf066321242cecada429972abfb9af81d&amp;p=c23e8b16d9c150b12abd9b7e0e1597&amp;newp=80759a45d5c05db903ba8f2d021491231610db2151d7d2126b82c825d7331b001c3bbfb423251301d4c47f6705aa485ee1f5327433012ba3dda5c91d9fb4c5747994316f2707&amp;user=baidu&amp;fm=sc&amp;query=%CA%C0%BD%E7%C9%CF%CF%FA%C1%BF%D7%EE%B6%E0%B5%C4%BE%C6%CA%C7%C6%A1%BE%C6%2C%2C%B0%D7%BE%C6%C4%C4%D6%D6%3F&amp;qid=889c0e830000fc27&amp;p1=2\" target=\"_blank\">百度快照</a></div></div></div></div>"
      ],
      "text/plain": [
       "<IPython.core.display.HTML object>"
      ]
     },
     "metadata": {},
     "output_type": "display_data"
    },
    {
     "name": "stdout",
     "output_type": "stream",
     "text": [
      "http://www.baidu.com/s?q1=中国探测暗物质的科学卫星的名&q2=&q3=&q4=&rn=50\n",
      "[(悟空, 3.857092823955609), (八戒, 0.0), (沙僧, 0.0)]\n",
      "question: 中国探测暗物质的科学卫星的名\n",
      "('A', '悟空', 3.857092823955609)\n",
      "('B', '八戒', 0.0)\n",
      "('C', '沙僧', 0.0)\n"
     ]
    },
    {
     "data": {
      "text/html": [
       "<div class=\"result-op c-container xpath-log\" data-click=\"{'p1':'1','rsv_bdr':'0','fm':'albk',rsv_stl:''}\" data-op=\"{'y':'F7E7FFA0'}\" id=\"1\" mu=\"https://baike.baidu.com/item/“悟空”号暗物质粒子探测卫星/22230578\" srcid=\"1547\" tpl=\"bk_polysemy\">\n",
       "<h3 class=\"t c-gap-bottom-small\">\n",
       "<a href=\"http://www.baidu.com/link?url=r9r9O7RxEdOrAIkX9aYrs2qph4CdIUpd87DYOYo3DObyoD5C3QDd0xW6snxaYJWHWu7ucJBg07zDUaqGbrt85X_hgKCAORd3lTrWqDc4rSRtfQTKSRCpN40Ryl-x8zQuGrJh2YnotZ9oN6jxuv4PdR0sNwT8PVejZgPxgyMBzfHT5jpDP_AO7m7GCP2-EHLobkj12BkBAaT7ND455D1QMWjwfY2t5-hPt-3cYpSW4kaEVpw-Dtuc2b6j-p_RBQ48\" target=\"_blank\">“悟空”号<em>暗物质</em>粒子<em>探测卫星</em>_百度百科</a>\n",
       "</h3>\n",
       "<div class=\"c-row\">\n",
       "<div class=\"c-span6\">\n",
       "<a class=\"op-bk-polysemy-album op-se-listen-recommend\" href=\"http://www.baidu.com/link?url=r9r9O7RxEdOrAIkX9aYrs2qph4CdIUpd87DYOYo3DObyoD5C3QDd0xW6snxaYJWHWu7ucJBg07zDUaqGbrt85X_hgKCAORd3lTrWqDc4rSRtfQTKSRCpN40Ryl-x8zQuGrJh2YnotZ9oN6jxuv4PdR0sNwT8PVejZgPxgyMBzfHT5jpDP_AO7m7GCP2-EHLobkj12BkBAaT7ND455D1QMWjwfY2t5-hPt-3cYpSW4kaEVpw-Dtuc2b6j-p_RBQ48\" style=\"_height:91px\" target=\"_blank\">\n",
       "<img class=\"c-img c-img6\" src=\"http://t10.baidu.com/it/u=1473539814,1444173664&amp;fm=58&amp;bpow=600&amp;bpoh=365\"/>\n",
       "</a>\n",
       "</div>\n",
       "<div class=\"c-span18 c-span-last\">\n",
       "<p>\n",
       "<em>暗物质</em>粒子<em>探测卫星</em>（英文：Dark Matter Particle Explorer，缩写：DAMPE）是<em>中国科学</em>院空间<em>科学</em>战略性先导科技专项中首批立项研制的4颗<em>科学</em>实验<em>卫星</em>之一，是目前世界上观测能...   \n",
       "                </p>\n",
       "<p>\n",
       "<a class=\"c-gap-right-small op-se-listen-recommend\" href=\"http://www.baidu.com/link?url=VnB5tn4ECCI0ndykjjwH0dJDBXyyw8jbv3f8BGJyvTYqPK7gGatYeqA9ePsFqjjh07cdoBP7LbC3TLv0VGMLThqpGRHhBsslplHVp2i7QuDK6_5snmOUXJjJ45_6BmB2KLRcgnR2nmP_dj-TfPZaM1Clyd7jZnEWbojjnC_2kOuCvcUbAOAnF75Ihr97JgAKwDvm6bUhZw36kKfTbyDLmxykpSAgQlStQu7J8aK-29TEjYiorfej0OUt_gEL9kjc\" target=\"_blank\" title=\"卫星简介\"><em>卫星</em>简介</a>\n",
       "<a class=\"c-gap-right-small op-se-listen-recommend\" href=\"http://www.baidu.com/link?url=VnB5tn4ECCI0ndykjjwH0dJDBXyyw8jbv3f8BGJyvTYqPK7gGatYeqA9ePsFqjjh07cdoBP7LbC3TLv0VGMLThqpGRHhBsslplHVp2i7QuDK6_5snmOUXJjJ45_6BmB2KLRcgnR2nmP_dj-TfPZaM1Clyd7jZnEWbojjnC_2kOuCvcUbAOAnF75Ihr97JgAKwDvm6bUhZw36kKfTbyDLmxykpSAgQlStQu7J8aK-29VDr1L0N8snNEPmBj22Id-w\" target=\"_blank\" title=\"卫星组成\"><em>卫星</em>组成</a>\n",
       "<a class=\"c-gap-right-small op-se-listen-recommend\" href=\"http://www.baidu.com/link?url=VnB5tn4ECCI0ndykjjwH0dJDBXyyw8jbv3f8BGJyvTYqPK7gGatYeqA9ePsFqjjh07cdoBP7LbC3TLv0VGMLThqpGRHhBsslplHVp2i7QuDK6_5snmOUXJjJ45_6BmB2KLRcgnR2nmP_dj-TfPZaM1Clyd7jZnEWbojjnC_2kOuCvcUbAOAnF75Ihr97JgAKwDvm6bUhZw36kKfTbyDLmxykpSAgQlStQu7J8aK-29VJQcum81Vdd7AxRLEo-KgD\" target=\"_blank\" title=\"科学目标\"><em>科学</em>目标</a>\n",
       "<a class=\"c-gap-right-small op-se-listen-recommend\" href=\"http://www.baidu.com/link?url=VnB5tn4ECCI0ndykjjwH0dJDBXyyw8jbv3f8BGJyvTYqPK7gGatYeqA9ePsFqjjh07cdoBP7LbC3TLv0VGMLThqpGRHhBsslplHVp2i7QuDK6_5snmOUXJjJ45_6BmB2KLRcgnR2nmP_dj-TfPZaM1Clyd7jZnEWbojjnC_2kOuCvcUbAOAnF75Ihr97JgAKwDvm6bUhZw36kKfTbyDLmxykpSAgQlStQu7J8aK-29TZifBY02ULz9Br-OzuRrMF\" target=\"_blank\" title=\"探测原理\"><em>探测</em>原理</a>\n",
       "<a class=\"c-gap-right-small op-se-listen-recommend\" href=\"http://www.baidu.com/link?url=VnB5tn4ECCI0ndykjjwH0dJDBXyyw8jbv3f8BGJyvTYqPK7gGatYeqA9ePsFqjjh07cdoBP7LbC3TLv0VGMLThqpGRHhBsslplHVp2i7QuDK6_5snmOUXJjJ45_6BmB2KLRcgnR2nmP_dj-TfPZaM1Clyd7jZnEWbojjnC_2kOuCvcUbAOAnF75Ihr97JgAKwDvm6bUhZw36kKfTbyDLmxykpSAgQlStQu7J8aK-29U6V882wTSQ5pGk4Y3tYe8D\" target=\"_blank\" title=\"性能与结构\">性能与结构</a>\n",
       "<a class=\"op-se-listen-recommend\" href=\"http://www.baidu.com/link?url=r9r9O7RxEdOrAIkX9aYrs2qph4CdIUpd87DYOYo3DObyoD5C3QDd0xW6snxaYJWHWu7ucJBg07zDUaqGbrt85X_hgKCAORd3lTrWqDc4rSRtfQTKSRCpN40Ryl-x8zQuGrJh2YnotZ9oN6jxuv4PdR0sNwT8PVejZgPxgyMBzfHT5jpDP_AO7m7GCP2-EHLobkj12BkBAaT7ND455D1QMWjwfY2t5-hPt-3cYpSW4kaEVpw-Dtuc2b6j-p_RBQ48\" target=\"_blank\">更多&gt;&gt;</a>\n",
       "</p>\n",
       "<p class=\" op-bk-polysemy-move\"><span class=\"c-showurl\">baike.baidu.com/ </span><span class=\"c-tools\" data-tools=\"{title:'“悟空”号暗物质粒子探测卫星_百度百科',url:'http://baike.baidu.com/item/%E2%80%9C%E6%82%9F%E7%A9%BA%E2%80%9D%E5%8F%B7%E6%9A%97%E7%89%A9%E8%B4%A8%E7%B2%92%E5%AD%90%E6%8E%A2%E6%B5%8B%E5%8D%AB%E6%98%9F/22230578?fr=aladdin'}\" id=\"tools_15860202585824308501_1\"><a class=\"c-tip-icon\"><i class=\"c-icon c-icon-triangle-down-g\"></i></a></span></p>\n",
       "</div>\n",
       "</div>\n",
       "</div>"
      ],
      "text/plain": [
       "<IPython.core.display.HTML object>"
      ]
     },
     "metadata": {},
     "output_type": "display_data"
    },
    {
     "data": {
      "text/html": [
       "<div class=\"result c-container \" data-click=\"{'rsv_bdr':'0' ,'rsv_cd':'pt:40520|vLevel:3'}\" id=\"2\" srcid=\"1599\" tpl=\"se_com_default\"><h3 class=\"t\"><a data-click=\"{\n",
       "\t\t\t'F':'778717EA',\n",
       "\t\t\t'F1':'9D73F1E4',\n",
       "\t\t\t'F2':'4CA6DE6B',\n",
       "\t\t\t'F3':'54E5343F',\n",
       "\t\t\t'T':'1517904320',\n",
       "\t\t\t\t\t\t'y':'2EFDBF5F'\n",
       "\t\t\t \n",
       "\t\t\t\t\t\t\t\t\t}\" href=\"http://www.baidu.com/link?url=PHGzjxo0Qveu7Bmgqs45gBFnIExbEtCDym1e6Bdl0cEqj-cTzjQhEiX7foH5iVxGphTyBwstMKfbOE5Bm5e4B_\" target=\"_blank\"><em>中国暗物质</em>粒子<em>探测卫星</em>命名“悟空”-中新网</a></h3><div class=\"c-abstract\"><span class=\" newTimeFactor_before_abs m\">2015年12月16日 - </span>视频:<em>中国</em>首颗<em>暗物质探测卫星</em>将发射 获名“悟空”  来源:央视网中新社酒泉12月16日电 (记者 张素)<em>中国科学</em>院国家空间<em>科学</em>中心16日宣布将暗...</div><div class=\"f13\"><a class=\"c-showurl\" href=\"http://www.baidu.com/link?url=PHGzjxo0Qveu7Bmgqs45gBFnIExbEtCDym1e6Bdl0cEqj-cTzjQhEiX7foH5iVxGphTyBwstMKfbOE5Bm5e4B_\" style=\"text-decoration:none;\" target=\"_blank\">www.chinanews.com/gn/2... </a><div class=\"c-tools\" data-tools='{\"title\":\"中国暗物质粒子探测卫星命名“悟空”-中新网\",\"url\":\"http://www.baidu.com/link?url=PHGzjxo0Qveu7Bmgqs45gBFnIExbEtCDym1e6Bdl0cEqj-cTzjQhEiX7foH5iVxGphTyBwstMKfbOE5Bm5e4B_\"}' id=\"tools_5988026639252834145_2\"><a class=\"c-tip-icon\"><i class=\"c-icon c-icon-triangle-down-g\"></i></a></div><span class=\"c-icons-outer\"><span class=\"c-icons-inner\"><span class=\"c-vline\"></span><span class=\"c-trust-as vstar \" data_key=\"3031820192804136605\" hint-data='{\"label\":\"中国新闻社\",\"url\":\"https://www.baidu.com/s?wd=%E4%B8%AD%E5%9B%BD%E6%96%B0%E9%97%BB%E7%A4%BE@v&amp;vmp_ec=ad3a92221758c570ee809e82b3729sYda93WYbXd009838tl2u0f9u18dM63d5Gdl538jyfJ16fcX6b886fba232&amp;vmp_ectm=1517456571&amp;from=vs\",\"hint\":[{\"txt\":\"[ecard -1]\",\"vlevel\":\"3\"}]}' hint-type=\"vstar\"><a class=\"c-icon c-icon-v c-icon-v3\" data-click=\"{'title':'vstar','rsv_vlevel':'3'}\" href=\"https://www.baidu.com/s?wd=%E4%B8%AD%E5%9B%BD%E6%96%B0%E9%97%BB%E7%A4%BE@v&amp;vmp_ec=ad3a92221758c570ee809e82b3729sYda93WYbXd009838tl2u0f9u18dM63d5Gdl538jyfJ16fcX6b886fba232&amp;vmp_ectm=1517456571&amp;from=vs&amp;product=v&amp;rsv_dl=0_left_v_3\" target=\"_blank\"></a></span></span></span> - <a class=\"m\" data-click=\"{'rsv_snapshot':'1'}\" href=\"http://cache.baiducontent.com/c?m=9d78d513d9d437ab4f9b96697d1dc0126a4381132ba6a1020fa2843893732c41506793ac57200774d4d27d1716de3e4b9d842104331451c48cc9f85dadbc8559299f2644676cf25663d70ed9c85156c437912afede6ef0cbf225e5acc5a2da4352ba44757d97818d4d0164dd1ef1034593b2de084b504afcab7272fe2a6a34da6605a1478eb168355bd2aa8a190dd42aa7304cc8b260ec2312b710a302182453a03ab20c4c2334e54926fb432a04e5aa07a17527&amp;p=8b2a971cba8518fb1cbd9b7e0e12bb&amp;newp=882a9546d2af07f00da5c7710f5c9e231610db2151d4d0116b82c825d7331b001c3bbfb423251300d4c77d6506af4a5de1f3347237012ba3dda5c91d9fb4c57479e4616b2554&amp;user=baidu&amp;fm=sc&amp;query=%D6%D0%B9%FA%CC%BD%B2%E2%B0%B5%CE%EF%D6%CA%B5%C4%BF%C6%D1%A7%CE%C0%D0%C7%B5%C4%C3%FB&amp;qid=9697cc0a0000e5a0&amp;p1=2\" target=\"_blank\">百度快照</a></div></div>"
      ],
      "text/plain": [
       "<IPython.core.display.HTML object>"
      ]
     },
     "metadata": {},
     "output_type": "display_data"
    },
    {
     "name": "stdout",
     "output_type": "stream",
     "text": [
      "http://www.baidu.com/s?q1=人们经常通过注射外源性胰岛素的方法来治疗以下哪种疾病?&q2=&q3=&q4=&rn=50\n",
      "question: 人们经常通过注射外源性胰岛素的方法来治疗以下哪种疾病?\n",
      "('B', '糖尿病', 2.357042362614286)\n",
      "('A', '高血压', 0.0)\n",
      "('C', '骨质疏松', 0.0)\n"
     ]
    },
    {
     "data": {
      "text/html": [
       "<div class=\"result c-container \" data-click=\"{'rsv_bdr':'0' }\" id=\"1\" srcid=\"1551\" tpl=\"se_com_list\"><h3 class=\"t\"><a data-click=\"{\n",
       "\t\t\t'F':'778317E8',\n",
       "\t\t\t'F1':'9D73E1E4',\n",
       "\t\t\t'F2':'4CA6DE6B',\n",
       "\t\t\t'F3':'54E5243D',\n",
       "\t\t\t'T':'1517904322',\n",
       "\t\t\t\t\t\t'y':'767F776D'\n",
       "\t\t\t \n",
       "\t\t\t\t\t\t\t\t\t}\" href=\"http://www.baidu.com/link?url=7cQ7SXavf6i_l_Ni5Xym_2_TeWYi2XmhBcFi8VYSLBhP5O6J_UDXeHJjuiNodzgO365POaloKe13ULDmBZOClGF8Di6iwz2c04NCpTAak2a\" target=\"_blank\"><em>胰岛素的</em>十一<em>种注射方法</em>_1型糖尿病_1型糖尿病饮食运动 - 好大夫在线</a></h3><ol><li>1.一天用一次中效<em>胰岛素</em>：中效<em>胰岛素</em>其药效持续的时间约为12小时，故一般糖尿病患者...</li><li>2.睡前用一次中效<em>胰岛素</em>，白天口服降糖药：身体超重的糖尿病患者<em>注射胰岛素</em>后容易发...</li><li>3.一天用两次中效<em>胰岛素</em>：此用法适用于空腹和餐后血糖轻度升高的患者。 ...</li></ol><a href=\"http://www.baidu.com/link?url=7cQ7SXavf6i_l_Ni5Xym_2_TeWYi2XmhBcFi8VYSLBhP5O6J_UDXeHJjuiNodzgO365POaloKe13ULDmBZOClGF8Di6iwz2c04NCpTAak2a\" target=\"_blank\">查看全部&gt;&gt;</a><div class=\"f13\"><a class=\"c-showurl\" href=\"http://www.baidu.com/link?url=7cQ7SXavf6i_l_Ni5Xym_2_TeWYi2XmhBcFi8VYSLBhP5O6J_UDXeHJjuiNodzgO365POaloKe13ULDmBZOClGF8Di6iwz2c04NCpTAak2a\" style=\"text-decoration:none;\" target=\"_blank\">www.haodf.com/zhuanjia... </a><div class=\"c-tools\" data-tools='{\"title\":\"胰岛素的十一种注射方法_1型糖尿病_1型糖尿病饮食运动 - 好大夫在线\",\"url\":\"http://www.baidu.com/link?url=7cQ7SXavf6i_l_Ni5Xym_2_TeWYi2XmhBcFi8VYSLBhP5O6J_UDXeHJjuiNodzgO365POaloKe13ULDmBZOClGF8Di6iwz2c04NCpTAak2a\"}' id=\"tools_10379028654991565370_1\"><a class=\"c-tip-icon\"><i class=\"c-icon c-icon-triangle-down-g\"></i></a></div><span class=\"c-icons-outer\"><span class=\"c-icons-inner\"></span></span> - <a class=\"m\" data-click=\"{'rsv_snapshot':'1'}\" href=\"http://cache.baiducontent.com/c?m=9f65cb4a8c8507ed4fece763105392230e54f7396f8a864168d4e419ce3b46091d21b0e77f794351949620315afc1541bea76a2772547beddc9b9f4da9bc992c2a8c25347518914165895ff0df037881769f4d98a50e96cae74392b9a3d6c85523dd23726df3869c2a0103b96ee71541f4d7ef5f665507cae62711894e7659885545a134f9f7436510f6f0ca5d3cd45ba6766697b843b62962b304a56f0c5246b73ab71f505627964f308e4e2a7495fc2d943d083034c042a4b8b1a19b4f9badec26998adcdf2a821090d29afc66317a45fb55a9dabfa54d625203a9dda812d343cbed9db95b9810c0112cad2b76381dc87ce5f69826f2755b84f019f83e53203f0bafa402fb62066b26a94e0fc16ed705b199064bcb999e&amp;p=8a759a45d5c907b30be2966d495c97&amp;newp=8b2a971386cc41ac52aed764460c9f231610db2151ddc44324b9d71fd325001c1b69e7bc2427160ed5cf766405ab4957eef53c703c1766dada9fca458ae7c47e&amp;user=baidu&amp;fm=sc&amp;query=%C8%CB%C3%C7%BE%AD%B3%A3%CD%A8%B9%FD%D7%A2%C9%E4%CD%E2%D4%B4%D0%D4%D2%C8%B5%BA%CB%D8%B5%C4%B7%BD%B7%A8%C0%B4%D6%CE%C1%C6%D2%D4%CF%C2%C4%C4%D6%D6%BC%B2%B2%A1%3F&amp;qid=ec0b228f00012ffc&amp;p1=1\" target=\"_blank\">百度快照</a></div></div>"
      ],
      "text/plain": [
       "<IPython.core.display.HTML object>"
      ]
     },
     "metadata": {},
     "output_type": "display_data"
    },
    {
     "data": {
      "text/html": [
       "<div class=\"result-op c-container xpath-log\" data-click=\"{'p1':'2','rsv_bdr':'0','fm':'albk3',rsv_stl:''}\" data-op=\"{'y':'9FEBFB1B'}\" id=\"2\" mu=\"https://baike.baidu.com/item/胰岛素/107964\" srcid=\"1547\" tpl=\"bk_polysemy\">\n",
       "<h3 class=\"t c-gap-bottom-small\">\n",
       "<a href=\"http://www.baidu.com/link?url=loqT0pQv07A7ptEqThq67OmrYs4Dlxn34YcRcwjkAe9MSLXkXoqgqtg8ALLbXBuDCLVhFiYNvWNqUkFJMQmVsSCV_u4rl0rdYSEkxQzOX1Tsc1a_umAXAhMM4q6B5eik\" target=\"_blank\"><em>胰岛素</em>_百度百科</a>\n",
       "</h3>\n",
       "<div class=\"c-row\">\n",
       "<div class=\"c-span24 c-span-last\">\n",
       "<p>\n",
       "<em>胰岛素</em>是由<em>胰</em>脏内的<em>胰岛</em>β细胞受内源性或<em>外源性</em>物质...<em>人们</em>用化学全合成和半合成<em>方法</em>制备类似物,研究其结构...动物<em>胰岛素</em>是最早应用于糖尿<em>病治疗的胰岛素注射</em>制...   \n",
       "                </p>\n",
       "<p>\n",
       "<a class=\"c-gap-right-small op-se-listen-recommend\" href=\"http://www.baidu.com/link?url=_s8JuoIEvjZtUGqP47CWE5xnWscaZINWnNGHqeFq4uivwZ1DTh-uujOXZbn8IUUk-FMmgOKi2I7wpOs2G3CBj-flWvsFJ3QKuSH2R1a021CKmrHGBjfQggIXNbwrggsD\" target=\"_blank\" title=\"化合物简介\">化合物简介</a>\n",
       "<a class=\"c-gap-right-small op-se-listen-recommend\" href=\"http://www.baidu.com/link?url=_s8JuoIEvjZtUGqP47CWE5xnWscaZINWnNGHqeFq4uivwZ1DTh-uujOXZbn8IUUk-FMmgOKi2I7wpOs2G3CBj-flWvsFJ3QKuSH2R1a021FTTXAY4JbTCcylDk4xdzb-\" target=\"_blank\" title=\"医学检查\">医学检查</a>\n",
       "<a class=\"c-gap-right-small op-se-listen-recommend\" href=\"http://www.baidu.com/link?url=_s8JuoIEvjZtUGqP47CWE5xnWscaZINWnNGHqeFq4uivwZ1DTh-uujOXZbn8IUUk-FMmgOKi2I7wpOs2G3CBj-flWvsFJ3QKuSH2R1a021E0HqTw-RqOFoSWJ7fLpyS6\" target=\"_blank\" title=\"药典标准\">药典标准</a>\n",
       "<a class=\"c-gap-right-small op-se-listen-recommend\" href=\"http://www.baidu.com/link?url=_s8JuoIEvjZtUGqP47CWE5xnWscaZINWnNGHqeFq4uivwZ1DTh-uujOXZbn8IUUk-FMmgOKi2I7wpOs2G3CBj-flWvsFJ3QKuSH2R1a021DH4liHtTzQwlM27dTaJO7r\" target=\"_blank\" title=\"药物说明\">药物说明</a>\n",
       "</p>\n",
       "<p class=\" op-bk-polysemy-move\"><span class=\"c-showurl\">baike.baidu.com/ </span><span class=\"c-tools\" data-tools=\"{title:'胰岛素_百度百科',url:'http://baike.baidu.com/item/%E8%83%B0%E5%B2%9B%E7%B4%A0/107964?fr=aladdin'}\" id=\"tools_11157774688193139352_2\"><a class=\"c-tip-icon\"><i class=\"c-icon c-icon-triangle-down-g\"></i></a></span></p>\n",
       "</div>\n",
       "</div>\n",
       "</div>"
      ],
      "text/plain": [
       "<IPython.core.display.HTML object>"
      ]
     },
     "metadata": {},
     "output_type": "display_data"
    },
    {
     "name": "stdout",
     "output_type": "stream",
     "text": [
      "http://www.baidu.com/s?q1=以下三条河流的对比中哪条河流最长?&q2=&q3=&q4=&rn=50\n",
      "question: 以下三条河流的对比中哪条河流最长?\n",
      "('A', '多瑙河', 0.0)\n",
      "('B', '湄公河', 0.0)\n",
      "('C', '伏尔塔瓦河', 0.0)\n"
     ]
    },
    {
     "data": {
      "text/html": [
       "<div class=\"result c-container \" data-click=\"{'rsv_bdr':'0' ,'rsv_cd':'vLevel:2'}\" id=\"1\" srcid=\"1529\" tpl=\"se_com_default\"><h3 class=\"t\"><a data-click=\"{\n",
       "\t\t\t'F':'778717E8',\n",
       "\t\t\t'F1':'9D73E1E4',\n",
       "\t\t\t'F2':'4CA6DE6B',\n",
       "\t\t\t'F3':'54E5343D',\n",
       "\t\t\t'T':'1517904325',\n",
       "\t\t\t\t\t\t'y':'D6FD777F'\n",
       "\t\t\t \n",
       "\t\t\t\t\t\t\t\t\t}\" href=\"http://www.baidu.com/link?url=0tj_2ilbgOoV55wr3X1pMn3KrIkzXnaqs9hfdzDZanm60Jp9dIseqbk2Yi0F58rFqfAXvn44fzPRPz5cB2tnsRpxFkfPUce_-civEiRV7XG\" target=\"_blank\">【世界上<em>最长的三条河流</em>是哪<em>几条</em>,分别长多少千米?】百度作业帮</a></h3><p class=\"f13 m\">3个回答 - 提问时间: 2014年11月04日</p><div class=\"c-abstract\"><span class=\"m\">最佳答案: </span>如果只考虑长度,排名如下:第一名尼罗河 干流总长度:6600公里第二名亚马孙河 干流总长度:6400公里第三名长江 全长6300多公里第四名密西西比河 干流总...</div><div class=\"f13\"><a class=\"c-showurl\" href=\"http://www.baidu.com/link?url=0tj_2ilbgOoV55wr3X1pMn3KrIkzXnaqs9hfdzDZanm60Jp9dIseqbk2Yi0F58rFqfAXvn44fzPRPz5cB2tnsRpxFkfPUce_-civEiRV7XG\" style=\"text-decoration:none;\" target=\"_blank\">https://www.zybang.com/questio... </a><div class=\"c-tools\" data-tools='{\"title\":\"【世界上最长的三条河流是哪几条,分别长多少千米?】百度作业帮\",\"url\":\"http://www.baidu.com/link?url=0tj_2ilbgOoV55wr3X1pMn3KrIkzXnaqs9hfdzDZanm60Jp9dIseqbk2Yi0F58rFqfAXvn44fzPRPz5cB2tnsRpxFkfPUce_-civEiRV7XG\"}' id=\"tools_8473234755110520987_1\"><a class=\"c-tip-icon\"><i class=\"c-icon c-icon-triangle-down-g\"></i></a></div><span class=\"c-icons-outer\"><span class=\"c-icons-inner\"><span class=\"c-vline\"></span><span class=\"c-trust-as vstar \" data_key=\"5854561520976348714\" hint-data='{\"label\":\"小船出海教育科技(北京)有限公司\",\"url\":\"https://www.baidu.com/s?wd=%E5%B0%8F%E8%88%B9%E5%87%BA%E6%B5%B7%E6%95%99%E8%82%B2%E7%A7%91%E6%8A%80%E5%8C%97%E4%BA%AC%E6%9C%89%E9%99%90%E5%85%AC%E5%8F%B8@v&amp;vmp_ec=770a240ea667f01f97675e741dsff23he3e78e4c8fWJtb8Y92cudm5JbX56y43aacc58Xdca062563a&amp;vmp_ectm=1517900253&amp;from=vs\",\"hint\":[{\"txt\":\"[ecard 96]\",\"vlevel\":\"2\"}]}' hint-type=\"vstar\"><a class=\"c-icon c-icon-v c-icon-v2\" data-click=\"{'title':'vstar','rsv_vlevel':'2'}\" href=\"https://www.baidu.com/s?wd=%E5%B0%8F%E8%88%B9%E5%87%BA%E6%B5%B7%E6%95%99%E8%82%B2%E7%A7%91%E6%8A%80%E5%8C%97%E4%BA%AC%E6%9C%89%E9%99%90%E5%85%AC%E5%8F%B8@v&amp;vmp_ec=770a240ea667f01f97675e741dsff23he3e78e4c8fWJtb8Y92cudm5JbX56y43aacc58Xdca062563a&amp;vmp_ectm=1517900253&amp;from=vs&amp;product=v&amp;rsv_dl=0_left_v_2\" target=\"_blank\"></a></span></span></span> - <a class=\"m\" data-click=\"{'rsv_snapshot':'1'}\" href=\"http://cache.baiducontent.com/c?m=9f65cb4a8c8507ed19fa950d100b92235c438014749c804623818448e435061e5a25a4ec66644b598fd8773104a94b5deff23373675470b0ca9e891e8aebc5232ade26627019861611d90eafbc1c639e7e841fb4ef4fe8ad863284d8d4c4ae2044bb53127bf0e7fa501760bc78f1642692d78e3c124811cafa4016e82f763eee2057c242eee142797786e1ac5a5bc25ac7111580d933a74e11a262ae081a5453d648a67e533131905856f9534c0285ea2df05b085757b15fb2c9d6c6985ffaddfd409bedbfaa389410f1b3efee06356722fb32cdad&amp;p=926ec15686cc41a95abbc7710f05c9&amp;newp=8d79d715d9c347ad44be9b7c530e9f23161cda386a848d0a3b8fd12592664f171c0ba7ec67634b598fca786002ab4c57eefa36773c0022b09acd8849d8afd4456edf653b2740d05d&amp;user=baidu&amp;fm=sc&amp;query=%D2%D4%CF%C2%C8%FD%CC%F5%BA%D3%C1%F7%B5%C4%B6%D4%B1%C8%D6%D0%C4%C4%CC%F5%BA%D3%C1%F7%D7%EE%B3%A4%3F&amp;qid=e9f10ee600010443&amp;p1=1\" target=\"_blank\">百度快照</a></div></div>"
      ],
      "text/plain": [
       "<IPython.core.display.HTML object>"
      ]
     },
     "metadata": {},
     "output_type": "display_data"
    },
    {
     "data": {
      "text/html": [
       "<div class=\"result c-container \" data-click=\"{'rsv_bdr':'0' ,'rsv_cd':'pt:40520'}\" id=\"2\" srcid=\"1529\" tpl=\"se_com_default\"><h3 class=\"t\"><a data-click=\"{\n",
       "\t\t\t'F':'778717E8',\n",
       "\t\t\t'F1':'9D73E1E4',\n",
       "\t\t\t'F2':'4CA6DE6B',\n",
       "\t\t\t'F3':'54E5243D',\n",
       "\t\t\t'T':'1517904325',\n",
       "\t\t\t\t\t\t'y':'4A7EBFF9'\n",
       "\t\t\t \n",
       "\t\t\t\t\t\t\t\t\t}\" href=\"http://www.baidu.com/link?url=L0SQqidduBaprd71_0RNCaAPQmrnP7zmCvlq1ugxnwteTroqrxXjDN9gyMatU3injiWv6hBhCsTiaayibUt76K\" target=\"_blank\">世界上<em>最长的三条河流</em>是哪三条,它们各长多少千米<em>河流</em>..._爱问知识人</a></h3><p class=\"f13 m\">1个回答 - 最新回答: 2007年4月16日</p><div class=\"c-abstract\"><span class=\"m\">最佳答案: </span>亚马逊河是世界上流量<em>最大</em>，流域面积最广的<em>河流</em>。全长6751公里，沿途接纳1000多条支流，其中长度在1500公里以上的大支流者有17条，流域面积达...</div><div class=\"f13\"><a class=\"c-showurl\" href=\"http://www.baidu.com/link?url=L0SQqidduBaprd71_0RNCaAPQmrnP7zmCvlq1ugxnwteTroqrxXjDN9gyMatU3injiWv6hBhCsTiaayibUt76K\" style=\"text-decoration:none;\" target=\"_blank\">https://iask.sina.com.cn/b/888... </a><div class=\"c-tools\" data-tools='{\"title\":\"世界上最长的三条河流是哪三条,它们各长多少千米河流..._爱问知识人\",\"url\":\"http://www.baidu.com/link?url=L0SQqidduBaprd71_0RNCaAPQmrnP7zmCvlq1ugxnwteTroqrxXjDN9gyMatU3injiWv6hBhCsTiaayibUt76K\"}' id=\"tools_3370524835225192532_2\"><a class=\"c-tip-icon\"><i class=\"c-icon c-icon-triangle-down-g\"></i></a></div><span class=\"c-icons-outer\"><span class=\"c-icons-inner\"></span></span> - <a class=\"m\" data-click=\"{'rsv_snapshot':'1'}\" href=\"http://cache.baiducontent.com/c?m=9f65cb4a8c8507ed19fa950d100b8c35580d97634b968b492cc3933fc23904564711b2e73a720d0ed9cf766200ae5e5c9daa702d691765eadb9e875dabbb855e299f5640676d865613a30edec15151b737912afede68f0cef72592dec5a3ac4325cb44747997848e4d0164dd1ff70340e5b19838022f14ad9b36728f5a6058953441c6508fe425180596f7ad4b3dc53da1670696df22c14f05c114b31e6b3334d35bc709465733f73b22e8454d13e4ee4a905d6e3022a13bb5&amp;p=8a7fc64ad48003ff57ed977e5c4994&amp;newp=8b2a972986cc41ac58fed4225f07c6231610db2151d7c44324b9d71fd325001c1b69e7bc2427160ed5cf766405ab4957eef53c703c1766dada9fca458ae7c444&amp;user=baidu&amp;fm=sc&amp;query=%D2%D4%CF%C2%C8%FD%CC%F5%BA%D3%C1%F7%B5%C4%B6%D4%B1%C8%D6%D0%C4%C4%CC%F5%BA%D3%C1%F7%D7%EE%B3%A4%3F&amp;qid=e9f10ee600010443&amp;p1=2\" target=\"_blank\">百度快照</a></div></div>"
      ],
      "text/plain": [
       "<IPython.core.display.HTML object>"
      ]
     },
     "metadata": {},
     "output_type": "display_data"
    },
    {
     "name": "stdout",
     "output_type": "stream",
     "text": [
      "http://www.baidu.com/s?q1=以下哪一部不是知名作家郭敬明的作品?&q2=&q3=&q4=&rn=50\n"
     ]
    },
    {
     "data": {
      "text/html": [
       "<h2>疑似反向问题!!</h2>"
      ],
      "text/plain": [
       "<IPython.core.display.HTML object>"
      ]
     },
     "metadata": {},
     "output_type": "display_data"
    },
    {
     "name": "stdout",
     "output_type": "stream",
     "text": [
      "question: 以下哪一部不是知名作家郭敬明的作品?\n",
      "('A', '三重门', 2.0098268671047497)\n",
      "('B', '小时代', 0.5598640557369907)\n",
      "('C', '幻城', 0.37597744247315923)\n"
     ]
    },
    {
     "data": {
      "text/html": [
       "<div class=\"result c-container \" data-click=\"{'rsv_bdr':'0' }\" id=\"1\" srcid=\"1528\" tpl=\"se_com_default\"><h3 class=\"t\"><a data-click=\"{\n",
       "\t\t\t'F':'778717EA',\n",
       "\t\t\t'F1':'9D73B1E4',\n",
       "\t\t\t'F2':'4CA6DE6B',\n",
       "\t\t\t'F3':'54E5343F',\n",
       "\t\t\t'T':'1517904329',\n",
       "\t\t\t\t\t\t'y':'FCFDBBFF'\n",
       "\t\t\t \n",
       "\t\t\t\t\t\t\t\t\t}\" href=\"http://www.baidu.com/link?url=lurBMIQpmV9f_v6FwGk0NCJqz7Ib8LTucj4x9p1eNQbGaIFxcZzFEkpxP4_Ogn5K45VVbP6t9sh5w1ByXjma3bhF-6gIQbs3yGF84uZIEeC\" target=\"_blank\"><em>以下哪一部不是知名作家郭敬明的</em>产品?_百度知道</a></h3><p class=\"f13 m\">1个回答 - 提问时间: 2018年01月24日</p><div class=\"c-abstract\"><span class=\"m\">最佳答案: </span>三重门 《三重门》韩寒<em>代表作</em>之一。韩寒:初中时韩寒的短篇小说《弯弯的月亮》《书店》等多<em>部作品</em>被《少年文艺》选用。</div><div class=\"f13\"><a class=\"c-showurl\" href=\"http://www.baidu.com/link?url=lurBMIQpmV9f_v6FwGk0NCJqz7Ib8LTucj4x9p1eNQbGaIFxcZzFEkpxP4_Ogn5K45VVbP6t9sh5w1ByXjma3bhF-6gIQbs3yGF84uZIEeC\" style=\"text-decoration:none;\" target=\"_blank\">https://zhidao.baidu.com/quest... </a><div class=\"c-tools\" data-tools='{\"title\":\"以下哪一部不是知名作家郭敬明的产品?_百度知道\",\"url\":\"http://www.baidu.com/link?url=lurBMIQpmV9f_v6FwGk0NCJqz7Ib8LTucj4x9p1eNQbGaIFxcZzFEkpxP4_Ogn5K45VVbP6t9sh5w1ByXjma3bhF-6gIQbs3yGF84uZIEeC\"}' id=\"tools_12106216323639651539_1\"><a class=\"c-tip-icon\"><i class=\"c-icon c-icon-triangle-down-g\"></i></a></div><span class=\"c-icons-outer\"><span class=\"c-icons-inner\"></span></span></div></div>"
      ],
      "text/plain": [
       "<IPython.core.display.HTML object>"
      ]
     },
     "metadata": {},
     "output_type": "display_data"
    },
    {
     "data": {
      "text/html": [
       "<div class=\"result c-container \" data-click=\"{'rsv_bdr':'0' ,'rsv_cd':'vLevel:1'}\" id=\"2\" srcid=\"1599\" tpl=\"se_com_default\"><h3 class=\"t\"><a data-click=\"{\n",
       "\t\t\t'F':'778717E8',\n",
       "\t\t\t'F1':'9D73F1E4',\n",
       "\t\t\t'F2':'4CA6DE6B',\n",
       "\t\t\t'F3':'54E5243D',\n",
       "\t\t\t'T':'1517904329',\n",
       "\t\t\t\t\t\t'y':'FFFD3DDA'\n",
       "\t\t\t \n",
       "\t\t\t\t\t\t\t\t\t}\" href=\"http://www.baidu.com/link?url=B-cqtOf0VNC_xbtXb15IqcCqlu418kiCfBlFBdNdjrJc_93700k3Z2y3lv4CG5FAXmU37B4Gt8yRcsvkXBak3K\" target=\"_blank\">如何从<em>作家的</em>角度来评价<em>郭敬明?</em> - 知乎</a></h3><div class=\"c-row c-gap-top-small\"><div class=\"general_image_pic c-span6\"><a class=\"c-img6\" href=\"http://www.baidu.com/link?url=B-cqtOf0VNC_xbtXb15IqcCqlu418kiCfBlFBdNdjrJc_93700k3Z2y3lv4CG5FAXmU37B4Gt8yRcsvkXBak3K\" style=\"height:75px\" target=\"_blank\"><img class=\"c-img c-img6\" src=\"http://i7.baidu.com/it/u=304943049,2333774935&amp;fm=85&amp;s=F659E22B5AC75ADE02A8E9DA010080B1\" style=\"height:75px;\"/></a></div><div class=\"c-span18 c-span-last\"><div class=\"c-abstract\"><span class=\" newTimeFactor_before_abs m\">2017年1月22日 - </span>第三,<em>郭敬明</em>即使不能算<em>个作家</em>,他也是<em>个</em>有<em>作品</em>的人...<em>那</em>我这种曾经买过《最小说》创刊号,《迷藏》正版碟...你说《幻城》是一本好小说,你看过日本<em>著名</em>漫画家...</div><div class=\"f13\"><a class=\"c-showurl\" href=\"http://www.baidu.com/link?url=B-cqtOf0VNC_xbtXb15IqcCqlu418kiCfBlFBdNdjrJc_93700k3Z2y3lv4CG5FAXmU37B4Gt8yRcsvkXBak3K\" style=\"text-decoration:none;\" target=\"_blank\">https://www.zhihu.com/question... </a><div class=\"c-tools\" data-tools='{\"title\":\"如何从作家的角度来评价郭敬明? - 知乎\",\"url\":\"http://www.baidu.com/link?url=B-cqtOf0VNC_xbtXb15IqcCqlu418kiCfBlFBdNdjrJc_93700k3Z2y3lv4CG5FAXmU37B4Gt8yRcsvkXBak3K\"}' id=\"tools_3198571854518571050_2\"><a class=\"c-tip-icon\"><i class=\"c-icon c-icon-triangle-down-g\"></i></a></div><span class=\"c-icons-outer\"><span class=\"c-icons-inner\"><span class=\"c-vline\"></span><span class=\"c-trust-as vstar \" data_key=\"12397541887370352527\" hint-data='{\"label\":\"北京智者天下科技有限公司\",\"url\":\"https://www.baidu.com/s?wd=%E5%8C%97%E4%BA%AC%E6%99%BA%E8%80%85%E5%A4%A9%E4%B8%8B%E7%A7%91%E6%8A%80%E6%9C%89%E9%99%90%E5%85%AC%E5%8F%B8@v&amp;vmp_ec=14517bee698c11a4d87fd3a3d0ld3bd6j9c3d81fb2b=b2c4Gao15aS3esdd75dyXJXf8bf554b423b8&amp;vmp_ectm=1517903367&amp;from=vs\",\"hint\":[{\"txt\":\"[ecard 73]\",\"vlevel\":\"1\"}]}' hint-type=\"vstar\"><a class=\"c-icon c-icon-v c-icon-v1\" data-click=\"{'title':'vstar','rsv_vlevel':'1'}\" href=\"https://www.baidu.com/s?wd=%E5%8C%97%E4%BA%AC%E6%99%BA%E8%80%85%E5%A4%A9%E4%B8%8B%E7%A7%91%E6%8A%80%E6%9C%89%E9%99%90%E5%85%AC%E5%8F%B8@v&amp;vmp_ec=14517bee698c11a4d87fd3a3d0ld3bd6j9c3d81fb2b=b2c4Gao15aS3esdd75dyXJXf8bf554b423b8&amp;vmp_ectm=1517903367&amp;from=vs&amp;product=v&amp;rsv_dl=0_left_v_1\" target=\"_blank\"></a></span></span></span> - <a class=\"m\" data-click=\"{'rsv_snapshot':'1'}\" href=\"http://cache.baiducontent.com/c?m=9f65cb4a8c8507ed19fa950d100b92235c438014748d8b4f38c3933fc239045c0421b4fa61794d58cec57b6d02aa4b58ebe4732f77552fa0edc89f3cdbace35c38f92723716c913014c468a9dc4755d656904d99df0ee6cae74293b9a2a7c85523dd23056df0809c5b7003bb1ce76534f4a7e95f635b07c99e2714fe4e0359882230a131fcf7466b10f187ca2a4cd42ba076619cb841bb2962c204d4190c5545b738b41f5056279048308e422a05e2fc2be23d0d4534c74ca4c9c4&amp;p=8b2a971f93d81df407bd9b7e0e128a&amp;newp=80759a45d5c75af84bfec7710f4780231610db2151d4d2136b82c825d7331b001c3bbfb423251301d4c77e6607ae4e5aedf0377331012ba3dda5c91d9fb4c5747993702763&amp;user=baidu&amp;fm=sc&amp;query=%D2%D4%CF%C2%C4%C4%D2%BB%B2%BF%B2%BB%CA%C7%D6%AA%C3%FB%D7%F7%BC%D2%B9%F9%BE%B4%C3%F7%B5%C4%D7%F7%C6%B7%3F&amp;qid=8a38e7ec0000f386&amp;p1=2\" target=\"_blank\">百度快照</a></div></div></div></div>"
      ],
      "text/plain": [
       "<IPython.core.display.HTML object>"
      ]
     },
     "metadata": {},
     "output_type": "display_data"
    },
    {
     "name": "stdout",
     "output_type": "stream",
     "text": [
      "http://www.baidu.com/s?q1=以下哪一部影片的故事不是改编自小说?&q2=&q3=&q4=&rn=50\n"
     ]
    },
    {
     "data": {
      "text/html": [
       "<h2>疑似反向问题!!</h2>"
      ],
      "text/plain": [
       "<IPython.core.display.HTML object>"
      ]
     },
     "metadata": {},
     "output_type": "display_data"
    },
    {
     "name": "stdout",
     "output_type": "stream",
     "text": [
      "question: 以下哪一部影片的故事不是改编自小说?\n",
      "('C', '罗马假日', 5.067639204153217)\n",
      "('A', '教父', 0.0)\n",
      "('B', '肖申克的救赎', 0.0)\n"
     ]
    },
    {
     "data": {
      "text/html": [
       "<div class=\"result c-container \" data-click=\"{'rsv_bdr':'0' }\" id=\"1\" srcid=\"1528\" tpl=\"se_com_default\"><h3 class=\"t\"><a data-click=\"{\n",
       "\t\t\t'F':'778717EA',\n",
       "\t\t\t'F1':'9D43B1E4',\n",
       "\t\t\t'F2':'4CA6DE6B',\n",
       "\t\t\t'F3':'54E5243F',\n",
       "\t\t\t'T':'1517904331',\n",
       "\t\t\t\t\t\t'y':'FFFFFFF6'\n",
       "\t\t\t \n",
       "\t\t\t\t\t\t\t\t\t}\" href=\"http://www.baidu.com/link?url=RHHJwzuI4qXt5EsVdCZ2jWB2MLRDbmXP7yu6PEieVrfQa2OTxgNmwkZa3eXk9QNMzjgIZ4uB-CtAZymdD6zaNAmOiWaaZ-j677Y2fnkBhDC\" target=\"_blank\"><em>以下哪一部影片的故事不是改编自小说?</em>_百度知道</a></h3><p class=\"f13 m\">1个回答 - 提问时间: 2018年01月30日</p><div class=\"c-abstract\"><span class=\"m\">最佳答案: </span>罗马假日 这部<em>电影的</em>企划最早由弗兰克·卡普拉在1949年提出,他希望由加里·格兰特和伊丽莎白·泰勒主演。<em>影片的</em>编剧达尔顿·特朗勃当时被列入美国众议院非美活...</div><div class=\"f13\"><a class=\"c-showurl\" href=\"http://www.baidu.com/link?url=RHHJwzuI4qXt5EsVdCZ2jWB2MLRDbmXP7yu6PEieVrfQa2OTxgNmwkZa3eXk9QNMzjgIZ4uB-CtAZymdD6zaNAmOiWaaZ-j677Y2fnkBhDC\" style=\"text-decoration:none;\" target=\"_blank\">https://zhidao.baidu.com/quest... </a><div class=\"c-tools\" data-tools='{\"title\":\"以下哪一部影片的故事不是改编自小说?_百度知道\",\"url\":\"http://www.baidu.com/link?url=RHHJwzuI4qXt5EsVdCZ2jWB2MLRDbmXP7yu6PEieVrfQa2OTxgNmwkZa3eXk9QNMzjgIZ4uB-CtAZymdD6zaNAmOiWaaZ-j677Y2fnkBhDC\"}' id=\"tools_4804496450039540822_1\"><a class=\"c-tip-icon\"><i class=\"c-icon c-icon-triangle-down-g\"></i></a></div><span class=\"c-icons-outer\"><span class=\"c-icons-inner\"></span></span></div></div>"
      ],
      "text/plain": [
       "<IPython.core.display.HTML object>"
      ]
     },
     "metadata": {},
     "output_type": "display_data"
    },
    {
     "data": {
      "text/html": [
       "<div class=\"result c-container \" data-click=\"{'rsv_bdr':'0' }\" id=\"2\" srcid=\"1599\" tpl=\"se_com_default\"><h3 class=\"t\"><a data-click=\"{\n",
       "\t\t\t'F':'778717EA',\n",
       "\t\t\t'F1':'9D73F1E4',\n",
       "\t\t\t'F2':'4CA6DD6B',\n",
       "\t\t\t'F3':'54E5243F',\n",
       "\t\t\t'T':'1517904331',\n",
       "\t\t\t\t\t\t'y':'7F7EBDF7'\n",
       "\t\t\t \n",
       "\t\t\t\t\t\t\t\t\t}\" href=\"http://www.baidu.com/link?url=vY00xDO5uuKP2JUdOdtsuAiLNorRocNOikMmg5eqR847f2jp1EoZyFqjdB8rN2mCDWn6N3jFV937JHC6eQVPbq\" target=\"_blank\"><em>以下哪一部影片的故事不是改编自小说?</em>_百万英雄英雄题库答案大全_...</a></h3><div class=\"c-abstract\"><span class=\" newTimeFactor_before_abs m\">2018年1月14日 - </span><em>以下哪一部影片的故事不是改编自小说?</em>正确答案:《罗马假日》《罗马假日》(Roman Holiday)是1953年由美国派拉蒙公司拍摄的浪漫爱情片,故事讲述了一位欧...</div><div class=\"f13\"><a class=\"c-showurl\" href=\"http://www.baidu.com/link?url=vY00xDO5uuKP2JUdOdtsuAiLNorRocNOikMmg5eqR847f2jp1EoZyFqjdB8rN2mCDWn6N3jFV937JHC6eQVPbq\" style=\"text-decoration:none;\" target=\"_blank\">www.binzz.com/gongzuo/... </a><div class=\"c-tools\" data-tools='{\"title\":\"以下哪一部影片的故事不是改编自小说?_百万英雄英雄题库答案大全_...\",\"url\":\"http://www.baidu.com/link?url=vY00xDO5uuKP2JUdOdtsuAiLNorRocNOikMmg5eqR847f2jp1EoZyFqjdB8rN2mCDWn6N3jFV937JHC6eQVPbq\"}' id=\"tools_11218938022232431226_2\"><a class=\"c-tip-icon\"><i class=\"c-icon c-icon-triangle-down-g\"></i></a></div><span class=\"c-icons-outer\"><span class=\"c-icons-inner\"></span></span> - <a class=\"m\" data-click=\"{'rsv_snapshot':'1'}\" href=\"http://cache.baiducontent.com/c?m=9d78d513d9d437af4f9b92697c62c017194381132ba6d6020ed28449e3732d41501693ac26520774d3d20c1316ae394b9cf12102351451b38cbbf95ddccb8558289f5632671df65662d80edeb85154b237e15afeae69f0caf025e3dec5d2af4322b944747f97f1fb4d701edd1ef60341e0b1ee4a025e60ad9b3572895f6028ef3436b4508ae3251f779686da480b8374df3b57d1ed22b14d0fa856e15a0c2433f017ed40193130971e7aa0596859cebe15a077644321b64cb3bad6b69c12ca83b4&amp;p=8365c54ad6c041fb0be2962f4c089d&amp;newp=866ecb5d86cc41ac58fc8a2d02148a231610db2151d4d5176b82c825d7331b001c3bbfb423251301d4c47f6705aa485ee1f5327433012ba3dda5c91d9fb4c574799939&amp;user=baidu&amp;fm=sc&amp;query=%D2%D4%CF%C2%C4%C4%D2%BB%B2%BF%D3%B0%C6%AC%B5%C4%B9%CA%CA%C2%B2%BB%CA%C7%B8%C4%B1%E0%D7%D4%D0%A1%CB%B5%3F&amp;qid=f22ed8780000f81d&amp;p1=2\" target=\"_blank\">百度快照</a></div></div>"
      ],
      "text/plain": [
       "<IPython.core.display.HTML object>"
      ]
     },
     "metadata": {},
     "output_type": "display_data"
    },
    {
     "name": "stdout",
     "output_type": "stream",
     "text": [
      "http://www.baidu.com/s?q1=以下哪个体育项目是通过裁判打分来决定胜负的?&q2=&q3=&q4=&rn=50\n",
      "question: 以下哪个体育项目是通过裁判打分来决定胜负的?\n",
      "('A', '跳水', 2.068518287792904)\n",
      "('B', '100米短跑', 0.0)\n",
      "('C', '羽毛球', 0.0)\n"
     ]
    },
    {
     "data": {
      "text/html": [
       "<div class=\"result c-container \" data-click=\"{'rsv_bdr':'0' }\" id=\"1\" srcid=\"1599\" tpl=\"se_com_default\"><h3 class=\"t\"><a data-click=\"{\n",
       "\t\t\t'F':'378717EA',\n",
       "\t\t\t'F1':'9D73F1E4',\n",
       "\t\t\t'F2':'4CA6DE6B',\n",
       "\t\t\t'F3':'54E5243F',\n",
       "\t\t\t'T':'1517904335',\n",
       "\t\t\t\t\t\t'y':'AAFABF76'\n",
       "\t\t\t \n",
       "\t\t\t\t\t\t\t\t\t}\" href=\"http://www.baidu.com/link?url=EZh8kHKa2h8P5WcxAB0uz12-Wp6dquF9yhyW9kDbPX08iF2RNxLHFRvilpWUyRC4qwAJnaT-Oq1SKjgacGzCv4SOchN-q9yptBTe0sa4ELu\" target=\"_blank\">百万英雄题目及答案回顾1.14</a></h3><div class=\"c-row c-gap-top-small\"><div class=\"general_image_pic c-span6\"><a class=\"c-img6\" href=\"http://www.baidu.com/link?url=EZh8kHKa2h8P5WcxAB0uz12-Wp6dquF9yhyW9kDbPX08iF2RNxLHFRvilpWUyRC4qwAJnaT-Oq1SKjgacGzCv4SOchN-q9yptBTe0sa4ELu\" style=\"height:75px\" target=\"_blank\"><img class=\"c-img c-img6\" src=\"http://t12.baidu.com/it/u=758278310,798377617&amp;fm=96&amp;s=73C8B70E16620EAC2491AC6C0300E058&amp;w=121&amp;h=75&amp;img.JPEG\" style=\"height:75px;\"/></a></div><div class=\"c-span18 c-span-last\"><div class=\"c-abstract\"><span class=\" newTimeFactor_before_abs m\">2018年1月17日 - </span>3、杨万里的《小池》中“小荷才露尖尖角”哪种动物落在了荷花上? 蜻蜓 4、<em>以下哪个体育项目是通过裁判打分来决定胜负的?</em> 跳水 5、“士不可以不弘毅,任重而道远...</div><div class=\"f13\"><a class=\"c-showurl\" href=\"http://www.baidu.com/link?url=EZh8kHKa2h8P5WcxAB0uz12-Wp6dquF9yhyW9kDbPX08iF2RNxLHFRvilpWUyRC4qwAJnaT-Oq1SKjgacGzCv4SOchN-q9yptBTe0sa4ELu\" style=\"text-decoration:none;\" target=\"_blank\">https://baijiahao.baidu.com/s?... </a><div class=\"c-tools\" data-tools='{\"title\":\"百万英雄题目及答案回顾1.14\",\"url\":\"http://www.baidu.com/link?url=EZh8kHKa2h8P5WcxAB0uz12-Wp6dquF9yhyW9kDbPX08iF2RNxLHFRvilpWUyRC4qwAJnaT-Oq1SKjgacGzCv4SOchN-q9yptBTe0sa4ELu\"}' id=\"tools_10334303126848659542_1\"><a class=\"c-tip-icon\"><i class=\"c-icon c-icon-triangle-down-g\"></i></a></div><span class=\"c-icons-outer\"><span class=\"c-icons-inner\"></span></span> - <a class=\"m\" data-click=\"{'rsv_snapshot':'1'}\" href=\"http://cache.baiducontent.com/c?m=9f65cb4a8c8507ed19fa950d100b8735420cdb3066848d027fa3c31bc8321c564711b2e6783f5113d2b1273116ae3f5fedfa3d77330725b099cf8f4fd6bd92232a8a30347459d20105d26fee891d739660875aedfb44a7adf144d1ffc696821405c544737a97868d4d7160dd1ef0033093b1e84e022e16ad9d3a728b5d6028ef3431c7508ee72518069682ab4b4db33da11506e0d822c13805c567b31e6b3335d35bc00d462740f73e51e8373713e2e04a935c6e4153a138b3aeb0b7fc398bcb9c338ffbbbb85f937792c5fd8974550656ed24cebcccb02a144315d8bac966b325c8fefbca48fe67dd075dca4a075c7cbd6d83f2854082114df5977f8e2e35572e&amp;p=9d7fd415d9c343af01adc7710f4c94&amp;newp=83368b15d9c343af01b2c7710f408e231610db2151d6d7156b82c825d7331b001c3bbfb423251301d4c0796306af425beef7327131012ba3dda5c91d9fb4c57479d178&amp;user=baidu&amp;fm=sc&amp;query=%D2%D4%CF%C2%C4%C4%B8%F6%CC%E5%D3%FD%CF%EE%C4%BF%CA%C7%CD%A8%B9%FD%B2%C3%C5%D0%B4%F2%B7%D6%C0%B4%BE%F6%B6%A8%CA%A4%B8%BA%B5%C4%3F&amp;qid=ee62716f0000eeea&amp;p1=1\" target=\"_blank\">百度快照</a></div></div></div></div>"
      ],
      "text/plain": [
       "<IPython.core.display.HTML object>"
      ]
     },
     "metadata": {},
     "output_type": "display_data"
    },
    {
     "data": {
      "text/html": [
       "<div class=\"result c-container \" data-click=\"{'rsv_bdr':'0' }\" id=\"2\" srcid=\"1599\" tpl=\"se_com_default\"><h3 class=\"t\"><a data-click=\"{\n",
       "\t\t\t'F':'378717EA',\n",
       "\t\t\t'F1':'9D73F1E4',\n",
       "\t\t\t'F2':'4CA6DE6B',\n",
       "\t\t\t'F3':'54E5243F',\n",
       "\t\t\t'T':'1517904335',\n",
       "\t\t\t\t\t\t'y':'BFFEB7F5'\n",
       "\t\t\t \n",
       "\t\t\t\t\t\t\t\t\t}\" href=\"http://www.baidu.com/link?url=JzF1HFPp3K61zMciT2Xo9QhIjmd_KYKd69e8dWZknVOlmbYdPoFXNEp75jVTIM5n\" target=\"_blank\">百万英雄1月14日题目_百万英雄1月14日题目答案揭晓_游戏吧</a></h3><div class=\"c-abstract\"><span class=\" newTimeFactor_before_abs m\">2018年1月15日 - </span>下面游戏吧小编为大家带来百万英雄1月14日题目答案揭晓,快来一起了解一...4、<em>以下哪个体育项目是通过裁判打分来决定胜负的?</em>  跳水 5、“士不可以...</div><div class=\"f13\"><a class=\"c-showurl\" href=\"http://www.baidu.com/link?url=JzF1HFPp3K61zMciT2Xo9QhIjmd_KYKd69e8dWZknVOlmbYdPoFXNEp75jVTIM5n\" style=\"text-decoration:none;\" target=\"_blank\">www.gmz88.com/xinwen/2... </a><div class=\"c-tools\" data-tools='{\"title\":\"百万英雄1月14日题目_百万英雄1月14日题目答案揭晓_游戏吧\",\"url\":\"http://www.baidu.com/link?url=JzF1HFPp3K61zMciT2Xo9QhIjmd_KYKd69e8dWZknVOlmbYdPoFXNEp75jVTIM5n\"}' id=\"tools_12929787983473314429_2\"><a class=\"c-tip-icon\"><i class=\"c-icon c-icon-triangle-down-g\"></i></a></div><span class=\"c-icons-outer\"><span class=\"c-icons-inner\"></span></span> - <a class=\"m\" data-click=\"{'rsv_snapshot':'1'}\" href=\"http://cache.baiducontent.com/c?m=9d78d513d9d437af4f9b92697c62c017194381132ba6d6020ed2843899732f45506793ac56530773d4d20a6616db3f4beb802103431457c08cb98e5dadcf85295f9f5647676d835613a30edebd5156cb37e051fedb6ff0bb8025e3aec5a2de4322cd44737897f1fb4d7012dd1bf00341e6b1ef4c025e60ad9c32728f5f6028ef3430c1508de4251e039685d74b4db33da11206e4a922c03405c560b31e6b3334a75bc00e456170be407db9027f13939840fa6f3c0534b63fe6e689bce15f8cabbb6cc7e781f473d037bad8eafd70467645fa52e4ede2ec&amp;p=8665c64ad49b57be4ebd9b7e0e179e&amp;newp=8b2a970487d057e62abd9b7e0e17a5231610db2151d4d7146b82c825d7331b001c3bbfb423251300d4c77d6506af4a5de1f3347237012ba3dda5c91d9fb4c57479c976276655f4&amp;user=baidu&amp;fm=sc&amp;query=%D2%D4%CF%C2%C4%C4%B8%F6%CC%E5%D3%FD%CF%EE%C4%BF%CA%C7%CD%A8%B9%FD%B2%C3%C5%D0%B4%F2%B7%D6%C0%B4%BE%F6%B6%A8%CA%A4%B8%BA%B5%C4%3F&amp;qid=ee62716f0000eeea&amp;p1=2\" target=\"_blank\">百度快照</a></div></div>"
      ],
      "text/plain": [
       "<IPython.core.display.HTML object>"
      ]
     },
     "metadata": {},
     "output_type": "display_data"
    },
    {
     "name": "stdout",
     "output_type": "stream",
     "text": [
      "http://www.baidu.com/s?q1=以下哪个海沟最深?&q2=&q3=&q4=&rn=50\n",
      "question: 以下哪个海沟最深?\n",
      "('A', '马里亚纳海沟', 31.285484693971526)\n",
      "('B', '波多黎各海沟', 23.76195379309251)\n",
      "('C', '菲律宾海沟', 23.584758991307098)\n"
     ]
    },
    {
     "data": {
      "text/html": [
       "<div class=\"result-op c-container xpath-log\" data-click=\"{'p1':'1','rsv_bdr':'0','fm':'as',rsv_stl:'1'}\" data-op=\"{'y':'B7FF7F57'}\" id=\"1\" mu=\"https://zhidao.baidu.com/question/4513047.html\" srcid=\"1532\" tpl=\"best_answer\">\n",
       "<div class=\"c-border\">\n",
       "<div class=\"op_best_answer_question c-row\">\n",
       "<div class=\"op_best_answer_icon c-gap-right\"><i class=\"c-text c-text-safe\">问</i></div>\n",
       "<div class=\"op_best_answer_content\">\n",
       "<a class=\"op_best_answer_question_link\" href=\"http://www.baidu.com/link?url=OnKO39diILdw2Gix-I657eLtXs1RG70y7Tdmv3nVMG-0XKw4VvTDH9s206tVg5shdFoL14ixLGYgQfR1GeHGs_\" target=\"_blank\" title=\"世界上最深的海沟是哪个？\">世界上<em>最深</em>的<em>海沟</em>是<em>哪个</em>？_百度知道</a> </div>\n",
       "</div>\n",
       "<div class=\"op_best_answer_answer c-row c-gap-top-small\">\n",
       "<div class=\"op_best_answer_icon c-gap-right\"><i class=\"c-text c-text-important\">答</i></div>\n",
       "<div class=\"op_best_answer_content\">\n",
       "<p> 马里亚纳海沟:世界上最深的海沟,最深点为10，911米 </p>\n",
       "<p> 马里亚纳海沟是地球上最深的地方，位于北太平洋西部马里亚纳群岛以东，为一条洋底弧形洼地，延伸2550公里，平均宽69公里。 主海沟底部有较小陡壁谷...<span class=\"op_best_answer_answer_more c-gap-left-small\"><a href=\"http://www.baidu.com/link?url=OnKO39diILdw2Gix-I657eLtXs1RG70y7Tdmv3nVMG-0XKw4VvTDH9s206tVg5shdFoL14ixLGYgQfR1GeHGs_\" target=\"_blank\">详情&gt;&gt;</a></span></p>\n",
       "</div>\n",
       "</div>\n",
       "<div class=\"op_best_answer_source c-clearfix\">\n",
       "        来自<a href=\"http://www.baidu.com/link?url=OnKO39diILdw2Gix-I657eLtXs1RG70y7Tdmv3nVMG-0XKw4VvTDH9s206tVg5shdFoL14ixLGYgQfR1GeHGs_\" target=\"_blank\">百度知道</a><span class=\"op_best_answer_source_sep\">|</span><a class=\"op_best_answer_feedback OP_LOG_BTN\" data-click=\"{info:'报错'}\" href=\"javascript:;\">报错</a>\n",
       "</div>\n",
       "<div class=\"op_best_answer_ext c-gap-top\">\n",
       "<p class=\"op_best_answer_otheranswer c-gap-top-small\">\n",
       "<a href=\"http://www.baidu.com/link?url=nHZ3Z4cXWNXre_o12kSlKCRG8oBZms_rPSCdNt1orZtyT6NjSMD7NictiKngym4Fh5inpK_BfXsbmaumCfZ36SmbTaHI761HFIJeSbvkynK\" target=\"_blank\" title=\"\u0002以下\u0001哪个\u0001海沟\u0001最\u0001深\u0001?\u0003\"><em>以下哪个海沟最深?</em></a> <span>1个回答</span> <span>2018-01-30</span> </p>\n",
       "<p class=\"op_best_answer_otheranswer \">\n",
       "<a href=\"http://www.baidu.com/link?url=nHZ3Z4cXWNXre_o12kSlK0LXloODonHiflBBwWUX-U58g6cfIBvbOTxdVv_bTxBGQrT9CDrHMwgYj6Iu5uMAxVRUyCkzlmBCS5KEf6O4CXu\" target=\"_blank\" title=\"\u0002世界\u0003上\u0002最\u0001深\u0003的\u0002海沟\u0003位于\u0002哪个\u0003大洋\u0001?\u0001\"><em>世界</em>上<em>最深</em>的<em>海沟</em>位于<em>哪个</em>大洋?</a> <span>2个回答</span> <span>2015-02-01</span> </p>\n",
       "<p class=\"op_best_answer_moreanswer\"><a href=\"http://www.baidu.com/link?url=1gG6TBhQpc5NOGuoges2t7I-jtSzz-RW3IyiTF65gOQ1QMNGjdzY-GX7sXwZmw8t27eYScCPPbSqADVjrWln1bqtsMGZsqBr8zeln1PyBempTii3cvrPYbr5zdpPSe31_jIhqnhCHSRDB2GHb0GC1Ar9VY4WnrwqG4QElOA0wsq\" target=\"_blank\">更多相关问答&gt;&gt;</a></p>\n",
       "</div>\n",
       "</div>\n",
       "<script data-compress=\"off\">\n",
       "    A.setup({ \n",
       "        listData : [\" \\u9a6c\\u91cc\\u4e9a\\u7eb3\\u6d77\\u6c9f:\\u4e16\\u754c\\u4e0a\\u6700\\u6df1\\u7684\\u6d77\\u6c9f,\\u6700\\u6df1\\u70b9\\u4e3a10\\uff0c911\\u7c73 \",\" \\u9a6c\\u91cc\\u4e9a\\u7eb3\\u6d77\\u6c9f\\u662f\\u5730\\u7403\\u4e0a\\u6700\\u6df1\\u7684\\u5730\\u65b9\\uff0c\\u4f4d\\u4e8e\\u5317\\u592a\\u5e73\\u6d0b\\u897f\\u90e8\\u9a6c\\u91cc\\u4e9a\\u7eb3\\u7fa4\\u5c9b\\u4ee5\\u4e1c\\uff0c\\u4e3a\\u4e00\\u6761\\u6d0b\\u5e95\\u5f27\\u5f62\\u6d3c\\u5730\\uff0c\\u5ef6\\u4f382550\\u516c\\u91cc\\uff0c\\u5e73\\u5747\\u5bbd69\\u516c\\u91cc\\u3002 \\u4e3b\\u6d77\\u6c9f\\u5e95\\u90e8\\u6709\\u8f83\\u5c0f\\u9661\\u58c1\\u8c37\\u5730\\u3002 1957\\u5e74\\u82cf\\u8054\\u8c03\\u67e5\\u8239\\u6d4b\\u523010990\\u7c73\\u6df1\\u5ea6\\uff0c\\u540e\\u53c8\\u670911034\\u7c73\\u7684\\u65b0\\u8bb0\\u5f55\\u3002 \"]\n",
       "    }); \n",
       "</script>\n",
       "</div>"
      ],
      "text/plain": [
       "<IPython.core.display.HTML object>"
      ]
     },
     "metadata": {},
     "output_type": "display_data"
    },
    {
     "data": {
      "text/html": [
       "<div class=\"result c-container \" data-click=\"{'rsv_bdr':'0' }\" id=\"2\" srcid=\"1599\" tpl=\"se_com_default\"><h3 class=\"t\"><a data-click=\"{\n",
       "\t\t\t'F':'778717EA',\n",
       "\t\t\t'F1':'9D73F1E4',\n",
       "\t\t\t'F2':'4CA6DE6B',\n",
       "\t\t\t'F3':'54E5243F',\n",
       "\t\t\t'T':'1517904337',\n",
       "\t\t\t\t\t\t'y':'A7EF5CFB'\n",
       "\t\t\t \n",
       "\t\t\t\t\t\t\t\t\t}\" href=\"http://www.baidu.com/link?url=QAYsXaIC0OqqawhpKdbwuTtbJFfwm8svo4imqcgxjVsZYtOuHFaqP0P2XllOUAL3wpzX8khYYziIx7L1OYP2zq\" target=\"_blank\"><em>最深</em>的<em>海沟</em>马里亚纳<em>海沟</em>位于<em>哪个</em>洋?()A.太平洋B.印度..._考试资料网</a></h3><div class=\"c-abstract\"><span class=\" newTimeFactor_before_abs m\">2017年12月13日 - </span><em>以下</em>试题来自:海洋知识竞赛综合练习题库单项选择题<em>最深</em>的<em>海沟</em>马里亚纳<em>海沟</em>位于<em>哪个</em>洋?()A.太平洋 B.印度洋 C.大西洋 D.北冰洋点击查看答案进入题库练...</div><div class=\"f13\"><a class=\"c-showurl\" href=\"http://www.baidu.com/link?url=QAYsXaIC0OqqawhpKdbwuTtbJFfwm8svo4imqcgxjVsZYtOuHFaqP0P2XllOUAL3wpzX8khYYziIx7L1OYP2zq\" style=\"text-decoration:none;\" target=\"_blank\">https://www.ppkao.com/tiku/shi... </a><div class=\"c-tools\" data-tools='{\"title\":\"最深的海沟马里亚纳海沟位于哪个洋?()A.太平洋B.印度..._考试资料网\",\"url\":\"http://www.baidu.com/link?url=QAYsXaIC0OqqawhpKdbwuTtbJFfwm8svo4imqcgxjVsZYtOuHFaqP0P2XllOUAL3wpzX8khYYziIx7L1OYP2zq\"}' id=\"tools_2916347983966629752_2\"><a class=\"c-tip-icon\"><i class=\"c-icon c-icon-triangle-down-g\"></i></a></div><span class=\"c-icons-outer\"><span class=\"c-icons-inner\"></span></span> - <a class=\"m\" data-click=\"{'rsv_snapshot':'1'}\" href=\"http://cache.baiducontent.com/c?m=9d78d513d9d437af4f9b92697c62c017194381132ba6d6020ed2843899732f45506793ac57510777d2d20c6c16df4e4beb802104321457c08cc9f85dacb0855f589c60742e13dc07549158b8ca3538dc65d51ffeaf6ea5f8a961ceb9d2a48e090cd7155e23c7edca005b529172f61235e3a09c4b025f67e0ab6f3b&amp;p=aa759a45d6c35df00be2962c4b7a96&amp;newp=9b769a47c0d205ff57ed947e5f4091231610db2151d6d3136b82c825d7331b001c3bbfb423251301d4c17c640aac4b59ecf03d753d012ba3dda5c91d9fb4c574799e3670&amp;user=baidu&amp;fm=sc&amp;query=%D2%D4%CF%C2%C4%C4%B8%F6%BA%A3%B9%B5%D7%EE%C9%EE%3F&amp;qid=f0730ce70000fae5&amp;p1=2\" target=\"_blank\">百度快照</a></div></div>"
      ],
      "text/plain": [
       "<IPython.core.display.HTML object>"
      ]
     },
     "metadata": {},
     "output_type": "display_data"
    },
    {
     "name": "stdout",
     "output_type": "stream",
     "text": [
      "http://www.baidu.com/s?q1=以下哪项是磁悬浮列车的主要阻力?&q2=&q3=&q4=&rn=50\n",
      "question: 以下哪项是磁悬浮列车的主要阻力?\n",
      "('B', '行进时的空气', 4.437663208337208)\n",
      "('C', '磁悬浮力', 0.36110123423617646)\n",
      "('A', '与铁轨的摩擦力', 0.0)\n"
     ]
    },
    {
     "data": {
      "text/html": [
       "<div class=\"result c-container \" data-click=\"{'rsv_bdr':'0' }\" id=\"1\" srcid=\"1599\" tpl=\"se_com_default\"><h3 class=\"t\"><a data-click=\"{\n",
       "\t\t\t'F':'778317E8',\n",
       "\t\t\t'F1':'9D73F1E4',\n",
       "\t\t\t'F2':'4CA6DE6B',\n",
       "\t\t\t'F3':'54E5343D',\n",
       "\t\t\t'T':'1517904340',\n",
       "\t\t\t\t\t\t'y':'FFF6C7DD'\n",
       "\t\t\t \n",
       "\t\t\t\t\t\t\t\t\t}\" href=\"http://www.baidu.com/link?url=-xvrgqaiDEKkGiQjWrbJmzlzu1AlTsGlxi6JLj9HQqNFqjVJBhdMHoaERnEs2IBfjXWL1K45DgblionJqgKFpXj-T6rBzdvgWY4Bo-ymFqVWDtb1N51SdLASBBE-rs22\" target=\"_blank\"><em>磁悬浮列车</em>_互动百科</a></h3><div class=\"c-row c-gap-top-small\"><div class=\"general_image_pic c-span6\"><a class=\"c-img6\" href=\"http://www.baidu.com/link?url=-xvrgqaiDEKkGiQjWrbJmzlzu1AlTsGlxi6JLj9HQqNFqjVJBhdMHoaERnEs2IBfjXWL1K45DgblionJqgKFpXj-T6rBzdvgWY4Bo-ymFqVWDtb1N51SdLASBBE-rs22\" style=\"height:75px\" target=\"_blank\"><img class=\"c-img c-img6\" src=\"http://i9.baidu.com/it/u=2428616876,1848720452&amp;fm=85&amp;s=B3325B842853978E909841500300C0E2\" style=\"height:75px;\"/></a></div><div class=\"c-span18 c-span-last\"><div class=\"c-abstract\"><span class=\" newTimeFactor_before_abs m\">2017年5月28日 - </span>悬浮在空中,行走时不需接触地面,因此只有空气<em>的阻力</em>...<em>磁悬浮列车主要</em>由悬浮系统、推进系统和导向系统三大部分...可载人常导低速<em>磁浮列车</em>,但<em>那是</em>在完全理想的实验室...</div><div class=\"f13\"><a class=\"c-showurl\" href=\"http://www.baidu.com/link?url=-xvrgqaiDEKkGiQjWrbJmzlzu1AlTsGlxi6JLj9HQqNFqjVJBhdMHoaERnEs2IBfjXWL1K45DgblionJqgKFpXj-T6rBzdvgWY4Bo-ymFqVWDtb1N51SdLASBBE-rs22\" style=\"text-decoration:none;\" target=\"_blank\">www.baike.com/wiki/<b>磁悬浮列车</b> </a><div class=\"c-tools\" data-tools='{\"title\":\"磁悬浮列车_互动百科 \",\"url\":\"http://www.baidu.com/link?url=-xvrgqaiDEKkGiQjWrbJmzlzu1AlTsGlxi6JLj9HQqNFqjVJBhdMHoaERnEs2IBfjXWL1K45DgblionJqgKFpXj-T6rBzdvgWY4Bo-ymFqVWDtb1N51SdLASBBE-rs22\"}' id=\"tools_13433890876368411482_1\"><a class=\"c-tip-icon\"><i class=\"c-icon c-icon-triangle-down-g\"></i></a></div><span class=\"c-icons-outer\"><span class=\"c-icons-inner\"></span></span> - <a class=\"m\" data-click=\"{'rsv_snapshot':'1'}\" href=\"http://cache.baiducontent.com/c?m=9f65cb4a8c8507ed4fece763105392230e54f7336f8c894268d4e419ce3b46041c3fb8a630551513a0c46b6d02b83e58fdfa3665447237c09fdff84dcac8e53f588f303e7a0b8d4405a413b8bb3032b224841fb4ef4fe8ad863284d8d4c4ae2044bb53127bf0e7fa5c1765cc78f1642692d28e3f624811cafa4116e828723e9e5357c641ee9135797183e1a92d5bb320c7121280ae45a74f11a265a6086b2553d04ba609213140e75856f9533c74859d59f05e7c5755b65fc0cad6b79b5ffad9fd4692edbaac38e664&amp;p=9d7fc54ad6c347e842f1c7710f4189&amp;newp=9f61c64ad4934eaf58ebcb6d5f5dcd231610db2151d6d6146b82c825d7331b001c3bbfb423251301d4c0796306af425beef7327131012ba3dda5c91d9fb4c57479&amp;user=baidu&amp;fm=sc&amp;query=%D2%D4%CF%C2%C4%C4%CF%EE%CA%C7%B4%C5%D0%FC%B8%A1%C1%D0%B3%B5%B5%C4%D6%F7%D2%AA%D7%E8%C1%A6%3F&amp;qid=f74a73c100011fdf&amp;p1=1\" target=\"_blank\">百度快照</a></div></div></div></div>"
      ],
      "text/plain": [
       "<IPython.core.display.HTML object>"
      ]
     },
     "metadata": {},
     "output_type": "display_data"
    },
    {
     "data": {
      "text/html": [
       "<div class=\"result c-container \" data-click=\"{'rsv_bdr':'0' }\" id=\"2\" srcid=\"1529\" tpl=\"se_com_default\"><h3 class=\"t\"><a data-click=\"{\n",
       "\t\t\t'F':'778317E8',\n",
       "\t\t\t'F1':'9D73F1E4',\n",
       "\t\t\t'F2':'4CA6DD6B',\n",
       "\t\t\t'F3':'54E5242D',\n",
       "\t\t\t'T':'1517904340',\n",
       "\t\t\t\t\t\t'y':'E3F1FBEE'\n",
       "\t\t\t \n",
       "\t\t\t\t\t\t\t\t\t}\" href=\"http://www.baidu.com/link?url=o5Z1Nff4Um8IfWCS_CPgK4swdZMfvtv8ewZkWKJruuDYmskkcCT0aIOguyy3eqhbAbs53TOoV3BYI_oMKK2Kqa\" target=\"_blank\"><em>磁悬浮列车</em>原理是怎样的,分为<em>那</em>几类_百度知道</a></h3><p class=\"f13 m\">1个回答 - 最新回答: 2015年12月26日 - 15人觉得有用</p><div class=\"c-abstract\"><i class=\"c-text c-text-info c-gap-icon-right-small\"><b>[</b><span>专业</span><b>]</b></i><span class=\"m\">答案:</span>工作原理: 由于磁铁有同性相斥和异性相吸两种形式,故<em>磁悬浮列车</em>也有两种相应的形式:一种是利用磁铁同性相斥原理而设计的电磁运行系统的<em>磁悬浮列车</em>,它利用车...<br/><a class=\"c\" href=\"http://zhidao.baidu.com/q?ct=17&amp;pn=0&amp;tn=ikaslist&amp;rn=10&amp;word=%E4%BB%A5%E4%B8%8B%E5%93%AA%E9%A1%B9%E6%98%AF%E7%A3%81%E6%82%AC%E6%B5%AE%E5%88%97%E8%BD%A6%E7%9A%84%E4%B8%BB%E8%A6%81%E9%98%BB%E5%8A%9B%3F\" target=\"_blank\">更多关于以下哪项是磁悬浮列车的主要阻力?的问题&gt;&gt;</a></div><div class=\"f13\"><a class=\"c-showurl\" href=\"http://www.baidu.com/link?url=o5Z1Nff4Um8IfWCS_CPgK4swdZMfvtv8ewZkWKJruuDYmskkcCT0aIOguyy3eqhbAbs53TOoV3BYI_oMKK2Kqa\" style=\"text-decoration:none;\" target=\"_blank\">https://zhidao.baidu.com/quest... </a><div class=\"c-tools\" data-tools='{\"title\":\"磁悬浮列车原理是怎样的,分为那几类_百度知道\",\"url\":\"http://www.baidu.com/link?url=o5Z1Nff4Um8IfWCS_CPgK4swdZMfvtv8ewZkWKJruuDYmskkcCT0aIOguyy3eqhbAbs53TOoV3BYI_oMKK2Kqa\"}' id=\"tools_8890259356002854246_2\"><a class=\"c-tip-icon\"><i class=\"c-icon c-icon-triangle-down-g\"></i></a></div><span class=\"c-icons-outer\"><span class=\"c-icons-inner\"></span></span> - <a class=\"m\" data-click=\"{'rsv_snapshot':'1'}\" href=\"http://cache.baiducontent.com/c?m=9d78d513d9d437af4f9b92697c62c017194381132ba6d6020ed28449e3732a35501194ac26520775a0d20d6216ae394b9af62103301456b58cbcf95dadb1855b2c9f2644676d855664d10edfca5155c637912afedf1ef0cbf62592dec5a5db4327cf44737a9783f84d0164dd19f50346e9b1e84b022c14aeaa703bf003316fdd6257b734e4fd7a345cd7a5804b4cb47a833a47d0b835c76f4fea0ee7584c6502fb11ed15522c31eb4822f9403c13929c07a17527&amp;p=cb3ec41e85cc43b408e2937a5843&amp;newp=877fc64ad4d811a05fe988655c499269510edb356f8acf512496fe4290700d1a2a22b4fb66794d58dcc17b6404a84d5ce9fb35703d0324bd9dce8b4fc9fdff6978ca28632c4a9d&amp;user=baidu&amp;fm=sc&amp;query=%D2%D4%CF%C2%C4%C4%CF%EE%CA%C7%B4%C5%D0%FC%B8%A1%C1%D0%B3%B5%B5%C4%D6%F7%D2%AA%D7%E8%C1%A6%3F&amp;qid=f74a73c100011fdf&amp;p1=2\" target=\"_blank\">百度快照</a></div></div>"
      ],
      "text/plain": [
       "<IPython.core.display.HTML object>"
      ]
     },
     "metadata": {},
     "output_type": "display_data"
    },
    {
     "name": "stdout",
     "output_type": "stream",
     "text": [
      "http://www.baidu.com/s?q1=以下哪首不是张学友原唱的歌曲?&q2=&q3=&q4=&rn=50\n"
     ]
    },
    {
     "data": {
      "text/html": [
       "<h2>疑似反向问题!!</h2>"
      ],
      "text/plain": [
       "<IPython.core.display.HTML object>"
      ]
     },
     "metadata": {},
     "output_type": "display_data"
    },
    {
     "name": "stdout",
     "output_type": "stream",
     "text": [
      "question: 以下哪首不是张学友原唱的歌曲?\n",
      "('A', '《爱如潮水》', 4.292415504685848)\n",
      "('B', '《心如刀割》', 0.0)\n",
      "('C', '《吻别》', 0.0)\n"
     ]
    },
    {
     "data": {
      "text/html": [
       "<div class=\"result c-container \" data-click=\"{'rsv_bdr':'0' }\" id=\"1\" srcid=\"1529\" tpl=\"se_com_default\"><h3 class=\"t\"><a data-click=\"{\n",
       "\t\t\t'F':'778717E8',\n",
       "\t\t\t'F1':'9D73F1E4',\n",
       "\t\t\t'F2':'4CA6DD6B',\n",
       "\t\t\t'F3':'54E5343D',\n",
       "\t\t\t'T':'1517904342',\n",
       "\t\t\t\t\t\t'y':'A97DBADD'\n",
       "\t\t\t \n",
       "\t\t\t\t\t\t\t\t\t}\" href=\"http://www.baidu.com/link?url=i_ilB3pM1RD5cUyguHatjvQ2Dwv69skjTtdRVAorq2uT3PIyGvQ7-nER01ZdqW8IWxv7kcl6Qd4VxMZbsnllOM5BZgQ73qTyDLpDCdQEM4i\" target=\"_blank\"><em>张学友原唱的歌</em>有多少<em>首?</em>_百度知道</a></h3><p class=\"f13 m\">1个回答 - 提问时间: 2013年12月11日</p><div class=\"c-abstract\"><p class=\"m se_info_tag\">答案提到:  <span>过敏世界</span> - <span>讲你知</span> - <span>给朋友</span> - <span>张学友87香港演唱会</span> - <span>雪爱狼</span> - <span>雪狼湖</span></p><span class=\"m\">最佳答案: </span>举办演唱会 　　1986年:《<em>张学友</em>,吕方86双星香港演唱会》 　　1987年:《<em>张学友</em>87香港演唱会》 　　1991年:《<em>张学友</em>每天爱你多一些演唱会91》 　　...<br/><a class=\"c\" href=\"http://zhidao.baidu.com/q?ct=17&amp;pn=0&amp;tn=ikaslist&amp;rn=10&amp;word=%E4%BB%A5%E4%B8%8B%E5%93%AA%E9%A6%96%E4%B8%8D%E6%98%AF%E5%BC%A0%E5%AD%A6%E5%8F%8B%E5%8E%9F%E5%94%B1%E7%9A%84%E6%AD%8C%E6%9B%B2%3F\" target=\"_blank\">更多关于以下哪首不是张学友原唱的歌曲?的问题&gt;&gt;</a></div><div class=\"f13\"><a class=\"c-showurl\" href=\"http://www.baidu.com/link?url=i_ilB3pM1RD5cUyguHatjvQ2Dwv69skjTtdRVAorq2uT3PIyGvQ7-nER01ZdqW8IWxv7kcl6Qd4VxMZbsnllOM5BZgQ73qTyDLpDCdQEM4i\" style=\"text-decoration:none;\" target=\"_blank\">https://zhidao.baidu.com/quest... </a><div class=\"c-tools\" data-tools='{\"title\":\"张学友原唱的歌有多少首?_百度知道\",\"url\":\"http://www.baidu.com/link?url=i_ilB3pM1RD5cUyguHatjvQ2Dwv69skjTtdRVAorq2uT3PIyGvQ7-nER01ZdqW8IWxv7kcl6Qd4VxMZbsnllOM5BZgQ73qTyDLpDCdQEM4i\"}' id=\"tools_2652774637158048629_1\"><a class=\"c-tip-icon\"><i class=\"c-icon c-icon-triangle-down-g\"></i></a></div><span class=\"c-icons-outer\"><span class=\"c-icons-inner\"></span></span> - <a class=\"m\" data-click=\"{'rsv_snapshot':'1'}\" href=\"http://cache.baiducontent.com/c?m=9d78d513d9d437af4f9b92697c62c017194381132ba6d6020ed28449e3732a325010e6ac26520774d3d20c1716ae394b9b832103321421c78cbe8f5dacbc85295f9f5137676f835664d20ed9c85124b137e65cfedc6ff0bb8025e3afc5a0ac4352ba44757d97818d4d0164dd1ffa0346e9b1e84d022b63aeaa703bf003316fdd6257b734e4fd7a345cd7a5804b4cb47a833a47d0b835c76f4fea0ee7584c6502fb11ed15572d37e54a24fa453a0390eb58e02a784025a148c4e387e9b5&amp;p=c96ac54ad6c541e049b1d22d021496&amp;newp=937bc816d9c11aff57ed927e50489423161cda386a848d0a3b8fd12596654f171c0ba7ec67634b598fca786002aa4e58eaf33d71350920b391ce8e49d8afd4456edf653b2740d01a&amp;user=baidu&amp;fm=sc&amp;query=%D2%D4%CF%C2%C4%C4%CA%D7%B2%BB%CA%C7%D5%C5%D1%A7%D3%D1%D4%AD%B3%AA%B5%C4%B8%E8%C7%FA%3F&amp;qid=8e18d6240000ff35&amp;p1=1\" target=\"_blank\">百度快照</a></div></div>"
      ],
      "text/plain": [
       "<IPython.core.display.HTML object>"
      ]
     },
     "metadata": {},
     "output_type": "display_data"
    },
    {
     "data": {
      "text/html": [
       "<div class=\"result c-container \" data-click=\"{'rsv_bdr':'0' }\" id=\"2\" srcid=\"1529\" tpl=\"se_com_default\"><h3 class=\"t\"><a data-click=\"{\n",
       "\t\t\t'F':'778717EA',\n",
       "\t\t\t'F1':'9D43F1E4',\n",
       "\t\t\t'F2':'4CA6DE6B',\n",
       "\t\t\t'F3':'54E5343F',\n",
       "\t\t\t'T':'1517904342',\n",
       "\t\t\t\t\t\t'y':'D775EB1F'\n",
       "\t\t\t \n",
       "\t\t\t\t\t\t\t\t\t}\" href=\"http://www.baidu.com/link?url=J-vW438wdwBVkzMc85EqcL06t7xeX8hU-Ffn3DsQqT8zcW64UTEKx9RcSW--xMgsgwe69tX52pOB9xZmpt32Rf5w8vfWO4_PBRS2GVAlTHK\" target=\"_blank\"><em>以下哪首不是张学友原唱的歌曲?</em>_百度知道</a></h3><p class=\"f13 m\">1个回答 - 提问时间: 2018年02月01日</p><div class=\"c-abstract\"><span class=\"m\">最佳答案: </span>《爱如潮水》 爱如潮水<em>是张</em>信哲的成名曲,出自心事专辑。<br/><a class=\"c\" href=\"http://zhidao.baidu.com/q?ct=17&amp;pn=0&amp;tn=ikaslist&amp;rn=10&amp;word=%E4%BB%A5%E4%B8%8B%E5%93%AA%E9%A6%96%E4%B8%8D%E6%98%AF%E5%BC%A0%E5%AD%A6%E5%8F%8B%E5%8E%9F%E5%94%B1%E7%9A%84%E6%AD%8C%E6%9B%B2%3F\" target=\"_blank\">更多关于以下哪首不是张学友原唱的歌曲?的问题&gt;&gt;</a></div><div class=\"f13\"><a class=\"c-showurl\" href=\"http://www.baidu.com/link?url=J-vW438wdwBVkzMc85EqcL06t7xeX8hU-Ffn3DsQqT8zcW64UTEKx9RcSW--xMgsgwe69tX52pOB9xZmpt32Rf5w8vfWO4_PBRS2GVAlTHK\" style=\"text-decoration:none;\" target=\"_blank\">https://zhidao.baidu.com/quest... </a><div class=\"c-tools\" data-tools='{\"title\":\"以下哪首不是张学友原唱的歌曲?_百度知道\",\"url\":\"http://www.baidu.com/link?url=J-vW438wdwBVkzMc85EqcL06t7xeX8hU-Ffn3DsQqT8zcW64UTEKx9RcSW--xMgsgwe69tX52pOB9xZmpt32Rf5w8vfWO4_PBRS2GVAlTHK\"}' id=\"tools_16783549184762420527_2\"><a class=\"c-tip-icon\"><i class=\"c-icon c-icon-triangle-down-g\"></i></a></div><span class=\"c-icons-outer\"><span class=\"c-icons-inner\"></span></span> - <a class=\"m\" data-click=\"{'rsv_snapshot':'1'}\" href=\"http://cache.baiducontent.com/c?m=9d78d513d9d437af4f9b92697c62c017194381132ba6d6020ed28449e3732a325010e6ac26520774d3d20c1716ae394b9b832103321421c78cbe8f5dacbc85295f9f5137676f835664d20ed9c85124b137e65cfedc6ff0bb8025e3afc5a0ac4352ba44757d97818d4d0164dd1ffa0346e9b1e84d022b63aeaa703bf003316fdd6257b734e4fd7a345cd7a5804b4cb47a833a47d0b835c76f4fea0ee7584c6502fb11ed1555263be5452df4473a0496e15ce3207b4625a148c4e387e9b5&amp;p=c96ac54ad58c50f31ebe9b7c4c&amp;newp=937bc816d9c11aff57eec9204e53d8304a0fde28239f8a4e2987ce2590700d1a2a22b4fb66794d58dcc57f6205a54f5deff53366716e61e0d9c7df168be0&amp;user=baidu&amp;fm=sc&amp;query=%D2%D4%CF%C2%C4%C4%CA%D7%B2%BB%CA%C7%D5%C5%D1%A7%D3%D1%D4%AD%B3%AA%B5%C4%B8%E8%C7%FA%3F&amp;qid=8e18d6240000ff35&amp;p1=2\" target=\"_blank\">百度快照</a></div></div>"
      ],
      "text/plain": [
       "<IPython.core.display.HTML object>"
      ]
     },
     "metadata": {},
     "output_type": "display_data"
    },
    {
     "name": "stdout",
     "output_type": "stream",
     "text": [
      "http://www.baidu.com/s?q1=名句“日出江花红胜火春来江水绿如蓝\"出自哪位诗人的作品?&q2=&q3=&q4=&rn=50\n",
      "question: 名句“日出江花红胜火春来江水绿如蓝\"出自哪位诗人的作品?\n",
      "('A', '白居易', 4.289167810957396)\n",
      "('B', '李白', 0.0)\n",
      "('C', '杜甫', 0.0)\n"
     ]
    },
    {
     "data": {
      "text/html": [
       "<div class=\"result c-container \" data-click=\"{'rsv_bdr':'0' }\" id=\"1\" srcid=\"1528\" tpl=\"se_com_default\"><h3 class=\"t\"><a data-click=\"{\n",
       "\t\t\t'F':'378717EA',\n",
       "\t\t\t'F1':'9D43B1E4',\n",
       "\t\t\t'F2':'4CA6DE6E',\n",
       "\t\t\t'F3':'54E5243F',\n",
       "\t\t\t'T':'1517904344',\n",
       "\t\t\t\t\t\t'y':'FB6EF3B7'\n",
       "\t\t\t \n",
       "\t\t\t\t\t\t\t\t\t}\" href=\"http://www.baidu.com/link?url=K8KQ0J4AldHvaHOscDnKySYll7_ChA9FXbX-scfKHfqvZlgORBmbY_HjHp6BtcPaS0BRfnJf1BXpIKRcuHdvsGwipCFdUH-e_HMYuqZ6V2C\" target=\"_blank\"><em>名句</em>“<em>日出江花红胜火</em>,<em>春来江水绿如蓝</em>”<em>出自哪位诗人的作品?</em></a></h3><p class=\"f13 m\">1个回答 - 提问时间: 2018年01月30日</p><div class=\"c-abstract\"><span class=\"m\">最佳答案: </span>白居易 <em>名句</em>“<em>日出江花红胜火</em>,<em>春来江水绿如蓝</em>。”<em>出自</em>唐代<em>诗人</em>白居易的《忆江南》</div><div class=\"f13\"><a class=\"c-showurl\" href=\"http://www.baidu.com/link?url=K8KQ0J4AldHvaHOscDnKySYll7_ChA9FXbX-scfKHfqvZlgORBmbY_HjHp6BtcPaS0BRfnJf1BXpIKRcuHdvsGwipCFdUH-e_HMYuqZ6V2C\" style=\"text-decoration:none;\" target=\"_blank\">https://zhidao.baidu.com/quest... </a><div class=\"c-tools\" data-tools='{\"title\":\"名句“日出江花红胜火,春来江水绿如蓝”出自哪位诗人的作品?\",\"url\":\"http://www.baidu.com/link?url=K8KQ0J4AldHvaHOscDnKySYll7_ChA9FXbX-scfKHfqvZlgORBmbY_HjHp6BtcPaS0BRfnJf1BXpIKRcuHdvsGwipCFdUH-e_HMYuqZ6V2C\"}' id=\"tools_6783263806765166108_1\"><a class=\"c-tip-icon\"><i class=\"c-icon c-icon-triangle-down-g\"></i></a></div><span class=\"c-icons-outer\"><span class=\"c-icons-inner\"></span></span></div></div>"
      ],
      "text/plain": [
       "<IPython.core.display.HTML object>"
      ]
     },
     "metadata": {},
     "output_type": "display_data"
    },
    {
     "data": {
      "text/html": [
       "<div class=\"result c-container \" data-click=\"{'rsv_bdr':'0' }\" id=\"2\" srcid=\"1599\" tpl=\"se_com_default\"><h3 class=\"t\"><a data-click=\"{\n",
       "\t\t\t'F':'778717E8',\n",
       "\t\t\t'F1':'9D73F1E4',\n",
       "\t\t\t'F2':'4CA6DD6B',\n",
       "\t\t\t'F3':'54E5243D',\n",
       "\t\t\t'T':'1517904344',\n",
       "\t\t\t\t\t\t'y':'FF7A6EC6'\n",
       "\t\t\t \n",
       "\t\t\t\t\t\t\t\t\t}\" href=\"http://www.baidu.com/link?url=McR5dWdrn_y4mkTo3_0UKwPfLUhasEgaG8zhxoOWLw111JsxFyv-4UumZ-p-o4YX\" target=\"_blank\">“<em>日出江花红胜火</em>,<em>春来江水绿如蓝</em>。”全诗赏析_诗词<em>名句</em>网</a></h3><div class=\"c-abstract\"><span class=\" newTimeFactor_before_abs m\">2010年6月16日 - </span><em>名句</em>“<em>日出江花红胜火</em>,<em>春来江水绿如蓝</em>。”<em>出自</em>唐代<em>诗人</em>白居易的《忆江南》忆江南作者:白居易 年代:唐江...</div><div class=\"f13\"><a class=\"c-showurl\" href=\"http://www.baidu.com/link?url=McR5dWdrn_y4mkTo3_0UKwPfLUhasEgaG8zhxoOWLw111JsxFyv-4UumZ-p-o4YX\" style=\"text-decoration:none;\" target=\"_blank\">www.shicimingju.com/4.... </a><div class=\"c-tools\" data-tools='{\"title\":\"“日出江花红胜火,春来江水绿如蓝。”全诗赏析_诗词名句网\",\"url\":\"http://www.baidu.com/link?url=McR5dWdrn_y4mkTo3_0UKwPfLUhasEgaG8zhxoOWLw111JsxFyv-4UumZ-p-o4YX\"}' id=\"tools_16018873426132495973_2\"><a class=\"c-tip-icon\"><i class=\"c-icon c-icon-triangle-down-g\"></i></a></div><span class=\"c-icons-outer\"><span class=\"c-icons-inner\"></span></span> - <a class=\"m\" data-click=\"{'rsv_snapshot':'1'}\" href=\"http://cache.baiducontent.com/c?m=9d78d513d9d430ae4f99e4697d61c0111f4380122ba6da0209d3843892732f45506793ac57540777a5d27d1716df394b99fa2173471450c48cbff95ddccb85595c9f5432671df65662a30edbc95124b137e05cfedf6af0bb8025e2acc5a3d94352ba44750c9783fd4d0164dd1e80034294b19838022e10ad9c4172fe296058953437b350f890251f059686d94b4cb23da06006e3ab22c63b05c315b31e6b3335a65bc00e462740f73e50e8344d13939b4a96596e3353a139b9aeb0c6fc49fccb9a368f8bcdb82ee57790c0fd8d74550156ed55bbbffaf2636b1f449f88c917b72fa1bfa9ff5be963964a07eb062974379b33d3958f20a33f05e9e16ffb3e2251724c80ed&amp;p=8b2a971ac7934eac53e68764114783&amp;newp=9964dd15d9c04aa40ef68e2d021496231610db2151d7d5106b82c825d7331b001c3bbfb423251301d4c17c640aac4b59ecf03d753d012ba3dda5c91d9fb4c57479de3c2e&amp;user=baidu&amp;fm=sc&amp;query=%C3%FB%BE%E4%A1%B0%C8%D5%B3%F6%BD%AD%BB%A8%BA%EC%CA%A4%BB%F0%B4%BA%C0%B4%BD%AD%CB%AE%C2%CC%C8%E7%C0%B6%22%B3%F6%D7%D4%C4%C4%CE%BB%CA%AB%C8%CB%B5%C4%D7%F7%C6%B7%3F&amp;qid=f26137c40000d972&amp;p1=2\" target=\"_blank\">百度快照</a></div></div>"
      ],
      "text/plain": [
       "<IPython.core.display.HTML object>"
      ]
     },
     "metadata": {},
     "output_type": "display_data"
    },
    {
     "name": "stdout",
     "output_type": "stream",
     "text": [
      "http://www.baidu.com/s?q1=吴承恩所著的《西游记》中牛魔王会多少种变化?&q2=&q3=&q4=&rn=50\n",
      "question: 吴承恩所著的《西游记》中牛魔王会多少种变化?\n",
      "('C', '72种', 3.1780093105516807)\n",
      "('A', '36种', 0.0)\n",
      "('B', '64种', 0.0)\n"
     ]
    },
    {
     "data": {
      "text/html": [
       "<div class=\"result c-container \" data-click=\"{'rsv_bdr':'0' }\" id=\"1\" srcid=\"1528\" tpl=\"se_com_default\"><h3 class=\"t\"><a data-click=\"{\n",
       "\t\t\t'F':'778717EA',\n",
       "\t\t\t'F1':'9D73B1E4',\n",
       "\t\t\t'F2':'4CA6DE6B',\n",
       "\t\t\t'F3':'54E5243F',\n",
       "\t\t\t'T':'1517904346',\n",
       "\t\t\t\t\t\t'y':'9FD7BDFE'\n",
       "\t\t\t \n",
       "\t\t\t\t\t\t\t\t\t}\" href=\"http://www.baidu.com/link?url=gtENDgoxB6tlJbzsxqgGju1KpTsc7r2J0L-zJwSKdByMrgOaremp2YJZWxF-jfXziy0JRo_br3tjY9KNnmfhgcCCRwuWF1iBPy7pUmkl8fe\" target=\"_blank\"><em>吴承恩所著的《西游记》中</em>,<em>牛魔王会多少种变化?</em>_百度知道</a></h3><p class=\"f13 m\">1个回答 - 提问时间: 2018年01月30日</p><div class=\"c-abstract\"><span class=\"m\">最佳答案: </span>72种 在<em>《西游记》中</em>,会72变的有孙悟空和<em>牛魔王</em>。</div><div class=\"f13\"><a class=\"c-showurl\" href=\"http://www.baidu.com/link?url=gtENDgoxB6tlJbzsxqgGju1KpTsc7r2J0L-zJwSKdByMrgOaremp2YJZWxF-jfXziy0JRo_br3tjY9KNnmfhgcCCRwuWF1iBPy7pUmkl8fe\" style=\"text-decoration:none;\" target=\"_blank\">https://zhidao.baidu.com/quest... </a><div class=\"c-tools\" data-tools='{\"title\":\"吴承恩所著的《西游记》中,牛魔王会多少种变化?_百度知道\",\"url\":\"http://www.baidu.com/link?url=gtENDgoxB6tlJbzsxqgGju1KpTsc7r2J0L-zJwSKdByMrgOaremp2YJZWxF-jfXziy0JRo_br3tjY9KNnmfhgcCCRwuWF1iBPy7pUmkl8fe\"}' id=\"tools_15440511116286062977_1\"><a class=\"c-tip-icon\"><i class=\"c-icon c-icon-triangle-down-g\"></i></a></div><span class=\"c-icons-outer\"><span class=\"c-icons-inner\"></span></span></div></div>"
      ],
      "text/plain": [
       "<IPython.core.display.HTML object>"
      ]
     },
     "metadata": {},
     "output_type": "display_data"
    },
    {
     "data": {
      "text/html": [
       "<div class=\"result c-container \" data-click=\"{'rsv_bdr':'0' }\" id=\"2\" srcid=\"1529\" tpl=\"se_com_default\"><h3 class=\"t\"><a data-click=\"{\n",
       "\t\t\t'F':'778717E8',\n",
       "\t\t\t'F1':'9D73E1E4',\n",
       "\t\t\t'F2':'4CA6DE6B',\n",
       "\t\t\t'F3':'54E5343D',\n",
       "\t\t\t'T':'1517904346',\n",
       "\t\t\t\t\t\t'y':'DEF73FBA'\n",
       "\t\t\t \n",
       "\t\t\t\t\t\t\t\t\t}\" href=\"http://www.baidu.com/link?url=asqV38UMBR4NiqQTxzsXhzD4zC-MjuY6I_V0EkEsJVxxFofH1FMbWWkr_nvNLhcCP0LD2-Caw2qfArOtpv_9Ha\" target=\"_blank\"><em>《西游记》中</em>,<em>牛魔王会多少种变化?</em>_百度知道</a></h3><p class=\"f13 m\">12个回答 - 最新回答: 2012年05月25日 - 232人觉得有用</p><div class=\"c-abstract\"><span class=\"m\">最佳答案: </span>根据他第一次<em>变化</em>能够骗过孙悟空 以及后来和孙悟空比<em>变化</em>不分上下 还有他是孙悟空结拜时的大哥 经验比孙悟空丰富看来 应该也是七十二变吧... 貌似...<br/><a class=\"c\" href=\"http://zhidao.baidu.com/q?ct=17&amp;pn=0&amp;tn=ikaslist&amp;rn=10&amp;word=%E5%90%B4%E6%89%BF%E6%81%A9%E6%89%80%E8%91%97%E7%9A%84%E3%80%8A%E8%A5%BF%E6%B8%B8%E8%AE%B0%E3%80%8B%E4%B8%AD%E7%89%9B%E9%AD%94%E7%8E%8B%E4%BC%9A%E5%A4%9A%E5%B0%91%E7%A7%8D%E5%8F%98%E5%8C%96%3F\" target=\"_blank\">更多关于吴承恩所著的《西游记》中牛魔王会多少种变化?的问题&gt;&gt;</a></div><div class=\"f13\"><a class=\"c-showurl\" href=\"http://www.baidu.com/link?url=asqV38UMBR4NiqQTxzsXhzD4zC-MjuY6I_V0EkEsJVxxFofH1FMbWWkr_nvNLhcCP0LD2-Caw2qfArOtpv_9Ha\" style=\"text-decoration:none;\" target=\"_blank\">https://zhidao.baidu.com/quest... </a><div class=\"c-tools\" data-tools='{\"title\":\"《西游记》中,牛魔王会多少种变化?_百度知道\",\"url\":\"http://www.baidu.com/link?url=asqV38UMBR4NiqQTxzsXhzD4zC-MjuY6I_V0EkEsJVxxFofH1FMbWWkr_nvNLhcCP0LD2-Caw2qfArOtpv_9Ha\"}' id=\"tools_5901874690640968357_2\"><a class=\"c-tip-icon\"><i class=\"c-icon c-icon-triangle-down-g\"></i></a></div><span class=\"c-icons-outer\"><span class=\"c-icons-inner\"></span></span> - <a class=\"m\" data-click=\"{'rsv_snapshot':'1'}\" href=\"http://cache.baiducontent.com/c?m=9f65cb4a8c8507ed19fa950d100b9f3c4202d33e2bd7a7452c8fc50f84642c101a39fef8607551428898207a06a94856ebf73273200357eddd97d65e98e6d27e209f5643676b865662d20ed9c95155c537e45ffeae69f0cb8025e7a5c5d2af4325ce44717097f1fb4d7013dd1ef6033093b1ea4b022f14adec40728e2e605d9a3436b7508897251e769687d84b4db33da36206e7aa22b14e05c317b369193345d05bc00f465531f73e21e8373813e39d4a932d6e4153a138c3aeb6b5fc49fccb9a358f8dc9b85e9e7790cefdf801550656ed53babcbcc22a144615aeccc966b425cf8e&amp;p=8b2a970286cc41ae53b8de385c0dcd&amp;newp=8574c75486cc41ae53b2c7710f419d23161cda386a848d0a3b8fd12596664f171c0ba7ec67634b598fca786002aa4e58eaf33d71350920b391ce8e49d8afd4456edf653b2740d01e&amp;user=baidu&amp;fm=sc&amp;query=%CE%E2%B3%D0%B6%F7%CB%F9%D6%F8%B5%C4%A1%B6%CE%F7%D3%CE%BC%C7%A1%B7%D6%D0%C5%A3%C4%A7%CD%F5%BB%E1%B6%E0%C9%D9%D6%D6%B1%E4%BB%AF%3F&amp;qid=e231c8ac0000fb1f&amp;p1=2\" target=\"_blank\">百度快照</a></div></div>"
      ],
      "text/plain": [
       "<IPython.core.display.HTML object>"
      ]
     },
     "metadata": {},
     "output_type": "display_data"
    },
    {
     "name": "stdout",
     "output_type": "stream",
     "text": [
      "http://www.baidu.com/s?q1=唐太宗的原名叫?&q2=&q3=&q4=&rn=50\n",
      "question: 唐太宗的原名叫?\n",
      "('B', '李世民', 5.256621748907073)\n",
      "('A', '李渊', 0.6809815519748814)\n",
      "('C', '李隆基', 0.34166679945658057)\n"
     ]
    },
    {
     "data": {
      "text/html": [
       "<div class=\"result c-container \" data-click=\"{'rsv_bdr':'0' }\" id=\"1\" srcid=\"1528\" tpl=\"se_com_default\"><h3 class=\"t\"><a data-click=\"{\n",
       "\t\t\t'F':'778717EA',\n",
       "\t\t\t'F1':'9D73B1E4',\n",
       "\t\t\t'F2':'4CA6DE6B',\n",
       "\t\t\t'F3':'54E5342F',\n",
       "\t\t\t'T':'1517904348',\n",
       "\t\t\t\t\t\t'y':'FBFBBBFB'\n",
       "\t\t\t \n",
       "\t\t\t\t\t\t\t\t\t}\" href=\"http://www.baidu.com/link?url=NwjRq7CurhMYpgW_dpoFs8i4SnLsvLGUrnKk6JjXaHtT7_0LYUw2DQP8SUipq2UzKRX-OvgwyZuel2cnbi1HGq\" target=\"_blank\"><em>唐太宗的名字是</em>什么?_百度知道</a></h3><p class=\"f13 m\">5个回答 - 答案提到: 唐太宗李世民 - 提问时间: 2013年04月25日</p><div class=\"c-abstract\"><i class=\"c-text c-text-info c-gap-icon-right-small\"><b>[</b><span>专业</span><b>]</b></i><span class=\"m\">答案:</span><em>唐太宗李世民</em>(599年-649年),唐朝第二位皇帝,在位23年,年号贞观。<em>名字</em>取意“济世安民”,陇西成纪人。[2]<em>唐太宗李世民</em>不仅是著名的政治家、军事家,...</div><div class=\"f13\"><a class=\"c-showurl\" href=\"http://www.baidu.com/link?url=NwjRq7CurhMYpgW_dpoFs8i4SnLsvLGUrnKk6JjXaHtT7_0LYUw2DQP8SUipq2UzKRX-OvgwyZuel2cnbi1HGq\" style=\"text-decoration:none;\" target=\"_blank\">https://zhidao.baidu.com/quest... </a><div class=\"c-tools\" data-tools='{\"title\":\"唐太宗的名字是什么?_百度知道\",\"url\":\"http://www.baidu.com/link?url=NwjRq7CurhMYpgW_dpoFs8i4SnLsvLGUrnKk6JjXaHtT7_0LYUw2DQP8SUipq2UzKRX-OvgwyZuel2cnbi1HGq\"}' id=\"tools_2821316711248526554_1\"><a class=\"c-tip-icon\"><i class=\"c-icon c-icon-triangle-down-g\"></i></a></div><span class=\"c-icons-outer\"><span class=\"c-icons-inner\"></span></span></div><div class=\"c-offset\"><table class=\"subLink_factory subLink_factory_right\"><tr><td class=\"first c-default \"><a href=\"http://www.baidu.com/link?url=ROIbxeuwTFg-CcZHx8XFPVu-GnS3JIE_OpblX1rUD5JpoGnw7Yi7q_4yhQ-hiy9ZGmQiKbsw4sgTgl-YG_Pqb6hWVlGdS6ayREBqOZ7RB-m\" target=\"_blank\"><em>李世民原名是</em>什么</a></td><td class=\"middle c-default \">4个回答</td><td class=\"last c-default rightTd\">2014-10-16</td></tr></table><a class=\"c\" href=\"http://www.baidu.com/link?url=0babGsEjPtoFB6F8VY2n24fr6B8ZGMlA8brOusXmhONlHG548YmoAd3zip-dnsadPmoJ1ptzZlMfhkqAQKrGIsc16nccUsFTxiuwFzl4xzyqQ1WN4WHEeM1Z_D8snPAraAtnLpOs0Tie22XI0Pme_sMRcOJZiVuU9YVz9eW6Vn-oFv3C1YE1HOTA_C5hy9MQ\" target=\"_blank\">更多知道相关问题&gt;&gt;</a></div></div>"
      ],
      "text/plain": [
       "<IPython.core.display.HTML object>"
      ]
     },
     "metadata": {},
     "output_type": "display_data"
    },
    {
     "data": {
      "text/html": [
       "<div class=\"result c-container \" data-click=\"{'rsv_bdr':'0' }\" id=\"2\" srcid=\"1529\" tpl=\"se_com_default\"><h3 class=\"t\"><a data-click=\"{\n",
       "\t\t\t'F':'778717EA',\n",
       "\t\t\t'F1':'9D73F1E4',\n",
       "\t\t\t'F2':'4CA6DD6B',\n",
       "\t\t\t'F3':'54E5343F',\n",
       "\t\t\t'T':'1517904348',\n",
       "\t\t\t\t\t\t'y':'FF7EDFFE'\n",
       "\t\t\t \n",
       "\t\t\t\t\t\t\t\t\t}\" href=\"http://www.baidu.com/link?url=0f5u588FAnaIMyx3L4FdZa5CYAbDp6gehPwguaW_ggZgfI78NEOAmMq8F-IdFU3YBKkXWHzBKPSRUdo6do8KN4v8QXCKg5XmcNh5BvIeGUe\" target=\"_blank\"><em>唐太宗原名叫</em>什么?_百度知道</a></h3><p class=\"f13 m\">2个回答 - 提问时间: 2016年12月15日</p><div class=\"c-abstract\"><span class=\"m\">最佳答案: </span><em>唐太宗李世民</em>(公元598年1月28日-公元649年7月10日),祖籍陇西成纪,是唐高祖李渊和窦皇后的次子,唐朝第二位皇帝,杰出的政治家、战略家、军事家、诗人...<br/><a class=\"c\" href=\"http://zhidao.baidu.com/q?ct=17&amp;pn=0&amp;tn=ikaslist&amp;rn=10&amp;word=%E5%94%90%E5%A4%AA%E5%AE%97%E7%9A%84%E5%8E%9F%E5%90%8D%E5%8F%AB%3F\" target=\"_blank\">更多关于唐太宗的原名叫?的问题&gt;&gt;</a></div><div class=\"f13\"><a class=\"c-showurl\" href=\"http://www.baidu.com/link?url=0f5u588FAnaIMyx3L4FdZa5CYAbDp6gehPwguaW_ggZgfI78NEOAmMq8F-IdFU3YBKkXWHzBKPSRUdo6do8KN4v8QXCKg5XmcNh5BvIeGUe\" style=\"text-decoration:none;\" target=\"_blank\">https://zhidao.baidu.com/quest... </a><div class=\"c-tools\" data-tools='{\"title\":\"唐太宗原名叫什么?_百度知道\",\"url\":\"http://www.baidu.com/link?url=0f5u588FAnaIMyx3L4FdZa5CYAbDp6gehPwguaW_ggZgfI78NEOAmMq8F-IdFU3YBKkXWHzBKPSRUdo6do8KN4v8QXCKg5XmcNh5BvIeGUe\"}' id=\"tools_18217703882981398991_2\"><a class=\"c-tip-icon\"><i class=\"c-icon c-icon-triangle-down-g\"></i></a></div><span class=\"c-icons-outer\"><span class=\"c-icons-inner\"></span></span> - <a class=\"m\" data-click=\"{'rsv_snapshot':'1'}\" href=\"http://cache.baiducontent.com/c?m=9d78d513d9d430de4f9c90690c66c0176843f3132ba1d50209a78449e3732b465017e5ac26520772d5d20f1116de484b9e802173471450c18cbe8a5e9afbcc2775ce6176310b87320fce51f59010769c37902db9fc42b1fde732e4ff8f8cc217149d124321ddac96510015cc6bf31336e9a49c4b155b17bbec3b72ff2e2d6fc07d&amp;p=84759a45d6c008fc57efe63e5256cf&amp;newp=cb3fc54ad6c342ec0be2963944598c23161cda386a848d0a3b8fd12594644f171c0ba7ec67634b598fca786002aa4e5de9f0327736002ab49cc98849d8afd4456edf653b2740d002&amp;user=baidu&amp;fm=sc&amp;query=%CC%C6%CC%AB%D7%DA%B5%C4%D4%AD%C3%FB%BD%D0%3F&amp;qid=8ee1b6290000fdf9&amp;p1=2\" target=\"_blank\">百度快照</a></div></div>"
      ],
      "text/plain": [
       "<IPython.core.display.HTML object>"
      ]
     },
     "metadata": {},
     "output_type": "display_data"
    },
    {
     "name": "stdout",
     "output_type": "stream",
     "text": [
      "http://www.baidu.com/s?q1=在哈尔滨哪个节日最可能下雪?&q2=&q3=&q4=&rn=50\n",
      "question: 在哈尔滨哪个节日最可能下雪?\n",
      "('C', '圣诞节', 2.6413431703347676)\n",
      "('A', '儿童节', 0.0)\n",
      "('B', '中秋节', 0.0)\n"
     ]
    },
    {
     "data": {
      "text/html": [
       "<div class=\"result c-container \" data-click=\"{'rsv_bdr':'0' }\" id=\"1\" srcid=\"1528\" tpl=\"se_com_default\"><h3 class=\"t\"><a data-click=\"{\n",
       "\t\t\t'F':'778717EA',\n",
       "\t\t\t'F1':'9D43B1C4',\n",
       "\t\t\t'F2':'4CA6DE6B',\n",
       "\t\t\t'F3':'54E5343F',\n",
       "\t\t\t'T':'1517904350',\n",
       "\t\t\t\t\t\t'y':'7BECDFCF'\n",
       "\t\t\t \n",
       "\t\t\t\t\t\t\t\t\t}\" href=\"http://www.baidu.com/link?url=CAncmWHE1RdQo9kHOg-4Y9TxztADLRC9SRWVchwsZ75SZx70sD87EEi9U04UG5x-sn80o_WAuAyvWGMM4CPB0drj5mdIE_K-R80zoNg0SUq\" target=\"_blank\"><em>在哈尔滨哪个节日最可能下雪?</em>_百度知道</a></h3><p class=\"f13 m\">1个回答 - 提问时间: 2018年01月30日</p><div class=\"c-abstract\"><span class=\"m\">最佳答案: </span>圣诞节 圣诞节(Christmas)又称耶诞节,耶稣诞辰,译名为“基督弥撒”,西方传统<em>节日</em>,在每年12月25日。</div><div class=\"f13\"><a class=\"c-showurl\" href=\"http://www.baidu.com/link?url=CAncmWHE1RdQo9kHOg-4Y9TxztADLRC9SRWVchwsZ75SZx70sD87EEi9U04UG5x-sn80o_WAuAyvWGMM4CPB0drj5mdIE_K-R80zoNg0SUq\" style=\"text-decoration:none;\" target=\"_blank\">https://zhidao.baidu.com/quest... </a><div class=\"c-tools\" data-tools='{\"title\":\"在哈尔滨哪个节日最可能下雪?_百度知道\",\"url\":\"http://www.baidu.com/link?url=CAncmWHE1RdQo9kHOg-4Y9TxztADLRC9SRWVchwsZ75SZx70sD87EEi9U04UG5x-sn80o_WAuAyvWGMM4CPB0drj5mdIE_K-R80zoNg0SUq\"}' id=\"tools_14069472827339859798_1\"><a class=\"c-tip-icon\"><i class=\"c-icon c-icon-triangle-down-g\"></i></a></div><span class=\"c-icons-outer\"><span class=\"c-icons-inner\"></span></span></div></div>"
      ],
      "text/plain": [
       "<IPython.core.display.HTML object>"
      ]
     },
     "metadata": {},
     "output_type": "display_data"
    },
    {
     "data": {
      "text/html": [
       "<div class=\"result c-container \" data-click=\"{'rsv_bdr':'0' }\" id=\"2\" srcid=\"1599\" tpl=\"se_com_default\"><h3 class=\"t\"><a data-click=\"{\n",
       "\t\t\t'F':'378717EA',\n",
       "\t\t\t'F1':'9D43F1C4',\n",
       "\t\t\t'F2':'4CA6DE6B',\n",
       "\t\t\t'F3':'54E5243F',\n",
       "\t\t\t'T':'1517904350',\n",
       "\t\t\t\t\t\t'y':'EFB3E3FD'\n",
       "\t\t\t \n",
       "\t\t\t\t\t\t\t\t\t}\" href=\"http://www.baidu.com/link?url=o7T0it1jLTKnxj0-fpPGiVslwBl_TQIgHBLVu11-FeE88KagnwUc92WUOvWUbo5LeMWcg0aOyjyb9-RAwcovbq\" target=\"_blank\"><em>在哈尔滨哪个节日最可能下雪?</em> - 上学吧找答案</a></h3><div class=\"c-abstract\"><span class=\" newTimeFactor_before_abs m\">2天前 - </span><em>在哈尔滨哪个节日最可能下雪?</em>分享求助 去提问 您可能感兴趣的试题 1 《瓦尔登湖》、《霍乱时期的爱情》、《远大前程》,那部作品的作者的国籍位于南半...</div><div class=\"f13\"><a class=\"c-showurl\" href=\"http://www.baidu.com/link?url=o7T0it1jLTKnxj0-fpPGiVslwBl_TQIgHBLVu11-FeE88KagnwUc92WUOvWUbo5LeMWcg0aOyjyb9-RAwcovbq\" style=\"text-decoration:none;\" target=\"_blank\">www.shangxueba.com/ask... </a><div class=\"c-tools\" data-tools='{\"title\":\"在哈尔滨哪个节日最可能下雪? - 上学吧找答案 \",\"url\":\"http://www.baidu.com/link?url=o7T0it1jLTKnxj0-fpPGiVslwBl_TQIgHBLVu11-FeE88KagnwUc92WUOvWUbo5LeMWcg0aOyjyb9-RAwcovbq\"}' id=\"tools_2214893454337009529_2\"><a class=\"c-tip-icon\"><i class=\"c-icon c-icon-triangle-down-g\"></i></a></div><span class=\"c-icons-outer\"><span class=\"c-icons-inner\"></span></span> - <a class=\"m\" data-click=\"{'rsv_snapshot':'1'}\" href=\"http://cache.baiducontent.com/c?m=9d78d513d9d437a94f9be7690c66c0161243f4142ba7d4020ba4843890732f46506793ac56240775d5d20c6d16db4d4beb802102411456c48cb9825dabbc85295f9f5131676bf15613a30edfbf5154ca37e15cfed968f0bb8025e2dac5a2df4325c944767194b7cb040f4e8c29b2033090bb840d501a07ba9a713fac052263d87410e550f9976333589ca59c0551c028d762149cad3ea73e65ef55fb41&amp;p=882a9042898059f100be9b7c1548&amp;newp=882a904296904ead4eadd7294b5092695c02dc3051d2d401298ffe0cc4241a1a1a3aecbb24241502d9c478610abb0f31aba7747d605f76f7&amp;user=baidu&amp;fm=sc&amp;query=%D4%DA%B9%FE%B6%FB%B1%F5%C4%C4%B8%F6%BD%DA%C8%D5%D7%EE%BF%C9%C4%DC%CF%C2%D1%A9%3F&amp;qid=8be4306b0000fb86&amp;p1=2\" target=\"_blank\">百度快照</a></div></div>"
      ],
      "text/plain": [
       "<IPython.core.display.HTML object>"
      ]
     },
     "metadata": {},
     "output_type": "display_data"
    },
    {
     "name": "stdout",
     "output_type": "stream",
     "text": [
      "http://www.baidu.com/s?q1=在小于500的自然数中能被11整除的数有多少个?&q2=&q3=&q4=&rn=50\n",
      "[(42, 0.0), (45, 0.3757418391508415), (47, 0.0)]\n",
      "question: 在小于500的自然数中能被11整除的数有多少个?\n",
      "('B', '45', 0.3757418391508415)\n",
      "('A', '42', 0.0)\n",
      "('C', '47', 0.0)\n"
     ]
    },
    {
     "data": {
      "text/html": [
       "<div class=\"result c-container \" data-click=\"{'rsv_bdr':'0' ,'rsv_cd':'vLevel:2'}\" id=\"1\" srcid=\"1599\" tpl=\"se_com_default\"><h3 class=\"t\"><a data-click=\"{\n",
       "\t\t\t'F':'778717EA',\n",
       "\t\t\t'F1':'9D73F1E4',\n",
       "\t\t\t'F2':'4CA6DE6B',\n",
       "\t\t\t'F3':'54E5343F',\n",
       "\t\t\t'T':'1517904353',\n",
       "\t\t\t\t\t\t'y':'BFFFBB7F'\n",
       "\t\t\t \n",
       "\t\t\t\t\t\t\t\t\t}\" href=\"http://www.baidu.com/link?url=ZhhDeJD9tKvL_k_mNE5ReQHMY9oo_IOq5kJMyYoz8SRwBft8GUX2DX8jsVtj32MtgjdNw-v84ehf13sOv0lUSgUnJTcCMPMUUK62JCFlBl_\" target=\"_blank\">【<em>在小于500的自然数中</em>,<em>能被11整除</em>,并且<em>数字</em>和为15的..._百度作业帮</a></h3><div class=\"c-abstract\"><span class=\" newTimeFactor_before_abs m\">2017年11月9日 - </span><em>在小于500的自然数中</em>,<em>能被11整除</em>,并且数字和为15<em>的数</em>,共<em>有多少个?</em>非常感谢!  数学林海yy12702014-11-09 扫二维码下载作业帮 拍照搜题,秒出答案,一键查...</div><div class=\"f13\"><a class=\"c-showurl\" href=\"http://www.baidu.com/link?url=ZhhDeJD9tKvL_k_mNE5ReQHMY9oo_IOq5kJMyYoz8SRwBft8GUX2DX8jsVtj32MtgjdNw-v84ehf13sOv0lUSgUnJTcCMPMUUK62JCFlBl_\" style=\"text-decoration:none;\" target=\"_blank\">https://www.zybang.com/questio... </a><div class=\"c-tools\" data-tools='{\"title\":\"【在小于500的自然数中,能被11整除,并且数字和为15的..._百度作业帮\",\"url\":\"http://www.baidu.com/link?url=ZhhDeJD9tKvL_k_mNE5ReQHMY9oo_IOq5kJMyYoz8SRwBft8GUX2DX8jsVtj32MtgjdNw-v84ehf13sOv0lUSgUnJTcCMPMUUK62JCFlBl_\"}' id=\"tools_5990383521562812636_1\"><a class=\"c-tip-icon\"><i class=\"c-icon c-icon-triangle-down-g\"></i></a></div><span class=\"c-icons-outer\"><span class=\"c-icons-inner\"><span class=\"c-vline\"></span><span class=\"c-trust-as vstar \" data_key=\"5854561520976348714\" hint-data='{\"label\":\"小船出海教育科技(北京)有限公司\",\"url\":\"https://www.baidu.com/s?wd=%E5%B0%8F%E8%88%B9%E5%87%BA%E6%B5%B7%E6%95%99%E8%82%B2%E7%A7%91%E6%8A%80%E5%8C%97%E4%BA%AC%E6%9C%89%E9%99%90%E5%85%AC%E5%8F%B8@v&amp;vmp_ec=770a240ea667f01f97675e741dsff23he3e78e4c8fWJtb8Y92cudm5JbX56y43aacc58Xdca062563a&amp;vmp_ectm=1517900253&amp;from=vs\",\"hint\":[{\"txt\":\"[ecard 96]\",\"vlevel\":\"2\"}]}' hint-type=\"vstar\"><a class=\"c-icon c-icon-v c-icon-v2\" data-click=\"{'title':'vstar','rsv_vlevel':'2'}\" href=\"https://www.baidu.com/s?wd=%E5%B0%8F%E8%88%B9%E5%87%BA%E6%B5%B7%E6%95%99%E8%82%B2%E7%A7%91%E6%8A%80%E5%8C%97%E4%BA%AC%E6%9C%89%E9%99%90%E5%85%AC%E5%8F%B8@v&amp;vmp_ec=770a240ea667f01f97675e741dsff23he3e78e4c8fWJtb8Y92cudm5JbX56y43aacc58Xdca062563a&amp;vmp_ectm=1517900253&amp;from=vs&amp;product=v&amp;rsv_dl=0_left_v_2\" target=\"_blank\"></a></span></span></span> - <a class=\"m\" data-click=\"{'rsv_snapshot':'1'}\" href=\"http://cache.baiducontent.com/c?m=9d78d513d9d437a94f9be7690c66c0101b43f3602ba1d10209a78449e3635943506793ac57250775d5d27d1716d94c4b9cf621033d1450c78cc9f85dacc8855c599f2644676a825664d10eaebb5154c737e62bfeae69f0caf325e3dec5d2af5750dd52756df6f79c2e7003ba6ee76047f4a7e95f655807cbeb27648f4e065a885736a14689f7446f10f7f4ca5d3cd45ad4766695b844bb2964be04a56f0c544eb738b51c16666eef1561b9067c13939840fa6f3c0534b63ffbf291e5b71d9bdc9d60c5a5d6ec68c221a09eb7a56c457a03fc73b4adb6b93e664354dbcbda12cf31edfcedba1dee1186115ab10922386bb931d2ddd1&amp;p=882a9545d59204f50be2966d565182&amp;newp=873ec54ad6c342e91abe9b7c1e4bcc231610db2151d6d3146b82c825d7331b001c3bbfb423251301d4c17c640aac4b59ecf03d753d012ba3dda5c91d9fb4c57479ce65&amp;user=baidu&amp;fm=sc&amp;query=%D4%DA%D0%A1%D3%DA500%B5%C4%D7%D4%C8%BB%CA%FD%D6%D0%C4%DC%B1%BB11%D5%FB%B3%FD%B5%C4%CA%FD%D3%D0%B6%E0%C9%D9%B8%F6%3F&amp;qid=a56c421e0000eba2&amp;p1=1\" target=\"_blank\">百度快照</a></div></div>"
      ],
      "text/plain": [
       "<IPython.core.display.HTML object>"
      ]
     },
     "metadata": {},
     "output_type": "display_data"
    },
    {
     "data": {
      "text/html": [
       "<div class=\"result c-container \" data-click=\"{'rsv_bdr':'0' }\" id=\"2\" srcid=\"1528\" tpl=\"se_com_default\"><h3 class=\"t\"><a data-click=\"{\n",
       "\t\t\t'F':'778717EA',\n",
       "\t\t\t'F1':'9D73B1E4',\n",
       "\t\t\t'F2':'4CA6DE6E',\n",
       "\t\t\t'F3':'54E5343F',\n",
       "\t\t\t'T':'1517904353',\n",
       "\t\t\t\t\t\t'y':'6BBFFFFF'\n",
       "\t\t\t \n",
       "\t\t\t\t\t\t\t\t\t}\" href=\"http://www.baidu.com/link?url=_MXHKD1iwUg08eyYzQ26wMZNf_BelXNqf6mMVLBiOzrFL8Im75N6xxU1jbvjJGe1Rk2Kym3J6XGAt0RxmXIZM_\" target=\"_blank\"><em>在小于500的自然数中</em>,<em>能被11整除</em>,并且<em>数字</em>和为十三的倍数共<em>有多少</em>...</a></h3><p class=\"f13 m\">3个回答 - 提问时间: 2010年08月25日</p><div class=\"c-abstract\"><span class=\"m\">最佳答案: </span>排除1位数。 根据<em>被11整除的</em>性质,奇数位和与偶数位和的差被11整除(=0、11、……) 排除2位数,因为差不可能=0 , = 11。 <em>在小于500的</em>3位数中,按...</div><div class=\"f13\"><a class=\"c-showurl\" href=\"http://www.baidu.com/link?url=_MXHKD1iwUg08eyYzQ26wMZNf_BelXNqf6mMVLBiOzrFL8Im75N6xxU1jbvjJGe1Rk2Kym3J6XGAt0RxmXIZM_\" style=\"text-decoration:none;\" target=\"_blank\">https://zhidao.baidu.com/quest... </a><div class=\"c-tools\" data-tools='{\"title\":\"在小于500的自然数中,能被11整除,并且数字和为十三的倍数共有多少...\",\"url\":\"http://www.baidu.com/link?url=_MXHKD1iwUg08eyYzQ26wMZNf_BelXNqf6mMVLBiOzrFL8Im75N6xxU1jbvjJGe1Rk2Kym3J6XGAt0RxmXIZM_\"}' id=\"tools_12211123992998964996_2\"><a class=\"c-tip-icon\"><i class=\"c-icon c-icon-triangle-down-g\"></i></a></div><span class=\"c-icons-outer\"><span class=\"c-icons-inner\"></span></span></div><div class=\"c-offset\"><table class=\"subLink_factory subLink_factory_right\"><tr><td class=\"first c-default \"><a href=\"http://www.baidu.com/link?url=pbQ3ffsMpWFnMYoTWDs88DAlx36dhwJcr0JULk3RXbLlk02nmekGVqq8qw8BbKEzBejQpB2Df1o5Ka7V3zJ_ayvVxlOF18JnPqEGuOhNqwa\" target=\"_blank\"><em>在小于500的自然数中</em>,<em>能被11整除的数有多少个?</em></a></td><td class=\"middle c-default \">1个回答</td><td class=\"last c-default rightTd\">2018-01-30</td></tr></table><a class=\"c\" href=\"http://www.baidu.com/link?url=5ycX4s0afDRlyHJD5qP0b18wIL5No4auGAEwEVdLNm0mrRafrzBQwYJLjWpNO8POm4PvBHY48gkZ7_RvY_o02JfJQd-IHx_58jQuVnt25lBpHU9MUFNkzF0JZDQIuikcGPrJlYuF8c682O8X95nbsqKF4crBDpyq2h_Xh8azwi2JxyQzZWjWhzi-k_7N9tdTa3UXODt4gPzrieUgEh6OWDQEjk7oP79yvx0ohfENn1k041PjIVHWfsrGFTMrwexkzSXte8mNbdUoMLS2NqGcAkcViYQFTGM9lWlNguGD8rRQitbHnTtNUMfF5tA0SAlr\" target=\"_blank\">更多知道相关问题&gt;&gt;</a></div></div>"
      ],
      "text/plain": [
       "<IPython.core.display.HTML object>"
      ]
     },
     "metadata": {},
     "output_type": "display_data"
    },
    {
     "name": "stdout",
     "output_type": "stream",
     "text": [
      "http://www.baidu.com/s?q1=在战国初期下列哪一个国家未与燕国相邻?&q2=&q3=&q4=&rn=50\n",
      "[(赵国, 1.4280695119718565), (楚国, 1.5766353608024348), (齐国, 1.4531683994316347)]\n"
     ]
    },
    {
     "data": {
      "text/html": [
       "<h2>疑似反向问题!!</h2>"
      ],
      "text/plain": [
       "<IPython.core.display.HTML object>"
      ]
     },
     "metadata": {},
     "output_type": "display_data"
    },
    {
     "name": "stdout",
     "output_type": "stream",
     "text": [
      "question: 在战国初期下列哪一个国家未与燕国相邻?\n",
      "('B', '楚国', 1.5766353608024348)\n",
      "('C', '齐国', 1.4531683994316347)\n",
      "('A', '赵国', 1.4280695119718565)\n"
     ]
    },
    {
     "data": {
      "text/html": [
       "<div class=\"result c-container \" data-click=\"{'rsv_bdr':'0' }\" id=\"1\" srcid=\"1528\" tpl=\"se_com_default\"><h3 class=\"t\"><a data-click=\"{\n",
       "\t\t\t'F':'778717EA',\n",
       "\t\t\t'F1':'9D73B1E4',\n",
       "\t\t\t'F2':'4CA6DE6B',\n",
       "\t\t\t'F3':'54E5243F',\n",
       "\t\t\t'T':'1517904356',\n",
       "\t\t\t\t\t\t'y':'FFBF3FFF'\n",
       "\t\t\t \n",
       "\t\t\t\t\t\t\t\t\t}\" href=\"http://www.baidu.com/link?url=57aywD0Q6WTnl7XKbIHuEy6xqHx6CxzeWNHlbOgcbKjbGpR5ipFnuQGpf-4TbOdhwIr5PauPL7vYfWjrQ37F4bmi6CpNfNiQyihWsS8wZpi\" target=\"_blank\"><em>在战国初期</em>,<em>下列哪一个国家未与燕国相邻?</em>_百度知道</a></h3><p class=\"f13 m\">1个回答 - 提问时间: 2018年01月30日</p><div class=\"c-abstract\"><span class=\"m\">最佳答案: </span>楚国 赵国和齐国<em>与燕国相邻</em>。</div><div class=\"f13\"><a class=\"c-showurl\" href=\"http://www.baidu.com/link?url=57aywD0Q6WTnl7XKbIHuEy6xqHx6CxzeWNHlbOgcbKjbGpR5ipFnuQGpf-4TbOdhwIr5PauPL7vYfWjrQ37F4bmi6CpNfNiQyihWsS8wZpi\" style=\"text-decoration:none;\" target=\"_blank\">https://zhidao.baidu.com/quest... </a><div class=\"c-tools\" data-tools='{\"title\":\"在战国初期,下列哪一个国家未与燕国相邻?_百度知道\",\"url\":\"http://www.baidu.com/link?url=57aywD0Q6WTnl7XKbIHuEy6xqHx6CxzeWNHlbOgcbKjbGpR5ipFnuQGpf-4TbOdhwIr5PauPL7vYfWjrQ37F4bmi6CpNfNiQyihWsS8wZpi\"}' id=\"tools_13261315323625583920_1\"><a class=\"c-tip-icon\"><i class=\"c-icon c-icon-triangle-down-g\"></i></a></div><span class=\"c-icons-outer\"><span class=\"c-icons-inner\"></span></span></div></div>"
      ],
      "text/plain": [
       "<IPython.core.display.HTML object>"
      ]
     },
     "metadata": {},
     "output_type": "display_data"
    },
    {
     "data": {
      "text/html": [
       "<div class=\"result c-container \" data-click=\"{'rsv_bdr':'0' ,'rsv_cd':'vLevel:1'}\" id=\"2\" srcid=\"1599\" tpl=\"se_com_default\"><h3 class=\"t\"><a data-click=\"{\n",
       "\t\t\t'F':'778717E8',\n",
       "\t\t\t'F1':'9D73F1E4',\n",
       "\t\t\t'F2':'4CA6DE6B',\n",
       "\t\t\t'F3':'54E5242D',\n",
       "\t\t\t'T':'1517904356',\n",
       "\t\t\t\t\t\t'y':'7AB627FE'\n",
       "\t\t\t \n",
       "\t\t\t\t\t\t\t\t\t}\" href=\"http://www.baidu.com/link?url=CpB0sHjMW9d5Wi-98JrEFR_A_EedzMGnp-S8hQ0AKOvw9EZz6FEAv9ASeMkXSC_MLi6_mzLt66v6jIy6jr48Xa\" target=\"_blank\">如何评价<em>燕国在战国时期</em>的历史地位? - 知乎</a></h3><div class=\"c-abstract\"><span class=\" newTimeFactor_before_abs m\">2017年4月25日 - </span><em>燕国在战国</em>时代的作为,见于史籍的主要有<em>以下</em>几件事...作为战国最大黑天鹅事件的乐毅破齐,实际上并<em>没有</em>...为什么乐毅要保留营和即墨不去进攻?齐国吞并<em>...</em></div><div class=\"f13\"><a class=\"c-showurl\" href=\"http://www.baidu.com/link?url=CpB0sHjMW9d5Wi-98JrEFR_A_EedzMGnp-S8hQ0AKOvw9EZz6FEAv9ASeMkXSC_MLi6_mzLt66v6jIy6jr48Xa\" style=\"text-decoration:none;\" target=\"_blank\">https://www.zhihu.com/question... </a><div class=\"c-tools\" data-tools='{\"title\":\"如何评价燕国在战国时期的历史地位? - 知乎\",\"url\":\"http://www.baidu.com/link?url=CpB0sHjMW9d5Wi-98JrEFR_A_EedzMGnp-S8hQ0AKOvw9EZz6FEAv9ASeMkXSC_MLi6_mzLt66v6jIy6jr48Xa\"}' id=\"tools_5884007102499298619_2\"><a class=\"c-tip-icon\"><i class=\"c-icon c-icon-triangle-down-g\"></i></a></div><span class=\"c-icons-outer\"><span class=\"c-icons-inner\"><span class=\"c-vline\"></span><span class=\"c-trust-as vstar \" data_key=\"12397541887370352527\" hint-data='{\"label\":\"北京智者天下科技有限公司\",\"url\":\"https://www.baidu.com/s?wd=%E5%8C%97%E4%BA%AC%E6%99%BA%E8%80%85%E5%A4%A9%E4%B8%8B%E7%A7%91%E6%8A%80%E6%9C%89%E9%99%90%E5%85%AC%E5%8F%B8@v&amp;vmp_ec=14517bee698c11a4d87fd3a3d0ld3bd6j9c3d81fb2b=b2c4Gao15aS3esdd75dyXJXf8bf554b423b8&amp;vmp_ectm=1517903367&amp;from=vs\",\"hint\":[{\"txt\":\"[ecard 73]\",\"vlevel\":\"1\"}]}' hint-type=\"vstar\"><a class=\"c-icon c-icon-v c-icon-v1\" data-click=\"{'title':'vstar','rsv_vlevel':'1'}\" href=\"https://www.baidu.com/s?wd=%E5%8C%97%E4%BA%AC%E6%99%BA%E8%80%85%E5%A4%A9%E4%B8%8B%E7%A7%91%E6%8A%80%E6%9C%89%E9%99%90%E5%85%AC%E5%8F%B8@v&amp;vmp_ec=14517bee698c11a4d87fd3a3d0ld3bd6j9c3d81fb2b=b2c4Gao15aS3esdd75dyXJXf8bf554b423b8&amp;vmp_ectm=1517903367&amp;from=vs&amp;product=v&amp;rsv_dl=0_left_v_1\" target=\"_blank\"></a></span></span></span> - <a class=\"m\" data-click=\"{'rsv_snapshot':'1'}\" href=\"http://cache.baiducontent.com/c?m=9d78d513d9d437a94f9be7690c66c0101e43f0152ba7db020ba78449e3732b405012e4ac56260772a0d27d1716de3d4b9bf02103341456b58cc9f85dacbd8559299f2644676a865662a30eaebb5155cb37e45efeae69f0cafb25e7ddc5a3ae4325ca44040a9781fc4d7012dd6e800347e2b1ee38025e60ad9b3372885b6028ef3430bd508d93256f779687a94b3bc13da16206e1dc21f77e4cba49e259596553a13fac15146375f74f50b71e665ed5fc5d907b241f3ef50fe4f887edb61491dcef3493fdc9aa2b&amp;p=882a9545d69612a05abad33e510d9d&amp;newp=9f79c64ad48702fd1abd9b7e0d1691231610db2151d7d7106b82c825d7331b001c3bbfb423251301d4c3786201a44a57eaf2377037012ba3dda5c91d9fb4c57479cc646632&amp;user=baidu&amp;fm=sc&amp;query=%D4%DA%D5%BD%B9%FA%B3%F5%C6%DA%CF%C2%C1%D0%C4%C4%D2%BB%B8%F6%B9%FA%BC%D2%CE%B4%D3%EB%D1%E0%B9%FA%CF%E0%C1%DA%3F&amp;qid=960201880000ec32&amp;p1=2\" target=\"_blank\">百度快照</a></div></div>"
      ],
      "text/plain": [
       "<IPython.core.display.HTML object>"
      ]
     },
     "metadata": {},
     "output_type": "display_data"
    },
    {
     "name": "stdout",
     "output_type": "stream",
     "text": [
      "http://www.baidu.com/s?q1=在每一年的NBA联赛之中下列哪一系列比赛最先进行?&q2=&q3=&q4=&rn=50\n",
      "question: 在每一年的NBA联赛之中下列哪一系列比赛最先进行?\n",
      "('B', '常规赛', 1.967201767881459)\n",
      "('C', '季后赛', 1.2980810002605634)\n",
      "('A', '季前赛', 0.09131393949413696)\n"
     ]
    },
    {
     "data": {
      "text/html": [
       "<div class=\"result c-container \" data-click=\"{'rsv_bdr':'0' }\" id=\"1\" srcid=\"1599\" tpl=\"se_com_default\"><h3 class=\"t\"><a data-click=\"{\n",
       "\t\t\t'F':'778717EA',\n",
       "\t\t\t'F1':'9D73F1E4',\n",
       "\t\t\t'F2':'4CA6DE6B',\n",
       "\t\t\t'F3':'54E5243F',\n",
       "\t\t\t'T':'1517904358',\n",
       "\t\t\t\t\t\t'y':'F5FC92FF'\n",
       "\t\t\t \n",
       "\t\t\t\t\t\t\t\t\t}\" href=\"http://www.baidu.com/link?url=7J9FaQ1jefGNV8Lys55xTMewc0ByVjjRUhELePBkyRVCf2oTVIzVnH4Wf6BBUgas2UCYfsdYRKNDM2y_hpaRqkwO8Se2AxNAMM3pQEImqKK\" target=\"_blank\">百万英雄答题一道简单<em>的NBA</em>常识题,竟有50万人答错,来试试</a></h3><div class=\"c-row c-gap-top-small\"><div class=\"general_image_pic c-span6\"><a class=\"c-img6\" href=\"http://www.baidu.com/link?url=7J9FaQ1jefGNV8Lys55xTMewc0ByVjjRUhELePBkyRVCf2oTVIzVnH4Wf6BBUgas2UCYfsdYRKNDM2y_hpaRqkwO8Se2AxNAMM3pQEImqKK\" style=\"height:75px\" target=\"_blank\"><img class=\"c-img c-img6\" src=\"http://t11.baidu.com/it/u=2300504548,1745898577&amp;fm=96&amp;s=D198379F76EB72BCCC10196E0300B068&amp;w=121&amp;h=75&amp;img.JPEG\" style=\"height:75px;\"/></a></div><div class=\"c-span18 c-span-last\"><div class=\"c-abstract\"><span class=\" newTimeFactor_before_abs m\">2018年1月15日 - </span>在今天百万英雄答题的晚上10点开始的百万场中,又出现了一道与NBA有关题目,题目非常简单。 问题:<em>在每一年的NBA联赛之中</em>,<em>下列哪一系列</em>的<em>比赛最先进行?</em> 选项有三个...</div><div class=\"f13\"><a class=\"c-showurl\" href=\"http://www.baidu.com/link?url=7J9FaQ1jefGNV8Lys55xTMewc0ByVjjRUhELePBkyRVCf2oTVIzVnH4Wf6BBUgas2UCYfsdYRKNDM2y_hpaRqkwO8Se2AxNAMM3pQEImqKK\" style=\"text-decoration:none;\" target=\"_blank\">https://baijiahao.baidu.com/s?... </a><div class=\"c-tools\" data-tools='{\"title\":\"百万英雄答题一道简单的NBA常识题,竟有50万人答错,来试试\",\"url\":\"http://www.baidu.com/link?url=7J9FaQ1jefGNV8Lys55xTMewc0ByVjjRUhELePBkyRVCf2oTVIzVnH4Wf6BBUgas2UCYfsdYRKNDM2y_hpaRqkwO8Se2AxNAMM3pQEImqKK\"}' id=\"tools_13777466950872479561_1\"><a class=\"c-tip-icon\"><i class=\"c-icon c-icon-triangle-down-g\"></i></a></div><span class=\"c-icons-outer\"><span class=\"c-icons-inner\"></span></span> - <a class=\"m\" data-click=\"{'rsv_snapshot':'1'}\" href=\"http://cache.baiducontent.com/c?m=9d78d513d9d437a94f9be7690c66c0171843f0172bd6a00209d48438e3732a47501190ac26520774d4d20d6116ae3900baa32173471451b48cbbfb5dacb1855c5e9f2644676a825661a40eaebb5153c537e658feae69f0cb8425e2aec5a2dc4325c844040a97818d4d7112dd6e800347e3b1e938025e60ad9c44728f5e60589c3436b450f890251e049687d74b3dc93da4100696df22c63b05c264b31e6b3335d45bc002462740f73f51e8303713e4e94a91286d0763e847e9ff87f4aa5f8daff72cc8a990f774c63ab598fdf906122309ac62a9abcae3603b5843cecbaa4d9225bd8cefbd46e213dc125db159702b6fc86992808a53e5625eb1b328e92854676a5189e434e875743b6ce82919c75d91&amp;p=9836c64ad4df1ce81ebd9b7e0d159e&amp;newp=8978c64ad48a11a058ed972b115e85231610db2151d6d3146b82c825d7331b001c3bbfb423251301d4c17c640aac4b59ecf03d753d012ba3dda5c91d9fb4c57479c1&amp;user=baidu&amp;fm=sc&amp;query=%D4%DA%C3%BF%D2%BB%C4%EA%B5%C4NBA%C1%AA%C8%FC%D6%AE%D6%D0%CF%C2%C1%D0%C4%C4%D2%BB%CF%B5%C1%D0%B1%C8%C8%FC%D7%EE%CF%C8%BD%F8%D0%D0%3F&amp;qid=cdcac6eb0000f5fc&amp;p1=1\" target=\"_blank\">百度快照</a></div></div></div></div>"
      ],
      "text/plain": [
       "<IPython.core.display.HTML object>"
      ]
     },
     "metadata": {},
     "output_type": "display_data"
    },
    {
     "data": {
      "text/html": [
       "<div class=\"result c-container \" data-click=\"{'rsv_bdr':'0' }\" id=\"2\" srcid=\"1599\" tpl=\"se_com_default\"><h3 class=\"t\"><a data-click=\"{\n",
       "\t\t\t'F':'778717EA',\n",
       "\t\t\t'F1':'9D73F1E4',\n",
       "\t\t\t'F2':'4CA6DE6B',\n",
       "\t\t\t'F3':'54E5243F',\n",
       "\t\t\t'T':'1517904358',\n",
       "\t\t\t\t\t\t'y':'FFCFEFE2'\n",
       "\t\t\t \n",
       "\t\t\t\t\t\t\t\t\t}\" href=\"http://www.baidu.com/link?url=fWzcERIbSybpUi69wG-S06vLCz5OXTBt33MZ7uiwlzBhZm1foTv3P6Gqyvhm9S_9VALrF_3DQdwkmTaALYHf8f8QYk9docXNcl6LyBBpoXK\" target=\"_blank\">1月14日,晚上10点英雄场题目,11点题目,看这个提示,祝你成功</a></h3><div class=\"c-row c-gap-top-small\"><div class=\"general_image_pic c-span6\"><a class=\"c-img6\" href=\"http://www.baidu.com/link?url=fWzcERIbSybpUi69wG-S06vLCz5OXTBt33MZ7uiwlzBhZm1foTv3P6Gqyvhm9S_9VALrF_3DQdwkmTaALYHf8f8QYk9docXNcl6LyBBpoXK\" style=\"height:75px\" target=\"_blank\"><img class=\"c-img c-img6\" src=\"http://t12.baidu.com/it/u=955936178,1715444729&amp;fm=96&amp;s=C9F00CC64D0100C632378E2D0300705B&amp;w=121&amp;h=75&amp;img.JPEG\" style=\"height:75px;\"/></a></div><div class=\"c-span18 c-span-last\"><div class=\"c-abstract\"><span class=\" newTimeFactor_before_abs m\">2018年1月14日 - </span>今晚10点英雄场题目有一道是关于体育的节目,直接放题目 <em>在每一年的NBA联赛</em>当中,<em>下列</em>那<em>一系列比赛最先进行?</em> a,季前赛, b,常规赛, c,季后赛。 NBA比赛分为:...</div><div class=\"f13\"><a class=\"c-showurl\" href=\"http://www.baidu.com/link?url=fWzcERIbSybpUi69wG-S06vLCz5OXTBt33MZ7uiwlzBhZm1foTv3P6Gqyvhm9S_9VALrF_3DQdwkmTaALYHf8f8QYk9docXNcl6LyBBpoXK\" style=\"text-decoration:none;\" target=\"_blank\">https://baijiahao.baidu.com/s?... </a><div class=\"c-tools\" data-tools='{\"title\":\"1月14日,晚上10点英雄场题目,11点题目,看这个提示,祝你成功\",\"url\":\"http://www.baidu.com/link?url=fWzcERIbSybpUi69wG-S06vLCz5OXTBt33MZ7uiwlzBhZm1foTv3P6Gqyvhm9S_9VALrF_3DQdwkmTaALYHf8f8QYk9docXNcl6LyBBpoXK\"}' id=\"tools_375868506400676342_2\"><a class=\"c-tip-icon\"><i class=\"c-icon c-icon-triangle-down-g\"></i></a></div><span class=\"c-icons-outer\"><span class=\"c-icons-inner\"></span></span> - <a class=\"m\" data-click=\"{'rsv_snapshot':'1'}\" href=\"http://cache.baiducontent.com/c?m=9d78d513d9d437a94f9be7690c66c0171843f0172bd6a00209d48438e3732a47501190ac26520774d4d20d6116ae3900baa32173471451b48cbbfb5dacb1855c5e9f2644676a825661a40eaebb5153c537e658feae69f0cb8425e2aec5a2dc4325c844040a97818d4d7112dd6e800347e3b1e938025e60ad9c44728f5e60589c3436b450f890251e049687d74b3dc93da4100696df22c63b05c264b31e6b3335d45bc002462740f73f51e8303713e4e94a91286d0763e847e9ff87f4aa5f8daff72cc8a990f774c63ab598fdf906122309ac62a9abcae3603b5843cecbaa4d9225bd8cefbd46e213d2145cbf59712f68cc609f83885ce5625eb1b328e92854676a5189e434e875743b6ce82919c75d91&amp;p=81769a47cc8c01f808e2977407528b&amp;newp=882a964fdc885bf10be2963d5707c6231610db2151d7d0126b82c825d7331b001c3bbfb423251301d4c3786201a44a57eaf2377037012ba3dda5c91d9fb4c57479c33d6a&amp;user=baidu&amp;fm=sc&amp;query=%D4%DA%C3%BF%D2%BB%C4%EA%B5%C4NBA%C1%AA%C8%FC%D6%AE%D6%D0%CF%C2%C1%D0%C4%C4%D2%BB%CF%B5%C1%D0%B1%C8%C8%FC%D7%EE%CF%C8%BD%F8%D0%D0%3F&amp;qid=cdcac6eb0000f5fc&amp;p1=2\" target=\"_blank\">百度快照</a></div></div></div></div>"
      ],
      "text/plain": [
       "<IPython.core.display.HTML object>"
      ]
     },
     "metadata": {},
     "output_type": "display_data"
    },
    {
     "name": "stdout",
     "output_type": "stream",
     "text": [
      "http://www.baidu.com/s?q1=在真空条件下铁球和羽毛同高度同时下落谁先落地?&q2=&q3=&q4=&rn=50\n",
      "question: 在真空条件下铁球和羽毛同高度同时下落谁先落地?\n",
      "('C', '同时落地', 23.783828178351563)\n",
      "('A', '羽毛', 11.318581232018694)\n",
      "('B', '铁球', 7.937044198648916)\n"
     ]
    },
    {
     "data": {
      "text/html": [
       "<div class=\"result c-container \" data-click=\"{'rsv_bdr':'0' }\" id=\"1\" srcid=\"1528\" tpl=\"se_com_default\"><h3 class=\"t\"><a data-click=\"{\n",
       "\t\t\t'F':'778717EA',\n",
       "\t\t\t'F1':'9D73B1E4',\n",
       "\t\t\t'F2':'4CA6DE6B',\n",
       "\t\t\t'F3':'54E5343F',\n",
       "\t\t\t'T':'1517904361',\n",
       "\t\t\t\t\t\t'y':'FC6CF77F'\n",
       "\t\t\t \n",
       "\t\t\t\t\t\t\t\t\t}\" href=\"http://www.baidu.com/link?url=MpPQUC4kGeQ1f_saqeZTBQgCj3xQ3xpB3Pybf1x4o5c7Y8-VFjyxDzlbNvvogKIFWgon_0nEoaA5o_2UWv9WtV44_u9666vkkihwDDge-7m\" target=\"_blank\"><em>在真空条件下</em>,<em>铁球和羽毛同</em>一<em>高度同时下落</em>,<em>谁先落地?</em>_百度知道</a></h3><p class=\"f13 m\">1个回答 - 提问时间: 2018年01月30日</p><div class=\"c-abstract\"><span class=\"m\">最佳答案: </span><em>同时落地</em> <em>真空条件下</em>所有物体都失重,所以同一<em>高度</em>,<em>同时下落</em>,两者<em>同时落地</em>。</div><div class=\"f13\"><a class=\"c-showurl\" href=\"http://www.baidu.com/link?url=MpPQUC4kGeQ1f_saqeZTBQgCj3xQ3xpB3Pybf1x4o5c7Y8-VFjyxDzlbNvvogKIFWgon_0nEoaA5o_2UWv9WtV44_u9666vkkihwDDge-7m\" style=\"text-decoration:none;\" target=\"_blank\">https://zhidao.baidu.com/quest... </a><div class=\"c-tools\" data-tools='{\"title\":\"在真空条件下,铁球和羽毛同一高度同时下落,谁先落地?_百度知道\",\"url\":\"http://www.baidu.com/link?url=MpPQUC4kGeQ1f_saqeZTBQgCj3xQ3xpB3Pybf1x4o5c7Y8-VFjyxDzlbNvvogKIFWgon_0nEoaA5o_2UWv9WtV44_u9666vkkihwDDge-7m\"}' id=\"tools_14463317757275610926_1\"><a class=\"c-tip-icon\"><i class=\"c-icon c-icon-triangle-down-g\"></i></a></div><span class=\"c-icons-outer\"><span class=\"c-icons-inner\"></span></span></div></div>"
      ],
      "text/plain": [
       "<IPython.core.display.HTML object>"
      ]
     },
     "metadata": {},
     "output_type": "display_data"
    },
    {
     "data": {
      "text/html": [
       "<div class=\"result c-container \" data-click=\"{'rsv_bdr':'0' }\" id=\"2\" srcid=\"1599\" tpl=\"se_com_default\"><h3 class=\"t\"><a data-click=\"{\n",
       "\t\t\t'F':'778717EA',\n",
       "\t\t\t'F1':'9D73F1E4',\n",
       "\t\t\t'F2':'4CA6DD6B',\n",
       "\t\t\t'F3':'54E5243F',\n",
       "\t\t\t'T':'1517904361',\n",
       "\t\t\t\t\t\t'y':'FC9EFF3F'\n",
       "\t\t\t \n",
       "\t\t\t\t\t\t\t\t\t}\" href=\"http://www.baidu.com/link?url=v92yT_6037ihjWmm0Dge8-CRP6NUFRYS7I0Ryq50IG3knuD3vAB_KEdlSJJycXq8OJrdG34NCqbJS8NXNpkn5_\" target=\"_blank\"><em>在真空条件下</em>,<em>铁球和羽毛同</em>一<em>高度同时下落</em>,<em>谁先落地?</em>_工作资料</a></h3><div class=\"c-abstract\"><span class=\" newTimeFactor_before_abs m\">2018年1月14日 - </span><em>在真空条件下</em>,<em>铁球和羽毛同</em>一<em>高度同时下落</em>,<em>谁先落地?</em>正确答案:<em>同时落地</em>,自由落体实验:不受任何阻力,只在重力作用下而降落的物体,叫“自由落体”。</div><div class=\"f13\"><a class=\"c-showurl\" href=\"http://www.baidu.com/link?url=v92yT_6037ihjWmm0Dge8-CRP6NUFRYS7I0Ryq50IG3knuD3vAB_KEdlSJJycXq8OJrdG34NCqbJS8NXNpkn5_\" style=\"text-decoration:none;\" target=\"_blank\">www.binzz.com/gongzuo/... </a><div class=\"c-tools\" data-tools='{\"title\":\"在真空条件下,铁球和羽毛同一高度同时下落,谁先落地?_工作资料\",\"url\":\"http://www.baidu.com/link?url=v92yT_6037ihjWmm0Dge8-CRP6NUFRYS7I0Ryq50IG3knuD3vAB_KEdlSJJycXq8OJrdG34NCqbJS8NXNpkn5_\"}' id=\"tools_16618074180874114206_2\"><a class=\"c-tip-icon\"><i class=\"c-icon c-icon-triangle-down-g\"></i></a></div><span class=\"c-icons-outer\"><span class=\"c-icons-inner\"></span></span> - <a class=\"m\" data-click=\"{'rsv_snapshot':'1'}\" href=\"http://cache.baiducontent.com/c?m=9f65cb4a8c8507ed4fece763105392230e54f733678b985d68d4e419ce3b46141a3ab6f3607f0d07d1c5786504b8492bb0b6692c23467df7cdc79f3cdbace45b38895723061b913616c469dbdc3022d621e04d98de0e93bde742e2b9a6a4c85523dd22716df1f09c5b7003bb1ee76042f4d79c5f615f07bb9d27158c4e065f882230a131f8f7466c10f0f7ca2f3cd42ba07660e1b846c12913c504d4150c5230b73cb51f202c27e13f308e322a77e3fc2c943d094334b738a4c8b5a19a489badea26effcdcae5f821196d2998f664300458b51a9dab7a53c145273d9dda910d342bbed9ab0&amp;p=9c3e8b16d9c11ff804bd9b7d07139d&amp;newp=8136da0485cc43ff57ee9e7b475483231610db2151d7d0136b82c825d7331b001c3bbfb423251301d4c3786201a44a57eaf2377037012ba3dda5c91d9fb4c57479&amp;user=baidu&amp;fm=sc&amp;query=%D4%DA%D5%E6%BF%D5%CC%F5%BC%FE%CF%C2%CC%FA%C7%F2%BA%CD%D3%F0%C3%AB%CD%AC%B8%DF%B6%C8%CD%AC%CA%B1%CF%C2%C2%E4%CB%AD%CF%C8%C2%E4%B5%D8%3F&amp;qid=f7b2a813000100cb&amp;p1=2\" target=\"_blank\">百度快照</a></div></div>"
      ],
      "text/plain": [
       "<IPython.core.display.HTML object>"
      ]
     },
     "metadata": {},
     "output_type": "display_data"
    },
    {
     "ename": "ValueError",
     "evalue": "too many values to unpack (expected 4)",
     "output_type": "error",
     "traceback": [
      "\u001b[1;31m---------------------------------------------------------------------------\u001b[0m",
      "\u001b[1;31mValueError\u001b[0m                                Traceback (most recent call last)",
      "\u001b[1;32m<ipython-input-12-53c103ef2318>\u001b[0m in \u001b[0;36m<module>\u001b[1;34m()\u001b[0m\n\u001b[0;32m      2\u001b[0m     \u001b[0mi\u001b[0m \u001b[1;33m=\u001b[0m \u001b[1;36m0\u001b[0m\u001b[1;33m\u001b[0m\u001b[0m\n\u001b[0;32m      3\u001b[0m     \u001b[1;32mfor\u001b[0m \u001b[0mline\u001b[0m \u001b[1;32min\u001b[0m \u001b[0mf\u001b[0m\u001b[1;33m:\u001b[0m\u001b[1;33m\u001b[0m\u001b[0m\n\u001b[1;32m----> 4\u001b[1;33m         \u001b[0mquestion\u001b[0m\u001b[1;33m,\u001b[0m \u001b[0mopt_a\u001b[0m\u001b[1;33m,\u001b[0m \u001b[0mopt_b\u001b[0m\u001b[1;33m,\u001b[0m \u001b[0mopt_c\u001b[0m \u001b[1;33m=\u001b[0m \u001b[0mmap\u001b[0m\u001b[1;33m(\u001b[0m\u001b[1;32mlambda\u001b[0m \u001b[0ms\u001b[0m\u001b[1;33m:\u001b[0m\u001b[0ms\u001b[0m\u001b[1;33m.\u001b[0m\u001b[0mstrip\u001b[0m\u001b[1;33m(\u001b[0m\u001b[1;33m)\u001b[0m\u001b[1;33m,\u001b[0m \u001b[0mline\u001b[0m\u001b[1;33m.\u001b[0m\u001b[0msplit\u001b[0m\u001b[1;33m(\u001b[0m\u001b[1;34m','\u001b[0m\u001b[1;33m)\u001b[0m\u001b[1;33m)\u001b[0m\u001b[1;33m\u001b[0m\u001b[0m\n\u001b[0m\u001b[0;32m      5\u001b[0m \u001b[1;33m\u001b[0m\u001b[0m\n\u001b[0;32m      6\u001b[0m         \u001b[0msearch_ans\u001b[0m\u001b[1;33m(\u001b[0m\u001b[0mquestion\u001b[0m\u001b[1;33m,\u001b[0m \u001b[0mopt_a\u001b[0m\u001b[1;33m,\u001b[0m \u001b[0mopt_b\u001b[0m\u001b[1;33m,\u001b[0m \u001b[0mopt_c\u001b[0m\u001b[1;33m)\u001b[0m\u001b[1;33m\u001b[0m\u001b[0m\n",
      "\u001b[1;31mValueError\u001b[0m: too many values to unpack (expected 4)"
     ]
    }
   ],
   "source": [
    "with open('questions.txt','r') as f:\n",
    "    i = 0\n",
    "    for line in f:\n",
    "        question, opt_a, opt_b, opt_c = map(lambda s:s.strip(), line.split(','))\n",
    "        \n",
    "        search_ans(question, opt_a, opt_b, opt_c)\n",
    "        time.sleep(1)\n",
    "        i += 1\n",
    "        if i > 100:\n",
    "            break"
   ]
  },
  {
   "cell_type": "code",
   "execution_count": 10,
   "metadata": {
    "collapsed": true
   },
   "outputs": [],
   "source": [
    "with open('questions.txt','r') as f:\n",
    "    with open('questions.tmp.txt','w') as wf:\n",
    "        lines = sorted(list(set(f.readlines())))\n",
    "        for line in lines:\n",
    "            s = line.strip()\n",
    "            if s != '':\n",
    "                wf.write(s + '\\n')"
   ]
  }
 ],
 "metadata": {
  "kernelspec": {
   "display_name": "Python 3",
   "language": "python",
   "name": "python3"
  },
  "language_info": {
   "codemirror_mode": {
    "name": "ipython",
    "version": 3
   },
   "file_extension": ".py",
   "mimetype": "text/x-python",
   "name": "python",
   "nbconvert_exporter": "python",
   "pygments_lexer": "ipython3",
   "version": "3.7.1"
  },
  "varInspector": {
   "cols": {
    "lenName": 16,
    "lenType": 16,
    "lenVar": 40
   },
   "kernels_config": {
    "python": {
     "delete_cmd_postfix": "",
     "delete_cmd_prefix": "del ",
     "library": "var_list.py",
     "varRefreshCmd": "print(var_dic_list())"
    },
    "r": {
     "delete_cmd_postfix": ") ",
     "delete_cmd_prefix": "rm(",
     "library": "var_list.r",
     "varRefreshCmd": "cat(var_dic_list()) "
    }
   },
   "types_to_exclude": [
    "module",
    "function",
    "builtin_function_or_method",
    "instance",
    "_Feature"
   ],
   "window_display": false
  }
 },
 "nbformat": 4,
 "nbformat_minor": 2
}
