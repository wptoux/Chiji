{
 "cells": [
  {
   "cell_type": "code",
   "execution_count": 85,
   "metadata": {
    "collapsed": true
   },
   "outputs": [],
   "source": [
    "import PIL\n",
    "import subprocess\n",
    "import re\n",
    "import os\n",
    "import time\n",
    "import io\n",
    "import cv2\n",
    "import requests\n",
    "import bs4\n",
    "import jieba\n",
    "import jieba.analyse\n",
    "from IPython.display import display, HTML\n",
    "import json"
   ]
  },
  {
   "cell_type": "code",
   "execution_count": 5,
   "metadata": {
    "collapsed": true
   },
   "outputs": [],
   "source": [
    "def capture_img():\n",
    "    subprocess.call('.\\\\adb\\\\adb shell /system/bin/screencap -p /sdcard/screenshot.png')\n",
    "    time.sleep(0.1)\n",
    "    subprocess.call('.\\\\adb\\\\adb pull /sdcard/screenshot.png %s' % './tmp/screenshot.png')\n",
    "    time.sleep(0.1)\n",
    "    \n",
    "    return cv2.imread('./tmp/screenshot.png')"
   ]
  },
  {
   "cell_type": "code",
   "execution_count": 78,
   "metadata": {
    "collapsed": true
   },
   "outputs": [],
   "source": [
    "%run key.py"
   ]
  },
  {
   "cell_type": "code",
   "execution_count": 79,
   "metadata": {
    "collapsed": true
   },
   "outputs": [],
   "source": [
    "from aip import AipOcr\n",
    "\n",
    "client = AipOcr(AIP_APP_ID, AIP_API_KEY, AIP_SECRET_KEY)"
   ]
  },
  {
   "cell_type": "code",
   "execution_count": 8,
   "metadata": {
    "collapsed": true
   },
   "outputs": [],
   "source": [
    "def get_text_in_region(aip_rst, region):\n",
    "    s = ''\n",
    "    if 'words_result' in aip_rst:\n",
    "        words = []\n",
    "        for p in aip_rst['words_result']:\n",
    "            loc = p['location']\n",
    "            if loc['top'] > region[0] and loc['top'] + loc['height'] < region[1] \\\n",
    "                and loc['left'] > region[2] and loc['left'] + loc['width'] < region[3]:\n",
    "                if loc['left'] < 1080 / 2: # only get words that starts from left\n",
    "                    words.append(p['words'])\n",
    "        s = ''.join(words)\n",
    "        \n",
    "    if s != '':\n",
    "        # remove heading, like 1. A. B.\n",
    "        if re.match(r\"^A|B|C|\\d+\\.|,|。|，\", s) != None: \n",
    "            ss = re.split(r\"\\.|,|。|，\",s)\n",
    "            if len(ss) > 1:\n",
    "                s = ''.join(ss[1:])\n",
    "            \n",
    "    return s"
   ]
  },
  {
   "cell_type": "code",
   "execution_count": 9,
   "metadata": {
    "collapsed": true
   },
   "outputs": [],
   "source": [
    "def ocr(im, regions):\n",
    "    _, byte_arr = cv2.imencode('.jpg', im, [int(cv2.IMWRITE_JPEG_QUALITY), 90])\n",
    "    aip_rst = client.general(byte_arr.tobytes())\n",
    "    return [get_text_in_region(aip_rst, region) for region in regions]"
   ]
  },
  {
   "cell_type": "code",
   "execution_count": 10,
   "metadata": {
    "collapsed": true
   },
   "outputs": [],
   "source": [
    "def go_search(s, engine='google'):\n",
    "    if engine == 'google':\n",
    "        os.system('start www.google.com/search?q=%s' % s)\n",
    "    elif engine == 'baidu':\n",
    "        os.system('start www.baidu.com/s?wd=%s' % s)"
   ]
  },
  {
   "cell_type": "code",
   "execution_count": 57,
   "metadata": {
    "collapsed": true
   },
   "outputs": [],
   "source": [
    "def search(question):\n",
    "    rst = requests.get('http://www.baidu.com/s?wd=%s&rn=50' % question)\n",
    "    rst.encoding = 'utf-8'\n",
    "    search_rst = rst.text\n",
    "    \n",
    "    soup = bs4.BeautifulSoup(search_rst, 'html.parser')\n",
    "    rst = soup.select('div#content_left')[0]\n",
    "    return rst.text\n",
    "\n",
    "def search_advanced(question_words, opt_words, return_string=True, engine='baidu'):\n",
    "    '''\n",
    "    Advanced search\n",
    "    question_words: list of words of the question\n",
    "    opt_words: list of list of words of the options\n",
    "    '''\n",
    "    all_opt_words = []\n",
    "    \n",
    "    for words in opt_words:\n",
    "        all_opt_words += words\n",
    "        \n",
    "    \n",
    "    if engine == 'baidu':\n",
    "        rst = requests.get('http://www.baidu.com/s?q1=%s&q2=&q3=%s&q4=&rn=50' % (\n",
    "            '+'.join(question_words),\n",
    "            '+'.join(all_opt_words)))\n",
    "        print('http://www.baidu.com/s?q1=%s&q2=&q3=%s&q4=&rn=50' % (\n",
    "            '+'.join(question_words),\n",
    "            '+'.join(all_opt_words)))\n",
    "        rst.encoding = 'utf-8'\n",
    "        search_rst = rst.text\n",
    "\n",
    "        soup = bs4.BeautifulSoup(search_rst, 'html.parser')\n",
    "        rst = soup.select('div#content_left')[0]\n",
    "\n",
    "        if return_string:\n",
    "            return rst.text\n",
    "        else:\n",
    "            ret = []\n",
    "\n",
    "            containers = rst.select('.c-container')\n",
    "\n",
    "            for c in containers:\n",
    "                datum = {}\n",
    "                title = c.select('h3')\n",
    "                title = title[0].text if len(title) > 0 else ''\n",
    "\n",
    "                abstract = c.select('.c-abstract')\n",
    "                abstract = abstract[0].text if len(abstract) > 0 else ''\n",
    "\n",
    "                datum['title'] = title\n",
    "                datum['abstract'] = abstract\n",
    "\n",
    "                datum['html'] = str(c)\n",
    "                ret.append(datum)\n",
    "            return ret\n",
    "            \n",
    "    elif engine == 'google':\n",
    "        'https://www.google.com.hk/search?num=50&source=hp&ei=G2dcWsidNJGajwPcurTgDA&q=a+bc&oq=a+bc&gs_l=psy-ab.3...1983.2905.0.3161.5.4.0.0.0.0.0.0..0.0....0...1c.1.64.psy-ab..5.0.0.0...0.ulvJkmLzPfA'\n",
    "        'https://www.google.com.hk/search?hl=en&as_q=a+b&as_epq=&as_oq=c+d&as_eq=&as_nlo=&as_nhi=&lr=&cr=&as_qdr=all&as_sitesearch=&as_occt=any&safe=images&as_filetype=&as_rights='\n",
    "    return '' if return_string else []"
   ]
  },
  {
   "cell_type": "code",
   "execution_count": 80,
   "metadata": {},
   "outputs": [],
   "source": [
    "rst = requests.get('https://www.googleapis.com/customsearch/v1?key=%s&cx=%s&q=%s' % (\n",
    "    G_KEY,\n",
    "    G_CX,\n",
    "    'hello world'), \n",
    "    proxies={'http':'127.0.0.1:1080','https':'127.0.0.1:1080'}, verify=False)"
   ]
  },
  {
   "cell_type": "code",
   "execution_count": 84,
   "metadata": {},
   "outputs": [
    {
     "data": {
      "text/plain": [
       "'{\\n \"kind\": \"customsearch#search\",\\n \"url\": {\\n  \"type\": \"application/json\",\\n  \"template\": \"https://www.googleapis.com/customsearch/v1?q={searchTerms}&num={count?}&start={startIndex?}&lr={language?}&safe={safe?}&cx={cx?}&sort={sort?}&filter={filter?}&gl={gl?}&cr={cr?}&googlehost={googleHost?}&c2coff={disableCnTwTranslation?}&hq={hq?}&hl={hl?}&siteSearch={siteSearch?}&siteSearchFilter={siteSearchFilter?}&exactTerms={exactTerms?}&excludeTerms={excludeTerms?}&linkSite={linkSite?}&orTerms={orTerms?}&relatedSite={relatedSite?}&dateRestrict={dateRestrict?}&lowRange={lowRange?}&highRange={highRange?}&searchType={searchType}&fileType={fileType?}&rights={rights?}&imgSize={imgSize?}&imgType={imgType?}&imgColorType={imgColorType?}&imgDominantColor={imgDominantColor?}&alt=json\"\\n },\\n \"queries\": {\\n  \"request\": [\\n   {\\n    \"title\": \"Google Custom Search - hello world\",\\n    \"totalResults\": \"65500000\",\\n    \"searchTerms\": \"hello world\",\\n    \"count\": 10,\\n    \"startIndex\": 1,\\n    \"inputEncoding\": \"utf8\",\\n    \"outputEncoding\": \"utf8\",\\n    \"safe\": \"off\",\\n    \"cx\": \"018331586364722641289:r3cvkpozqwq\"\\n   }\\n  ],\\n  \"nextPage\": [\\n   {\\n    \"title\": \"Google Custom Search - hello world\",\\n    \"totalResults\": \"65500000\",\\n    \"searchTerms\": \"hello world\",\\n    \"count\": 10,\\n    \"startIndex\": 11,\\n    \"inputEncoding\": \"utf8\",\\n    \"outputEncoding\": \"utf8\",\\n    \"safe\": \"off\",\\n    \"cx\": \"018331586364722641289:r3cvkpozqwq\"\\n   }\\n  ]\\n },\\n \"context\": {\\n  \"title\": \"Chiji\"\\n },\\n \"searchInformation\": {\\n  \"searchTime\": 0.53187,\\n  \"formattedSearchTime\": \"0.53\",\\n  \"totalResults\": \"65500000\",\\n  \"formattedTotalResults\": \"65,500,000\"\\n },\\n \"items\": [\\n  {\\n   \"kind\": \"customsearch#result\",\\n   \"title\": \"Hello World - 维基百科，自由的百科全书\",\\n   \"htmlTitle\": \"\\\\u003cb\\\\u003eHello World\\\\u003c/b\\\\u003e - 维基百科，自由的百科全书\",\\n   \"link\": \"https://zh.wikipedia.org/zh-hans/Hello_World\",\\n   \"displayLink\": \"zh.wikipedia.org\",\\n   \"snippet\": \"Hello, World程序指的是指在计算机屏幕上输出“Hello, World!”（意为「你好，世界！」\\\\n）这行字符串的计算机程序。一般来说，这是每一种计算机编程语言中最基本、最简单\\\\n的程序，亦通常是初学者所编写的第一个程序。它还可以用来确定该语言的编译器、\\\\n程序开发环境，以及运行环境是否已经安装妥當。 将输出字符串“Hello World”作为第\\\\n\\xa0...\",\\n   \"htmlSnippet\": \"\\\\u003cb\\\\u003eHello\\\\u003c/b\\\\u003e, \\\\u003cb\\\\u003eWorld\\\\u003c/b\\\\u003e程序指的是指在计算机屏幕上输出“\\\\u003cb\\\\u003eHello\\\\u003c/b\\\\u003e, \\\\u003cb\\\\u003eWorld\\\\u003c/b\\\\u003e!”（意为「你好，世界！」\\\\u003cbr\\\\u003e\\\\n）这行字符串的计算机程序。一般来说，这是每一种计算机编程语言中最基本、最简单\\\\u003cbr\\\\u003e\\\\n的程序，亦通常是初学者所编写的第一个程序。它还可以用来确定该语言的编译器、\\\\u003cbr\\\\u003e\\\\n程序开发环境，以及运行环境是否已经安装妥當。 将输出字符串“\\\\u003cb\\\\u003eHello World\\\\u003c/b\\\\u003e”作为第\\\\u003cbr\\\\u003e\\\\n&nbsp;...\",\\n   \"cacheId\": \"_njBYFs_i0oJ\",\\n   \"formattedUrl\": \"https://zh.wikipedia.org/zh-hans/Hello_World\",\\n   \"htmlFormattedUrl\": \"https://zh.wikipedia.org/zh-hans/\\\\u003cb\\\\u003eHello\\\\u003c/b\\\\u003e_\\\\u003cb\\\\u003eWorld\\\\u003c/b\\\\u003e\",\\n   \"pagemap\": {\\n    \"cse_thumbnail\": [\\n     {\\n      \"width\": \"183\",\\n      \"height\": \"181\",\\n      \"src\": \"https://encrypted-tbn2.gstatic.com/images?q=tbn:ANd9GcT6myvXx9yR0-HmOspu7mcgzg3TxK8VKuRekVYOCYe9hoC2eMaJJXx32M7U\"\\n     }\\n    ],\\n    \"metatags\": [\\n     {\\n      \"referrer\": \"origin-when-cross-origin\",\\n      \"og:image\": \"https://upload.wikimedia.org/wikipedia/commons/a/ae/Hello_World%21_in_AutoIt%21_3.2_on_Windows_Vista.png\"\\n     }\\n    ],\\n    \"cse_image\": [\\n     {\\n      \"src\": \"https://upload.wikimedia.org/wikipedia/commons/a/ae/Hello_World%21_in_AutoIt%21_3.2_on_Windows_Vista.png\"\\n     }\\n    ]\\n   }\\n  },\\n  {\\n   \"kind\": \"customsearch#result\",\\n   \"title\": \"\\\\\"Hello, World!\\\\\" program - Wikipedia\",\\n   \"htmlTitle\": \"&quot;\\\\u003cb\\\\u003eHello\\\\u003c/b\\\\u003e, \\\\u003cb\\\\u003eWorld\\\\u003c/b\\\\u003e!&quot; program - Wikipedia\",\\n   \"link\": \"https://en.wikipedia.org/wiki/%22Hello,_World!%22_program\",\\n   \"displayLink\": \"en.wikipedia.org\",\\n   \"snippet\": \"A \\\\\"Hello, World!\\\\\" program is a computer program that outputs or displays \\\\\"Hello, \\\\nWorld!\\\\\" to a user. Being a very simple program in most programming languages, \\\\nit is often used to illustrate the basic syntax of a programming language for a \\\\nworking program. It is often the very first program people write when they are new \\\\nto a\\xa0...\",\\n   \"htmlSnippet\": \"A &quot;\\\\u003cb\\\\u003eHello\\\\u003c/b\\\\u003e, \\\\u003cb\\\\u003eWorld\\\\u003c/b\\\\u003e!&quot; program is a computer program that outputs or displays &quot;\\\\u003cb\\\\u003eHello\\\\u003c/b\\\\u003e, \\\\u003cbr\\\\u003e\\\\n\\\\u003cb\\\\u003eWorld\\\\u003c/b\\\\u003e!&quot; to a user. Being a very simple program in most programming languages, \\\\u003cbr\\\\u003e\\\\nit is often used to illustrate the basic syntax of a programming language for a \\\\u003cbr\\\\u003e\\\\nworking program. It is often the very first program people write when they are new \\\\u003cbr\\\\u003e\\\\nto a&nbsp;...\",\\n   \"cacheId\": \"UInCiDfJyeUJ\",\\n   \"formattedUrl\": \"https://en.wikipedia.org/wiki/%22Hello,_World!%22_program\",\\n   \"htmlFormattedUrl\": \"https://en.wikipedia.org/wiki/%22\\\\u003cb\\\\u003eHello\\\\u003c/b\\\\u003e,_\\\\u003cb\\\\u003eWorld\\\\u003c/b\\\\u003e!%22_program\",\\n   \"pagemap\": {\\n    \"cse_thumbnail\": [\\n     {\\n      \"width\": \"238\",\\n      \"height\": \"212\",\\n      \"src\": \"https://encrypted-tbn3.gstatic.com/images?q=tbn:ANd9GcTFLxy-NkoRc8X1raAyJEmapXg__cbu-F9ZuUs3fn__kf5vwMvqRQkmE2Y\"\\n     }\\n    ],\\n    \"metatags\": [\\n     {\\n      \"referrer\": \"origin-when-cross-origin\",\\n      \"og:image\": \"https://upload.wikimedia.org/wikipedia/commons/0/0b/HelloWorld_Maktivism_ComputerProgramming_LEDs.jpg\"\\n     }\\n    ],\\n    \"cse_image\": [\\n     {\\n      \"src\": \"https://upload.wikimedia.org/wikipedia/commons/0/0b/HelloWorld_Maktivism_ComputerProgramming_LEDs.jpg\"\\n     }\\n    ]\\n   }\\n  },\\n  {\\n   \"kind\": \"customsearch#result\",\\n   \"title\": \"HelloWorld, A Merkle Company\",\\n   \"htmlTitle\": \"\\\\u003cb\\\\u003eHelloWorld\\\\u003c/b\\\\u003e, A Merkle Company\",\\n   \"link\": \"http://www.helloworld.com/\",\\n   \"displayLink\": \"www.helloworld.com\",\\n   \"snippet\": \"A powerful combination of native technology and marketing strategy allowing \\\\nbrands to create unforgettable interactions, drive consumer demand and \\\\naccelerate growth.\",\\n   \"htmlSnippet\": \"A powerful combination of native technology and marketing strategy allowing \\\\u003cbr\\\\u003e\\\\nbrands to create unforgettable interactions, drive consumer demand and \\\\u003cbr\\\\u003e\\\\naccelerate growth.\",\\n   \"cacheId\": \"QaCp7ECVKlQJ\",\\n   \"formattedUrl\": \"www.helloworld.com/\",\\n   \"htmlFormattedUrl\": \"www.\\\\u003cb\\\\u003ehelloworld\\\\u003c/b\\\\u003e.com/\",\\n   \"pagemap\": {\\n    \"cse_thumbnail\": [\\n     {\\n      \"width\": \"225\",\\n      \"height\": \"225\",\\n      \"src\": \"https://encrypted-tbn0.gstatic.com/images?q=tbn:ANd9GcQfh1sLJSuzhAVuHNEwL0UYkc1PZkxRsbAtrY-iCO1C8ayblwAynYYm_yM\"\\n     }\\n    ],\\n    \"metatags\": [\\n     {\\n      \"viewport\": \"width=device-width, initial-scale=1, shrink-to-fit=no\",\\n      \"twitter:card\": \"summary\",\\n      \"twitter:url\": \"http://www.helloworld.com/\",\\n      \"og:url\": \"https://www.helloworld.com/https://www.helloworld.com/\",\\n      \"og:title\": \"HelloWorld, A Merkle Company\",\\n      \"og:description\": \"A powerful combination of native technology and marketing strategy allowing brands to create unforgettable interactions, drive consumer demand and accelerate growth.\",\\n      \"og:image\": \"https://www.helloworld.com/img/global/social-thumbnail.jpg\"\\n     }\\n    ],\\n    \"cse_image\": [\\n     {\\n      \"src\": \"https://www.helloworld.com/img/global/social-thumbnail.jpg\"\\n     }\\n    ]\\n   }\\n  },\\n  {\\n   \"kind\": \"customsearch#result\",\\n   \"title\": \"Hello, World! - Learn Python - Free Interactive Python Tutorial\",\\n   \"htmlTitle\": \"\\\\u003cb\\\\u003eHello\\\\u003c/b\\\\u003e, \\\\u003cb\\\\u003eWorld\\\\u003c/b\\\\u003e! - Learn Python - Free Interactive Python Tutorial\",\\n   \"link\": \"https://www.learnpython.org/en/Hello%2C_World%21\",\\n   \"displayLink\": \"www.learnpython.org\",\\n   \"snippet\": \"Hello, World! Python is a very simple language, and has a very straightforward \\\\nsyntax. It encourages programmers to program without boilerplate (prepared) \\\\ncode. The simplest directive in Python is the \\\\\"print\\\\\" directive - it simply prints out a \\\\nline (and also includes a newline, unlike in C). There are two major Python \\\\nversions,\\xa0...\",\\n   \"htmlSnippet\": \"\\\\u003cb\\\\u003eHello\\\\u003c/b\\\\u003e, \\\\u003cb\\\\u003eWorld\\\\u003c/b\\\\u003e! Python is a very simple language, and has a very straightforward \\\\u003cbr\\\\u003e\\\\nsyntax. It encourages programmers to program without boilerplate (prepared) \\\\u003cbr\\\\u003e\\\\ncode. The simplest directive in Python is the &quot;print&quot; directive - it simply prints out a \\\\u003cbr\\\\u003e\\\\nline (and also includes a newline, unlike in C). There are two major Python \\\\u003cbr\\\\u003e\\\\nversions,&nbsp;...\",\\n   \"cacheId\": \"ElcIxWQWBaMJ\",\\n   \"formattedUrl\": \"https://www.learnpython.org/en/Hello%2C_World%21\",\\n   \"htmlFormattedUrl\": \"https://www.learnpython.org/en/\\\\u003cb\\\\u003eHello\\\\u003c/b\\\\u003e%2C_\\\\u003cb\\\\u003eWorld\\\\u003c/b\\\\u003e%21\",\\n   \"pagemap\": {\\n    \"cse_thumbnail\": [\\n     {\\n      \"width\": \"200\",\\n      \"height\": \"200\",\\n      \"src\": \"https://encrypted-tbn3.gstatic.com/images?q=tbn:ANd9GcSgbQzN87YWgRywHA3dQlPZbuSfPCFjzGSSCtLVOsDBAAgkdRdWjpFu4BE\"\\n     }\\n    ],\\n    \"metatags\": [\\n     {\\n      \"viewport\": \"width=device-width, initial-scale=1\",\\n      \"og:title\": \"Hello, World! - Learn Python - Free Interactive Python Tutorial\",\\n      \"og:type\": \"website\",\\n      \"og:url\": \"http://learnpython.org/\",\\n      \"og:image\": \"http://learnpython.org/static/img/share-logos/learnpython-share.png\"\\n     }\\n    ],\\n    \"cse_image\": [\\n     {\\n      \"src\": \"http://learnpython.org/static/img/share-logos/learnpython-share.png\"\\n     }\\n    ]\\n   }\\n  },\\n  {\\n   \"kind\": \"customsearch#result\",\\n   \"title\": \"Express \\\\\"Hello World\\\\\" example\",\\n   \"htmlTitle\": \"Express &quot;\\\\u003cb\\\\u003eHello World\\\\u003c/b\\\\u003e&quot; example\",\\n   \"link\": \"http://expressjs.com/starter/hello-world.html\",\\n   \"displayLink\": \"expressjs.com\",\\n   \"snippet\": \"Hello world example. Embedded below is essentially the simplest Express app \\\\nyou can create. It is a single file app — not what you\\'d get if you use the Express \\\\ngenerator, which creates the scaffolding for a full app with numerous JavaScript \\\\nfiles, Jade templates, and sub-directories for various purposes.\",\\n   \"htmlSnippet\": \"\\\\u003cb\\\\u003eHello world\\\\u003c/b\\\\u003e example. Embedded below is essentially the simplest Express app \\\\u003cbr\\\\u003e\\\\nyou can create. It is a single file app — not what you&#39;d get if you use the Express \\\\u003cbr\\\\u003e\\\\ngenerator, which creates the scaffolding for a full app with numerous JavaScript \\\\u003cbr\\\\u003e\\\\nfiles, Jade templates, and sub-directories for various purposes.\",\\n   \"cacheId\": \"Hw3sVSYmP5wJ\",\\n   \"formattedUrl\": \"expressjs.com/starter/hello-world.html\",\\n   \"htmlFormattedUrl\": \"expressjs.com/starter/\\\\u003cb\\\\u003ehello\\\\u003c/b\\\\u003e-\\\\u003cb\\\\u003eworld\\\\u003c/b\\\\u003e.html\",\\n   \"pagemap\": {\\n    \"metatags\": [\\n     {\\n      \"viewport\": \"width=device-width, initial-scale=1\"\\n     }\\n    ]\\n   }\\n  },\\n  {\\n   \"kind\": \"customsearch#result\",\\n   \"title\": \"Hello World: Explore the Tech World Outside Silicon Valley With ...\",\\n   \"htmlTitle\": \"\\\\u003cb\\\\u003eHello World\\\\u003c/b\\\\u003e: Explore the Tech World Outside Silicon Valley With ...\",\\n   \"link\": \"https://www.bloomberg.com/features/2016-hello-world/\",\\n   \"displayLink\": \"www.bloomberg.com\",\\n   \"snippet\": \"Hello World invites the viewer to come on a journey. It\\'s a journey that stretches \\\\nacross the globe to find the inventors, scientists and technologists shaping our \\\\nfuture. Each episode explores a different country and uncovers the ways in which \\\\nthe local culture and surroundings have influenced their approach to technology.\",\\n   \"htmlSnippet\": \"\\\\u003cb\\\\u003eHello World\\\\u003c/b\\\\u003e invites the viewer to come on a journey. It&#39;s a journey that stretches \\\\u003cbr\\\\u003e\\\\nacross the globe to find the inventors, scientists and technologists shaping our \\\\u003cbr\\\\u003e\\\\nfuture. Each episode explores a different country and uncovers the ways in which \\\\u003cbr\\\\u003e\\\\nthe local culture and surroundings have influenced their approach to technology.\",\\n   \"cacheId\": \"6nOsd_DyEEsJ\",\\n   \"formattedUrl\": \"https://www.bloomberg.com/features/2016-hello-world/\",\\n   \"htmlFormattedUrl\": \"https://www.bloomberg.com/features/2016-\\\\u003cb\\\\u003ehello\\\\u003c/b\\\\u003e-\\\\u003cb\\\\u003eworld\\\\u003c/b\\\\u003e/\",\\n   \"pagemap\": {\\n    \"cse_thumbnail\": [\\n     {\\n      \"width\": \"310\",\\n      \"height\": \"163\",\\n      \"src\": \"https://encrypted-tbn0.gstatic.com/images?q=tbn:ANd9GcTt4c64YU9cST0Co0neitXtNahING6rPU20J5FFoLOb48HA84ez7pYtRB4\"\\n     }\\n    ],\\n    \"metatags\": [\\n     {\\n      \"viewport\": \"width=device-width, initial-scale=1\",\\n      \"og:site_name\": \"Bloomberg.com\",\\n      \"og:title\": \"Goodbye, Silicon Valley. Hello World\",\\n      \"og:longtitle\": \"Goodbye, Silicon Valley. Hello World\",\\n      \"og:image\": \"http://www.bloomberg.com/features/2016-hello-world/img/HW-social1.jpg\",\\n      \"og:description\": \"Join journalist and best-selling author Ashlee Vance on a quest far beyond Silicon Valley to find the freshest, weirdest tech creations and the beautiful freaks behind them.\",\\n      \"og:url\": \"http://www.bloomberg.com/features/2016-hello-world/\",\\n      \"parsely-type\": \"post\",\\n      \"parsely-section\": \"technology\",\\n      \"parsely-title\": \"Goodbye, Silicon Valley. Hello World\",\\n      \"parsely-post-id\": \"2016-hello-world\",\\n      \"parsely-link\": \"http://www.bloomberg.com/features/2016-hello-world/\",\\n      \"parsely-image-url\": \"http://www.bloomberg.com/features/2016-hello-world/img/HW-social1.jpg\",\\n      \"parsely-tags\": \"Bloomberg Business, Hello World, Technology, Global Tech, Innovation\",\\n      \"parsely-author\": \"Ashlee Vance\",\\n      \"parsely-pub-date\": \"2016-03-09T10:30:00+04:00\",\\n      \"og:type\": \"article\",\\n      \"twitter:card\": \"summary\",\\n      \"twitter:site\": \"@bloomberg\"\\n     }\\n    ],\\n    \"cse_image\": [\\n     {\\n      \"src\": \"http://www.bloomberg.com/features/2016-hello-world/img/HW-social1.jpg\"\\n     }\\n    ]\\n   }\\n  },\\n  {\\n   \"kind\": \"customsearch#result\",\\n   \"title\": \"Hello World\",\\n   \"htmlTitle\": \"\\\\u003cb\\\\u003eHello World\\\\u003c/b\\\\u003e\",\\n   \"link\": \"https://hub.docker.com/_/hello-world/\",\\n   \"displayLink\": \"hub.docker.com\",\\n   \"snippet\": \"To try something more ambitious, you can run an Ubuntu container with: $ docker \\\\nrun -it ubuntu bash Share images, automate workflows, and more with a free \\\\nDocker ID: https://cloud.docker.com/ For more examples and ideas, visit: https://\\\\ndocs.docker.com/engine/userguide/ $ docker images hello-world REPOSITORY \\\\nTAG\\xa0...\",\\n   \"htmlSnippet\": \"To try something more ambitious, you can run an Ubuntu container with: $ docker \\\\u003cbr\\\\u003e\\\\nrun -it ubuntu bash Share images, automate workflows, and more with a free \\\\u003cbr\\\\u003e\\\\nDocker ID: https://cloud.docker.com/ For more examples and ideas, visit: https://\\\\u003cbr\\\\u003e\\\\ndocs.docker.com/engine/userguide/ $ docker images \\\\u003cb\\\\u003ehello\\\\u003c/b\\\\u003e-\\\\u003cb\\\\u003eworld\\\\u003c/b\\\\u003e REPOSITORY \\\\u003cbr\\\\u003e\\\\nTAG&nbsp;...\",\\n   \"cacheId\": \"nlyVMP_uQ_8J\",\\n   \"formattedUrl\": \"https://hub.docker.com/_/hello-world/\",\\n   \"htmlFormattedUrl\": \"https://hub.docker.com/_/\\\\u003cb\\\\u003ehello\\\\u003c/b\\\\u003e-\\\\u003cb\\\\u003eworld\\\\u003c/b\\\\u003e/\",\\n   \"pagemap\": {\\n    \"metatags\": [\\n     {\\n      \"viewport\": \"width=device-width, initial-scale=1\"\\n     }\\n    ]\\n   }\\n  },\\n  {\\n   \"kind\": \"customsearch#result\",\\n   \"title\": \"Helloworld Travel – Deals on Accommodation, Flights, Cruises and ...\",\\n   \"htmlTitle\": \"\\\\u003cb\\\\u003eHelloworld\\\\u003c/b\\\\u003e Travel – Deals on Accommodation, Flights, Cruises and ...\",\\n   \"link\": \"https://www.helloworld.com.au/\",\\n   \"displayLink\": \"www.helloworld.com.au\",\\n   \"snippet\": \"Discover the best deals on flights, hotels, cruises and holiday packages at \\\\nHelloworld Travel. Book online or find your nearest Helloworld Travel agency \\\\ntoday.\",\\n   \"htmlSnippet\": \"Discover the best deals on flights, hotels, cruises and holiday packages at \\\\u003cbr\\\\u003e\\\\n\\\\u003cb\\\\u003eHelloworld\\\\u003c/b\\\\u003e Travel. Book online or find your nearest \\\\u003cb\\\\u003eHelloworld\\\\u003c/b\\\\u003e Travel agency \\\\u003cbr\\\\u003e\\\\ntoday.\",\\n   \"cacheId\": \"53mF80H0q9cJ\",\\n   \"formattedUrl\": \"https://www.helloworld.com.au/\",\\n   \"htmlFormattedUrl\": \"https://www.\\\\u003cb\\\\u003ehelloworld\\\\u003c/b\\\\u003e.com.au/\",\\n   \"pagemap\": {\\n    \"cse_thumbnail\": [\\n     {\\n      \"width\": \"309\",\\n      \"height\": \"163\",\\n      \"src\": \"https://encrypted-tbn0.gstatic.com/images?q=tbn:ANd9GcQlQjUFfEDvZnpWgho1gc6Wt_RH5u6YO7_V6mEG2_ECA5Vf207Sz3H468A\"\\n     }\\n    ],\\n    \"metatags\": [\\n     {\\n      \"viewport\": \"width=device-width, initial-scale=1.0, maximum-scale=1.0, user-scalable=no\",\\n      \"com.silverpop.brandeddomains\": \"www.pages03.net,www.helloworld.com.au\"\\n     }\\n    ],\\n    \"cse_image\": [\\n     {\\n      \"src\": \"https://cdnimages-live.azureedge.net/cdn/HomePage/homepage-background.png?v=4329\"\\n     }\\n    ]\\n   }\\n  },\\n  {\\n   \"kind\": \"customsearch#result\",\\n   \"title\": \"Hello World Communications | NYC Video & Virtual Reality ...\",\\n   \"htmlTitle\": \"\\\\u003cb\\\\u003eHello World\\\\u003c/b\\\\u003e Communications | NYC Video &amp; Virtual Reality ...\",\\n   \"link\": \"http://hwc.tv/\",\\n   \"displayLink\": \"hwc.tv\",\\n   \"snippet\": \"Hello World - Video & Virtual Reality production company renting latest audio, \\\\nvideo, lighting & virtual reality tools. 7 days a week - Chelsea, New York.\",\\n   \"htmlSnippet\": \"\\\\u003cb\\\\u003eHello World\\\\u003c/b\\\\u003e - Video &amp; Virtual Reality production company renting latest audio, \\\\u003cbr\\\\u003e\\\\nvideo, lighting &amp; virtual reality tools. 7 days a week - Chelsea, New York.\",\\n   \"cacheId\": \"JdEm-ArKThcJ\",\\n   \"formattedUrl\": \"hwc.tv/\",\\n   \"htmlFormattedUrl\": \"hwc.tv/\",\\n   \"pagemap\": {\\n    \"metatags\": [\\n     {\\n      \"author\": \"Hello World Communications\",\\n      \"viewport\": \"width=device-width, initial-scale=1, maximum-scale=1\",\\n      \"format-detection\": \"telephone=no\",\\n      \"test\": \"test try\",\\n      \"og:locale\": \"en_US\",\\n      \"og:type\": \"website\",\\n      \"og:title\": \"NYC Video & Virtual Reality Production and Rental House\",\\n      \"og:description\": \"Hello World - Video & Virtual Reality production company renting latest audio, video, lighting & virtual reality tools. 7 days a week - Chelsea, New York\",\\n      \"og:url\": \"http://hwc.tv/\",\\n      \"og:site_name\": \"Hello World Communications\"\\n     }\\n    ]\\n   }\\n  },\\n  {\\n   \"kind\": \"customsearch#result\",\\n   \"title\": \"Total immersion, Serious fun! with Hello-World!\",\\n   \"htmlTitle\": \"Total immersion, Serious fun! with \\\\u003cb\\\\u003eHello\\\\u003c/b\\\\u003e-\\\\u003cb\\\\u003eWorld\\\\u003c/b\\\\u003e!\",\\n   \"link\": \"http://www.hello-world.com/\",\\n   \"displayLink\": \"www.hello-world.com\",\\n   \"snippet\": \"Main index for hello-world: links to login and all of the languages.\",\\n   \"htmlSnippet\": \"Main index for \\\\u003cb\\\\u003ehello\\\\u003c/b\\\\u003e-\\\\u003cb\\\\u003eworld\\\\u003c/b\\\\u003e: links to login and all of the languages.\",\\n   \"cacheId\": \"wv5E7JGVQlYJ\",\\n   \"formattedUrl\": \"www.hello-world.com/\",\\n   \"htmlFormattedUrl\": \"www.\\\\u003cb\\\\u003ehello\\\\u003c/b\\\\u003e-\\\\u003cb\\\\u003eworld\\\\u003c/b\\\\u003e.com/\",\\n   \"pagemap\": {\\n    \"cse_thumbnail\": [\\n     {\\n      \"width\": \"354\",\\n      \"height\": \"142\",\\n      \"src\": \"https://encrypted-tbn1.gstatic.com/images?q=tbn:ANd9GcRRmz_KfjY4ud6pC0zfNgauMH0jHTjJlPtph1XdxzDmVBNpflnbcgC1HME\"\\n     }\\n    ],\\n    \"metatags\": [\\n     {\\n      \"viewport\": \"width=device-width, initial-scale=1.0\"\\n     }\\n    ],\\n    \"cse_image\": [\\n     {\\n      \"src\": \"http://www.hello-world.com/images/slides/English-kids.png\"\\n     }\\n    ]\\n   }\\n  }\\n ]\\n}\\n'"
      ]
     },
     "execution_count": 84,
     "metadata": {},
     "output_type": "execute_result"
    }
   ],
   "source": [
    "rst.text"
   ]
  },
  {
   "cell_type": "code",
   "execution_count": 88,
   "metadata": {
    "scrolled": true
   },
   "outputs": [
    {
     "data": {
      "text/plain": [
       "{'context': {'title': 'Chiji'},\n",
       " 'items': [{'cacheId': '_njBYFs_i0oJ',\n",
       "   'displayLink': 'zh.wikipedia.org',\n",
       "   'formattedUrl': 'https://zh.wikipedia.org/zh-hans/Hello_World',\n",
       "   'htmlFormattedUrl': 'https://zh.wikipedia.org/zh-hans/<b>Hello</b>_<b>World</b>',\n",
       "   'htmlSnippet': '<b>Hello</b>, <b>World</b>程序指的是指在计算机屏幕上输出“<b>Hello</b>, <b>World</b>!”（意为「你好，世界！」<br>\\n）这行字符串的计算机程序。一般来说，这是每一种计算机编程语言中最基本、最简单<br>\\n的程序，亦通常是初学者所编写的第一个程序。它还可以用来确定该语言的编译器、<br>\\n程序开发环境，以及运行环境是否已经安装妥當。 将输出字符串“<b>Hello World</b>”作为第<br>\\n&nbsp;...',\n",
       "   'htmlTitle': '<b>Hello World</b> - 维基百科，自由的百科全书',\n",
       "   'kind': 'customsearch#result',\n",
       "   'link': 'https://zh.wikipedia.org/zh-hans/Hello_World',\n",
       "   'pagemap': {'cse_image': [{'src': 'https://upload.wikimedia.org/wikipedia/commons/a/ae/Hello_World%21_in_AutoIt%21_3.2_on_Windows_Vista.png'}],\n",
       "    'cse_thumbnail': [{'height': '181',\n",
       "      'src': 'https://encrypted-tbn2.gstatic.com/images?q=tbn:ANd9GcT6myvXx9yR0-HmOspu7mcgzg3TxK8VKuRekVYOCYe9hoC2eMaJJXx32M7U',\n",
       "      'width': '183'}],\n",
       "    'metatags': [{'og:image': 'https://upload.wikimedia.org/wikipedia/commons/a/ae/Hello_World%21_in_AutoIt%21_3.2_on_Windows_Vista.png',\n",
       "      'referrer': 'origin-when-cross-origin'}]},\n",
       "   'snippet': 'Hello, World程序指的是指在计算机屏幕上输出“Hello, World!”（意为「你好，世界！」\\n）这行字符串的计算机程序。一般来说，这是每一种计算机编程语言中最基本、最简单\\n的程序，亦通常是初学者所编写的第一个程序。它还可以用来确定该语言的编译器、\\n程序开发环境，以及运行环境是否已经安装妥當。 将输出字符串“Hello World”作为第\\n\\xa0...',\n",
       "   'title': 'Hello World - 维基百科，自由的百科全书'},\n",
       "  {'cacheId': 'UInCiDfJyeUJ',\n",
       "   'displayLink': 'en.wikipedia.org',\n",
       "   'formattedUrl': 'https://en.wikipedia.org/wiki/%22Hello,_World!%22_program',\n",
       "   'htmlFormattedUrl': 'https://en.wikipedia.org/wiki/%22<b>Hello</b>,_<b>World</b>!%22_program',\n",
       "   'htmlSnippet': 'A &quot;<b>Hello</b>, <b>World</b>!&quot; program is a computer program that outputs or displays &quot;<b>Hello</b>, <br>\\n<b>World</b>!&quot; to a user. Being a very simple program in most programming languages, <br>\\nit is often used to illustrate the basic syntax of a programming language for a <br>\\nworking program. It is often the very first program people write when they are new <br>\\nto a&nbsp;...',\n",
       "   'htmlTitle': '&quot;<b>Hello</b>, <b>World</b>!&quot; program - Wikipedia',\n",
       "   'kind': 'customsearch#result',\n",
       "   'link': 'https://en.wikipedia.org/wiki/%22Hello,_World!%22_program',\n",
       "   'pagemap': {'cse_image': [{'src': 'https://upload.wikimedia.org/wikipedia/commons/0/0b/HelloWorld_Maktivism_ComputerProgramming_LEDs.jpg'}],\n",
       "    'cse_thumbnail': [{'height': '212',\n",
       "      'src': 'https://encrypted-tbn3.gstatic.com/images?q=tbn:ANd9GcTFLxy-NkoRc8X1raAyJEmapXg__cbu-F9ZuUs3fn__kf5vwMvqRQkmE2Y',\n",
       "      'width': '238'}],\n",
       "    'metatags': [{'og:image': 'https://upload.wikimedia.org/wikipedia/commons/0/0b/HelloWorld_Maktivism_ComputerProgramming_LEDs.jpg',\n",
       "      'referrer': 'origin-when-cross-origin'}]},\n",
       "   'snippet': 'A \"Hello, World!\" program is a computer program that outputs or displays \"Hello, \\nWorld!\" to a user. Being a very simple program in most programming languages, \\nit is often used to illustrate the basic syntax of a programming language for a \\nworking program. It is often the very first program people write when they are new \\nto a\\xa0...',\n",
       "   'title': '\"Hello, World!\" program - Wikipedia'},\n",
       "  {'cacheId': 'QaCp7ECVKlQJ',\n",
       "   'displayLink': 'www.helloworld.com',\n",
       "   'formattedUrl': 'www.helloworld.com/',\n",
       "   'htmlFormattedUrl': 'www.<b>helloworld</b>.com/',\n",
       "   'htmlSnippet': 'A powerful combination of native technology and marketing strategy allowing <br>\\nbrands to create unforgettable interactions, drive consumer demand and <br>\\naccelerate growth.',\n",
       "   'htmlTitle': '<b>HelloWorld</b>, A Merkle Company',\n",
       "   'kind': 'customsearch#result',\n",
       "   'link': 'http://www.helloworld.com/',\n",
       "   'pagemap': {'cse_image': [{'src': 'https://www.helloworld.com/img/global/social-thumbnail.jpg'}],\n",
       "    'cse_thumbnail': [{'height': '225',\n",
       "      'src': 'https://encrypted-tbn0.gstatic.com/images?q=tbn:ANd9GcQfh1sLJSuzhAVuHNEwL0UYkc1PZkxRsbAtrY-iCO1C8ayblwAynYYm_yM',\n",
       "      'width': '225'}],\n",
       "    'metatags': [{'og:description': 'A powerful combination of native technology and marketing strategy allowing brands to create unforgettable interactions, drive consumer demand and accelerate growth.',\n",
       "      'og:image': 'https://www.helloworld.com/img/global/social-thumbnail.jpg',\n",
       "      'og:title': 'HelloWorld, A Merkle Company',\n",
       "      'og:url': 'https://www.helloworld.com/https://www.helloworld.com/',\n",
       "      'twitter:card': 'summary',\n",
       "      'twitter:url': 'http://www.helloworld.com/',\n",
       "      'viewport': 'width=device-width, initial-scale=1, shrink-to-fit=no'}]},\n",
       "   'snippet': 'A powerful combination of native technology and marketing strategy allowing \\nbrands to create unforgettable interactions, drive consumer demand and \\naccelerate growth.',\n",
       "   'title': 'HelloWorld, A Merkle Company'},\n",
       "  {'cacheId': 'ElcIxWQWBaMJ',\n",
       "   'displayLink': 'www.learnpython.org',\n",
       "   'formattedUrl': 'https://www.learnpython.org/en/Hello%2C_World%21',\n",
       "   'htmlFormattedUrl': 'https://www.learnpython.org/en/<b>Hello</b>%2C_<b>World</b>%21',\n",
       "   'htmlSnippet': '<b>Hello</b>, <b>World</b>! Python is a very simple language, and has a very straightforward <br>\\nsyntax. It encourages programmers to program without boilerplate (prepared) <br>\\ncode. The simplest directive in Python is the &quot;print&quot; directive - it simply prints out a <br>\\nline (and also includes a newline, unlike in C). There are two major Python <br>\\nversions,&nbsp;...',\n",
       "   'htmlTitle': '<b>Hello</b>, <b>World</b>! - Learn Python - Free Interactive Python Tutorial',\n",
       "   'kind': 'customsearch#result',\n",
       "   'link': 'https://www.learnpython.org/en/Hello%2C_World%21',\n",
       "   'pagemap': {'cse_image': [{'src': 'http://learnpython.org/static/img/share-logos/learnpython-share.png'}],\n",
       "    'cse_thumbnail': [{'height': '200',\n",
       "      'src': 'https://encrypted-tbn3.gstatic.com/images?q=tbn:ANd9GcSgbQzN87YWgRywHA3dQlPZbuSfPCFjzGSSCtLVOsDBAAgkdRdWjpFu4BE',\n",
       "      'width': '200'}],\n",
       "    'metatags': [{'og:image': 'http://learnpython.org/static/img/share-logos/learnpython-share.png',\n",
       "      'og:title': 'Hello, World! - Learn Python - Free Interactive Python Tutorial',\n",
       "      'og:type': 'website',\n",
       "      'og:url': 'http://learnpython.org/',\n",
       "      'viewport': 'width=device-width, initial-scale=1'}]},\n",
       "   'snippet': 'Hello, World! Python is a very simple language, and has a very straightforward \\nsyntax. It encourages programmers to program without boilerplate (prepared) \\ncode. The simplest directive in Python is the \"print\" directive - it simply prints out a \\nline (and also includes a newline, unlike in C). There are two major Python \\nversions,\\xa0...',\n",
       "   'title': 'Hello, World! - Learn Python - Free Interactive Python Tutorial'},\n",
       "  {'cacheId': 'Hw3sVSYmP5wJ',\n",
       "   'displayLink': 'expressjs.com',\n",
       "   'formattedUrl': 'expressjs.com/starter/hello-world.html',\n",
       "   'htmlFormattedUrl': 'expressjs.com/starter/<b>hello</b>-<b>world</b>.html',\n",
       "   'htmlSnippet': '<b>Hello world</b> example. Embedded below is essentially the simplest Express app <br>\\nyou can create. It is a single file app — not what you&#39;d get if you use the Express <br>\\ngenerator, which creates the scaffolding for a full app with numerous JavaScript <br>\\nfiles, Jade templates, and sub-directories for various purposes.',\n",
       "   'htmlTitle': 'Express &quot;<b>Hello World</b>&quot; example',\n",
       "   'kind': 'customsearch#result',\n",
       "   'link': 'http://expressjs.com/starter/hello-world.html',\n",
       "   'pagemap': {'metatags': [{'viewport': 'width=device-width, initial-scale=1'}]},\n",
       "   'snippet': \"Hello world example. Embedded below is essentially the simplest Express app \\nyou can create. It is a single file app — not what you'd get if you use the Express \\ngenerator, which creates the scaffolding for a full app with numerous JavaScript \\nfiles, Jade templates, and sub-directories for various purposes.\",\n",
       "   'title': 'Express \"Hello World\" example'},\n",
       "  {'cacheId': '6nOsd_DyEEsJ',\n",
       "   'displayLink': 'www.bloomberg.com',\n",
       "   'formattedUrl': 'https://www.bloomberg.com/features/2016-hello-world/',\n",
       "   'htmlFormattedUrl': 'https://www.bloomberg.com/features/2016-<b>hello</b>-<b>world</b>/',\n",
       "   'htmlSnippet': '<b>Hello World</b> invites the viewer to come on a journey. It&#39;s a journey that stretches <br>\\nacross the globe to find the inventors, scientists and technologists shaping our <br>\\nfuture. Each episode explores a different country and uncovers the ways in which <br>\\nthe local culture and surroundings have influenced their approach to technology.',\n",
       "   'htmlTitle': '<b>Hello World</b>: Explore the Tech World Outside Silicon Valley With ...',\n",
       "   'kind': 'customsearch#result',\n",
       "   'link': 'https://www.bloomberg.com/features/2016-hello-world/',\n",
       "   'pagemap': {'cse_image': [{'src': 'http://www.bloomberg.com/features/2016-hello-world/img/HW-social1.jpg'}],\n",
       "    'cse_thumbnail': [{'height': '163',\n",
       "      'src': 'https://encrypted-tbn0.gstatic.com/images?q=tbn:ANd9GcTt4c64YU9cST0Co0neitXtNahING6rPU20J5FFoLOb48HA84ez7pYtRB4',\n",
       "      'width': '310'}],\n",
       "    'metatags': [{'og:description': 'Join journalist and best-selling author Ashlee Vance on a quest far beyond Silicon Valley to find the freshest, weirdest tech creations and the beautiful freaks behind them.',\n",
       "      'og:image': 'http://www.bloomberg.com/features/2016-hello-world/img/HW-social1.jpg',\n",
       "      'og:longtitle': 'Goodbye, Silicon Valley. Hello World',\n",
       "      'og:site_name': 'Bloomberg.com',\n",
       "      'og:title': 'Goodbye, Silicon Valley. Hello World',\n",
       "      'og:type': 'article',\n",
       "      'og:url': 'http://www.bloomberg.com/features/2016-hello-world/',\n",
       "      'parsely-author': 'Ashlee Vance',\n",
       "      'parsely-image-url': 'http://www.bloomberg.com/features/2016-hello-world/img/HW-social1.jpg',\n",
       "      'parsely-link': 'http://www.bloomberg.com/features/2016-hello-world/',\n",
       "      'parsely-post-id': '2016-hello-world',\n",
       "      'parsely-pub-date': '2016-03-09T10:30:00+04:00',\n",
       "      'parsely-section': 'technology',\n",
       "      'parsely-tags': 'Bloomberg Business, Hello World, Technology, Global Tech, Innovation',\n",
       "      'parsely-title': 'Goodbye, Silicon Valley. Hello World',\n",
       "      'parsely-type': 'post',\n",
       "      'twitter:card': 'summary',\n",
       "      'twitter:site': '@bloomberg',\n",
       "      'viewport': 'width=device-width, initial-scale=1'}]},\n",
       "   'snippet': \"Hello World invites the viewer to come on a journey. It's a journey that stretches \\nacross the globe to find the inventors, scientists and technologists shaping our \\nfuture. Each episode explores a different country and uncovers the ways in which \\nthe local culture and surroundings have influenced their approach to technology.\",\n",
       "   'title': 'Hello World: Explore the Tech World Outside Silicon Valley With ...'},\n",
       "  {'cacheId': 'nlyVMP_uQ_8J',\n",
       "   'displayLink': 'hub.docker.com',\n",
       "   'formattedUrl': 'https://hub.docker.com/_/hello-world/',\n",
       "   'htmlFormattedUrl': 'https://hub.docker.com/_/<b>hello</b>-<b>world</b>/',\n",
       "   'htmlSnippet': 'To try something more ambitious, you can run an Ubuntu container with: $ docker <br>\\nrun -it ubuntu bash Share images, automate workflows, and more with a free <br>\\nDocker ID: https://cloud.docker.com/ For more examples and ideas, visit: https://<br>\\ndocs.docker.com/engine/userguide/ $ docker images <b>hello</b>-<b>world</b> REPOSITORY <br>\\nTAG&nbsp;...',\n",
       "   'htmlTitle': '<b>Hello World</b>',\n",
       "   'kind': 'customsearch#result',\n",
       "   'link': 'https://hub.docker.com/_/hello-world/',\n",
       "   'pagemap': {'metatags': [{'viewport': 'width=device-width, initial-scale=1'}]},\n",
       "   'snippet': 'To try something more ambitious, you can run an Ubuntu container with: $ docker \\nrun -it ubuntu bash Share images, automate workflows, and more with a free \\nDocker ID: https://cloud.docker.com/ For more examples and ideas, visit: https://\\ndocs.docker.com/engine/userguide/ $ docker images hello-world REPOSITORY \\nTAG\\xa0...',\n",
       "   'title': 'Hello World'},\n",
       "  {'cacheId': '53mF80H0q9cJ',\n",
       "   'displayLink': 'www.helloworld.com.au',\n",
       "   'formattedUrl': 'https://www.helloworld.com.au/',\n",
       "   'htmlFormattedUrl': 'https://www.<b>helloworld</b>.com.au/',\n",
       "   'htmlSnippet': 'Discover the best deals on flights, hotels, cruises and holiday packages at <br>\\n<b>Helloworld</b> Travel. Book online or find your nearest <b>Helloworld</b> Travel agency <br>\\ntoday.',\n",
       "   'htmlTitle': '<b>Helloworld</b> Travel – Deals on Accommodation, Flights, Cruises and ...',\n",
       "   'kind': 'customsearch#result',\n",
       "   'link': 'https://www.helloworld.com.au/',\n",
       "   'pagemap': {'cse_image': [{'src': 'https://cdnimages-live.azureedge.net/cdn/HomePage/homepage-background.png?v=4329'}],\n",
       "    'cse_thumbnail': [{'height': '163',\n",
       "      'src': 'https://encrypted-tbn0.gstatic.com/images?q=tbn:ANd9GcQlQjUFfEDvZnpWgho1gc6Wt_RH5u6YO7_V6mEG2_ECA5Vf207Sz3H468A',\n",
       "      'width': '309'}],\n",
       "    'metatags': [{'com.silverpop.brandeddomains': 'www.pages03.net,www.helloworld.com.au',\n",
       "      'viewport': 'width=device-width, initial-scale=1.0, maximum-scale=1.0, user-scalable=no'}]},\n",
       "   'snippet': 'Discover the best deals on flights, hotels, cruises and holiday packages at \\nHelloworld Travel. Book online or find your nearest Helloworld Travel agency \\ntoday.',\n",
       "   'title': 'Helloworld Travel – Deals on Accommodation, Flights, Cruises and ...'},\n",
       "  {'cacheId': 'JdEm-ArKThcJ',\n",
       "   'displayLink': 'hwc.tv',\n",
       "   'formattedUrl': 'hwc.tv/',\n",
       "   'htmlFormattedUrl': 'hwc.tv/',\n",
       "   'htmlSnippet': '<b>Hello World</b> - Video &amp; Virtual Reality production company renting latest audio, <br>\\nvideo, lighting &amp; virtual reality tools. 7 days a week - Chelsea, New York.',\n",
       "   'htmlTitle': '<b>Hello World</b> Communications | NYC Video &amp; Virtual Reality ...',\n",
       "   'kind': 'customsearch#result',\n",
       "   'link': 'http://hwc.tv/',\n",
       "   'pagemap': {'metatags': [{'author': 'Hello World Communications',\n",
       "      'format-detection': 'telephone=no',\n",
       "      'og:description': 'Hello World - Video & Virtual Reality production company renting latest audio, video, lighting & virtual reality tools. 7 days a week - Chelsea, New York',\n",
       "      'og:locale': 'en_US',\n",
       "      'og:site_name': 'Hello World Communications',\n",
       "      'og:title': 'NYC Video & Virtual Reality Production and Rental House',\n",
       "      'og:type': 'website',\n",
       "      'og:url': 'http://hwc.tv/',\n",
       "      'test': 'test try',\n",
       "      'viewport': 'width=device-width, initial-scale=1, maximum-scale=1'}]},\n",
       "   'snippet': 'Hello World - Video & Virtual Reality production company renting latest audio, \\nvideo, lighting & virtual reality tools. 7 days a week - Chelsea, New York.',\n",
       "   'title': 'Hello World Communications | NYC Video & Virtual Reality ...'},\n",
       "  {'cacheId': 'wv5E7JGVQlYJ',\n",
       "   'displayLink': 'www.hello-world.com',\n",
       "   'formattedUrl': 'www.hello-world.com/',\n",
       "   'htmlFormattedUrl': 'www.<b>hello</b>-<b>world</b>.com/',\n",
       "   'htmlSnippet': 'Main index for <b>hello</b>-<b>world</b>: links to login and all of the languages.',\n",
       "   'htmlTitle': 'Total immersion, Serious fun! with <b>Hello</b>-<b>World</b>!',\n",
       "   'kind': 'customsearch#result',\n",
       "   'link': 'http://www.hello-world.com/',\n",
       "   'pagemap': {'cse_image': [{'src': 'http://www.hello-world.com/images/slides/English-kids.png'}],\n",
       "    'cse_thumbnail': [{'height': '142',\n",
       "      'src': 'https://encrypted-tbn1.gstatic.com/images?q=tbn:ANd9GcRRmz_KfjY4ud6pC0zfNgauMH0jHTjJlPtph1XdxzDmVBNpflnbcgC1HME',\n",
       "      'width': '354'}],\n",
       "    'metatags': [{'viewport': 'width=device-width, initial-scale=1.0'}]},\n",
       "   'snippet': 'Main index for hello-world: links to login and all of the languages.',\n",
       "   'title': 'Total immersion, Serious fun! with Hello-World!'}],\n",
       " 'kind': 'customsearch#search',\n",
       " 'queries': {'nextPage': [{'count': 10,\n",
       "    'cx': '018331586364722641289:r3cvkpozqwq',\n",
       "    'inputEncoding': 'utf8',\n",
       "    'outputEncoding': 'utf8',\n",
       "    'safe': 'off',\n",
       "    'searchTerms': 'hello world',\n",
       "    'startIndex': 11,\n",
       "    'title': 'Google Custom Search - hello world',\n",
       "    'totalResults': '65500000'}],\n",
       "  'request': [{'count': 10,\n",
       "    'cx': '018331586364722641289:r3cvkpozqwq',\n",
       "    'inputEncoding': 'utf8',\n",
       "    'outputEncoding': 'utf8',\n",
       "    'safe': 'off',\n",
       "    'searchTerms': 'hello world',\n",
       "    'startIndex': 1,\n",
       "    'title': 'Google Custom Search - hello world',\n",
       "    'totalResults': '65500000'}]},\n",
       " 'searchInformation': {'formattedSearchTime': '0.53',\n",
       "  'formattedTotalResults': '65,500,000',\n",
       "  'searchTime': 0.53187,\n",
       "  'totalResults': '65500000'},\n",
       " 'url': {'template': 'https://www.googleapis.com/customsearch/v1?q={searchTerms}&num={count?}&start={startIndex?}&lr={language?}&safe={safe?}&cx={cx?}&sort={sort?}&filter={filter?}&gl={gl?}&cr={cr?}&googlehost={googleHost?}&c2coff={disableCnTwTranslation?}&hq={hq?}&hl={hl?}&siteSearch={siteSearch?}&siteSearchFilter={siteSearchFilter?}&exactTerms={exactTerms?}&excludeTerms={excludeTerms?}&linkSite={linkSite?}&orTerms={orTerms?}&relatedSite={relatedSite?}&dateRestrict={dateRestrict?}&lowRange={lowRange?}&highRange={highRange?}&searchType={searchType}&fileType={fileType?}&rights={rights?}&imgSize={imgSize?}&imgType={imgType?}&imgColorType={imgColorType?}&imgDominantColor={imgDominantColor?}&alt=json',\n",
       "  'type': 'application/json'}}"
      ]
     },
     "execution_count": 88,
     "metadata": {},
     "output_type": "execute_result"
    }
   ],
   "source": [
    "rst = json.loads(rst.text)\n",
    "rst"
   ]
  },
  {
   "cell_type": "code",
   "execution_count": null,
   "metadata": {
    "collapsed": true
   },
   "outputs": [],
   "source": []
  },
  {
   "cell_type": "code",
   "execution_count": 59,
   "metadata": {
    "collapsed": true
   },
   "outputs": [],
   "source": [
    "def occur_count(s,words):\n",
    "    n = 0\n",
    "    for word in words:\n",
    "        n += len(re.findall(word, s))\n",
    "    return n\n",
    "\n",
    "\n",
    "def score(search_rst, opts_words_search):\n",
    "    scores = [0 for i in opts_words_search]\n",
    "    decay = 0.5\n",
    "    weight = 1\n",
    "    \n",
    "    for c in search_rst:\n",
    "        title = c['title']\n",
    "        abstract = c['abstract']\n",
    "        \n",
    "        b_find_any = False\n",
    "        for i, opt_words in enumerate(opts_words_search):\n",
    "            for w in opt_words:\n",
    "                if w in title:\n",
    "                    scores[i] += weight\n",
    "                    b_find_any = True\n",
    "                    break\n",
    "                elif w in abstract:\n",
    "                    scores[i] += weight * 0.5\n",
    "                    b_find_any = True\n",
    "                    break\n",
    "    \n",
    "        if b_find_any:\n",
    "            weight *= decay\n",
    "        \n",
    "    return scores"
   ]
  },
  {
   "cell_type": "code",
   "execution_count": 13,
   "metadata": {
    "collapsed": true
   },
   "outputs": [],
   "source": [
    "def keywords(question, opt_a, opt_b, opt_c):\n",
    "    quest_words = jieba.analyse.extract_tags(question, allowPOS=['n','nr','ns','nt','nz','nl','ng'])\n",
    "    opt_words = jieba.analyse.extract_tags(' '.join([opt_a,opt_b,opt_c]), allowPOS=['n','nr','ns','nt','nz','nl','ng'])\n",
    "    words = quest_words + opt_words\n",
    "    return words"
   ]
  },
  {
   "cell_type": "code",
   "execution_count": 14,
   "metadata": {
    "collapsed": true
   },
   "outputs": [],
   "source": [
    "def dump_question(question, opt_a, opt_b, opt_c):\n",
    "    with open('questions.txt','a+') as f:\n",
    "        f.write(','.join([question, opt_a, opt_b, opt_c]) + '\\n')"
   ]
  },
  {
   "cell_type": "code",
   "execution_count": 60,
   "metadata": {
    "collapsed": true
   },
   "outputs": [],
   "source": [
    "def search_ans(question, opt_a, opt_b, opt_c):\n",
    "\n",
    "    # question might be too long\n",
    "    len_q = len(question)\n",
    "    len_opt = len(opt_a) + len(opt_b) + len(opt_c)\n",
    "\n",
    "    if len_q + len_opt > 37:\n",
    "        words = jieba.analyse.extract_tags(question)\n",
    "        quest_words = []\n",
    "        l = 0\n",
    "\n",
    "        for w in reversed(words):\n",
    "            l += len(w)\n",
    "            if l < 37 - len_opt:\n",
    "                quest_words.append(w)\n",
    "            else:\n",
    "                break\n",
    "\n",
    "    else:\n",
    "        quest_words = [question]\n",
    "\n",
    "    opts = [opt_a, opt_b, opt_c]\n",
    "    opt_words = []\n",
    "\n",
    "    for opt in opts:\n",
    "#             opt_words.append(list(map(lambda p:p.word, filter(lambda p:p.flag.startswith('n'), \n",
    "#                                                  jieba.posseg.cut(opt)))))\n",
    "        if len(opt) > 4:\n",
    "            opt_words.append(jieba.analyse.extract_tags(opt))\n",
    "        else:\n",
    "            opt_words.append([opt])\n",
    "\n",
    "#         rst = search(question)\n",
    "#         time.sleep(0.1)\n",
    "#         rst += search('%20'.join(quest_words))\n",
    "    search_rst = search_advanced(quest_words, opt_words, return_string=False)\n",
    "#         print(rst)\n",
    "\n",
    "\n",
    "    opt_w_search = [jieba.lcut_for_search(o) for o in opts]\n",
    "\n",
    "    # 选项间去重, 仍然有bug：如:\"A. 金，B. 金刚石\"的场景\n",
    "    common_words = set(opt_w_search[0]).intersection(set(opt_w_search[1])).intersection(set(opt_w_search[2]))\n",
    "\n",
    "    if len(common_words) != 0:\n",
    "        opt_w_search_reduced = [list(filter(lambda word:not word in common_words, opt_w)) for opt_w in opt_w_search]\n",
    "        opt_w_search_reduced = [opt_w_search_reduced[i] if len(opt_w_search_reduced[i]) > 0 else opt_w_search[i]\\\n",
    "                               for i in range(3)]\n",
    "    else:\n",
    "        opt_w_search_reduced = opt_w_search\n",
    "#     print(opt_w_search_reduced)\n",
    "\n",
    "\n",
    "    scores = score(search_rst, opt_w_search_reduced)\n",
    "    # 考虑反向问题，比方说在战国初期下列哪一个国家*未*与燕国相邻?\n",
    "    neg_words = ['不','未','没有']\n",
    "\n",
    "    neg_question = False\n",
    "    for nw in neg_words:\n",
    "        if nw in question:\n",
    "            neg_question = True\n",
    "#             print('!!!!!!!!!!!!!!!!!!!!!!!!!!!!!!!!!!!!!!!!!!!!!')\n",
    "#             print('!!               疑似反向问题              !!!')\n",
    "#             print('!!!!!!!!!!!!!!!!!!!!!!!!!!!!!!!!!!!!!!!!!!!!!')\n",
    "            display(HTML('<h2>疑似反向问题!!</h2>'))\n",
    "            break\n",
    "\n",
    "    ans = [('A',opt_a,scores[0]),\n",
    "          ('B',opt_b,scores[1]),\n",
    "          ('C',opt_c,scores[2])]\n",
    "\n",
    "    print('question:', question)\n",
    "    for p in sorted(ans, key=lambda p:p[2], reverse=True):\n",
    "        print(p)\n",
    "\n",
    "    # Show top search result\n",
    "#     print('----------------------------')\n",
    "    for i in range(2):\n",
    "#         print(rst_soup.select('.c-container')[i])\n",
    "        display(HTML(search_rst[i]['html']))\n",
    "#     print('----------------------------')\n",
    "\n",
    "#         go_search(question)\n",
    "\n",
    "    dump_question(question, opt_a, opt_b, opt_c)"
   ]
  },
  {
   "cell_type": "code",
   "execution_count": 16,
   "metadata": {
    "collapsed": true,
    "scrolled": false
   },
   "outputs": [],
   "source": [
    "def search_ans_from_pic(im, game='baiwan'):\n",
    "    print('Parsing pic...')\n",
    "    \n",
    "    if game == 'baiwan':\n",
    "        #百万英雄\n",
    "        question, opt_a, opt_b, opt_c = ocr(im,\n",
    "                       [(300,600,0,1080),\n",
    "                       (655,815,0,1080),\n",
    "                       (845,1005,0,1080),\n",
    "                       (1035,1200,0,1080)])\n",
    "    elif game == 'zhishi':\n",
    "        #芝士超人\n",
    "        question, opt_a, opt_b, opt_c = ocr(im,\n",
    "                       [(280,580,0,1080),\n",
    "                       (580,735,0,1080),\n",
    "                       (775,930,0,1080),\n",
    "                       (970,1125,0,1080)])\n",
    "    elif game == 'chongding':\n",
    "        #冲顶大会\n",
    "        question, opt_a, opt_b, opt_c = ocr(im,\n",
    "                       [(305,645,0,1080),\n",
    "                       (645,775,0,1080),\n",
    "                       (805,940,0,1080),\n",
    "                       (970,1105,0,1080)])\n",
    "    else:\n",
    "        return\n",
    "\n",
    "    if question != '':\n",
    "        search_ans(question, opt_a, opt_b, opt_c)\n",
    "\n",
    "    else:\n",
    "        print('No question found!')"
   ]
  },
  {
   "cell_type": "code",
   "execution_count": 33,
   "metadata": {
    "collapsed": true
   },
   "outputs": [],
   "source": [
    "im = cv2.imread('./tmp/screenshot.png')\n",
    "im = im[:1200,:,:]"
   ]
  },
  {
   "cell_type": "code",
   "execution_count": 55,
   "metadata": {},
   "outputs": [
    {
     "name": "stdout",
     "output_type": "stream",
     "text": [
      "Parsing pic...\n",
      "http://www.baidu.com/s?q1=以下三条河流的对比中哪条河流最长?&q2=&q3=多瑙河+湄公河+伏尔塔瓦河&q4=&rn=50\n",
      "question: 以下三条河流的对比中哪条河流最长?\n",
      "('B', '湄公河', 11.295331915130564)\n",
      "('A', '多瑙河', 10.807949355504448)\n",
      "('C', '伏尔塔瓦河', 1.7976801034539482)\n"
     ]
    }
   ],
   "source": [
    "search_ans_from_pic(im, game='baiwan')"
   ]
  },
  {
   "cell_type": "code",
   "execution_count": 77,
   "metadata": {},
   "outputs": [
    {
     "name": "stdout",
     "output_type": "stream",
     "text": [
      "\n",
      "Parsing pic...\n",
      "http://www.baidu.com/s?q1=青蛙不用以下哪个部位呼吸?&q2=&q3=皮肤+鳃+肺&q4=&rn=50\n",
      "[['皮肤'], ['鳃'], ['肺']]\n",
      "疑似反向问题!!!\n",
      "question: 青蛙不用以下哪个部位呼吸?\n",
      "('C', '肺', 20.915066816504748)\n",
      "('A', '皮肤', 14.867261847476597)\n",
      "('B', '鳃', 9.994120968005296)\n",
      "----------------------------\n",
      "\n",
      "青蛙用呼吸 A.鳃 B.肺 C.肺和皮肤 D.皮肤——精英家教网——A、幼体生活在水中,用鳃呼吸,成体可水陆两栖生活,用肺呼吸,皮肤辅助呼吸 B、幼体和成体都可以在水中 C、成体既可以生活在水中,又可以生活在陆地上 D、幼体生活...www.1010jiajiao.com/ti...  - 百度快照\n",
      "----------------------------\n",
      "\n",
      "\n",
      "Parsing pic...\n",
      "http://www.baidu.com/s?q1=我们可以欣赏到“日出\"“日落”的美景是因为?&q2=&q3=地球自转+地球公转+太阳自转&q4=&rn=50\n",
      "[['地球', '自转'], ['地球', '公转'], ['太阳', '自转']]\n",
      "question: 我们可以欣赏到“日出\"“日落”的美景是因为?\n",
      "('A', '地球自转', 21.75285516194903)\n",
      "('B', '地球公转', 21.75285516194903)\n",
      "('C', '太阳自转', 21.06032116612455)\n",
      "----------------------------\n",
      "\n",
      "地球自转_芒克,G.J.F.麦克唐纳_孔夫子旧书网2016年6月12日 - 印刷时间:印数:装订:平装版次:开本:32开 页数: 字数: I S B N:举报 售价:5.00元 品相:八品 运费:北京市海淀区 至 北京市东城区  挂号印刷品:7.00...book.kongfz.com/17747/...  - 百度快照\n",
      "----------------------------\n",
      "\n",
      "\n",
      "Parsing pic...\n",
      "http://www.baidu.com/s?q1=舞蹈《干手观音》是哪一年登上春晚舞台的?&q2=&q3=2003+2004+2005&q4=&rn=50\n",
      "[['2003'], ['2004'], ['2005']]\n",
      "question: 舞蹈《干手观音》是哪一年登上春晚舞台的?\n",
      "('C', '2005年', 19.90937030361512)\n",
      "('B', '2004年', 2.5844210188079284)\n",
      "('A', '2003年', 1.564083984789052)\n",
      "----------------------------\n",
      "\n",
      "2004 - 2015年 的节目单2015年11月16日 - 2005-08-11 [少]电视节目低俗化 2005-08-12 “人才”是个大问题 2005-08-15 抗日战争时期的香港 2005-08-16 抗日战争时期的香港2 2005-08-...https://www.douban.com/group/t...  - 百度快照\n",
      "----------------------------\n",
      "\n",
      "\n",
      "Parsing pic...\n",
      "No question found!\n",
      "\n",
      "Parsing pic...\n",
      "http://www.baidu.com/s?q1=电影《中国合伙人》中由主角创办的英语学校叫什么名字?&q2=&q3=新希望+新东方+新梦想&q4=&rn=50\n",
      "[['新', '希望'], ['新东', '东方', '新东方'], ['新', '梦想']]\n",
      "question: 电影《中国合伙人》中由主角创办的英语学校叫什么名字?\n",
      "('A', '新希望', 21.21076878208812)\n",
      "('C', '新梦想', 21.21076878208812)\n",
      "('B', '新东方', 18.835872697494867)\n",
      "----------------------------\n",
      "\n",
      "新东方在线官网_新东方旗下远程教育网站,新东方网络课堂,新东方...英语学习人群专属零基础课程经典新概念内容 新东方功勋教师主讲 自然拼音(自然拼读)精讲 适用于任何年龄段的零基础发音课程从拼读字母到拼读单词 带你轻松英语入门 外...www.koolearn.com/  - 百度快照 - 927条评价\n",
      "----------------------------\n",
      "\n",
      "q\n"
     ]
    }
   ],
   "source": [
    "while True:\n",
    "    ipt = input()\n",
    "    if ipt == 'q':\n",
    "        break\n",
    "    else:\n",
    "        im = capture_img()\n",
    "        search_ans_from_pic(im[:1200,:,:], game='baiwan')"
   ]
  },
  {
   "cell_type": "code",
   "execution_count": 61,
   "metadata": {
    "scrolled": false
   },
   "outputs": [
    {
     "name": "stdout",
     "output_type": "stream",
     "text": [
      "http://www.baidu.com/s?q1=以下哪个海沟最深?&q2=&q3=马里亚纳+海沟+波多黎各+海沟+海沟+菲律宾&q4=&rn=50\n",
      "question: 以下哪个海沟最深?\n",
      "('A', '马里亚纳海沟', 1.4298410713672638)\n",
      "('C', '菲律宾海沟', 1.046264659613371)\n",
      "('B', '波多黎各海沟', 0.0068359375)\n"
     ]
    },
    {
     "data": {
      "text/html": [
       "<div class=\"result c-container \" data-click=\"{'rsv_bdr':'0' }\" id=\"1\" srcid=\"1528\" tpl=\"se_com_default\"><h3 class=\"t\"><a data-click=\"{\n",
       "\t\t\t'F':'778717EA',\n",
       "\t\t\t'F1':'9D73B1E4',\n",
       "\t\t\t'F2':'4CA6DE6B',\n",
       "\t\t\t'F3':'54E5243F',\n",
       "\t\t\t'T':'1516004525',\n",
       "\t\t\t\t\t\t'y':'5FB7FF35'\n",
       "\t\t\t \n",
       "\t\t\t\t\t\t\t\t\t}\" href=\"http://www.baidu.com/link?url=rfQGcw7RU60PgnhRnRNQWh92W91_c-JQ7RpbQblLTmrIoSxkJPTuetcG8_HRXjb7S0dCFkGcYgxAALIczrq8ZqYbtrCfSk1uchWI0ZcH1pW\" target=\"_blank\"><em>马里亚</em>那<em>海沟</em>是在关岛还是塞班岛。_百度知道</a></h3><p class=\"f13 m\">3个回答 - 提问时间: 2016年03月25日</p><div class=\"c-abstract\">是目前所知地球上<em>最深</em>的<em>海沟</em>,该<em>海沟</em>地处北太平洋西部海床,靠近关岛的<em>马里亚纳</em>群岛的东方,该<em>海沟</em>为两个板块辐辏俯冲带,太平洋板块在这里俯冲到<em>菲律宾</em>板块(或细分出...</div><div class=\"f13\"><a class=\"c-showurl\" href=\"http://www.baidu.com/link?url=rfQGcw7RU60PgnhRnRNQWh92W91_c-JQ7RpbQblLTmrIoSxkJPTuetcG8_HRXjb7S0dCFkGcYgxAALIczrq8ZqYbtrCfSk1uchWI0ZcH1pW\" style=\"text-decoration:none;\" target=\"_blank\">https://zhidao.baidu.com/quest... </a><div class=\"c-tools\" data-tools='{\"title\":\"马里亚那海沟是在关岛还是塞班岛。_百度知道\",\"url\":\"http://www.baidu.com/link?url=rfQGcw7RU60PgnhRnRNQWh92W91_c-JQ7RpbQblLTmrIoSxkJPTuetcG8_HRXjb7S0dCFkGcYgxAALIczrq8ZqYbtrCfSk1uchWI0ZcH1pW\"}' id=\"tools_11789567424866500699_1\"><a class=\"c-tip-icon\"><i class=\"c-icon c-icon-triangle-down-g\"></i></a></div><span class=\"c-icons-outer\"><span class=\"c-icons-inner\"></span></span></div><div class=\"c-offset\"><table class=\"subLink_factory subLink_factory_right\"><tr><td class=\"first c-default \"><a href=\"http://www.baidu.com/link?url=wuVq8Xa07Xz0zBW8Q27vpYDQGP-oAt_7Slm5DLl7nZpH-rW7r0pkO0sz6Fa0xttK_Au-5X1TrA21sDQXgd72ugau6Dy1oPPqxhOX-6iDSde\" target=\"_blank\"><em>世界</em>上<em>最深</em>的<em>海沟</em>位于<em>哪个</em>大洋?</a></td><td class=\"middle c-default \">2个回答</td><td class=\"last c-default rightTd\">2016-11-27</td></tr><tr><td class=\"first c-default \"><a href=\"http://www.baidu.com/link?url=1wuFvzUpqY6gVyKj7g008MOqqrRfvpvYqgepN6lYkIIY7qMg31Et35cQz4E8j1UynBA6NcV0kcRCbqeLpAGqFq\" target=\"_blank\">有人知道马尼亚拉<em>海沟</em>么?</a></td><td class=\"middle c-default \">2个回答</td><td class=\"last c-default rightTd\">2011-08-05</td></tr></table><a class=\"c\" href=\"http://www.baidu.com/link?url=jY-RSND0kHp6-5OT2XSgAUK2R7tKU4Z-I-Mq6ZjCN0gwVG3xz0EwCWZKgwCKM-CPppI4d2B7XSjZ34jxzuwYi1-Vi2GVrZLCbIACh7Z9garZtBV_NQjHbdgieSqTcSofY2MqgCMdG7zVkBiz4Sqa3DTEXyn-y3ipgCDeD4jReEAbPRbrdiOlQeyNY9TUUa6HjWMVxWFsK8TpauV5q6AmUhjMDwjlZ0MWS6DXrkyHiuezVKawwJ-1vR_eFZ2HlGoTKQCy_2ojaS_2-kkUeiRWxmIWUVjgXN7x6Ihg2HBXp_KOBlpNyQ8dao6fAeRNHv7rL85Osf34cHyiAdTeG3bO4ZCR_HXOCFSpyl4NflzSaabDaj_CE8Mq9T-FT_mH7Kz6FCBkwEUzB4xf1AVzNsn4GfxbvtdJ6jNzHAUkP4eq_LQrXKbxwU4KBmibDq490Kaz_p1WUCVLz9f4Cor88nw2x_\" target=\"_blank\">更多知道相关问题&gt;&gt;</a></div></div>"
      ],
      "text/plain": [
       "<IPython.core.display.HTML object>"
      ]
     },
     "metadata": {},
     "output_type": "display_data"
    },
    {
     "data": {
      "text/html": [
       "<div class=\"result c-container \" data-click=\"{'rsv_bdr':'0' }\" id=\"2\" srcid=\"1599\" tpl=\"se_com_default\"><h3 class=\"t\"><a data-click=\"{\n",
       "\t\t\t'F':'778717EA',\n",
       "\t\t\t'F1':'9D73F1E4',\n",
       "\t\t\t'F2':'4CA6DE6B',\n",
       "\t\t\t'F3':'54E5243F',\n",
       "\t\t\t'T':'1516004525',\n",
       "\t\t\t\t\t\t'y':'EBBD43F7'\n",
       "\t\t\t \n",
       "\t\t\t\t\t\t\t\t\t}\" href=\"http://www.baidu.com/link?url=0eLOaRAnIDxgFVlmtTUVpFBYkckS9B0pRNZgfiPbgmy_6vcPcexDL2k8mWwea1o3QLSA8cETckI4Q5pljusiYyDqo9Fa_RDcDf3eQoqMKvO\" target=\"_blank\"><em>菲律宾</em>游记--蚂蜂窝</a></h3><div class=\"c-row c-gap-top-small\"><div class=\"general_image_pic c-span6\"><a class=\"c-img6\" href=\"http://www.baidu.com/link?url=0eLOaRAnIDxgFVlmtTUVpFBYkckS9B0pRNZgfiPbgmy_6vcPcexDL2k8mWwea1o3QLSA8cETckI4Q5pljusiYyDqo9Fa_RDcDf3eQoqMKvO\" style=\"height:75px\" target=\"_blank\"><img class=\"c-img c-img6\" src=\"http://i8.baidu.com/it/u=3269843413,107228848&amp;fm=85&amp;s=A9014F907608774732094D510300E0F0\" style=\"height:75px;\"/></a></div><div class=\"c-span18 c-span-last\"><div class=\"c-abstract\">俺从被俺村村长称为十分危险地、十分恐怖的、十分野蛮的---<em>菲律宾</em>活着回来了…… 自打听说俺要去<em>菲律宾</em>,俺家这老老小小的就乱了套啦,俺妈苦口婆心的劝俺,被...</div><div class=\"f13\"><a class=\"c-showurl\" href=\"http://www.baidu.com/link?url=0eLOaRAnIDxgFVlmtTUVpFBYkckS9B0pRNZgfiPbgmy_6vcPcexDL2k8mWwea1o3QLSA8cETckI4Q5pljusiYyDqo9Fa_RDcDf3eQoqMKvO\" style=\"text-decoration:none;\" target=\"_blank\">360.mafengwo.cn/travel... </a><div class=\"c-tools\" data-tools='{\"title\":\"菲律宾游记--蚂蜂窝\",\"url\":\"http://www.baidu.com/link?url=0eLOaRAnIDxgFVlmtTUVpFBYkckS9B0pRNZgfiPbgmy_6vcPcexDL2k8mWwea1o3QLSA8cETckI4Q5pljusiYyDqo9Fa_RDcDf3eQoqMKvO\"}' id=\"tools_12121934703153097211_2\"><a class=\"c-tip-icon\"><i class=\"c-icon c-icon-triangle-down-g\"></i></a></div><span class=\"c-icons-outer\"><span class=\"c-icons-inner\"></span></span> - <a class=\"m\" data-click=\"{'rsv_snapshot':'1'}\" href=\"http://cache.baiducontent.com/c?m=9d78d513d9d437af4f9b92697c62c017194381132ba6d6020ed2843899732f45506793ac57510777d2d20c6c16df4e4beb802104321457c08cc9f85dacb0855f589f2745676d865665a50eaebb5154c337e72efed91af0cbf52592dec5a2d94322c144050b9780f84d7315dd1ffb0341e4b19939022f10ad9e3a728f5d605e9d3431b4508eea251e0d9682d84b4cb23da01206e4ae22c03505c514b31f6a3334d35bc20946563bf73f20e8444c13e2ee4a962e6e3123a139b8aeb1b5fc3c88c8ad71c6f591e969d777e7b6f7e470467245fa52e1f8e9e56131005fcecaa947982ffababffe1bb755ca4b00ee0061281f8b3ccfd2d240f21518aea57fff5d79703f0ba9b274f977716a34&amp;p=8939c64ad4934eaf58ebd22c5759c1&amp;newp=917dc54ad6c347b4099fc7710f5c97231610db2151d6d1146b82c825d7331b001c3bbfb42325120fd1c37c630aae425aedfb317037012ba3dda5c91d9fb4c57479937646&amp;user=baidu&amp;fm=sc&amp;query=%D2%D4%CF%C2%C4%C4%B8%F6%BA%A3%B9%B5%D7%EE%C9%EE%3F+%28%C2%ED%C0%EF%D1%C7%C4%C9+%7C+%BA%A3%B9%B5+%7C+%B2%A8%B6%E0%C0%E8%B8%F7+%7C+%BA%A3%B9%B5+%7C+%BA%A3%B9%B5+%7C+%B7%C6%C2%C9%B1%F6%29&amp;qid=a042bc5700015aae&amp;p1=2\" target=\"_blank\">百度快照</a></div></div></div></div>"
      ],
      "text/plain": [
       "<IPython.core.display.HTML object>"
      ]
     },
     "metadata": {},
     "output_type": "display_data"
    },
    {
     "name": "stdout",
     "output_type": "stream",
     "text": [
      "http://www.baidu.com/s?q1=“桃李满天下”中的“桃李”一般用来指代?&q2=&q3=老师+学生+前辈&q4=&rn=50\n",
      "question: “桃李满天下”中的“桃李”一般用来指代?\n",
      "('A', '老师', 1.9120785841323595)\n",
      "('B', '学生', 0.10356269609258106)\n",
      "('C', '前辈', 0.004882849814748624)\n"
     ]
    },
    {
     "data": {
      "text/html": [
       "<div class=\"result c-container \" data-click=\"{'rsv_bdr':'0' }\" id=\"1\" srcid=\"1528\" tpl=\"se_com_default\"><h3 class=\"t\"><a data-click=\"{\n",
       "\t\t\t'F':'778717EA',\n",
       "\t\t\t'F1':'9D73B1E4',\n",
       "\t\t\t'F2':'4CA6DE6B',\n",
       "\t\t\t'F3':'54E5243F',\n",
       "\t\t\t'T':'1516004527',\n",
       "\t\t\t\t\t\t'y':'6DBBF5FB'\n",
       "\t\t\t \n",
       "\t\t\t\t\t\t\t\t\t}\" href=\"http://www.baidu.com/link?url=3gRmOB2XuzJKl2nppU79fZCHNcEdlxRXCFSgpmJeifD4i0GO8c4j1aelUvuNHnKQXp6lSk_kelvBqdFuaacyu_\" target=\"_blank\">常<em>用来</em>赞美<em>老师</em>的话,如:<em>桃李满天下</em>_百度知道</a></h3><p class=\"f13 m\">3个回答 - 提问时间: 2008年08月07日</p><div class=\"c-abstract\"><span class=\"m\">最佳答案: </span>玉壶存冰心 朱笔写师魂 谆谆如父语 殷殷似友亲 轻盈数行字 浓抹一生人 寄望后来者 成功报师尊 相见时难别亦难, 东风无力百花残。 春蚕到死丝方尽,...</div><div class=\"f13\"><a class=\"c-showurl\" href=\"http://www.baidu.com/link?url=3gRmOB2XuzJKl2nppU79fZCHNcEdlxRXCFSgpmJeifD4i0GO8c4j1aelUvuNHnKQXp6lSk_kelvBqdFuaacyu_\" style=\"text-decoration:none;\" target=\"_blank\">https://zhidao.baidu.com/quest... </a><div class=\"c-tools\" data-tools='{\"title\":\"常用来赞美老师的话,如:桃李满天下_百度知道\",\"url\":\"http://www.baidu.com/link?url=3gRmOB2XuzJKl2nppU79fZCHNcEdlxRXCFSgpmJeifD4i0GO8c4j1aelUvuNHnKQXp6lSk_kelvBqdFuaacyu_\"}' id=\"tools_5422484829012898177_1\"><a class=\"c-tip-icon\"><i class=\"c-icon c-icon-triangle-down-g\"></i></a></div><span class=\"c-icons-outer\"><span class=\"c-icons-inner\"></span></span></div><div class=\"c-offset\"><table class=\"subLink_factory subLink_factory_right\"><tr><td class=\"first c-default \"><a href=\"http://www.baidu.com/link?url=TYOjTIlX97ec-_aFw2i-w_316hrpNOBhN8rD8UBZFAHJQcnBWgQ3AqKl7X1lBkK3UiPxTc6wqZ8Aq9XI_OlURoI6rC8BuFVr4bodtQ0t1cG\" target=\"_blank\">形容孩子对<em>老师</em>爱的成语</a></td><td class=\"middle c-default \">1个回答</td><td class=\"last c-default rightTd\">2016-10-26</td></tr><tr><td class=\"first c-default \"><a href=\"http://www.baidu.com/link?url=c1v3O_AEF_qFnBy1E14LGUgtWoJcBl48JoREpZdIYuSCGrqQtSwBNvEqr8TOurnG8ZmRx7Su_HM6EB0sCIfWPr05RorJLK22wVzDIObF7wa\" target=\"_blank\">古文中还<em>可以</em>把“弟子”(<em>学生</em>)称做什么?(<em>用于</em>...</a></td><td class=\"middle c-default \">2个回答</td><td class=\"last c-default rightTd\">2015-09-09</td></tr><tr><td class=\"first c-default \"><a href=\"http://www.baidu.com/link?url=CkVnpYYvuu5jIkAvPpaiFroxpdYyMWbQW_Tpmp25Q5lHc9JcMhhPzbRTWz19fpNaJxJbD_x5djeZaG5maTBGaa\" target=\"_blank\"><em>老师能用</em>什么词来形容</a></td><td class=\"middle c-default \">5个回答</td><td class=\"last c-default rightTd\">2007-08-17</td></tr></table><a class=\"c\" href=\"http://www.baidu.com/link?url=5lcePNPJNwda9u8hKYxIfMKLnAXWEu-VP57Mcqi5GxNP1Cvc5AHHSUmBUdpXuH3REkEQbr2ZjI0_2eqKnK2Yld_bR4Mihd_DUIVa5M57CqUWuBwzK3ox2IYY2UArJMiaNQ1TngunBOdZbIFSE9z4wxKv5Rx2o28O7XCFROqM1HevMt2DEY72a_MKbFDVb9YqjTH8lLK3vEHU8TZi6mAx67SdfxvR7SoAizwNQ5WHH8m-KyG5QG2p-Hkuvw8KF7o9j6Uv12YK5_CPV7dP-jpGdkjhCTtmjwU9ocxHv8OlFe9kRtqlWeCT5_EhNffSakM8ksvkzerFE2klA-jmsPzJ9uOyDvOuPiEuxkfeNF8FJE7J2FattQmfakyDENgLQnhDbJt6tiLe4v0WLYr9deVO09Udu8oSB6gerFgpqmVBej3hxwsAPErtXEcVfv0KqSmW\" target=\"_blank\">更多知道相关问题&gt;&gt;</a></div></div>"
      ],
      "text/plain": [
       "<IPython.core.display.HTML object>"
      ]
     },
     "metadata": {},
     "output_type": "display_data"
    },
    {
     "data": {
      "text/html": [
       "<div class=\"result c-container \" data-click=\"{'rsv_bdr':'0' ,'rsv_cd':'vLevel:1'}\" id=\"2\" srcid=\"1599\" tpl=\"se_com_default\"><h3 class=\"t\"><a data-click=\"{\n",
       "\t\t\t'F':'778717EA',\n",
       "\t\t\t'F1':'9D73F1E4',\n",
       "\t\t\t'F2':'4CA6DE6B',\n",
       "\t\t\t'F3':'54E5242F',\n",
       "\t\t\t'T':'1516004527',\n",
       "\t\t\t\t\t\t'y':'74D4AFF4'\n",
       "\t\t\t \n",
       "\t\t\t\t\t\t\t\t\t}\" href=\"http://www.baidu.com/link?url=HAZ1v0MTFltXxdDdTcDnobiDXGsyOZT0za8w-ttNgM2sZnCM1my7wlsO_0xgGl_Ok5UKEbBU0nrb1QG9FJRmwH8YNcnKlfwLivzfPhjEnjH-AEavgrW6uZMx1V-rTdKBvWAcKr6Skicm0XDp4YazOa\" target=\"_blank\"><em>老师</em>,我想对你说</a></h3><div class=\"c-abstract\">你有什么话想对你的<em>老师</em>说的,不要害羞大胆说出来吧,下面小编为大家推荐两篇“<em>老师</em>我想对你说作文”,如果想要看更多<em>老师</em>我想对你说作文<em>可以</em>关注出国留学网作文栏...</div><div class=\"f13\"><a class=\"c-showurl\" href=\"http://www.baidu.com/link?url=HAZ1v0MTFltXxdDdTcDnobiDXGsyOZT0za8w-ttNgM2sZnCM1my7wlsO_0xgGl_Ok5UKEbBU0nrb1QG9FJRmwH8YNcnKlfwLivzfPhjEnjH-AEavgrW6uZMx1V-rTdKBvWAcKr6Skicm0XDp4YazOa\" style=\"text-decoration:none;\" target=\"_blank\">https://www.liuxue86.com/k_<b>老师</b>,... </a><div class=\"c-tools\" data-tools='{\"title\":\"老师,我想对你说\",\"url\":\"http://www.baidu.com/link?url=HAZ1v0MTFltXxdDdTcDnobiDXGsyOZT0za8w-ttNgM2sZnCM1my7wlsO_0xgGl_Ok5UKEbBU0nrb1QG9FJRmwH8YNcnKlfwLivzfPhjEnjH-AEavgrW6uZMx1V-rTdKBvWAcKr6Skicm0XDp4YazOa\"}' id=\"tools_11947645662253163880_2\"><a class=\"c-tip-icon\"><i class=\"c-icon c-icon-triangle-down-g\"></i></a></div><span class=\"c-icons-outer\"><span class=\"c-icons-inner\"><span class=\"c-vline\"></span><span class=\"c-trust-as vstar \" data_key=\"8918463077942744404\" hint-data='{\"label\":\"长沙爱登网络科技有限公司\",\"url\":\"https://www.baidu.com/s?wd=%E9%95%BF%E6%B2%99%E7%88%B1%E7%99%BB%E7%BD%91%E7%BB%9C%E7%A7%91%E6%8A%80%E6%9C%89%E9%99%90%E5%85%AC%E5%8F%B8@v&amp;vmp_ec=d3be616cf549f6fc61be52424365ccUJ443c1Vadsd8685j2i=b0d5WcN1275d35X0y5ascdXXa834cda039919e&amp;vmp_ectm=1515119908&amp;from=vs\",\"hint\":[{\"txt\":\"[ecard 70]\",\"vlevel\":\"1\"}]}' hint-type=\"vstar\"><a class=\"c-icon c-icon-v c-icon-v1\" data-click=\"{'title':'vstar','rsv_vlevel':'1'}\" href=\"https://www.baidu.com/s?wd=%E9%95%BF%E6%B2%99%E7%88%B1%E7%99%BB%E7%BD%91%E7%BB%9C%E7%A7%91%E6%8A%80%E6%9C%89%E9%99%90%E5%85%AC%E5%8F%B8@v&amp;vmp_ec=d3be616cf549f6fc61be52424365ccUJ443c1Vadsd8685j2i=b0d5WcN1275d35X0y5ascdXXa834cda039919e&amp;vmp_ectm=1515119908&amp;from=vs&amp;product=v&amp;rsv_dl=0_left_v_1\" target=\"_blank\"></a></span></span></span> - <a class=\"m\" data-click=\"{'rsv_snapshot':'1'}\" href=\"http://cache.baiducontent.com/c?m=9d78d513d9d430de4f9b94697c14c0116e4381132ba6d0020ba78449e3732a30501192ac56560775d3d27c1616d94d4b9cf22173471450b08cb98e5dddca85595e9f5134676d845665a40eafba5153c137e02afedf1bf0cdf12592dec5a5de4322cb44747897808d4d0164dd19f40341e9b19838022f16ad994372ff2860589d3431c2508893251d0396f6ac4b3ac03da36406e6a422c44d05b562b36e1e3334a25bc10b465630f40867a14b6742d4a91cf02b0a5d3ef30df6aec1c1b513cb96ad6692fedcaf58c43db9d8b3ee76366725f032b4a9aab83e733205cebad401ce38abfa9dad3bed03dd1a4bb15e61586fd9619595ff56e5155de3941ce95929315f0cc8c302e806727846a2296bc508b073ac&amp;p=9b6acf3785cc43fa00bd9b7d091489&amp;newp=8b2a970787d503ff57ee907c110e8e231611c20e39d5c44324b9d71fd325001c1b69e3b822261a02d2c0796215e9241dbdb239256b5562e68d8a&amp;user=baidu&amp;fm=sc&amp;query=%A1%B0%CC%D2%C0%EE%C2%FA%CC%EC%CF%C2%A1%B1%D6%D0%B5%C4%A1%B0%CC%D2%C0%EE%A1%B1%D2%BB%B0%E3%D3%C3%C0%B4%D6%B8%B4%FA%3F+%28%C0%CF%CA%A6+%7C+%D1%A7%C9%FA+%7C+%C7%B0%B1%B2%29&amp;qid=d588e4230001486a&amp;p1=2\" target=\"_blank\">百度快照</a></div></div>"
      ],
      "text/plain": [
       "<IPython.core.display.HTML object>"
      ]
     },
     "metadata": {},
     "output_type": "display_data"
    },
    {
     "name": "stdout",
     "output_type": "stream",
     "text": [
      "http://www.baidu.com/s?q1=食用适量的海苔可以预防甲状腺肿大是因为海苔中的哪种元素?&q2=&q3=钙+碘+锌&q4=&rn=50\n",
      "question: 食用适量的海苔可以预防甲状腺肿大是因为海苔中的哪种元素?\n",
      "('B', '碘', 1.7558907326319968)\n",
      "('C', '锌', 0.937492132184957)\n",
      "('A', '钙', 0.7655969882890759)\n"
     ]
    },
    {
     "data": {
      "text/html": [
       "<div class=\"result c-container \" data-click=\"{'rsv_bdr':'0' }\" id=\"1\" srcid=\"1599\" tpl=\"se_com_default\"><h3 class=\"t\"><a data-click=\"{\n",
       "\t\t\t'F':'778717EA',\n",
       "\t\t\t'F1':'9D73F1E4',\n",
       "\t\t\t'F2':'4CA6DE6B',\n",
       "\t\t\t'F3':'54E5243F',\n",
       "\t\t\t'T':'1516004529',\n",
       "\t\t\t\t\t\t'y':'EBFAF7EE'\n",
       "\t\t\t \n",
       "\t\t\t\t\t\t\t\t\t}\" href=\"http://www.baidu.com/link?url=2f6Z0_jA5qZl2nRf8ketnvkgn13idkS1XGL-GaGk7TEwbE0W0N0E70zVx_rqH_vvkokrn40NomxMhIumQkQWL7kSujlptWisUqPVWgmFAHW\" target=\"_blank\"><em>碘</em>过量 - 太平洋亲子网</a></h3><div class=\"c-abstract\">(2)品种多样化、营养齐全、少食多餐,增加各种营养素的摄入量:尤其是优质蛋白质、<em>钙</em>、<em>锌</em>、<em>碘</em>和维A、B族维生素摄入,足够的汤水,<em>适量</em>摄入肉类食物。 (3)饮食上...</div><div class=\"f13\"><a class=\"c-showurl\" href=\"http://www.baidu.com/link?url=2f6Z0_jA5qZl2nRf8ketnvkgn13idkS1XGL-GaGk7TEwbE0W0N0E70zVx_rqH_vvkokrn40NomxMhIumQkQWL7kSujlptWisUqPVWgmFAHW\" style=\"text-decoration:none;\" target=\"_blank\">www.pcbaby.com.cn/tags... </a><div class=\"c-tools\" data-tools='{\"title\":\"碘过量 - 太平洋亲子网\",\"url\":\"http://www.baidu.com/link?url=2f6Z0_jA5qZl2nRf8ketnvkgn13idkS1XGL-GaGk7TEwbE0W0N0E70zVx_rqH_vvkokrn40NomxMhIumQkQWL7kSujlptWisUqPVWgmFAHW\"}' id=\"tools_2784803421735835039_1\"><a class=\"c-tip-icon\"><i class=\"c-icon c-icon-triangle-down-g\"></i></a></div><span class=\"c-icons-outer\"><span class=\"c-icons-inner\"></span></span> - <a class=\"m\" data-click=\"{'rsv_snapshot':'1'}\" href=\"http://cache.baiducontent.com/c?m=9f65cb4a8c8507ed4fece763105392230e54f7216d87834534c3933fc23904564711b2e73a64435192d86b1004b83a5cfdfb3c65400937c7efdf824fcacc993f258d303e040192044f934fa0dc3756d650914d9fae0e96bbe733e3b9a3a0c82520dd22066df0849c5b7003ba68e76537f4a7e95f652c07c9ec27148e4e042d882230a1378df7436510f7f6ca2a4ad42ba0766791b846b62962b004d51d0c2534b73cc01f272327964a308f422a75e6fc2bec3d783034c04ca4cfc4a19b4e9ba8eb26998adcde5c8211e3d2eb89663470458e25a9dacaa54e175203a9ddae65d341bded9dcb5b9a10c0112cad2b72381dcc7c95f29827f5752bf2f0698e3e53203f7bd9a4758f62066b26de3a0fb06fd703b7990538cb9bed9fe91f52afe8d2037de9dcbb55b71c1953eb303516dbf72760639b1b0ae8&amp;p=91759a45d6c301bc0be29625574fcb&amp;newp=9a62c35bc7934eaf58edd72d0214cc231610db2151d7da126b82c825d7331b001c3bbfb42325120fd5c1796d0aa84c5ee0f0317437012ba3dda5c91d9fb4c57479cb&amp;user=baidu&amp;fm=sc&amp;query=%CA%B3%D3%C3%CA%CA%C1%BF%B5%C4%BA%A3%CC%A6%BF%C9%D2%D4%D4%A4%B7%C0%BC%D7%D7%B4%CF%D9%D6%D7%B4%F3%CA%C7%D2%F2%CE%AA%BA%A3%CC%A6%D6%D0%B5%C4%C4%C4%D6%D6%D4%AA%CB%D8%3F+%28%B8%C6+%7C+%B5%E2+%7C+%D0%BF%29&amp;qid=c197919e00015fa3&amp;p1=1\" target=\"_blank\">百度快照</a></div></div>"
      ],
      "text/plain": [
       "<IPython.core.display.HTML object>"
      ]
     },
     "metadata": {},
     "output_type": "display_data"
    },
    {
     "data": {
      "text/html": [
       "<div class=\"result c-container \" data-click=\"{'rsv_bdr':'0' ,'rsv_cd':'vLevel:1'}\" id=\"2\" srcid=\"1599\" tpl=\"se_com_default\"><h3 class=\"t\"><a data-click=\"{\n",
       "\t\t\t'F':'778717EA',\n",
       "\t\t\t'F1':'9D73F1E4',\n",
       "\t\t\t'F2':'4CA6DE6B',\n",
       "\t\t\t'F3':'54E5243F',\n",
       "\t\t\t'T':'1516004529',\n",
       "\t\t\t\t\t\t'y':'FBFF7EBF'\n",
       "\t\t\t \n",
       "\t\t\t\t\t\t\t\t\t}\" href=\"http://www.baidu.com/link?url=QT2_ywyyPSk2XCZlLDPOoN5EkcDAg6LGjrJy10JoQwekUq1vxm78UiwaIOyReh4Ih2ITC2MWG6f7oAxardb9o_\" target=\"_blank\">中国人<em>吃</em>了那么多年碘盐,存在<em>碘</em>摄入过量的问题吗? - 知乎</a></h3><div class=\"c-abstract\"><span class=\" newTimeFactor_before_abs m\">2017年2月18日 - </span>超市<em>里</em>有了加<em>锌</em>、加<em>钙</em>酸奶,也有了含硒、低钠的营养盐。“有一段时间,周围亲友争相购买铁锅炒菜,据说只要<em>能</em>把铁锅炒薄,就不愁缺乏身体所需的铁...</div><div class=\"f13\"><a class=\"c-showurl\" href=\"http://www.baidu.com/link?url=QT2_ywyyPSk2XCZlLDPOoN5EkcDAg6LGjrJy10JoQwekUq1vxm78UiwaIOyReh4Ih2ITC2MWG6f7oAxardb9o_\" style=\"text-decoration:none;\" target=\"_blank\">https://www.zhihu.com/question... </a><div class=\"c-tools\" data-tools='{\"title\":\"中国人吃了那么多年碘盐,存在碘摄入过量的问题吗? - 知乎\",\"url\":\"http://www.baidu.com/link?url=QT2_ywyyPSk2XCZlLDPOoN5EkcDAg6LGjrJy10JoQwekUq1vxm78UiwaIOyReh4Ih2ITC2MWG6f7oAxardb9o_\"}' id=\"tools_12799865832802942187_2\"><a class=\"c-tip-icon\"><i class=\"c-icon c-icon-triangle-down-g\"></i></a></div><span class=\"c-icons-outer\"><span class=\"c-icons-inner\"><span class=\"c-vline\"></span><span class=\"c-trust-as vstar \" data_key=\"12397541887370352527\" hint-data='{\"label\":\"北京智者天下科技有限公司\",\"url\":\"https://www.baidu.com/s?wd=%E5%8C%97%E4%BA%AC%E6%99%BA%E8%80%85%E5%A4%A9%E4%B8%8B%E7%A7%91%E6%8A%80%E6%9C%89%E9%99%90%E5%85%AC%E5%8F%B8@v&amp;vmp_ec=27204328ae9effdf76aaf4945j5d1abl4o6Gaybffdaf=26b620eScds8da3JX5d30164Xb5dfda1bb8&amp;vmp_ectm=1516004272&amp;from=vs\",\"hint\":[{\"txt\":\"[ecard 72]\",\"vlevel\":\"1\"}]}' hint-type=\"vstar\"><a class=\"c-icon c-icon-v c-icon-v1\" data-click=\"{'title':'vstar','rsv_vlevel':'1'}\" href=\"https://www.baidu.com/s?wd=%E5%8C%97%E4%BA%AC%E6%99%BA%E8%80%85%E5%A4%A9%E4%B8%8B%E7%A7%91%E6%8A%80%E6%9C%89%E9%99%90%E5%85%AC%E5%8F%B8@v&amp;vmp_ec=27204328ae9effdf76aaf4945j5d1abl4o6Gaybffdaf=26b620eScds8da3JX5d30164Xb5dfda1bb8&amp;vmp_ectm=1516004272&amp;from=vs&amp;product=v&amp;rsv_dl=0_left_v_1\" target=\"_blank\"></a></span></span></span> - <a class=\"m\" data-click=\"{'rsv_snapshot':'1'}\" href=\"http://cache.baiducontent.com/c?m=9f65cb4a8c8507ed19fa950d100b92235c438014748d8b4f38c3933fc239045c0421b4fa61794d58cec47e6207a94f5befe4732f77552fa0eabb9f3adcace42938f92623716c913061c468dcdc3726d650e44de8df0e97bde74395b9d3a3c82420dd20046df1819c290403cb1fe76445f4d7925f635f07cceb27648f4e012f885046a137fcf7436c108086ca2c3dd45cd5766792b845b62963c104d2140c2534b73ab51f2723279049308b452a05e2fc2c943d084534b738a4cfc1a19f489bad9d26eb89dcae5f821095d299f8663301458921a9aacda54b605274dbdddf66d342bbed9dbc5be864c0615aad2c70386abe7ce2869821f6755b84f01ef83e51553f7bafa402f562701e26d8340fc01bd775c099064ccb9d9d9f9f6452d99bd20303&amp;p=b46d8b3786cc41af5eb6f82d02149d&amp;newp=92769a4786cc41af5ea9d70c110d95231610db2151d6d4176b82c825d7331b001c3bbfb42325120fd5cf7d6606aa4e57e8f735793d012ba3dda5c91d9fb4c57479&amp;user=baidu&amp;fm=sc&amp;query=%CA%B3%D3%C3%CA%CA%C1%BF%B5%C4%BA%A3%CC%A6%BF%C9%D2%D4%D4%A4%B7%C0%BC%D7%D7%B4%CF%D9%D6%D7%B4%F3%CA%C7%D2%F2%CE%AA%BA%A3%CC%A6%D6%D0%B5%C4%C4%C4%D6%D6%D4%AA%CB%D8%3F+%28%B8%C6+%7C+%B5%E2+%7C+%D0%BF%29&amp;qid=c197919e00015fa3&amp;p1=2\" target=\"_blank\">百度快照</a></div></div>"
      ],
      "text/plain": [
       "<IPython.core.display.HTML object>"
      ]
     },
     "metadata": {},
     "output_type": "display_data"
    },
    {
     "name": "stdout",
     "output_type": "stream",
     "text": [
      "http://www.baidu.com/s?q1=《马里奥》系列游戏中马里奥吃哪种植物可以体积变大?&q2=&q3=蘑菇+土豆+西红柿&q4=&rn=50\n",
      "question: 《马里奥》系列游戏中马里奥吃哪种植物可以体积变大?\n",
      "('A', '蘑菇', 0.765625)\n",
      "('C', '西红柿', 0.3515625)\n",
      "('B', '土豆', 0)\n"
     ]
    },
    {
     "data": {
      "text/html": [
       "<div class=\"result c-container \" data-click=\"{'rsv_bdr':'0' ,'rsv_cd':'vLevel:1'}\" id=\"1\" srcid=\"1599\" tpl=\"se_com_default\"><h3 class=\"t\"><a data-click=\"{\n",
       "\t\t\t'F':'778717EA',\n",
       "\t\t\t'F1':'9D73F1E4',\n",
       "\t\t\t'F2':'4CA6DE6B',\n",
       "\t\t\t'F3':'54E5243F',\n",
       "\t\t\t'T':'1516004532',\n",
       "\t\t\t\t\t\t'y':'F6BFE9DC'\n",
       "\t\t\t \n",
       "\t\t\t\t\t\t\t\t\t}\" href=\"http://www.baidu.com/link?url=_1w7_s-RhpoxCMVMMZGriPWjBmogBIIZfNKuhaIfee9kh5azjv4egLXF_IUxBHgWVALsuxP2wuDIW0hafvex2a\" target=\"_blank\">For Fun - 收藏夹 - 知乎</a></h3><div class=\"c-row c-gap-top-small\"><div class=\"general_image_pic c-span6\"><a class=\"c-img6\" href=\"http://www.baidu.com/link?url=_1w7_s-RhpoxCMVMMZGriPWjBmogBIIZfNKuhaIfee9kh5azjv4egLXF_IUxBHgWVALsuxP2wuDIW0hafvex2a\" style=\"height:75px\" target=\"_blank\"><img class=\"c-img c-img6\" src=\"http://i9.baidu.com/it/u=2591410436,3753565167&amp;fm=85&amp;s=F3889940E4FB2F8C6CB01CB403008093\" style=\"height:75px;\"/></a></div><div class=\"c-span18 c-span-last\"><div class=\"c-abstract\">这个银河系里有太多的电影画面太震撼了,其中不乏各种小成本冷门佳片,而阿大身为设计狗一枚,对画面的敏感度简直让人发指,今天就阿大这只视觉动物就帮大家把这些热...</div><div class=\"f13\"><a class=\"c-showurl\" href=\"http://www.baidu.com/link?url=_1w7_s-RhpoxCMVMMZGriPWjBmogBIIZfNKuhaIfee9kh5azjv4egLXF_IUxBHgWVALsuxP2wuDIW0hafvex2a\" style=\"text-decoration:none;\" target=\"_blank\">https://www.zhihu.com/collecti... </a><div class=\"c-tools\" data-tools='{\"title\":\"For Fun - 收藏夹 - 知乎\",\"url\":\"http://www.baidu.com/link?url=_1w7_s-RhpoxCMVMMZGriPWjBmogBIIZfNKuhaIfee9kh5azjv4egLXF_IUxBHgWVALsuxP2wuDIW0hafvex2a\"}' id=\"tools_11241422335334296957_1\"><a class=\"c-tip-icon\"><i class=\"c-icon c-icon-triangle-down-g\"></i></a></div><span class=\"c-icons-outer\"><span class=\"c-icons-inner\"><span class=\"c-vline\"></span><span class=\"c-trust-as vstar \" data_key=\"12397541887370352527\" hint-data='{\"label\":\"北京智者天下科技有限公司\",\"url\":\"https://www.baidu.com/s?wd=%E5%8C%97%E4%BA%AC%E6%99%BA%E8%80%85%E5%A4%A9%E4%B8%8B%E7%A7%91%E6%8A%80%E6%9C%89%E9%99%90%E5%85%AC%E5%8F%B8@v&amp;vmp_ec=27204328ae9effdf76aaf4945j5d1abl4o6Gaybffdaf=26b620eScds8da3JX5d30164Xb5dfda1bb8&amp;vmp_ectm=1516004272&amp;from=vs\",\"hint\":[{\"txt\":\"[ecard 72]\",\"vlevel\":\"1\"}]}' hint-type=\"vstar\"><a class=\"c-icon c-icon-v c-icon-v1\" data-click=\"{'title':'vstar','rsv_vlevel':'1'}\" href=\"https://www.baidu.com/s?wd=%E5%8C%97%E4%BA%AC%E6%99%BA%E8%80%85%E5%A4%A9%E4%B8%8B%E7%A7%91%E6%8A%80%E6%9C%89%E9%99%90%E5%85%AC%E5%8F%B8@v&amp;vmp_ec=27204328ae9effdf76aaf4945j5d1abl4o6Gaybffdaf=26b620eScds8da3JX5d30164Xb5dfda1bb8&amp;vmp_ectm=1516004272&amp;from=vs&amp;product=v&amp;rsv_dl=0_left_v_1\" target=\"_blank\"></a></span></span></span> - <a class=\"m\" data-click=\"{'rsv_snapshot':'1'}\" href=\"http://cache.baiducontent.com/c?m=9f65cb4a8c8507ed19fa950d100b92235c438014748d8b4f38c3933fc239045c163bbde57073565f8e99616c06a94c5bebfa3666725e60e194dffb49cacb963f2ef83045700bf13705a21bb8bc3232b122872be9b81897ad833184ded7c4de2444bb27120a87e7fa591762c878f1642695a78e39624861cefa4060e858073ee92757c045eee142797681e1aa2a5bb228c7166580df37a74f12a212d4086b2553d64aa609213141e65856f9533c74859d59f05c7d5722c65fc5bdd6c6eb5ffdabfd46ecedcadf38e514f1b4e1ee07426724fc32bfdbaac34c733205cebaae01b044abfb9cad3cea03a0164bbb2d615f6dd91f95958f26e5135ce39468e9592931587cc8b305e804067840ab2968b508b07ea68e075cad9d8afc9a0235dc8eb202608fdea833b4&amp;p=c4759a45d5c31bfc57ef8e2c494f98&amp;newp=837bc64ad48533ff57ed977e586490231610db2151d4d51e6b82c825d7331b001c3bbfb42325120fd5c27c6100ae435cedfb3c7833012ba3dda5c91d9fb4c57479ce55&amp;user=baidu&amp;fm=sc&amp;query=%A1%B6%C2%ED%C0%EF%B0%C2%A1%B7%CF%B5%C1%D0%D3%CE%CF%B7%D6%D0%C2%ED%C0%EF%B0%C2%B3%D4%C4%C4%D6%D6%D6%B2%CE%EF%BF%C9%D2%D4%CC%E5%BB%FD%B1%E4%B4%F3%3F+%28%C4%A2%B9%BD+%7C+%CD%C1%B6%B9+%7C+%CE%F7%BA%EC%CA%C1%29&amp;qid=a345c46000015dad&amp;p1=1\" target=\"_blank\">百度快照</a></div></div></div></div>"
      ],
      "text/plain": [
       "<IPython.core.display.HTML object>"
      ]
     },
     "metadata": {},
     "output_type": "display_data"
    },
    {
     "data": {
      "text/html": [
       "<div class=\"result c-container \" data-click=\"{'rsv_bdr':'0' }\" id=\"2\" srcid=\"1599\" tpl=\"se_com_default\"><h3 class=\"t\"><a data-click=\"{\n",
       "\t\t\t'F':'778717EA',\n",
       "\t\t\t'F1':'9D73F164',\n",
       "\t\t\t'F2':'4CA6DE6B',\n",
       "\t\t\t'F3':'54E5243F',\n",
       "\t\t\t'T':'1516004532',\n",
       "\t\t\t\t\t\t'y':'DF7F7DCF'\n",
       "\t\t\t \n",
       "\t\t\t\t\t\t\t\t\t}\" href=\"http://www.baidu.com/link?url=y9eP07y7cJ1BMiXvnNVg8Pf_tCMpVCgDgLiVCG8yWMWETTzxyr_TqTLC9Uo1aVlP\" target=\"_blank\">新版超级玛丽_3kk<em>小游戏</em></a></h3><div class=\"c-abstract\"><em>游戏中</em>,延续那超级玛丽的老剧情,带来新的冒险旅途,赶紧与我们的<em>马里奥</em>踏上这新的<em>蘑菇</em>大陆,开始新的旅途吧,喜欢超级玛丽小游戏的朋友快来挑战吧!如何开始:点击play...</div><div class=\"f13\"><a class=\"c-showurl\" href=\"http://www.baidu.com/link?url=y9eP07y7cJ1BMiXvnNVg8Pf_tCMpVCgDgLiVCG8yWMWETTzxyr_TqTLC9Uo1aVlP\" style=\"text-decoration:none;\" target=\"_blank\">www.3kk.com/special/13... </a><div class=\"c-tools\" data-tools='{\"title\":\"新版超级玛丽_3kk小游戏\",\"url\":\"http://www.baidu.com/link?url=y9eP07y7cJ1BMiXvnNVg8Pf_tCMpVCgDgLiVCG8yWMWETTzxyr_TqTLC9Uo1aVlP\"}' id=\"tools_8686217139169857326_2\"><a class=\"c-tip-icon\"><i class=\"c-icon c-icon-triangle-down-g\"></i></a></div><span class=\"c-icons-outer\"><span class=\"c-icons-inner\"></span></span> - <a class=\"m\" data-click=\"{'rsv_snapshot':'1'}\" href=\"http://cache.baiducontent.com/c?m=9d78d513d9d432ac4f9d90690c66c0171943f7152ba6d20208a0843891732a41506793ac54210774d6d27d1716de3d4b9af72103341456b58cc9f85dabba8559589f5640676c835613a30ed9cf5153c337912afede19f0cd8625e2acc5a4ab4323c844747a97f1fb4d7015dd19f6033093b1e84e022e16adec4072895d605f9b3441c6508fe4251e079687aa4b3bb73dd11106e7db22c13505c313b3691d3345d05bc079465137f73f57e8304b13939b4a97296e3725a149c3aeb1b0fc3c8dcbea408f8bcdb85c957796cefd8907557023ed54c8bcccb12a144115a9c1c916b525cd8dfbce49fe64a4072bcb4a075c7cbf6880c5cf09fd381cb2a57fff5a3f3b6d4f9aa4748874293626a84949ec40dd34f3d927108fb4808b9e1244ab93d27300a4ebe01c&amp;p=882a9e4391904ead1981c16f175d&amp;newp=882a9e43919f33f40be296225b6492695803ed603cddd101298ffe0cc4241a1a1a3aecbf20201b06d4c67c6301a94b5fedf33574370434f1f689df08d2ecce7e68d4556f&amp;user=baidu&amp;fm=sc&amp;query=%A1%B6%C2%ED%C0%EF%B0%C2%A1%B7%CF%B5%C1%D0%D3%CE%CF%B7%D6%D0%C2%ED%C0%EF%B0%C2%B3%D4%C4%C4%D6%D6%D6%B2%CE%EF%BF%C9%D2%D4%CC%E5%BB%FD%B1%E4%B4%F3%3F+%28%C4%A2%B9%BD+%7C+%CD%C1%B6%B9+%7C+%CE%F7%BA%EC%CA%C1%29&amp;qid=a345c46000015dad&amp;p1=2\" target=\"_blank\">百度快照</a></div></div>"
      ],
      "text/plain": [
       "<IPython.core.display.HTML object>"
      ]
     },
     "metadata": {},
     "output_type": "display_data"
    },
    {
     "name": "stdout",
     "output_type": "stream",
     "text": [
      "http://www.baidu.com/s?q1=在战国初期下列哪一个国家未与燕国相邻?&q2=&q3=赵国+楚国+齐国&q4=&rn=50\n"
     ]
    },
    {
     "data": {
      "text/html": [
       "<h2>疑似反向问题!!</h2>"
      ],
      "text/plain": [
       "<IPython.core.display.HTML object>"
      ]
     },
     "metadata": {},
     "output_type": "display_data"
    },
    {
     "name": "stdout",
     "output_type": "stream",
     "text": [
      "question: 在战国初期下列哪一个国家未与燕国相邻?\n",
      "('A', '赵国', 1.7529320729663596)\n",
      "('C', '齐国', 0.9999999999417923)\n",
      "('B', '楚国', 0.00830936839338392)\n"
     ]
    },
    {
     "data": {
      "text/html": [
       "<div class=\"result c-container \" data-click=\"{'rsv_bdr':'0' ,'rsv_cd':'vLevel:1'}\" id=\"1\" srcid=\"1599\" tpl=\"se_com_default\"><h3 class=\"t\"><a data-click=\"{\n",
       "\t\t\t'F':'778717EA',\n",
       "\t\t\t'F1':'9D73F1E4',\n",
       "\t\t\t'F2':'4CA6DE6B',\n",
       "\t\t\t'F3':'54E5243F',\n",
       "\t\t\t'T':'1516004535',\n",
       "\t\t\t\t\t\t'y':'ED4BFBDC'\n",
       "\t\t\t \n",
       "\t\t\t\t\t\t\t\t\t}\" href=\"http://www.baidu.com/link?url=x8Mxif1jWczG7xt88y8OnL16A6LYwQeYrwoEdoRaKOGaGXSKCURB6kwiagv8wCMJ9n6oTsDtCsEkNDda7KtuFwukypD61PrMM0n4EzCxE9G\" target=\"_blank\"><em>赵国</em>简史</a></h3><div class=\"c-abstract\"><span class=\" newTimeFactor_before_abs m\">2014年8月12日 - </span>早在赵武灵王之前,中山就依仗<em>齐国</em>的支持,侵略赵地,曾经包围<em>赵国</em>的重地鄗,引水灌城,鄗城几乎不保。赵武灵王即位之后,“中山恃齐、魏而轻赵”,...</div><div class=\"f13\"><a class=\"c-showurl\" href=\"http://www.baidu.com/link?url=x8Mxif1jWczG7xt88y8OnL16A6LYwQeYrwoEdoRaKOGaGXSKCURB6kwiagv8wCMJ9n6oTsDtCsEkNDda7KtuFwukypD61PrMM0n4EzCxE9G\" style=\"text-decoration:none;\" target=\"_blank\">www.360doc.com/content... </a><div class=\"c-tools\" data-tools='{\"title\":\"赵国简史 \",\"url\":\"http://www.baidu.com/link?url=x8Mxif1jWczG7xt88y8OnL16A6LYwQeYrwoEdoRaKOGaGXSKCURB6kwiagv8wCMJ9n6oTsDtCsEkNDda7KtuFwukypD61PrMM0n4EzCxE9G\"}' id=\"tools_10773859021594343185_1\"><a class=\"c-tip-icon\"><i class=\"c-icon c-icon-triangle-down-g\"></i></a></div><span class=\"c-icons-outer\"><span class=\"c-icons-inner\"><span class=\"c-vline\"></span><span class=\"c-trust-as vstar \" data_key=\"4587693043541246114\" hint-data='{\"label\":\"北京六智信息技术股份有限公司\",\"url\":\"https://www.baidu.com/s?wd=%E5%8C%97%E4%BA%AC%E5%85%AD%E6%99%BA%E4%BF%A1%E6%81%AF%E6%8A%80%E6%9C%AF%E8%82%A1%E4%BB%BD%E6%9C%89%E9%99%90%E5%85%AC%E5%8F%B8@v&amp;vmp_ec=b8976e62dc8e3eecbe8d1f0d80bdtuk22y1Bjzdb39b9Y9c9aab50MNf9385d44daX0s1XJac3406af5&amp;vmp_ectm=1515753635&amp;from=vs\",\"hint\":[{\"txt\":\"[ecard 67]\",\"vlevel\":\"1\"}]}' hint-type=\"vstar\"><a class=\"c-icon c-icon-v c-icon-v1\" data-click=\"{'title':'vstar','rsv_vlevel':'1'}\" href=\"https://www.baidu.com/s?wd=%E5%8C%97%E4%BA%AC%E5%85%AD%E6%99%BA%E4%BF%A1%E6%81%AF%E6%8A%80%E6%9C%AF%E8%82%A1%E4%BB%BD%E6%9C%89%E9%99%90%E5%85%AC%E5%8F%B8@v&amp;vmp_ec=b8976e62dc8e3eecbe8d1f0d80bdtuk22y1Bjzdb39b9Y9c9aab50MNf9385d44daX0s1XJac3406af5&amp;vmp_ectm=1515753635&amp;from=vs&amp;product=v&amp;rsv_dl=0_left_v_1\" target=\"_blank\"></a></span></span></span> - <a class=\"m\" data-click=\"{'rsv_snapshot':'1'}\" href=\"http://cache.baiducontent.com/c?m=9d78d513d9d437a94f9be7690c66c0101e43f0152ba7db020ba78449e3732b405012e4ac56260772a0d27d1716de3d4b9bf02103341456b58cc9f85dacbd8559299f2644676a865662a30eaebb5155cb37e45efeae69f0cafb25e7ddc5a3ae4325ca44040a9781fc4d7012dd6e800347e2b1ee38025e60ad9b3372885b6028ef3430bd508d93256f779687a94b3bc13da16206e1dc22b04f05c314b3691d3334ab5bc57b462641f73f26e8304a13e2e04a93596e4052a139b7aeb6c6fc3887cb9e428cbd8bf120cf26a087fdf8025f6d17bf60a9abcab33966135f88ddde61956fe3e7bde710af438b5641b95b6b2d61cd6b89818c4af86859f7e36ee92e56202a09dfb573fb76777831df7f42f7409e&amp;p=882a9545d69a0bc30be296381e0d89&amp;newp=882a9545d69f12a05abccd2f7f5c9e231610db2151d7d7146b82c825d7331b001c3bbfb42325120fd4c67a670bac485bedf2317135012ba3dda5c91d9fb4c57479d4&amp;user=baidu&amp;fm=sc&amp;query=%D4%DA%D5%BD%B9%FA%B3%F5%C6%DA%CF%C2%C1%D0%C4%C4%D2%BB%B8%F6%B9%FA%BC%D2%CE%B4%D3%EB%D1%E0%B9%FA%CF%E0%C1%DA%3F+%28%D5%D4%B9%FA+%7C+%B3%FE%B9%FA+%7C+%C6%EB%B9%FA%29&amp;qid=b49fb9a200015726&amp;p1=1\" target=\"_blank\">百度快照</a></div></div>"
      ],
      "text/plain": [
       "<IPython.core.display.HTML object>"
      ]
     },
     "metadata": {},
     "output_type": "display_data"
    },
    {
     "data": {
      "text/html": [
       "<div class=\"result c-container \" data-click=\"{'rsv_bdr':'0' ,'rsv_cd':'vLevel:3'}\" id=\"2\" srcid=\"1530\" tpl=\"se_com_default\"><h3 class=\"t\"><a data-click=\"{\n",
       "\t\t\t'F':'778717EA',\n",
       "\t\t\t'F1':'9D73F1E4',\n",
       "\t\t\t'F2':'48A6DE6B',\n",
       "\t\t\t'F3':'54E5243F',\n",
       "\t\t\t'T':'1516004535',\n",
       "\t\t\t\t\t\t'y':'FFF5EE79'\n",
       "\t\t\t \n",
       "\t\t\t\t\t\t\t\t\t}\" href=\"http://www.baidu.com/link?url=dTnQv9bi8R68n4pOGmVzMW4OTrS_v9uwGNCr2NGjVaN37kb9_o1xJuR3JK_T9sjBb1JbkHONWhYD2FL4LvFtCP1NDubsN5IC1Q_i02zp9Ke\" target=\"_blank\"><em>赵国</em>_楚简王吧_百度贴吧</a></h3><div class=\"c-abstract\">早在赵武灵王之前,中山就依仗<em>齐国</em>的支持,侵略赵地,曾经包围<em>赵国</em>的重地鄗,引水灌城,鄗城几乎不保。赵武灵王即位之后,“中山恃齐、魏而轻赵”,多次<em>与</em>赵发生...</div><div class=\"f13\"><a class=\"c-showurl\" href=\"http://www.baidu.com/link?url=dTnQv9bi8R68n4pOGmVzMW4OTrS_v9uwGNCr2NGjVaN37kb9_o1xJuR3JK_T9sjBb1JbkHONWhYD2FL4LvFtCP1NDubsN5IC1Q_i02zp9Ke\" style=\"text-decoration:none;\" target=\"_blank\">tieba.baidu.com/p/1456... </a><div class=\"c-tools\" data-tools='{\"title\":\"赵国_楚简王吧_百度贴吧\",\"url\":\"http://www.baidu.com/link?url=dTnQv9bi8R68n4pOGmVzMW4OTrS_v9uwGNCr2NGjVaN37kb9_o1xJuR3JK_T9sjBb1JbkHONWhYD2FL4LvFtCP1NDubsN5IC1Q_i02zp9Ke\"}' id=\"tools_8766211629566860448_2\"><a class=\"c-tip-icon\"><i class=\"c-icon c-icon-triangle-down-g\"></i></a></div><span class=\"c-icons-outer\"><span class=\"c-icons-inner\"><span class=\"c-vline\"></span><span class=\"c-trust-as vstar \" data_key=\"7706407786847786660\" hint-data='{\"label\":\"北京百度网讯科技有限公司\",\"url\":\"https://www.baidu.com/s?wd=%E5%8C%97%E4%BA%AC%E7%99%BE%E5%BA%A6%E7%BD%91%E8%AE%AF%E7%A7%91%E6%8A%80%E6%9C%89%E9%99%90%E5%85%AC%E5%8F%B8@v&amp;vmp_ec=cd784c0573229a28cadfb7b69b350WQNLm2Ra153dX42af6=4=351v2RbmJ4hJ1Wh5dpL9ZX99cJs1d434a1ac97&amp;vmp_ectm=1516003406&amp;from=vs\",\"hint\":[{\"txt\":\"[ecard 119]\",\"vlevel\":\"3\"}]}' hint-type=\"vstar\"><a class=\"c-icon c-icon-v c-icon-v3\" data-click=\"{'title':'vstar','rsv_vlevel':'3'}\" href=\"https://www.baidu.com/s?wd=%E5%8C%97%E4%BA%AC%E7%99%BE%E5%BA%A6%E7%BD%91%E8%AE%AF%E7%A7%91%E6%8A%80%E6%9C%89%E9%99%90%E5%85%AC%E5%8F%B8@v&amp;vmp_ec=cd784c0573229a28cadfb7b69b350WQNLm2Ra153dX42af6=4=351v2RbmJ4hJ1Wh5dpL9ZX99cJs1d434a1ac97&amp;vmp_ectm=1516003406&amp;from=vs&amp;product=v&amp;rsv_dl=0_left_v_3\" target=\"_blank\"></a></span></span></span></div><div class=\"c-offset\"><table class=\"subLink_factory subLink_factory_right\"><tr><td class=\"first c-default \"><a href=\"http://www.baidu.com/link?url=BhSUbW5tDbklgLHLQ5MGs364OuN5hDM0a6yJ0LUeEaS7t5cOYTegxSE8tFhfDY9m\" target=\"_blank\">我收集的<em>赵国</em>资料..._<em>赵国</em>吧</a></td><td class=\"middle c-default \"></td><td class=\"last c-default rightTd\"></td></tr></table><a class=\"c\" href=\"http://www.baidu.com/link?url=s1c-b36Pl-1n7ArWCHzOld1w-nOPVt7C-T4HGDpENNUiOKvjJr3_0CiUktP0XC-LM-klZ1W9sE79yXVMgecIbfAz-_ZIJnzUEXLue64bV1GBtmxOOedwWz_BFOLEnWM7Idk7S6z7F28QLuNPnpKxrlW6cWqI6TjEcuplGZoFOSkpUJUlp8M5NOeETmq1Mlpd9asJCGlgP7JxJTKhNMyuBET6CHguxaSXjZ6ww8Ypgfe55vZS-nxaqrIbRQB7yU0Hj06GXb1mINUyx6nUaW4Fmrqi2HsSPAT9UKwvjiVAu5HN1BmbacwKuW74HRJxHQBCmHlcuvabDACaBcbD1vbNylFilQstJ7T9SpJrQeuUyE0mEAJ_WHOAt94CFKkgqFItl3ZmecpGHiqfxwcXl9DC8LOAwn0k9LLHouSHbb6-dIm\" target=\"_blank\">更多贴吧相关帖子&gt;&gt;</a></div></div>"
      ],
      "text/plain": [
       "<IPython.core.display.HTML object>"
      ]
     },
     "metadata": {},
     "output_type": "display_data"
    },
    {
     "name": "stdout",
     "output_type": "stream",
     "text": [
      "http://www.baidu.com/s?q1=吴承恩所著的《西游记》中牛魔王会多少种变化?&q2=&q3=36种+64种+72种&q4=&rn=50\n",
      "question: 吴承恩所著的《西游记》中牛魔王会多少种变化?\n",
      "('A', '36种', 1.149935007095337)\n",
      "('C', '72种', 0.31249999068677425)\n",
      "('B', '64种', 0.1328125149011612)\n"
     ]
    },
    {
     "data": {
      "text/html": [
       "<div class=\"result c-container \" data-click=\"{'rsv_bdr':'0' }\" id=\"1\" srcid=\"1599\" tpl=\"se_com_default\"><h3 class=\"t\"><a data-click=\"{\n",
       "\t\t\t'F':'778717EA',\n",
       "\t\t\t'F1':'9D63F1E4',\n",
       "\t\t\t'F2':'4CA6DE6B',\n",
       "\t\t\t'F3':'54E5243F',\n",
       "\t\t\t'T':'1516004539',\n",
       "\t\t\t\t\t\t'y':'FFF9F63E'\n",
       "\t\t\t \n",
       "\t\t\t\t\t\t\t\t\t}\" href=\"http://www.baidu.com/link?url=sCTgF9SKNfg0C3MowOWKW9c3bcGwYG6BeUjQJLYosXDdLaCsE73sGjSrnmwgQUBUVr6m3hfYn8Jah1Bu0LB4ZixBezgGcjBvRvUEw1WFlEK\" target=\"_blank\">百万英雄刚刚两道最难的问题,你答对了吗?附今晚各场问题答案</a></h3><div class=\"c-row c-gap-top-small\"><div class=\"general_image_pic c-span6\"><a class=\"c-img6\" href=\"http://www.baidu.com/link?url=sCTgF9SKNfg0C3MowOWKW9c3bcGwYG6BeUjQJLYosXDdLaCsE73sGjSrnmwgQUBUVr6m3hfYn8Jah1Bu0LB4ZixBezgGcjBvRvUEw1WFlEK\" style=\"height:75px\" target=\"_blank\"><img class=\"c-img c-img6\" src=\"http://t11.baidu.com/it/u=2105326867,1003372249&amp;fm=96&amp;s=4392E32A5645DEA82DCD05530200C0BE&amp;w=121&amp;h=75&amp;img.JPEG\" style=\"height:75px;\"/></a></div><div class=\"c-span18 c-span-last\"><div class=\"c-abstract\">7. <em>吴承恩所著的《西游记》中</em>,<em>牛魔王会多少种变化?</em> 答案:<em>36种</em> 8. 在红外线,可见光,紫外线之中,谁的波长最长? 答案:红外线 9. 第一届“重建国际奥林匹克运...</div><div class=\"f13\"><a class=\"c-showurl\" href=\"http://www.baidu.com/link?url=sCTgF9SKNfg0C3MowOWKW9c3bcGwYG6BeUjQJLYosXDdLaCsE73sGjSrnmwgQUBUVr6m3hfYn8Jah1Bu0LB4ZixBezgGcjBvRvUEw1WFlEK\" style=\"text-decoration:none;\" target=\"_blank\">https://baijiahao.baidu.com/s?... </a><div class=\"c-tools\" data-tools='{\"title\":\"百万英雄刚刚两道最难的问题,你答对了吗?附今晚各场问题答案\",\"url\":\"http://www.baidu.com/link?url=sCTgF9SKNfg0C3MowOWKW9c3bcGwYG6BeUjQJLYosXDdLaCsE73sGjSrnmwgQUBUVr6m3hfYn8Jah1Bu0LB4ZixBezgGcjBvRvUEw1WFlEK\"}' id=\"tools_13047437373670129174_1\"><a class=\"c-tip-icon\"><i class=\"c-icon c-icon-triangle-down-g\"></i></a></div><span class=\"c-icons-outer\"><span class=\"c-icons-inner\"></span></span> - <a class=\"m\" data-click=\"{'rsv_snapshot':'1'}\" href=\"http://cache.baiducontent.com/c?m=9f65cb4a8c8507ed19fa950d100b8735420cdb3066848d027fa3c31bc8321c564711b2e6783f5113d2b1273116ae3f5fedfa3d76370025b29ace8b4ddabd902c2f8230347459d20105d26fee891d739660875aedfb44a7adf144d1ffc696821405c544740d97878b4d7015dd19f20341e7b1ed4d025e60ad9c40728b526028ef3436b2508dea256f779686da4b3dc53dd11106e4ac22c03a05b463b36e6c3330a55bc709465747f73f56e8353813939b4a94296e3026a149c3aeb7b2fc3e8ecbeb418f8bccb85c947797c3fd8a74550124ed51b9bcbcc22a143515aec9c917b425ccfefbcd4efe65dc072ab14a775f7cb86f83f48b40f3124d84e47f892f3556581dacc763ff04716b26a94e0fc71bd703b599763ad8ec8a89ef0233ab8eb37760fedcba42a06c7e349a235560c8&amp;p=98638b0385cc43f919bd9b79094e&amp;newp=b449c80385cc43ff57ea906f560592695912c10e3ad1c44324b9d71fd325001c1b69e3b823281603d4c6786c15e9241dbdb239256b55&amp;user=baidu&amp;fm=sc&amp;query=%CE%E2%B3%D0%B6%F7%CB%F9%D6%F8%B5%C4%A1%B6%CE%F7%D3%CE%BC%C7%A1%B7%D6%D0%C5%A3%C4%A7%CD%F5%BB%E1%B6%E0%C9%D9%D6%D6%B1%E4%BB%AF%3F+%2836%D6%D6+%7C+64%D6%D6+%7C+72%D6%D6%29&amp;qid=af03e3be00015914&amp;p1=1\" target=\"_blank\">百度快照</a></div></div></div></div>"
      ],
      "text/plain": [
       "<IPython.core.display.HTML object>"
      ]
     },
     "metadata": {},
     "output_type": "display_data"
    },
    {
     "data": {
      "text/html": [
       "<div class=\"result c-container \" data-click=\"{'rsv_bdr':'0' ,'rsv_cd':'vLevel:1'}\" id=\"2\" srcid=\"1599\" tpl=\"se_com_default\"><h3 class=\"t\"><a data-click=\"{\n",
       "\t\t\t'F':'778717EA',\n",
       "\t\t\t'F1':'9D73F1E4',\n",
       "\t\t\t'F2':'4CA6DE6B',\n",
       "\t\t\t'F3':'54E5242F',\n",
       "\t\t\t'T':'1516004539',\n",
       "\t\t\t\t\t\t'y':'BFFFDEB7'\n",
       "\t\t\t \n",
       "\t\t\t\t\t\t\t\t\t}\" href=\"http://www.baidu.com/link?url=errB7bRjJPYxE3P7SpmO5x3Fdp-Kl1pcLURnBZQHmHZNnAYr-ID26SgI1wFpCX17Lou3drxpwAfqJAUlMh-BC_\" target=\"_blank\"><em>牛魔王</em>在妖精中算什么档次<em>的?</em> - 知乎</a></h3><div class=\"c-row c-gap-top-small\"><div class=\"general_image_pic c-span6\"><a class=\"c-img6\" href=\"http://www.baidu.com/link?url=errB7bRjJPYxE3P7SpmO5x3Fdp-Kl1pcLURnBZQHmHZNnAYr-ID26SgI1wFpCX17Lou3drxpwAfqJAUlMh-BC_\" style=\"height:75px\" target=\"_blank\"><img class=\"c-img c-img6\" src=\"http://i7.baidu.com/it/u=1314749586,2825891287&amp;fm=85&amp;s=4CB812D5462177159A052DE903007036\" style=\"height:75px;\"/></a></div><div class=\"c-span18 c-span-last\"><div class=\"c-abstract\"><span class=\" newTimeFactor_before_abs m\">2017年7月2日 - </span>孙悟空结拜的这六个大哥,其他<em>几个</em>的身份其实并不清楚,刚开始看的时候我以为鹏<em>魔王</em>和狮驼王是狮驼岭上手眼通天和<em>西游记</em>里黑道势力最大的狮驼岭三妖,但是实际上不是...</div><div class=\"f13\"><a class=\"c-showurl\" href=\"http://www.baidu.com/link?url=errB7bRjJPYxE3P7SpmO5x3Fdp-Kl1pcLURnBZQHmHZNnAYr-ID26SgI1wFpCX17Lou3drxpwAfqJAUlMh-BC_\" style=\"text-decoration:none;\" target=\"_blank\">https://www.zhihu.com/question... </a><div class=\"c-tools\" data-tools='{\"title\":\"牛魔王在妖精中算什么档次的? - 知乎\",\"url\":\"http://www.baidu.com/link?url=errB7bRjJPYxE3P7SpmO5x3Fdp-Kl1pcLURnBZQHmHZNnAYr-ID26SgI1wFpCX17Lou3drxpwAfqJAUlMh-BC_\"}' id=\"tools_4905155072734825802_2\"><a class=\"c-tip-icon\"><i class=\"c-icon c-icon-triangle-down-g\"></i></a></div><span class=\"c-icons-outer\"><span class=\"c-icons-inner\"><span class=\"c-vline\"></span><span class=\"c-trust-as vstar \" data_key=\"12397541887370352527\" hint-data='{\"label\":\"北京智者天下科技有限公司\",\"url\":\"https://www.baidu.com/s?wd=%E5%8C%97%E4%BA%AC%E6%99%BA%E8%80%85%E5%A4%A9%E4%B8%8B%E7%A7%91%E6%8A%80%E6%9C%89%E9%99%90%E5%85%AC%E5%8F%B8@v&amp;vmp_ec=27204328ae9effdf76aaf4945j5d1abl4o6Gaybffdaf=26b620eScds8da3JX5d30164Xb5dfda1bb8&amp;vmp_ectm=1516004272&amp;from=vs\",\"hint\":[{\"txt\":\"[ecard 72]\",\"vlevel\":\"1\"}]}' hint-type=\"vstar\"><a class=\"c-icon c-icon-v c-icon-v1\" data-click=\"{'title':'vstar','rsv_vlevel':'1'}\" href=\"https://www.baidu.com/s?wd=%E5%8C%97%E4%BA%AC%E6%99%BA%E8%80%85%E5%A4%A9%E4%B8%8B%E7%A7%91%E6%8A%80%E6%9C%89%E9%99%90%E5%85%AC%E5%8F%B8@v&amp;vmp_ec=27204328ae9effdf76aaf4945j5d1abl4o6Gaybffdaf=26b620eScds8da3JX5d30164Xb5dfda1bb8&amp;vmp_ectm=1516004272&amp;from=vs&amp;product=v&amp;rsv_dl=0_left_v_1\" target=\"_blank\"></a></span></span></span> - <a class=\"m\" data-click=\"{'rsv_snapshot':'1'}\" href=\"http://cache.baiducontent.com/c?m=9f65cb4a8c8507ed19fa950d100b92235c438014748d8b4f38c3933fc239045c0421b4fa61794d58cec57f650bac4e5eece4732f77552fa0eabf9f3dddace22938fe25230018913517c418dfdc3755d6549b4de8df0e91bee74699b9d3a3c82454dd22036d81809c290303ba6be71541f4d7ee5f615a07ccec2714884e0758885245a14689f7416d10f1f3ca5d3cd45cd4766795b834c02963b204d71e0c5542b73fb41f205027944830fe342a74e2fc2ae43d783034c64ca4cec3a19a439baae126998adcd92b8216e2d2eb89663273458d23a9dbcda54e105202a8cbda01c542ab8ce8ad3aed03d76158bc4a775f7cb86f83f48b40f2135ff4f0698e3e54223f7cdb&amp;p=c06dde1786cc41af5aad882d0214c4&amp;newp=82769a479e9700ff57ed947c494185231610db2151d7d6146b82c825d7331b001c3bbfb42325120fd4c67a670bac485bedf2317135012ba3dda5c91d9fb4c57479c07375&amp;user=baidu&amp;fm=sc&amp;query=%CE%E2%B3%D0%B6%F7%CB%F9%D6%F8%B5%C4%A1%B6%CE%F7%D3%CE%BC%C7%A1%B7%D6%D0%C5%A3%C4%A7%CD%F5%BB%E1%B6%E0%C9%D9%D6%D6%B1%E4%BB%AF%3F+%2836%D6%D6+%7C+64%D6%D6+%7C+72%D6%D6%29&amp;qid=af03e3be00015914&amp;p1=2\" target=\"_blank\">百度快照</a></div></div></div></div>"
      ],
      "text/plain": [
       "<IPython.core.display.HTML object>"
      ]
     },
     "metadata": {},
     "output_type": "display_data"
    }
   ],
   "source": [
    "with open('questions.txt','r') as f:\n",
    "    i = 0\n",
    "    for line in f:\n",
    "        question, opt_a, opt_b, opt_c = map(lambda s:s.strip(), line.split(','))\n",
    "        search_ans(question, opt_a, opt_b, opt_c)\n",
    "        time.sleep(1)\n",
    "        i += 1\n",
    "        if i > 5:\n",
    "            break"
   ]
  },
  {
   "cell_type": "code",
   "execution_count": null,
   "metadata": {
    "collapsed": true
   },
   "outputs": [],
   "source": []
  }
 ],
 "metadata": {
  "kernelspec": {
   "display_name": "Python 3",
   "language": "python",
   "name": "python3"
  },
  "language_info": {
   "codemirror_mode": {
    "name": "ipython",
    "version": 3
   },
   "file_extension": ".py",
   "mimetype": "text/x-python",
   "name": "python",
   "nbconvert_exporter": "python",
   "pygments_lexer": "ipython3",
   "version": "3.6.3"
  }
 },
 "nbformat": 4,
 "nbformat_minor": 2
}
