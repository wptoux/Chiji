{
 "cells": [
  {
   "cell_type": "code",
   "execution_count": 61,
   "metadata": {},
   "outputs": [],
   "source": [
    "import PIL\n",
    "import subprocess\n",
    "import re\n",
    "import os\n",
    "import time\n",
    "import io"
   ]
  },
  {
   "cell_type": "code",
   "execution_count": 56,
   "metadata": {
    "collapsed": true
   },
   "outputs": [],
   "source": [
    "def capture_img():\n",
    "        subprocess.call('.\\\\adb\\\\adb shell /system/bin/screencap -p /sdcard/screenshot.png')\n",
    "        time.sleep(0.1)\n",
    "        subprocess.call('.\\\\adb\\\\adb pull /sdcard/screenshot.png %s' % './tmp/screenshot.png')\n",
    "        time.sleep(0.1)\n",
    "        \n",
    "        im = PIL.Image.open('./tmp/screenshot.png')\n",
    "        im = im.convert('RGB')\n",
    "        im.save()\n",
    "        \n",
    "        with open('./tmp/screenshot.jpg', 'rb') as fp:\n",
    "            return fp.read()"
   ]
  },
  {
   "cell_type": "code",
   "execution_count": 58,
   "metadata": {
    "collapsed": true
   },
   "outputs": [],
   "source": [
    "im.save?"
   ]
  },
  {
   "cell_type": "code",
   "execution_count": 3,
   "metadata": {
    "collapsed": true
   },
   "outputs": [],
   "source": [
    "from aip import AipOcr\n",
    "\n",
    "\"\"\" 你的 APPID AK SK \"\"\"\n",
    "APP_ID = '10662052'\n",
    "API_KEY = 'BYIKECybem5hLf2yLKHt3YL4'\n",
    "SECRET_KEY = '54Gc3ED41jcj5xPfXiQMZxuvlvYtGGfr'\n",
    "\n",
    "client = AipOcr(APP_ID, API_KEY, SECRET_KEY)"
   ]
  },
  {
   "cell_type": "code",
   "execution_count": 50,
   "metadata": {},
   "outputs": [],
   "source": [
    "def search_ans():\n",
    "    image = capture_img()\n",
    "\n",
    "    print('Parsing pic...')\n",
    "    rst = client.accurate(image)\n",
    "\n",
    "    question = None\n",
    "    options = ['A','B','C']\n",
    "    opt = {}\n",
    "    for p in rst['words_result']:\n",
    "        word = p['words']\n",
    "\n",
    "        if re.match(r'^\\d+\\.',word) != None:\n",
    "            question = word[2:].strip()\n",
    "        else:\n",
    "            for o in options:\n",
    "                regex = '^%s\\\\.' % o\n",
    "                if re.match(regex, word) != None:\n",
    "                    opt[o] = word[2:].strip()\n",
    "\n",
    "    if question != None and question != '':\n",
    "        print('question:', question)\n",
    "\n",
    "        for k, v in opt.items():\n",
    "            if v != None and v != '':\n",
    "                print('option:', k, v)\n",
    "                os.system('start www.baidu.com/s?wd=%s' % v)\n",
    "                \n",
    "        os.system('start www.baidu.com/s?wd=%s' % question)\n",
    "    else:\n",
    "        print('No question found!')\n"
   ]
  },
  {
   "cell_type": "code",
   "execution_count": 57,
   "metadata": {},
   "outputs": [
    {
     "name": "stdout",
     "output_type": "stream",
     "text": [
      "\n",
      "Parsing pic...\n",
      "question: “读书破万卷”的下一句是什么?\n",
      "option: A 下笔如有神\n",
      "option: B 下笔神助攻\n",
      "option: C 如有神助攻\n",
      "q\n"
     ]
    }
   ],
   "source": [
    "while True:\n",
    "    ipt = input()\n",
    "    if ipt == 'q':\n",
    "        break\n",
    "    else:\n",
    "        search_ans()"
   ]
  }
 ],
 "metadata": {
  "kernelspec": {
   "display_name": "Python 3",
   "language": "python",
   "name": "python3"
  },
  "language_info": {
   "codemirror_mode": {
    "name": "ipython",
    "version": 3
   },
   "file_extension": ".py",
   "mimetype": "text/x-python",
   "name": "python",
   "nbconvert_exporter": "python",
   "pygments_lexer": "ipython3",
   "version": "3.6.3"
  }
 },
 "nbformat": 4,
 "nbformat_minor": 2
}
