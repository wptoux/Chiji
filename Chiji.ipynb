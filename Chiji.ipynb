{
 "cells": [
  {
   "cell_type": "code",
   "execution_count": 1,
   "metadata": {
    "collapsed": true
   },
   "outputs": [],
   "source": [
    "import PIL\n",
    "import subprocess\n",
    "import re\n",
    "import os\n",
    "import time\n",
    "import io\n",
    "import cv2\n",
    "import requests\n",
    "import bs4\n",
    "import jieba\n",
    "import jieba.analyse\n",
    "from IPython.display import display, HTML\n",
    "import json"
   ]
  },
  {
   "cell_type": "code",
   "execution_count": 2,
   "metadata": {
    "collapsed": true
   },
   "outputs": [],
   "source": [
    "def capture_img():\n",
    "    subprocess.call('.\\\\adb\\\\adb shell /system/bin/screencap -p /sdcard/screenshot.png')\n",
    "    time.sleep(0.1)\n",
    "    subprocess.call('.\\\\adb\\\\adb pull /sdcard/screenshot.png %s' % './tmp/screenshot.png')\n",
    "    time.sleep(0.1)\n",
    "    \n",
    "    return cv2.imread('./tmp/screenshot.png')"
   ]
  },
  {
   "cell_type": "code",
   "execution_count": 3,
   "metadata": {
    "collapsed": true
   },
   "outputs": [],
   "source": [
    "%run key.py"
   ]
  },
  {
   "cell_type": "code",
   "execution_count": 4,
   "metadata": {
    "collapsed": true
   },
   "outputs": [],
   "source": [
    "from aip import AipOcr\n",
    "\n",
    "client = AipOcr(AIP_APP_ID, AIP_API_KEY, AIP_SECRET_KEY)"
   ]
  },
  {
   "cell_type": "code",
   "execution_count": 5,
   "metadata": {
    "collapsed": true
   },
   "outputs": [],
   "source": [
    "def get_text_in_region(aip_rst, region):\n",
    "    s = ''\n",
    "    if 'words_result' in aip_rst:\n",
    "        words = []\n",
    "        for p in aip_rst['words_result']:\n",
    "            loc = p['location']\n",
    "            if loc['top'] > region[0] and loc['top'] + loc['height'] < region[1] \\\n",
    "                and loc['left'] > region[2] and loc['left'] + loc['width'] < region[3]:\n",
    "                if loc['left'] < 1080 / 2: # only get words that starts from left\n",
    "                    words.append(p['words'])\n",
    "        s = ''.join(words)\n",
    "        \n",
    "    if s != '':\n",
    "        # remove heading, like 1. A. B.\n",
    "        if re.match(r\"^A|B|C|\\d+\\.|,|。|，\", s) != None: \n",
    "            ss = re.split(r\"\\.|,|。|，\",s)\n",
    "            if len(ss) > 1:\n",
    "                s = ''.join(ss[1:])\n",
    "            \n",
    "    return s"
   ]
  },
  {
   "cell_type": "code",
   "execution_count": 6,
   "metadata": {
    "collapsed": true
   },
   "outputs": [],
   "source": [
    "def ocr(im, regions):\n",
    "    _, byte_arr = cv2.imencode('.jpg', im, [int(cv2.IMWRITE_JPEG_QUALITY), 90])\n",
    "    aip_rst = client.general(byte_arr.tobytes())\n",
    "    return [get_text_in_region(aip_rst, region) for region in regions]"
   ]
  },
  {
   "cell_type": "code",
   "execution_count": 7,
   "metadata": {
    "collapsed": true
   },
   "outputs": [],
   "source": [
    "def go_search(s, engine='google'):\n",
    "    if engine == 'google':\n",
    "        os.system('start www.google.com/search?q=%s' % s)\n",
    "    elif engine == 'baidu':\n",
    "        os.system('start www.baidu.com/s?wd=%s' % s)"
   ]
  },
  {
   "cell_type": "code",
   "execution_count": 8,
   "metadata": {
    "collapsed": true
   },
   "outputs": [],
   "source": [
    "def search(question):\n",
    "    rst = requests.get('http://www.baidu.com/s?wd=%s&rn=50' % question)\n",
    "    rst.encoding = 'utf-8'\n",
    "    search_rst = rst.text\n",
    "    \n",
    "    soup = bs4.BeautifulSoup(search_rst, 'html.parser')\n",
    "    rst = soup.select('div#content_left')[0]\n",
    "    return rst.text\n",
    "\n",
    "def search_advanced(question_words, opt_words, return_string=True, engine='baidu'):\n",
    "    '''\n",
    "    Advanced search\n",
    "    question_words: list of words of the question\n",
    "    opt_words: list of list of words of the options\n",
    "    '''\n",
    "    all_opt_words = []\n",
    "    \n",
    "    for words in opt_words:\n",
    "        all_opt_words += words\n",
    "        \n",
    "    \n",
    "    if engine == 'baidu':\n",
    "        rst = requests.get('http://www.baidu.com/s?q1=%s&q2=&q3=%s&q4=&rn=50' % (\n",
    "            '+'.join(question_words),\n",
    "            '+'.join(all_opt_words)))\n",
    "        print('http://www.baidu.com/s?q1=%s&q2=&q3=%s&q4=&rn=50' % (\n",
    "            '+'.join(question_words),\n",
    "            '+'.join(all_opt_words)))\n",
    "        rst.encoding = 'utf-8'\n",
    "        search_rst = rst.text\n",
    "\n",
    "        soup = bs4.BeautifulSoup(search_rst, 'html.parser')\n",
    "        rst = soup.select('div#content_left')[0]\n",
    "\n",
    "        if return_string:\n",
    "            return rst.text\n",
    "        else:\n",
    "            ret = []\n",
    "\n",
    "            containers = rst.select('.c-container')\n",
    "\n",
    "            for c in containers:\n",
    "                datum = {}\n",
    "                title = c.select('h3')\n",
    "                title = title[0].text if len(title) > 0 else ''\n",
    "\n",
    "                abstract = c.select('.c-abstract')\n",
    "                abstract = abstract[0].text if len(abstract) > 0 else ''\n",
    "\n",
    "                datum['title'] = title\n",
    "                datum['abstract'] = abstract\n",
    "\n",
    "                datum['html'] = str(c)\n",
    "                ret.append(datum)\n",
    "            return ret\n",
    "            \n",
    "    elif engine == 'google':\n",
    "        'https://www.google.com.hk/search?num=50&source=hp&ei=G2dcWsidNJGajwPcurTgDA&q=a+bc&oq=a+bc&gs_l=psy-ab.3...1983.2905.0.3161.5.4.0.0.0.0.0.0..0.0....0...1c.1.64.psy-ab..5.0.0.0...0.ulvJkmLzPfA'\n",
    "        'https://www.google.com.hk/search?hl=en&as_q=a+b&as_epq=&as_oq=c+d&as_eq=&as_nlo=&as_nhi=&lr=&cr=&as_qdr=all&as_sitesearch=&as_occt=any&safe=images&as_filetype=&as_rights='\n",
    "    return '' if return_string else []"
   ]
  },
  {
   "cell_type": "code",
   "execution_count": 80,
   "metadata": {
    "collapsed": true
   },
   "outputs": [],
   "source": [
    "rst = requests.get('https://www.googleapis.com/customsearch/v1?key=%s&cx=%s&q=%s' % (\n",
    "    G_KEY,\n",
    "    G_CX,\n",
    "    'hello world'), \n",
    "    proxies={'http':'127.0.0.1:1080','https':'127.0.0.1:1080'}, verify=False)"
   ]
  },
  {
   "cell_type": "code",
   "execution_count": 84,
   "metadata": {},
   "outputs": [
    {
     "data": {
      "text/plain": [
       "'{\\n \"kind\": \"customsearch#search\",\\n \"url\": {\\n  \"type\": \"application/json\",\\n  \"template\": \"https://www.googleapis.com/customsearch/v1?q={searchTerms}&num={count?}&start={startIndex?}&lr={language?}&safe={safe?}&cx={cx?}&sort={sort?}&filter={filter?}&gl={gl?}&cr={cr?}&googlehost={googleHost?}&c2coff={disableCnTwTranslation?}&hq={hq?}&hl={hl?}&siteSearch={siteSearch?}&siteSearchFilter={siteSearchFilter?}&exactTerms={exactTerms?}&excludeTerms={excludeTerms?}&linkSite={linkSite?}&orTerms={orTerms?}&relatedSite={relatedSite?}&dateRestrict={dateRestrict?}&lowRange={lowRange?}&highRange={highRange?}&searchType={searchType}&fileType={fileType?}&rights={rights?}&imgSize={imgSize?}&imgType={imgType?}&imgColorType={imgColorType?}&imgDominantColor={imgDominantColor?}&alt=json\"\\n },\\n \"queries\": {\\n  \"request\": [\\n   {\\n    \"title\": \"Google Custom Search - hello world\",\\n    \"totalResults\": \"65500000\",\\n    \"searchTerms\": \"hello world\",\\n    \"count\": 10,\\n    \"startIndex\": 1,\\n    \"inputEncoding\": \"utf8\",\\n    \"outputEncoding\": \"utf8\",\\n    \"safe\": \"off\",\\n    \"cx\": \"018331586364722641289:r3cvkpozqwq\"\\n   }\\n  ],\\n  \"nextPage\": [\\n   {\\n    \"title\": \"Google Custom Search - hello world\",\\n    \"totalResults\": \"65500000\",\\n    \"searchTerms\": \"hello world\",\\n    \"count\": 10,\\n    \"startIndex\": 11,\\n    \"inputEncoding\": \"utf8\",\\n    \"outputEncoding\": \"utf8\",\\n    \"safe\": \"off\",\\n    \"cx\": \"018331586364722641289:r3cvkpozqwq\"\\n   }\\n  ]\\n },\\n \"context\": {\\n  \"title\": \"Chiji\"\\n },\\n \"searchInformation\": {\\n  \"searchTime\": 0.53187,\\n  \"formattedSearchTime\": \"0.53\",\\n  \"totalResults\": \"65500000\",\\n  \"formattedTotalResults\": \"65,500,000\"\\n },\\n \"items\": [\\n  {\\n   \"kind\": \"customsearch#result\",\\n   \"title\": \"Hello World - 维基百科，自由的百科全书\",\\n   \"htmlTitle\": \"\\\\u003cb\\\\u003eHello World\\\\u003c/b\\\\u003e - 维基百科，自由的百科全书\",\\n   \"link\": \"https://zh.wikipedia.org/zh-hans/Hello_World\",\\n   \"displayLink\": \"zh.wikipedia.org\",\\n   \"snippet\": \"Hello, World程序指的是指在计算机屏幕上输出“Hello, World!”（意为「你好，世界！」\\\\n）这行字符串的计算机程序。一般来说，这是每一种计算机编程语言中最基本、最简单\\\\n的程序，亦通常是初学者所编写的第一个程序。它还可以用来确定该语言的编译器、\\\\n程序开发环境，以及运行环境是否已经安装妥當。 将输出字符串“Hello World”作为第\\\\n\\xa0...\",\\n   \"htmlSnippet\": \"\\\\u003cb\\\\u003eHello\\\\u003c/b\\\\u003e, \\\\u003cb\\\\u003eWorld\\\\u003c/b\\\\u003e程序指的是指在计算机屏幕上输出“\\\\u003cb\\\\u003eHello\\\\u003c/b\\\\u003e, \\\\u003cb\\\\u003eWorld\\\\u003c/b\\\\u003e!”（意为「你好，世界！」\\\\u003cbr\\\\u003e\\\\n）这行字符串的计算机程序。一般来说，这是每一种计算机编程语言中最基本、最简单\\\\u003cbr\\\\u003e\\\\n的程序，亦通常是初学者所编写的第一个程序。它还可以用来确定该语言的编译器、\\\\u003cbr\\\\u003e\\\\n程序开发环境，以及运行环境是否已经安装妥當。 将输出字符串“\\\\u003cb\\\\u003eHello World\\\\u003c/b\\\\u003e”作为第\\\\u003cbr\\\\u003e\\\\n&nbsp;...\",\\n   \"cacheId\": \"_njBYFs_i0oJ\",\\n   \"formattedUrl\": \"https://zh.wikipedia.org/zh-hans/Hello_World\",\\n   \"htmlFormattedUrl\": \"https://zh.wikipedia.org/zh-hans/\\\\u003cb\\\\u003eHello\\\\u003c/b\\\\u003e_\\\\u003cb\\\\u003eWorld\\\\u003c/b\\\\u003e\",\\n   \"pagemap\": {\\n    \"cse_thumbnail\": [\\n     {\\n      \"width\": \"183\",\\n      \"height\": \"181\",\\n      \"src\": \"https://encrypted-tbn2.gstatic.com/images?q=tbn:ANd9GcT6myvXx9yR0-HmOspu7mcgzg3TxK8VKuRekVYOCYe9hoC2eMaJJXx32M7U\"\\n     }\\n    ],\\n    \"metatags\": [\\n     {\\n      \"referrer\": \"origin-when-cross-origin\",\\n      \"og:image\": \"https://upload.wikimedia.org/wikipedia/commons/a/ae/Hello_World%21_in_AutoIt%21_3.2_on_Windows_Vista.png\"\\n     }\\n    ],\\n    \"cse_image\": [\\n     {\\n      \"src\": \"https://upload.wikimedia.org/wikipedia/commons/a/ae/Hello_World%21_in_AutoIt%21_3.2_on_Windows_Vista.png\"\\n     }\\n    ]\\n   }\\n  },\\n  {\\n   \"kind\": \"customsearch#result\",\\n   \"title\": \"\\\\\"Hello, World!\\\\\" program - Wikipedia\",\\n   \"htmlTitle\": \"&quot;\\\\u003cb\\\\u003eHello\\\\u003c/b\\\\u003e, \\\\u003cb\\\\u003eWorld\\\\u003c/b\\\\u003e!&quot; program - Wikipedia\",\\n   \"link\": \"https://en.wikipedia.org/wiki/%22Hello,_World!%22_program\",\\n   \"displayLink\": \"en.wikipedia.org\",\\n   \"snippet\": \"A \\\\\"Hello, World!\\\\\" program is a computer program that outputs or displays \\\\\"Hello, \\\\nWorld!\\\\\" to a user. Being a very simple program in most programming languages, \\\\nit is often used to illustrate the basic syntax of a programming language for a \\\\nworking program. It is often the very first program people write when they are new \\\\nto a\\xa0...\",\\n   \"htmlSnippet\": \"A &quot;\\\\u003cb\\\\u003eHello\\\\u003c/b\\\\u003e, \\\\u003cb\\\\u003eWorld\\\\u003c/b\\\\u003e!&quot; program is a computer program that outputs or displays &quot;\\\\u003cb\\\\u003eHello\\\\u003c/b\\\\u003e, \\\\u003cbr\\\\u003e\\\\n\\\\u003cb\\\\u003eWorld\\\\u003c/b\\\\u003e!&quot; to a user. Being a very simple program in most programming languages, \\\\u003cbr\\\\u003e\\\\nit is often used to illustrate the basic syntax of a programming language for a \\\\u003cbr\\\\u003e\\\\nworking program. It is often the very first program people write when they are new \\\\u003cbr\\\\u003e\\\\nto a&nbsp;...\",\\n   \"cacheId\": \"UInCiDfJyeUJ\",\\n   \"formattedUrl\": \"https://en.wikipedia.org/wiki/%22Hello,_World!%22_program\",\\n   \"htmlFormattedUrl\": \"https://en.wikipedia.org/wiki/%22\\\\u003cb\\\\u003eHello\\\\u003c/b\\\\u003e,_\\\\u003cb\\\\u003eWorld\\\\u003c/b\\\\u003e!%22_program\",\\n   \"pagemap\": {\\n    \"cse_thumbnail\": [\\n     {\\n      \"width\": \"238\",\\n      \"height\": \"212\",\\n      \"src\": \"https://encrypted-tbn3.gstatic.com/images?q=tbn:ANd9GcTFLxy-NkoRc8X1raAyJEmapXg__cbu-F9ZuUs3fn__kf5vwMvqRQkmE2Y\"\\n     }\\n    ],\\n    \"metatags\": [\\n     {\\n      \"referrer\": \"origin-when-cross-origin\",\\n      \"og:image\": \"https://upload.wikimedia.org/wikipedia/commons/0/0b/HelloWorld_Maktivism_ComputerProgramming_LEDs.jpg\"\\n     }\\n    ],\\n    \"cse_image\": [\\n     {\\n      \"src\": \"https://upload.wikimedia.org/wikipedia/commons/0/0b/HelloWorld_Maktivism_ComputerProgramming_LEDs.jpg\"\\n     }\\n    ]\\n   }\\n  },\\n  {\\n   \"kind\": \"customsearch#result\",\\n   \"title\": \"HelloWorld, A Merkle Company\",\\n   \"htmlTitle\": \"\\\\u003cb\\\\u003eHelloWorld\\\\u003c/b\\\\u003e, A Merkle Company\",\\n   \"link\": \"http://www.helloworld.com/\",\\n   \"displayLink\": \"www.helloworld.com\",\\n   \"snippet\": \"A powerful combination of native technology and marketing strategy allowing \\\\nbrands to create unforgettable interactions, drive consumer demand and \\\\naccelerate growth.\",\\n   \"htmlSnippet\": \"A powerful combination of native technology and marketing strategy allowing \\\\u003cbr\\\\u003e\\\\nbrands to create unforgettable interactions, drive consumer demand and \\\\u003cbr\\\\u003e\\\\naccelerate growth.\",\\n   \"cacheId\": \"QaCp7ECVKlQJ\",\\n   \"formattedUrl\": \"www.helloworld.com/\",\\n   \"htmlFormattedUrl\": \"www.\\\\u003cb\\\\u003ehelloworld\\\\u003c/b\\\\u003e.com/\",\\n   \"pagemap\": {\\n    \"cse_thumbnail\": [\\n     {\\n      \"width\": \"225\",\\n      \"height\": \"225\",\\n      \"src\": \"https://encrypted-tbn0.gstatic.com/images?q=tbn:ANd9GcQfh1sLJSuzhAVuHNEwL0UYkc1PZkxRsbAtrY-iCO1C8ayblwAynYYm_yM\"\\n     }\\n    ],\\n    \"metatags\": [\\n     {\\n      \"viewport\": \"width=device-width, initial-scale=1, shrink-to-fit=no\",\\n      \"twitter:card\": \"summary\",\\n      \"twitter:url\": \"http://www.helloworld.com/\",\\n      \"og:url\": \"https://www.helloworld.com/https://www.helloworld.com/\",\\n      \"og:title\": \"HelloWorld, A Merkle Company\",\\n      \"og:description\": \"A powerful combination of native technology and marketing strategy allowing brands to create unforgettable interactions, drive consumer demand and accelerate growth.\",\\n      \"og:image\": \"https://www.helloworld.com/img/global/social-thumbnail.jpg\"\\n     }\\n    ],\\n    \"cse_image\": [\\n     {\\n      \"src\": \"https://www.helloworld.com/img/global/social-thumbnail.jpg\"\\n     }\\n    ]\\n   }\\n  },\\n  {\\n   \"kind\": \"customsearch#result\",\\n   \"title\": \"Hello, World! - Learn Python - Free Interactive Python Tutorial\",\\n   \"htmlTitle\": \"\\\\u003cb\\\\u003eHello\\\\u003c/b\\\\u003e, \\\\u003cb\\\\u003eWorld\\\\u003c/b\\\\u003e! - Learn Python - Free Interactive Python Tutorial\",\\n   \"link\": \"https://www.learnpython.org/en/Hello%2C_World%21\",\\n   \"displayLink\": \"www.learnpython.org\",\\n   \"snippet\": \"Hello, World! Python is a very simple language, and has a very straightforward \\\\nsyntax. It encourages programmers to program without boilerplate (prepared) \\\\ncode. The simplest directive in Python is the \\\\\"print\\\\\" directive - it simply prints out a \\\\nline (and also includes a newline, unlike in C). There are two major Python \\\\nversions,\\xa0...\",\\n   \"htmlSnippet\": \"\\\\u003cb\\\\u003eHello\\\\u003c/b\\\\u003e, \\\\u003cb\\\\u003eWorld\\\\u003c/b\\\\u003e! Python is a very simple language, and has a very straightforward \\\\u003cbr\\\\u003e\\\\nsyntax. It encourages programmers to program without boilerplate (prepared) \\\\u003cbr\\\\u003e\\\\ncode. The simplest directive in Python is the &quot;print&quot; directive - it simply prints out a \\\\u003cbr\\\\u003e\\\\nline (and also includes a newline, unlike in C). There are two major Python \\\\u003cbr\\\\u003e\\\\nversions,&nbsp;...\",\\n   \"cacheId\": \"ElcIxWQWBaMJ\",\\n   \"formattedUrl\": \"https://www.learnpython.org/en/Hello%2C_World%21\",\\n   \"htmlFormattedUrl\": \"https://www.learnpython.org/en/\\\\u003cb\\\\u003eHello\\\\u003c/b\\\\u003e%2C_\\\\u003cb\\\\u003eWorld\\\\u003c/b\\\\u003e%21\",\\n   \"pagemap\": {\\n    \"cse_thumbnail\": [\\n     {\\n      \"width\": \"200\",\\n      \"height\": \"200\",\\n      \"src\": \"https://encrypted-tbn3.gstatic.com/images?q=tbn:ANd9GcSgbQzN87YWgRywHA3dQlPZbuSfPCFjzGSSCtLVOsDBAAgkdRdWjpFu4BE\"\\n     }\\n    ],\\n    \"metatags\": [\\n     {\\n      \"viewport\": \"width=device-width, initial-scale=1\",\\n      \"og:title\": \"Hello, World! - Learn Python - Free Interactive Python Tutorial\",\\n      \"og:type\": \"website\",\\n      \"og:url\": \"http://learnpython.org/\",\\n      \"og:image\": \"http://learnpython.org/static/img/share-logos/learnpython-share.png\"\\n     }\\n    ],\\n    \"cse_image\": [\\n     {\\n      \"src\": \"http://learnpython.org/static/img/share-logos/learnpython-share.png\"\\n     }\\n    ]\\n   }\\n  },\\n  {\\n   \"kind\": \"customsearch#result\",\\n   \"title\": \"Express \\\\\"Hello World\\\\\" example\",\\n   \"htmlTitle\": \"Express &quot;\\\\u003cb\\\\u003eHello World\\\\u003c/b\\\\u003e&quot; example\",\\n   \"link\": \"http://expressjs.com/starter/hello-world.html\",\\n   \"displayLink\": \"expressjs.com\",\\n   \"snippet\": \"Hello world example. Embedded below is essentially the simplest Express app \\\\nyou can create. It is a single file app — not what you\\'d get if you use the Express \\\\ngenerator, which creates the scaffolding for a full app with numerous JavaScript \\\\nfiles, Jade templates, and sub-directories for various purposes.\",\\n   \"htmlSnippet\": \"\\\\u003cb\\\\u003eHello world\\\\u003c/b\\\\u003e example. Embedded below is essentially the simplest Express app \\\\u003cbr\\\\u003e\\\\nyou can create. It is a single file app — not what you&#39;d get if you use the Express \\\\u003cbr\\\\u003e\\\\ngenerator, which creates the scaffolding for a full app with numerous JavaScript \\\\u003cbr\\\\u003e\\\\nfiles, Jade templates, and sub-directories for various purposes.\",\\n   \"cacheId\": \"Hw3sVSYmP5wJ\",\\n   \"formattedUrl\": \"expressjs.com/starter/hello-world.html\",\\n   \"htmlFormattedUrl\": \"expressjs.com/starter/\\\\u003cb\\\\u003ehello\\\\u003c/b\\\\u003e-\\\\u003cb\\\\u003eworld\\\\u003c/b\\\\u003e.html\",\\n   \"pagemap\": {\\n    \"metatags\": [\\n     {\\n      \"viewport\": \"width=device-width, initial-scale=1\"\\n     }\\n    ]\\n   }\\n  },\\n  {\\n   \"kind\": \"customsearch#result\",\\n   \"title\": \"Hello World: Explore the Tech World Outside Silicon Valley With ...\",\\n   \"htmlTitle\": \"\\\\u003cb\\\\u003eHello World\\\\u003c/b\\\\u003e: Explore the Tech World Outside Silicon Valley With ...\",\\n   \"link\": \"https://www.bloomberg.com/features/2016-hello-world/\",\\n   \"displayLink\": \"www.bloomberg.com\",\\n   \"snippet\": \"Hello World invites the viewer to come on a journey. It\\'s a journey that stretches \\\\nacross the globe to find the inventors, scientists and technologists shaping our \\\\nfuture. Each episode explores a different country and uncovers the ways in which \\\\nthe local culture and surroundings have influenced their approach to technology.\",\\n   \"htmlSnippet\": \"\\\\u003cb\\\\u003eHello World\\\\u003c/b\\\\u003e invites the viewer to come on a journey. It&#39;s a journey that stretches \\\\u003cbr\\\\u003e\\\\nacross the globe to find the inventors, scientists and technologists shaping our \\\\u003cbr\\\\u003e\\\\nfuture. Each episode explores a different country and uncovers the ways in which \\\\u003cbr\\\\u003e\\\\nthe local culture and surroundings have influenced their approach to technology.\",\\n   \"cacheId\": \"6nOsd_DyEEsJ\",\\n   \"formattedUrl\": \"https://www.bloomberg.com/features/2016-hello-world/\",\\n   \"htmlFormattedUrl\": \"https://www.bloomberg.com/features/2016-\\\\u003cb\\\\u003ehello\\\\u003c/b\\\\u003e-\\\\u003cb\\\\u003eworld\\\\u003c/b\\\\u003e/\",\\n   \"pagemap\": {\\n    \"cse_thumbnail\": [\\n     {\\n      \"width\": \"310\",\\n      \"height\": \"163\",\\n      \"src\": \"https://encrypted-tbn0.gstatic.com/images?q=tbn:ANd9GcTt4c64YU9cST0Co0neitXtNahING6rPU20J5FFoLOb48HA84ez7pYtRB4\"\\n     }\\n    ],\\n    \"metatags\": [\\n     {\\n      \"viewport\": \"width=device-width, initial-scale=1\",\\n      \"og:site_name\": \"Bloomberg.com\",\\n      \"og:title\": \"Goodbye, Silicon Valley. Hello World\",\\n      \"og:longtitle\": \"Goodbye, Silicon Valley. Hello World\",\\n      \"og:image\": \"http://www.bloomberg.com/features/2016-hello-world/img/HW-social1.jpg\",\\n      \"og:description\": \"Join journalist and best-selling author Ashlee Vance on a quest far beyond Silicon Valley to find the freshest, weirdest tech creations and the beautiful freaks behind them.\",\\n      \"og:url\": \"http://www.bloomberg.com/features/2016-hello-world/\",\\n      \"parsely-type\": \"post\",\\n      \"parsely-section\": \"technology\",\\n      \"parsely-title\": \"Goodbye, Silicon Valley. Hello World\",\\n      \"parsely-post-id\": \"2016-hello-world\",\\n      \"parsely-link\": \"http://www.bloomberg.com/features/2016-hello-world/\",\\n      \"parsely-image-url\": \"http://www.bloomberg.com/features/2016-hello-world/img/HW-social1.jpg\",\\n      \"parsely-tags\": \"Bloomberg Business, Hello World, Technology, Global Tech, Innovation\",\\n      \"parsely-author\": \"Ashlee Vance\",\\n      \"parsely-pub-date\": \"2016-03-09T10:30:00+04:00\",\\n      \"og:type\": \"article\",\\n      \"twitter:card\": \"summary\",\\n      \"twitter:site\": \"@bloomberg\"\\n     }\\n    ],\\n    \"cse_image\": [\\n     {\\n      \"src\": \"http://www.bloomberg.com/features/2016-hello-world/img/HW-social1.jpg\"\\n     }\\n    ]\\n   }\\n  },\\n  {\\n   \"kind\": \"customsearch#result\",\\n   \"title\": \"Hello World\",\\n   \"htmlTitle\": \"\\\\u003cb\\\\u003eHello World\\\\u003c/b\\\\u003e\",\\n   \"link\": \"https://hub.docker.com/_/hello-world/\",\\n   \"displayLink\": \"hub.docker.com\",\\n   \"snippet\": \"To try something more ambitious, you can run an Ubuntu container with: $ docker \\\\nrun -it ubuntu bash Share images, automate workflows, and more with a free \\\\nDocker ID: https://cloud.docker.com/ For more examples and ideas, visit: https://\\\\ndocs.docker.com/engine/userguide/ $ docker images hello-world REPOSITORY \\\\nTAG\\xa0...\",\\n   \"htmlSnippet\": \"To try something more ambitious, you can run an Ubuntu container with: $ docker \\\\u003cbr\\\\u003e\\\\nrun -it ubuntu bash Share images, automate workflows, and more with a free \\\\u003cbr\\\\u003e\\\\nDocker ID: https://cloud.docker.com/ For more examples and ideas, visit: https://\\\\u003cbr\\\\u003e\\\\ndocs.docker.com/engine/userguide/ $ docker images \\\\u003cb\\\\u003ehello\\\\u003c/b\\\\u003e-\\\\u003cb\\\\u003eworld\\\\u003c/b\\\\u003e REPOSITORY \\\\u003cbr\\\\u003e\\\\nTAG&nbsp;...\",\\n   \"cacheId\": \"nlyVMP_uQ_8J\",\\n   \"formattedUrl\": \"https://hub.docker.com/_/hello-world/\",\\n   \"htmlFormattedUrl\": \"https://hub.docker.com/_/\\\\u003cb\\\\u003ehello\\\\u003c/b\\\\u003e-\\\\u003cb\\\\u003eworld\\\\u003c/b\\\\u003e/\",\\n   \"pagemap\": {\\n    \"metatags\": [\\n     {\\n      \"viewport\": \"width=device-width, initial-scale=1\"\\n     }\\n    ]\\n   }\\n  },\\n  {\\n   \"kind\": \"customsearch#result\",\\n   \"title\": \"Helloworld Travel – Deals on Accommodation, Flights, Cruises and ...\",\\n   \"htmlTitle\": \"\\\\u003cb\\\\u003eHelloworld\\\\u003c/b\\\\u003e Travel – Deals on Accommodation, Flights, Cruises and ...\",\\n   \"link\": \"https://www.helloworld.com.au/\",\\n   \"displayLink\": \"www.helloworld.com.au\",\\n   \"snippet\": \"Discover the best deals on flights, hotels, cruises and holiday packages at \\\\nHelloworld Travel. Book online or find your nearest Helloworld Travel agency \\\\ntoday.\",\\n   \"htmlSnippet\": \"Discover the best deals on flights, hotels, cruises and holiday packages at \\\\u003cbr\\\\u003e\\\\n\\\\u003cb\\\\u003eHelloworld\\\\u003c/b\\\\u003e Travel. Book online or find your nearest \\\\u003cb\\\\u003eHelloworld\\\\u003c/b\\\\u003e Travel agency \\\\u003cbr\\\\u003e\\\\ntoday.\",\\n   \"cacheId\": \"53mF80H0q9cJ\",\\n   \"formattedUrl\": \"https://www.helloworld.com.au/\",\\n   \"htmlFormattedUrl\": \"https://www.\\\\u003cb\\\\u003ehelloworld\\\\u003c/b\\\\u003e.com.au/\",\\n   \"pagemap\": {\\n    \"cse_thumbnail\": [\\n     {\\n      \"width\": \"309\",\\n      \"height\": \"163\",\\n      \"src\": \"https://encrypted-tbn0.gstatic.com/images?q=tbn:ANd9GcQlQjUFfEDvZnpWgho1gc6Wt_RH5u6YO7_V6mEG2_ECA5Vf207Sz3H468A\"\\n     }\\n    ],\\n    \"metatags\": [\\n     {\\n      \"viewport\": \"width=device-width, initial-scale=1.0, maximum-scale=1.0, user-scalable=no\",\\n      \"com.silverpop.brandeddomains\": \"www.pages03.net,www.helloworld.com.au\"\\n     }\\n    ],\\n    \"cse_image\": [\\n     {\\n      \"src\": \"https://cdnimages-live.azureedge.net/cdn/HomePage/homepage-background.png?v=4329\"\\n     }\\n    ]\\n   }\\n  },\\n  {\\n   \"kind\": \"customsearch#result\",\\n   \"title\": \"Hello World Communications | NYC Video & Virtual Reality ...\",\\n   \"htmlTitle\": \"\\\\u003cb\\\\u003eHello World\\\\u003c/b\\\\u003e Communications | NYC Video &amp; Virtual Reality ...\",\\n   \"link\": \"http://hwc.tv/\",\\n   \"displayLink\": \"hwc.tv\",\\n   \"snippet\": \"Hello World - Video & Virtual Reality production company renting latest audio, \\\\nvideo, lighting & virtual reality tools. 7 days a week - Chelsea, New York.\",\\n   \"htmlSnippet\": \"\\\\u003cb\\\\u003eHello World\\\\u003c/b\\\\u003e - Video &amp; Virtual Reality production company renting latest audio, \\\\u003cbr\\\\u003e\\\\nvideo, lighting &amp; virtual reality tools. 7 days a week - Chelsea, New York.\",\\n   \"cacheId\": \"JdEm-ArKThcJ\",\\n   \"formattedUrl\": \"hwc.tv/\",\\n   \"htmlFormattedUrl\": \"hwc.tv/\",\\n   \"pagemap\": {\\n    \"metatags\": [\\n     {\\n      \"author\": \"Hello World Communications\",\\n      \"viewport\": \"width=device-width, initial-scale=1, maximum-scale=1\",\\n      \"format-detection\": \"telephone=no\",\\n      \"test\": \"test try\",\\n      \"og:locale\": \"en_US\",\\n      \"og:type\": \"website\",\\n      \"og:title\": \"NYC Video & Virtual Reality Production and Rental House\",\\n      \"og:description\": \"Hello World - Video & Virtual Reality production company renting latest audio, video, lighting & virtual reality tools. 7 days a week - Chelsea, New York\",\\n      \"og:url\": \"http://hwc.tv/\",\\n      \"og:site_name\": \"Hello World Communications\"\\n     }\\n    ]\\n   }\\n  },\\n  {\\n   \"kind\": \"customsearch#result\",\\n   \"title\": \"Total immersion, Serious fun! with Hello-World!\",\\n   \"htmlTitle\": \"Total immersion, Serious fun! with \\\\u003cb\\\\u003eHello\\\\u003c/b\\\\u003e-\\\\u003cb\\\\u003eWorld\\\\u003c/b\\\\u003e!\",\\n   \"link\": \"http://www.hello-world.com/\",\\n   \"displayLink\": \"www.hello-world.com\",\\n   \"snippet\": \"Main index for hello-world: links to login and all of the languages.\",\\n   \"htmlSnippet\": \"Main index for \\\\u003cb\\\\u003ehello\\\\u003c/b\\\\u003e-\\\\u003cb\\\\u003eworld\\\\u003c/b\\\\u003e: links to login and all of the languages.\",\\n   \"cacheId\": \"wv5E7JGVQlYJ\",\\n   \"formattedUrl\": \"www.hello-world.com/\",\\n   \"htmlFormattedUrl\": \"www.\\\\u003cb\\\\u003ehello\\\\u003c/b\\\\u003e-\\\\u003cb\\\\u003eworld\\\\u003c/b\\\\u003e.com/\",\\n   \"pagemap\": {\\n    \"cse_thumbnail\": [\\n     {\\n      \"width\": \"354\",\\n      \"height\": \"142\",\\n      \"src\": \"https://encrypted-tbn1.gstatic.com/images?q=tbn:ANd9GcRRmz_KfjY4ud6pC0zfNgauMH0jHTjJlPtph1XdxzDmVBNpflnbcgC1HME\"\\n     }\\n    ],\\n    \"metatags\": [\\n     {\\n      \"viewport\": \"width=device-width, initial-scale=1.0\"\\n     }\\n    ],\\n    \"cse_image\": [\\n     {\\n      \"src\": \"http://www.hello-world.com/images/slides/English-kids.png\"\\n     }\\n    ]\\n   }\\n  }\\n ]\\n}\\n'"
      ]
     },
     "execution_count": 84,
     "metadata": {},
     "output_type": "execute_result"
    }
   ],
   "source": [
    "rst.text"
   ]
  },
  {
   "cell_type": "code",
   "execution_count": 88,
   "metadata": {
    "scrolled": true
   },
   "outputs": [
    {
     "data": {
      "text/plain": [
       "{'context': {'title': 'Chiji'},\n",
       " 'items': [{'cacheId': '_njBYFs_i0oJ',\n",
       "   'displayLink': 'zh.wikipedia.org',\n",
       "   'formattedUrl': 'https://zh.wikipedia.org/zh-hans/Hello_World',\n",
       "   'htmlFormattedUrl': 'https://zh.wikipedia.org/zh-hans/<b>Hello</b>_<b>World</b>',\n",
       "   'htmlSnippet': '<b>Hello</b>, <b>World</b>程序指的是指在计算机屏幕上输出“<b>Hello</b>, <b>World</b>!”（意为「你好，世界！」<br>\\n）这行字符串的计算机程序。一般来说，这是每一种计算机编程语言中最基本、最简单<br>\\n的程序，亦通常是初学者所编写的第一个程序。它还可以用来确定该语言的编译器、<br>\\n程序开发环境，以及运行环境是否已经安装妥當。 将输出字符串“<b>Hello World</b>”作为第<br>\\n&nbsp;...',\n",
       "   'htmlTitle': '<b>Hello World</b> - 维基百科，自由的百科全书',\n",
       "   'kind': 'customsearch#result',\n",
       "   'link': 'https://zh.wikipedia.org/zh-hans/Hello_World',\n",
       "   'pagemap': {'cse_image': [{'src': 'https://upload.wikimedia.org/wikipedia/commons/a/ae/Hello_World%21_in_AutoIt%21_3.2_on_Windows_Vista.png'}],\n",
       "    'cse_thumbnail': [{'height': '181',\n",
       "      'src': 'https://encrypted-tbn2.gstatic.com/images?q=tbn:ANd9GcT6myvXx9yR0-HmOspu7mcgzg3TxK8VKuRekVYOCYe9hoC2eMaJJXx32M7U',\n",
       "      'width': '183'}],\n",
       "    'metatags': [{'og:image': 'https://upload.wikimedia.org/wikipedia/commons/a/ae/Hello_World%21_in_AutoIt%21_3.2_on_Windows_Vista.png',\n",
       "      'referrer': 'origin-when-cross-origin'}]},\n",
       "   'snippet': 'Hello, World程序指的是指在计算机屏幕上输出“Hello, World!”（意为「你好，世界！」\\n）这行字符串的计算机程序。一般来说，这是每一种计算机编程语言中最基本、最简单\\n的程序，亦通常是初学者所编写的第一个程序。它还可以用来确定该语言的编译器、\\n程序开发环境，以及运行环境是否已经安装妥當。 将输出字符串“Hello World”作为第\\n\\xa0...',\n",
       "   'title': 'Hello World - 维基百科，自由的百科全书'},\n",
       "  {'cacheId': 'UInCiDfJyeUJ',\n",
       "   'displayLink': 'en.wikipedia.org',\n",
       "   'formattedUrl': 'https://en.wikipedia.org/wiki/%22Hello,_World!%22_program',\n",
       "   'htmlFormattedUrl': 'https://en.wikipedia.org/wiki/%22<b>Hello</b>,_<b>World</b>!%22_program',\n",
       "   'htmlSnippet': 'A &quot;<b>Hello</b>, <b>World</b>!&quot; program is a computer program that outputs or displays &quot;<b>Hello</b>, <br>\\n<b>World</b>!&quot; to a user. Being a very simple program in most programming languages, <br>\\nit is often used to illustrate the basic syntax of a programming language for a <br>\\nworking program. It is often the very first program people write when they are new <br>\\nto a&nbsp;...',\n",
       "   'htmlTitle': '&quot;<b>Hello</b>, <b>World</b>!&quot; program - Wikipedia',\n",
       "   'kind': 'customsearch#result',\n",
       "   'link': 'https://en.wikipedia.org/wiki/%22Hello,_World!%22_program',\n",
       "   'pagemap': {'cse_image': [{'src': 'https://upload.wikimedia.org/wikipedia/commons/0/0b/HelloWorld_Maktivism_ComputerProgramming_LEDs.jpg'}],\n",
       "    'cse_thumbnail': [{'height': '212',\n",
       "      'src': 'https://encrypted-tbn3.gstatic.com/images?q=tbn:ANd9GcTFLxy-NkoRc8X1raAyJEmapXg__cbu-F9ZuUs3fn__kf5vwMvqRQkmE2Y',\n",
       "      'width': '238'}],\n",
       "    'metatags': [{'og:image': 'https://upload.wikimedia.org/wikipedia/commons/0/0b/HelloWorld_Maktivism_ComputerProgramming_LEDs.jpg',\n",
       "      'referrer': 'origin-when-cross-origin'}]},\n",
       "   'snippet': 'A \"Hello, World!\" program is a computer program that outputs or displays \"Hello, \\nWorld!\" to a user. Being a very simple program in most programming languages, \\nit is often used to illustrate the basic syntax of a programming language for a \\nworking program. It is often the very first program people write when they are new \\nto a\\xa0...',\n",
       "   'title': '\"Hello, World!\" program - Wikipedia'},\n",
       "  {'cacheId': 'QaCp7ECVKlQJ',\n",
       "   'displayLink': 'www.helloworld.com',\n",
       "   'formattedUrl': 'www.helloworld.com/',\n",
       "   'htmlFormattedUrl': 'www.<b>helloworld</b>.com/',\n",
       "   'htmlSnippet': 'A powerful combination of native technology and marketing strategy allowing <br>\\nbrands to create unforgettable interactions, drive consumer demand and <br>\\naccelerate growth.',\n",
       "   'htmlTitle': '<b>HelloWorld</b>, A Merkle Company',\n",
       "   'kind': 'customsearch#result',\n",
       "   'link': 'http://www.helloworld.com/',\n",
       "   'pagemap': {'cse_image': [{'src': 'https://www.helloworld.com/img/global/social-thumbnail.jpg'}],\n",
       "    'cse_thumbnail': [{'height': '225',\n",
       "      'src': 'https://encrypted-tbn0.gstatic.com/images?q=tbn:ANd9GcQfh1sLJSuzhAVuHNEwL0UYkc1PZkxRsbAtrY-iCO1C8ayblwAynYYm_yM',\n",
       "      'width': '225'}],\n",
       "    'metatags': [{'og:description': 'A powerful combination of native technology and marketing strategy allowing brands to create unforgettable interactions, drive consumer demand and accelerate growth.',\n",
       "      'og:image': 'https://www.helloworld.com/img/global/social-thumbnail.jpg',\n",
       "      'og:title': 'HelloWorld, A Merkle Company',\n",
       "      'og:url': 'https://www.helloworld.com/https://www.helloworld.com/',\n",
       "      'twitter:card': 'summary',\n",
       "      'twitter:url': 'http://www.helloworld.com/',\n",
       "      'viewport': 'width=device-width, initial-scale=1, shrink-to-fit=no'}]},\n",
       "   'snippet': 'A powerful combination of native technology and marketing strategy allowing \\nbrands to create unforgettable interactions, drive consumer demand and \\naccelerate growth.',\n",
       "   'title': 'HelloWorld, A Merkle Company'},\n",
       "  {'cacheId': 'ElcIxWQWBaMJ',\n",
       "   'displayLink': 'www.learnpython.org',\n",
       "   'formattedUrl': 'https://www.learnpython.org/en/Hello%2C_World%21',\n",
       "   'htmlFormattedUrl': 'https://www.learnpython.org/en/<b>Hello</b>%2C_<b>World</b>%21',\n",
       "   'htmlSnippet': '<b>Hello</b>, <b>World</b>! Python is a very simple language, and has a very straightforward <br>\\nsyntax. It encourages programmers to program without boilerplate (prepared) <br>\\ncode. The simplest directive in Python is the &quot;print&quot; directive - it simply prints out a <br>\\nline (and also includes a newline, unlike in C). There are two major Python <br>\\nversions,&nbsp;...',\n",
       "   'htmlTitle': '<b>Hello</b>, <b>World</b>! - Learn Python - Free Interactive Python Tutorial',\n",
       "   'kind': 'customsearch#result',\n",
       "   'link': 'https://www.learnpython.org/en/Hello%2C_World%21',\n",
       "   'pagemap': {'cse_image': [{'src': 'http://learnpython.org/static/img/share-logos/learnpython-share.png'}],\n",
       "    'cse_thumbnail': [{'height': '200',\n",
       "      'src': 'https://encrypted-tbn3.gstatic.com/images?q=tbn:ANd9GcSgbQzN87YWgRywHA3dQlPZbuSfPCFjzGSSCtLVOsDBAAgkdRdWjpFu4BE',\n",
       "      'width': '200'}],\n",
       "    'metatags': [{'og:image': 'http://learnpython.org/static/img/share-logos/learnpython-share.png',\n",
       "      'og:title': 'Hello, World! - Learn Python - Free Interactive Python Tutorial',\n",
       "      'og:type': 'website',\n",
       "      'og:url': 'http://learnpython.org/',\n",
       "      'viewport': 'width=device-width, initial-scale=1'}]},\n",
       "   'snippet': 'Hello, World! Python is a very simple language, and has a very straightforward \\nsyntax. It encourages programmers to program without boilerplate (prepared) \\ncode. The simplest directive in Python is the \"print\" directive - it simply prints out a \\nline (and also includes a newline, unlike in C). There are two major Python \\nversions,\\xa0...',\n",
       "   'title': 'Hello, World! - Learn Python - Free Interactive Python Tutorial'},\n",
       "  {'cacheId': 'Hw3sVSYmP5wJ',\n",
       "   'displayLink': 'expressjs.com',\n",
       "   'formattedUrl': 'expressjs.com/starter/hello-world.html',\n",
       "   'htmlFormattedUrl': 'expressjs.com/starter/<b>hello</b>-<b>world</b>.html',\n",
       "   'htmlSnippet': '<b>Hello world</b> example. Embedded below is essentially the simplest Express app <br>\\nyou can create. It is a single file app — not what you&#39;d get if you use the Express <br>\\ngenerator, which creates the scaffolding for a full app with numerous JavaScript <br>\\nfiles, Jade templates, and sub-directories for various purposes.',\n",
       "   'htmlTitle': 'Express &quot;<b>Hello World</b>&quot; example',\n",
       "   'kind': 'customsearch#result',\n",
       "   'link': 'http://expressjs.com/starter/hello-world.html',\n",
       "   'pagemap': {'metatags': [{'viewport': 'width=device-width, initial-scale=1'}]},\n",
       "   'snippet': \"Hello world example. Embedded below is essentially the simplest Express app \\nyou can create. It is a single file app — not what you'd get if you use the Express \\ngenerator, which creates the scaffolding for a full app with numerous JavaScript \\nfiles, Jade templates, and sub-directories for various purposes.\",\n",
       "   'title': 'Express \"Hello World\" example'},\n",
       "  {'cacheId': '6nOsd_DyEEsJ',\n",
       "   'displayLink': 'www.bloomberg.com',\n",
       "   'formattedUrl': 'https://www.bloomberg.com/features/2016-hello-world/',\n",
       "   'htmlFormattedUrl': 'https://www.bloomberg.com/features/2016-<b>hello</b>-<b>world</b>/',\n",
       "   'htmlSnippet': '<b>Hello World</b> invites the viewer to come on a journey. It&#39;s a journey that stretches <br>\\nacross the globe to find the inventors, scientists and technologists shaping our <br>\\nfuture. Each episode explores a different country and uncovers the ways in which <br>\\nthe local culture and surroundings have influenced their approach to technology.',\n",
       "   'htmlTitle': '<b>Hello World</b>: Explore the Tech World Outside Silicon Valley With ...',\n",
       "   'kind': 'customsearch#result',\n",
       "   'link': 'https://www.bloomberg.com/features/2016-hello-world/',\n",
       "   'pagemap': {'cse_image': [{'src': 'http://www.bloomberg.com/features/2016-hello-world/img/HW-social1.jpg'}],\n",
       "    'cse_thumbnail': [{'height': '163',\n",
       "      'src': 'https://encrypted-tbn0.gstatic.com/images?q=tbn:ANd9GcTt4c64YU9cST0Co0neitXtNahING6rPU20J5FFoLOb48HA84ez7pYtRB4',\n",
       "      'width': '310'}],\n",
       "    'metatags': [{'og:description': 'Join journalist and best-selling author Ashlee Vance on a quest far beyond Silicon Valley to find the freshest, weirdest tech creations and the beautiful freaks behind them.',\n",
       "      'og:image': 'http://www.bloomberg.com/features/2016-hello-world/img/HW-social1.jpg',\n",
       "      'og:longtitle': 'Goodbye, Silicon Valley. Hello World',\n",
       "      'og:site_name': 'Bloomberg.com',\n",
       "      'og:title': 'Goodbye, Silicon Valley. Hello World',\n",
       "      'og:type': 'article',\n",
       "      'og:url': 'http://www.bloomberg.com/features/2016-hello-world/',\n",
       "      'parsely-author': 'Ashlee Vance',\n",
       "      'parsely-image-url': 'http://www.bloomberg.com/features/2016-hello-world/img/HW-social1.jpg',\n",
       "      'parsely-link': 'http://www.bloomberg.com/features/2016-hello-world/',\n",
       "      'parsely-post-id': '2016-hello-world',\n",
       "      'parsely-pub-date': '2016-03-09T10:30:00+04:00',\n",
       "      'parsely-section': 'technology',\n",
       "      'parsely-tags': 'Bloomberg Business, Hello World, Technology, Global Tech, Innovation',\n",
       "      'parsely-title': 'Goodbye, Silicon Valley. Hello World',\n",
       "      'parsely-type': 'post',\n",
       "      'twitter:card': 'summary',\n",
       "      'twitter:site': '@bloomberg',\n",
       "      'viewport': 'width=device-width, initial-scale=1'}]},\n",
       "   'snippet': \"Hello World invites the viewer to come on a journey. It's a journey that stretches \\nacross the globe to find the inventors, scientists and technologists shaping our \\nfuture. Each episode explores a different country and uncovers the ways in which \\nthe local culture and surroundings have influenced their approach to technology.\",\n",
       "   'title': 'Hello World: Explore the Tech World Outside Silicon Valley With ...'},\n",
       "  {'cacheId': 'nlyVMP_uQ_8J',\n",
       "   'displayLink': 'hub.docker.com',\n",
       "   'formattedUrl': 'https://hub.docker.com/_/hello-world/',\n",
       "   'htmlFormattedUrl': 'https://hub.docker.com/_/<b>hello</b>-<b>world</b>/',\n",
       "   'htmlSnippet': 'To try something more ambitious, you can run an Ubuntu container with: $ docker <br>\\nrun -it ubuntu bash Share images, automate workflows, and more with a free <br>\\nDocker ID: https://cloud.docker.com/ For more examples and ideas, visit: https://<br>\\ndocs.docker.com/engine/userguide/ $ docker images <b>hello</b>-<b>world</b> REPOSITORY <br>\\nTAG&nbsp;...',\n",
       "   'htmlTitle': '<b>Hello World</b>',\n",
       "   'kind': 'customsearch#result',\n",
       "   'link': 'https://hub.docker.com/_/hello-world/',\n",
       "   'pagemap': {'metatags': [{'viewport': 'width=device-width, initial-scale=1'}]},\n",
       "   'snippet': 'To try something more ambitious, you can run an Ubuntu container with: $ docker \\nrun -it ubuntu bash Share images, automate workflows, and more with a free \\nDocker ID: https://cloud.docker.com/ For more examples and ideas, visit: https://\\ndocs.docker.com/engine/userguide/ $ docker images hello-world REPOSITORY \\nTAG\\xa0...',\n",
       "   'title': 'Hello World'},\n",
       "  {'cacheId': '53mF80H0q9cJ',\n",
       "   'displayLink': 'www.helloworld.com.au',\n",
       "   'formattedUrl': 'https://www.helloworld.com.au/',\n",
       "   'htmlFormattedUrl': 'https://www.<b>helloworld</b>.com.au/',\n",
       "   'htmlSnippet': 'Discover the best deals on flights, hotels, cruises and holiday packages at <br>\\n<b>Helloworld</b> Travel. Book online or find your nearest <b>Helloworld</b> Travel agency <br>\\ntoday.',\n",
       "   'htmlTitle': '<b>Helloworld</b> Travel – Deals on Accommodation, Flights, Cruises and ...',\n",
       "   'kind': 'customsearch#result',\n",
       "   'link': 'https://www.helloworld.com.au/',\n",
       "   'pagemap': {'cse_image': [{'src': 'https://cdnimages-live.azureedge.net/cdn/HomePage/homepage-background.png?v=4329'}],\n",
       "    'cse_thumbnail': [{'height': '163',\n",
       "      'src': 'https://encrypted-tbn0.gstatic.com/images?q=tbn:ANd9GcQlQjUFfEDvZnpWgho1gc6Wt_RH5u6YO7_V6mEG2_ECA5Vf207Sz3H468A',\n",
       "      'width': '309'}],\n",
       "    'metatags': [{'com.silverpop.brandeddomains': 'www.pages03.net,www.helloworld.com.au',\n",
       "      'viewport': 'width=device-width, initial-scale=1.0, maximum-scale=1.0, user-scalable=no'}]},\n",
       "   'snippet': 'Discover the best deals on flights, hotels, cruises and holiday packages at \\nHelloworld Travel. Book online or find your nearest Helloworld Travel agency \\ntoday.',\n",
       "   'title': 'Helloworld Travel – Deals on Accommodation, Flights, Cruises and ...'},\n",
       "  {'cacheId': 'JdEm-ArKThcJ',\n",
       "   'displayLink': 'hwc.tv',\n",
       "   'formattedUrl': 'hwc.tv/',\n",
       "   'htmlFormattedUrl': 'hwc.tv/',\n",
       "   'htmlSnippet': '<b>Hello World</b> - Video &amp; Virtual Reality production company renting latest audio, <br>\\nvideo, lighting &amp; virtual reality tools. 7 days a week - Chelsea, New York.',\n",
       "   'htmlTitle': '<b>Hello World</b> Communications | NYC Video &amp; Virtual Reality ...',\n",
       "   'kind': 'customsearch#result',\n",
       "   'link': 'http://hwc.tv/',\n",
       "   'pagemap': {'metatags': [{'author': 'Hello World Communications',\n",
       "      'format-detection': 'telephone=no',\n",
       "      'og:description': 'Hello World - Video & Virtual Reality production company renting latest audio, video, lighting & virtual reality tools. 7 days a week - Chelsea, New York',\n",
       "      'og:locale': 'en_US',\n",
       "      'og:site_name': 'Hello World Communications',\n",
       "      'og:title': 'NYC Video & Virtual Reality Production and Rental House',\n",
       "      'og:type': 'website',\n",
       "      'og:url': 'http://hwc.tv/',\n",
       "      'test': 'test try',\n",
       "      'viewport': 'width=device-width, initial-scale=1, maximum-scale=1'}]},\n",
       "   'snippet': 'Hello World - Video & Virtual Reality production company renting latest audio, \\nvideo, lighting & virtual reality tools. 7 days a week - Chelsea, New York.',\n",
       "   'title': 'Hello World Communications | NYC Video & Virtual Reality ...'},\n",
       "  {'cacheId': 'wv5E7JGVQlYJ',\n",
       "   'displayLink': 'www.hello-world.com',\n",
       "   'formattedUrl': 'www.hello-world.com/',\n",
       "   'htmlFormattedUrl': 'www.<b>hello</b>-<b>world</b>.com/',\n",
       "   'htmlSnippet': 'Main index for <b>hello</b>-<b>world</b>: links to login and all of the languages.',\n",
       "   'htmlTitle': 'Total immersion, Serious fun! with <b>Hello</b>-<b>World</b>!',\n",
       "   'kind': 'customsearch#result',\n",
       "   'link': 'http://www.hello-world.com/',\n",
       "   'pagemap': {'cse_image': [{'src': 'http://www.hello-world.com/images/slides/English-kids.png'}],\n",
       "    'cse_thumbnail': [{'height': '142',\n",
       "      'src': 'https://encrypted-tbn1.gstatic.com/images?q=tbn:ANd9GcRRmz_KfjY4ud6pC0zfNgauMH0jHTjJlPtph1XdxzDmVBNpflnbcgC1HME',\n",
       "      'width': '354'}],\n",
       "    'metatags': [{'viewport': 'width=device-width, initial-scale=1.0'}]},\n",
       "   'snippet': 'Main index for hello-world: links to login and all of the languages.',\n",
       "   'title': 'Total immersion, Serious fun! with Hello-World!'}],\n",
       " 'kind': 'customsearch#search',\n",
       " 'queries': {'nextPage': [{'count': 10,\n",
       "    'cx': '018331586364722641289:r3cvkpozqwq',\n",
       "    'inputEncoding': 'utf8',\n",
       "    'outputEncoding': 'utf8',\n",
       "    'safe': 'off',\n",
       "    'searchTerms': 'hello world',\n",
       "    'startIndex': 11,\n",
       "    'title': 'Google Custom Search - hello world',\n",
       "    'totalResults': '65500000'}],\n",
       "  'request': [{'count': 10,\n",
       "    'cx': '018331586364722641289:r3cvkpozqwq',\n",
       "    'inputEncoding': 'utf8',\n",
       "    'outputEncoding': 'utf8',\n",
       "    'safe': 'off',\n",
       "    'searchTerms': 'hello world',\n",
       "    'startIndex': 1,\n",
       "    'title': 'Google Custom Search - hello world',\n",
       "    'totalResults': '65500000'}]},\n",
       " 'searchInformation': {'formattedSearchTime': '0.53',\n",
       "  'formattedTotalResults': '65,500,000',\n",
       "  'searchTime': 0.53187,\n",
       "  'totalResults': '65500000'},\n",
       " 'url': {'template': 'https://www.googleapis.com/customsearch/v1?q={searchTerms}&num={count?}&start={startIndex?}&lr={language?}&safe={safe?}&cx={cx?}&sort={sort?}&filter={filter?}&gl={gl?}&cr={cr?}&googlehost={googleHost?}&c2coff={disableCnTwTranslation?}&hq={hq?}&hl={hl?}&siteSearch={siteSearch?}&siteSearchFilter={siteSearchFilter?}&exactTerms={exactTerms?}&excludeTerms={excludeTerms?}&linkSite={linkSite?}&orTerms={orTerms?}&relatedSite={relatedSite?}&dateRestrict={dateRestrict?}&lowRange={lowRange?}&highRange={highRange?}&searchType={searchType}&fileType={fileType?}&rights={rights?}&imgSize={imgSize?}&imgType={imgType?}&imgColorType={imgColorType?}&imgDominantColor={imgDominantColor?}&alt=json',\n",
       "  'type': 'application/json'}}"
      ]
     },
     "execution_count": 88,
     "metadata": {},
     "output_type": "execute_result"
    }
   ],
   "source": [
    "rst = json.loads(rst.text)\n",
    "rst"
   ]
  },
  {
   "cell_type": "code",
   "execution_count": null,
   "metadata": {
    "collapsed": true
   },
   "outputs": [],
   "source": []
  },
  {
   "cell_type": "code",
   "execution_count": 9,
   "metadata": {
    "collapsed": true
   },
   "outputs": [],
   "source": [
    "def occur_count(s,words):\n",
    "    n = 0\n",
    "    for word in words:\n",
    "        n += len(re.findall(word, s))\n",
    "    return n\n",
    "\n",
    "\n",
    "def score(search_rst, opts_words_search):\n",
    "    scores = [0 for i in opts_words_search]\n",
    "    decay = 0.5\n",
    "    weight = 1\n",
    "    \n",
    "    for c in search_rst:\n",
    "        title = c['title']\n",
    "        abstract = c['abstract']\n",
    "        \n",
    "        b_find_any = False\n",
    "        for i, opt_words in enumerate(opts_words_search):\n",
    "            for w in opt_words:\n",
    "                if w in title:\n",
    "                    scores[i] += weight\n",
    "                    b_find_any = True\n",
    "                    break\n",
    "                elif w in abstract:\n",
    "                    scores[i] += weight * 0.5\n",
    "                    b_find_any = True\n",
    "                    break\n",
    "    \n",
    "        if b_find_any:\n",
    "            weight *= decay\n",
    "        \n",
    "    return scores"
   ]
  },
  {
   "cell_type": "code",
   "execution_count": 10,
   "metadata": {
    "collapsed": true
   },
   "outputs": [],
   "source": [
    "def keywords(question, opt_a, opt_b, opt_c):\n",
    "    quest_words = jieba.analyse.extract_tags(question, allowPOS=['n','nr','ns','nt','nz','nl','ng'])\n",
    "    opt_words = jieba.analyse.extract_tags(' '.join([opt_a,opt_b,opt_c]), allowPOS=['n','nr','ns','nt','nz','nl','ng'])\n",
    "    words = quest_words + opt_words\n",
    "    return words"
   ]
  },
  {
   "cell_type": "code",
   "execution_count": 11,
   "metadata": {
    "collapsed": true
   },
   "outputs": [],
   "source": [
    "def dump_question(question, opt_a, opt_b, opt_c):\n",
    "    with open('questions.txt','a+') as f:\n",
    "        f.write(','.join([question, opt_a, opt_b, opt_c]) + '\\n')"
   ]
  },
  {
   "cell_type": "code",
   "execution_count": 18,
   "metadata": {
    "collapsed": true
   },
   "outputs": [],
   "source": [
    "def search_ans(question, opt_a, opt_b, opt_c):\n",
    "\n",
    "    # question might be too long\n",
    "    len_q = len(question)\n",
    "    len_opt = len(opt_a) + len(opt_b) + len(opt_c)\n",
    "\n",
    "    if len_q + len_opt > 37:\n",
    "        words = jieba.analyse.extract_tags(question)\n",
    "        quest_words = []\n",
    "        l = 0\n",
    "\n",
    "        for w in reversed(words):\n",
    "            l += len(w)\n",
    "            if l < 37 - len_opt:\n",
    "                quest_words.append(w)\n",
    "            else:\n",
    "                break\n",
    "\n",
    "    else:\n",
    "        quest_words = [question]\n",
    "\n",
    "    opts = [opt_a, opt_b, opt_c]\n",
    "    opt_words = []\n",
    "\n",
    "    for opt in opts:\n",
    "#             opt_words.append(list(map(lambda p:p.word, filter(lambda p:p.flag.startswith('n'), \n",
    "#                                                  jieba.posseg.cut(opt)))))\n",
    "        if len(opt) > 4:\n",
    "            opt_words.append(jieba.analyse.extract_tags(opt))\n",
    "        else:\n",
    "            opt_words.append([opt])\n",
    "\n",
    "#         rst = search(question)\n",
    "#         time.sleep(0.1)\n",
    "#         rst += search('%20'.join(quest_words))\n",
    "    search_rst = search_advanced(quest_words, opt_words, return_string=False)\n",
    "#         print(rst)\n",
    "\n",
    "\n",
    "    opt_w_search = [jieba.lcut_for_search(o) for o in opts]\n",
    "\n",
    "    # 选项间去重, 仍然有bug：如:\"A. 金，B. 金刚石\"的场景\n",
    "    common_words = set(opt_w_search[0]).intersection(set(opt_w_search[1])).intersection(set(opt_w_search[2]))\n",
    "\n",
    "    if len(common_words) != 0:\n",
    "        opt_w_search_reduced = [list(filter(lambda word:not word in common_words, opt_w)) for opt_w in opt_w_search]\n",
    "        opt_w_search_reduced = [opt_w_search_reduced[i] if len(opt_w_search_reduced[i]) > 0 else opt_w_search[i]\\\n",
    "                               for i in range(3)]\n",
    "    else:\n",
    "        opt_w_search_reduced = opt_w_search\n",
    "#     print(opt_w_search_reduced)\n",
    "\n",
    "\n",
    "    scores = score(search_rst, opt_w_search_reduced)\n",
    "    # 考虑反向问题，比方说在战国初期下列哪一个国家*未*与燕国相邻?\n",
    "    neg_words = ['不','未','没有']\n",
    "\n",
    "    neg_question = False\n",
    "    for nw in neg_words:\n",
    "        if nw in question:\n",
    "            neg_question = True\n",
    "#             print('!!!!!!!!!!!!!!!!!!!!!!!!!!!!!!!!!!!!!!!!!!!!!')\n",
    "#             print('!!               疑似反向问题              !!!')\n",
    "#             print('!!!!!!!!!!!!!!!!!!!!!!!!!!!!!!!!!!!!!!!!!!!!!')\n",
    "            display(HTML('<h2>疑似反向问题!!</h2>'))\n",
    "            break\n",
    "\n",
    "    ans = [('A',opt_a,scores[0]),\n",
    "          ('B',opt_b,scores[1]),\n",
    "          ('C',opt_c,scores[2])]\n",
    "\n",
    "    print('question:', question)\n",
    "    for p in sorted(ans, key=lambda p:p[2], reverse=True):\n",
    "        print(p)\n",
    "\n",
    "    # Show top search result\n",
    "#     print('----------------------------')\n",
    "    for i in range(3):\n",
    "#         print(rst_soup.select('.c-container')[i])\n",
    "        display(HTML(search_rst[i]['html']))\n",
    "#     print('----------------------------')\n",
    "\n",
    "#         go_search(question)\n",
    "\n",
    "    dump_question(question, opt_a, opt_b, opt_c)"
   ]
  },
  {
   "cell_type": "code",
   "execution_count": 13,
   "metadata": {
    "collapsed": true,
    "scrolled": false
   },
   "outputs": [],
   "source": [
    "def search_ans_from_pic(im, game='baiwan'):\n",
    "    print('Parsing pic...')\n",
    "    \n",
    "    if game == 'baiwan':\n",
    "        #百万英雄\n",
    "        question, opt_a, opt_b, opt_c = ocr(im,\n",
    "                       [(300,600,0,1080),\n",
    "                       (655,815,0,1080),\n",
    "                       (845,1005,0,1080),\n",
    "                       (1035,1200,0,1080)])\n",
    "    elif game == 'zhishi':\n",
    "        #芝士超人\n",
    "        question, opt_a, opt_b, opt_c = ocr(im,\n",
    "                       [(280,580,0,1080),\n",
    "                       (580,735,0,1080),\n",
    "                       (775,930,0,1080),\n",
    "                       (970,1125,0,1080)])\n",
    "    elif game == 'chongding':\n",
    "        #冲顶大会\n",
    "        question, opt_a, opt_b, opt_c = ocr(im,\n",
    "                       [(305,645,0,1080),\n",
    "                       (645,775,0,1080),\n",
    "                       (805,940,0,1080),\n",
    "                       (970,1105,0,1080)])\n",
    "    else:\n",
    "        return\n",
    "\n",
    "    if question != '':\n",
    "        search_ans(question, opt_a, opt_b, opt_c)\n",
    "\n",
    "    else:\n",
    "        print('No question found!')"
   ]
  },
  {
   "cell_type": "code",
   "execution_count": 15,
   "metadata": {
    "collapsed": true
   },
   "outputs": [],
   "source": [
    "im = cv2.imread('./tmp/screenshot.png')\n",
    "im = im[:1200,:,:]"
   ]
  },
  {
   "cell_type": "code",
   "execution_count": 16,
   "metadata": {},
   "outputs": [
    {
     "name": "stdout",
     "output_type": "stream",
     "text": [
      "Parsing pic...\n",
      "http://www.baidu.com/s?q1=电影《中国合伙人》中由主角创办的英语学校叫什么名字?&q2=&q3=新希望+新东方+新梦想&q4=&rn=50\n",
      "question: 电影《中国合伙人》中由主角创办的英语学校叫什么名字?\n",
      "('A', '新希望', 1.9999999999999964)\n",
      "('C', '新梦想', 1.9999999999999964)\n",
      "('B', '新东方', 1.9606933593731775)\n"
     ]
    },
    {
     "data": {
      "text/html": [
       "<div class=\"result c-container \" data-click=\"{'rsv_bdr':'0' ,'rsv_cd':'pt:40520'}\" id=\"1\" srcid=\"1599\" tpl=\"se_com_default\"><h3 class=\"t\"><a data-click=\"{\n",
       "\t\t\t'F':'778717EA',\n",
       "\t\t\t'F1':'9D73F1E4',\n",
       "\t\t\t'F2':'4CA6DE6B',\n",
       "\t\t\t'F3':'54E5243F',\n",
       "\t\t\t'T':'1516024751',\n",
       "\t\t\t\t\t\t'y':'BB7FBBDD'\n",
       "\t\t\t \n",
       "\t\t\t\t\t\t\t\t\t}\" href=\"http://www.baidu.com/link?url=FY6VSjlR13QQ7Na5GygrnlQ38wjqnfQFJUmXfcYdT3I3bzO6s7-2Ezga-0ZKdMCR\" target=\"_blank\"><em>新东方</em>在线官网_<em>新东方</em>旗下远程教育网站,<em>新东方</em>网络课堂,<em>新东方</em>...</a></h3><div class=\"c-row c-gap-top-small\"><div class=\"general_image_pic c-span6\"><a class=\"c-img6\" href=\"http://www.baidu.com/link?url=FY6VSjlR13QQ7Na5GygrnlQ38wjqnfQFJUmXfcYdT3I3bzO6s7-2Ezga-0ZKdMCR\" style=\"height:75px\" target=\"_blank\"><img class=\"c-img c-img6\" src=\"http://t12.baidu.com/it/u=3125379839,1098194039&amp;fm=58&amp;s=6896C712CDA06D034CCB0D560300D0F2&amp;bpow=121&amp;bpoh=75\" style=\"height:75px;\"/></a></div><div class=\"c-span18 c-span-last\"><div class=\"c-abstract\"><em>英语</em>学习人群专属零基础课程经典新概念内容 <em>新东方</em>功勋教师主讲 自然拼音(自然拼读)精讲 适用于任何年龄段的零基础发音课程从拼读字母到拼读单词 带你轻松<em>英语</em>入门 外...</div><div class=\"f13\"><a class=\"c-showurl\" href=\"http://www.baidu.com/link?url=FY6VSjlR13QQ7Na5GygrnlQ38wjqnfQFJUmXfcYdT3I3bzO6s7-2Ezga-0ZKdMCR\" style=\"text-decoration:none;\" target=\"_blank\">www.koolearn.com/ </a><div class=\"c-tools\" data-tools='{\"title\":\"新东方在线官网_新东方旗下远程教育网站,新东方网络课堂,新东方...\",\"url\":\"http://www.baidu.com/link?url=FY6VSjlR13QQ7Na5GygrnlQ38wjqnfQFJUmXfcYdT3I3bzO6s7-2Ezga-0ZKdMCR\"}' id=\"tools_9255015093667704213_1\"><a class=\"c-tip-icon\"><i class=\"c-icon c-icon-triangle-down-g\"></i></a></div><span class=\"c-icons-outer\"><span class=\"c-icons-inner\"></span></span> - <a class=\"m\" data-click=\"{'rsv_snapshot':'1'}\" href=\"http://cache.baiducontent.com/c?m=9d78d513d9d431a84f9a91697b17c0161b4381132ba4d3020fd08449e3732d455010e1ac57290770a0d27d1716df3a4b9b842102471457c38cc9f85dacb185595f9f2644676f855662d60eaebb5153c537e658feae69f0ccf125e2a5c5d2af4325ce44717f9780fd4d7111dd6e800341e5b1e94e022f12ad9a4172fe296059983431b050f8902518069685dd4b3ac23da7150696df22c63d05c616b369193337a15bb078465646f73925e8454d13e3984a972a6e3122a138b5aec0c6fc398dcb9e418f8cceb8599177e6b4fdf900557122ed53bcbcccb22a653515a8bec965c525cd8cfbce3cfe14a6072ab84a072f7cbe6f83f1ff4082674d84917ffe5835502a1daeb363fe05671e30bf4f6fa558802bbed4300d9efd9cfb820800eadcd27300a7f0e21ce03e4e7ffb27354791a84b&amp;p=8d769a4786cc41ac52add1294757c4&amp;newp=9874c64ad4d009b740bd9b7e0e1cc9231610db2151d4d71f6b82c825d7331b001c3bbfb42325120fd5c4786c04ac425aebf5367335012ba3dda5c91d9fb4c574799b6f2c68&amp;user=baidu&amp;fm=sc&amp;query=%B5%E7%D3%B0%A1%B6%D6%D0%B9%FA%BA%CF%BB%EF%C8%CB%A1%B7%D6%D0%D3%C9%D6%F7%BD%C7%B4%B4%B0%EC%B5%C4%D3%A2%D3%EF%D1%A7%D0%A3%BD%D0%CA%B2%C3%B4%C3%FB%D7%D6%3F+%28%D0%C2%CF%A3%CD%FB+%7C+%D0%C2%B6%AB%B7%BD+%7C+%D0%C2%C3%CE%CF%EB%29&amp;qid=e83aa661000089b1&amp;p1=1\" target=\"_blank\">百度快照</a><span class=\"c-pingjia\"> - <a class=\"m\" data-click=\"{'rsv_comments':'1'}\" data-from=\"ps_pc4\" href=\"http://www.baidu.com/tools?url=http%3A%2F%2Fwww.baidu.com%2Flink%3Furl%3DFY6VSjlR13QQ7Na5GygrnlQ38wjqnfQFJUmXfcYdT3I3bzO6s7-2Ezga-0ZKdMCR&amp;jump=http%3A%2F%2Fkoubei.baidu.com%2Fp%2Fsentry%3Ftitle%3D%02%E6%96%B0%E4%B8%9C%E6%96%B9%03%E5%9C%A8%E7%BA%BF%01%E5%AE%98%E7%BD%91%01_%02%E6%96%B0%E4%B8%9C%E6%96%B9%03%E6%97%97%01%E4%B8%8B%01%E8%BF%9C%E7%A8%8B%01%E6%95%99%E8%82%B2%01%E7%BD%91%E7%AB%99%01%2C%02%E6%96%B0%E4%B8%9C%E6%96%B9%03%E7%BD%91%E7%BB%9C%01%E8%AF%BE%E5%A0%82%01%2C%02%E6%96%B0%E4%B8%9C%E6%96%B9%03...%26q%3D%E7%94%B5%E5%BD%B1%E3%80%8A%E4%B8%AD%E5%9B%BD%E5%90%88%E4%BC%99%E4%BA%BA%E3%80%8B%E4%B8%AD%E7%94%B1%E4%B8%BB%E8%A7%92%E5%88%9B%E5%8A%9E%E7%9A%84%E8%8B%B1%E8%AF%AD%E5%AD%A6%E6%A0%A1%E5%8F%AB%E4%BB%80%E4%B9%88%E5%90%8D%E5%AD%97%3F%20%28%E6%96%B0%E5%B8%8C%E6%9C%9B%20%7C%20%E6%96%B0%E4%B8%9C%E6%96%B9%20%7C%20%E6%96%B0%E6%A2%A6%26from%3Dps_pc4&amp;key=surl\" target=\"_blank\">927条评价</a></span></div></div></div></div>"
      ],
      "text/plain": [
       "<IPython.core.display.HTML object>"
      ]
     },
     "metadata": {},
     "output_type": "display_data"
    },
    {
     "data": {
      "text/html": [
       "<div class=\"result c-container \" data-click=\"{'rsv_bdr':'0' ,'rsv_cd':'pt:40520|vLevel:3'}\" id=\"2\" srcid=\"1599\" tpl=\"se_com_default\"><h3 class=\"t\"><a class=\"favurl\" data-click=\"{\n",
       "\t\t\t'F':'778717EA',\n",
       "\t\t\t'F1':'9D73F1E4',\n",
       "\t\t\t'F2':'4CA6DE6B',\n",
       "\t\t\t'F3':'54E5243F',\n",
       "\t\t\t'T':'1516024751',\n",
       "\t\t\t\t\t\t'y':'ECFB9BF9'\n",
       "\t\t\t \n",
       "\t\t\t\t\t\t\t\t\t}\" fav-url=\"http://t10.baidu.com/it/u=2043645693,2248841386&amp;fm=58\" href=\"http://www.baidu.com/link?url=nao5GffHGV78jR_FPG0B5AXktyAv2rgfxC_yaTmtgXi\" style=\"background-image:url(http://t10.baidu.com/it/u=2043645693,2248841386&amp;fm=58)\" target=\"_blank\"><em>新东方</em>网-一站式学习服务平台-<em>新东方</em>-<em>新东方</em>首页</a></h3><div class=\"c-abstract\">学龄前课程,采用教具、音乐、情境、TPR等多元教学法,使学生快速掌握26个<em>英文</em>字母的书写、字母音、拼读音,可以达到看字能读、听音能写字母的能力,可以为Phonics3个...</div><div class=\"f13\"><a class=\"c-showurl\" href=\"http://www.baidu.com/link?url=nao5GffHGV78jR_FPG0B5AXktyAv2rgfxC_yaTmtgXi\" style=\"text-decoration:none;\" target=\"_blank\">www.xdf.cn/ </a><div class=\"c-tools\" data-tools='{\"title\":\"新东方网-一站式学习服务平台-新东方-新东方首页\",\"url\":\"http://www.baidu.com/link?url=nao5GffHGV78jR_FPG0B5AXktyAv2rgfxC_yaTmtgXi\"}' id=\"tools_13962764718554138238_2\"><a class=\"c-tip-icon\"><i class=\"c-icon c-icon-triangle-down-g\"></i></a></div><span class=\"c-icons-outer\"><span class=\"c-icons-inner\"><span class=\"c-vline\"></span><span class=\"c-trust-as vstar \" data_key=\"12341682471763763389\" hint-data='{\"label\":\"新东方教育科技集团有限公司\",\"url\":\"https://www.baidu.com/s?wd=%E6%96%B0%E4%B8%9C%E6%96%B9%E6%95%99%E8%82%B2%E7%A7%91%E6%8A%80%E9%9B%86%E5%9B%A2%E6%9C%89%E9%99%90%E5%85%AC%E5%8F%B8@v&amp;vmp_ec=7658e42885e7952c6e38f3aua265Xb6916b440c46Y9d=Y4G1y43Zafd3J7Xsdd1af29af62&amp;vmp_ectm=1516003689&amp;from=vs\",\"hint\":[{\"txt\":\"[ecard 120]\",\"vlevel\":\"3\"}]}' hint-type=\"vstar\"><a class=\"c-icon c-icon-v c-icon-v3\" data-click=\"{'title':'vstar','rsv_vlevel':'3'}\" href=\"https://www.baidu.com/s?wd=%E6%96%B0%E4%B8%9C%E6%96%B9%E6%95%99%E8%82%B2%E7%A7%91%E6%8A%80%E9%9B%86%E5%9B%A2%E6%9C%89%E9%99%90%E5%85%AC%E5%8F%B8@v&amp;vmp_ec=7658e42885e7952c6e38f3aua265Xb6916b440c46Y9d=Y4G1y43Zafd3J7Xsdd1af29af62&amp;vmp_ectm=1516003689&amp;from=vs&amp;product=v&amp;rsv_dl=0_left_v_3\" target=\"_blank\"></a></span></span></span> - <a class=\"m\" data-click=\"{'rsv_snapshot':'1'}\" href=\"http://cache.baiducontent.com/c?m=9d78d513d9d431a84f9a91697b17c0161b4381132ba4d3020fd08449e3732d455010e1ac57290770a0d27d1716df3a4b9b842102471457c38cc9f85dacb185595f9f2644676f855662d60eaebb5153c537e658feae69f0ccf125e2a5c5d2af4325ce44717f9780fd4d7111dd6e800341e5b1e94e022f12ad9a4172fe296059983431b050f8902518069685dd4b3ac23da7150696df22c63d05c616b369193337a15bb078465646f73925e8454d13e3984a972a6e3122a138b5aec0c6fc398dcb9e418f8cceb8599177e6b4fdf900557122ed53bcbcccb22a653515a8bec965c525cd8cfbce3cfe14a6072ab84a072f7cbe6f83f1ff4082674d84917ffe5835502a1daeb363fe05671e30bf4f6fa558802bbed4300d9efd9cfb820800eadcd27300b4fbeb55b71a5f7ff1&amp;p=837d8b15d9c341a90fbe9b7c42078d&amp;newp=9e769a4786cc41af5eb98266564f9e231610db2151d6d7126b82c825d7331b001c3bbfb42325120fd5cf7d6606aa4e57e8f735793d012ba3dda5c91d9fb4c57479&amp;user=baidu&amp;fm=sc&amp;query=%B5%E7%D3%B0%A1%B6%D6%D0%B9%FA%BA%CF%BB%EF%C8%CB%A1%B7%D6%D0%D3%C9%D6%F7%BD%C7%B4%B4%B0%EC%B5%C4%D3%A2%D3%EF%D1%A7%D0%A3%BD%D0%CA%B2%C3%B4%C3%FB%D7%D6%3F+%28%D0%C2%CF%A3%CD%FB+%7C+%D0%C2%B6%AB%B7%BD+%7C+%D0%C2%C3%CE%CF%EB%29&amp;qid=e83aa661000089b1&amp;p1=2\" target=\"_blank\">百度快照</a><span class=\"c-pingjia\"> - <a class=\"m\" data-click=\"{'rsv_comments':'1'}\" data-from=\"ps_pc4\" href=\"http://www.baidu.com/tools?url=http%3A%2F%2Fwww.baidu.com%2Flink%3Furl%3Dnao5GffHGV78jR_FPG0B5AXktyAv2rgfxC_yaTmtgXi&amp;jump=http%3A%2F%2Fkoubei.baidu.com%2Fp%2Fsentry%3Ftitle%3D%02%E6%96%B0%E4%B8%9C%E6%96%B9%03%E7%BD%91%01-%01%E4%B8%80%01%E7%AB%99%01%E5%BC%8F%01%E5%AD%A6%E4%B9%A0%01%E6%9C%8D%E5%8A%A1%01%E5%B9%B3%E5%8F%B0%01-%02%E6%96%B0%E4%B8%9C%E6%96%B9%03-%02%E6%96%B0%E4%B8%9C%E6%96%B9%03%E9%A6%96%E9%A1%B5%01%26q%3D%E7%94%B5%E5%BD%B1%E3%80%8A%E4%B8%AD%E5%9B%BD%E5%90%88%E4%BC%99%E4%BA%BA%E3%80%8B%E4%B8%AD%E7%94%B1%E4%B8%BB%E8%A7%92%E5%88%9B%E5%8A%9E%E7%9A%84%E8%8B%B1%E8%AF%AD%E5%AD%A6%E6%A0%A1%E5%8F%AB%E4%BB%80%E4%B9%88%E5%90%8D%E5%AD%97%3F%20%28%E6%96%B0%E5%B8%8C%E6%9C%9B%20%7C%20%E6%96%B0%E4%B8%9C%E6%96%B9%20%7C%20%E6%96%B0%E6%A2%A6%26from%3Dps_pc4&amp;key=surl\" target=\"_blank\">860条评价</a></span></div></div>"
      ],
      "text/plain": [
       "<IPython.core.display.HTML object>"
      ]
     },
     "metadata": {},
     "output_type": "display_data"
    }
   ],
   "source": [
    "search_ans_from_pic(im, game='baiwan')"
   ]
  },
  {
   "cell_type": "code",
   "execution_count": 19,
   "metadata": {
    "scrolled": false
   },
   "outputs": [
    {
     "name": "stdout",
     "output_type": "stream",
     "text": [
      "\n",
      "Parsing pic...\n",
      "http://www.baidu.com/s?q1=在《三国演义》中下列人物谁最先拥有赤兔马?&q2=&q3=吕布+曹操+董卓&q4=&rn=50\n",
      "question: 在《三国演义》中下列人物谁最先拥有赤兔马?\n",
      "('B', '曹操', 1.1539082685490598)\n",
      "('C', '董卓', 0.9953461773646808)\n",
      "('A', '吕布', 0.4346822626197593)\n"
     ]
    },
    {
     "data": {
      "text/html": [
       "<div class=\"result c-container \" data-click=\"{'rsv_bdr':'0' }\" id=\"1\" srcid=\"1599\" tpl=\"se_com_default\"><h3 class=\"t\"><a data-click=\"{\n",
       "\t\t\t'F':'778717EA',\n",
       "\t\t\t'F1':'9D73F1E4',\n",
       "\t\t\t'F2':'4CA6DE6B',\n",
       "\t\t\t'F3':'54E5243F',\n",
       "\t\t\t'T':'1516025204',\n",
       "\t\t\t\t\t\t'y':'FFF1753E'\n",
       "\t\t\t \n",
       "\t\t\t\t\t\t\t\t\t}\" href=\"http://www.baidu.com/link?url=ehJacumdliSE53LO6dDocscqvlzU6T91S_kyxIkrre3HnkeI60gtyetz4vudAdlf97EPvrBBDuIbHL88BBT2ra\" target=\"_blank\"><em>曹操</em>——喋血中原 - 中国历史 - 铁血社区</a></h3><div class=\"c-abstract\"><span class=\" newTimeFactor_before_abs m\">2007年12月3日 - </span><em>董卓</em>之乱后期,公孙瓒受袁术明请,袁绍暗邀,攻入韩馥的冀州,一路凯歌,逼得韩馥让位于袁绍,从此刘虞便渐感公孙瓒不服节制了,挑着个幽州刺史的衔,竟然委任...</div><div class=\"f13\"><a class=\"c-showurl\" href=\"http://www.baidu.com/link?url=ehJacumdliSE53LO6dDocscqvlzU6T91S_kyxIkrre3HnkeI60gtyetz4vudAdlf97EPvrBBDuIbHL88BBT2ra\" style=\"text-decoration:none;\" target=\"_blank\">bbs.tiexue.net/post_23... </a><div class=\"c-tools\" data-tools='{\"title\":\"曹操——喋血中原 - 中国历史 - 铁血社区\",\"url\":\"http://www.baidu.com/link?url=ehJacumdliSE53LO6dDocscqvlzU6T91S_kyxIkrre3HnkeI60gtyetz4vudAdlf97EPvrBBDuIbHL88BBT2ra\"}' id=\"tools_9045650806914164059_1\"><a class=\"c-tip-icon\"><i class=\"c-icon c-icon-triangle-down-g\"></i></a></div><span class=\"c-icons-outer\"><span class=\"c-icons-inner\"></span></span> - <a class=\"m\" data-click=\"{'rsv_snapshot':'1'}\" href=\"http://cache.baiducontent.com/c?m=9d78d513d9d437a94f9be7690c66c0151a43f0672bd6a0020ede843ce5732b4a501290ac26520772d0d20a1116d9494b9df72173471453b48cb88d5ddccb855e2b9f5136671df65663a70edecb5154c237e658feae69f0cbfa25e2dec5a2a84324be44040a9781fb4d7362dd6e800347e6b1ee3f025e60ad9c44728e536028ef3436b75089e72518069680df4b4db33da06006e0ad22c14805c412b31e6b3335a05bc67e462641f73e27e8353f13e2eb4a975b6e4052a138b3aeb7c7fc388ccb9c3a8ffabab85f917795b3fd8f74550026ee62fef5b2e87b220715d8b9c30b9462fdedeccd0ab2439d570bad5d01733c8876d6dfce11e5652ef4e66bf92d20223f0dabb063ff022a296ef6&amp;p=99769a47a49d1cfa08e2947d0e5592&amp;newp=c278f91e85cc43ff57ed977d595c8b231610db2151d4d301298ffe0cc4241a1a1a3aecbf20201b01d8c57b6c06af485be0f13578350834f1f689df08d2ecce7e&amp;user=baidu&amp;fm=sc&amp;query=%D4%DA%A1%B6%C8%FD%B9%FA%D1%DD%D2%E5%A1%B7%D6%D0%CF%C2%C1%D0%C8%CB%CE%EF%CB%AD%D7%EE%CF%C8%D3%B5%D3%D0%B3%E0%CD%C3%C2%ED%3F+%28%C2%C0%B2%BC+%7C+%B2%DC%B2%D9+%7C+%B6%AD%D7%BF%29&amp;qid=cba5cc4a0000c964&amp;p1=1\" target=\"_blank\">百度快照</a></div></div>"
      ],
      "text/plain": [
       "<IPython.core.display.HTML object>"
      ]
     },
     "metadata": {},
     "output_type": "display_data"
    },
    {
     "data": {
      "text/html": [
       "<div class=\"result c-container \" data-click=\"{'rsv_bdr':'0' ,'rsv_cd':'pt:40520|vLevel:3'}\" id=\"2\" srcid=\"1525\" tpl=\"se_com_default\"><h3 class=\"t\"><span class=\"c-icon c-icon-doc c-gap-icon-right-small\"></span><a data-click=\"{\n",
       "\t\t\t'F':'778717EA',\n",
       "\t\t\t'F1':'9D73F1E4',\n",
       "\t\t\t'F2':'4CA6DE6B',\n",
       "\t\t\t'F3':'54E5242F',\n",
       "\t\t\t'T':'1516025204',\n",
       "\t\t\t\t\t\t'y':'DFBDDEEF'\n",
       "\t\t\t \n",
       "\t\t\t\t\t\t\t\t\t}\" href=\"http://www.baidu.com/link?url=E9IC__k1jbC6AgOEa0LbWvl6PMg1UwFEgtf7xmmNuKHF6HI5jI-Kr9vr2u-wb5EOEgtbgHr3tsK_Y8pRUfQUzku6jtG36-AKhi7Pk2SJ2c7\" target=\"_blank\"><em>《三国演义》</em>知识题库(有答案)_百度文库</a></h3><div class=\"c-abstract\"><span class=\" newTimeFactor_before_abs m\">2014年6月7日 - </span>(<em>吕布</em>) 4 谁巧使连环计除了<em>董卓</em>(王允) 号称八骏,据守荆州的一位皇室宗亲是(刘表) 受白帝托孤的蜀国两位大臣是(诸葛亮) (李严) 谁偷渡阴平,一举灭蜀(邓...</div><div class=\"f13\"><a class=\"c-showurl\" href=\"http://www.baidu.com/link?url=E9IC__k1jbC6AgOEa0LbWvl6PMg1UwFEgtf7xmmNuKHF6HI5jI-Kr9vr2u-wb5EOEgtbgHr3tsK_Y8pRUfQUzku6jtG36-AKhi7Pk2SJ2c7\" style=\"text-decoration:none;\" target=\"_blank\">https://wenku.baidu.com/view/9... </a><div class=\"c-tools\" data-tools='{\"title\":\"《三国演义》知识题库(有答案)_百度文库\",\"url\":\"http://www.baidu.com/link?url=E9IC__k1jbC6AgOEa0LbWvl6PMg1UwFEgtf7xmmNuKHF6HI5jI-Kr9vr2u-wb5EOEgtbgHr3tsK_Y8pRUfQUzku6jtG36-AKhi7Pk2SJ2c7\"}' id=\"tools_12008790991821511225_2\"><a class=\"c-tip-icon\"><i class=\"c-icon c-icon-triangle-down-g\"></i></a></div><span class=\"c-icons-outer\"><span class=\"c-icons-inner\"><span class=\"c-vline\"></span><span class=\"c-trust-as vstar \" data_key=\"1598668362003819882\" hint-data='{\"label\":\"北京百度网讯科技有限公司\",\"url\":\"https://www.baidu.com/s?wd=%E5%8C%97%E4%BA%AC%E7%99%BE%E5%BA%A6%E7%BD%91%E8%AE%AF%E7%A7%91%E6%8A%80%E6%9C%89%E9%99%90%E5%85%AC%E5%8F%B8@v&amp;vmp_ec=51ca232b552622f6f2ded8c402922slNfLR15JaJ39efb2=Qf3fv27=WeemmLth1dX1mb3cXd074de800408f9e9&amp;vmp_ectm=1516003180&amp;from=vs\",\"hint\":[{\"txt\":\"[ecard 119]\",\"vlevel\":\"3\"}]}' hint-type=\"vstar\"><a class=\"c-icon c-icon-v c-icon-v3\" data-click=\"{'title':'vstar','rsv_vlevel':'3'}\" href=\"https://www.baidu.com/s?wd=%E5%8C%97%E4%BA%AC%E7%99%BE%E5%BA%A6%E7%BD%91%E8%AE%AF%E7%A7%91%E6%8A%80%E6%9C%89%E9%99%90%E5%85%AC%E5%8F%B8@v&amp;vmp_ec=51ca232b552622f6f2ded8c402922slNfLR15JaJ39efb2=Qf3fv27=WeemmLth1dX1mb3cXd074de800408f9e9&amp;vmp_ectm=1516003180&amp;from=vs&amp;product=v&amp;rsv_dl=0_left_v_3\" target=\"_blank\"></a></span></span></span> - <a class=\"m\" data-click=\"{'rsv_snapshot':'1'}\" href=\"http://cache.baiducontent.com/c?m=9d78d513d9d437a94f9be7690c66c0151a43f0672bd6a0020ede843ce5732b4a501290ac26520772d0d20a1116d9494b9df72173471453b48cb88d5ddccb855e2b9f5136671df65663a70edecb5154c237e658feae69f0cbfa25e2dec5a2a84324be44040a9781fb4d7362dd6e800347e6b1ee3f025e60ad9c44728e536028ef3436b75089e72518069680df4b4db33da06006e0ad22c14805c412b31e6b3335a05bc67e462641f73e27e8353f13e2eb4a975b6e4052a138b3aeb7c7fc388ccb9c3a8ffabab85f917795b3fd8f74550026ee62fef5b2e87b220743cecbad0bd977eba6b5fd5be963874307ec1a612f1c9f36cb9fcb0ca52747ffe66ef92e29252859d5b873fb25273e33a23b1fe61ec27fa68e01119ab5c3&amp;p=8b2a9715d9c047ed09fbd3231359&amp;newp=8a34c64ad4922dff57ee923c165192695c03dc3a7bc8944e3db997498732002c0331a3fa7c7f4c0bd7c27e6c07a5485dedf5327032032bb299c88f5e9bd6d37f6d877068264dea&amp;user=baidu&amp;fm=sc&amp;query=%D4%DA%A1%B6%C8%FD%B9%FA%D1%DD%D2%E5%A1%B7%D6%D0%CF%C2%C1%D0%C8%CB%CE%EF%CB%AD%D7%EE%CF%C8%D3%B5%D3%D0%B3%E0%CD%C3%C2%ED%3F+%28%C2%C0%B2%BC+%7C+%B2%DC%B2%D9+%7C+%B6%AD%D7%BF%29&amp;qid=cba5cc4a0000c964&amp;p1=2\" target=\"_blank\">百度快照</a></div></div>"
      ],
      "text/plain": [
       "<IPython.core.display.HTML object>"
      ]
     },
     "metadata": {},
     "output_type": "display_data"
    },
    {
     "data": {
      "text/html": [
       "<div class=\"result c-container \" data-click=\"{'rsv_bdr':'0' ,'rsv_cd':'pt:40520|vLevel:3'}\" id=\"3\" srcid=\"1525\" tpl=\"se_com_default\"><h3 class=\"t\"><span class=\"c-icon c-icon-doc c-gap-icon-right-small\"></span><a data-click=\"{\n",
       "\t\t\t'F':'778717EA',\n",
       "\t\t\t'F1':'9D73F1E4',\n",
       "\t\t\t'F2':'4CA6DE6B',\n",
       "\t\t\t'F3':'54E5243F',\n",
       "\t\t\t'T':'1516025204',\n",
       "\t\t\t\t\t\t'y':'6C2C9855'\n",
       "\t\t\t \n",
       "\t\t\t\t\t\t\t\t\t}\" href=\"http://www.baidu.com/link?url=xb_Ftu9cKzLJ4oJAdy8MRcOQB5Frm8oYDBSD46l1FXuzAfLd6wA0jG2PpmizjT3ln15ZJ70zS-WBqB8-qELjj66EzeOi6D26i44Yza6uSIG\" target=\"_blank\"><em>《三国演义》</em>课外阅读练习题124道_百度文库</a></h3><p style=\"padding-top:3px;\"><span class=\"m\"><span class=\"c-icon c-icon-star-gray\"><span class=\"c-icon c-icon-star\" style=\"width:80%;\"></span></span> 评分:4/5 4页</span></p><div class=\"c-abstract\"><span class=\" newTimeFactor_before_abs m\">2012年11月27日 - </span>16.<em>董卓</em>表字为(仲颖) ,因(贿赂十常恃)而做西凉刺史。收复<em>吕布</em>时,是听取了身边谋士(李肃)的计 策。 17.群英会蒋干中计后,<em>曹操</em>下令掉杀蔡、张二将,后封(...</div><div class=\"f13\"><a class=\"c-showurl\" href=\"http://www.baidu.com/link?url=xb_Ftu9cKzLJ4oJAdy8MRcOQB5Frm8oYDBSD46l1FXuzAfLd6wA0jG2PpmizjT3ln15ZJ70zS-WBqB8-qELjj66EzeOi6D26i44Yza6uSIG\" style=\"text-decoration:none;\" target=\"_blank\">https://wenku.baidu.com/view/c... </a><div class=\"c-tools\" data-tools='{\"title\":\"《三国演义》课外阅读练习题124道_百度文库\",\"url\":\"http://www.baidu.com/link?url=xb_Ftu9cKzLJ4oJAdy8MRcOQB5Frm8oYDBSD46l1FXuzAfLd6wA0jG2PpmizjT3ln15ZJ70zS-WBqB8-qELjj66EzeOi6D26i44Yza6uSIG\"}' id=\"tools_6213997123882817370_3\"><a class=\"c-tip-icon\"><i class=\"c-icon c-icon-triangle-down-g\"></i></a></div><span class=\"c-icons-outer\"><span class=\"c-icons-inner\"><span class=\"c-vline\"></span><span class=\"c-trust-as vstar \" data_key=\"1598668362003819882\" hint-data='{\"label\":\"北京百度网讯科技有限公司\",\"url\":\"https://www.baidu.com/s?wd=%E5%8C%97%E4%BA%AC%E7%99%BE%E5%BA%A6%E7%BD%91%E8%AE%AF%E7%A7%91%E6%8A%80%E6%9C%89%E9%99%90%E5%85%AC%E5%8F%B8@v&amp;vmp_ec=51ca232b552622f6f2ded8c402922slNfLR15JaJ39efb2=Qf3fv27=WeemmLth1dX1mb3cXd074de800408f9e9&amp;vmp_ectm=1516003180&amp;from=vs\",\"hint\":[{\"txt\":\"[ecard 119]\",\"vlevel\":\"3\"}]}' hint-type=\"vstar\"><a class=\"c-icon c-icon-v c-icon-v3\" data-click=\"{'title':'vstar','rsv_vlevel':'3'}\" href=\"https://www.baidu.com/s?wd=%E5%8C%97%E4%BA%AC%E7%99%BE%E5%BA%A6%E7%BD%91%E8%AE%AF%E7%A7%91%E6%8A%80%E6%9C%89%E9%99%90%E5%85%AC%E5%8F%B8@v&amp;vmp_ec=51ca232b552622f6f2ded8c402922slNfLR15JaJ39efb2=Qf3fv27=WeemmLth1dX1mb3cXd074de800408f9e9&amp;vmp_ectm=1516003180&amp;from=vs&amp;product=v&amp;rsv_dl=0_left_v_3\" target=\"_blank\"></a></span></span></span> - <a class=\"m\" data-click=\"{'rsv_snapshot':'1'}\" href=\"http://cache.baiducontent.com/c?m=9d78d513d9d437a94f9be7690c66c0151a43f0672bd6a0020ede843ce5732b4a501290ac26520772d0d20a1116d9494b9df72173471453b48cb88d5ddccb855e2b9f5136671df65663a70edecb5154c237e658feae69f0cbfa25e2dec5a2a84324be44040a9781fb4d7362dd6e800347e6b1ee3f025e60ad9c44728e536028ef3436b75089e72518069680df4b4db33da06006e0ad22c14805c412b31e6b3335a05bc67e462641f73e27e8353f13e2eb4a975b6e4052a138b3aeb7c7fc388ccb9c3a8ffabab85f917795b3fd8f74550026ee62fef5b2e87b220743cecbad0bd977eba6b5fd5be963874307ec1a612f1c9f36cb9fcb0ca52747a5e36cfa7e76207b0bdeb725fc22206432fb3f1db649c37fa68e01119ab5c3&amp;p=9f769a479d9611a058ec9535490586&amp;newp=882a9544d7af19b42af6c7710f4d9c231611d73f6590cf512496fe438732002c0331a3fa7c7f4c0bd7c27e6c04a4495be1f73675370722bc99c88f5e9bd6d37f6d8770682670de5a60c8&amp;user=baidu&amp;fm=sc&amp;query=%D4%DA%A1%B6%C8%FD%B9%FA%D1%DD%D2%E5%A1%B7%D6%D0%CF%C2%C1%D0%C8%CB%CE%EF%CB%AD%D7%EE%CF%C8%D3%B5%D3%D0%B3%E0%CD%C3%C2%ED%3F+%28%C2%C0%B2%BC+%7C+%B2%DC%B2%D9+%7C+%B6%AD%D7%BF%29&amp;qid=cba5cc4a0000c964&amp;p1=3\" target=\"_blank\">百度快照</a></div></div>"
      ],
      "text/plain": [
       "<IPython.core.display.HTML object>"
      ]
     },
     "metadata": {},
     "output_type": "display_data"
    },
    {
     "name": "stdout",
     "output_type": "stream",
     "text": [
      "\n",
      "Parsing pic...\n",
      "http://www.baidu.com/s?q1=一般情况下水能和以下哪种物质互溶?&q2=&q3=大豆油+甘油+玉米油&q4=&rn=50\n",
      "question: 一般情况下水能和以下哪种物质互溶?\n",
      "('A', '大豆油', 1.3273778557814921)\n",
      "('B', '甘油', 0.02415418438232564)\n",
      "('C', '玉米油', 6.224215030670166e-05)\n"
     ]
    },
    {
     "data": {
      "text/html": [
       "<div class=\"result c-container \" data-click=\"{'rsv_bdr':'0' ,'rsv_cd':'pt:40519|vLevel:3'}\" id=\"1\" srcid=\"1599\" tpl=\"se_com_default\"><h3 class=\"t\"><a data-click=\"{\n",
       "\t\t\t'F':'778717EA',\n",
       "\t\t\t'F1':'9D73F164',\n",
       "\t\t\t'F2':'4CA6DE6B',\n",
       "\t\t\t'F3':'54E5243F',\n",
       "\t\t\t'T':'1516025275',\n",
       "\t\t\t\t\t\t'y':'E5BDCFB5'\n",
       "\t\t\t \n",
       "\t\t\t\t\t\t\t\t\t}\" href=\"http://www.baidu.com/link?url=__A6Gm-tQCS6ZJFocal9oNWJcaCS2vqNJXcbbuj7jmWgj5L4adcZYJ_AYfgHQjDSE7U_Im78LnUbCWK7Ub9Hxq\" target=\"_blank\">【<em>豆油</em>】_海南乐东县<em>豆油</em>价格_<em>豆油</em>批发_海南乐东县<em>豆油</em>供..._搜了网</a></h3><div class=\"c-abstract\">环氧<em>大豆油</em>环氧<em>大豆油</em>是用<em>大豆油</em>经过氧化处理后制得的一种化工产品,常温下为浅黄色粘稠油状液体,是一种使用广泛的聚氯乙烯无毒增塑剂兼稳定剂:<em>与</em>PVC树脂... [ 上...</div><div class=\"f13\"><a class=\"c-showurl\" href=\"http://www.baidu.com/link?url=__A6Gm-tQCS6ZJFocal9oNWJcaCS2vqNJXcbbuj7jmWgj5L4adcZYJ_AYfgHQjDSE7U_Im78LnUbCWK7Ub9Hxq\" style=\"text-decoration:none;\" target=\"_blank\">www.51sole.com/b2b/ss3... </a><div class=\"c-tools\" data-tools='{\"title\":\"【豆油】_海南乐东县豆油价格_豆油批发_海南乐东县豆油供..._搜了网\",\"url\":\"http://www.baidu.com/link?url=__A6Gm-tQCS6ZJFocal9oNWJcaCS2vqNJXcbbuj7jmWgj5L4adcZYJ_AYfgHQjDSE7U_Im78LnUbCWK7Ub9Hxq\"}' id=\"tools_13437534184565712216_1\"><a class=\"c-tip-icon\"><i class=\"c-icon c-icon-triangle-down-g\"></i></a></div><span class=\"c-icons-outer\"><span class=\"c-icons-inner\"><span class=\"c-vline\"></span><span class=\"c-trust-as vstar \" data_key=\"6025505325239457695\" hint-data='{\"label\":\"深圳市搜了网络科技股份有限公司\",\"url\":\"https://www.baidu.com/s?wd=%E6%B7%B1%E5%9C%B3%E5%B8%82%E6%90%9C%E4%BA%86%E7%BD%91%E7%BB%9C%E7%A7%91%E6%8A%80%E8%82%A1%E4%BB%BD%E6%9C%89%E9%99%90%E5%85%AC%E5%8F%B8@v&amp;vmp_ec=7ef913320d8637e592de32e9c477U9uyN0XJ3027d9c2aY6Gdt5MvX3dbX1d34761bac4sd5e2ed03ef&amp;vmp_ectm=1515980240&amp;from=vs\",\"hint\":[{\"txt\":\"[ecard 110]\",\"vlevel\":\"3\"}]}' hint-type=\"vstar\"><a class=\"c-icon c-icon-v c-icon-v3\" data-click=\"{'title':'vstar','rsv_vlevel':'3'}\" href=\"https://www.baidu.com/s?wd=%E6%B7%B1%E5%9C%B3%E5%B8%82%E6%90%9C%E4%BA%86%E7%BD%91%E7%BB%9C%E7%A7%91%E6%8A%80%E8%82%A1%E4%BB%BD%E6%9C%89%E9%99%90%E5%85%AC%E5%8F%B8@v&amp;vmp_ec=7ef913320d8637e592de32e9c477U9uyN0XJ3027d9c2aY6Gdt5MvX3dbX1d34761bac4sd5e2ed03ef&amp;vmp_ectm=1515980240&amp;from=vs&amp;product=v&amp;rsv_dl=0_left_v_3\" target=\"_blank\"></a></span></span></span> - <a class=\"m\" data-click=\"{'rsv_snapshot':'1'}\" href=\"http://cache.baiducontent.com/c?m=9f65cb4a8c8507ed4fece763105392230e54f7643f968d4b28c3933fc239045c1766b3a666631101d4c16b6777ed4a57fdf04023360126a09bbfd20c82e5866d72c8713b676a865662a30edfc95152c037912afede1cf0cdfb25e3dac5a7db4352ba44740e97818b4d0164dd1e80034294b1e84e022961adec40728f2a6058e93441c6508fe02518019687a94b3dc33dd11106e6a922c13805b463b3691f3332a45bb078465747f73853e8323913e3984ae65a6e3053a13bb4aec0c6fc3986cb9c408ffabab85f937792c4fdf801550056ed55b5bccbb32a153315d9bbc966ce25cd89fbcc4dfe65a1075ccb4a002e7cba6883f38e4084674df5977f882835575e&amp;p=882a970c9f8112a05aa2852216&amp;newp=8e759a47909f0bfc57efde214253d8254207dc357b9687787cc0c513fe200c01063dbee728261706d9c179650aae4359edf03078360220bc8f8ee50b8af99d7f73de61683a&amp;user=baidu&amp;fm=sc&amp;query=%D2%BB%B0%E3%C7%E9%BF%F6%CF%C2%CB%AE%C4%DC%BA%CD%D2%D4%CF%C2%C4%C4%D6%D6%CE%EF%D6%CA%BB%A5%C8%DC%3F+%28%B4%F3%B6%B9%D3%CD+%7C+%B8%CA%D3%CD+%7C+%D3%F1%C3%D7%D3%CD%29&amp;qid=c26c11f30000b31b&amp;p1=1\" target=\"_blank\">百度快照</a></div></div>"
      ],
      "text/plain": [
       "<IPython.core.display.HTML object>"
      ]
     },
     "metadata": {},
     "output_type": "display_data"
    },
    {
     "data": {
      "text/html": [
       "<div class=\"result c-container \" data-click=\"{'rsv_bdr':'0' ,'rsv_cd':'pt:40520'}\" id=\"2\" srcid=\"1599\" tpl=\"se_com_default\"><h3 class=\"t\"><a data-click=\"{\n",
       "\t\t\t'F':'778717EA',\n",
       "\t\t\t'F1':'9D73F164',\n",
       "\t\t\t'F2':'4CA6DE6B',\n",
       "\t\t\t'F3':'54E5243F',\n",
       "\t\t\t'T':'1516025275',\n",
       "\t\t\t\t\t\t'y':'F37EF16F'\n",
       "\t\t\t \n",
       "\t\t\t\t\t\t\t\t\t}\" href=\"http://www.baidu.com/link?url=aAVpJ2p0MUqDndyJ4S8RD3F-KOwBESIas581pvD76_otsmYH4Am7Brs7NLA4vdyHyssFfW9n_pJj47WdHm_4gGMRtramszJJMcCVl-jO_Qy1UolrbWYzWKs_yZQZdHJV\" target=\"_blank\">环氧<em>大豆油</em>_优势供应 环氧<em>大豆油</em>(高端环保产品)① - 阿里巴巴</a></h3><div class=\"c-abstract\">外观 淡黄色<em>油</em>状液体 酸值≤0.5mgKOH/g 色度(铂一钴色号) ≤400 加热减量(125℃,3h) ≤0.3% 环氧值 ≥6.0% 灰分≤0.01% 密度(ρ20) 0.985~0.990g...</div><div class=\"f13\"><a class=\"c-showurl\" href=\"http://www.baidu.com/link?url=aAVpJ2p0MUqDndyJ4S8RD3F-KOwBESIas581pvD76_otsmYH4Am7Brs7NLA4vdyHyssFfW9n_pJj47WdHm_4gGMRtramszJJMcCVl-jO_Qy1UolrbWYzWKs_yZQZdHJV\" style=\"text-decoration:none;\" target=\"_blank\">https://detail.1688.com/offer/... </a><div class=\"c-tools\" data-tools='{\"title\":\"环氧大豆油_优势供应 环氧大豆油(高端环保产品)① - 阿里巴巴\",\"url\":\"http://www.baidu.com/link?url=aAVpJ2p0MUqDndyJ4S8RD3F-KOwBESIas581pvD76_otsmYH4Am7Brs7NLA4vdyHyssFfW9n_pJj47WdHm_4gGMRtramszJJMcCVl-jO_Qy1UolrbWYzWKs_yZQZdHJV\"}' id=\"tools_16505999389747893884_2\"><a class=\"c-tip-icon\"><i class=\"c-icon c-icon-triangle-down-g\"></i></a></div><span class=\"c-icons-outer\"><span class=\"c-icons-inner\"></span></span> - <a class=\"m\" data-click=\"{'rsv_snapshot':'1'}\" href=\"http://cache.baiducontent.com/c?m=9f65cb4a8c8507ed19fa950d100b81315f07db3d2bd7a7167bde995f93130a1c187bbeef73755019d0c57c6105a44d5be0f62172405966e8c5df893e9bfbc17978d67a61671df01e468f52b8cc32739666c301b7b81e93e4ab73d5ba978e9f025cdd25056df0809c2a0203bd6ee71541f4d79c5f625407ca992711fb4e7659885234a136f9f7331e10f086ca2f3bd45bd67667e6b834c02962c604d5690c2534b73ab11f272027913b308e442a05e2fc2ce13d084634b738a4cfc5a19d4c9bdd9a26e98ddcd85b8216e2d29b8a664300458a55a9d8baa53c145273d3dda867d332cded9cbc5b9d15c0112cad2d72381bc57ce283982684755a85f018f43e53553f7cdea4058962701e26de3f0fc51cd704b099004ecbebed9fe91452deef&amp;p=8a39c216d9c108f108e296285c&amp;newp=9a64c64ad4934ead03b7d42f5653d8254207dc357b9687787dc0c513fe200c01063dbee728261706d9c47e6305ae4e5debf330763c0223b68f8ee50b8af99d7f73de&amp;user=baidu&amp;fm=sc&amp;query=%D2%BB%B0%E3%C7%E9%BF%F6%CF%C2%CB%AE%C4%DC%BA%CD%D2%D4%CF%C2%C4%C4%D6%D6%CE%EF%D6%CA%BB%A5%C8%DC%3F+%28%B4%F3%B6%B9%D3%CD+%7C+%B8%CA%D3%CD+%7C+%D3%F1%C3%D7%D3%CD%29&amp;qid=c26c11f30000b31b&amp;p1=2\" target=\"_blank\">百度快照</a></div></div>"
      ],
      "text/plain": [
       "<IPython.core.display.HTML object>"
      ]
     },
     "metadata": {},
     "output_type": "display_data"
    },
    {
     "data": {
      "text/html": [
       "<div class=\"result c-container \" data-click=\"{'rsv_bdr':'0' ,'rsv_cd':'pt:40519|vLevel:3'}\" id=\"3\" srcid=\"1599\" tpl=\"se_com_default\"><h3 class=\"t\"><a data-click=\"{\n",
       "\t\t\t'F':'778717EA',\n",
       "\t\t\t'F1':'9D73F164',\n",
       "\t\t\t'F2':'4CA6DE6B',\n",
       "\t\t\t'F3':'54E5243F',\n",
       "\t\t\t'T':'1516025275',\n",
       "\t\t\t\t\t\t'y':'F7B6DB6F'\n",
       "\t\t\t \n",
       "\t\t\t\t\t\t\t\t\t}\" href=\"http://www.baidu.com/link?url=E3frYgCWBhmwrz9nFcX7D5FqwQgqmwvdbeoL05XBmSFQMeZvOnu3crxLXJIV0pYnsvqGwtRoYzTYt4BeMM3TVq\" target=\"_blank\">【<em>豆油</em>】_辽宁阜新市<em>豆油</em>价格_<em>豆油</em>批发_辽宁阜新市<em>豆油</em>供..._搜了网</a></h3><div class=\"c-abstract\">环氧<em>大豆油</em>环氧<em>大豆油</em>是用<em>大豆油</em>经过氧化处理后制得的一种化工产品,常温下为浅黄色粘稠油状液体,是一种使用广泛的聚氯乙烯无毒增塑剂兼稳定剂:<em>与</em>PVC树脂... [ 上...</div><div class=\"f13\"><a class=\"c-showurl\" href=\"http://www.baidu.com/link?url=E3frYgCWBhmwrz9nFcX7D5FqwQgqmwvdbeoL05XBmSFQMeZvOnu3crxLXJIV0pYnsvqGwtRoYzTYt4BeMM3TVq\" style=\"text-decoration:none;\" target=\"_blank\">www.51sole.com/b2b/ss5... </a><div class=\"c-tools\" data-tools='{\"title\":\"【豆油】_辽宁阜新市豆油价格_豆油批发_辽宁阜新市豆油供..._搜了网\",\"url\":\"http://www.baidu.com/link?url=E3frYgCWBhmwrz9nFcX7D5FqwQgqmwvdbeoL05XBmSFQMeZvOnu3crxLXJIV0pYnsvqGwtRoYzTYt4BeMM3TVq\"}' id=\"tools_5222934617632628875_3\"><a class=\"c-tip-icon\"><i class=\"c-icon c-icon-triangle-down-g\"></i></a></div><span class=\"c-icons-outer\"><span class=\"c-icons-inner\"><span class=\"c-vline\"></span><span class=\"c-trust-as vstar \" data_key=\"6025505325239457695\" hint-data='{\"label\":\"深圳市搜了网络科技股份有限公司\",\"url\":\"https://www.baidu.com/s?wd=%E6%B7%B1%E5%9C%B3%E5%B8%82%E6%90%9C%E4%BA%86%E7%BD%91%E7%BB%9C%E7%A7%91%E6%8A%80%E8%82%A1%E4%BB%BD%E6%9C%89%E9%99%90%E5%85%AC%E5%8F%B8@v&amp;vmp_ec=7ef913320d8637e592de32e9c477U9uyN0XJ3027d9c2aY6Gdt5MvX3dbX1d34761bac4sd5e2ed03ef&amp;vmp_ectm=1515980240&amp;from=vs\",\"hint\":[{\"txt\":\"[ecard 110]\",\"vlevel\":\"3\"}]}' hint-type=\"vstar\"><a class=\"c-icon c-icon-v c-icon-v3\" data-click=\"{'title':'vstar','rsv_vlevel':'3'}\" href=\"https://www.baidu.com/s?wd=%E6%B7%B1%E5%9C%B3%E5%B8%82%E6%90%9C%E4%BA%86%E7%BD%91%E7%BB%9C%E7%A7%91%E6%8A%80%E8%82%A1%E4%BB%BD%E6%9C%89%E9%99%90%E5%85%AC%E5%8F%B8@v&amp;vmp_ec=7ef913320d8637e592de32e9c477U9uyN0XJ3027d9c2aY6Gdt5MvX3dbX1d34761bac4sd5e2ed03ef&amp;vmp_ectm=1515980240&amp;from=vs&amp;product=v&amp;rsv_dl=0_left_v_3\" target=\"_blank\"></a></span></span></span> - <a class=\"m\" data-click=\"{'rsv_snapshot':'1'}\" href=\"http://cache.baiducontent.com/c?m=9f65cb4a8c8507ed4fece763105392230e54f7643f968d4b28c3933fc239045c1766b3a666631701d9c46b6777ed434bea866771300537b7ec92ce1583afd7756fde2823061c913162c469addc3124d621e04d98aa0e90b1e742e7b9a6d7c85523dd22716df1f09c5b7003bb1fe76746f4d79f5f632e07bb9d27158c4e065f882230a131f9f7446810f082ca2d4cd42ba0766091b844b62913c504d21b0c5240b74dc11f205127973b3089402a75e1fc5c973d093034c54fa4b8b1a19a429baa9b26988bdcdf298214e7d2eb89663274458a2ea9ddbca54c125202a8ddae1cd343cfed9abb5b9862c0102dad2b77381fcd7ce5839821f7755b84f01eff3e5350&amp;p=8670c64ad4dd01ff57efd1287f&amp;newp=82759a479f855bb30be296224b53d8254207dc357b96877879c0c513fe200c01063dbee728261706d8c0766300ab485cebf63479340122bc8f8ee50b8af99d7f73de6e726a00&amp;user=baidu&amp;fm=sc&amp;query=%D2%BB%B0%E3%C7%E9%BF%F6%CF%C2%CB%AE%C4%DC%BA%CD%D2%D4%CF%C2%C4%C4%D6%D6%CE%EF%D6%CA%BB%A5%C8%DC%3F+%28%B4%F3%B6%B9%D3%CD+%7C+%B8%CA%D3%CD+%7C+%D3%F1%C3%D7%D3%CD%29&amp;qid=c26c11f30000b31b&amp;p1=3\" target=\"_blank\">百度快照</a></div></div>"
      ],
      "text/plain": [
       "<IPython.core.display.HTML object>"
      ]
     },
     "metadata": {},
     "output_type": "display_data"
    },
    {
     "name": "stdout",
     "output_type": "stream",
     "text": [
      "\n",
      "Parsing pic...\n",
      "http://www.baidu.com/s?q1=在我国古代称呼中下列哪一个称呼代指的年龄最小?&q2=&q3=舞象之年+舞勺之年+弱冠&q4=&rn=50\n",
      "question: 在我国古代称呼中下列哪一个称呼代指的年龄最小?\n",
      "('B', '舞勺之年', 1.9999999999999982)\n",
      "('A', '舞象之年', 1.9843749999999982)\n",
      "('C', '弱冠', 0.2519533658050932)\n"
     ]
    },
    {
     "data": {
      "text/html": [
       "<div class=\"result c-container \" data-click=\"{'rsv_bdr':'0' ,'rsv_cd':'vLevel:3'}\" id=\"1\" srcid=\"1599\" tpl=\"se_com_default\"><h3 class=\"t\"><a data-click=\"{\n",
       "\t\t\t'F':'F78717EA',\n",
       "\t\t\t'F1':'9D73F1E4',\n",
       "\t\t\t'F2':'4CA6DE6B',\n",
       "\t\t\t'F3':'54E5243F',\n",
       "\t\t\t'T':'1516025339',\n",
       "\t\t\t\t\t\t'y':'FEFAF73F'\n",
       "\t\t\t \n",
       "\t\t\t\t\t\t\t\t\t}\" href=\"http://www.baidu.com/link?url=tBenVkuw22KUE34oqpcPF6OZ_avXVRTZ7MUKhvaior98CTcJpHwe4XWaDnzz_0JV\" target=\"_blank\"><em>舞勺之年</em>_金华汉服吧_百度贴吧</a></h3><div class=\"bbs f13\">1条回复 - 发帖时间: 2014年7月18日</div><div class=\"c-abstract\">0回复贴,共<em>1</em>页 &lt;&lt;返回金华汉服吧 <em>舞勺之年</em> 只看楼主 收藏 回复婺州布衣  吧主 8  根据《礼记》的记载:勺,一种乐舞,指未成童者学习的文舞。《礼记.内...</div><div class=\"f13\"><a class=\"c-showurl\" href=\"http://www.baidu.com/link?url=tBenVkuw22KUE34oqpcPF6OZ_avXVRTZ7MUKhvaior98CTcJpHwe4XWaDnzz_0JV\" style=\"text-decoration:none;\" target=\"_blank\">tieba.baidu.com/p/3171... </a><div class=\"c-tools\" data-tools='{\"title\":\"舞勺之年_金华汉服吧_百度贴吧\",\"url\":\"http://www.baidu.com/link?url=tBenVkuw22KUE34oqpcPF6OZ_avXVRTZ7MUKhvaior98CTcJpHwe4XWaDnzz_0JV\"}' id=\"tools_359954943915615266_1\"><a class=\"c-tip-icon\"><i class=\"c-icon c-icon-triangle-down-g\"></i></a></div><span class=\"c-icons-outer\"><span class=\"c-icons-inner\"><span class=\"c-vline\"></span><span class=\"c-trust-as vstar \" data_key=\"7706407786847786660\" hint-data='{\"label\":\"北京百度网讯科技有限公司\",\"url\":\"https://www.baidu.com/s?wd=%E5%8C%97%E4%BA%AC%E7%99%BE%E5%BA%A6%E7%BD%91%E8%AE%AF%E7%A7%91%E6%8A%80%E6%9C%89%E9%99%90%E5%85%AC%E5%8F%B8@v&amp;vmp_ec=13f076d0f55c5aa758d190c97a33fQJmN1R0hdRbZaJdc3m==610fcbdpva4LsWhLcJWdd1X35X10c6e6d0581b2&amp;vmp_ectm=1516009840&amp;from=vs\",\"hint\":[{\"txt\":\"[ecard 119]\",\"vlevel\":\"3\"}]}' hint-type=\"vstar\"><a class=\"c-icon c-icon-v c-icon-v3\" data-click=\"{'title':'vstar','rsv_vlevel':'3'}\" href=\"https://www.baidu.com/s?wd=%E5%8C%97%E4%BA%AC%E7%99%BE%E5%BA%A6%E7%BD%91%E8%AE%AF%E7%A7%91%E6%8A%80%E6%9C%89%E9%99%90%E5%85%AC%E5%8F%B8@v&amp;vmp_ec=13f076d0f55c5aa758d190c97a33fQJmN1R0hdRbZaJdc3m==610fcbdpva4LsWhLcJWdd1X35X10c6e6d0581b2&amp;vmp_ectm=1516009840&amp;from=vs&amp;product=v&amp;rsv_dl=0_left_v_3\" target=\"_blank\"></a></span></span></span> - <a class=\"m\" data-click=\"{'rsv_snapshot':'1'}\" href=\"http://cache.baiducontent.com/c?m=9f65cb4a8c8507ed4fece76310508c31490797634b87834e29938448e435061e5a24feba2427130ed6c57c6405bb0c01aaa63965410537c1e8df893acacae53f59883035000bf64a05a76ab8ca3632b12b872beeb869e1ad844184afa2c4af5544bb57120af3e7ff5c1715ba7886102695a48e49654861cefa4165e828743ee92157b737ee9134797687e1dc2c5bb52ac7116180ae45a74e18a267a0081a5453d04da679553140935853f9533c74859b5bf05e0a5722c65fc5bdd6c6e15f8dacfd419fedbaa9389410f1b4ecee06316723f932c9adaab34d733307cebda901c542ab8ceead3fea03d7614bcb2a615861d96ae495fe23e5165be3e618e95f26315b7dc8b204e804767846db2918c008b102a6f97c5cdd9a8af9940233aa&amp;p=8d7ec64ad48b5dbc40bd9b7c13&amp;newp=9c759a47c0871dfb10be9b7c5a53d8254207dc357b96877879c0c513fe200c01063dbee728261706d8c0766300ab485cebf63479340122bc8f8ee50b8af99d7f73de31702c48ce&amp;user=baidu&amp;fm=sc&amp;query=%D4%DA%CE%D2%B9%FA%B9%C5%B4%FA%B3%C6%BA%F4%D6%D0%CF%C2%C1%D0%C4%C4%D2%BB%B8%F6%B3%C6%BA%F4%B4%FA%D6%B8%B5%C4%C4%EA%C1%E4%D7%EE%D0%A1%3F+%28%CE%E8%CF%F3%D6%AE%C4%EA+%7C+%CE%E8%C9%D7%D6%AE%C4%EA+%7C+%C8%F5%B9%DA%29&amp;qid=8cffd0180000c4ff&amp;p1=1\" target=\"_blank\">百度快照</a></div></div>"
      ],
      "text/plain": [
       "<IPython.core.display.HTML object>"
      ]
     },
     "metadata": {},
     "output_type": "display_data"
    },
    {
     "data": {
      "text/html": [
       "<div class=\"result c-container \" data-click=\"{'rsv_bdr':'0' ,'rsv_cd':'pt:40520'}\" id=\"2\" srcid=\"1599\" tpl=\"se_com_default\"><h3 class=\"t\"><a data-click=\"{\n",
       "\t\t\t'F':'F78717EA',\n",
       "\t\t\t'F1':'9D73F1E4',\n",
       "\t\t\t'F2':'4CA6DE6B',\n",
       "\t\t\t'F3':'54E5243F',\n",
       "\t\t\t'T':'1516025339',\n",
       "\t\t\t\t\t\t'y':'FFB9ECDE'\n",
       "\t\t\t \n",
       "\t\t\t\t\t\t\t\t\t}\" href=\"http://www.baidu.com/link?url=TbCa9gjGqxm0PNSnAJvuiQ-8Hx3RBlBaBj0dmFiQFY_yNa0ovDBvCtiUFpuwTVSX2WHMcVZC0fqfpnHEcoZ4xa\" target=\"_blank\"><em>舞勺之年</em>_中国一号网_新浪博客</a></h3><div class=\"c-abstract\"><span class=\" newTimeFactor_before_abs m\">2016年11月22日 - </span>在以后几十年的时间内能有什么质量的活着,要看你<em>舞勺之年</em>到<em>弱冠</em>之际用什么态度来奠定自身的基础,这些没有人可以再帮到你。哪位孩子能越早领悟,他以后...</div><div class=\"f13\"><a class=\"c-showurl\" href=\"http://www.baidu.com/link?url=TbCa9gjGqxm0PNSnAJvuiQ-8Hx3RBlBaBj0dmFiQFY_yNa0ovDBvCtiUFpuwTVSX2WHMcVZC0fqfpnHEcoZ4xa\" style=\"text-decoration:none;\" target=\"_blank\">blog.sina.com.cn/s/blo... </a><div class=\"c-tools\" data-tools='{\"title\":\"舞勺之年_中国一号网_新浪博客\",\"url\":\"http://www.baidu.com/link?url=TbCa9gjGqxm0PNSnAJvuiQ-8Hx3RBlBaBj0dmFiQFY_yNa0ovDBvCtiUFpuwTVSX2WHMcVZC0fqfpnHEcoZ4xa\"}' id=\"tools_10463054015718706153_2\"><a class=\"c-tip-icon\"><i class=\"c-icon c-icon-triangle-down-g\"></i></a></div><span class=\"c-icons-outer\"><span class=\"c-icons-inner\"></span></span> - <a class=\"m\" data-click=\"{'rsv_snapshot':'1'}\" href=\"http://cache.baiducontent.com/c?m=9f65cb4a8c8507ed4fece7631046893b4c4380147d8c8c4668d4e419ce3b4c413037bfa6663f405a8e906b6075a8480ceef76176630123b59b83d21f95ac925f75ce786a6459db0144dc0ed9cd5153b237912afede6ef0ccf02592dec5a3d44327b944040a9780804d7113dd1ff6034590b19838022f11ad9c34728f2a605d993441c6508fe425180596f7ad4b3db73da16106e6ac22c63c05b463b36e1d3335a65bb078465030f73f57e8454d13e2e14a932e6e4153a138b2aeb0b2fc38ffcb9e378ffbbbb85f937792b6fdf801550656ed55b4bcbcc22a144215a8ccc917b425cdfcfbcd3ffe65d4072bbc4a775f7cb86e83f5f840f3124d82e57f8d2a3526591daec463887f676e41bf4f6ca66bc162b0fe613dd8fdeeff881435b8e8c364008dbabf33a01c79349b2d5517bce0277c02ef09&amp;p=8b2a971e86cc43fa1df6cd264f&amp;newp=8d74da0786cc43f818be9b7c1553d8254207dc357b9687787cc0c513fe200c01063dbee728261706d9c179650aae4359edf03078360220bc8f8ee50b8af99d7f73de7074&amp;user=baidu&amp;fm=sc&amp;query=%D4%DA%CE%D2%B9%FA%B9%C5%B4%FA%B3%C6%BA%F4%D6%D0%CF%C2%C1%D0%C4%C4%D2%BB%B8%F6%B3%C6%BA%F4%B4%FA%D6%B8%B5%C4%C4%EA%C1%E4%D7%EE%D0%A1%3F+%28%CE%E8%CF%F3%D6%AE%C4%EA+%7C+%CE%E8%C9%D7%D6%AE%C4%EA+%7C+%C8%F5%B9%DA%29&amp;qid=8cffd0180000c4ff&amp;p1=2\" target=\"_blank\">百度快照</a></div></div>"
      ],
      "text/plain": [
       "<IPython.core.display.HTML object>"
      ]
     },
     "metadata": {},
     "output_type": "display_data"
    },
    {
     "data": {
      "text/html": [
       "<div class=\"result c-container \" data-click=\"{'rsv_bdr':'0' }\" id=\"3\" srcid=\"1599\" tpl=\"se_com_default\"><h3 class=\"t\"><a data-click=\"{\n",
       "\t\t\t'F':'F78717EA',\n",
       "\t\t\t'F1':'9D73F1E4',\n",
       "\t\t\t'F2':'4CA6DE6B',\n",
       "\t\t\t'F3':'54E5243F',\n",
       "\t\t\t'T':'1516025339',\n",
       "\t\t\t\t\t\t'y':'FE3FFDEE'\n",
       "\t\t\t \n",
       "\t\t\t\t\t\t\t\t\t}\" href=\"http://www.baidu.com/link?url=28t5BVW2wZRa5kxOxqylXLcWpYWAZsXscAyD3Wy5XnMt5SQmqITiaw7CIPNoumx7hP6oVkIgagWLv6HoMkSTLKKPD8J22hDjDJ3eQmBaFtrz6OQdH1JWb2qyt3A8VsYM\" target=\"_blank\"><em>古代称谓</em>浅谈<em>舞勺之年</em>是什么意思 - 第一星座网</a></h3><div class=\"c-abstract\"><span class=\" newTimeFactor_before_abs m\">2016年8月28日 - </span>每<em>一个古代的称呼</em>都会有他特殊的意义,每到<em>一个年龄</em>都会<em>有一个</em>不一样的名字,那么<em>在古代</em>民族文化中,所谓<em>的舞勺之年</em>是什么意思呢,接下来让我们一起来看看...</div><div class=\"f13\"><a class=\"c-showurl\" href=\"http://www.baidu.com/link?url=28t5BVW2wZRa5kxOxqylXLcWpYWAZsXscAyD3Wy5XnMt5SQmqITiaw7CIPNoumx7hP6oVkIgagWLv6HoMkSTLKKPD8J22hDjDJ3eQmBaFtrz6OQdH1JWb2qyt3A8VsYM\" style=\"text-decoration:none;\" target=\"_blank\">www.d1xz.net/wenhua/mi... </a><div class=\"c-tools\" data-tools='{\"title\":\"古代称谓浅谈舞勺之年是什么意思 - 第一星座网\",\"url\":\"http://www.baidu.com/link?url=28t5BVW2wZRa5kxOxqylXLcWpYWAZsXscAyD3Wy5XnMt5SQmqITiaw7CIPNoumx7hP6oVkIgagWLv6HoMkSTLKKPD8J22hDjDJ3eQmBaFtrz6OQdH1JWb2qyt3A8VsYM\"}' id=\"tools_5197115951497580293_3\"><a class=\"c-tip-icon\"><i class=\"c-icon c-icon-triangle-down-g\"></i></a></div><span class=\"c-icons-outer\"><span class=\"c-icons-inner\"></span></span> - <a class=\"m\" data-click=\"{'rsv_snapshot':'1'}\" href=\"http://cache.baiducontent.com/c?m=9f65cb4a8c8507ed4fece763105392230e54f7353f9d98027fa3cf1fd5791e161b3ca4e83a7d4b589b82613441e94a5becf33d74200357e4da8ac25ddccf852f5bce3033045a914666950eaebd4432c1579650eda91ae5baf03097add9d3d45751cf474027c0a6844d7612dd1983033093b1e83f022910adec40728f52605dec3441c65089eb251f009686db4b38b03dd11106e7ae22c13a05c560b36b1d3345d05bc70c465032f74e57e8354913e3eb4a96296e3621a149c3aeb0b0fc398acbeb418f8ccbb85fe577e7b5fd897b550456ed24cebccdb32a154115a9b9c962c225bd8afbca4afe60a4075dca4a002b7cbe618383ff4082654d85e17fff5935572e1da8c0638e76671837bf3f68a669c562c6f9614aacfdeb8a886646b899b4640689bac848a06c7e349d535562cde0570702ef086defa4b968a76b75a5de77b3101aed7d6369ea93bfe9d91ca35d15b977d9&amp;p=896ac64ad4df19eb08e2962758&amp;newp=c03ec64ad4dd0af608e296344753d8254207dc357b96877879c0c513fe200c01063dbee728261706d8c0766300ab485cebf63479340122bc8f8ee50b8af99d7f73de397f29&amp;user=baidu&amp;fm=sc&amp;query=%D4%DA%CE%D2%B9%FA%B9%C5%B4%FA%B3%C6%BA%F4%D6%D0%CF%C2%C1%D0%C4%C4%D2%BB%B8%F6%B3%C6%BA%F4%B4%FA%D6%B8%B5%C4%C4%EA%C1%E4%D7%EE%D0%A1%3F+%28%CE%E8%CF%F3%D6%AE%C4%EA+%7C+%CE%E8%C9%D7%D6%AE%C4%EA+%7C+%C8%F5%B9%DA%29&amp;qid=8cffd0180000c4ff&amp;p1=3\" target=\"_blank\">百度快照</a></div></div>"
      ],
      "text/plain": [
       "<IPython.core.display.HTML object>"
      ]
     },
     "metadata": {},
     "output_type": "display_data"
    },
    {
     "name": "stdout",
     "output_type": "stream",
     "text": [
      "\n",
      "Parsing pic...\n",
      "http://www.baidu.com/s?q1=40摄氏度与100华氏度哪个温度更高?&q2=&q3=40+摄氏度+华氏度+100+样高&q4=&rn=50\n",
      "question: 40摄氏度与100华氏度哪个温度更高?\n",
      "('A', '40摄氏度', 1.990234375)\n",
      "('B', '100华氏度', 1.44921875)\n",
      "('C', '样高', 0.001953125)\n"
     ]
    },
    {
     "data": {
      "text/html": [
       "<div class=\"result-op c-container xpath-log\" data-click=\"{'p1':'1','rsv_bdr':'0','fm':'albk',rsv_stl:''}\" data-op=\"{'y':'5FBFEC5F'}\" id=\"1\" mu=\"https://baike.baidu.com/item/温度/221599\" srcid=\"1547\" tpl=\"bk_polysemy\">\n",
       "<h3 class=\"t c-gap-bottom-small\">\n",
       "<a href=\"http://www.baidu.com/link?url=QUmtPjmSSIEa-phU4ACTDjoDww5vVa2xoqlEETEv5dCkDn-7A8ROZNHreb2Wr0RgywPc0O-RQONQK8bmB0aPJPOxLZLOf5z5wln84XD0HuG\" target=\"_blank\"><em>温度</em>_百度百科</a>\n",
       "</h3>\n",
       "<div class=\"c-row\">\n",
       "<div class=\"c-span6\">\n",
       "<a class=\"op-bk-polysemy-album op-se-listen-recommend\" href=\"http://www.baidu.com/link?url=QUmtPjmSSIEa-phU4ACTDjoDww5vVa2xoqlEETEv5dCkDn-7A8ROZNHreb2Wr0RgywPc0O-RQONQK8bmB0aPJPOxLZLOf5z5wln84XD0HuG\" style=\"_height:121px\" target=\"_blank\">\n",
       "<img class=\"c-img c-img6\" src=\"http://t10.baidu.com/it/u=734334381,3721747817&amp;fm=58&amp;bpow=1024&amp;bpoh=914\"/>\n",
       "</a>\n",
       "</div>\n",
       "<div class=\"c-span18 c-span-last\">\n",
       "<p>\n",
       "                    在星际当中物质分布是不均匀的,有的地方云气体<em>和</em>尘埃比较密集,形成各种各样的云雾天体。这些云雾状的天体就叫星云。环状星云是一颗很有名的行星状星云,它的中心星...   \n",
       "                </p>\n",
       "<p>\n",
       "<a class=\"c-gap-right-small op-se-listen-recommend\" href=\"http://www.baidu.com/link?url=-ICjNZtm5drLk3SDj5a691URIsEGY6Mb1SSYnEegyFpYzUpkhCH_3BsKx-tZv6mrjRE-8Z55v3_Zgn82EzeCOm3DaqhOZ1abxTpt5icxB9O\" target=\"_blank\" title=\"基本含义\">基本含义</a>\n",
       "<a class=\"c-gap-right-small op-se-listen-recommend\" href=\"http://www.baidu.com/link?url=-ICjNZtm5drLk3SDj5a691URIsEGY6Mb1SSYnEegyFpYzUpkhCH_3BsKx-tZv6mrjRE-8Z55v3_Zgn82EzeCOhUT-rWUv-VX7H9E098JTC7\" target=\"_blank\" title=\"引证解释\">引证解释</a>\n",
       "<a class=\"c-gap-right-small op-se-listen-recommend\" href=\"http://www.baidu.com/link?url=-ICjNZtm5drLk3SDj5a691URIsEGY6Mb1SSYnEegyFpYzUpkhCH_3BsKx-tZv6mrjRE-8Z55v3_Zgn82EzeCObkiQ9y26Xl3xAlZAe7bAXW\" target=\"_blank\" title=\"标度等级\">标度等级</a>\n",
       "<a class=\"c-gap-right-small op-se-listen-recommend\" href=\"http://www.baidu.com/link?url=-ICjNZtm5drLk3SDj5a691URIsEGY6Mb1SSYnEegyFpYzUpkhCH_3BsKx-tZv6mrjRE-8Z55v3_Zgn82EzeCOjTFNM0fYvciGabTvAr9cTC\" target=\"_blank\" title=\"温标分类\">温标分类</a>\n",
       "<a class=\"c-gap-right-small op-se-listen-recommend\" href=\"http://www.baidu.com/link?url=-ICjNZtm5drLk3SDj5a691URIsEGY6Mb1SSYnEegyFpYzUpkhCH_3BsKx-tZv6mrjRE-8Z55v3_Zgn82EzeCOk8DNGEjT_xfe0-F_rW2pDK\" target=\"_blank\" title=\"测量\">测量</a>\n",
       "<a class=\"op-se-listen-recommend\" href=\"http://www.baidu.com/link?url=QUmtPjmSSIEa-phU4ACTDjoDww5vVa2xoqlEETEv5dCkDn-7A8ROZNHreb2Wr0RgywPc0O-RQONQK8bmB0aPJPOxLZLOf5z5wln84XD0HuG\" target=\"_blank\">更多&gt;&gt;</a>\n",
       "</p>\n",
       "<p class=\" op-bk-polysemy-move\"><span class=\"c-showurl\">baike.baidu.com/ </span><span class=\"c-tools\" data-tools=\"{title:'温度_百度百科',url:'http://baike.baidu.com/item/%E6%B8%A9%E5%BA%A6/221599?fr=aladdin'}\" id=\"tools_9830341859142718705_1\"><a class=\"c-tip-icon\"><i class=\"c-icon c-icon-triangle-down-g\"></i></a></span></p>\n",
       "</div>\n",
       "</div>\n",
       "</div>"
      ],
      "text/plain": [
       "<IPython.core.display.HTML object>"
      ]
     },
     "metadata": {},
     "output_type": "display_data"
    },
    {
     "data": {
      "text/html": [
       "<div class=\"result c-container \" data-click=\"{'rsv_bdr':'0' }\" id=\"2\" srcid=\"1528\" tpl=\"se_com_default\"><h3 class=\"t\"><a data-click=\"{\n",
       "\t\t\t'F':'778717EA',\n",
       "\t\t\t'F1':'9D73B1E4',\n",
       "\t\t\t'F2':'4CA6DE6B',\n",
       "\t\t\t'F3':'54E5243F',\n",
       "\t\t\t'T':'1516025412',\n",
       "\t\t\t\t\t\t'y':'BFFFFDBF'\n",
       "\t\t\t \n",
       "\t\t\t\t\t\t\t\t\t}\" href=\"http://www.baidu.com/link?url=80PzXataE_4GAE2uJgb7Ke7V7dr-7T3kS9K_jXMqbOAr8Uq2L7DLZe2ncEqs8yrlvZN7qSvTePDhhsAX_7V2M5E14ChK78k0C9O_qcg3c0_\" target=\"_blank\"><em>华氏</em>零下<em>40度和摄氏</em>零下<em>40度</em>的<em>温度</em>相同吗?_百度知道</a></h3><p class=\"f13 m\">4个回答 - 提问时间: 2016年04月13日</p><div class=\"c-abstract\">这两种温标的区别在于单位长度的<em>温度</em>变化不一样,且对同一事物的初始<em>温度</em>的定义不同摄氏度=(<em>华氏度</em>-32)÷1.8=(-<em>40</em>-32)/1.8=-<em>40 摄氏度</em> ,所以是相同的,这个...</div><div class=\"f13\"><a class=\"c-showurl\" href=\"http://www.baidu.com/link?url=80PzXataE_4GAE2uJgb7Ke7V7dr-7T3kS9K_jXMqbOAr8Uq2L7DLZe2ncEqs8yrlvZN7qSvTePDhhsAX_7V2M5E14ChK78k0C9O_qcg3c0_\" style=\"text-decoration:none;\" target=\"_blank\">https://zhidao.baidu.com/quest... </a><div class=\"c-tools\" data-tools='{\"title\":\"华氏零下40度和摄氏零下40度的温度相同吗?_百度知道\",\"url\":\"http://www.baidu.com/link?url=80PzXataE_4GAE2uJgb7Ke7V7dr-7T3kS9K_jXMqbOAr8Uq2L7DLZe2ncEqs8yrlvZN7qSvTePDhhsAX_7V2M5E14ChK78k0C9O_qcg3c0_\"}' id=\"tools_8330327211288615793_2\"><a class=\"c-tip-icon\"><i class=\"c-icon c-icon-triangle-down-g\"></i></a></div><span class=\"c-icons-outer\"><span class=\"c-icons-inner\"></span></span></div><div class=\"c-offset\"><table class=\"subLink_factory subLink_factory_right\"><tr><td class=\"first c-default \"><a href=\"http://www.baidu.com/link?url=7UfKwFD728ebBUBnuCXEh6t_d_FCX1l_666cpijbiVnhRQtrrLPLREBEgKM9ig1BT8TNVXfEZOVzDdTGRabYfuzq-J8n1zV1gxR8AIM-l7m\" target=\"_blank\"><em>摄氏度和华氏度什么</em>意思?</a></td><td class=\"middle c-default \">2个回答</td><td class=\"last c-default rightTd\">2015-03-22</td></tr><tr><td class=\"first c-default \"><a href=\"http://www.baidu.com/link?url=xZtBojXlnPnP8PPMAoUWzBHUT1ZD1ErIxcLzIWdUUGJTX1knHSyA3lDGfcdGByrAH_fook2gaST4eTJto4Lqh_\" target=\"_blank\"><em>摄氏度和华氏度哪个更</em>精确</a></td><td class=\"middle c-default \">2个回答</td><td class=\"last c-default rightTd\">2009-10-11</td></tr><tr><td class=\"first c-default \"><a href=\"http://www.baidu.com/link?url=7UfKwFD728ebBUBnuCXEh6t_d_FCX1l_666cpijbiVnhRQtrrLPLREBEgKM9ig1BW654Y5bRCUz7_xEVoBzVk8DVMQpWbnHwEcAWg0Qqko_\" target=\"_blank\">102.8<em>华氏度</em>等于多少<em>摄氏度</em></a></td><td class=\"middle c-default \">2个回答</td><td class=\"last c-default rightTd\">2016-02-16</td></tr></table><a class=\"c\" href=\"http://www.baidu.com/link?url=KTlMvby_RzufB86HqtJX7XVvZGXIeCvrxQtrmidVawY-qlPdfVNKAooAHV7ZbqOZ0t_LZ91C7TtfuzjXrnXgVqkDWnnWkd21othiM47o9xLssTjEXw9LZZRqYiYe_1OzVldqVWFi49Y04PG_gmfLZ_qoULHKzaL2dIOSz_yBhhDckrOghq5eA2zrifpxKg_qnqF0OCum8CNXUzEGAEyHCcvF3ko11coQbL_U9NNb0FPo8yCVx8Xfe0GplkFeqwpqNmxntdwlrxiCDt9iflM6vzLBI2fqjCyBSqkiLlslFO4bU4C7uR0plviOrePoPhkFTVG36QvzurCgnqe1RAEkBi8yx3eYDMFs1WJ89uo4g3hZbd1G4FP43OnImpdpttE_dvd54zEXZ22OV2Lag38q796gjLacAMbbRq1OwV_WApi\" target=\"_blank\">更多知道相关问题&gt;&gt;</a></div></div>"
      ],
      "text/plain": [
       "<IPython.core.display.HTML object>"
      ]
     },
     "metadata": {},
     "output_type": "display_data"
    },
    {
     "data": {
      "text/html": [
       "<div class=\"result c-container \" data-click=\"{'rsv_bdr':'0' ,'rsv_cd':'vLevel:1'}\" id=\"3\" srcid=\"1599\" tpl=\"se_com_default\"><h3 class=\"t\"><a data-click=\"{\n",
       "\t\t\t'F':'77A717EA',\n",
       "\t\t\t'F1':'9D73F1E4',\n",
       "\t\t\t'F2':'4CA6DE6B',\n",
       "\t\t\t'F3':'54E5243F',\n",
       "\t\t\t'T':'1516025412',\n",
       "\t\t\t\t\t\t'y':'FFBFFC2B'\n",
       "\t\t\t \n",
       "\t\t\t\t\t\t\t\t\t}\" href=\"http://www.baidu.com/link?url=cDhBfDAf654-Uib7zgUQjK2fgJHkPuzgqu821ghs-eJwXkX3U6DlBu3Ydwd50WHk\" target=\"_blank\"><em>摄氏度</em>_列表网问答</a></h3><div class=\"c-abstract\">u品木门怎么样 u型玻璃 u型玻璃厂家 u型玻璃管 u型玻璃规格 u型玻璃尺寸 u型玻璃压条 u型玻璃价格 ups电源牌子 ups电源有哪些牌子 ups电源<em>哪个</em>好 ups电源套<em>哪个</em>...</div><div class=\"f13\"><a class=\"c-showurl\" href=\"http://www.baidu.com/link?url=cDhBfDAf654-Uib7zgUQjK2fgJHkPuzgqu821ghs-eJwXkX3U6DlBu3Ydwd50WHk\" style=\"text-decoration:none;\" target=\"_blank\">www.liebiao.com/wenda/... </a><div class=\"c-tools\" data-tools='{\"title\":\"摄氏度_列表网问答\",\"url\":\"http://www.baidu.com/link?url=cDhBfDAf654-Uib7zgUQjK2fgJHkPuzgqu821ghs-eJwXkX3U6DlBu3Ydwd50WHk\"}' id=\"tools_7659878577109482954_3\"><a class=\"c-tip-icon\"><i class=\"c-icon c-icon-triangle-down-g\"></i></a></div><span class=\"c-icons-outer\"><span class=\"c-icons-inner\"><span class=\"c-vline\"></span><span class=\"c-trust-as vstar \" data_key=\"532897858129968425\" hint-data='{\"label\":\"海口禹讯信息技术有限公司\",\"url\":\"https://www.baidu.com/s?wd=%E6%B5%B7%E5%8F%A3%E7%A6%B9%E8%AE%AF%E4%BF%A1%E6%81%AF%E6%8A%80%E6%9C%AF%E6%9C%89%E9%99%90%E5%85%AC%E5%8F%B8@v&amp;vmp_ec=fe5217588b668cf014b26f5cff435fFvyWQb7m0V8X0df0b=9=5ivaNbcLW38Xcs4s5ad7ed33J58055a0445b3e&amp;vmp_ectm=1515817648&amp;from=vs\",\"hint\":[{\"txt\":\"[ecard 68]\",\"vlevel\":\"1\",\"unfixedInfo\":{\"rzItems\":[\"\\u8d44\\u4fe1\\u8ba4\\u8bc1\"]}}]}' hint-type=\"vstar\"><a class=\"c-icon c-icon-v c-icon-v1\" data-click=\"{'title':'vstar','rsv_vlevel':'1'}\" href=\"https://www.baidu.com/s?wd=%E6%B5%B7%E5%8F%A3%E7%A6%B9%E8%AE%AF%E4%BF%A1%E6%81%AF%E6%8A%80%E6%9C%AF%E6%9C%89%E9%99%90%E5%85%AC%E5%8F%B8@v&amp;vmp_ec=fe5217588b668cf014b26f5cff435fFvyWQb7m0V8X0df0b=9=5ivaNbcLW38Xcs4s5ad7ed33J58055a0445b3e&amp;vmp_ectm=1515817648&amp;from=vs&amp;product=v&amp;rsv_dl=0_left_v_1\" target=\"_blank\"></a></span></span></span> - <a class=\"m\" data-click=\"{'rsv_snapshot':'1'}\" href=\"http://cache.baiducontent.com/c?m=9d78d513d9c543b8599d830f0601a0670e25f3744da3c7140fc3e34c841551564616f4cd26356774c4c40c6403ad5e5d9ae74602207053a0eabb9f3ba9ac935838f823230116914062c468a9dc3723d6509a4d9dab0ee6cae743e4b9a3d3c82457dd220f6d81809c2a0a03be1ee71541f4d6935f632b07ba9c3667e859063eee2857c146ee91417976f5e1dc2c5bb32ec7101b80af44a74e62a260d7086a5753d138a609213140e45856f5533d7591e95ff02a085755b55fc7b2d6b79b5ffcd6fd47ecee8cef719a3aa083a8ee70316d4fbf60fbbcbdc5633f125282998301c445eda7b3a709be48814341fb07216e31953dd39f&amp;p=8360c316d9c111a058ee93121b409d&amp;newp=8f759a45d5c452e617b2c7710f0e96231610db2151d7d31f6b82c825d7331b001c3bbfb42325120fd6c0796400ae485bebf7327637012ba3dda5c91d9fb4c574799b6e7b2f&amp;user=baidu&amp;fm=sc&amp;query=40%C9%E3%CA%CF%B6%C8%D3%EB100%BB%AA%CA%CF%B6%C8%C4%C4%B8%F6%CE%C2%B6%C8%B8%FC%B8%DF%3F+%2840+%7C+%C9%E3%CA%CF%B6%C8+%7C+%BB%AA%CA%CF%B6%C8+%7C+100+%7C+%D1%F9%B8%DF%29&amp;qid=eb1ec4160000b3c3&amp;p1=3\" target=\"_blank\">百度快照</a></div></div>"
      ],
      "text/plain": [
       "<IPython.core.display.HTML object>"
      ]
     },
     "metadata": {},
     "output_type": "display_data"
    },
    {
     "name": "stdout",
     "output_type": "stream",
     "text": [
      "\n",
      "Parsing pic...\n",
      "http://www.baidu.com/s?q1=周长相等的等边三角形、正方形和圆形哪一个面积最小?&q2=&q3=三角形+正方形+圆形&q4=&rn=50\n",
      "question: 周长相等的等边三角形、正方形和圆形哪一个面积最小?\n",
      "('B', '正方形', 1.9987789148982529)\n",
      "('A', '等边三角形', 1.9960593533726119)\n",
      "('C', '圆形', 1.9816372777095665)\n"
     ]
    },
    {
     "data": {
      "text/html": [
       "<div class=\"result c-container \" data-click=\"{'rsv_bdr':'0' ,'rsv_cd':'vLevel:2'}\" id=\"1\" srcid=\"1529\" tpl=\"se_com_default\"><h3 class=\"t\"><a data-click=\"{\n",
       "\t\t\t'F':'778717EA',\n",
       "\t\t\t'F1':'9D73F1E4',\n",
       "\t\t\t'F2':'4CA6DE6B',\n",
       "\t\t\t'F3':'54E5243F',\n",
       "\t\t\t'T':'1516025497',\n",
       "\t\t\t\t\t\t'y':'7E7BD7DC'\n",
       "\t\t\t \n",
       "\t\t\t\t\t\t\t\t\t}\" href=\"http://www.baidu.com/link?url=oedkVdlE_-_pKQwi_Y_SP1qvfyNKgfKO2S2YQ76-ndBumtsDdGnwfcnb5WJUO9gCicUlPWomVWJXJI1_grjwDvXiHaA_gNIZnQCjtpN5zpy\" target=\"_blank\"><em>周长相等的等边三角形</em>、<em>圆形</em>、<em>正方形</em>、<em>那一个面积最</em>大?_百度作业帮</a></h3><p class=\"f13 m\">1个回答 - 提问时间: 2014年10月17日</p><div class=\"c-abstract\"><span class=\"m\">最佳答案: </span><em>圆的面积 最</em>大.你可以设<em>周长</em>为12π,于是<em>等边三角形</em>边长为4π,面积S1=√3π^2;<em>圆</em>的半径为6,面积S2=36π<em>,正方形</em>边长为3π,面积为9π^2.于是可得...</div><div class=\"f13\"><a class=\"c-showurl\" href=\"http://www.baidu.com/link?url=oedkVdlE_-_pKQwi_Y_SP1qvfyNKgfKO2S2YQ76-ndBumtsDdGnwfcnb5WJUO9gCicUlPWomVWJXJI1_grjwDvXiHaA_gNIZnQCjtpN5zpy\" style=\"text-decoration:none;\" target=\"_blank\">https://www.zybang.com/questio... </a><div class=\"c-tools\" data-tools='{\"title\":\"周长相等的等边三角形、圆形、正方形、那一个面积最大?_百度作业帮\",\"url\":\"http://www.baidu.com/link?url=oedkVdlE_-_pKQwi_Y_SP1qvfyNKgfKO2S2YQ76-ndBumtsDdGnwfcnb5WJUO9gCicUlPWomVWJXJI1_grjwDvXiHaA_gNIZnQCjtpN5zpy\"}' id=\"tools_11106776252553380473_1\"><a class=\"c-tip-icon\"><i class=\"c-icon c-icon-triangle-down-g\"></i></a></div><span class=\"c-icons-outer\"><span class=\"c-icons-inner\"><span class=\"c-vline\"></span><span class=\"c-trust-as vstar \" data_key=\"5854561520976348714\" hint-data='{\"label\":\"小船出海教育科技(北京)有限公司\",\"url\":\"https://www.baidu.com/s?wd=%E5%B0%8F%E8%88%B9%E5%87%BA%E6%B5%B7%E6%95%99%E8%82%B2%E7%A7%91%E6%8A%80%E5%8C%97%E4%BA%AC%E6%9C%89%E9%99%90%E5%85%AC%E5%8F%B8@v&amp;vmp_ec=258f14f770840053144fc36948dY831uds730aa562W2be9yctmh20JX6553d5d3d6X3bJ7f6d681a18&amp;vmp_ectm=1515999785&amp;from=vs\",\"hint\":[{\"txt\":\"[ecard 96]\",\"vlevel\":\"2\"}]}' hint-type=\"vstar\"><a class=\"c-icon c-icon-v c-icon-v2\" data-click=\"{'title':'vstar','rsv_vlevel':'2'}\" href=\"https://www.baidu.com/s?wd=%E5%B0%8F%E8%88%B9%E5%87%BA%E6%B5%B7%E6%95%99%E8%82%B2%E7%A7%91%E6%8A%80%E5%8C%97%E4%BA%AC%E6%9C%89%E9%99%90%E5%85%AC%E5%8F%B8@v&amp;vmp_ec=258f14f770840053144fc36948dY831uds730aa562W2be9yctmh20JX6553d5d3d6X3bJ7f6d681a18&amp;vmp_ectm=1515999785&amp;from=vs&amp;product=v&amp;rsv_dl=0_left_v_2\" target=\"_blank\"></a></span></span></span> - <a class=\"m\" data-click=\"{'rsv_snapshot':'1'}\" href=\"http://cache.baiducontent.com/c?m=9f65cb4a8c8507ed19fa950d100b92235c438014749c804623818448e435061e5a25a4ec66644b598fd82c3451ad4c5abaa63576365277bdcacbd948dcef902e78dc27647b4ad54713d50eafbc1c639e7e841fb4ef4fe8ad863684d8a3c4af5544b955127bf0e7fa2e1763c87880132692ac8e49654860bdfa4163e858073eef2457c74dee90317971f5e1dc2c5bb220c7156780df43a74f17a212d4086d2653d13ba608203146e7585389533c74859b58f05a0f5755b45fc2ced6b79b5ffcaffd40eeedcadf38e366f1b5eaee074067238d32bfdbaac33b733404cecbae01b232ab8a9cad4d9903a71a4bce59612e1bd91a9595f853e5122ae3931ee92852315e0fc8c403e874007847aa296bb208c004a6ff7c5ca89c8af8e90234aa8ec4036088afa833c07a0e52fb514501b8814176658e7c7f8ba3d87ea17e13d2be17c0760dea6c056efdf3c3fccf1dc3&amp;p=c649c64ad4af0ee040bd9b79084d&amp;newp=8973d716d9c108ff57ea911251439269510edb356f8acf512496fe4393700d1a2a22b4fb66794d58dcc17b650aa9435debf733753c092bb591ce8b4fc9fdff6978ca28632c4acf&amp;user=baidu&amp;fm=sc&amp;query=%D6%DC%B3%A4%CF%E0%B5%C8%B5%C4%B5%C8%B1%DF%C8%FD%BD%C7%D0%CE%A1%A2%D5%FD%B7%BD%D0%CE%BA%CD%D4%B2%D0%CE%C4%C4%D2%BB%B8%F6%C3%E6%BB%FD%D7%EE%D0%A1%3F+%28%C8%FD%BD%C7%D0%CE+%7C+%D5%FD%B7%BD%D0%CE+%7C+%D4%B2%D0%CE%29&amp;qid=8383a4210000fbf7&amp;p1=1\" target=\"_blank\">百度快照</a></div></div>"
      ],
      "text/plain": [
       "<IPython.core.display.HTML object>"
      ]
     },
     "metadata": {},
     "output_type": "display_data"
    },
    {
     "data": {
      "text/html": [
       "<div class=\"result c-container \" data-click=\"{'rsv_bdr':'0' ,'rsv_cd':'pt:40520'}\" id=\"2\" srcid=\"1599\" tpl=\"se_com_default\"><h3 class=\"t\"><a data-click=\"{\n",
       "\t\t\t'F':'778717EA',\n",
       "\t\t\t'F1':'9D73F1E4',\n",
       "\t\t\t'F2':'4CA6DE6B',\n",
       "\t\t\t'F3':'54E5243F',\n",
       "\t\t\t'T':'1516025497',\n",
       "\t\t\t\t\t\t'y':'EFFFDACE'\n",
       "\t\t\t \n",
       "\t\t\t\t\t\t\t\t\t}\" href=\"http://www.baidu.com/link?url=mDS0bbuI8irlXfjVPhO3_UuSfNTa3EHP8MgW6VSOJDH5Fdo8rdjm4cu_WK08qy7u1th8D-OD2NlciqYEzYG5f_\" target=\"_blank\"><em>周长相等的等边三角形</em>、<em>正方形</em>、<em>圆形,哪一个</em>的<em>面积最</em>..._爱问知识人</a></h3><div class=\"c-abstract\"><span class=\" newTimeFactor_before_abs m\">2017年11月22日 - </span>很明显是<em>圆最</em>大!若<em>周长</em>都为L,则:S(<em>圆</em>)=兀(L/2丌)^2=0.08L^2, S(<em>正三角形</em>)=<em>1</em>/4*根3*(L/3)^2=0.048L^2, S(<em>正方形</em>)=(L/4)^2=0.063L...</div><div class=\"f13\"><a class=\"c-showurl\" href=\"http://www.baidu.com/link?url=mDS0bbuI8irlXfjVPhO3_UuSfNTa3EHP8MgW6VSOJDH5Fdo8rdjm4cu_WK08qy7u1th8D-OD2NlciqYEzYG5f_\" style=\"text-decoration:none;\" target=\"_blank\">https://iask.sina.com.cn/b/151... </a><div class=\"c-tools\" data-tools='{\"title\":\"周长相等的等边三角形、正方形、圆形,哪一个的面积最..._爱问知识人\",\"url\":\"http://www.baidu.com/link?url=mDS0bbuI8irlXfjVPhO3_UuSfNTa3EHP8MgW6VSOJDH5Fdo8rdjm4cu_WK08qy7u1th8D-OD2NlciqYEzYG5f_\"}' id=\"tools_16439752347701574805_2\"><a class=\"c-tip-icon\"><i class=\"c-icon c-icon-triangle-down-g\"></i></a></div><span class=\"c-icons-outer\"><span class=\"c-icons-inner\"></span></span> - <a class=\"m\" data-click=\"{'rsv_snapshot':'1'}\" href=\"http://cache.baiducontent.com/c?m=9f65cb4a8c8507ed19fa950d100b8c35580d97634b968b492cc3933fc23904564711b2e73a720d07d4c67d6701ae4f4bea876c34685d34f2c688de45cacd963f59f93044710bf54705d269b8ba3232b622872aeeb868edadf14284ded5c4ae5244cb23120a87e7fa501764c978866026e2d68e391f4864ccfa4013e828723e9e5357c045ee91457907f0e1ab5b5bb75cc7606180df30a74e64a265a6086a5353a13ca6782231419658268f534b02859b5df05c7b5752c15fb2c9d6c7ed5ffddafd30e8edbdaf38e510f1c49aee01486726fe32bfdbaac33c733206cebaae01b044abfb9cad3aec03a0674bbb2d615969d91897958f26e51350e3931ee9595431590fc8b204e803727840df2918c008b672a6fa005cdd9a8af89a0235d98eb371608fdaa842c67a7825fb574201baf5410662&amp;p=9a36c64ad4d511a058ed97365b0d8d&amp;newp=923b865f86cc41af5bbfc7710f5e8e231610db2151d7d4176b82c825d7331b001c3bbfb42325120fd6c0796400ae485bebf7327637012ba3dda5c91d9fb4c57479da&amp;user=baidu&amp;fm=sc&amp;query=%D6%DC%B3%A4%CF%E0%B5%C8%B5%C4%B5%C8%B1%DF%C8%FD%BD%C7%D0%CE%A1%A2%D5%FD%B7%BD%D0%CE%BA%CD%D4%B2%D0%CE%C4%C4%D2%BB%B8%F6%C3%E6%BB%FD%D7%EE%D0%A1%3F+%28%C8%FD%BD%C7%D0%CE+%7C+%D5%FD%B7%BD%D0%CE+%7C+%D4%B2%D0%CE%29&amp;qid=8383a4210000fbf7&amp;p1=2\" target=\"_blank\">百度快照</a></div></div>"
      ],
      "text/plain": [
       "<IPython.core.display.HTML object>"
      ]
     },
     "metadata": {},
     "output_type": "display_data"
    },
    {
     "data": {
      "text/html": [
       "<div class=\"result c-container \" data-click=\"{'rsv_bdr':'0' }\" id=\"3\" srcid=\"1528\" tpl=\"se_com_default\"><h3 class=\"t\"><a data-click=\"{\n",
       "\t\t\t'F':'778717E8',\n",
       "\t\t\t'F1':'9D73B1E4',\n",
       "\t\t\t'F2':'4CA6DE6B',\n",
       "\t\t\t'F3':'54E5243D',\n",
       "\t\t\t'T':'1516025497',\n",
       "\t\t\t\t\t\t'y':'FFEFCFFC'\n",
       "\t\t\t \n",
       "\t\t\t\t\t\t\t\t\t}\" href=\"http://www.baidu.com/link?url=rHRCdlAcBdGGbIsz0_CgjcvsuU2KrmfT3wrcueRuwLVmC2XaikWzjkSL-erYhGtvP-Zzd-hKQFSuOwLENGT57kTTMdtaSsq0sYlbeD4bRj3\" target=\"_blank\"><em>周长相等的等边三角形,正方形</em>,<em>圆形</em>,<em>哪一个</em>的<em>面积最</em>大_百度知道</a></h3><p class=\"f13 m\">1个回答 - 提问时间: 2016年09月17日</p><div class=\"c-abstract\"><em>圆形</em>最大,其次是<em>正方形,三角形最小</em></div><div class=\"f13\"><a class=\"c-showurl\" href=\"http://www.baidu.com/link?url=rHRCdlAcBdGGbIsz0_CgjcvsuU2KrmfT3wrcueRuwLVmC2XaikWzjkSL-erYhGtvP-Zzd-hKQFSuOwLENGT57kTTMdtaSsq0sYlbeD4bRj3\" style=\"text-decoration:none;\" target=\"_blank\">https://zhidao.baidu.com/quest... </a><div class=\"c-tools\" data-tools='{\"title\":\"周长相等的等边三角形,正方形,圆形,哪一个的面积最大_百度知道\",\"url\":\"http://www.baidu.com/link?url=rHRCdlAcBdGGbIsz0_CgjcvsuU2KrmfT3wrcueRuwLVmC2XaikWzjkSL-erYhGtvP-Zzd-hKQFSuOwLENGT57kTTMdtaSsq0sYlbeD4bRj3\"}' id=\"tools_385247449649014775_3\"><a class=\"c-tip-icon\"><i class=\"c-icon c-icon-triangle-down-g\"></i></a></div><span class=\"c-icons-outer\"><span class=\"c-icons-inner\"></span></span></div><div class=\"c-offset\"><table class=\"subLink_factory subLink_factory_right\"><tr><td class=\"first c-default \"><a href=\"http://www.baidu.com/link?url=DmNvfWoI82gATBpPE_-BBXFXXSXqHotzocggKxWymlHfhgg_dPmhqgVFYsVh0VcB3kT4ySG-W6jBDVBzN7cvV4REAIsQhHjGkOoeApVOL43\" target=\"_blank\"><em>周长相等的三角形,正方形</em>,<em>圆形</em>,<em>哪一个面积最</em>大</a></td><td class=\"middle c-default \">3个回答</td><td class=\"last c-default rightTd\">2015-04-27</td></tr><tr><td class=\"first c-default \"><a href=\"http://www.baidu.com/link?url=DmNvfWoI82gATBpPE_-BBRXLCNRmkMt07AaKURrPfz8OcnBhiPbyd0yBOIAY3Iu4bEFvkotaOx-O2vqK1Sbo1EvCPYSnnYS-ed9F2poid-S\" target=\"_blank\"><em>周长相等的圆</em> <em>正方形和等边三角形</em>哪个<em>面积</em>大</a></td><td class=\"middle c-default \">5个回答</td><td class=\"last c-default rightTd\">2017-07-15</td></tr><tr><td class=\"first c-default \"><a href=\"http://www.baidu.com/link?url=DmNvfWoI82gATBpPE_-BBXFXXSXqHotzocggKxWymlHfhgg_dPmhqgVFYsVh0VcBSW6Pm0fPgb1FkmSO02_lM1WuRFuhvQqSxdy4J__1U0O\" target=\"_blank\"><em>周长相等的等边三角形,正方形</em>,<em>圆形</em>,<em>哪一个</em>的<em>...</em></a></td><td class=\"middle c-default \">2个回答</td><td class=\"last c-default rightTd\">2015-04-17</td></tr></table><a class=\"c\" href=\"http://www.baidu.com/link?url=2kqCs_4kvhXL7tI0lDtiDiyiK5eEVoHimMo_zscjdFu2RAxDlMaaYq3huVOn8xLYxq9e2ATys4CyUMnE295xi6axWQB3EN2Sb2m2BBpvt59e9oZ8Vti4FB88aCDkq4Dk7kIsdTY6hK_mAKoyJSuWKudf9r4z24N_fP8q45CNK9I9Wx2N0pppRCEaIQ5Lvi6w_h_GKs7RCR8mNoYiCB26Sob6GGU3Y7oMbQ7hjWEOO0HJ54M5drBOAKAFc2m2NVbDnNTdWXyjznPN_rAnmzYMk_C8pMWqz_xadZkQ9BYBM5PMqRsotWbSq6JiUqoNGk6W70CDn1_KdfZ4X6dMDJe2DfTzmnZ76ZpGjyS6oOvfrw7rzY8CyY2Msi-hwKpeY1BUhE3NieCEzZFRUhPeSmeA8vJGhfLDMxpMBAaiHJ2Xhry_pyFodwSuVTN-UgzfCC3BhNM436962Be5QZEvi1iBWwM-CVARV7aw4zZkYUfT4-YDw-ZmOCrQWaAax1mJLx9eiz4HdvgwB2cByymNnO4h0_\" target=\"_blank\">更多知道相关问题&gt;&gt;</a></div></div>"
      ],
      "text/plain": [
       "<IPython.core.display.HTML object>"
      ]
     },
     "metadata": {},
     "output_type": "display_data"
    },
    {
     "name": "stdout",
     "output_type": "stream",
     "text": [
      "\n",
      "Parsing pic...\n",
      "http://www.baidu.com/s?q1=以下+作者+人生+自是&q2=&q3=声声慢+寻寻觅觅+生查子+元夕+纤云弄巧+鹊桥&q4=&rn=50\n"
     ]
    },
    {
     "data": {
      "text/html": [
       "<h2>疑似反向问题!!</h2>"
      ],
      "text/plain": [
       "<IPython.core.display.HTML object>"
      ]
     },
     "metadata": {},
     "output_type": "display_data"
    },
    {
     "name": "stdout",
     "output_type": "stream",
     "text": [
      "question: “人生自是有情痴此恨不关风与月”的作者还写过以下哪部词作?\n",
      "('B', '《生查子元夕》', 1.0332040935754776)\n",
      "('C', '《鹊桥仙·纤云弄巧》', 0.8720669597387314)\n",
      "('A', '《声声慢·寻寻觅觅》', 0.8225145488977432)\n"
     ]
    },
    {
     "data": {
      "text/html": [
       "<div class=\"result c-container \" data-click=\"{'rsv_bdr':'0' }\" id=\"1\" srcid=\"1528\" tpl=\"se_com_default\"><h3 class=\"t\"><a data-click=\"{\n",
       "\t\t\t'F':'778717EA',\n",
       "\t\t\t'F1':'9D73B1E4',\n",
       "\t\t\t'F2':'4CA6DE6B',\n",
       "\t\t\t'F3':'54E5243F',\n",
       "\t\t\t'T':'1516025553',\n",
       "\t\t\t\t\t\t'y':'FA9FF9EF'\n",
       "\t\t\t \n",
       "\t\t\t\t\t\t\t\t\t}\" href=\"http://www.baidu.com/link?url=5Tt3hio2h_rlDLS2vJJCuRSM30IL1QS4W-ecX5hJG_LyyqLQhYE5jl6QZnFWvXf41g3oEsrk7K3f3NEt2e9Yz_Wy9Ehs4gXyEaTyoxllYCq\" target=\"_blank\">《青玉案•<em>元夕</em>》辛弃疾_百度知道</a></h3><p class=\"f13 m\">3个回答 - 提问时间: 2013年10月24日</p><div class=\"c-abstract\"><i class=\"c-text c-text-info c-gap-icon-right-small\"><b>[</b><span>专业</span><b>]</b></i><span class=\"m\">答案:</span>青玉案·<em>元夕</em> 朝代:宋代 <em>作者</em>:辛弃疾 原文: 东风夜放花千树。更吹落、星如雨。宝马雕车香满路。凤箫声动,玉壶光转,一夜鱼龙舞。 蛾儿雪柳黄金缕。笑...</div><div class=\"f13\"><a class=\"c-showurl\" href=\"http://www.baidu.com/link?url=5Tt3hio2h_rlDLS2vJJCuRSM30IL1QS4W-ecX5hJG_LyyqLQhYE5jl6QZnFWvXf41g3oEsrk7K3f3NEt2e9Yz_Wy9Ehs4gXyEaTyoxllYCq\" style=\"text-decoration:none;\" target=\"_blank\">https://zhidao.baidu.com/quest... </a><div class=\"c-tools\" data-tools='{\"title\":\"《青玉案•元夕》辛弃疾_百度知道\",\"url\":\"http://www.baidu.com/link?url=5Tt3hio2h_rlDLS2vJJCuRSM30IL1QS4W-ecX5hJG_LyyqLQhYE5jl6QZnFWvXf41g3oEsrk7K3f3NEt2e9Yz_Wy9Ehs4gXyEaTyoxllYCq\"}' id=\"tools_6507424695300251702_1\"><a class=\"c-tip-icon\"><i class=\"c-icon c-icon-triangle-down-g\"></i></a></div><span class=\"c-icons-outer\"><span class=\"c-icons-inner\"></span></span></div><div class=\"c-offset\"><table class=\"subLink_factory subLink_factory_right\"><tr><td class=\"first c-default \"><a href=\"http://www.baidu.com/link?url=oPv46rt6Rlnos-8G4RIMANtdqG-tJi6yp40q5qIgMWQ1VGgsmU0n3qyF51YpEIHwFGI7BwBEe13CNnqqw01fJ_\" target=\"_blank\">李清照《<em>声声慢</em>》</a></td><td class=\"middle c-default \">7个回答</td><td class=\"last c-default rightTd\">2009-08-30</td></tr><tr><td class=\"first c-default \"><a href=\"http://www.baidu.com/link?url=luVwpMHO_5ClI2xxW6pbMvjf8KyRLnQRPHXWAs7bL6uNOoTs9Ujv8WR4jmRzjvvtS6gML4cbx0Bz7iwaYC1dHM9vJtf_yefDsk_qQLBKXfK\" target=\"_blank\"><em>声声慢</em> 李清照</a></td><td class=\"middle c-default \">2个回答</td><td class=\"last c-default rightTd\">2015-07-27</td></tr></table><a class=\"c\" href=\"http://www.baidu.com/link?url=BAAQd-5pTmT3zPtQo8at_MxbMoNB4lHEFCQjUF6tfy76xCjOdrgg3ZvWW91OWwUoUihlT45f0QmjImZCdUhy4slEB4lJTsB1b6zbGSpslk-_dvS--xnN_ByyawIhER0WisSJhh2aNzOpuC2Hh8gIqwG3SsNnq-NJr73nzgk3pJaqy5MmWZxA1nW9xr5zZP-tLnJLQ_oDrlmuchMY16nxO-qsqTmOInTex7uGvD4rqIRaZL9xs8ZfwD1X-iYuGCoIEUPGCy5uKLXJ2E5MmOSRMsPr9OtGa8CdmPFYK7SwXyvanzfdB0xJQ9BN1F_MNa9fzXStXWHmNV2VZ9I62iEGCAPFQv5JkQS3Le8Bxra_GmxTgHwfBYqRiNj0gvz1GJBQhKVl_AfWZZ82uRP36pG93oeQYMXgDzuoVhjHh3H_ImMNHCd0tWII2VjOwi0OMuA6IK8eRDd24DceCjGLiKUlRSSdw47GukTEODh5bbkX09W\" target=\"_blank\">更多知道相关问题&gt;&gt;</a></div></div>"
      ],
      "text/plain": [
       "<IPython.core.display.HTML object>"
      ]
     },
     "metadata": {},
     "output_type": "display_data"
    },
    {
     "data": {
      "text/html": [
       "<div class=\"result c-container \" data-click=\"{'rsv_bdr':'0' ,'rsv_cd':'pt:40520|vLevel:3'}\" id=\"2\" srcid=\"1526\" tpl=\"se_com_default\"><h3 class=\"t\"><span class=\"c-icon c-icon-doc c-gap-icon-right-small\"></span><a data-click=\"{\n",
       "\t\t\t'F':'778717EA',\n",
       "\t\t\t'F1':'BD73F1E4',\n",
       "\t\t\t'F2':'4CA6DE6B',\n",
       "\t\t\t'F3':'54E5243F',\n",
       "\t\t\t'T':'1516025553',\n",
       "\t\t\t\t\t\t'y':'B76565E3'\n",
       "\t\t\t \n",
       "\t\t\t\t\t\t\t\t\t}\" href=\"http://www.baidu.com/link?url=FXHM5dyOf71Zj64mgsB0fklWMCJvykF0SIZZJgaNd3DW2rsDpN1PoG6OpQW85JjRqlnUaMsYB7mu-OKNNd31q4pWn1-WTFEbZsWKJLRhAJW\" target=\"_blank\">厦门大学远程教育在线测试参考答案-大学语文_百度文库</a></h3><div class=\"c-abstract\"><span class=\" newTimeFactor_before_abs m\">2015年6月10日 - </span>(正确的答案:D 的答案:D 判题:√ 得分:1.0) A、化蝶双飞 × 得分:0) B、化为连理枝 C、<em>鹊桥</em>相会 D、白娘子被镇压在塔下 提交的答案:B 判题: 3、...</div><div class=\"f13\"><a class=\"c-showurl\" href=\"http://www.baidu.com/link?url=FXHM5dyOf71Zj64mgsB0fklWMCJvykF0SIZZJgaNd3DW2rsDpN1PoG6OpQW85JjRqlnUaMsYB7mu-OKNNd31q4pWn1-WTFEbZsWKJLRhAJW\" style=\"text-decoration:none;\" target=\"_blank\">https://wenku.baidu.com/view/c... </a><div class=\"c-tools\" data-tools='{\"title\":\"厦门大学远程教育在线测试参考答案-大学语文_百度文库\",\"url\":\"http://www.baidu.com/link?url=FXHM5dyOf71Zj64mgsB0fklWMCJvykF0SIZZJgaNd3DW2rsDpN1PoG6OpQW85JjRqlnUaMsYB7mu-OKNNd31q4pWn1-WTFEbZsWKJLRhAJW\"}' id=\"tools_9340904335060731369_2\"><a class=\"c-tip-icon\"><i class=\"c-icon c-icon-triangle-down-g\"></i></a></div><span class=\"c-icons-outer\"><span class=\"c-icons-inner\"><span class=\"c-vline\"></span><span class=\"c-trust-as vstar \" data_key=\"1598668362003819882\" hint-data='{\"label\":\"北京百度网讯科技有限公司\",\"url\":\"https://www.baidu.com/s?wd=%E5%8C%97%E4%BA%AC%E7%99%BE%E5%BA%A6%E7%BD%91%E8%AE%AF%E7%A7%91%E6%8A%80%E6%9C%89%E9%99%90%E5%85%AC%E5%8F%B8@v&amp;vmp_ec=51ca232b552622f6f2ded8c402922slNfLR15JaJ39efb2=Qf3fv27=WeemmLth1dX1mb3cXd074de800408f9e9&amp;vmp_ectm=1516003180&amp;from=vs\",\"hint\":[{\"txt\":\"[ecard 119]\",\"vlevel\":\"3\"}]}' hint-type=\"vstar\"><a class=\"c-icon c-icon-v c-icon-v3\" data-click=\"{'title':'vstar','rsv_vlevel':'3'}\" href=\"https://www.baidu.com/s?wd=%E5%8C%97%E4%BA%AC%E7%99%BE%E5%BA%A6%E7%BD%91%E8%AE%AF%E7%A7%91%E6%8A%80%E6%9C%89%E9%99%90%E5%85%AC%E5%8F%B8@v&amp;vmp_ec=51ca232b552622f6f2ded8c402922slNfLR15JaJ39efb2=Qf3fv27=WeemmLth1dX1mb3cXd074de800408f9e9&amp;vmp_ectm=1516003180&amp;from=vs&amp;product=v&amp;rsv_dl=0_left_v_3\" target=\"_blank\"></a></span></span></span></div><div class=\"c-offset\"><table class=\"subLink_factory subLink_factory_right\"><tr><td class=\"first c-default \"><a href=\"http://www.baidu.com/link?url=luVwpMHO_5ClI2xxW6pbM6i0k5GTDJI4w9gOZCGYFtI8cSthTLUMJylf_PzVlWlGgrPI_fHr6tShPIK1uA7U-70YLjMsHbiyFzi7C2Q3JH3\" target=\"_blank\">厦门大学网络教育2015-2016学年第一学期大学....doc</a></td><td class=\"middle c-default \">评分:0/5</td><td class=\"last c-default rightTd\">3页</td></tr></table><a class=\"c\" href=\"http://www.baidu.com/link?url=oPv46rt6Rlnos-8G4RIMAWCOX0UUasjyv1VMsb7dCvwzNuLZXAb2BIlNrvD2jNpFz1ChJobdadnpYxOa-RGphraKhruaqZ0rfCLEcnpPENeGZwo0xm-Tt4MPl3zTqSeC4kHpWCXvatMCSskzK_CKexjiVr1aLEyMxSWkLOGP1bK1JTbWLO0GHwJmhABtHSe_lQ6tSrXfa61t5PzqFQRB12VdtCxN5eFZGK4O7tXkrWnm3fWfIJxaGbOjeMgiDO8VP76O2VN41EjXJa36dYdQOQs2vCX4Bd_MpTwHa8f3bVggNOsBT3cRun_3MlEpsveX5wmcG4emxZfZXiy7l7siszRrKcdJBv3MGB6f7y9Ws698a28GyfrqNqDqWI-fXdXiYdLZANwUMgNRbnga-a_cFgeILGFhxTUzM9w4TmdGO8PZHQKUBDWmo_g3Rv8of-o0rtrqoQWuuMRJ7ruLdzfvsv9zSf_2UcjbgQKHfyNUAui\" target=\"_blank\">更多文库相关文档&gt;&gt;</a></div></div>"
      ],
      "text/plain": [
       "<IPython.core.display.HTML object>"
      ]
     },
     "metadata": {},
     "output_type": "display_data"
    },
    {
     "data": {
      "text/html": [
       "<div class=\"result c-container \" data-click=\"{'rsv_bdr':'0' ,'rsv_cd':'pt:40520|vLevel:3'}\" id=\"3\" srcid=\"1599\" tpl=\"se_com_default\"><h3 class=\"t\"><a data-click=\"{\n",
       "\t\t\t'F':'778717EA',\n",
       "\t\t\t'F1':'9D73F1E4',\n",
       "\t\t\t'F2':'4CA6DE6B',\n",
       "\t\t\t'F3':'54E5243F',\n",
       "\t\t\t'T':'1516025553',\n",
       "\t\t\t\t\t\t'y':'BD3FDDDB'\n",
       "\t\t\t \n",
       "\t\t\t\t\t\t\t\t\t}\" href=\"http://www.baidu.com/link?url=dW6toKXThiS43exyV0nQ7iqkYMOUIEDC0ZLfSn2JCQEanEBE42sLfKTUq-ujSpEMt-2nsFNiZFAvTWpBZ42TYIHS3qAfk2-Gn1LkNGW3eDe\" target=\"_blank\"><em>声声慢</em>(教师版)_百度文库</a></h3><div class=\"c-abstract\">【教学过程】 一、赏鉴意象 : 间接抒情——抓意象分析愁情 王国维《<em>人间</em>词话》中说 “一切景语皆情语”,当<em>作者</em>带 着满眼的忧愁来观察周围的事物时,“物皆...</div><div class=\"f13\"><a class=\"c-showurl\" href=\"http://www.baidu.com/link?url=dW6toKXThiS43exyV0nQ7iqkYMOUIEDC0ZLfSn2JCQEanEBE42sLfKTUq-ujSpEMt-2nsFNiZFAvTWpBZ42TYIHS3qAfk2-Gn1LkNGW3eDe\" style=\"text-decoration:none;\" target=\"_blank\">https://wenku.baidu.com/view/9... </a><div class=\"c-tools\" data-tools='{\"title\":\"声声慢(教师版)_百度文库\",\"url\":\"http://www.baidu.com/link?url=dW6toKXThiS43exyV0nQ7iqkYMOUIEDC0ZLfSn2JCQEanEBE42sLfKTUq-ujSpEMt-2nsFNiZFAvTWpBZ42TYIHS3qAfk2-Gn1LkNGW3eDe\"}' id=\"tools_11885927770125987754_3\"><a class=\"c-tip-icon\"><i class=\"c-icon c-icon-triangle-down-g\"></i></a></div><span class=\"c-icons-outer\"><span class=\"c-icons-inner\"><span class=\"c-vline\"></span><span class=\"c-trust-as vstar \" data_key=\"1598668362003819882\" hint-data='{\"label\":\"北京百度网讯科技有限公司\",\"url\":\"https://www.baidu.com/s?wd=%E5%8C%97%E4%BA%AC%E7%99%BE%E5%BA%A6%E7%BD%91%E8%AE%AF%E7%A7%91%E6%8A%80%E6%9C%89%E9%99%90%E5%85%AC%E5%8F%B8@v&amp;vmp_ec=51ca232b552622f6f2ded8c402922slNfLR15JaJ39efb2=Qf3fv27=WeemmLth1dX1mb3cXd074de800408f9e9&amp;vmp_ectm=1516003180&amp;from=vs\",\"hint\":[{\"txt\":\"[ecard 119]\",\"vlevel\":\"3\"}]}' hint-type=\"vstar\"><a class=\"c-icon c-icon-v c-icon-v3\" data-click=\"{'title':'vstar','rsv_vlevel':'3'}\" href=\"https://www.baidu.com/s?wd=%E5%8C%97%E4%BA%AC%E7%99%BE%E5%BA%A6%E7%BD%91%E8%AE%AF%E7%A7%91%E6%8A%80%E6%9C%89%E9%99%90%E5%85%AC%E5%8F%B8@v&amp;vmp_ec=51ca232b552622f6f2ded8c402922slNfLR15JaJ39efb2=Qf3fv27=WeemmLth1dX1mb3cXd074de800408f9e9&amp;vmp_ectm=1516003180&amp;from=vs&amp;product=v&amp;rsv_dl=0_left_v_3\" target=\"_blank\"></a></span></span></span> - <a class=\"m\" data-click=\"{'rsv_snapshot':'1'}\" href=\"http://cache.baiducontent.com/c?m=9f65cb4a8c8507ed19fa950d100b9231450dc7743ca080462482d45f93130a1c187ba7e070670d0fd0c7776d52ab4a5ee8f43226300221b0cbc28b4adeb8c13f2fff7d722f4292044f934fa0dc3025d656964d98db0e96bae732e2b9a4d6c82056dd25026df6849c5a7103bb65e76541f4d7925f612c07ba9c2713fa4e012f882230a1368af7436b108187ca2d47d45edb76609cb841bb2963b504d0690c2435b73ab21f212427e13f3089472a7490fc5c973d084134c043a4b8b1a19a499baae126988bdcde24821495d29af966357b458c20a9ddbca53d155274dfddad65d343c8ed9fbe5be965c06128ad2c06386abe7ce2849826f6755b84f019f93e51553f0bafa405fa62016426a84f0fc015d705b699074ecb9b9a&amp;p=8165c015d9c341a50381d12d02149d&amp;newp=9e769a47959d11a058ed9e27464c89231611d73f6590cf512496fe4e8732002c0331a3fa7c7f4c0bd7c27e6c04a4495be1f73675370722bc99c88f5e9bd6d37f6d877068265fd8&amp;user=baidu&amp;fm=sc&amp;query=%D2%D4%CF%C2+%D7%F7%D5%DF+%C8%CB%C9%FA+%D7%D4%CA%C7+%28%C9%F9%C9%F9%C2%FD+%7C+%D1%B0%D1%B0%C3%D9%C3%D9+%7C+%C9%FA%B2%E9%D7%D3+%7C+%D4%AA%CF%A6+%7C+%CF%CB%D4%C6%C5%AA%C7%C9+%7C+%C8%B5%C7%C5%29&amp;qid=d8dca4ae0000cd92&amp;p1=3\" target=\"_blank\">百度快照</a></div></div>"
      ],
      "text/plain": [
       "<IPython.core.display.HTML object>"
      ]
     },
     "metadata": {},
     "output_type": "display_data"
    },
    {
     "name": "stdout",
     "output_type": "stream",
     "text": [
      "q\n"
     ]
    }
   ],
   "source": [
    "while True:\n",
    "    ipt = input()\n",
    "    if ipt == 'q':\n",
    "        break\n",
    "    else:\n",
    "        im = capture_img()\n",
    "        search_ans_from_pic(im[:1200,:,:], game='baiwan')"
   ]
  },
  {
   "cell_type": "code",
   "execution_count": 14,
   "metadata": {
    "scrolled": false
   },
   "outputs": [
    {
     "name": "stderr",
     "output_type": "stream",
     "text": [
      "Building prefix dict from the default dictionary ...\n",
      "Loading model from cache C:\\Users\\wangz\\AppData\\Local\\Temp\\jieba.cache\n",
      "Loading model cost 0.811 seconds.\n",
      "Prefix dict has been built succesfully.\n"
     ]
    },
    {
     "name": "stdout",
     "output_type": "stream",
     "text": [
      "http://www.baidu.com/s?q1=以下哪个海沟最深?&q2=&q3=马里亚纳+海沟+波多黎各+海沟+海沟+菲律宾&q4=&rn=50\n",
      "question: 以下哪个海沟最深?\n",
      "('A', '马里亚纳海沟', 1.4298410713672638)\n",
      "('C', '菲律宾海沟', 1.046264659613371)\n",
      "('B', '波多黎各海沟', 0.0068359375)\n"
     ]
    },
    {
     "data": {
      "text/html": [
       "<div class=\"result c-container \" data-click=\"{'rsv_bdr':'0' }\" id=\"1\" srcid=\"1528\" tpl=\"se_com_default\"><h3 class=\"t\"><a data-click=\"{\n",
       "\t\t\t'F':'778717EA',\n",
       "\t\t\t'F1':'9D73B1E4',\n",
       "\t\t\t'F2':'4CA6DE6B',\n",
       "\t\t\t'F3':'54E5243F',\n",
       "\t\t\t'T':'1516024728',\n",
       "\t\t\t\t\t\t'y':'BDFB5EFA'\n",
       "\t\t\t \n",
       "\t\t\t\t\t\t\t\t\t}\" href=\"http://www.baidu.com/link?url=Ey5ZODDkynTZO8Tb_9jFvVN5Baq-Dz8QOufHEHOdWzdaEtT3YdpJmxwtkCGdEzBNK6NtA3QbWI1G2XGLLiczEdw8CPVHAhN-flkvaIzEhIq\" target=\"_blank\"><em>马里亚</em>那<em>海沟</em>是在关岛还是塞班岛。_百度知道</a></h3><p class=\"f13 m\">3个回答 - 提问时间: 2016年03月25日</p><div class=\"c-abstract\">是目前所知地球上<em>最深</em>的<em>海沟</em>,该<em>海沟</em>地处北太平洋西部海床,靠近关岛的<em>马里亚纳</em>群岛的东方,该<em>海沟</em>为两个板块辐辏俯冲带,太平洋板块在这里俯冲到<em>菲律宾</em>板块(或细分出...</div><div class=\"f13\"><a class=\"c-showurl\" href=\"http://www.baidu.com/link?url=Ey5ZODDkynTZO8Tb_9jFvVN5Baq-Dz8QOufHEHOdWzdaEtT3YdpJmxwtkCGdEzBNK6NtA3QbWI1G2XGLLiczEdw8CPVHAhN-flkvaIzEhIq\" style=\"text-decoration:none;\" target=\"_blank\">https://zhidao.baidu.com/quest... </a><div class=\"c-tools\" data-tools='{\"title\":\"马里亚那海沟是在关岛还是塞班岛。_百度知道\",\"url\":\"http://www.baidu.com/link?url=Ey5ZODDkynTZO8Tb_9jFvVN5Baq-Dz8QOufHEHOdWzdaEtT3YdpJmxwtkCGdEzBNK6NtA3QbWI1G2XGLLiczEdw8CPVHAhN-flkvaIzEhIq\"}' id=\"tools_11789567424866500699_1\"><a class=\"c-tip-icon\"><i class=\"c-icon c-icon-triangle-down-g\"></i></a></div><span class=\"c-icons-outer\"><span class=\"c-icons-inner\"></span></span></div><div class=\"c-offset\"><table class=\"subLink_factory subLink_factory_right\"><tr><td class=\"first c-default \"><a href=\"http://www.baidu.com/link?url=Z-mmQiX7mJSTyOHlHrwTERa5rE1twQGR9VfwvV7K44E6DSKymt1x96_wb8_F4AQfPk6-3B4Guj0H5OaSMvhXDuiitObA6nFtp9PLZ0_2Vda\" target=\"_blank\"><em>世界</em>上<em>最深</em>的<em>海沟</em>位于<em>哪个</em>大洋?</a></td><td class=\"middle c-default \">2个回答</td><td class=\"last c-default rightTd\">2016-11-27</td></tr><tr><td class=\"first c-default \"><a href=\"http://www.baidu.com/link?url=7QmGwi1MjnnJZdKAcPUlZ--d-J6y_3DjNTN8MXjyHskYuppivPa_1hOxsIOgfypcAKnTRjO-01rNxLdtzkIliK\" target=\"_blank\">有人知道马尼亚拉<em>海沟</em>么?</a></td><td class=\"middle c-default \">2个回答</td><td class=\"last c-default rightTd\">2011-08-05</td></tr></table><a class=\"c\" href=\"http://www.baidu.com/link?url=pG7ZMFf2nTbXh9vj6v3EPme7gpg8B9LU8tvPZ3QMpvgfiHurEDOyGxpKif9ZZVD8LoxHFmMeKGEJ7NzJ-D1EK39LecjPoGjIzi62pxoJScxNAnuIaSkl-tspu93bUHv03gc4N-d8nOmVLzXZKj5bSnEnqQUOYk8PJiJaT-ys441E0mSKFylsRfs1nT6nx2yrv1LqgWQSJfqQJkatp5KLsxJCvZqe_Zdbzd_CJ6c3wrRH9JMhr_LcdPSNpdYAISH0H1Pb8hY8v0DWMU3jSQbb_7zH0gN1gOsliEllFmE6bxNF3kcjl2eJDTANaSdd0trjLRraLohzaJztIYgJUOHujbwlvEpjktZjERTbRexndzt5ea9YHJ9A7hM0nSKWibgszKqAIUay1fxJA0a-1qAomiDHCtw1QWJFqmO97s9PqVGFN70K_XSaFRdQ4vQLkB3VKq3kcJlR4isCtuoc2MoqFK\" target=\"_blank\">更多知道相关问题&gt;&gt;</a></div></div>"
      ],
      "text/plain": [
       "<IPython.core.display.HTML object>"
      ]
     },
     "metadata": {},
     "output_type": "display_data"
    },
    {
     "data": {
      "text/html": [
       "<div class=\"result c-container \" data-click=\"{'rsv_bdr':'0' }\" id=\"2\" srcid=\"1599\" tpl=\"se_com_default\"><h3 class=\"t\"><a data-click=\"{\n",
       "\t\t\t'F':'778717EA',\n",
       "\t\t\t'F1':'9D73F1E4',\n",
       "\t\t\t'F2':'4CA6DE6B',\n",
       "\t\t\t'F3':'54E5243F',\n",
       "\t\t\t'T':'1516024728',\n",
       "\t\t\t\t\t\t'y':'E1E7CE97'\n",
       "\t\t\t \n",
       "\t\t\t\t\t\t\t\t\t}\" href=\"http://www.baidu.com/link?url=BxW5BBpY95VZIqrqexE5lG-xBdszcZwwW4o1D6wm67_WWPWqphuQsSWgJR2-snPuvmUpp1t5XFZQdkEFa-g3KypfOtYpv9dXJl4hpow_JmO\" target=\"_blank\"><em>菲律宾</em>游记--蚂蜂窝</a></h3><div class=\"c-row c-gap-top-small\"><div class=\"general_image_pic c-span6\"><a class=\"c-img6\" href=\"http://www.baidu.com/link?url=BxW5BBpY95VZIqrqexE5lG-xBdszcZwwW4o1D6wm67_WWPWqphuQsSWgJR2-snPuvmUpp1t5XFZQdkEFa-g3KypfOtYpv9dXJl4hpow_JmO\" style=\"height:75px\" target=\"_blank\"><img class=\"c-img c-img6\" src=\"http://i8.baidu.com/it/u=3269843413,107228848&amp;fm=85&amp;s=A9014F907608774732094D510300E0F0\" style=\"height:75px;\"/></a></div><div class=\"c-span18 c-span-last\"><div class=\"c-abstract\">俺从被俺村村长称为十分危险地、十分恐怖的、十分野蛮的---<em>菲律宾</em>活着回来了…… 自打听说俺要去<em>菲律宾</em>,俺家这老老小小的就乱了套啦,俺妈苦口婆心的劝俺,被...</div><div class=\"f13\"><a class=\"c-showurl\" href=\"http://www.baidu.com/link?url=BxW5BBpY95VZIqrqexE5lG-xBdszcZwwW4o1D6wm67_WWPWqphuQsSWgJR2-snPuvmUpp1t5XFZQdkEFa-g3KypfOtYpv9dXJl4hpow_JmO\" style=\"text-decoration:none;\" target=\"_blank\">360.mafengwo.cn/travel... </a><div class=\"c-tools\" data-tools='{\"title\":\"菲律宾游记--蚂蜂窝\",\"url\":\"http://www.baidu.com/link?url=BxW5BBpY95VZIqrqexE5lG-xBdszcZwwW4o1D6wm67_WWPWqphuQsSWgJR2-snPuvmUpp1t5XFZQdkEFa-g3KypfOtYpv9dXJl4hpow_JmO\"}' id=\"tools_12121934703153097211_2\"><a class=\"c-tip-icon\"><i class=\"c-icon c-icon-triangle-down-g\"></i></a></div><span class=\"c-icons-outer\"><span class=\"c-icons-inner\"></span></span> - <a class=\"m\" data-click=\"{'rsv_snapshot':'1'}\" href=\"http://cache.baiducontent.com/c?m=9f65cb4a8c8507ed4fece7631017d3640e54f73c6f8387492a91ce5f93130a1d5a20a3e863754e45ce9e20335cb84e28afa76d226a1420c0d992ca5ddccfc97e38895135701a844017d60dea960673ce37e65afed91ff0cb8425e2aec5d2af4322cc44747c9780814d7410dd6e80034190b1ea49022f1bad9d3772fe29605f9a3437c150f890251f0c9681aa4b4cb23da16106e0d922b14e05c411b3686f3332a35bc00d462740f73e21e8353613929a4a97596e3322a138b8aeb1b1fc48fdcb9a318f89c1b85f917791c7fd8873550758ed55b4bcc9b72a643415a9b9c965c525ccf1fbca4bfe14a6072cc94a052e7cbe6083f28840f2134d84e27f8f2d3557281daeb8638f76671b35&amp;p=882a9545d08104e444be9b7c1e5d88&amp;newp=867ec64ad48b11a058ed92685c5789231610db2151d6d1146b82c825d7331b001c3bbfb42325120fd1c37c630aae425aedfb317037012ba3dda5c91d9fb4c57479c0&amp;user=baidu&amp;fm=sc&amp;query=%D2%D4%CF%C2%C4%C4%B8%F6%BA%A3%B9%B5%D7%EE%C9%EE%3F+%28%C2%ED%C0%EF%D1%C7%C4%C9+%7C+%BA%A3%B9%B5+%7C+%B2%A8%B6%E0%C0%E8%B8%F7+%7C+%BA%A3%B9%B5+%7C+%BA%A3%B9%B5+%7C+%B7%C6%C2%C9%B1%F6%29&amp;qid=ff9c32d50000855e&amp;p1=2\" target=\"_blank\">百度快照</a></div></div></div></div>"
      ],
      "text/plain": [
       "<IPython.core.display.HTML object>"
      ]
     },
     "metadata": {},
     "output_type": "display_data"
    },
    {
     "name": "stdout",
     "output_type": "stream",
     "text": [
      "http://www.baidu.com/s?q1=“桃李满天下”中的“桃李”一般用来指代?&q2=&q3=老师+学生+前辈&q4=&rn=50\n",
      "question: “桃李满天下”中的“桃李”一般用来指代?\n",
      "('A', '老师', 1.9120785841323595)\n",
      "('B', '学生', 0.10356269609258106)\n",
      "('C', '前辈', 0.004882849814748624)\n"
     ]
    },
    {
     "data": {
      "text/html": [
       "<div class=\"result c-container \" data-click=\"{'rsv_bdr':'0' }\" id=\"1\" srcid=\"1528\" tpl=\"se_com_default\"><h3 class=\"t\"><a data-click=\"{\n",
       "\t\t\t'F':'778717EA',\n",
       "\t\t\t'F1':'9D73B1E4',\n",
       "\t\t\t'F2':'4CA6DE6B',\n",
       "\t\t\t'F3':'54E5243F',\n",
       "\t\t\t'T':'1516024730',\n",
       "\t\t\t\t\t\t'y':'BF8F7F7D'\n",
       "\t\t\t \n",
       "\t\t\t\t\t\t\t\t\t}\" href=\"http://www.baidu.com/link?url=TnXRkZKyrCW-tVwnBxBnEWyJFwWc2fxagcfH5ZsoTPFQRqo7OH32jO5kF55ZvHwlc0auWoySS9jTAqVMnO0wH_\" target=\"_blank\">常<em>用来</em>赞美<em>老师</em>的话,如:<em>桃李满天下</em>_百度知道</a></h3><p class=\"f13 m\">3个回答 - 提问时间: 2008年08月07日</p><div class=\"c-abstract\"><span class=\"m\">最佳答案: </span>玉壶存冰心 朱笔写师魂 谆谆如父语 殷殷似友亲 轻盈数行字 浓抹一生人 寄望后来者 成功报师尊 相见时难别亦难, 东风无力百花残。 春蚕到死丝方尽,...</div><div class=\"f13\"><a class=\"c-showurl\" href=\"http://www.baidu.com/link?url=TnXRkZKyrCW-tVwnBxBnEWyJFwWc2fxagcfH5ZsoTPFQRqo7OH32jO5kF55ZvHwlc0auWoySS9jTAqVMnO0wH_\" style=\"text-decoration:none;\" target=\"_blank\">https://zhidao.baidu.com/quest... </a><div class=\"c-tools\" data-tools='{\"title\":\"常用来赞美老师的话,如:桃李满天下_百度知道\",\"url\":\"http://www.baidu.com/link?url=TnXRkZKyrCW-tVwnBxBnEWyJFwWc2fxagcfH5ZsoTPFQRqo7OH32jO5kF55ZvHwlc0auWoySS9jTAqVMnO0wH_\"}' id=\"tools_5422484829012898177_1\"><a class=\"c-tip-icon\"><i class=\"c-icon c-icon-triangle-down-g\"></i></a></div><span class=\"c-icons-outer\"><span class=\"c-icons-inner\"></span></span></div><div class=\"c-offset\"><table class=\"subLink_factory subLink_factory_right\"><tr><td class=\"first c-default \"><a href=\"http://www.baidu.com/link?url=_dM2k61IqGhdJ_ZaDc3nmzRSNTd55gU5O8Z2JZhbH9769pfAJQyCA7ZDmpTuwbUBUwW7xL7Jn3M_yJEqwyiK46uO7OgSShmIktLUQOWicNe\" target=\"_blank\">形容孩子对<em>老师</em>爱的成语</a></td><td class=\"middle c-default \">1个回答</td><td class=\"last c-default rightTd\">2016-10-26</td></tr><tr><td class=\"first c-default \"><a href=\"http://www.baidu.com/link?url=PoyoIdEM-SaVYdkfC-iZXenAneqjUxYJ6NqjJj_a5lrnNkCrDfOr4j9rxD2g8wYkdP73_0v6o66xcOlYiNFrB0f0BN2phhXDhqec_pc0p4i\" target=\"_blank\">古文中还<em>可以</em>把“弟子”(<em>学生</em>)称做什么?(<em>用于</em>...</a></td><td class=\"middle c-default \">2个回答</td><td class=\"last c-default rightTd\">2015-09-09</td></tr><tr><td class=\"first c-default \"><a href=\"http://www.baidu.com/link?url=k6icox7UncEI0RjgO2wgrEcTRetAtIiYVE1WdV7FpuX4i-NRhBM3eoulCWo4PrljpbOYJ3f52SHxbbsDNKZNB_\" target=\"_blank\"><em>老师能用</em>什么词来形容</a></td><td class=\"middle c-default \">5个回答</td><td class=\"last c-default rightTd\">2007-08-17</td></tr></table><a class=\"c\" href=\"http://www.baidu.com/link?url=B1TYCPL2RKH81oj5_RuJnTyM6OmDrixnnNE_XEYNrUVkN6JsGVsOJrxEE8S2MjEwYZOMtnPzWlSylM3khw31l2OpXs7lgQh_P-lE6bXN4ohJ8_3ElmeMVJSnG6oYTk_9DqEaDK4M897bJeUAULg1ukGiTd8rY8p5WDQp82Xzhufdpb4xUhu4suxGkFMf5Be0C8fKnZnoDt_buL7rERfMbOjMGlkOXOfBlr5y7cN9SEfgrcgqDcgOjPOUzxaWo5hIQw1Fy-5_jcbiLF2kT4V0ITJCHDm54VZuEMX9Eapx8hwcI2XYnu5Akrf-QcyRNNehjxC8nZg7lFj__oNR1KUDfHcSP5PAsqPzAbElZqVKOhxAuE23rEA258mKsAGE4dEGok5voGLbuaLBCxugQNWXgiaq63nOYbWGlpmCKCEWCEkifPjbohHG3_vdaAo8t2mL\" target=\"_blank\">更多知道相关问题&gt;&gt;</a></div></div>"
      ],
      "text/plain": [
       "<IPython.core.display.HTML object>"
      ]
     },
     "metadata": {},
     "output_type": "display_data"
    },
    {
     "data": {
      "text/html": [
       "<div class=\"result c-container \" data-click=\"{'rsv_bdr':'0' ,'rsv_cd':'vLevel:1'}\" id=\"2\" srcid=\"1599\" tpl=\"se_com_default\"><h3 class=\"t\"><a data-click=\"{\n",
       "\t\t\t'F':'778717EA',\n",
       "\t\t\t'F1':'9D73F1E4',\n",
       "\t\t\t'F2':'4CA6DE6B',\n",
       "\t\t\t'F3':'54E5242F',\n",
       "\t\t\t'T':'1516024730',\n",
       "\t\t\t\t\t\t'y':'3DACF9AF'\n",
       "\t\t\t \n",
       "\t\t\t\t\t\t\t\t\t}\" href=\"http://www.baidu.com/link?url=GmP4Nypa_tloX2iGSQaxbgwjqJKwmphubRLntTMcKEWMK-9S7YyB-33tF70I27_xKqpOzAnOE48Z-oiCUIdjh3tjCTnjfS5iMRwWytzprIGBTiXfG0Lq8ja3Utyffuilet7AH7N2rDLI04QmkPdFaq\" target=\"_blank\"><em>老师</em>,我想对你说</a></h3><div class=\"c-abstract\">你有什么话想对你的<em>老师</em>说的,不要害羞大胆说出来吧,下面小编为大家推荐两篇“<em>老师</em>我想对你说作文”,如果想要看更多<em>老师</em>我想对你说作文<em>可以</em>关注出国留学网作文栏...</div><div class=\"f13\"><a class=\"c-showurl\" href=\"http://www.baidu.com/link?url=GmP4Nypa_tloX2iGSQaxbgwjqJKwmphubRLntTMcKEWMK-9S7YyB-33tF70I27_xKqpOzAnOE48Z-oiCUIdjh3tjCTnjfS5iMRwWytzprIGBTiXfG0Lq8ja3Utyffuilet7AH7N2rDLI04QmkPdFaq\" style=\"text-decoration:none;\" target=\"_blank\">https://www.liuxue86.com/k_<b>老师</b>,... </a><div class=\"c-tools\" data-tools='{\"title\":\"老师,我想对你说\",\"url\":\"http://www.baidu.com/link?url=GmP4Nypa_tloX2iGSQaxbgwjqJKwmphubRLntTMcKEWMK-9S7YyB-33tF70I27_xKqpOzAnOE48Z-oiCUIdjh3tjCTnjfS5iMRwWytzprIGBTiXfG0Lq8ja3Utyffuilet7AH7N2rDLI04QmkPdFaq\"}' id=\"tools_11947645662253163880_2\"><a class=\"c-tip-icon\"><i class=\"c-icon c-icon-triangle-down-g\"></i></a></div><span class=\"c-icons-outer\"><span class=\"c-icons-inner\"><span class=\"c-vline\"></span><span class=\"c-trust-as vstar \" data_key=\"8918463077942744404\" hint-data='{\"label\":\"长沙爱登网络科技有限公司\",\"url\":\"https://www.baidu.com/s?wd=%E9%95%BF%E6%B2%99%E7%88%B1%E7%99%BB%E7%BD%91%E7%BB%9C%E7%A7%91%E6%8A%80%E6%9C%89%E9%99%90%E5%85%AC%E5%8F%B8@v&amp;vmp_ec=6c5d50d0a45caad7b317803ac2482jXbdadV6sfXdsb9312i04U5=b6W0e4N83d43y58d36cX3J8edf499a0eddd&amp;vmp_ectm=1515119907&amp;from=vs\",\"hint\":[{\"txt\":\"[ecard 70]\",\"vlevel\":\"1\"}]}' hint-type=\"vstar\"><a class=\"c-icon c-icon-v c-icon-v1\" data-click=\"{'title':'vstar','rsv_vlevel':'1'}\" href=\"https://www.baidu.com/s?wd=%E9%95%BF%E6%B2%99%E7%88%B1%E7%99%BB%E7%BD%91%E7%BB%9C%E7%A7%91%E6%8A%80%E6%9C%89%E9%99%90%E5%85%AC%E5%8F%B8@v&amp;vmp_ec=6c5d50d0a45caad7b317803ac2482jXbdadV6sfXdsb9312i04U5=b6W0e4N83d43y58d36cX3J8edf499a0eddd&amp;vmp_ectm=1515119907&amp;from=vs&amp;product=v&amp;rsv_dl=0_left_v_1\" target=\"_blank\"></a></span></span></span> - <a class=\"m\" data-click=\"{'rsv_snapshot':'1'}\" href=\"http://cache.baiducontent.com/c?m=9f65cb4a8c8507ed19fa950d100b92235c438014628c975f3883994c84642c101a39fee230256413a4cf6b6d03b8435ffd873165470937bd91df883bcacc963f2582303f730bf14505d918b8bb4732b62787299db869ecad873484dea4c4ac5644bd591209f4e7fb5c1d008f32b0423ef4d7e85f635f07cbef2712884e7659885240a1338af7331e10f087ca2b3dd45ba4766097b835c12964b104d21d0c2534b73cb61f202027e03e308e352a7292fc2ce53d0e3734b639a4cfc1a19b389bace826effbdcae5f8216e7d29bf8663372458a23a9aacda54b605272d3dddf66d342baed98c95be965c0615ead2c02381abd7ce786985783752cf7f01bfb3e532d3f7eaca4748e62016a26d83c0fc11cd705b1&amp;p=882a9641d48815ea0be296231c6491&amp;newp=8c6fd20f8f904ead08e2977a0f449c231611c20e39d5c44324b9d71fd325001c1b69e3b822261a02d2c0796215e9241dbdb239256b55&amp;user=baidu&amp;fm=sc&amp;query=%A1%B0%CC%D2%C0%EE%C2%FA%CC%EC%CF%C2%A1%B1%D6%D0%B5%C4%A1%B0%CC%D2%C0%EE%A1%B1%D2%BB%B0%E3%D3%C3%C0%B4%D6%B8%B4%FA%3F+%28%C0%CF%CA%A6+%7C+%D1%A7%C9%FA+%7C+%C7%B0%B1%B2%29&amp;qid=eeaa700800009f4a&amp;p1=2\" target=\"_blank\">百度快照</a></div></div>"
      ],
      "text/plain": [
       "<IPython.core.display.HTML object>"
      ]
     },
     "metadata": {},
     "output_type": "display_data"
    },
    {
     "name": "stdout",
     "output_type": "stream",
     "text": [
      "http://www.baidu.com/s?q1=食用适量的海苔可以预防甲状腺肿大是因为海苔中的哪种元素?&q2=&q3=钙+碘+锌&q4=&rn=50\n",
      "question: 食用适量的海苔可以预防甲状腺肿大是因为海苔中的哪种元素?\n",
      "('B', '碘', 1.7558907326319968)\n",
      "('C', '锌', 0.937492132184957)\n",
      "('A', '钙', 0.7655969882890759)\n"
     ]
    },
    {
     "data": {
      "text/html": [
       "<div class=\"result c-container \" data-click=\"{'rsv_bdr':'0' }\" id=\"1\" srcid=\"1599\" tpl=\"se_com_default\"><h3 class=\"t\"><a data-click=\"{\n",
       "\t\t\t'F':'778717EA',\n",
       "\t\t\t'F1':'9D73F1E4',\n",
       "\t\t\t'F2':'4CA6DE6B',\n",
       "\t\t\t'F3':'54E5243F',\n",
       "\t\t\t'T':'1516024731',\n",
       "\t\t\t\t\t\t'y':'F9FF4ED7'\n",
       "\t\t\t \n",
       "\t\t\t\t\t\t\t\t\t}\" href=\"http://www.baidu.com/link?url=80mVv-lsdwsgPR8MMDNn82WIDqWkhN9x2TQojQQzvSe1R1O_zL4ACmQl0JaIdDAidxHuNQWXIjEi6YlpOlbBFoB1ORAqfhMxCjLJUt_NIo7\" target=\"_blank\"><em>碘</em>过量 - 太平洋亲子网</a></h3><div class=\"c-abstract\">(2)品种多样化、营养齐全、少食多餐,增加各种营养素的摄入量:尤其是优质蛋白质、<em>钙</em>、<em>锌</em>、<em>碘</em>和维A、B族维生素摄入,足够的汤水,<em>适量</em>摄入肉类食物。 (3)饮食上...</div><div class=\"f13\"><a class=\"c-showurl\" href=\"http://www.baidu.com/link?url=80mVv-lsdwsgPR8MMDNn82WIDqWkhN9x2TQojQQzvSe1R1O_zL4ACmQl0JaIdDAidxHuNQWXIjEi6YlpOlbBFoB1ORAqfhMxCjLJUt_NIo7\" style=\"text-decoration:none;\" target=\"_blank\">www.pcbaby.com.cn/tags... </a><div class=\"c-tools\" data-tools='{\"title\":\"碘过量 - 太平洋亲子网\",\"url\":\"http://www.baidu.com/link?url=80mVv-lsdwsgPR8MMDNn82WIDqWkhN9x2TQojQQzvSe1R1O_zL4ACmQl0JaIdDAidxHuNQWXIjEi6YlpOlbBFoB1ORAqfhMxCjLJUt_NIo7\"}' id=\"tools_2784803421735835039_1\"><a class=\"c-tip-icon\"><i class=\"c-icon c-icon-triangle-down-g\"></i></a></div><span class=\"c-icons-outer\"><span class=\"c-icons-inner\"></span></span> - <a class=\"m\" data-click=\"{'rsv_snapshot':'1'}\" href=\"http://cache.baiducontent.com/c?m=9d78d513d9d430dc4f9d95697b17c017184381132ba6a3020ea7843990732b35506793ac57250775d5d27d1716df3a4b99f12103461453b38cc9f85dadcf8559249f5134676a805613a30ed9cd5156c737e05ffede1bf0bb8025e3dfc5a5da4325cf44757c9781ff4d761fdd6e800347e7b1ef4d022f16ad993172fe296058ec3431b350f8902518079682dd4b3db43da3120696df22c04d05c612b36e6a3337a45bb078465034f73925e8454d13e2ec4a962c6e4153a139b5aeb0b0fc49fccb9c358f8ccfb82ee57790c3fd8a02550122ed53b4bcbdc32a144f15a8cec916b525ccfdfbcd4cfe14a6072ab84a065b7f892bca8dd511b4204df59475e36c67633f0aa8f125af26202426a84949ec40d775c6df2a569ab9c8c9820232aa8eb67360f5a7a835bd7a7e57fb2d4701bbfc417d108e060e81&amp;p=926dc31486cc41af58a4db2d02148f&amp;newp=aa7ac81885cc43e00fbd9b7e0d16bb231610db2151d7da126b82c825d7331b001c3bbfb42325120fd5c1796d0aa84c5ee0f0317437012ba3dda5c91d9fb4c57479c770&amp;user=baidu&amp;fm=sc&amp;query=%CA%B3%D3%C3%CA%CA%C1%BF%B5%C4%BA%A3%CC%A6%BF%C9%D2%D4%D4%A4%B7%C0%BC%D7%D7%B4%CF%D9%D6%D7%B4%F3%CA%C7%D2%F2%CE%AA%BA%A3%CC%A6%D6%D0%B5%C4%C4%C4%D6%D6%D4%AA%CB%D8%3F+%28%B8%C6+%7C+%B5%E2+%7C+%D0%BF%29&amp;qid=8c0dc2c800009288&amp;p1=1\" target=\"_blank\">百度快照</a></div></div>"
      ],
      "text/plain": [
       "<IPython.core.display.HTML object>"
      ]
     },
     "metadata": {},
     "output_type": "display_data"
    },
    {
     "data": {
      "text/html": [
       "<div class=\"result c-container \" data-click=\"{'rsv_bdr':'0' ,'rsv_cd':'vLevel:1'}\" id=\"2\" srcid=\"1599\" tpl=\"se_com_default\"><h3 class=\"t\"><a data-click=\"{\n",
       "\t\t\t'F':'778717EA',\n",
       "\t\t\t'F1':'9D73F1E4',\n",
       "\t\t\t'F2':'4CA6DE6B',\n",
       "\t\t\t'F3':'54E5243F',\n",
       "\t\t\t'T':'1516024731',\n",
       "\t\t\t\t\t\t'y':'FFDE4FFF'\n",
       "\t\t\t \n",
       "\t\t\t\t\t\t\t\t\t}\" href=\"http://www.baidu.com/link?url=VdnF1pc6dI-MXfMiw7D_e9-i9GIJrwMCn-a8PfDynFIN5kzQs22I8BWi11zLI6HuYo6axNfrWaSZ5y5nUFWMfK\" target=\"_blank\">中国人<em>吃</em>了那么多年碘盐,存在<em>碘</em>摄入过量的问题吗? - 知乎</a></h3><div class=\"c-abstract\"><span class=\" newTimeFactor_before_abs m\">2017年2月18日 - </span>超市<em>里</em>有了加<em>锌</em>、加<em>钙</em>酸奶,也有了含硒、低钠的营养盐。“有一段时间,周围亲友争相购买铁锅炒菜,据说只要<em>能</em>把铁锅炒薄,就不愁缺乏身体所需的铁...</div><div class=\"f13\"><a class=\"c-showurl\" href=\"http://www.baidu.com/link?url=VdnF1pc6dI-MXfMiw7D_e9-i9GIJrwMCn-a8PfDynFIN5kzQs22I8BWi11zLI6HuYo6axNfrWaSZ5y5nUFWMfK\" style=\"text-decoration:none;\" target=\"_blank\">https://www.zhihu.com/question... </a><div class=\"c-tools\" data-tools='{\"title\":\"中国人吃了那么多年碘盐,存在碘摄入过量的问题吗? - 知乎\",\"url\":\"http://www.baidu.com/link?url=VdnF1pc6dI-MXfMiw7D_e9-i9GIJrwMCn-a8PfDynFIN5kzQs22I8BWi11zLI6HuYo6axNfrWaSZ5y5nUFWMfK\"}' id=\"tools_12799865832802942187_2\"><a class=\"c-tip-icon\"><i class=\"c-icon c-icon-triangle-down-g\"></i></a></div><span class=\"c-icons-outer\"><span class=\"c-icons-inner\"><span class=\"c-vline\"></span><span class=\"c-trust-as vstar \" data_key=\"12397541887370352527\" hint-data='{\"label\":\"北京智者天下科技有限公司\",\"url\":\"https://www.baidu.com/s?wd=%E5%8C%97%E4%BA%AC%E6%99%BA%E8%80%85%E5%A4%A9%E4%B8%8B%E7%A7%91%E6%8A%80%E6%9C%89%E9%99%90%E5%85%AC%E5%8F%B8@v&amp;vmp_ec=77863858239d2a9008e767332Gd05567ec0a136ebdo=0714b2ajedSycXlad05b3s31XJd279b14a47&amp;vmp_ectm=1516022529&amp;from=vs\",\"hint\":[{\"txt\":\"[ecard 72]\",\"vlevel\":\"1\"}]}' hint-type=\"vstar\"><a class=\"c-icon c-icon-v c-icon-v1\" data-click=\"{'title':'vstar','rsv_vlevel':'1'}\" href=\"https://www.baidu.com/s?wd=%E5%8C%97%E4%BA%AC%E6%99%BA%E8%80%85%E5%A4%A9%E4%B8%8B%E7%A7%91%E6%8A%80%E6%9C%89%E9%99%90%E5%85%AC%E5%8F%B8@v&amp;vmp_ec=77863858239d2a9008e767332Gd05567ec0a136ebdo=0714b2ajedSycXlad05b3s31XJd279b14a47&amp;vmp_ectm=1516022529&amp;from=vs&amp;product=v&amp;rsv_dl=0_left_v_1\" target=\"_blank\"></a></span></span></span> - <a class=\"m\" data-click=\"{'rsv_snapshot':'1'}\" href=\"http://cache.baiducontent.com/c?m=9f65cb4a8c8507ed19fa950d100b92235c438014748d8b4f38c3933fc239045c0421b4fa61794d58cec47e6207a94f5befe4732f77552fa0eabb9f3adcace42938f92623716c913061c468dcdc3726d650e44de8df0e97bde74395b9d3a3c82420dd20046df1819c290403cb1fe76445f4d7925f635f07cceb27648f4e012f885046a137fcf7436c108086ca2c3dd45cd5766792b845b62963c104d2140c2534b73ab51f2723279049308b452a05e2fc2c943d084534b738a4cfc1a19f489bad9d26eb89dcae5f821095d299f8663301458921a9aacda54b605274dbdddf66d342bbed9dbc5be864c0615aad2c70386abe7ce2869821f6755b84f01ef83e51553f7bafa402f562701e26d8340fc01bd775c099064ccb9d9d9f9f6452d99bd20303&amp;p=ce7fdd1986cc41af5ea5c7710f009c&amp;newp=8e65c54ad6c347fb0cb8c7710f438d231610db2151d6d4176b82c825d7331b001c3bbfb42325120fd5cf7d6606aa4e57e8f735793d012ba3dda5c91d9fb4c57479dc7361&amp;user=baidu&amp;fm=sc&amp;query=%CA%B3%D3%C3%CA%CA%C1%BF%B5%C4%BA%A3%CC%A6%BF%C9%D2%D4%D4%A4%B7%C0%BC%D7%D7%B4%CF%D9%D6%D7%B4%F3%CA%C7%D2%F2%CE%AA%BA%A3%CC%A6%D6%D0%B5%C4%C4%C4%D6%D6%D4%AA%CB%D8%3F+%28%B8%C6+%7C+%B5%E2+%7C+%D0%BF%29&amp;qid=8c0dc2c800009288&amp;p1=2\" target=\"_blank\">百度快照</a></div></div>"
      ],
      "text/plain": [
       "<IPython.core.display.HTML object>"
      ]
     },
     "metadata": {},
     "output_type": "display_data"
    },
    {
     "name": "stdout",
     "output_type": "stream",
     "text": [
      "http://www.baidu.com/s?q1=《马里奥》系列游戏中马里奥吃哪种植物可以体积变大?&q2=&q3=蘑菇+土豆+西红柿&q4=&rn=50\n",
      "question: 《马里奥》系列游戏中马里奥吃哪种植物可以体积变大?\n",
      "('A', '蘑菇', 0.765625)\n",
      "('C', '西红柿', 0.3515625)\n",
      "('B', '土豆', 0)\n"
     ]
    },
    {
     "data": {
      "text/html": [
       "<div class=\"result c-container \" data-click=\"{'rsv_bdr':'0' ,'rsv_cd':'vLevel:1'}\" id=\"1\" srcid=\"1599\" tpl=\"se_com_default\"><h3 class=\"t\"><a data-click=\"{\n",
       "\t\t\t'F':'778717EA',\n",
       "\t\t\t'F1':'9D73F1E4',\n",
       "\t\t\t'F2':'4CA6DE6B',\n",
       "\t\t\t'F3':'54E5243F',\n",
       "\t\t\t'T':'1516024733',\n",
       "\t\t\t\t\t\t'y':'FEB3CDFF'\n",
       "\t\t\t \n",
       "\t\t\t\t\t\t\t\t\t}\" href=\"http://www.baidu.com/link?url=Pq9QK-BwTrtfezRd04GoOVB_VzAE2K4Kh8TnswnDXoEDZaTSodL_rMDtvKe60-wvEYmJoAPmcGy597Zcdh7Wv_\" target=\"_blank\">For Fun - 收藏夹 - 知乎</a></h3><div class=\"c-row c-gap-top-small\"><div class=\"general_image_pic c-span6\"><a class=\"c-img6\" href=\"http://www.baidu.com/link?url=Pq9QK-BwTrtfezRd04GoOVB_VzAE2K4Kh8TnswnDXoEDZaTSodL_rMDtvKe60-wvEYmJoAPmcGy597Zcdh7Wv_\" style=\"height:75px\" target=\"_blank\"><img class=\"c-img c-img6\" src=\"http://i9.baidu.com/it/u=2591410436,3753565167&amp;fm=85&amp;s=F3889940E4FB2F8C6CB01CB403008093\" style=\"height:75px;\"/></a></div><div class=\"c-span18 c-span-last\"><div class=\"c-abstract\">这个银河系里有太多的电影画面太震撼了,其中不乏各种小成本冷门佳片,而阿大身为设计狗一枚,对画面的敏感度简直让人发指,今天就阿大这只视觉动物就帮大家把这些热...</div><div class=\"f13\"><a class=\"c-showurl\" href=\"http://www.baidu.com/link?url=Pq9QK-BwTrtfezRd04GoOVB_VzAE2K4Kh8TnswnDXoEDZaTSodL_rMDtvKe60-wvEYmJoAPmcGy597Zcdh7Wv_\" style=\"text-decoration:none;\" target=\"_blank\">https://www.zhihu.com/collecti... </a><div class=\"c-tools\" data-tools='{\"title\":\"For Fun - 收藏夹 - 知乎\",\"url\":\"http://www.baidu.com/link?url=Pq9QK-BwTrtfezRd04GoOVB_VzAE2K4Kh8TnswnDXoEDZaTSodL_rMDtvKe60-wvEYmJoAPmcGy597Zcdh7Wv_\"}' id=\"tools_11241422335334296957_1\"><a class=\"c-tip-icon\"><i class=\"c-icon c-icon-triangle-down-g\"></i></a></div><span class=\"c-icons-outer\"><span class=\"c-icons-inner\"><span class=\"c-vline\"></span><span class=\"c-trust-as vstar \" data_key=\"12397541887370352527\" hint-data='{\"label\":\"北京智者天下科技有限公司\",\"url\":\"https://www.baidu.com/s?wd=%E5%8C%97%E4%BA%AC%E6%99%BA%E8%80%85%E5%A4%A9%E4%B8%8B%E7%A7%91%E6%8A%80%E6%9C%89%E9%99%90%E5%85%AC%E5%8F%B8@v&amp;vmp_ec=77863858239d2a9008e767332Gd05567ec0a136ebdo=0714b2ajedSycXlad05b3s31XJd279b14a47&amp;vmp_ectm=1516022529&amp;from=vs\",\"hint\":[{\"txt\":\"[ecard 72]\",\"vlevel\":\"1\"}]}' hint-type=\"vstar\"><a class=\"c-icon c-icon-v c-icon-v1\" data-click=\"{'title':'vstar','rsv_vlevel':'1'}\" href=\"https://www.baidu.com/s?wd=%E5%8C%97%E4%BA%AC%E6%99%BA%E8%80%85%E5%A4%A9%E4%B8%8B%E7%A7%91%E6%8A%80%E6%9C%89%E9%99%90%E5%85%AC%E5%8F%B8@v&amp;vmp_ec=77863858239d2a9008e767332Gd05567ec0a136ebdo=0714b2ajedSycXlad05b3s31XJd279b14a47&amp;vmp_ectm=1516022529&amp;from=vs&amp;product=v&amp;rsv_dl=0_left_v_1\" target=\"_blank\"></a></span></span></span> - <a class=\"m\" data-click=\"{'rsv_snapshot':'1'}\" href=\"http://cache.baiducontent.com/c?m=9d78d513d9d432ac4f9d90690c66c0171943f7152ba6d20208a0843891732a41506793ac54210774d6d27d1716de3d4b9af72103341456b58cc9f85dabba8559589f5640676c835613a30ed9cf5153c337912afede19f0cd8625e2acc5a4ab4323c844747a97f1fb4d7015dd19f6033093b1e84e022e16adec4072895d605f9b3441c6508fe4251e079687aa4b3bb73dd11106e7db22c13505c313b3691d3345d05bc079465137f73f57e8304b13939b4a97296e3725a149c3aeb1b0fc3c8dcbea408f8bcdb85c957796cefd8907557023ed54c8bcccb12a144115a9c1c916b525cd8dfbce49fe64a4072bcb4a075c7cbf6880c5cf09fd381cb2a529e928513b354f9af663ff0238356af2790fb1689128ee93271682b4cad9d94e18f384ce7471fbaabe48b7&amp;p=ce64c64ad48516be08e2947d0d0e82&amp;newp=882a9546d6d012a05abcd0241c438a231610db2151d4d51e6b82c825d7331b001c3bbfb42325120fd5c27c6100ae435cedfb3c7833012ba3dda5c91d9fb4c574799b&amp;user=baidu&amp;fm=sc&amp;query=%A1%B6%C2%ED%C0%EF%B0%C2%A1%B7%CF%B5%C1%D0%D3%CE%CF%B7%D6%D0%C2%ED%C0%EF%B0%C2%B3%D4%C4%C4%D6%D6%D6%B2%CE%EF%BF%C9%D2%D4%CC%E5%BB%FD%B1%E4%B4%F3%3F+%28%C4%A2%B9%BD+%7C+%CD%C1%B6%B9+%7C+%CE%F7%BA%EC%CA%C1%29&amp;qid=ebe35d4c000099a1&amp;p1=1\" target=\"_blank\">百度快照</a></div></div></div></div>"
      ],
      "text/plain": [
       "<IPython.core.display.HTML object>"
      ]
     },
     "metadata": {},
     "output_type": "display_data"
    },
    {
     "data": {
      "text/html": [
       "<div class=\"result c-container \" data-click=\"{'rsv_bdr':'0' }\" id=\"2\" srcid=\"1599\" tpl=\"se_com_default\"><h3 class=\"t\"><a data-click=\"{\n",
       "\t\t\t'F':'778717EA',\n",
       "\t\t\t'F1':'9D73F164',\n",
       "\t\t\t'F2':'4CA6DE6B',\n",
       "\t\t\t'F3':'54E5243F',\n",
       "\t\t\t'T':'1516024733',\n",
       "\t\t\t\t\t\t'y':'EFB7DFF9'\n",
       "\t\t\t \n",
       "\t\t\t\t\t\t\t\t\t}\" href=\"http://www.baidu.com/link?url=La9aHmv98ABSrhV7Lmw9SjNTqaquVfwyHnk26-fg-qJWpOA1So9hf6KCH2SlctDB\" target=\"_blank\">新版超级玛丽_3kk<em>小游戏</em></a></h3><div class=\"c-abstract\"><em>游戏中</em>,延续那超级玛丽的老剧情,带来新的冒险旅途,赶紧与我们的<em>马里奥</em>踏上这新的<em>蘑菇</em>大陆,开始新的旅途吧,喜欢超级玛丽小游戏的朋友快来挑战吧!如何开始:点击play...</div><div class=\"f13\"><a class=\"c-showurl\" href=\"http://www.baidu.com/link?url=La9aHmv98ABSrhV7Lmw9SjNTqaquVfwyHnk26-fg-qJWpOA1So9hf6KCH2SlctDB\" style=\"text-decoration:none;\" target=\"_blank\">www.3kk.com/special/13... </a><div class=\"c-tools\" data-tools='{\"title\":\"新版超级玛丽_3kk小游戏\",\"url\":\"http://www.baidu.com/link?url=La9aHmv98ABSrhV7Lmw9SjNTqaquVfwyHnk26-fg-qJWpOA1So9hf6KCH2SlctDB\"}' id=\"tools_8686217139169857326_2\"><a class=\"c-tip-icon\"><i class=\"c-icon c-icon-triangle-down-g\"></i></a></div><span class=\"c-icons-outer\"><span class=\"c-icons-inner\"></span></span> - <a class=\"m\" data-click=\"{'rsv_snapshot':'1'}\" href=\"http://cache.baiducontent.com/c?m=9f65cb4a8c8507ed4fece763105392230e54f762658ec7150885ce178e251916163db0e53a211103d2c1767001d8131ab5ae22376a4376b88cbb8b5dadbf85295f9f5634676bf05663d10ed8bf5155c337e15afeae69f0c9f325e3abc5d2af4322be44757d9781884d7616dd6e800347e2b1e83f022e64ad9d3572fe29605f9b3436b450f890251f079681ab4b3dc13da71506e7ad22c13e05b463b36f1a3332a65bb078465736f73e21e8454d13e4ef4a912e6e4153a13eb7aeb1b6fc39fbcb9d458ffbbbb85fe17797cefd8f71550654ed24cebcccc32a134215a9bac962b225bd8afbca4ffe63d1075dca4a06297cba6a8382fe4083644d87e77f8e2235565e1ddfc2638e03671e32bf4e1ca66fcb62b1ff613aabfde98d886536b8eeb464068dbace41&amp;p=882a9e438c8a14bc0be296685a0c&amp;newp=882a9e4387af5ff819aac7710f4792695803ed603cddd101298ffe0cc4241a1a1a3aecbf20201b06d4c67c6301a94b5fedf33574370434f1f689df08d2ecce7e7ee43963315b&amp;user=baidu&amp;fm=sc&amp;query=%A1%B6%C2%ED%C0%EF%B0%C2%A1%B7%CF%B5%C1%D0%D3%CE%CF%B7%D6%D0%C2%ED%C0%EF%B0%C2%B3%D4%C4%C4%D6%D6%D6%B2%CE%EF%BF%C9%D2%D4%CC%E5%BB%FD%B1%E4%B4%F3%3F+%28%C4%A2%B9%BD+%7C+%CD%C1%B6%B9+%7C+%CE%F7%BA%EC%CA%C1%29&amp;qid=ebe35d4c000099a1&amp;p1=2\" target=\"_blank\">百度快照</a></div></div>"
      ],
      "text/plain": [
       "<IPython.core.display.HTML object>"
      ]
     },
     "metadata": {},
     "output_type": "display_data"
    },
    {
     "name": "stdout",
     "output_type": "stream",
     "text": [
      "http://www.baidu.com/s?q1=在战国初期下列哪一个国家未与燕国相邻?&q2=&q3=赵国+楚国+齐国&q4=&rn=50\n"
     ]
    },
    {
     "data": {
      "text/html": [
       "<h2>疑似反向问题!!</h2>"
      ],
      "text/plain": [
       "<IPython.core.display.HTML object>"
      ]
     },
     "metadata": {},
     "output_type": "display_data"
    },
    {
     "name": "stdout",
     "output_type": "stream",
     "text": [
      "question: 在战国初期下列哪一个国家未与燕国相邻?\n",
      "('A', '赵国', 1.7529320729663596)\n",
      "('C', '齐国', 0.9999999999417923)\n",
      "('B', '楚国', 0.00830936839338392)\n"
     ]
    },
    {
     "data": {
      "text/html": [
       "<div class=\"result c-container \" data-click=\"{'rsv_bdr':'0' ,'rsv_cd':'vLevel:1'}\" id=\"1\" srcid=\"1599\" tpl=\"se_com_default\"><h3 class=\"t\"><a data-click=\"{\n",
       "\t\t\t'F':'778717EA',\n",
       "\t\t\t'F1':'9D73F1E4',\n",
       "\t\t\t'F2':'4CA6DE6B',\n",
       "\t\t\t'F3':'54E5243F',\n",
       "\t\t\t'T':'1516024734',\n",
       "\t\t\t\t\t\t'y':'FD5BDDD5'\n",
       "\t\t\t \n",
       "\t\t\t\t\t\t\t\t\t}\" href=\"http://www.baidu.com/link?url=Jb46ZI4vRIkc0Oc7fXILkNNobevg_oRgXd1LOKAKwLVss92nncsnnXp1dmPUJZqiUiOR11KxkWGhr92h8ZYXHraNaWWKqbDr7iNuGhCNcL_\" target=\"_blank\"><em>赵国</em>简史</a></h3><div class=\"c-abstract\"><span class=\" newTimeFactor_before_abs m\">2014年8月12日 - </span>早在赵武灵王之前,中山就依仗<em>齐国</em>的支持,侵略赵地,曾经包围<em>赵国</em>的重地鄗,引水灌城,鄗城几乎不保。赵武灵王即位之后,“中山恃齐、魏而轻赵”,...</div><div class=\"f13\"><a class=\"c-showurl\" href=\"http://www.baidu.com/link?url=Jb46ZI4vRIkc0Oc7fXILkNNobevg_oRgXd1LOKAKwLVss92nncsnnXp1dmPUJZqiUiOR11KxkWGhr92h8ZYXHraNaWWKqbDr7iNuGhCNcL_\" style=\"text-decoration:none;\" target=\"_blank\">www.360doc.com/content... </a><div class=\"c-tools\" data-tools='{\"title\":\"赵国简史 \",\"url\":\"http://www.baidu.com/link?url=Jb46ZI4vRIkc0Oc7fXILkNNobevg_oRgXd1LOKAKwLVss92nncsnnXp1dmPUJZqiUiOR11KxkWGhr92h8ZYXHraNaWWKqbDr7iNuGhCNcL_\"}' id=\"tools_10773859021594343185_1\"><a class=\"c-tip-icon\"><i class=\"c-icon c-icon-triangle-down-g\"></i></a></div><span class=\"c-icons-outer\"><span class=\"c-icons-inner\"><span class=\"c-vline\"></span><span class=\"c-trust-as vstar \" data_key=\"4587693043541246114\" hint-data='{\"label\":\"北京六智信息技术股份有限公司\",\"url\":\"https://www.baidu.com/s?wd=%E5%8C%97%E4%BA%AC%E5%85%AD%E6%99%BA%E4%BF%A1%E6%81%AF%E6%8A%80%E6%9C%AF%E8%82%A1%E4%BB%BD%E6%9C%89%E9%99%90%E5%85%AC%E5%8F%B8@v&amp;vmp_ec=7dbafb25a928d1bf6c1e83c48dB92su3Nk5J0eXX8adMt2925jbY9b49d913z33yc44073dd6b485811&amp;vmp_ectm=1515753634&amp;from=vs\",\"hint\":[{\"txt\":\"[ecard 67]\",\"vlevel\":\"1\"}]}' hint-type=\"vstar\"><a class=\"c-icon c-icon-v c-icon-v1\" data-click=\"{'title':'vstar','rsv_vlevel':'1'}\" href=\"https://www.baidu.com/s?wd=%E5%8C%97%E4%BA%AC%E5%85%AD%E6%99%BA%E4%BF%A1%E6%81%AF%E6%8A%80%E6%9C%AF%E8%82%A1%E4%BB%BD%E6%9C%89%E9%99%90%E5%85%AC%E5%8F%B8@v&amp;vmp_ec=7dbafb25a928d1bf6c1e83c48dB92su3Nk5J0eXX8adMt2925jbY9b49d913z33yc44073dd6b485811&amp;vmp_ectm=1515753634&amp;from=vs&amp;product=v&amp;rsv_dl=0_left_v_1\" target=\"_blank\"></a></span></span></span> - <a class=\"m\" data-click=\"{'rsv_snapshot':'1'}\" href=\"http://cache.baiducontent.com/c?m=9d78d513d9d437a94f9be7690c66c0101e43f0152ba7db020ba78449e3732b405012e4ac56260772a0d27d1716de3d4b9bf02103341456b58cc9f85dacbd8559299f2644676a865662a30eaebb5155cb37e45efeae69f0cafb25e7ddc5a3ae4325ca44040a9781fc4d7012dd6e800347e2b1ee38025e60ad9b3372885b6028ef3430bd508d93256f779687a94b3bc13da16206e1dc22b04f05c314b3691d3334ab5bc57b462641f73f26e8304a13e2e04a93596e4052a139b7aeb6c6fc3887cb9e428cbd8bf120cf26a087fdf8025f6d17bf60a9abcab33966135f88ddde61956fe3e7bde710af438b5641b95b6b2d61cd6b89818c4af86859f7e36ee92e56202a09dfb573fb76777831df7f42f7409e&amp;p=996dcd15d9c341af09be9b7c4f4498&amp;newp=cb769a4795921cbe11bd9b7e0d1690231610db2151d7d7146b82c825d7331b001c3bbfb42325120fd4c67a670bac485bedf2317135012ba3dda5c91d9fb4c57479cb76696155&amp;user=baidu&amp;fm=sc&amp;query=%D4%DA%D5%BD%B9%FA%B3%F5%C6%DA%CF%C2%C1%D0%C4%C4%D2%BB%B8%F6%B9%FA%BC%D2%CE%B4%D3%EB%D1%E0%B9%FA%CF%E0%C1%DA%3F+%28%D5%D4%B9%FA+%7C+%B3%FE%B9%FA+%7C+%C6%EB%B9%FA%29&amp;qid=f3555c6b0000b374&amp;p1=1\" target=\"_blank\">百度快照</a></div></div>"
      ],
      "text/plain": [
       "<IPython.core.display.HTML object>"
      ]
     },
     "metadata": {},
     "output_type": "display_data"
    },
    {
     "data": {
      "text/html": [
       "<div class=\"result c-container \" data-click=\"{'rsv_bdr':'0' ,'rsv_cd':'vLevel:3'}\" id=\"2\" srcid=\"1530\" tpl=\"se_com_default\"><h3 class=\"t\"><a data-click=\"{\n",
       "\t\t\t'F':'778717EA',\n",
       "\t\t\t'F1':'9D73F1E4',\n",
       "\t\t\t'F2':'48A6DE6B',\n",
       "\t\t\t'F3':'54E5243F',\n",
       "\t\t\t'T':'1516024734',\n",
       "\t\t\t\t\t\t'y':'C5B3FFBF'\n",
       "\t\t\t \n",
       "\t\t\t\t\t\t\t\t\t}\" href=\"http://www.baidu.com/link?url=dfhQOrr2qrPXJOnrRpL7IZMfbEvhiU4VX-EwgVIHsB4Omf0RpZoiLV-7h4IecC_R5AjXM-SylBfrPKri13EoNg2As_q3xLxm81wZr0STsiu\" target=\"_blank\"><em>赵国</em>_楚简王吧_百度贴吧</a></h3><div class=\"c-abstract\">早在赵武灵王之前,中山就依仗<em>齐国</em>的支持,侵略赵地,曾经包围<em>赵国</em>的重地鄗,引水灌城,鄗城几乎不保。赵武灵王即位之后,“中山恃齐、魏而轻赵”,多次<em>与</em>赵发生...</div><div class=\"f13\"><a class=\"c-showurl\" href=\"http://www.baidu.com/link?url=dfhQOrr2qrPXJOnrRpL7IZMfbEvhiU4VX-EwgVIHsB4Omf0RpZoiLV-7h4IecC_R5AjXM-SylBfrPKri13EoNg2As_q3xLxm81wZr0STsiu\" style=\"text-decoration:none;\" target=\"_blank\">tieba.baidu.com/p/1456... </a><div class=\"c-tools\" data-tools='{\"title\":\"赵国_楚简王吧_百度贴吧\",\"url\":\"http://www.baidu.com/link?url=dfhQOrr2qrPXJOnrRpL7IZMfbEvhiU4VX-EwgVIHsB4Omf0RpZoiLV-7h4IecC_R5AjXM-SylBfrPKri13EoNg2As_q3xLxm81wZr0STsiu\"}' id=\"tools_8766211629566860448_2\"><a class=\"c-tip-icon\"><i class=\"c-icon c-icon-triangle-down-g\"></i></a></div><span class=\"c-icons-outer\"><span class=\"c-icons-inner\"><span class=\"c-vline\"></span><span class=\"c-trust-as vstar \" data_key=\"7706407786847786660\" hint-data='{\"label\":\"北京百度网讯科技有限公司\",\"url\":\"https://www.baidu.com/s?wd=%E5%8C%97%E4%BA%AC%E7%99%BE%E5%BA%A6%E7%BD%91%E8%AE%AF%E7%A7%91%E6%8A%80%E6%9C%89%E9%99%90%E5%85%AC%E5%8F%B8@v&amp;vmp_ec=13f076d0f55c5aa758d190c97a33fQJmN1R0hdRbZaJdc3m==610fcbdpva4LsWhLcJWdd1X35X10c6e6d0581b2&amp;vmp_ectm=1516009840&amp;from=vs\",\"hint\":[{\"txt\":\"[ecard 119]\",\"vlevel\":\"3\"}]}' hint-type=\"vstar\"><a class=\"c-icon c-icon-v c-icon-v3\" data-click=\"{'title':'vstar','rsv_vlevel':'3'}\" href=\"https://www.baidu.com/s?wd=%E5%8C%97%E4%BA%AC%E7%99%BE%E5%BA%A6%E7%BD%91%E8%AE%AF%E7%A7%91%E6%8A%80%E6%9C%89%E9%99%90%E5%85%AC%E5%8F%B8@v&amp;vmp_ec=13f076d0f55c5aa758d190c97a33fQJmN1R0hdRbZaJdc3m==610fcbdpva4LsWhLcJWdd1X35X10c6e6d0581b2&amp;vmp_ectm=1516009840&amp;from=vs&amp;product=v&amp;rsv_dl=0_left_v_3\" target=\"_blank\"></a></span></span></span></div><div class=\"c-offset\"><table class=\"subLink_factory subLink_factory_right\"><tr><td class=\"first c-default \"><a href=\"http://www.baidu.com/link?url=_a4gUF-gfQkMp_bTtbAQkPobbii0dvH5HAfexov8Ikc1ev44KTVG12ngnbouWiD8\" target=\"_blank\">我收集的<em>赵国</em>资料..._<em>赵国</em>吧</a></td><td class=\"middle c-default \"></td><td class=\"last c-default rightTd\"></td></tr></table><a class=\"c\" href=\"http://www.baidu.com/link?url=p7VVVVKT79L214p09JYe1E4tdrdM-F8rsTfmbmu1jKKwxnhZo0sU-wRHQQu-1fD4WvGjFKpTbPZ5vi106dOk5_g7edZzC6l5wT65bgGSuhf7LGcO4P3rgd_rFhgVe0mNO0sQfIINyc8QuGQk1vdo0MuMGlI8WC1UMnoU9BVlb3rvKhmLemLlXmWVSwbgyDgromnXP3eLZXFAfEPAg4f-e0CrU3guDaNDdXS15qlqMUwB3HPszpf3ImQ_IxMrbzPxmDguqyAe-_JXoQnWOO98U1m3uArb9z4nDR8JEFGL45Cm-zotvmAN75biTqh-Wv2-0TUPac-FvHcoxZ3PR3SIv3IctaW6TgogosDx4E4KwBIBhNO95MS3uwzjLRhNznV05q8DLbKM4X4qRBwEV-pFsE1aEC0NNvFQVvfIuoU61P3\" target=\"_blank\">更多贴吧相关帖子&gt;&gt;</a></div></div>"
      ],
      "text/plain": [
       "<IPython.core.display.HTML object>"
      ]
     },
     "metadata": {},
     "output_type": "display_data"
    },
    {
     "name": "stdout",
     "output_type": "stream",
     "text": [
      "http://www.baidu.com/s?q1=吴承恩所著的《西游记》中牛魔王会多少种变化?&q2=&q3=36种+64种+72种&q4=&rn=50\n",
      "question: 吴承恩所著的《西游记》中牛魔王会多少种变化?\n",
      "('A', '36种', 1.149935007095337)\n",
      "('C', '72种', 0.31249999161809683)\n",
      "('B', '64种', 0.1328125149011612)\n"
     ]
    },
    {
     "data": {
      "text/html": [
       "<div class=\"result c-container \" data-click=\"{'rsv_bdr':'0' }\" id=\"1\" srcid=\"1599\" tpl=\"se_com_default\"><h3 class=\"t\"><a data-click=\"{\n",
       "\t\t\t'F':'778717EA',\n",
       "\t\t\t'F1':'9D63F1E4',\n",
       "\t\t\t'F2':'4CA6DE6B',\n",
       "\t\t\t'F3':'54E5243F',\n",
       "\t\t\t'T':'1516024736',\n",
       "\t\t\t\t\t\t'y':'FEDDFB9F'\n",
       "\t\t\t \n",
       "\t\t\t\t\t\t\t\t\t}\" href=\"http://www.baidu.com/link?url=-Nb0RmPWtCKuf--jqXmh84OtcsUEfqPCHsHxxg3Op7m_-h6ThofDdQqt35Z20g0BxEFfuJpl3b-9Hu2PHwhJZTEjIDQI_l8LPfvJbOooBiG\" target=\"_blank\">百万英雄刚刚两道最难的问题,你答对了吗?附今晚各场问题答案</a></h3><div class=\"c-row c-gap-top-small\"><div class=\"general_image_pic c-span6\"><a class=\"c-img6\" href=\"http://www.baidu.com/link?url=-Nb0RmPWtCKuf--jqXmh84OtcsUEfqPCHsHxxg3Op7m_-h6ThofDdQqt35Z20g0BxEFfuJpl3b-9Hu2PHwhJZTEjIDQI_l8LPfvJbOooBiG\" style=\"height:75px\" target=\"_blank\"><img class=\"c-img c-img6\" src=\"http://t11.baidu.com/it/u=2105326867,1003372249&amp;fm=96&amp;s=4392E32A5645DEA82DCD05530200C0BE&amp;w=121&amp;h=75&amp;img.JPEG\" style=\"height:75px;\"/></a></div><div class=\"c-span18 c-span-last\"><div class=\"c-abstract\">7. <em>吴承恩所著的《西游记》中</em>,<em>牛魔王会多少种变化?</em> 答案:<em>36种</em> 8. 在红外线,可见光,紫外线之中,谁的波长最长? 答案:红外线 9. 第一届“重建国际奥林匹克运...</div><div class=\"f13\"><a class=\"c-showurl\" href=\"http://www.baidu.com/link?url=-Nb0RmPWtCKuf--jqXmh84OtcsUEfqPCHsHxxg3Op7m_-h6ThofDdQqt35Z20g0BxEFfuJpl3b-9Hu2PHwhJZTEjIDQI_l8LPfvJbOooBiG\" style=\"text-decoration:none;\" target=\"_blank\">https://baijiahao.baidu.com/s?... </a><div class=\"c-tools\" data-tools='{\"title\":\"百万英雄刚刚两道最难的问题,你答对了吗?附今晚各场问题答案\",\"url\":\"http://www.baidu.com/link?url=-Nb0RmPWtCKuf--jqXmh84OtcsUEfqPCHsHxxg3Op7m_-h6ThofDdQqt35Z20g0BxEFfuJpl3b-9Hu2PHwhJZTEjIDQI_l8LPfvJbOooBiG\"}' id=\"tools_13047437373670129174_1\"><a class=\"c-tip-icon\"><i class=\"c-icon c-icon-triangle-down-g\"></i></a></div><span class=\"c-icons-outer\"><span class=\"c-icons-inner\"></span></span> - <a class=\"m\" data-click=\"{'rsv_snapshot':'1'}\" href=\"http://cache.baiducontent.com/c?m=9d78d513d9d430d84f9a94697d17c0101b43f0672ba3d5027ea48439e3732f4a506793ac51260770d9d27d1716df4e4b9bf62173471453b48cb88c5ddccb8559589f5331676a875663a40edfba5154c437912afedc1af0caf52592dec5a5db4325c844040a97818c4d7315dd1ef60342e6b1e83e022b17adec40728f29605e9c3441c65089e42519059687d64b3ac83dd11106e1ab22c63a05b463b36f183333a65bc178465544f74f56fe402a05e2fc2be33d0f4434b639b7bfd6b79b5ffad8fd479cedcbde2a9577e7b5fd8f75550656ee62fef5b2e87b220743cecbad0bd962efa1b4e11fb3478a075ccd0d25743d897c94f5de0aad7f1be3e61ca57f35275e09d8b97ffb75736a34a9381bb618c677b58e7c5cdceed8dcdf0244d9d8872821a9eda842b3395363fb2634549d&amp;p=c63dc115d9c445f809be9b7c5300&amp;newp=833ef915d9c445b902be9b7c530892695912c10e3ad1c44324b9d71fd325001c1b69e3b823281603d4c6786c15e9241dbdb239256b5536ed&amp;user=baidu&amp;fm=sc&amp;query=%CE%E2%B3%D0%B6%F7%CB%F9%D6%F8%B5%C4%A1%B6%CE%F7%D3%CE%BC%C7%A1%B7%D6%D0%C5%A3%C4%A7%CD%F5%BB%E1%B6%E0%C9%D9%D6%D6%B1%E4%BB%AF%3F+%2836%D6%D6+%7C+64%D6%D6+%7C+72%D6%D6%29&amp;qid=c6d0b77c00008a93&amp;p1=1\" target=\"_blank\">百度快照</a></div></div></div></div>"
      ],
      "text/plain": [
       "<IPython.core.display.HTML object>"
      ]
     },
     "metadata": {},
     "output_type": "display_data"
    },
    {
     "data": {
      "text/html": [
       "<div class=\"result c-container \" data-click=\"{'rsv_bdr':'0' ,'rsv_cd':'vLevel:1'}\" id=\"2\" srcid=\"1599\" tpl=\"se_com_default\"><h3 class=\"t\"><a data-click=\"{\n",
       "\t\t\t'F':'778717EA',\n",
       "\t\t\t'F1':'9D73F1E4',\n",
       "\t\t\t'F2':'4CA6DE6B',\n",
       "\t\t\t'F3':'54E5242F',\n",
       "\t\t\t'T':'1516024736',\n",
       "\t\t\t\t\t\t'y':'F7BEF8F7'\n",
       "\t\t\t \n",
       "\t\t\t\t\t\t\t\t\t}\" href=\"http://www.baidu.com/link?url=jzrDuEI7jtQrXQGYh5jFv-SnC3aIYMTXo2CTMxNZ35OFbqk_ruzeu5uVCT2HasFF7pdlAchikw_wrvFxUXreMK\" target=\"_blank\"><em>牛魔王</em>在妖精中算什么档次<em>的?</em> - 知乎</a></h3><div class=\"c-row c-gap-top-small\"><div class=\"general_image_pic c-span6\"><a class=\"c-img6\" href=\"http://www.baidu.com/link?url=jzrDuEI7jtQrXQGYh5jFv-SnC3aIYMTXo2CTMxNZ35OFbqk_ruzeu5uVCT2HasFF7pdlAchikw_wrvFxUXreMK\" style=\"height:75px\" target=\"_blank\"><img class=\"c-img c-img6\" src=\"http://i7.baidu.com/it/u=1314749586,2825891287&amp;fm=85&amp;s=4CB812D5462177159A052DE903007036\" style=\"height:75px;\"/></a></div><div class=\"c-span18 c-span-last\"><div class=\"c-abstract\"><span class=\" newTimeFactor_before_abs m\">2017年7月2日 - </span>孙悟空结拜的这六个大哥,其他<em>几个</em>的身份其实并不清楚,刚开始看的时候我以为鹏<em>魔王</em>和狮驼王是狮驼岭上手眼通天和<em>西游记</em>里黑道势力最大的狮驼岭三妖,但是实际上不是...</div><div class=\"f13\"><a class=\"c-showurl\" href=\"http://www.baidu.com/link?url=jzrDuEI7jtQrXQGYh5jFv-SnC3aIYMTXo2CTMxNZ35OFbqk_ruzeu5uVCT2HasFF7pdlAchikw_wrvFxUXreMK\" style=\"text-decoration:none;\" target=\"_blank\">https://www.zhihu.com/question... </a><div class=\"c-tools\" data-tools='{\"title\":\"牛魔王在妖精中算什么档次的? - 知乎\",\"url\":\"http://www.baidu.com/link?url=jzrDuEI7jtQrXQGYh5jFv-SnC3aIYMTXo2CTMxNZ35OFbqk_ruzeu5uVCT2HasFF7pdlAchikw_wrvFxUXreMK\"}' id=\"tools_4905155072734825802_2\"><a class=\"c-tip-icon\"><i class=\"c-icon c-icon-triangle-down-g\"></i></a></div><span class=\"c-icons-outer\"><span class=\"c-icons-inner\"><span class=\"c-vline\"></span><span class=\"c-trust-as vstar \" data_key=\"12397541887370352527\" hint-data='{\"label\":\"北京智者天下科技有限公司\",\"url\":\"https://www.baidu.com/s?wd=%E5%8C%97%E4%BA%AC%E6%99%BA%E8%80%85%E5%A4%A9%E4%B8%8B%E7%A7%91%E6%8A%80%E6%9C%89%E9%99%90%E5%85%AC%E5%8F%B8@v&amp;vmp_ec=77863858239d2a9008e767332Gd05567ec0a136ebdo=0714b2ajedSycXlad05b3s31XJd279b14a47&amp;vmp_ectm=1516022529&amp;from=vs\",\"hint\":[{\"txt\":\"[ecard 72]\",\"vlevel\":\"1\"}]}' hint-type=\"vstar\"><a class=\"c-icon c-icon-v c-icon-v1\" data-click=\"{'title':'vstar','rsv_vlevel':'1'}\" href=\"https://www.baidu.com/s?wd=%E5%8C%97%E4%BA%AC%E6%99%BA%E8%80%85%E5%A4%A9%E4%B8%8B%E7%A7%91%E6%8A%80%E6%9C%89%E9%99%90%E5%85%AC%E5%8F%B8@v&amp;vmp_ec=77863858239d2a9008e767332Gd05567ec0a136ebdo=0714b2ajedSycXlad05b3s31XJd279b14a47&amp;vmp_ectm=1516022529&amp;from=vs&amp;product=v&amp;rsv_dl=0_left_v_1\" target=\"_blank\"></a></span></span></span> - <a class=\"m\" data-click=\"{'rsv_snapshot':'1'}\" href=\"http://cache.baiducontent.com/c?m=9d78d513d9d430d84f9a94697d17c0101b43f0672ba3d5027ea48439e3732f4a506793ac51260770d9d27d1716df4e4b9bf62173471453b48cb88c5ddccb8559589f5331676a875663a40edfba5154c437912afedc1af0caf52592dec5a5db4325c844040a97818c4d7315dd1ef60342e6b1e83e022b17adec40728f29605e9c3441c65089e42519059687d64b3ac83dd11106e1ab22c63a05b463b36f183333a65bc178465544f74f56fe402a05e2fc2be33d0f4434b639b7bfd6b79b5ffad8fd479cedcbde2a9577e7b5fd8f75550656ee62fef5b2e87b220743cecbad0bd977f9bffbba3ba14e8c4a1bad5d017e369176d7c5d816b43907a8fa68fd2b28252f08d9&amp;p=c63dc115d9c341ad0fbcc7710f48c1&amp;newp=833ef915d9c341ad4eb7c7710f48c9231610db2151d7d6146b82c825d7331b001c3bbfb42325120fd4c67a670bac485bedf2317135012ba3dda5c91d9fb4c574799e7d&amp;user=baidu&amp;fm=sc&amp;query=%CE%E2%B3%D0%B6%F7%CB%F9%D6%F8%B5%C4%A1%B6%CE%F7%D3%CE%BC%C7%A1%B7%D6%D0%C5%A3%C4%A7%CD%F5%BB%E1%B6%E0%C9%D9%D6%D6%B1%E4%BB%AF%3F+%2836%D6%D6+%7C+64%D6%D6+%7C+72%D6%D6%29&amp;qid=c6d0b77c00008a93&amp;p1=2\" target=\"_blank\">百度快照</a></div></div></div></div>"
      ],
      "text/plain": [
       "<IPython.core.display.HTML object>"
      ]
     },
     "metadata": {},
     "output_type": "display_data"
    }
   ],
   "source": [
    "with open('questions.txt','r') as f:\n",
    "    i = 0\n",
    "    for line in f:\n",
    "        question, opt_a, opt_b, opt_c = map(lambda s:s.strip(), line.split(','))\n",
    "        search_ans(question, opt_a, opt_b, opt_c)\n",
    "        time.sleep(1)\n",
    "        i += 1\n",
    "        if i > 5:\n",
    "            break"
   ]
  },
  {
   "cell_type": "code",
   "execution_count": null,
   "metadata": {
    "collapsed": true
   },
   "outputs": [],
   "source": []
  }
 ],
 "metadata": {
  "kernelspec": {
   "display_name": "Python 3",
   "language": "python",
   "name": "python3"
  },
  "language_info": {
   "codemirror_mode": {
    "name": "ipython",
    "version": 3
   },
   "file_extension": ".py",
   "mimetype": "text/x-python",
   "name": "python",
   "nbconvert_exporter": "python",
   "pygments_lexer": "ipython3",
   "version": "3.6.3"
  }
 },
 "nbformat": 4,
 "nbformat_minor": 2
}
