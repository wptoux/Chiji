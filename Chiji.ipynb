{
 "cells": [
  {
   "cell_type": "code",
   "execution_count": 1,
   "metadata": {
    "collapsed": true
   },
   "outputs": [],
   "source": [
    "import PIL\n",
    "import subprocess\n",
    "import re\n",
    "import os\n",
    "import time\n",
    "import io"
   ]
  },
  {
   "cell_type": "code",
   "execution_count": 2,
   "metadata": {
    "collapsed": true
   },
   "outputs": [],
   "source": [
    "def capture_img():\n",
    "    subprocess.call('.\\\\adb\\\\adb shell /system/bin/screencap -p /sdcard/screenshot.png')\n",
    "    time.sleep(0.1)\n",
    "    subprocess.call('.\\\\adb\\\\adb pull /sdcard/screenshot.png %s' % './tmp/screenshot.png')\n",
    "    time.sleep(0.1)\n",
    "\n",
    "    im = PIL.Image.open('./tmp/screenshot.png')\n",
    "    im = im.convert('RGB').crop((0,300,1080,600))\n",
    "#     im.thumbnail((150,720))\n",
    "    im.save('./tmp/screenshot.jpg')\n",
    "\n",
    "    with open('./tmp/screenshot.jpg', 'rb') as fp:\n",
    "        return fp.read()"
   ]
  },
  {
   "cell_type": "code",
   "execution_count": 3,
   "metadata": {
    "collapsed": true
   },
   "outputs": [],
   "source": [
    "%run aip_key.py"
   ]
  },
  {
   "cell_type": "code",
   "execution_count": 4,
   "metadata": {},
   "outputs": [],
   "source": [
    "from aip import AipOcr\n",
    "\n",
    "client = AipOcr(APP_ID, API_KEY, SECRET_KEY)"
   ]
  },
  {
   "cell_type": "code",
   "execution_count": 5,
   "metadata": {
    "collapsed": true
   },
   "outputs": [],
   "source": [
    "def search_ans():\n",
    "    image = capture_img()\n",
    "\n",
    "    print('Parsing pic...')\n",
    "    rst = client.basicGeneral(image)\n",
    "\n",
    "    question = ''.join([p['words'] for p in rst['words_result']])\n",
    "\n",
    "    if question != None and question != '':\n",
    "#         question = question.split('.')[1]\n",
    "\n",
    "        qs = re.split(r\"\\.|,|。|，\",question)\n",
    "        if len(qs) > 1:\n",
    "            question = ''.join(qs[1:])\n",
    "        print('question:', question)\n",
    "                \n",
    "#         os.system('start www.baidu.com/s?wd=%s' % question)\n",
    "        os.system('start www.google.com/search?q=%s' % question)\n",
    "\n",
    "    else:\n",
    "        print('No question found!')"
   ]
  },
  {
   "cell_type": "code",
   "execution_count": null,
   "metadata": {},
   "outputs": [
    {
     "name": "stdout",
     "output_type": "stream",
     "text": [
      "\n",
      "Parsing pic...\n",
      "question: “岁寒三友”不包括下面哪项?\n",
      "\n",
      "Parsing pic...\n",
      "question: 我国著名的革命根据地延安位于哪个省?\n",
      "\n",
      "Parsing pic...\n",
      "question: 以下哪个运动员和林丹是同个项目的?\n",
      "\n",
      "Parsing pic...\n",
      "question: 苏东坡是个吃货但是宋朝的他吃不到下列哪种食物?\n",
      "\n",
      "Parsing pic...\n",
      "question: 钢笔写字时常会碰到堵笔现象请问墨水残留物主要是由下列哪个化学式组成的?\n",
      "\n",
      "Parsing pic...\n",
      "question: “雄关漫道真如铁\"这句诗中的“漫道”是什么意思?\n"
     ]
    }
   ],
   "source": [
    "while True:\n",
    "    ipt = input()\n",
    "    if ipt == 'q':\n",
    "        break\n",
    "    else:\n",
    "        search_ans()"
   ]
  }
 ],
 "metadata": {
  "kernelspec": {
   "display_name": "Python 3",
   "language": "python",
   "name": "python3"
  },
  "language_info": {
   "codemirror_mode": {
    "name": "ipython",
    "version": 3
   },
   "file_extension": ".py",
   "mimetype": "text/x-python",
   "name": "python",
   "nbconvert_exporter": "python",
   "pygments_lexer": "ipython3",
   "version": "3.6.3"
  }
 },
 "nbformat": 4,
 "nbformat_minor": 2
}
