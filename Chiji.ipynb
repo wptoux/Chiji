{
 "cells": [
  {
   "cell_type": "code",
   "execution_count": 1,
   "metadata": {},
   "outputs": [],
   "source": [
    "import PIL\n",
    "import subprocess\n",
    "import re\n",
    "import os\n",
    "import time\n",
    "import io\n",
    "import cv2\n",
    "import requests\n",
    "import bs4\n",
    "import jieba\n",
    "import jieba.analyse"
   ]
  },
  {
   "cell_type": "code",
   "execution_count": 2,
   "metadata": {
    "collapsed": true
   },
   "outputs": [],
   "source": [
    "def capture_img():\n",
    "    subprocess.call('.\\\\adb\\\\adb shell /system/bin/screencap -p /sdcard/screenshot.png')\n",
    "    time.sleep(0.1)\n",
    "    subprocess.call('.\\\\adb\\\\adb pull /sdcard/screenshot.png %s' % './tmp/screenshot.png')\n",
    "    time.sleep(0.1)\n",
    "    \n",
    "    return cv2.imread('./tmp/screenshot.png')"
   ]
  },
  {
   "cell_type": "code",
   "execution_count": 3,
   "metadata": {
    "collapsed": true
   },
   "outputs": [],
   "source": [
    "%run aip_key.py"
   ]
  },
  {
   "cell_type": "code",
   "execution_count": 4,
   "metadata": {
    "collapsed": true
   },
   "outputs": [],
   "source": [
    "from aip import AipOcr\n",
    "\n",
    "client = AipOcr(APP_ID, API_KEY, SECRET_KEY)"
   ]
  },
  {
   "cell_type": "code",
   "execution_count": 5,
   "metadata": {
    "collapsed": true
   },
   "outputs": [],
   "source": [
    "def ocr(im, region):\n",
    "    im = im[region[0]:region[1],region[2]:region[3],:]\n",
    "    \n",
    "    rst, byte_arr = cv2.imencode('.jpg',im,[int(cv2.IMWRITE_JPEG_QUALITY), 90])\n",
    "    \n",
    "    rst = client.basicGeneral(byte_arr.tobytes())\n",
    "\n",
    "    s = ''.join([p['words'] for p in rst['words_result']])\n",
    "\n",
    "    if s != None and s != '':\n",
    "        if re.match(r\"^A|B|C|\\d+\\.|,|。|，\", s) != None:\n",
    "            ss = re.split(r\"\\.|,|。|，\",s)\n",
    "            if len(ss) > 1:\n",
    "                s = ''.join(ss[1:])\n",
    "            \n",
    "        return s\n",
    "    return ''"
   ]
  },
  {
   "cell_type": "code",
   "execution_count": 6,
   "metadata": {
    "collapsed": true
   },
   "outputs": [],
   "source": [
    "def go_search(s, engine='google'):\n",
    "    if engine == 'google':\n",
    "        os.system('start www.google.com/search?q=%s' % s)\n",
    "    elif engine == 'baidu':\n",
    "        os.system('start www.baidu.com/s?wd=%s' % s)"
   ]
  },
  {
   "cell_type": "code",
   "execution_count": 7,
   "metadata": {
    "collapsed": true
   },
   "outputs": [],
   "source": [
    "def search(question):\n",
    "    rst = requests.get('http://www.baidu.com/s?wd=%s' % question)\n",
    "    rst.encoding = 'utf-8'\n",
    "    search_rst = rst.text\n",
    "    \n",
    "    soup = bs4.BeautifulSoup(search_rst, 'html.parser')\n",
    "    rst = soup.select('div#content_left')[0]\n",
    "    return rst.text"
   ]
  },
  {
   "cell_type": "code",
   "execution_count": 8,
   "metadata": {},
   "outputs": [],
   "source": [
    "def occur_count(s,words):\n",
    "    n = 0\n",
    "    for word in words:\n",
    "        n += len(re.findall(word, s))\n",
    "    return n"
   ]
  },
  {
   "cell_type": "code",
   "execution_count": 9,
   "metadata": {
    "collapsed": true
   },
   "outputs": [],
   "source": [
    "def keywords(question, opt_a, opt_b, opt_c):\n",
    "    quest_words = jieba.analyse.extract_tags(question, allowPOS=['n','nr','ns','nt','nz','nl','ng'])\n",
    "    opt_words = jieba.analyse.extract_tags(' '.join([opt_a,opt_b,opt_c]), allowPOS=['n','nr','ns','nt','nz','nl','ng'])\n",
    "    words = quest_words + opt_words\n",
    "    return words"
   ]
  },
  {
   "cell_type": "code",
   "execution_count": 16,
   "metadata": {
    "scrolled": false
   },
   "outputs": [],
   "source": [
    "def search_ans():\n",
    "    im = capture_img()\n",
    "    print('Parsing pic...')\n",
    "    question = ocr(im,(300,600,0,1080))\n",
    "\n",
    "    if question != '':\n",
    "        opt_a = ocr(im,(655,815,0,1080))\n",
    "        opt_b = ocr(im,(845,1005,0,1080))\n",
    "        opt_c = ocr(im,(1035,1200,0,1080))\n",
    "\n",
    "        quest_words = list(map(lambda p:p.word, filter(lambda p:p.flag.startswith('n'), \n",
    "                                                 jieba.posseg.cut(question))))\n",
    "\n",
    "        opts = [opt_a, opt_b, opt_c]\n",
    "        opt_words = []\n",
    "        for opt in opts:\n",
    "            opt_words.append(list(map(lambda p:p.word, filter(lambda p:p.flag.startswith('n'), \n",
    "                                                 jieba.posseg.cut(opt)))))\n",
    "\n",
    "        rst = search(question)\n",
    "        time.sleep(0.1)\n",
    "        rst += search('%20'.join(quest_words))\n",
    "\n",
    "        opt_cnt = []\n",
    "        for i, opt_w in enumerate(opt_words):\n",
    "            opt_cnt.append(occur_count(rst, opt_w))\n",
    "\n",
    "\n",
    "        ans = [('A',opt_a,opt_cnt[0]),\n",
    "              ('B',opt_b,opt_cnt[1]),\n",
    "              ('C',opt_c,opt_cnt[2])]\n",
    "\n",
    "        print('question:', question)\n",
    "        for p in sorted(ans, key=lambda p:p[2]):\n",
    "            print(p)\n",
    "\n",
    "        go_search(question)\n",
    "\n",
    "    else:\n",
    "        print('No question found!')"
   ]
  },
  {
   "cell_type": "code",
   "execution_count": 17,
   "metadata": {},
   "outputs": [
    {
     "name": "stdout",
     "output_type": "stream",
     "text": [
      "\n",
      "Parsing pic...\n",
      "question: 毛泽东在自己的词作《沁园春雪》中没有提到哪位英雄?\n",
      "('A', '嬴政1.04万', 0)\n",
      "('B', '刘彻3.84万', 0)\n",
      "('C', '刘邦4.98万', 0)\n",
      "q\n"
     ]
    }
   ],
   "source": [
    "while True:\n",
    "    ipt = input()\n",
    "    if ipt == 'q':\n",
    "        break\n",
    "    else:\n",
    "        search_ans()"
   ]
  }
 ],
 "metadata": {
  "kernelspec": {
   "display_name": "Python 3",
   "language": "python",
   "name": "python3"
  },
  "language_info": {
   "codemirror_mode": {
    "name": "ipython",
    "version": 3
   },
   "file_extension": ".py",
   "mimetype": "text/x-python",
   "name": "python",
   "nbconvert_exporter": "python",
   "pygments_lexer": "ipython3",
   "version": "3.6.3"
  }
 },
 "nbformat": 4,
 "nbformat_minor": 2
}
