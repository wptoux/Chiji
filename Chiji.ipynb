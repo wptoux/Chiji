{
 "cells": [
  {
   "cell_type": "code",
   "execution_count": 44,
   "metadata": {
    "collapsed": true
   },
   "outputs": [],
   "source": [
    "import PIL\n",
    "import subprocess\n",
    "import re\n",
    "import os\n",
    "import time\n",
    "import io\n",
    "import cv2\n",
    "import requests\n",
    "import bs4\n",
    "import jieba\n",
    "import jieba.analyse\n",
    "from IPython.display import display, HTML\n",
    "import json\n",
    "\n",
    "import pandas as pd\n",
    "import sqlite3"
   ]
  },
  {
   "cell_type": "code",
   "execution_count": 2,
   "metadata": {
    "collapsed": true
   },
   "outputs": [],
   "source": [
    "%run key.py"
   ]
  },
  {
   "cell_type": "code",
   "execution_count": 3,
   "metadata": {
    "collapsed": true
   },
   "outputs": [],
   "source": [
    "from aip import AipOcr\n",
    "\n",
    "client = AipOcr(AIP_APP_ID, AIP_API_KEY, AIP_SECRET_KEY)"
   ]
  },
  {
   "cell_type": "code",
   "execution_count": 19,
   "metadata": {
    "collapsed": true
   },
   "outputs": [],
   "source": [
    "def capture_img():\n",
    "    subprocess.call('.\\\\adb\\\\adb shell /system/bin/screencap -p /sdcard/screenshot.png')\n",
    "    time.sleep(0.1)\n",
    "    subprocess.call('.\\\\adb\\\\adb pull /sdcard/screenshot.png %s' % './tmp/screenshot.png')\n",
    "    time.sleep(0.1)\n",
    "    \n",
    "    return cv2.imread('./tmp/screenshot.png')\n",
    "\n",
    "\n",
    "def get_text_in_region(aip_rst, region):\n",
    "    s = ''\n",
    "    if 'words_result' in aip_rst:\n",
    "        words = []\n",
    "        for p in aip_rst['words_result']:\n",
    "            loc = p['location']\n",
    "            if loc['top'] > region[0] and loc['top'] + loc['height'] < region[1] \\\n",
    "                and loc['left'] > region[2] and loc['left'] + loc['width'] < region[3]:\n",
    "                if loc['left'] < 1080 / 2: # only get words that starts from left\n",
    "                    words.append(p['words'])\n",
    "        s = ''.join(words)\n",
    "        \n",
    "    if s != '':\n",
    "        # remove heading, like 1. A. B.\n",
    "        if re.match(r\"^A|B|C|\\d+\\.|,|。|，\", s) != None: \n",
    "            ss = re.split(r\"\\.|,|。|，\",s)\n",
    "            if len(ss) > 1:\n",
    "                s = ''.join(ss[1:])\n",
    "            \n",
    "    return s\n",
    "\n",
    "def ocr(im, regions):\n",
    "    _, byte_arr = cv2.imencode('.jpg', im, [int(cv2.IMWRITE_JPEG_QUALITY), 90])\n",
    "    aip_rst = client.general(byte_arr.tobytes())\n",
    "    return [get_text_in_region(aip_rst, region) for region in regions]\n",
    "\n",
    "\n",
    "def go_search(s, engine='google'):\n",
    "    if engine == 'google':\n",
    "        os.system('start www.google.com/search?q=%s' % s)\n",
    "    elif engine == 'baidu':\n",
    "        os.system('start www.baidu.com/s?wd=%s' % s)\n",
    "\n",
    "def search(question):\n",
    "    rst = requests.get('http://www.baidu.com/s?wd=%s&rn=50' % question)\n",
    "    rst.encoding = 'utf-8'\n",
    "    search_rst = rst.text\n",
    "    \n",
    "    soup = bs4.BeautifulSoup(search_rst, 'html.parser')\n",
    "    rst = soup.select('div#content_left')[0]\n",
    "    return rst.text\n",
    "\n",
    "def search_advanced(question_words, opt_words, return_string=True, engine='baidu'):\n",
    "    '''\n",
    "    Advanced search\n",
    "    question_words: list of words of the question\n",
    "    opt_words: list of list of words of the options\n",
    "    '''\n",
    "    all_opt_words = []\n",
    "    \n",
    "#     for words in opt_words:\n",
    "#         all_opt_words += words\n",
    "        \n",
    "#     all_opt_words = list(set(all_opt_words))\n",
    "    \n",
    "    if engine == 'baidu':\n",
    "        url = 'http://www.baidu.com/s?q1=%s&q2=&q3=%s&q4=&rn=50' % (\n",
    "            '+'.join(question_words),\n",
    "            '+'.join(all_opt_words))\n",
    "        rst = requests.get(url)\n",
    "        print(url)\n",
    "        rst.encoding = 'utf-8'\n",
    "        search_rst = rst.text\n",
    "\n",
    "        soup = bs4.BeautifulSoup(search_rst, 'html.parser')\n",
    "        rst = soup.select('div#content_left')[0]\n",
    "\n",
    "        if return_string:\n",
    "            return rst.text\n",
    "        else:\n",
    "            ret = []\n",
    "\n",
    "            containers = rst.select('.c-container')\n",
    "\n",
    "            for c in containers:\n",
    "                datum = {}\n",
    "                title = c.select('h3')\n",
    "                title = title[0].text if len(title) > 0 else ''\n",
    "\n",
    "                abstract = c.select('.c-abstract')\n",
    "                abstract = abstract[0].text if len(abstract) > 0 else ''\n",
    "\n",
    "                datum['title'] = title\n",
    "                datum['abstract'] = abstract\n",
    "\n",
    "                datum['html'] = str(c)\n",
    "                ret.append(datum)\n",
    "            return ret\n",
    "            \n",
    "    elif engine == 'google':\n",
    "        \n",
    "        query = '%20'.join(question_words) + '%20' + '%20OR%20'.join(all_opt_words)\n",
    "        url = 'https://www.googleapis.com/customsearch/v1?key=%s&cx=%s&q=%s' % (\n",
    "            G_KEY,\n",
    "            G_CX,\n",
    "            query)\n",
    "        print(url)\n",
    "        rst = requests.get(url, proxies={'http':'127.0.0.1:1080','https':'127.0.0.1:1080'}, verify=False)\n",
    "        rst = json.loads(rst.text)\n",
    "        \n",
    "        ret = []\n",
    "        \n",
    "        for item in rst['items']:\n",
    "            title = item['title']\n",
    "            abstract = item['snippet']\n",
    "            \n",
    "            html = '<h3>%s</h3>' % item['htmlTitle'] + item['htmlSnippet']\n",
    "            \n",
    "            datum = {'title':title, 'abstract':abstract, 'html':html}\n",
    "            \n",
    "            ret.append(datum)\n",
    "            \n",
    "        return '' if return_string else ret\n",
    "        \n",
    "    return '' if return_string else []\n",
    "\n",
    "\n",
    "class Sentence:\n",
    "    def __init__(self, sentence):\n",
    "        self._sentence = sentence\n",
    "        self._words = None\n",
    "        self._tfidf = None\n",
    "        \n",
    "    def get_sentence(self):\n",
    "        return self._sentence\n",
    "    \n",
    "    def get_tfidf(self):\n",
    "        if self._tfidf == None:\n",
    "            tfidf = jieba.analyse.tfidf(self._sentence, withWeight=True)\n",
    "    \n",
    "            question_tfidf = {}\n",
    "            for p in tfidf:\n",
    "                question_tfidf[p[0]] = p[1]\n",
    "                \n",
    "            self._tfidf = question_tfidf\n",
    "        return self._tfidf\n",
    "    \n",
    "    def get_words(self):\n",
    "        if self._words == None:\n",
    "            self._words = jieba.lcut(self._sentence)\n",
    "        return self._words\n",
    "    \n",
    "    def __str__(self):\n",
    "        return self._sentence\n",
    "    \n",
    "    def __repr__(self):\n",
    "        return self.__str__()\n",
    "\n",
    "    \n",
    "def term_match_evidence_score(evidence_sentence, question_sentence, with_tfidf=True):\n",
    "    evidence_words = evidence_sentence.get_words()\n",
    "    question_tfidf = question_sentence.get_tfidf()\n",
    "    score = 0\n",
    "    \n",
    "    for word in evidence_words:\n",
    "        if word in question_tfidf:\n",
    "            if with_tfidf:\n",
    "                score += question_tfidf[word]\n",
    "            else:\n",
    "                score += 1\n",
    "                \n",
    "    return score\n",
    "\n",
    "def bigram_evidence_score(evidence_sentence, question_sentence):\n",
    "    question_words = question_sentence.get_words()\n",
    "    \n",
    "    score = 0\n",
    "    for i, word in enumerate(question_words):\n",
    "        if i < len(question_words) - 1:\n",
    "            pattern = question_words[i] + question_words[i+1]\n",
    "            \n",
    "            score += len(re.findall(pattern, evidence_sentence.get_sentence()))\n",
    "            \n",
    "    return score\n",
    "\n",
    "def skip_bigram_evidence_score(evidence_sentence, question_sentence):\n",
    "    question_words = question_sentence.get_words()\n",
    "    score = 0\n",
    "    for i, word in enumerate(question_words):\n",
    "        if i < len(question_words) - 2:\n",
    "            pattern = re.escape(question_words[i]) + '.+?' + re.escape(question_words[i+2])\n",
    "            \n",
    "            score += len(re.findall(pattern, evidence_sentence.get_sentence()))\n",
    "    return score\n",
    "\n",
    "def sorted_evidence_tuple(search_rst, question_sentence, evidence_topK=10):\n",
    "    evidence_for_sort = []\n",
    "    \n",
    "    for p in search_rst:\n",
    "        title = p['title']\n",
    "        abstract = p['abstract']\n",
    "        \n",
    "        score = 0\n",
    "        \n",
    "        st_title = Sentence(title)\n",
    "        st_abstract = Sentence(abstract)\n",
    "        \n",
    "        score += (term_match_evidence_score(st_title, question_sentence) * 2 + \\\n",
    "                  term_match_evidence_score(st_abstract, question_sentence))\n",
    "        \n",
    "        st_evidence = Sentence(title + abstract)\n",
    "        \n",
    "        score += bigram_evidence_score(st_evidence, question_sentence)\n",
    "        \n",
    "        score += skip_bigram_evidence_score(st_evidence, question_sentence)\n",
    "        \n",
    "        if score > 0:\n",
    "            evidence_for_sort.append((st_title, st_abstract, st_evidence, score))\n",
    "            \n",
    "    ret = sorted(evidence_for_sort, key=lambda p:p[3], reverse=True)\n",
    "    \n",
    "    if evidence_topK < 0:\n",
    "        evidence_topK = len(ret)\n",
    "    \n",
    "    ret = ret[:evidence_topK]\n",
    "    \n",
    "    ret = [(p[0], p[1], p[2], p[3] / ret[0][3]) for p in ret]\n",
    "    \n",
    "    return ret\n",
    "    \n",
    "def term_distance_option_score(evidence_sentence, question_sentence, option_sentence_list):\n",
    "    qwords_offsets = []\n",
    "    question_words = question_sentence.get_words()\n",
    "    for word in question_words:\n",
    "        offsets = []\n",
    "        for i, eword in enumerate(evidence_sentence.get_words()):\n",
    "            if word == eword:\n",
    "                offsets.append(i)\n",
    "        qwords_offsets.append(offsets)\n",
    "        \n",
    "    dists = []\n",
    "    for opt in option_sentence_list:\n",
    "        opt_words = opt.get_words()\n",
    "        \n",
    "        dist = 0\n",
    "        for word in opt_words:\n",
    "            offsets = []\n",
    "            for i, eword in enumerate(evidence_sentence.get_words()):\n",
    "                if word == eword:\n",
    "                    for j, q_w in enumerate(question_words):\n",
    "                        for k, word_off in enumerate(qwords_offsets[j]):\n",
    "                            dist += abs(word_off - i)\n",
    "                            \n",
    "        dist /= len(opt_words)\n",
    "        dist = 1e9 if dist == 0 else dist\n",
    "        dists.append(dist)\n",
    "    \n",
    "    return dists\n",
    "\n",
    "def term_min_dist_option_score(evidence_sentence, question_sentence, option_sentence_list):\n",
    "    qwords_offsets = []\n",
    "    question_words = question_sentence.get_words()\n",
    "    for word in question_words:\n",
    "        offsets = []\n",
    "        for i, eword in enumerate(evidence_sentence.get_words()):\n",
    "            if word == eword:\n",
    "                offsets.append(i)\n",
    "        qwords_offsets.append(offsets)\n",
    "        \n",
    "    dists = []\n",
    "    for opt in option_sentence_list:\n",
    "        opt_words = opt.get_words()\n",
    "        \n",
    "        dist = 0\n",
    "        for word in opt_words:\n",
    "            offsets = []\n",
    "            for i, eword in enumerate(evidence_sentence.get_words()):\n",
    "                if word == eword:\n",
    "                    for j, q_w in enumerate(question_words):\n",
    "                        min_dist = int(1e9)\n",
    "                        for k, word_off in enumerate(qwords_offsets[j]):\n",
    "                            min_dist = min(abs(word_off - i), min_dist)\n",
    "                        if min_dist != int(1e9):\n",
    "                            dist += min_dist\n",
    "        dist /= len(opt_words)\n",
    "        dist = 1e9 if dist == 0 else dist\n",
    "        dists.append(dist)\n",
    "    \n",
    "    return dists\n",
    "\n",
    "def score_options(evidence_tuples, question_sentence, option_sentence_list):\n",
    "    scores = [0 for i in option_sentence_list]\n",
    "#     decay = 0.96\n",
    "#     weight = 1\n",
    "    \n",
    "    idx = 0\n",
    "    for title, abstract, evidence, weight in evidence_tuples:\n",
    "        base_scores = []\n",
    "\n",
    "        for i, opt in enumerate(option_sentence_list):\n",
    "            score = term_match_evidence_score(title, opt, with_tfidf=False) * 2\n",
    "            score += term_match_evidence_score(abstract, opt, with_tfidf=False)\n",
    "            base_scores.append(score)\n",
    "            scores[i] += (score * weight)\n",
    "\n",
    "        dist = term_distance_option_score(evidence, question_sentence, option_sentence_list)\n",
    "\n",
    "        for i, d in enumerate(dist):\n",
    "            scores[i] += (base_scores[i] / d * weight)\n",
    "\n",
    "        dist = term_min_dist_option_score(evidence, question_sentence, option_sentence_list)\n",
    "\n",
    "        for i, d in enumerate(dist):\n",
    "            scores[i] += (base_scores[i] / d * weight)\n",
    "            \n",
    "#         weight *= decay\n",
    "        \n",
    "        if idx < 3:\n",
    "            print(title, base_scores, scores)\n",
    "            idx += 1\n",
    "        \n",
    "    return scores\n",
    "\n",
    "\n",
    "def keywords(question, opt_a, opt_b, opt_c):\n",
    "    quest_words = jieba.analyse.extract_tags(question, allowPOS=['n','nr','ns','nt','nz','nl','ng'])\n",
    "    opt_words = jieba.analyse.extract_tags(' '.join([opt_a,opt_b,opt_c]), allowPOS=['n','nr','ns','nt','nz','nl','ng'])\n",
    "    words = quest_words + opt_words\n",
    "    return words\n",
    "\n",
    "def dump_question(question, opt_a, opt_b, opt_c):\n",
    "    with open('questions.txt','a+') as f:\n",
    "        f.write(','.join([question, opt_a, opt_b, opt_c]) + '\\n')\n",
    "\n",
    "'''\n",
    "TODO:\n",
    "1. 问题扩充\n",
    "'''\n",
    "\n",
    "def search_ans(question, opt_a, opt_b, opt_c, engine='baidu'):\n",
    "\n",
    "    # question might be too long\n",
    "    len_q = len(question)\n",
    "    len_opt = len(opt_a) + len(opt_b) + len(opt_c)\n",
    "\n",
    "    if len_q + len_opt > 37:\n",
    "        words = jieba.analyse.extract_tags(question)\n",
    "        quest_words = []\n",
    "        l = 0\n",
    "\n",
    "        for w in reversed(words):\n",
    "            l += len(w)\n",
    "            if l < 37 - len_opt:\n",
    "                quest_words.append(w)\n",
    "            else:\n",
    "                break\n",
    "\n",
    "    else:\n",
    "        quest_words = [question]\n",
    "\n",
    "    opts = [opt_a, opt_b, opt_c]\n",
    "    opt_words = []\n",
    "\n",
    "    for opt in opts:\n",
    "#             opt_words.append(list(map(lambda p:p.word, filter(lambda p:p.flag.startswith('n'), \n",
    "#                                                  jieba.posseg.cut(opt)))))\n",
    "        if len(opt) > 4:\n",
    "            opt_words.append(jieba.analyse.extract_tags(opt))\n",
    "        else:\n",
    "            opt_words.append([opt])\n",
    "\n",
    "#         rst = search(question)\n",
    "#         time.sleep(0.1)\n",
    "#         rst += search('%20'.join(quest_words))\n",
    "    search_rst = search_advanced(quest_words, opt_words, return_string=False, engine=engine)\n",
    "#         print(rst)\n",
    "    \n",
    "    question_sentence = Sentence(question)\n",
    "    opt_sentences = [Sentence(opt) for opt in opts]\n",
    "    \n",
    "    evidences = sorted_evidence_tuple(search_rst, question_sentence)\n",
    "    \n",
    "#     print(evidences[:3])\n",
    "    \n",
    "    scores = score_options(evidences, question_sentence, opt_sentences)\n",
    "        \n",
    "    # 考虑反向问题，比方说在战国初期下列哪一个国家*未*与燕国相邻?\n",
    "    neg_words = ['不','未','没有']\n",
    "\n",
    "    neg_question = False\n",
    "    for nw in neg_words:\n",
    "        if nw in question:\n",
    "            neg_question = True\n",
    "#             print('!!!!!!!!!!!!!!!!!!!!!!!!!!!!!!!!!!!!!!!!!!!!!')\n",
    "#             print('!!               疑似反向问题              !!!')\n",
    "#             print('!!!!!!!!!!!!!!!!!!!!!!!!!!!!!!!!!!!!!!!!!!!!!')\n",
    "            display(HTML('<h2>疑似反向问题!!</h2>'))\n",
    "            break\n",
    "\n",
    "    ans = [('A',opt_a,scores[0]),\n",
    "          ('B',opt_b,scores[1]),\n",
    "          ('C',opt_c,scores[2])]\n",
    "\n",
    "    print('question:', question)\n",
    "    for p in sorted(ans, key=lambda p:p[2], reverse=True):\n",
    "        print(p)\n",
    "\n",
    "    # Show top search result\n",
    "#     print('----------------------------')\n",
    "    for i in range(2):\n",
    "#         print(rst_soup.select('.c-container')[i])\n",
    "        if i < len(search_rst):\n",
    "            display(HTML(search_rst[i]['html']))\n",
    "#     print('----------------------------')\n",
    "\n",
    "#         go_search(question)\n",
    "\n",
    "    dump_question(question, opt_a, opt_b, opt_c)\n",
    "\n",
    "def search_ans_from_pic(im, game='baiwan', engine='baidu'):\n",
    "    print('Parsing pic...')\n",
    "    \n",
    "    if game == 'baiwan':\n",
    "        #百万英雄\n",
    "        question, opt_a, opt_b, opt_c = ocr(im,\n",
    "                       [(300,600,0,1080),\n",
    "                       (655,815,0,1080),\n",
    "                       (845,1005,0,1080),\n",
    "                       (1035,1200,0,1080)])\n",
    "    elif game == 'zhishi':\n",
    "        #芝士超人\n",
    "        question, opt_a, opt_b, opt_c = ocr(im,\n",
    "                       [(280,580,0,1080),\n",
    "                       (580,735,0,1080),\n",
    "                       (775,930,0,1080),\n",
    "                       (970,1125,0,1080)])\n",
    "    elif game == 'chongding':\n",
    "        #冲顶大会\n",
    "        question, opt_a, opt_b, opt_c = ocr(im,\n",
    "                       [(305,645,0,1080),\n",
    "                       (645,775,0,1080),\n",
    "                       (805,940,0,1080),\n",
    "                       (970,1105,0,1080)])\n",
    "    else:\n",
    "        return\n",
    "\n",
    "    if question != '':\n",
    "        search_ans(question, opt_a, opt_b, opt_c, engine=engine)\n",
    "        return True\n",
    "    else:\n",
    "        print('No question found!')\n",
    "        return False"
   ]
  },
  {
   "cell_type": "code",
   "execution_count": 10,
   "metadata": {
    "collapsed": true
   },
   "outputs": [],
   "source": [
    "im = cv2.imread('./tmp/screenshot.png')\n",
    "im = im[:1200,:,:]"
   ]
  },
  {
   "cell_type": "code",
   "execution_count": 20,
   "metadata": {},
   "outputs": [
    {
     "name": "stdout",
     "output_type": "stream",
     "text": [
      "Parsing pic...\n",
      "http://www.baidu.com/s?q1=世界上第一家电视台出现在哪个国家&q2=&q3=&q4=&rn=50\n",
      "世界上第一家电视台出现在哪个国家?_百度知道 [3, 0, 0] [3.011677076999613, 0.0, 0.0]\n",
      "世界上第一座正规的电视台_百度知道 [0, 0, 0] [3.011677076999613, 0.0, 0.0]\n",
      "世界上第一台计算机是出现在哪个国家_百度知道 [0, 1, 0] [3.011677076999613, 0.7069289615313599, 0.0]\n",
      "question: 世界上第一家电视台出现在哪个国家\n",
      "('A', '英国', 4.977400663299326)\n",
      "('B', '美国', 4.469616121097146)\n",
      "('C', '法国', 0.0)\n"
     ]
    },
    {
     "data": {
      "text/html": [
       "<div class=\"result c-container \" data-click=\"{'rsv_bdr':'0' }\" id=\"1\" srcid=\"1528\" tpl=\"se_com_default\"><h3 class=\"t\"><a data-click=\"{\n",
       "\t\t\t'F':'778317E8',\n",
       "\t\t\t'F1':'9D73B1E4',\n",
       "\t\t\t'F2':'4CA6DD6B',\n",
       "\t\t\t'F3':'54E5343D',\n",
       "\t\t\t'T':'1516690252',\n",
       "\t\t\t\t\t\t'y':'7F7EDFFF'\n",
       "\t\t\t \n",
       "\t\t\t\t\t\t\t\t\t}\" href=\"http://www.baidu.com/link?url=45fLybjzef3dZ9-VMSNC11CC_9-yQmPCiSMN_RbEkrG8zpMYJGE020b2HHOCc9T2AY9b5hYowuaLXb6SChjT9a\" target=\"_blank\"><em>世界上第一家电视台在哪个国家</em>?_百度知道</a></h3><p class=\"f13 m\">2个回答 - 提问时间: 2007年04月11日</p><div class=\"c-abstract\"><i class=\"c-text c-text-info c-gap-icon-right-small\"><b>[</b><span>专业</span><b>]</b></i><span class=\"m\">答案:</span>英国。 1936年11月,英国广播公司在伦敦以北的亚历山大宫建成英国<em>第一</em>座正式的<em>电视台</em>,也是<em>世界第一</em>座正式<em>电视台</em>。11月2日,英国广播公司<em>第一</em>次正式播出...</div><div class=\"f13\"><a class=\"c-showurl\" href=\"http://www.baidu.com/link?url=45fLybjzef3dZ9-VMSNC11CC_9-yQmPCiSMN_RbEkrG8zpMYJGE020b2HHOCc9T2AY9b5hYowuaLXb6SChjT9a\" style=\"text-decoration:none;\" target=\"_blank\">https://zhidao.baidu.com/quest... </a><div class=\"c-tools\" data-tools='{\"title\":\"世界上第一家电视台在哪个国家?_百度知道\",\"url\":\"http://www.baidu.com/link?url=45fLybjzef3dZ9-VMSNC11CC_9-yQmPCiSMN_RbEkrG8zpMYJGE020b2HHOCc9T2AY9b5hYowuaLXb6SChjT9a\"}' id=\"tools_9832712678553803105_1\"><a class=\"c-tip-icon\"><i class=\"c-icon c-icon-triangle-down-g\"></i></a></div><span class=\"c-icons-outer\"><span class=\"c-icons-inner\"></span></span></div><div class=\"c-offset\"><table class=\"subLink_factory subLink_factory_right\"><tr><td class=\"first c-default \"><a href=\"http://www.baidu.com/link?url=M6kKV0h-y6QwHKDftdC5dvxFdsATN1ZxJSAJWLD78GD_jPeeUa_qYHnUgNls2B0YZIxiqOtlUQo2PlBcGYyG7a\" target=\"_blank\"><em>世界上第一个电视台</em></a></td><td class=\"middle c-default \">2个回答</td><td class=\"last c-default rightTd\">2008-06-14</td></tr><tr><td class=\"first c-default \"><a href=\"http://www.baidu.com/link?url=ayXeUkXSEG_hD1l-b6hdQjLKt0I_xsectBoWxVO0fZ_9KtC8bauEwWmtz-7mFaR2kWHHA-R4a8sP9AlpN9tdPPDDqm_WDOvXwvxOQjW2jTy\" target=\"_blank\">美国<em>在哪</em>一年开播了<em>世界上第一个</em>彩色<em>电视</em>节目</a></td><td class=\"middle c-default \">1个回答</td><td class=\"last c-default rightTd\">2013-11-14</td></tr></table><a class=\"c\" href=\"http://www.baidu.com/link?url=QhvS4JYSoBnjogfFXfyAsgtZG1qXSbWXW69CGeGYUpATm3dFCPV-jx8hiicHnLPUcJx5A8ZktfZEdsFfTZpHCX8DNGdkYSS5HNs0acnF4_36kZmhvKVWafB4YH9JthralNxtKPnPWbfdFQsMJlJIwwY4Dj7OHt3LtoyoKfHabbtT-2FarXUlxD5GhphndKThuw6xrLHY4SWZsRWebVwUT4_tuWoIo3DOy2eaDXPAYUQrWc7NfxkaPpxfUGYdIC60KP8dodbD-A-rO5PqyT4fUZGqJHc0cRYTeTV0r2998au\" target=\"_blank\">更多知道相关问题&gt;&gt;</a></div></div>"
      ],
      "text/plain": [
       "<IPython.core.display.HTML object>"
      ]
     },
     "metadata": {},
     "output_type": "display_data"
    },
    {
     "data": {
      "text/html": [
       "<div class=\"result c-container \" data-click=\"{'rsv_bdr':'0' ,'rsv_cd':'pt:40520'}\" id=\"2\" srcid=\"1599\" tpl=\"se_com_default\"><h3 class=\"t\"><a data-click=\"{\n",
       "\t\t\t'F':'778317E8',\n",
       "\t\t\t'F1':'9D73F1E4',\n",
       "\t\t\t'F2':'4CA6DD6B',\n",
       "\t\t\t'F3':'54E5343D',\n",
       "\t\t\t'T':'1516690252',\n",
       "\t\t\t\t\t\t'y':'F7DFD7FB'\n",
       "\t\t\t \n",
       "\t\t\t\t\t\t\t\t\t}\" href=\"http://www.baidu.com/link?url=ZAgP4UEYryjDLIlAZFA8xslCMJHA7eUNlLAN--8fH7tAbXQGHhoj5Mhj2F1ApkoW-Wf5eVVV6GBhLfzJnfR2yK\" target=\"_blank\"><em>全世界第一家电视台</em>是<em>在哪个国家</em>成立的 - 爱问知识人</a></h3><div class=\"c-abstract\"><span class=\" newTimeFactor_before_abs m\">2017年11月20日 - </span><em>全世界第一家电视台</em>是<em>在哪个国家</em>成立的:1935年,贝尔德与德国公司合作,成立了第一家电视台,每周播放三次节目?</div><div class=\"f13\"><a class=\"c-showurl\" href=\"http://www.baidu.com/link?url=ZAgP4UEYryjDLIlAZFA8xslCMJHA7eUNlLAN--8fH7tAbXQGHhoj5Mhj2F1ApkoW-Wf5eVVV6GBhLfzJnfR2yK\" style=\"text-decoration:none;\" target=\"_blank\">https://iask.sina.com.cn/b/913... </a><div class=\"c-tools\" data-tools='{\"title\":\"全世界第一家电视台是在哪个国家成立的 - 爱问知识人\",\"url\":\"http://www.baidu.com/link?url=ZAgP4UEYryjDLIlAZFA8xslCMJHA7eUNlLAN--8fH7tAbXQGHhoj5Mhj2F1ApkoW-Wf5eVVV6GBhLfzJnfR2yK\"}' id=\"tools_9242718256036642780_2\"><a class=\"c-tip-icon\"><i class=\"c-icon c-icon-triangle-down-g\"></i></a></div><span class=\"c-icons-outer\"><span class=\"c-icons-inner\"></span></span> - <a class=\"m\" data-click=\"{'rsv_snapshot':'1'}\" href=\"http://cache.baiducontent.com/c?m=9d78d513d9d430dc4f9c96697d60c0111c4381132ba6db020ea08449e3732b46501090ac26520772d3d20c1716ae394b9a812104371421c78cb88f5daabe85595c9f5135671df65663a20edcc15124b137e05bfedb1df0cb8425e5aac5d2af4325cc44730997f1fb4d7112dd1ef60341e9b1ed4c025e60ad9d3b728b2a6059ee3436b653bea06c615dc7b09f1d5bc259cd7c4ac4ee6ca73e65f448f84c0c2433f111ee1f515161bc5277e24f3e0598e15dec3d793779f017ed&amp;p=8c62c64ad49b01ed08e2947d0a4894&amp;newp=813fd75f85cc43ff57ed9779514293231610db2151d7d21e6b82c825d7331b001c3bbfb423251304d5c47f6101ae4a5aeaf63d7437012ba3dda5c91d9fb4c57479&amp;user=baidu&amp;fm=sc&amp;query=%CA%C0%BD%E7%C9%CF%B5%DA%D2%BB%BC%D2%B5%E7%CA%D3%CC%A8%B3%F6%CF%D6%D4%DA%C4%C4%B8%F6%B9%FA%BC%D2&amp;qid=d102170d0005b527&amp;p1=2\" target=\"_blank\">百度快照</a></div></div>"
      ],
      "text/plain": [
       "<IPython.core.display.HTML object>"
      ]
     },
     "metadata": {},
     "output_type": "display_data"
    },
    {
     "data": {
      "text/plain": [
       "True"
      ]
     },
     "execution_count": 20,
     "metadata": {},
     "output_type": "execute_result"
    }
   ],
   "source": [
    "search_ans_from_pic(im, game='baiwan', engine='baidu')"
   ]
  },
  {
   "cell_type": "code",
   "execution_count": 128,
   "metadata": {
    "collapsed": true
   },
   "outputs": [],
   "source": [
    "with sqlite3.connect('./how_net.db') as conn:\n",
    "    conn.execute('''\n",
    "        create table how_net(\n",
    "        W_C varchar,\n",
    "        G_C varchar,\n",
    "        E_C varchar,\n",
    "        W_E varchar,\n",
    "        G_E varchar,\n",
    "        E_E varchar,\n",
    "        DEF varchar,\n",
    "        UPPER varchar)''')\n",
    "    conn.execute('''\n",
    "        create index idx on how_net (W_C, W_E, DEF)''')\n",
    "    conn.commit()\n",
    "conn.close()"
   ]
  },
  {
   "cell_type": "code",
   "execution_count": 124,
   "metadata": {
    "collapsed": true
   },
   "outputs": [],
   "source": [
    "conn.close()"
   ]
  },
  {
   "cell_type": "code",
   "execution_count": 129,
   "metadata": {},
   "outputs": [],
   "source": [
    "with sqlite3.connect('./how_net.db') as conn:   \n",
    "    with open('HowNet.txt','r') as f:\n",
    "        datum = []\n",
    "        for line in f:\n",
    "            s = str(line).strip()\n",
    "            if s != '':\n",
    "                p = s.split('=')\n",
    "                assert len(p) > 1\n",
    "\n",
    "                datum.append('='.join(p[1:]))\n",
    "            else:\n",
    "                assert len(datum) == 8\n",
    "                defs = datum[7].split(',')\n",
    "                \n",
    "                upper = ''\n",
    "                m = re.match(r'\\(.*?\\|(.*?)\\)',defs[-1])\n",
    "                if m != None:\n",
    "                    upper = m[1]\n",
    "                try:\n",
    "                    sql = \"insert into how_net values (?, ?, ?, ?, ?, ?, ?, ?)\"\n",
    "                    conn.execute(sql,(datum[1], datum[2], datum[3], datum[4], datum[5], datum[6], datum[7], upper))\n",
    "#                     print(sql)\n",
    "                except:\n",
    "                    print(sql)\n",
    "                    conn.execute(sql)\n",
    "                finally:\n",
    "                    datum = []\n",
    "    conn.commit()\n",
    "conn.close()"
   ]
  },
  {
   "cell_type": "code",
   "execution_count": 149,
   "metadata": {},
   "outputs": [
    {
     "data": {
      "text/plain": [
       "['美', '北美', '美利坚', '美国']"
      ]
     },
     "execution_count": 149,
     "metadata": {},
     "output_type": "execute_result"
    }
   ],
   "source": [
    "word = '美国'\n",
    "def similar_words(word):\n",
    "    with sqlite3.connect('./how_net.db') as conn:\n",
    "        sql = '''\n",
    "            select distinct b.* from how_net a, how_net b\n",
    "            where a.W_C = ? and b.W_E = a.W_E and b.DEF = a.DEF'''\n",
    "\n",
    "        rst = conn.execute(sql, (word,)).fetchall()\n",
    "    conn.close()\n",
    "    \n",
    "    ret = set()\n",
    "    for row in rst:\n",
    "        ret.add(row[0])\n",
    "        ret.add(row[-1])\n",
    "        \n",
    "    ret = list(ret)\n",
    "    return ret\n",
    "\n",
    "similar_words(word)"
   ]
  },
  {
   "cell_type": "code",
   "execution_count": 150,
   "metadata": {},
   "outputs": [
    {
     "data": {
      "text/plain": [
       "['旧金山',\n",
       " '耶鲁大学',\n",
       " '马克吐温',\n",
       " '国务卿',\n",
       " '肯特基',\n",
       " '休斯敦',\n",
       " '美国空军',\n",
       " '花旗银行',\n",
       " '西雅图',\n",
       " '加利福尼亚',\n",
       " '费城',\n",
       " '肯塔基',\n",
       " 'NMD',\n",
       " '杰克伦敦',\n",
       " '美国陆军',\n",
       " '卡内基梅隆大学',\n",
       " '俄亥俄',\n",
       " '微软',\n",
       " '路易斯安那',\n",
       " '美国海岸警卫队',\n",
       " '亚利桑那',\n",
       " '星球大战',\n",
       " '阿拉斯加',\n",
       " '哈佛大学',\n",
       " '星条旗',\n",
       " '花旗',\n",
       " '哈佛',\n",
       " '杜鲁门',\n",
       " '印第安纳',\n",
       " '康涅狄格',\n",
       " '查尔戈加戈格曼乔加戈格舍巴纳甘加马湖',\n",
       " '美钞',\n",
       " '北达科他',\n",
       " '好莱坞',\n",
       " '美军',\n",
       " '美国生活方式',\n",
       " '奥克兰',\n",
       " '密歇根',\n",
       " '蒙大拿',\n",
       " '美金',\n",
       " '美式',\n",
       " '夏威夷',\n",
       " '得克萨斯',\n",
       " '美商',\n",
       " '美国人',\n",
       " '内华达',\n",
       " '美联储',\n",
       " '麻省理工学院',\n",
       " '硅谷',\n",
       " '美国海军陆战队',\n",
       " '纳斯达克',\n",
       " '安大略湖',\n",
       " '弗吉尼亚',\n",
       " '微软公司',\n",
       " '战略防御计划',\n",
       " '中情局',\n",
       " '罗斯福',\n",
       " '加州',\n",
       " '美元',\n",
       " '迪斯尼',\n",
       " '圣保罗',\n",
       " '美国',\n",
       " '布什',\n",
       " '麻省',\n",
       " '科罗拉多',\n",
       " '衣阿华',\n",
       " '南卡罗来纳',\n",
       " '奥林匹克半岛',\n",
       " '波音',\n",
       " '西弗吉尼亚',\n",
       " '美',\n",
       " '威斯康星',\n",
       " '纽约州',\n",
       " '华盛顿州',\n",
       " '怀俄明',\n",
       " '犹他',\n",
       " '佛罗里达',\n",
       " '中央情报局',\n",
       " '美国海军',\n",
       " '美国宇航局',\n",
       " '白宫',\n",
       " '檀香山',\n",
       " '内布拉斯加',\n",
       " '麻萨诸塞',\n",
       " '田纳西',\n",
       " '乔治亚',\n",
       " '国会',\n",
       " '国务院',\n",
       " '俄克拉何马',\n",
       " '克林顿',\n",
       " '亚特兰大',\n",
       " '马里兰',\n",
       " '爱达荷',\n",
       " '美国国旗',\n",
       " '华盛顿',\n",
       " '尼克松',\n",
       " '美籍',\n",
       " 'IBM',\n",
       " '珍珠港',\n",
       " '道琼斯',\n",
       " '共和党',\n",
       " '奥马哈',\n",
       " '达拉斯',\n",
       " 'TMD',\n",
       " '民主党',\n",
       " '美分',\n",
       " '五角大楼',\n",
       " '芝加哥',\n",
       " '密苏里',\n",
       " '华尔街',\n",
       " '福特',\n",
       " '三K党',\n",
       " '国情咨文',\n",
       " '林肯',\n",
       " '联邦调查局',\n",
       " '战区导弹防御系统',\n",
       " '俄勒冈',\n",
       " '新罕布什尔',\n",
       " '波士顿',\n",
       " '合众社',\n",
       " '火奴鲁鲁',\n",
       " '佛蒙特',\n",
       " '国家导弹防御系统',\n",
       " '南达科他',\n",
       " '明尼苏达',\n",
       " '特拉华',\n",
       " '参议员',\n",
       " '迈阿密',\n",
       " '亚拉巴马',\n",
       " '堪萨斯',\n",
       " '罗德岛',\n",
       " '洛杉矶',\n",
       " '美联社',\n",
       " '缅因',\n",
       " '曼哈顿',\n",
       " '新墨西哥',\n",
       " '矽谷',\n",
       " '美籍华人',\n",
       " '底特律',\n",
       " '伊利诺斯',\n",
       " '纽约',\n",
       " '艾森豪威尔',\n",
       " '宾夕法尼亚',\n",
       " '新泽西',\n",
       " '北卡罗来纳',\n",
       " '肯尼迪']"
      ]
     },
     "execution_count": 150,
     "metadata": {},
     "output_type": "execute_result"
    }
   ],
   "source": [
    "word = '美国'\n",
    "\n",
    "def lower_words(word):\n",
    "    with sqlite3.connect('./how_net.db') as conn:\n",
    "        sql = '''\n",
    "            select distinct b.* from how_net a, how_net b\n",
    "            where a.W_C = ? and b.UPPER = a.W_C'''\n",
    "        rst = conn.execute(sql, (word,)).fetchall()\n",
    "    conn.close()\n",
    "\n",
    "    ret = set()\n",
    "    for row in rst:\n",
    "        ret.add(row[0])\n",
    "        ret.add(row[-1])\n",
    "    ret = list(ret)\n",
    "    return ret\n",
    "\n",
    "lower_words(word)"
   ]
  },
  {
   "cell_type": "code",
   "execution_count": 99,
   "metadata": {},
   "outputs": [
    {
     "name": "stdout",
     "output_type": "stream",
     "text": [
      "Help on built-in function execute:\n",
      "\n",
      "execute(...) method of sqlite3.Connection instance\n",
      "    Executes a SQL statement. Non-standard.\n",
      "\n"
     ]
    }
   ],
   "source": [
    "help(conn.execute)"
   ]
  },
  {
   "cell_type": "code",
   "execution_count": 16,
   "metadata": {
    "scrolled": true
   },
   "outputs": [
    {
     "name": "stdout",
     "output_type": "stream",
     "text": [
      "q\n"
     ]
    }
   ],
   "source": [
    "while True:\n",
    "    ipt = input()\n",
    "    if ipt == 'q':\n",
    "        break\n",
    "    else:\n",
    "        im = capture_img()\n",
    "        search_ans_from_pic(im[:1200,:,:], game='baiwan')"
   ]
  },
  {
   "cell_type": "code",
   "execution_count": 17,
   "metadata": {
    "scrolled": false
   },
   "outputs": [
    {
     "name": "stdout",
     "output_type": "stream",
     "text": [
      "待机中，按回车键继续，按q退出\n",
      "\n",
      "进入等待状态……\n",
      "正在等待答题框出现，答题框相似度: 0.655504\n",
      "发现答题框，正在等待题目文字显示完成……\n",
      "正在解析……\n",
      "Parsing pic...\n",
      "http://www.baidu.com/s?q1=唐太宗的原名叫?&q2=&q3=李渊+李世民+李隆基&q4=&rn=50\n",
      "question: 唐太宗的原名叫?\n",
      "('C', '李隆基', 1.0470886528865435)\n",
      "('B', '李世民', 0.9800567626833754)\n",
      "('A', '李渊', 0.08229410852192132)\n"
     ]
    },
    {
     "data": {
      "text/html": [
       "<div class=\"result-op c-container xpath-log\" data-click=\"{'p1':'1','rsv_bdr':'0','fm':'albk',rsv_stl:''}\" data-op=\"{'y':'BDCFA92E'}\" id=\"1\" mu=\"https://baike.baidu.com/item/李隆基/274734\" srcid=\"1547\" tpl=\"bk_polysemy\">\n",
       "<h3 class=\"t c-gap-bottom-small\">\n",
       "<a href=\"http://www.baidu.com/link?url=PH617wukZM9QSWGSXpp2_KYKCXpJlSU3NRBewvr58MwpVMmRWqtfmBBYOHtZoJeishDcKyprm-qBrk2Elp9LbwXakICng7gusw1tIRzTn2CXs_Vr-DDFlpJwD8yqO6z_\" target=\"_blank\"><em>李隆基</em>_百度百科</a>\n",
       "</h3>\n",
       "<div class=\"c-row\">\n",
       "<div class=\"c-span6\">\n",
       "<a class=\"op-bk-polysemy-album op-se-listen-recommend\" href=\"http://www.baidu.com/link?url=PH617wukZM9QSWGSXpp2_KYKCXpJlSU3NRBewvr58MwpVMmRWqtfmBBYOHtZoJeishDcKyprm-qBrk2Elp9LbwXakICng7gusw1tIRzTn2CXs_Vr-DDFlpJwD8yqO6z_\" style=\"_height:141px\" target=\"_blank\">\n",
       "<img class=\"c-img c-img6\" src=\"http://t12.baidu.com/it/u=2705739359,1929909513&amp;fm=58&amp;bpow=345&amp;bpoh=439\"/>\n",
       "</a>\n",
       "</div>\n",
       "<div class=\"c-span18 c-span-last\">\n",
       "<p>主要成就：铲除韦后势力，中兴唐室，开创开元盛世</p>\n",
       "<p>\n",
       "                    简介：<em>李隆基</em>（685年9月8日—762年5月3日），即<em>唐</em>玄宗，先天元年（712年）至天宝十五年（756年）在位，因安史之乱而退位，是<em>唐</em>朝在位最长的皇帝，亦是<em>唐</em>代极盛时期的皇帝。<em>唐</em>睿宗李旦第三子，故又称李三郎，母窦德妃。大<em>唐</em>垂拱元年（685年）八月...   \n",
       "                </p>\n",
       "<p>\n",
       "<a class=\"c-gap-right-small op-se-listen-recommend\" href=\"http://www.baidu.com/link?url=3dFjtbjjVZH68QjPdYGbWAM8YnPMPaeu_IZu0htLa-GEbyWZNZEnLaL1XJs3k5s1SFaUgEkDWTAxBfTexEvojdCilKI9j4Omhscx2U0XuGn3-U9FFNbzlllFSc8SC0rO\" target=\"_blank\" title=\"人物生平\">人物生平</a>\n",
       "<a class=\"c-gap-right-small op-se-listen-recommend\" href=\"http://www.baidu.com/link?url=3dFjtbjjVZH68QjPdYGbWAM8YnPMPaeu_IZu0htLa-GEbyWZNZEnLaL1XJs3k5s1SFaUgEkDWTAxBfTexEvojdCilKI9j4Omhscx2U0XuGmrpAgNxg_ome6XrHuv0qg1\" target=\"_blank\" title=\"为政举措\">为政举措</a>\n",
       "<a class=\"c-gap-right-small op-se-listen-recommend\" href=\"http://www.baidu.com/link?url=3dFjtbjjVZH68QjPdYGbWAM8YnPMPaeu_IZu0htLa-GEbyWZNZEnLaL1XJs3k5s1SFaUgEkDWTAxBfTexEvojdCilKI9j4Omhscx2U0XuGmz1iQCx1Ox2cadO82WK61f\" target=\"_blank\" title=\"艺术成就\">艺术成就</a>\n",
       "<a class=\"c-gap-right-small op-se-listen-recommend\" href=\"http://www.baidu.com/link?url=3dFjtbjjVZH68QjPdYGbWAM8YnPMPaeu_IZu0htLa-GEbyWZNZEnLaL1XJs3k5s1SFaUgEkDWTAxBfTexEvojdCilKI9j4Omhscx2U0XuGo3pYlAPjOIv47un3Fa8-L2\" target=\"_blank\" title=\"轶事典故\">轶事典故</a>\n",
       "<a class=\"c-gap-right-small op-se-listen-recommend\" href=\"http://www.baidu.com/link?url=3dFjtbjjVZH68QjPdYGbWAM8YnPMPaeu_IZu0htLa-GEbyWZNZEnLaL1XJs3k5s1SFaUgEkDWTAxBfTexEvojdCilKI9j4Omhscx2U0XuGpQ7q32S4xF8if0jVlsXnH7\" target=\"_blank\" title=\"人物评价\">人物评价</a>\n",
       "<a class=\"op-se-listen-recommend\" href=\"http://www.baidu.com/link?url=PH617wukZM9QSWGSXpp2_KYKCXpJlSU3NRBewvr58MwpVMmRWqtfmBBYOHtZoJeishDcKyprm-qBrk2Elp9LbwXakICng7gusw1tIRzTn2CXs_Vr-DDFlpJwD8yqO6z_\" target=\"_blank\">更多&gt;&gt;</a>\n",
       "</p>\n",
       "<p class=\" op-bk-polysemy-move\"><span class=\"c-showurl\">baike.baidu.com/ </span><span class=\"c-tools\" data-tools=\"{title:'李隆基_百度百科',url:'http://baike.baidu.com/item/%E6%9D%8E%E9%9A%86%E5%9F%BA/274734?fr=aladdin'}\" id=\"tools_13646613801747686427_1\"><a class=\"c-tip-icon\"><i class=\"c-icon c-icon-triangle-down-g\"></i></a></span></p>\n",
       "</div>\n",
       "</div>\n",
       "</div>"
      ],
      "text/plain": [
       "<IPython.core.display.HTML object>"
      ]
     },
     "metadata": {},
     "output_type": "display_data"
    },
    {
     "data": {
      "text/html": [
       "<div class=\"result c-container \" data-click=\"{'rsv_bdr':'0' }\" id=\"2\" srcid=\"1528\" tpl=\"se_com_default\"><h3 class=\"t\"><a data-click=\"{\n",
       "\t\t\t'F':'778717EB',\n",
       "\t\t\t'F1':'9D73B1E4',\n",
       "\t\t\t'F2':'4CA6DE6B',\n",
       "\t\t\t'F3':'54E5242E',\n",
       "\t\t\t'T':'1516111498',\n",
       "\t\t\t\t\t\t'y':'FFCBEEEB'\n",
       "\t\t\t \n",
       "\t\t\t\t\t\t\t\t\t}\" href=\"http://www.baidu.com/link?url=17rmu0wcU5IINg9SKz2gUQ3E-XTtqmAZ0Ski3s9ac8Mrzjah1aVdFjbJD7TocFYXFde8zyeO60fSzehMs9j4va\" target=\"_blank\"><em>李世民的名是</em>什么?_百度知道</a></h3><p class=\"f13 m\">5个回答 - 提问时间: 2012年07月03日</p><div class=\"c-abstract\"><span class=\"m\">最佳答案: </span>关于“<em>李世民</em>”这个鼎鼎大名的来历,《旧唐书·本纪第二》记载:[[ 太宗文武大圣大广孝皇帝讳世民,高祖第二子也 ……高祖之临岐州,太宗时年四岁。有...</div><div class=\"f13\"><a class=\"c-showurl\" href=\"http://www.baidu.com/link?url=17rmu0wcU5IINg9SKz2gUQ3E-XTtqmAZ0Ski3s9ac8Mrzjah1aVdFjbJD7TocFYXFde8zyeO60fSzehMs9j4va\" style=\"text-decoration:none;\" target=\"_blank\">https://zhidao.baidu.com/quest... </a><div class=\"c-tools\" data-tools='{\"title\":\"李世民的名是什么?_百度知道\",\"url\":\"http://www.baidu.com/link?url=17rmu0wcU5IINg9SKz2gUQ3E-XTtqmAZ0Ski3s9ac8Mrzjah1aVdFjbJD7TocFYXFde8zyeO60fSzehMs9j4va\"}' id=\"tools_17366924882343357911_2\"><a class=\"c-tip-icon\"><i class=\"c-icon c-icon-triangle-down-g\"></i></a></div><span class=\"c-icons-outer\"><span class=\"c-icons-inner\"></span></span></div><div class=\"c-offset\"><table class=\"subLink_factory subLink_factory_right\"><tr><td class=\"first c-default \"><a href=\"http://www.baidu.com/link?url=0iv-YocP41Y027qn7DZ5EUK_vYSqpqbkvCiYynh8RscS6grv7KAlp_VAL0EQoLyAQxgHvRZSAtO-VwlFlPCIua\" target=\"_blank\"><em>唐太宗的名字是</em>什么?</a></td><td class=\"middle c-default \">5个回答</td><td class=\"last c-default rightTd\">2013-04-25</td></tr><tr><td class=\"first c-default \"><a href=\"http://www.baidu.com/link?url=PH617wukZM9QSWGSXpp2_NAcr6HimYoexWlHz3d6wAF5kCHo9Rs4r8Hv6203c058K5TVwQqCQ_3bjw8lr3lKvXrzExm2P7WLhJsHA2RxQjC\" target=\"_blank\"><em>李世民原名是</em>什么</a></td><td class=\"middle c-default \">4个回答</td><td class=\"last c-default rightTd\">2014-10-16</td></tr><tr><td class=\"first c-default \"><a href=\"http://www.baidu.com/link?url=_a13uaNBHqKvzlH1KJ6W43b72jqOjIjrl1HGzfvepZTD8eoLZD4BP7t2AUc-nhzlf6VbmDbmYF2-X4gsF5FCBq\" target=\"_blank\">唐朝<em>李世民</em>有哪些文官武将</a></td><td class=\"middle c-default \">4个回答</td><td class=\"last c-default rightTd\">2009-02-09</td></tr></table><a class=\"c\" href=\"http://www.baidu.com/link?url=9iJUWSNUUU7djKlexoEvNg4JKcVHJsD2qHu6S8BVpyZ8EyKwjMN-A3c4kTBxzrenksqx2EPgPja8SDyi4yy3q6yA4_WO0gccsHo90Evfvglp69LfvRIx8wGFx02gVHIlMPhltWpHAdidAXsbYXDk4MRHCw9oQA1jcMfQYbLeXNVv-oOC6TEbMwaaPUBOILcEFfYAQFOdfMtMvGPrQ-fa4iE_nVJMwzKqnBoyMv28YtcWRCrGBj8_Ri3tD2_tYlGLhNS0AKh-XDLrSISd52i6VK6M4NGEbTUFCHpsbbZa9zMwgIk8J-3ZcCpeItRbDebk\" target=\"_blank\">更多知道相关问题&gt;&gt;</a></div></div>"
      ],
      "text/plain": [
       "<IPython.core.display.HTML object>"
      ]
     },
     "metadata": {},
     "output_type": "display_data"
    },
    {
     "name": "stdout",
     "output_type": "stream",
     "text": [
      "完成搜索，进入待机状态\n",
      "待机中，按回车键继续，按q退出\n",
      "\n",
      "进入等待状态……\n",
      "正在等待答题框出现，答题框相似度: 0.208717\n",
      "正在等待答题框出现，答题框相似度: 0.650339\n",
      "发现答题框，正在等待题目文字显示完成……\n",
      "正在解析……\n",
      "Parsing pic...\n",
      "http://www.baidu.com/s?q1=唐太宗的原名叫?&q2=&q3=李渊+李世民+李隆基&q4=&rn=50\n",
      "question: 唐太宗的原名叫?\n",
      "('C', '李隆基', 1.0470886528865435)\n",
      "('B', '李世民', 0.9800567626833754)\n",
      "('A', '李渊', 0.08229410852192132)\n"
     ]
    },
    {
     "data": {
      "text/html": [
       "<div class=\"result-op c-container xpath-log\" data-click=\"{'p1':'1','rsv_bdr':'0','fm':'albk',rsv_stl:''}\" data-op=\"{'y':'EEBEAFFB'}\" id=\"1\" mu=\"https://baike.baidu.com/item/李隆基/274734\" srcid=\"1547\" tpl=\"bk_polysemy\">\n",
       "<h3 class=\"t c-gap-bottom-small\">\n",
       "<a href=\"http://www.baidu.com/link?url=nHV3s30Bc3AOknO2mZuI8O9tBO7L7DfOyU5p2QV7VbVp07oOUeIXcPQ21PZWL7sd-2dfJ8aMsc0kaeREvIeWyw4f7SMjJKPVh4CJuAAO78d9JLUaLUSRc4qvG3SgmwZ5\" target=\"_blank\"><em>李隆基</em>_百度百科</a>\n",
       "</h3>\n",
       "<div class=\"c-row\">\n",
       "<div class=\"c-span6\">\n",
       "<a class=\"op-bk-polysemy-album op-se-listen-recommend\" href=\"http://www.baidu.com/link?url=nHV3s30Bc3AOknO2mZuI8O9tBO7L7DfOyU5p2QV7VbVp07oOUeIXcPQ21PZWL7sd-2dfJ8aMsc0kaeREvIeWyw4f7SMjJKPVh4CJuAAO78d9JLUaLUSRc4qvG3SgmwZ5\" style=\"_height:141px\" target=\"_blank\">\n",
       "<img class=\"c-img c-img6\" src=\"http://t12.baidu.com/it/u=2705739359,1929909513&amp;fm=58&amp;bpow=345&amp;bpoh=439\"/>\n",
       "</a>\n",
       "</div>\n",
       "<div class=\"c-span18 c-span-last\">\n",
       "<p>主要成就：铲除韦后势力，中兴唐室，开创开元盛世</p>\n",
       "<p>\n",
       "                    简介：<em>李隆基</em>（685年9月8日—762年5月3日），即<em>唐</em>玄宗，先天元年（712年）至天宝十五年（756年）在位，因安史之乱而退位，是<em>唐</em>朝在位最长的皇帝，亦是<em>唐</em>代极盛时期的皇帝。<em>唐</em>睿宗李旦第三子，故又称李三郎，母窦德妃。大<em>唐</em>垂拱元年（685年）八月...   \n",
       "                </p>\n",
       "<p>\n",
       "<a class=\"c-gap-right-small op-se-listen-recommend\" href=\"http://www.baidu.com/link?url=2L5A_gqnhE6WHgvz9uqpHqMjdiKfu6_nfPe7SVfdghNjP3-GVQc9Uftu9GG0SaCpL6f56r0Nc2ZG7REB-ppMbG3q8xflQn9NgSRzy3IhCZqafNVCSRovQ51kOp5Ee52Q\" target=\"_blank\" title=\"人物生平\">人物生平</a>\n",
       "<a class=\"c-gap-right-small op-se-listen-recommend\" href=\"http://www.baidu.com/link?url=2L5A_gqnhE6WHgvz9uqpHqMjdiKfu6_nfPe7SVfdghNjP3-GVQc9Uftu9GG0SaCpL6f56r0Nc2ZG7REB-ppMbG3q8xflQn9NgSRzy3IhCZrVtDd3up9kfz_PQxdZw-25\" target=\"_blank\" title=\"为政举措\">为政举措</a>\n",
       "<a class=\"c-gap-right-small op-se-listen-recommend\" href=\"http://www.baidu.com/link?url=2L5A_gqnhE6WHgvz9uqpHqMjdiKfu6_nfPe7SVfdghNjP3-GVQc9Uftu9GG0SaCpL6f56r0Nc2ZG7REB-ppMbG3q8xflQn9NgSRzy3IhCZtE5p1HNRJyigiUxR06KnuH\" target=\"_blank\" title=\"艺术成就\">艺术成就</a>\n",
       "<a class=\"c-gap-right-small op-se-listen-recommend\" href=\"http://www.baidu.com/link?url=2L5A_gqnhE6WHgvz9uqpHqMjdiKfu6_nfPe7SVfdghNjP3-GVQc9Uftu9GG0SaCpL6f56r0Nc2ZG7REB-ppMbG3q8xflQn9NgSRzy3IhCZsJFGewqxVetfQvnbcglYqJ\" target=\"_blank\" title=\"轶事典故\">轶事典故</a>\n",
       "<a class=\"c-gap-right-small op-se-listen-recommend\" href=\"http://www.baidu.com/link?url=2L5A_gqnhE6WHgvz9uqpHqMjdiKfu6_nfPe7SVfdghNjP3-GVQc9Uftu9GG0SaCpL6f56r0Nc2ZG7REB-ppMbG3q8xflQn9NgSRzy3IhCZrKwOegsinuUlY81f8Cf7oM\" target=\"_blank\" title=\"人物评价\">人物评价</a>\n",
       "<a class=\"op-se-listen-recommend\" href=\"http://www.baidu.com/link?url=nHV3s30Bc3AOknO2mZuI8O9tBO7L7DfOyU5p2QV7VbVp07oOUeIXcPQ21PZWL7sd-2dfJ8aMsc0kaeREvIeWyw4f7SMjJKPVh4CJuAAO78d9JLUaLUSRc4qvG3SgmwZ5\" target=\"_blank\">更多&gt;&gt;</a>\n",
       "</p>\n",
       "<p class=\" op-bk-polysemy-move\"><span class=\"c-showurl\">baike.baidu.com/ </span><span class=\"c-tools\" data-tools=\"{title:'李隆基_百度百科',url:'http://baike.baidu.com/item/%E6%9D%8E%E9%9A%86%E5%9F%BA/274734?fr=aladdin'}\" id=\"tools_13646613801747686427_1\"><a class=\"c-tip-icon\"><i class=\"c-icon c-icon-triangle-down-g\"></i></a></span></p>\n",
       "</div>\n",
       "</div>\n",
       "</div>"
      ],
      "text/plain": [
       "<IPython.core.display.HTML object>"
      ]
     },
     "metadata": {},
     "output_type": "display_data"
    },
    {
     "data": {
      "text/html": [
       "<div class=\"result c-container \" data-click=\"{'rsv_bdr':'0' }\" id=\"2\" srcid=\"1528\" tpl=\"se_com_default\"><h3 class=\"t\"><a data-click=\"{\n",
       "\t\t\t'F':'778717EB',\n",
       "\t\t\t'F1':'9D73B1E4',\n",
       "\t\t\t'F2':'4CA6DE6B',\n",
       "\t\t\t'F3':'54E5242E',\n",
       "\t\t\t'T':'1516111525',\n",
       "\t\t\t\t\t\t'y':'DFDAB7DF'\n",
       "\t\t\t \n",
       "\t\t\t\t\t\t\t\t\t}\" href=\"http://www.baidu.com/link?url=BJBtKCmh2jAxIh76Ss6xks-2gRe1SH1vIL1kM7ScIGYP0QxEEvcku2qwPxrWMHs2s6flnbS8jDkkBx6U9HeKWK\" target=\"_blank\"><em>李世民的名是</em>什么?_百度知道</a></h3><p class=\"f13 m\">5个回答 - 提问时间: 2012年07月03日</p><div class=\"c-abstract\"><span class=\"m\">最佳答案: </span>关于“<em>李世民</em>”这个鼎鼎大名的来历,《旧唐书·本纪第二》记载:[[ 太宗文武大圣大广孝皇帝讳世民,高祖第二子也 ……高祖之临岐州,太宗时年四岁。有...</div><div class=\"f13\"><a class=\"c-showurl\" href=\"http://www.baidu.com/link?url=BJBtKCmh2jAxIh76Ss6xks-2gRe1SH1vIL1kM7ScIGYP0QxEEvcku2qwPxrWMHs2s6flnbS8jDkkBx6U9HeKWK\" style=\"text-decoration:none;\" target=\"_blank\">https://zhidao.baidu.com/quest... </a><div class=\"c-tools\" data-tools='{\"title\":\"李世民的名是什么?_百度知道\",\"url\":\"http://www.baidu.com/link?url=BJBtKCmh2jAxIh76Ss6xks-2gRe1SH1vIL1kM7ScIGYP0QxEEvcku2qwPxrWMHs2s6flnbS8jDkkBx6U9HeKWK\"}' id=\"tools_17366924882343357911_2\"><a class=\"c-tip-icon\"><i class=\"c-icon c-icon-triangle-down-g\"></i></a></div><span class=\"c-icons-outer\"><span class=\"c-icons-inner\"></span></span></div><div class=\"c-offset\"><table class=\"subLink_factory subLink_factory_right\"><tr><td class=\"first c-default \"><a href=\"http://www.baidu.com/link?url=5wS79etDtjTpRIyl-sDaxrIvdCo4R6f514CNtAzsETVCcxc-_ur66j7XRGVsbOddeTsh4GWLZdGpIA3aPoepma\" target=\"_blank\"><em>唐太宗的名字是</em>什么?</a></td><td class=\"middle c-default \">5个回答</td><td class=\"last c-default rightTd\">2013-04-25</td></tr><tr><td class=\"first c-default \"><a href=\"http://www.baidu.com/link?url=nHV3s30Bc3AOknO2mZuI8Z9RAeTq-uMTq0IERZlv6BLSmWtMEaaVjtzHSGmZ-40JqtsMlwSQJ266M7h1H7XhihstWHQFw6fV4AgI7o6wb8G\" target=\"_blank\"><em>李世民原名是</em>什么</a></td><td class=\"middle c-default \">4个回答</td><td class=\"last c-default rightTd\">2014-10-16</td></tr><tr><td class=\"first c-default \"><a href=\"http://www.baidu.com/link?url=XUsQ_b1vyUEJjCIAFgtlodEfcns_kNwSY8i_pcQw3vjF-b70C9Ke2lcOgqI618J_-_PtQd2hhPpnX2KGdx51Nq\" target=\"_blank\">唐朝<em>李世民</em>有哪些文官武将</a></td><td class=\"middle c-default \">4个回答</td><td class=\"last c-default rightTd\">2009-02-09</td></tr></table><a class=\"c\" href=\"http://www.baidu.com/link?url=2Js2wp75NVVSvHGWJw2oadGmwYjFyE2fM4TiTxRwA_IPBwgA8fby_ysK6E_m7FNrgJpIuudndRoznQr0Clo9YW3y6UXw1a_Bg9kzUzA6iUwDTGt9D-eVk97F8-oc-3oluWR9yPmu4Llzf5ZZhqM1HeEPVQXGNxIs3w9Qvo_4dUltbAu2r1KthjjMH2azOfUoml2LFwh4YvFjon039ncSTCV8gVMui6aCEpeZ6KrKyfWB7jcelrC0LZyQLOZ0aPGz747Df6GKK5H4DuQahRUXqwIkFCOwphybe10Yhs3oX7ep1vXXl8obC7IKpGvx1MeM\" target=\"_blank\">更多知道相关问题&gt;&gt;</a></div></div>"
      ],
      "text/plain": [
       "<IPython.core.display.HTML object>"
      ]
     },
     "metadata": {},
     "output_type": "display_data"
    },
    {
     "name": "stdout",
     "output_type": "stream",
     "text": [
      "完成搜索，进入待机状态\n",
      "待机中，按回车键继续，按q退出\n",
      "\n",
      "进入等待状态……\n",
      "正在等待答题框出现，答题框相似度: 0.232821\n",
      "正在等待答题框出现，答题框相似度: 0.733904\n",
      "发现答题框，正在等待题目文字显示完成……\n",
      "正在解析……\n",
      "Parsing pic...\n",
      "http://www.baidu.com/s?q1=人们经常通过注射外源性胰岛素的方法来治疗以下哪种疾病?&q2=&q3=高血压+糖尿病+骨质疏松&q4=&rn=50\n",
      "question: 人们经常通过注射外源性胰岛素的方法来治疗以下哪种疾病?\n",
      "('B', '糖尿病', 1.9999999999999858)\n",
      "('C', '骨质疏松', 6.103515625e-05)\n",
      "('A', '高血压', 7.629394588093419e-06)\n"
     ]
    },
    {
     "data": {
      "text/html": [
       "<div class=\"result c-container \" data-click=\"{'rsv_bdr':'0' }\" id=\"1\" srcid=\"1599\" tpl=\"se_com_default\"><h3 class=\"t\"><a data-click=\"{\n",
       "\t\t\t'F':'778717EA',\n",
       "\t\t\t'F1':'9D73F1E4',\n",
       "\t\t\t'F2':'4CA6DE6B',\n",
       "\t\t\t'F3':'54E5243F',\n",
       "\t\t\t'T':'1516111557',\n",
       "\t\t\t\t\t\t'y':'FFBFDE67'\n",
       "\t\t\t \n",
       "\t\t\t\t\t\t\t\t\t}\" href=\"http://www.baidu.com/link?url=ik6qWwC8GNPw37rD1g2-rglS0jTek-sVmqgI0Lvfi1u\" target=\"_blank\">39<em>糖尿病</em>_中国专业<em>糖尿病</em>网站_39健康网</a></h3><div class=\"c-row c-gap-top-small\"><div class=\"general_image_pic c-span6\"><a class=\"c-img6\" href=\"http://www.baidu.com/link?url=ik6qWwC8GNPw37rD1g2-rglS0jTek-sVmqgI0Lvfi1u\" style=\"height:75px\" target=\"_blank\"><img class=\"c-img c-img6\" src=\"http://i9.baidu.com/it/u=2712291626,107752129&amp;fm=85&amp;s=F4FEAF774333542450ED8CF90300D033\" style=\"height:75px;\"/></a></div><div class=\"c-span18 c-span-last\"><div class=\"c-abstract\">其实,<em>糖尿病</em>的到来是有迹可循的,<em>糖尿病</em>的早期症状主要有<em>以下</em>5种,赶快看看下文关于“<em>糖尿病</em>的早期……[详细] 病因|骨骼也能控糖 病因|得了<em>糖尿病</em>,务必先搞清...</div><div class=\"f13\"><a class=\"c-showurl\" href=\"http://www.baidu.com/link?url=ik6qWwC8GNPw37rD1g2-rglS0jTek-sVmqgI0Lvfi1u\" style=\"text-decoration:none;\" target=\"_blank\">tnb.39.net/ </a><div class=\"c-tools\" data-tools='{\"title\":\"39糖尿病_中国专业糖尿病网站_39健康网\",\"url\":\"http://www.baidu.com/link?url=ik6qWwC8GNPw37rD1g2-rglS0jTek-sVmqgI0Lvfi1u\"}' id=\"tools_7708511339385549326_1\"><a class=\"c-tip-icon\"><i class=\"c-icon c-icon-triangle-down-g\"></i></a></div><span class=\"c-icons-outer\"><span class=\"c-icons-inner\"></span></span> - <a class=\"m\" data-click=\"{'rsv_snapshot':'1'}\" href=\"http://cache.baiducontent.com/c?m=9d78d513d9d430a54f9ce4697c17c0171c4381132ba7a7020ca2843892732840506793ac56540777d9d20c6c16db3f4beb802104321453b78cb9835daabd85295f9f5642676b865664d50edfcd5124b137e658fed91ff0bb8025e5aec5a2d54323cd4475099781fb4d761edd6e800341e4b1e84e025e60ad9d35728f2f60599a3433bc50f890251f059686db4b4db33da66506e6d822c13d05c417b31e6b3332a05bc70e465744f73e27e8454d13e3ed4a962c6e4153a13eb7aeb7b2fc49fccb9a408f8acbb85f957795c6fdf900557023ed24cebccdb82a123115d8bac960c725cf89fbcc4ffe64dc075ccb4a075e7cbf6e83f3894086624df5977f8e2935552b1ddfc2638f7e671e34bc7958ef109a33f7cc614aaff780cec34552afeec47860fedae315f170&amp;p=8b2a9713828518fb08e2947d0c418a&amp;newp=c977de1ccd8b12a05abd9b7e0e17c4231610db2151d1d101298ffe0cc4241a1a1a3aecbf20201b01d8c57b6c06af485be0f13578350834f1f689df08d2ecce7e&amp;user=baidu&amp;fm=sc&amp;query=%C8%CB%C3%C7%BE%AD%B3%A3%CD%A8%B9%FD%D7%A2%C9%E4%CD%E2%D4%B4%D0%D4%D2%C8%B5%BA%CB%D8%B5%C4%B7%BD%B7%A8%C0%B4%D6%CE%C1%C6%D2%D4%CF%C2%C4%C4%D6%D6%BC%B2%B2%A1%3F+%28%B8%DF%D1%AA%D1%B9+%7C+%CC%C7%C4%F2%B2%A1+%7C+%B9%C7%D6%CA%CA%E8%CB%C9%29&amp;qid=a6d7902a0000a95b&amp;p1=1\" target=\"_blank\">百度快照</a><span class=\"c-pingjia\"> - <a class=\"m\" data-click=\"{'rsv_comments':'1'}\" data-from=\"ps_pc1\" href=\"http://www.baidu.com/tools?url=http%3A%2F%2Fwww.baidu.com%2Flink%3Furl%3Dik6qWwC8GNPw37rD1g2-rglS0jTek-sVmqgI0Lvfi1u&amp;jump=http%3A%2F%2Fkoubei.baidu.com%2Fp%2Fsentry%3Ftitle%3D%0139%02%E7%B3%96%E5%B0%BF%01%E7%97%85%03_%01%E4%B8%AD%E5%9B%BD%01%E4%B8%93%E4%B8%9A%02%E7%B3%96%E5%B0%BF%01%E7%97%85%03%E7%BD%91%E7%AB%99%01_%0139%01%E5%81%A5%E5%BA%B7%01%E7%BD%91%01%26q%3D%E4%BA%BA%E4%BB%AC%E7%BB%8F%E5%B8%B8%E9%80%9A%E8%BF%87%E6%B3%A8%E5%B0%84%E5%A4%96%E6%BA%90%E6%80%A7%E8%83%B0%E5%B2%9B%E7%B4%A0%E7%9A%84%E6%96%B9%E6%B3%95%E6%9D%A5%E6%B2%BB%E7%96%97%E4%BB%A5%E4%B8%8B%E5%93%AA%E7%A7%8D%E7%96%BE%E7%97%85%3F%20%28%E9%AB%98%E8%A1%80%E5%8E%8B%20%7C%20%E7%B3%96%E5%B0%BF%E7%97%85%20%7C%20%E9%AA%A8%26from%3Dps_pc1&amp;key=surl\" target=\"_blank\">评价</a></span></div></div></div></div>"
      ],
      "text/plain": [
       "<IPython.core.display.HTML object>"
      ]
     },
     "metadata": {},
     "output_type": "display_data"
    },
    {
     "data": {
      "text/html": [
       "<div class=\"result c-container \" data-click=\"{'rsv_bdr':'0' }\" id=\"2\" srcid=\"1599\" tpl=\"se_com_default\"><h3 class=\"t\"><a data-click=\"{\n",
       "\t\t\t'F':'778717EA',\n",
       "\t\t\t'F1':'9D73F1E4',\n",
       "\t\t\t'F2':'4CA6DE6B',\n",
       "\t\t\t'F3':'54E5243F',\n",
       "\t\t\t'T':'1516111557',\n",
       "\t\t\t\t\t\t'y':'BED3BB77'\n",
       "\t\t\t \n",
       "\t\t\t\t\t\t\t\t\t}\" href=\"http://www.baidu.com/link?url=_q-oOksW0OntC33EhlWvAaE5LxGoKckDcGZi3qGOEvV-zjhWmtd6ooO0CqE7f_vj\" target=\"_blank\"><em>糖尿病</em>_中华中医网</a></h3><div class=\"c-abstract\">肺<em>疾病</em> 食管贲门与腹部<em>疾病</em> 泌尿科<em>疾病</em> 运动系统<em>疾病</em> 节<em>骨</em>与关节<em>疾病</em> 常见皮肤病 新生儿<em>疾病</em> 婴幼儿童<em>疾病</em> 妇科<em>疾病</em> 经期<em>疾病</em> 孕产妇<em>疾病</em> 眼科<em>疾病</em> 耳鼻喉科<em>疾病</em> ...</div><div class=\"f13\"><a class=\"c-showurl\" href=\"http://www.baidu.com/link?url=_q-oOksW0OntC33EhlWvAaE5LxGoKckDcGZi3qGOEvV-zjhWmtd6ooO0CqE7f_vj\" style=\"text-decoration:none;\" target=\"_blank\">www.zhzyw.org/fmsz/t... </a><div class=\"c-tools\" data-tools='{\"title\":\"糖尿病_中华中医网\",\"url\":\"http://www.baidu.com/link?url=_q-oOksW0OntC33EhlWvAaE5LxGoKckDcGZi3qGOEvV-zjhWmtd6ooO0CqE7f_vj\"}' id=\"tools_14940224766707971450_2\"><a class=\"c-tip-icon\"><i class=\"c-icon c-icon-triangle-down-g\"></i></a></div><span class=\"c-icons-outer\"><span class=\"c-icons-inner\"></span></span> - <a class=\"m\" data-click=\"{'rsv_snapshot':'1'}\" href=\"http://cache.baiducontent.com/c?m=9f65cb4a8c8507ed4fece763105392230e54f72b669f9b5068d4e415d33146151827aba6617e4019c780212757a05e2de0e74702207221a0eacd9f4badace25f38fb5123001d913213c418dfdc3753d6539a4d99a40e93cce733e3b9a4d6c82753dd220e6df7f69c5b7003bb19e76331f4d09f5f655907bb9d2713fd4e012f882230a131f9f7436410f1f1ca2c3fd45ba076679db834c02962b204d5190c2534b73cb41f215027904a308c4e2a05e2fc2ce53d094634b738a4cfc5a19a3f9bade926e9fedcae5f8216e6d29cff663304458b25a9aacda54c625273dfdddf66d344b8ed9abe5be864c0602dad2d76381bce7ce781985783755a85f0698e3e522c3f7caba4758f62066c26db4d0fc71cd705ba99763acb9bec9fee1052de9fd20777e9accf55c76d1950ef304267db875d60649c&amp;p=882a9545d59c0bb50be2963f7f05c9&amp;newp=9f769a47839d0af708e2947e0e409d231610db2151d7d7116b82c825d7331b001c3bbfb42325120fd6c0796400ae485bebf7327637012ba3dda5c91d9fb4c57479dd797f28&amp;user=baidu&amp;fm=sc&amp;query=%C8%CB%C3%C7%BE%AD%B3%A3%CD%A8%B9%FD%D7%A2%C9%E4%CD%E2%D4%B4%D0%D4%D2%C8%B5%BA%CB%D8%B5%C4%B7%BD%B7%A8%C0%B4%D6%CE%C1%C6%D2%D4%CF%C2%C4%C4%D6%D6%BC%B2%B2%A1%3F+%28%B8%DF%D1%AA%D1%B9+%7C+%CC%C7%C4%F2%B2%A1+%7C+%B9%C7%D6%CA%CA%E8%CB%C9%29&amp;qid=a6d7902a0000a95b&amp;p1=2\" target=\"_blank\">百度快照</a></div></div>"
      ],
      "text/plain": [
       "<IPython.core.display.HTML object>"
      ]
     },
     "metadata": {},
     "output_type": "display_data"
    },
    {
     "name": "stdout",
     "output_type": "stream",
     "text": [
      "完成搜索，进入待机状态\n",
      "待机中，按回车键继续，按q退出\n",
      "\n",
      "进入等待状态……\n",
      "正在等待答题框出现，答题框相似度: 0.225316\n",
      "正在等待答题框出现，答题框相似度: 0.241717\n",
      "正在等待答题框出现，答题框相似度: 0.255894\n",
      "正在等待答题框出现，答题框相似度: 0.218208\n",
      "正在等待答题框出现，答题框相似度: 0.278355\n",
      "正在等待答题框出现，答题框相似度: 0.206802\n",
      "正在等待答题框出现，答题框相似度: 0.769741\n",
      "发现答题框，正在等待题目文字显示完成……\n",
      "正在解析……\n",
      "Parsing pic...\n",
      "http://www.baidu.com/s?q1=以下哪首不是张学友原唱的歌曲?&q2=&q3=爱如+潮水+心如刀割+《吻别》&q4=&rn=50\n"
     ]
    },
    {
     "data": {
      "text/html": [
       "<h2>疑似反向问题!!</h2>"
      ],
      "text/plain": [
       "<IPython.core.display.HTML object>"
      ]
     },
     "metadata": {},
     "output_type": "display_data"
    },
    {
     "name": "stdout",
     "output_type": "stream",
     "text": [
      "question: 以下哪首不是张学友原唱的歌曲?\n",
      "('C', '《吻别》', 1.999969480559228)\n",
      "('A', '《爱如潮水》', 0)\n",
      "('B', '《心如刀割》', 0)\n"
     ]
    },
    {
     "data": {
      "text/html": [
       "<div class=\"result c-container \" data-click=\"{'rsv_bdr':'0' ,'rsv_cd':'pt:40520|vLevel:3'}\" id=\"1\" srcid=\"1508\" tpl=\"se_st_single_video_zhanzhang\"><style>.wa-se-st-single-video-zhanzhang-play {\n",
       "    position: absolute;\n",
       "    height: 40px;\n",
       "    width: 40px;\n",
       "    top: 50%;\n",
       "    left: 50%;\n",
       "    margin: -20px 0 0 -20px;\n",
       "    background: url(data:image/png;base64,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) no-repeat;\n",
       "    background-size:40px 40px;\n",
       "}\n",
       ".wa-se-st-single-video-zhanzhang-play:hover {\n",
       "    background-image:url(data:image/png;base64,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);\n",
       "}</style><style>\n",
       "                .wa-se-st-image_single_video {overflow:hidden;position:relative;}\n",
       "                .wa-se-st-image_single_video img {height:91px;}</style><h3 class=\"t\"><a data-click=\"{'F':'F78717EA','F1':'9D73F1E4','F2':'4CA6DE6B','F3':'54E5243F','T':'1516111628','y':'FFDEFAFF'}\" href=\"http://www.baidu.com/link?url=vxHUrseW8QElUo39uH3RstzLuSBTUyiS4z_qYrqoBhaTXtJbCeJiaGrdD1-DI6C5tR1dY3Pg9ByaqsrlTa7e-K\" target=\"_blank\"><em>张学友</em>2017年520合肥演唱会5万人合唱<em>《吻别》</em>_腾讯视频</a></h3><div class=\"c-row c-gap-top-small\"><a class=\"wa-se-st-image_single_video c-span6\" href=\"http://www.baidu.com/link?url=vxHUrseW8QElUo39uH3RstzLuSBTUyiS4z_qYrqoBhaTXtJbCeJiaGrdD1-DI6C5tR1dY3Pg9ByaqsrlTa7e-K\" target=\"_blank\"><img alt=\"\" class=\"c-img c-img6\" src=\"http://t10.baidu.com/it/u=4148963073,3459383280&amp;fm=171&amp;s=6051E32AECF4181FA99AE39B0300508F&amp;w=121&amp;h=91&amp;img.JPEG&amp;bpow=496&amp;bpoh=280\"><span class=\"wa-se-st-single-video-zhanzhang-play\"></span></img></a><div class=\"c-span18 c-span-last\"><font size=\"-1\"><p class=\"m\"><i class=\"c-text-info c-text c-gap-right-small\"><b>[</b><span>视频</span><b>]</b></i>时长 02:24</p><p><em>音乐</em> 演唱会 美剧 韩剧 纪录片 微电影 新闻 体育 NBA 搞笑 游戏 原创 时尚 生活 拍客 汽车 科技 财经 房产 直播 影评 精品课 育儿 旅游 儒释道 热播榜 热搜...</p><div class=\"g\">v.qq.com/x/page/c0505zt0... <div class=\"c-tools\" data-tools='{\"title\":\"张学友2017年520合肥演唱会5万人合唱《吻别》_腾讯视频\",\"url\":\"http://www.baidu.com/link?url=vxHUrseW8QElUo39uH3RstzLuSBTUyiS4z_qYrqoBhaTXtJbCeJiaGrdD1-DI6C5tR1dY3Pg9ByaqsrlTa7e-K\"}' id=\"tools_11671060837923169074_1\"><a class=\"c-tip-icon\"><i class=\"c-icon c-icon-triangle-down-g\"></i></a></div> - <a class=\"m\" data-click=\"{'rsv_snapshot':'1'}\" href=\"http://cache.baiducontent.com/c?m=9f65cb4a8c8507ed19fa950d100b93711923c3202bd7a744228b8e028e260814107bb2b92020174c95c73d3857b8492bb0b6692c23467df7cdc79f3cddace42e38f95323011c914062c468a9dc3723d621e04d98dc0e91bfe733e3b9a2d3c82423dd52756df1839c2b0503cb1fe76236f4d79e5f142f07ccee2716fa4e0128885543a14689f7446810f280ca5d3cd45ad17662e4b834c02962b204d5190c2534b73cbb1f262c27914a308b372a04e3fc2de53d0a3734b738a4c8cba19c4d9bdc9b26e8fbdcdf2c821196d2998e664201458c27a9dabba53c145273d3dda913d333cced9cbd5b9910c0112cad2d7c381cb97c94f39824f1752af0f0698e3e53513f7bdaa404fc62046d26a94e0fc21cd705b4&amp;p=85759a4792df12a05aa5ce3853&amp;newp=827e8b15d9c15ded0cbe9b7c4d53d8254207dc357b9687787ec0c513fe200c01063dbee728261706d8c37f6204a4425ce8f731713c0224b48f8ee50b8af99d7f73de3b7624&amp;user=baidu&amp;fm=sc&amp;query=%D2%D4%CF%C2%C4%C4%CA%D7%B2%BB%CA%C7%D5%C5%D1%A7%D3%D1%D4%AD%B3%AA%B5%C4%B8%E8%C7%FA%3F+%28%B0%AE%C8%E7+%7C+%B3%B1%CB%AE+%7C+%D0%C4%C8%E7%B5%B6%B8%EE+%7C+%A1%B6%CE%C7%B1%F0%A1%B7%29&amp;qid=a5dbe12a0000b811&amp;p1=1\" target=\"_blank\">百度快照</a></div></font></div></div></div>"
      ],
      "text/plain": [
       "<IPython.core.display.HTML object>"
      ]
     },
     "metadata": {},
     "output_type": "display_data"
    },
    {
     "data": {
      "text/html": [
       "<div class=\"result c-container \" data-click=\"{'rsv_bdr':'0' }\" id=\"2\" srcid=\"1599\" tpl=\"se_com_default\"><h3 class=\"t\"><a data-click=\"{\n",
       "\t\t\t'F':'F78717EA',\n",
       "\t\t\t'F1':'9D73F1E4',\n",
       "\t\t\t'F2':'4CA6DE6B',\n",
       "\t\t\t'F3':'54E5243F',\n",
       "\t\t\t'T':'1516111628',\n",
       "\t\t\t\t\t\t'y':'FDD9FEDF'\n",
       "\t\t\t \n",
       "\t\t\t\t\t\t\t\t\t}\" href=\"http://www.baidu.com/link?url=hrVP_k6tMah_1N6dnAtnwiVBbx7binxBqsDCA9yQElH5smEdQhdN9R_sZyPEEj0CfRnahpLkmndzXnT2Yf98nK\" target=\"_blank\">老磁带 <em>张学友《吻别》</em>1993_唱片_通讯音像制品_孔夫子旧书网</a></h3><div class=\"c-abstract\"><span class=\" newTimeFactor_before_abs m\">2015年9月30日 - </span>老磁带 <em>张学友《吻别》</em>1993 20.00元 临时通知  本店主营的几千盘老磁带中,除未拆封的外,其余均为老旧二手磁带,上传前全部经过试听(非整盘试听,一般只...</div><div class=\"f13\"><a class=\"c-showurl\" href=\"http://www.baidu.com/link?url=hrVP_k6tMah_1N6dnAtnwiVBbx7binxBqsDCA9yQElH5smEdQhdN9R_sZyPEEj0CfRnahpLkmndzXnT2Yf98nK\" style=\"text-decoration:none;\" target=\"_blank\">book.kongfz.com/125793... </a><div class=\"c-tools\" data-tools='{\"title\":\"老磁带 张学友《吻别》1993_唱片_通讯音像制品_孔夫子旧书网\",\"url\":\"http://www.baidu.com/link?url=hrVP_k6tMah_1N6dnAtnwiVBbx7binxBqsDCA9yQElH5smEdQhdN9R_sZyPEEj0CfRnahpLkmndzXnT2Yf98nK\"}' id=\"tools_12991802787025408091_2\"><a class=\"c-tip-icon\"><i class=\"c-icon c-icon-triangle-down-g\"></i></a></div><span class=\"c-icons-outer\"><span class=\"c-icons-inner\"></span></span> - <a class=\"m\" data-click=\"{'rsv_snapshot':'1'}\" href=\"http://cache.baiducontent.com/c?m=9f65cb4a8c8507ed4fece76310468a3b40438014658a8c402b9c8448e435061e5a65e3bc22291119d2ce786106a54c5eeced22376a4376b88cbe885dabbd85595b9f5634671df65663d50edecd5124b137e129fed91cf0bb8025e3aec5a3af4352ba44740997818e4d0164dd19f70340e4b19838022913ad9e35728958605f9c3441c6508fe6251d7196f7ad4b3cc23da3120696df22c03905c415b31e6b3334aa5bc602465735f73b54e8444c13e2e94a945d6e4153a139b9aeb6b3fc48fdcb9a308f8ac8b85ee57795b2fdf900550650ed54b8bcbcc22a154f15aecfc917b425ccfdfbca48fe15a7072cb04a01587cce1a83f18c4082664df5977f8f5e35572d1dafb0638b77676e41bf4d1ba66fc5&amp;p=85759a4792df12a05aa5ce3853&amp;newp=827e8b15d9c15ded0cbe9b7c4d53d8254207dc357b9687787dc0c513fe200c01063dbee728261706d9c47e6305ae4e5debf330763c0223b68f8ee50b8af99d7f73de3b7624&amp;user=baidu&amp;fm=sc&amp;query=%D2%D4%CF%C2%C4%C4%CA%D7%B2%BB%CA%C7%D5%C5%D1%A7%D3%D1%D4%AD%B3%AA%B5%C4%B8%E8%C7%FA%3F+%28%B0%AE%C8%E7+%7C+%B3%B1%CB%AE+%7C+%D0%C4%C8%E7%B5%B6%B8%EE+%7C+%A1%B6%CE%C7%B1%F0%A1%B7%29&amp;qid=a5dbe12a0000b811&amp;p1=2\" target=\"_blank\">百度快照</a></div></div>"
      ],
      "text/plain": [
       "<IPython.core.display.HTML object>"
      ]
     },
     "metadata": {},
     "output_type": "display_data"
    },
    {
     "name": "stdout",
     "output_type": "stream",
     "text": [
      "完成搜索，进入待机状态\n",
      "待机中，按回车键继续，按q退出\n",
      "\n",
      "进入等待状态……\n",
      "正在等待答题框出现，答题框相似度: 0.790024\n",
      "发现答题框，正在等待题目文字显示完成……\n",
      "正在解析……\n",
      "Parsing pic...\n",
      "http://www.baidu.com/s?q1=相对原子质量最小的稀有气体是?&q2=&q3=氖+氦+氪&q4=&rn=50\n",
      "question: 相对原子质量最小的稀有气体是?\n",
      "('B', '氦', 1.9018330575199798)\n",
      "('C', '氪', 0.2815164765052032)\n",
      "('A', '氖', 0.15676829405128956)\n"
     ]
    },
    {
     "data": {
      "text/html": [
       "<div class=\"result-op c-container xpath-log\" data-click=\"{'p1':'1','rsv_bdr':'0','fm':'albk',rsv_stl:''}\" data-op=\"{'y':'9BD9E86F'}\" id=\"1\" mu=\"https://baike.baidu.com/item/氦/400171\" srcid=\"1547\" tpl=\"bk_polysemy\">\n",
       "<h3 class=\"t c-gap-bottom-small\">\n",
       "<a href=\"http://www.baidu.com/link?url=nksSi69nJNhqjZuM2h0quCmr1ugi9hiF6aTeyGYurI3H6WtAflD0NLlMdepHU2D8g4qmc_0TUKth9XtqzM6qdR85Trn6RMncEpAM6bbXzqe\" target=\"_blank\"><em>氦</em>_百度百科</a>\n",
       "</h3>\n",
       "<div class=\"c-row\">\n",
       "<div class=\"c-span6\">\n",
       "<a class=\"op-bk-polysemy-album op-se-listen-recommend\" href=\"http://www.baidu.com/link?url=nksSi69nJNhqjZuM2h0quCmr1ugi9hiF6aTeyGYurI3H6WtAflD0NLlMdepHU2D8g4qmc_0TUKth9XtqzM6qdR85Trn6RMncEpAM6bbXzqe\" style=\"_height:121px\" target=\"_blank\">\n",
       "<img class=\"c-img c-img6\" src=\"http://t11.baidu.com/it/u=1881093853,2350008013&amp;fm=58&amp;bpow=140&amp;bpoh=141\"/>\n",
       "</a>\n",
       "</div>\n",
       "<div class=\"c-span18 c-span-last\">\n",
       "<p>\n",
       "<em>氦</em>（Helium），为<em>稀有气体</em>的一种。元素名来源于希腊文，原意是“太阳”。1868年法国的杨森利用分光镜观察太阳表面，发现一条新的黄色谱线，并认为是属于太阳上的某个未知元素，故名<em>氦</em>。<em>氦</em>在通常情况下为无色、无味<em>的气体</em>，是唯一不能在标准...   \n",
       "                </p>\n",
       "<p>\n",
       "<a class=\"c-gap-right-small op-se-listen-recommend\" href=\"http://www.baidu.com/link?url=nksSi69nJNhqjZuM2h0qu256hkY8AiIP8nbZMd1YmrtVspuVqRiHQ32M0q1wguH7CHViDaaPH_89_nQB2-f-US36W7XRuo4vI6yrUXNP-6i\" target=\"_blank\" title=\"研究历史\">研究历史</a>\n",
       "<a class=\"c-gap-right-small op-se-listen-recommend\" href=\"http://www.baidu.com/link?url=nksSi69nJNhqjZuM2h0qu256hkY8AiIP8nbZMd1YmrtVspuVqRiHQ32M0q1wguH7CHViDaaPH_89_nQB2-f-UNdvKH3iMoyUVelmk3Qh-y3\" target=\"_blank\" title=\"含量分布\">含量分布</a>\n",
       "<a class=\"c-gap-right-small op-se-listen-recommend\" href=\"http://www.baidu.com/link?url=nksSi69nJNhqjZuM2h0qu256hkY8AiIP8nbZMd1YmrtVspuVqRiHQ32M0q1wguH7CHViDaaPH_89_nQB2-f-UKvIqM6w1w5ZYm2TOUrHEiK\" target=\"_blank\" title=\"物理性质\">物理性质</a>\n",
       "<a class=\"c-gap-right-small op-se-listen-recommend\" href=\"http://www.baidu.com/link?url=nksSi69nJNhqjZuM2h0qu256hkY8AiIP8nbZMd1YmrtVspuVqRiHQ32M0q1wguH7CHViDaaPH_89_nQB2-f-UQ_qWZ5La1d7ha4D-hi2qe3\" target=\"_blank\" title=\"化学性质\">化学性质</a>\n",
       "<a class=\"c-gap-right-small op-se-listen-recommend\" href=\"http://www.baidu.com/link?url=nksSi69nJNhqjZuM2h0qu256hkY8AiIP8nbZMd1YmrtVspuVqRiHQ32M0q1wguH7CHViDaaPH_89_nQB2-f-UUATM8g2TuzdJmus-wv2H6K\" target=\"_blank\" title=\"同位素\">同位素</a>\n",
       "<a class=\"op-se-listen-recommend\" href=\"http://www.baidu.com/link?url=nksSi69nJNhqjZuM2h0quCmr1ugi9hiF6aTeyGYurI3H6WtAflD0NLlMdepHU2D8g4qmc_0TUKth9XtqzM6qdR85Trn6RMncEpAM6bbXzqe\" target=\"_blank\">更多&gt;&gt;</a>\n",
       "</p>\n",
       "<p class=\" op-bk-polysemy-move\"><span class=\"c-showurl\">baike.baidu.com/ </span><span class=\"c-tools\" data-tools=\"{title:'氦_百度百科',url:'http://baike.baidu.com/item/%E6%B0%A6/400171?fr=aladdin'}\" id=\"tools_7287564198548883416_1\"><a class=\"c-tip-icon\"><i class=\"c-icon c-icon-triangle-down-g\"></i></a></span></p>\n",
       "</div>\n",
       "</div>\n",
       "</div>"
      ],
      "text/plain": [
       "<IPython.core.display.HTML object>"
      ]
     },
     "metadata": {},
     "output_type": "display_data"
    },
    {
     "data": {
      "text/html": [
       "<div class=\"result c-container \" data-click=\"{'rsv_bdr':'0' }\" id=\"2\" srcid=\"1599\" tpl=\"se_com_default\"><h3 class=\"t\"><a data-click=\"{\n",
       "\t\t\t'F':'778717EA',\n",
       "\t\t\t'F1':'9D73F1E4',\n",
       "\t\t\t'F2':'4CA6DE6B',\n",
       "\t\t\t'F3':'54E5243F',\n",
       "\t\t\t'T':'1516111697',\n",
       "\t\t\t\t\t\t'y':'D3F9EF77'\n",
       "\t\t\t \n",
       "\t\t\t\t\t\t\t\t\t}\" href=\"http://www.baidu.com/link?url=5idYBiEJt_0ODNTku_bN19F_lgYyxkSM-YJeggg4FGBdYMMlu_xJIn1muppz7_6c\" target=\"_blank\"><em>氦</em>_互动百科</a></h3><div class=\"c-row c-gap-top-small\"><div class=\"general_image_pic c-span6\"><a class=\"c-img6\" href=\"http://www.baidu.com/link?url=5idYBiEJt_0ODNTku_bN19F_lgYyxkSM-YJeggg4FGBdYMMlu_xJIn1muppz7_6c\" style=\"height:75px\" target=\"_blank\"><img class=\"c-img c-img6\" src=\"http://i8.baidu.com/it/u=1518578068,286958172&amp;fm=85&amp;s=488ED812414040EE086901CB0000E032\" style=\"height:75px;\"/></a></div><div class=\"c-span18 c-span-last\"><div class=\"c-abstract\"><span class=\" newTimeFactor_before_abs m\">2015年8月16日 - </span>4 19K钾 20Ca钙 21Sc钪 22Ti钛 23V钒 24Cr铬 25Mn锰 26Fe铁 27Co钴 28Ni镍 29Cu铜 30Zn锌 31Ga镓 32Ge锗 33As砷 34Se硒 35Br溴 36Kr<em>氪</em> NMLK...</div><div class=\"f13\"><a class=\"c-showurl\" href=\"http://www.baidu.com/link?url=5idYBiEJt_0ODNTku_bN19F_lgYyxkSM-YJeggg4FGBdYMMlu_xJIn1muppz7_6c\" style=\"text-decoration:none;\" target=\"_blank\">www.baike.com/wiki/<b>氦</b> </a><div class=\"c-tools\" data-tools='{\"title\":\"氦_互动百科 \",\"url\":\"http://www.baidu.com/link?url=5idYBiEJt_0ODNTku_bN19F_lgYyxkSM-YJeggg4FGBdYMMlu_xJIn1muppz7_6c\"}' id=\"tools_17436406583318963772_2\"><a class=\"c-tip-icon\"><i class=\"c-icon c-icon-triangle-down-g\"></i></a></div><span class=\"c-icons-outer\"><span class=\"c-icons-inner\"></span></span> - <a class=\"m\" data-click=\"{'rsv_snapshot':'1'}\" href=\"http://cache.baiducontent.com/c?m=9d78d513d9d430db4f9a96697d12c0101f4381132ba1d6020ca2843e96732d40506793ac51260775a0d20d6416df3d4beb802104321457c08cc9f85dabb9855b2c9f2644676c815663d50eaebb5154b537e359fed918f0ccf22592dec5a2db4327c044740b97878c4d0164dd1e830340e6b19939022e16ad9c4372ff286059ec3433b050f9912519779686db480b8374df3b57d1ed22b14d0fa856e15a0c2433f01fea51063130971e7aa059785fcbb040f05d7d5753b45fc0bd&amp;p=882a9546d69902e84ebe9b7c1b0e8f&amp;newp=8b2a97119d9400be02bd9b7e0e169e231610db2151d4d4166b82c825d7331b001c3bbfb42325120fd6c17f6304ac4f59e9f1347033012ba3dda5c91d9fb4c57479dc6c63310ddc&amp;user=baidu&amp;fm=sc&amp;query=%CF%E0%B6%D4%D4%AD%D7%D3%D6%CA%C1%BF%D7%EE%D0%A1%B5%C4%CF%A1%D3%D0%C6%F8%CC%E5%CA%C7%3F+%28%C4%CA+%7C+%BA%A4+%7C+%EB%B4%29&amp;qid=fa07ebba0000b087&amp;p1=2\" target=\"_blank\">百度快照</a></div></div></div></div>"
      ],
      "text/plain": [
       "<IPython.core.display.HTML object>"
      ]
     },
     "metadata": {},
     "output_type": "display_data"
    },
    {
     "name": "stdout",
     "output_type": "stream",
     "text": [
      "完成搜索，进入待机状态\n",
      "待机中，按回车键继续，按q退出\n",
      "\n",
      "进入等待状态……\n",
      "正在等待答题框出现，答题框相似度: 0.265058\n",
      "正在等待答题框出现，答题框相似度: 0.221446\n",
      "正在等待答题框出现，答题框相似度: 0.151815\n",
      "正在等待答题框出现，答题框相似度: 0.235856\n",
      "正在等待答题框出现，答题框相似度: 0.226434\n",
      "正在等待答题框出现，答题框相似度: 0.199557\n",
      "正在等待答题框出现，答题框相似度: 0.214228\n",
      "正在等待答题框出现，答题框相似度: 0.770567\n",
      "发现答题框，正在等待题目文字显示完成……\n",
      "正在解析……\n",
      "Parsing pic...\n",
      "http://www.baidu.com/s?q1=毛泽东诗句“虎踞龙盘今胜昔\"说的是哪个城市?&q2=&q3=长沙+贵阳+南京&q4=&rn=50\n",
      "question: 毛泽东诗句“虎踞龙盘今胜昔\"说的是哪个城市?\n",
      "('C', '南京', 1.9843597412109375)\n",
      "('A', '长沙', 0)\n",
      "('B', '贵阳', 0)\n"
     ]
    },
    {
     "data": {
      "text/html": [
       "<div class=\"result c-container \" data-click=\"{'rsv_bdr':'0' ,'rsv_cd':'pt:40520'}\" id=\"1\" srcid=\"1599\" tpl=\"se_com_default\"><h3 class=\"t\"><a data-click=\"{\n",
       "\t\t\t'F':'F78717EA',\n",
       "\t\t\t'F1':'9D73F1E4',\n",
       "\t\t\t'F2':'4CA6DE6B',\n",
       "\t\t\t'F3':'54E5243F',\n",
       "\t\t\t'T':'1516111756',\n",
       "\t\t\t\t\t\t'y':'C555FF6A'\n",
       "\t\t\t \n",
       "\t\t\t\t\t\t\t\t\t}\" href=\"http://www.baidu.com/link?url=Wd1h-7ApYpbJN3k5O6bgbrpp-Q0_46y2JJ9zONwBdkMx1WT7f__nezBSC_W4egKR1cJfuz50pNpO5-xJd8q7OpoZ3omPCG7jUtaqxJlqxxC\" target=\"_blank\">新华视点:<em>虎踞龙盘今胜昔</em>--写在<em>南京</em>解放60周年之际--新闻中心_...</a></h3><div class=\"c-abstract\"><span class=\" newTimeFactor_before_abs m\">2009年4月22日 - </span>新华网<em>南京</em>4月22日电(“新华视点”记者徐机玲、李灿、蔡玉高)1949年4月23日,人民解放军占领国民党政府首都<em>南京</em>,标志着旧政权的覆灭,共产党走上治理...</div><div class=\"f13\"><a class=\"c-showurl\" href=\"http://www.baidu.com/link?url=Wd1h-7ApYpbJN3k5O6bgbrpp-Q0_46y2JJ9zONwBdkMx1WT7f__nezBSC_W4egKR1cJfuz50pNpO5-xJd8q7OpoZ3omPCG7jUtaqxJlqxxC\" style=\"text-decoration:none;\" target=\"_blank\">news.china.com/zh_cn/n... </a><div class=\"c-tools\" data-tools='{\"title\":\"新华视点:虎踞龙盘今胜昔--写在南京解放60周年之际--新闻中心_...\",\"url\":\"http://www.baidu.com/link?url=Wd1h-7ApYpbJN3k5O6bgbrpp-Q0_46y2JJ9zONwBdkMx1WT7f__nezBSC_W4egKR1cJfuz50pNpO5-xJd8q7OpoZ3omPCG7jUtaqxJlqxxC\"}' id=\"tools_5837128490336409171_1\"><a class=\"c-tip-icon\"><i class=\"c-icon c-icon-triangle-down-g\"></i></a></div><span class=\"c-icons-outer\"><span class=\"c-icons-inner\"></span></span> - <a class=\"m\" data-click=\"{'rsv_snapshot':'1'}\" href=\"http://cache.baiducontent.com/c?m=9f65cb4a8c8507ed4fece763104a8023584380146d8d8b492cc3933fc239045c0f3cf4bc53734c198f92392602ad4b41e9f334733d082abc86c88a48d6b994282f952433761a804711d90eafbc1c639e7e841fb4ef4fe8ad813384dda2c4a95244be52120a84e7f82a1715ba7881672690d68e38624867bcfa3014e829073eec2357c630ee97317906f1e1ac5f5bb759c7606180de32a74f63a212d4086b5253d44fa609213141935854f9533c74859a2af05e7f5723c75fc2c9d6c6ec5f8dacfd419fedbaa9389410f1b499ee004767538a32cfadaac33b733508cebeda01c542ab8aedad3dec03a6634bcc5f612f1ad91b9595fc51e51351e39769e92953315801c8c775e803737845ae2918c008b173a6ff025cac9d8afb94&amp;p=8134c64ad4892ded03bd9b7c11&amp;newp=9967c64ad4b102ed00bd9b7c4653d8254207dc357b9687787ec0c513fe200c01063dbee728261706d8c37f6204a4425ce8f731713c0224b48f8ee50b8af99d7f73de55773244&amp;user=baidu&amp;fm=sc&amp;query=%C3%AB%D4%F3%B6%AB%CA%AB%BE%E4%A1%B0%BB%A2%BE%E1%C1%FA%C5%CC%BD%F1%CA%A4%CE%F4%22%CB%B5%B5%C4%CA%C7%C4%C4%B8%F6%B3%C7%CA%D0%3F+%28%B3%A4%C9%B3+%7C+%B9%F3%D1%F4+%7C+%C4%CF%BE%A9%29&amp;qid=ec8f08800000a225&amp;p1=1\" target=\"_blank\">百度快照</a></div></div>"
      ],
      "text/plain": [
       "<IPython.core.display.HTML object>"
      ]
     },
     "metadata": {},
     "output_type": "display_data"
    },
    {
     "data": {
      "text/html": [
       "<div class=\"result c-container \" data-click=\"{'rsv_bdr':'0' }\" id=\"2\" srcid=\"1599\" tpl=\"se_com_default\"><h3 class=\"t\"><a data-click=\"{\n",
       "\t\t\t'F':'F78717EA',\n",
       "\t\t\t'F1':'9D73F1E4',\n",
       "\t\t\t'F2':'4CA6DE6B',\n",
       "\t\t\t'F3':'54E5243F',\n",
       "\t\t\t'T':'1516111756',\n",
       "\t\t\t\t\t\t'y':'FEE57F56'\n",
       "\t\t\t \n",
       "\t\t\t\t\t\t\t\t\t}\" href=\"http://www.baidu.com/link?url=mBJX_1w2UsiIylwWkcWPOoCjeXELOLABEQ-uDFNywDmDstU9q5E-CtrNWesYxIQVU334KgK3A0zxTSDK4lv3eq\" target=\"_blank\"><em>南京</em> <em>虎踞龙盘</em>帝王居处</a></h3><div class=\"c-row c-gap-top-small\"><div class=\"general_image_pic c-span6\"><a class=\"c-img6\" href=\"http://www.baidu.com/link?url=mBJX_1w2UsiIylwWkcWPOoCjeXELOLABEQ-uDFNywDmDstU9q5E-CtrNWesYxIQVU334KgK3A0zxTSDK4lv3eq\" style=\"height:75px\" target=\"_blank\"><img class=\"c-img c-img6\" src=\"http://i7.baidu.com/it/u=213913677,1170778840&amp;fm=85&amp;s=801B3FD0C02542AD76042F41030000F7\" style=\"height:75px;\"/></a></div><div class=\"c-span18 c-span-last\"><div class=\"c-abstract\"><span class=\" newTimeFactor_before_abs m\">2010年6月22日 - </span>作为三国都城的其中一部分,<em>南京</em>如今已经看不到吴国的大致风貌,但是有专家指出,在三国考古以及历史研究方面,这里仍然有待进一步考究的可能,或许以后提及<em>南京</em>...</div><div class=\"f13\"><a class=\"c-showurl\" href=\"http://www.baidu.com/link?url=mBJX_1w2UsiIylwWkcWPOoCjeXELOLABEQ-uDFNywDmDstU9q5E-CtrNWesYxIQVU334KgK3A0zxTSDK4lv3eq\" style=\"text-decoration:none;\" target=\"_blank\">www.huaxia.com/zt/zhwh... </a><div class=\"c-tools\" data-tools='{\"title\":\"南京 虎踞龙盘帝王居处\",\"url\":\"http://www.baidu.com/link?url=mBJX_1w2UsiIylwWkcWPOoCjeXELOLABEQ-uDFNywDmDstU9q5E-CtrNWesYxIQVU334KgK3A0zxTSDK4lv3eq\"}' id=\"tools_3233343190668174747_2\"><a class=\"c-tip-icon\"><i class=\"c-icon c-icon-triangle-down-g\"></i></a></div><span class=\"c-icons-outer\"><span class=\"c-icons-inner\"></span></span> - <a class=\"m\" data-click=\"{'rsv_snapshot':'1'}\" href=\"http://cache.baiducontent.com/c?m=9d78d513d9d430ae4f9ee4697b10c0121843f0672ba4a0027ea48439e0732831501694ac50240704a2d20c1716dc494b9a872105341421c78cb98b5da9c885295f9f5633676df75613a30edfbd5151c237912afede6af0c9f62592dec5a2a84327cc44050b9781fb4d7013dd6e800341e4b1e84e025e60ad9c43728e5c6028ef3431b05088e6251e0d9682d94b4db33da06006e6aa22c14d05c311b31f6a3334a15bc20e46573bf73f26e8444c13e2e04a932b6e3620a13cb5aec1c7fc398acb9b458f8abcb85c9e74a185b4f62b043610ed24cdb6a0f778215202ae9099458e69efedeccd1db44bca581aa7152c6a31d36896958f21f06258e9e463f82d25262e1ddfc42eb92a2e&amp;p=9f368615d9c115fc57ef8f624b&amp;newp=8d769a47899457f108e296254b53d8254207dc357b9687787bc0c513fe200c01063dbee728261707d1c27d6602ab485bedf5317831092bb28f8ee50b8af99d7f73de78636642&amp;user=baidu&amp;fm=sc&amp;query=%C3%AB%D4%F3%B6%AB%CA%AB%BE%E4%A1%B0%BB%A2%BE%E1%C1%FA%C5%CC%BD%F1%CA%A4%CE%F4%22%CB%B5%B5%C4%CA%C7%C4%C4%B8%F6%B3%C7%CA%D0%3F+%28%B3%A4%C9%B3+%7C+%B9%F3%D1%F4+%7C+%C4%CF%BE%A9%29&amp;qid=ec8f08800000a225&amp;p1=2\" target=\"_blank\">百度快照</a></div></div></div></div>"
      ],
      "text/plain": [
       "<IPython.core.display.HTML object>"
      ]
     },
     "metadata": {},
     "output_type": "display_data"
    },
    {
     "name": "stdout",
     "output_type": "stream",
     "text": [
      "完成搜索，进入待机状态\n",
      "待机中，按回车键继续，按q退出\n",
      "\n",
      "进入等待状态……\n",
      "正在等待答题框出现，答题框相似度: 0.218916\n",
      "正在等待答题框出现，答题框相似度: 0.231622\n",
      "正在等待答题框出现，答题框相似度: 0.203084\n",
      "正在等待答题框出现，答题框相似度: 0.203231\n",
      "正在等待答题框出现，答题框相似度: 0.786702\n",
      "发现答题框，正在等待题目文字显示完成……\n",
      "正在解析……\n",
      "Parsing pic...\n",
      "http://www.baidu.com/s?q1=一般来说树枝上哪部分叶子最后枯落?&q2=&q3=树干+靠近+部分+树枝中部+树梢部分&q4=&rn=50\n",
      "question: 一般来说树枝上哪部分叶子最后枯落?\n",
      "('A', '靠近树干部分', 1.998046874067768)\n",
      "('C', '树梢部分', 1.4931001053018917)\n",
      "('B', '树枝中部', 1.0019531250004547)\n"
     ]
    },
    {
     "data": {
      "text/html": [
       "<div class=\"result c-container \" data-click=\"{'rsv_bdr':'0' }\" id=\"1\" srcid=\"1528\" tpl=\"se_com_default\"><h3 class=\"t\"><a data-click=\"{\n",
       "\t\t\t'F':'778717EA',\n",
       "\t\t\t'F1':'9D73B1E4',\n",
       "\t\t\t'F2':'4CA6DE6B',\n",
       "\t\t\t'F3':'54E5243F',\n",
       "\t\t\t'T':'1516111815',\n",
       "\t\t\t\t\t\t'y':'B6FF5B7F'\n",
       "\t\t\t \n",
       "\t\t\t\t\t\t\t\t\t}\" href=\"http://www.baidu.com/link?url=3zJCRsoadeBchMkk1ByZpZL1ZzXQwF-LzhqMCiKXfqGUW8FB8OZP8pcVvh2wv2Yvrw98WBx9A0C9oNsViN04-WR1a-t9h2GUCmtDuJo-E8C\" target=\"_blank\">秋天<em>到</em>了,<em>树枝上那部分</em>的<em>叶子最后</em>落叶_百度知道</a></h3><p class=\"f13 m\">2个回答 - 提问时间: 2015年02月08日</p><div class=\"c-abstract\"><em>树梢</em>的营养状况优于<em>树枝</em>的下部,结果就使下部<em>叶子</em>先落,顶端的<em>叶子</em>后落 本回答由网友推荐 评论 lxz56119  采纳率:81% 来自团队:生.活 擅长: 北京 购车养车 ...</div><div class=\"f13\"><a class=\"c-showurl\" href=\"http://www.baidu.com/link?url=3zJCRsoadeBchMkk1ByZpZL1ZzXQwF-LzhqMCiKXfqGUW8FB8OZP8pcVvh2wv2Yvrw98WBx9A0C9oNsViN04-WR1a-t9h2GUCmtDuJo-E8C\" style=\"text-decoration:none;\" target=\"_blank\">https://zhidao.baidu.com/quest... </a><div class=\"c-tools\" data-tools='{\"title\":\"秋天到了,树枝上那部分的叶子最后落叶_百度知道\",\"url\":\"http://www.baidu.com/link?url=3zJCRsoadeBchMkk1ByZpZL1ZzXQwF-LzhqMCiKXfqGUW8FB8OZP8pcVvh2wv2Yvrw98WBx9A0C9oNsViN04-WR1a-t9h2GUCmtDuJo-E8C\"}' id=\"tools_8721746226221026235_1\"><a class=\"c-tip-icon\"><i class=\"c-icon c-icon-triangle-down-g\"></i></a></div><span class=\"c-icons-outer\"><span class=\"c-icons-inner\"></span></span></div></div>"
      ],
      "text/plain": [
       "<IPython.core.display.HTML object>"
      ]
     },
     "metadata": {},
     "output_type": "display_data"
    },
    {
     "data": {
      "text/html": [
       "<div class=\"result c-container \" data-click=\"{'rsv_bdr':'0' }\" id=\"2\" srcid=\"1599\" tpl=\"se_com_default\"><h3 class=\"t\"><a data-click=\"{\n",
       "\t\t\t'F':'778717EA',\n",
       "\t\t\t'F1':'9D73F1E4',\n",
       "\t\t\t'F2':'4CA6DE6B',\n",
       "\t\t\t'F3':'54E5243F',\n",
       "\t\t\t'T':'1516111815',\n",
       "\t\t\t\t\t\t'y':'91BFBBBD'\n",
       "\t\t\t \n",
       "\t\t\t\t\t\t\t\t\t}\" href=\"http://www.baidu.com/link?url=4Ti1_cUggsTfYeoQ-UTL5UQjND0JI_BlJFZM-qCl5Fvk7DgwSnk-n9NoXWm2Y2-dOTqnJEy5gHhWX3cKYzHy5q\" target=\"_blank\">语文:四年级下册<em>部分</em>教案 (苏教版)_学霸学习网</a></h3><div class=\"c-abstract\">(对阿联酋人民、对自己、对同学、对那些破坏环境的人<em>??</em>你还想 对谁说) 2、老师也有话<em>要</em>说:(小黑板出示)生活在沙漠的人们,他们竭尽全力的想把沙漠改 造成...</div><div class=\"f13\"><a class=\"c-showurl\" href=\"http://www.baidu.com/link?url=4Ti1_cUggsTfYeoQ-UTL5UQjND0JI_BlJFZM-qCl5Fvk7DgwSnk-n9NoXWm2Y2-dOTqnJEy5gHhWX3cKYzHy5q\" style=\"text-decoration:none;\" target=\"_blank\">www.tceic.com/263l8111... </a><div class=\"c-tools\" data-tools='{\"title\":\"语文:四年级下册部分教案 (苏教版)_学霸学习网\",\"url\":\"http://www.baidu.com/link?url=4Ti1_cUggsTfYeoQ-UTL5UQjND0JI_BlJFZM-qCl5Fvk7DgwSnk-n9NoXWm2Y2-dOTqnJEy5gHhWX3cKYzHy5q\"}' id=\"tools_7577262999015133224_2\"><a class=\"c-tip-icon\"><i class=\"c-icon c-icon-triangle-down-g\"></i></a></div><span class=\"c-icons-outer\"><span class=\"c-icons-inner\"></span></span> - <a class=\"m\" data-click=\"{'rsv_snapshot':'1'}\" href=\"http://cache.baiducontent.com/c?m=9d78d513d9d437af4f9de4697d14c011184381132ba6d2020fd28449e3732a315016e4ac26520775a0d2086216d94d4b99f42173471451bc8cb9fc5ddccb8559299f5632671df65662d30edfbf5155c437e65efeae69f0ccf025e3aac5a5da4325cb44040a97868e4d7763dd1f830345e2b19838022f64ad9b4672fe2960589f3437b050f991251f749682d84b3cc93da16a0697de22c04a05c567b36f6d3330d15bb179465630f73f53e8343813e4ef4ae75b6e3150a13cb6aeb7b2fc3b88cbeb418f8ccfb859977796c5fd8905557023ed54cdbcc9b72a154e15afcac917b425ccfafbca38fe64d2072abe49316f35c131d2c4cd40f31147e9a22dbb3e22516e5b88e825e875073e6cf72318b51e9e7fb28d7541d8eec3d2951310f69fc2287da6aab855b71a5465b379&amp;p=86769a47c59a1de817bd9b7e0d1685&amp;newp=ce77c64ad4d206ff57ed947e5a509c231610db2151d7d1146b82c825d7331b001c3bbfb42325120fd6c0796400ae485bebf7327637012ba3dda5c91d9fb4c574799960&amp;user=baidu&amp;fm=sc&amp;query=%D2%BB%B0%E3%C0%B4%CB%B5%CA%F7%D6%A6%C9%CF%C4%C4%B2%BF%B7%D6%D2%B6%D7%D3%D7%EE%BA%F3%BF%DD%C2%E4%3F+%28%CA%F7%B8%C9+%7C+%BF%BF%BD%FC+%7C+%B2%BF%B7%D6+%7C+%CA%F7%D6%A6%D6%D0%B2%BF+%7C+%CA%F7%C9%D2%B2%BF%B7%D6%29&amp;qid=ab86ccc10000d246&amp;p1=2\" target=\"_blank\">百度快照</a></div></div>"
      ],
      "text/plain": [
       "<IPython.core.display.HTML object>"
      ]
     },
     "metadata": {},
     "output_type": "display_data"
    },
    {
     "name": "stdout",
     "output_type": "stream",
     "text": [
      "完成搜索，进入待机状态\n",
      "待机中，按回车键继续，按q退出\n",
      "q\n"
     ]
    }
   ],
   "source": [
    "game = 'baiwan'\n",
    "engine = 'baidu'\n",
    "\n",
    "STATE_STANDBY = 0\n",
    "STATE_PARSING = 1\n",
    "STATE_COOLDOWN = 2\n",
    "\n",
    "state = STATE_COOLDOWN\n",
    "\n",
    "if game == 'baiwan':\n",
    "    questionbox_template = cv2.imread('template_baiwan.jpg')\n",
    "\n",
    "while True:\n",
    "    if state == STATE_STANDBY:\n",
    "        im = capture_img()\n",
    "        \n",
    "        match = cv2.matchTemplate(im,\n",
    "            questionbox_template,\n",
    "            cv2.TM_CCOEFF_NORMED)\n",
    "        print('正在等待答题框出现，答题框相似度:', match.max())\n",
    "        if match.max() > 0.6:\n",
    "            # 等待文字显示动画完成\n",
    "            print('发现答题框，正在等待题目文字显示完成……')\n",
    "            time.sleep(0.5)\n",
    "            state = STATE_PARSING\n",
    "        else:\n",
    "            time.sleep(0.1)\n",
    "    elif state == STATE_PARSING:\n",
    "        print('正在解析……')\n",
    "        im = capture_img()\n",
    "        \n",
    "        match = cv2.matchTemplate(im,\n",
    "            questionbox_template,\n",
    "            cv2.TM_CCOEFF_NORMED)\n",
    "#         print(match)\n",
    "        if match.max() > 0.6:\n",
    "            ok = search_ans_from_pic(im[:1200,:,:], game=game)\n",
    "        \n",
    "            if ok:\n",
    "                print('完成搜索，进入待机状态')\n",
    "                state = STATE_COOLDOWN\n",
    "            else:\n",
    "                print('未找到答案，重新解析题目文本……')\n",
    "                time.sleep(0.1)\n",
    "        else:\n",
    "            print('答题框消失，进入等待状态')\n",
    "            state = STATE_STANDBY\n",
    "    elif state == STATE_COOLDOWN:\n",
    "        print('待机中，按回车键继续，按q退出')\n",
    "        ipt = input()\n",
    "        if ipt != 'q':\n",
    "            print('进入等待状态……')\n",
    "            state = STATE_STANDBY\n",
    "        else:\n",
    "            break"
   ]
  },
  {
   "cell_type": "code",
   "execution_count": 18,
   "metadata": {
    "scrolled": false
   },
   "outputs": [
    {
     "name": "stdout",
     "output_type": "stream",
     "text": [
      "http://www.baidu.com/s?q1=以下哪个海沟最深?&q2=&q3=&q4=&rn=50\n",
      "世界上最深的海沟是什么?它在哪个洋?_百度知道 [7, 7, 6] [7.048729124558213, 7.052568256825683, 6.051394983164706]\n",
      "世界各大洋最深海沟是哪个_百度知道 [7, 7, 6] [13.92600963251999, 13.934684525870518, 11.95444350041779]\n",
      "最深的海沟马里亚纳海沟位于哪个洋()A、太平洋B、印度洋C..._上学吧 [12, 8, 8] [24.953861033374245, 21.433976775988405, 19.453735750535678]\n",
      "question: 以下哪个海沟最深?\n",
      "('A', '马里亚纳海沟', 60.57339556490939)\n",
      "('B', '波多黎各海沟', 51.401147486097564)\n",
      "('C', '菲律宾海沟', 51.174424748193935)\n"
     ]
    },
    {
     "data": {
      "text/html": [
       "<div class=\"result-op c-container xpath-log\" data-click=\"{'p1':'1','rsv_bdr':'0','fm':'as',rsv_stl:'1'}\" data-op=\"{'y':'E69AFBFD'}\" id=\"1\" mu=\"https://zhidao.baidu.com/question/4513047.html\" srcid=\"1532\" tpl=\"best_answer\">\n",
       "<div class=\"c-border\">\n",
       "<div class=\"op_best_answer_question c-row\">\n",
       "<div class=\"op_best_answer_icon c-gap-right\"><i class=\"c-text c-text-safe\">问</i></div>\n",
       "<div class=\"op_best_answer_content\">\n",
       "<a class=\"op_best_answer_question_link\" href=\"http://www.baidu.com/link?url=xT4G0saqLBW-9c9xTP5PmTtBpRPmzpyO_SHNKwUmqHbmfUy6v212esVKiOSWwXmBzWi1aye8Hm-hz2z8fShCP_\" target=\"_blank\" title=\"世界上最深的海沟是哪个？\">世界上<em>最深</em>的<em>海沟</em>是<em>哪个</em>？_百度知道</a> </div>\n",
       "</div>\n",
       "<div class=\"op_best_answer_answer c-row c-gap-top-small\">\n",
       "<div class=\"op_best_answer_icon c-gap-right\"><i class=\"c-text c-text-important\">答</i></div>\n",
       "<div class=\"op_best_answer_content\">\n",
       "<p> 马里亚纳海沟:世界上最深的海沟,最深点为10，911米 </p>\n",
       "<p> 马里亚纳海沟是地球上最深的地方，位于北太平洋西部马里亚纳群岛以东，为一条洋底弧形洼地，延伸2550公里，平均宽69公里。 主海沟底部有较小陡壁谷...<span class=\"op_best_answer_answer_more c-gap-left-small\"><a href=\"http://www.baidu.com/link?url=xT4G0saqLBW-9c9xTP5PmTtBpRPmzpyO_SHNKwUmqHbmfUy6v212esVKiOSWwXmBzWi1aye8Hm-hz2z8fShCP_\" target=\"_blank\">详情&gt;&gt;</a></span></p>\n",
       "</div>\n",
       "</div>\n",
       "<div class=\"op_best_answer_source c-clearfix\">\n",
       "        来自<a href=\"http://www.baidu.com/link?url=xT4G0saqLBW-9c9xTP5PmTtBpRPmzpyO_SHNKwUmqHbmfUy6v212esVKiOSWwXmBzWi1aye8Hm-hz2z8fShCP_\" target=\"_blank\">百度知道</a><span class=\"op_best_answer_source_sep\">|</span><a class=\"op_best_answer_feedback OP_LOG_BTN\" data-click=\"{info:'报错'}\" href=\"javascript:;\">报错</a>\n",
       "</div>\n",
       "<div class=\"op_best_answer_ext c-gap-top\">\n",
       "<p class=\"op_best_answer_otheranswer c-gap-top-small\">\n",
       "<a href=\"http://www.baidu.com/link?url=4Z8x_5AZ2t_Fws6em_WWjCx6Gw2aWJEgpw_Z1TDxQjwmYnN7Rfhjpqq-BC6Kr9qOAKOAxkosK4GU5_7vG6jqliPIavZ1refRPsGolA32Une\" target=\"_blank\" title=\"\u0002世界\u0003上\u0001海底\u0002那个\u0003地方\u0002最\u0001深\u0003\"><em>世界</em>上海底<em>那个</em>地方<em>最深</em></a> <span>5个回答</span> <span>2016-02-10</span> </p>\n",
       "<p class=\"op_best_answer_otheranswer \">\n",
       "<a href=\"http://www.baidu.com/link?url=4Z8x_5AZ2t_Fws6em_WWjCx6Gw2aWJEgpw_Z1TDxQjwmYnN7Rfhjpqq-BC6Kr9qO6bTrjhAJcWXgu7Wzmgk8Sw965loxnwf8rmvN6c-heI3\" target=\"_blank\" title=\"\u0002世界\u0003上\u0002最\u0001深\u0003的\u0002海沟\u0003在\u0002哪个\u0003洋\u0001?\u0001\"><em>世界</em>上<em>最深</em>的<em>海沟</em>在<em>哪个</em>洋?</a> <span>1个回答</span> <span>2014-08-15</span> </p>\n",
       "<p class=\"op_best_answer_moreanswer\"><a href=\"http://www.baidu.com/link?url=hPgTaXA-qPcZQrhcspcAhRGorJgnsn8ip6jsICEwmbYg_cCW4Kd3qQqcAgwuTTx1yRIPZWXhaLiqKquOgpvvvuTaxGXYPGV0gy0uPUbV7lK1lGcdcQppnDLJmX-AoxAd0OuM08swgCEAoLoc1vOMsfeikYdMBfUStn0LUuyWZy3\" target=\"_blank\">更多相关问答&gt;&gt;</a></p>\n",
       "</div>\n",
       "</div>\n",
       "<script data-compress=\"off\">\n",
       "    A.setup({ \n",
       "        listData : [\" \\u9a6c\\u91cc\\u4e9a\\u7eb3\\u6d77\\u6c9f:\\u4e16\\u754c\\u4e0a\\u6700\\u6df1\\u7684\\u6d77\\u6c9f,\\u6700\\u6df1\\u70b9\\u4e3a10\\uff0c911\\u7c73 \",\" \\u9a6c\\u91cc\\u4e9a\\u7eb3\\u6d77\\u6c9f\\u662f\\u5730\\u7403\\u4e0a\\u6700\\u6df1\\u7684\\u5730\\u65b9\\uff0c\\u4f4d\\u4e8e\\u5317\\u592a\\u5e73\\u6d0b\\u897f\\u90e8\\u9a6c\\u91cc\\u4e9a\\u7eb3\\u7fa4\\u5c9b\\u4ee5\\u4e1c\\uff0c\\u4e3a\\u4e00\\u6761\\u6d0b\\u5e95\\u5f27\\u5f62\\u6d3c\\u5730\\uff0c\\u5ef6\\u4f382550\\u516c\\u91cc\\uff0c\\u5e73\\u5747\\u5bbd69\\u516c\\u91cc\\u3002 \\u4e3b\\u6d77\\u6c9f\\u5e95\\u90e8\\u6709\\u8f83\\u5c0f\\u9661\\u58c1\\u8c37\\u5730\\u3002 1957\\u5e74\\u82cf\\u8054\\u8c03\\u67e5\\u8239\\u6d4b\\u523010990\\u7c73\\u6df1\\u5ea6\\uff0c\\u540e\\u53c8\\u670911034\\u7c73\\u7684\\u65b0\\u8bb0\\u5f55\\u3002 \"]\n",
       "    }); \n",
       "</script>\n",
       "</div>"
      ],
      "text/plain": [
       "<IPython.core.display.HTML object>"
      ]
     },
     "metadata": {},
     "output_type": "display_data"
    },
    {
     "data": {
      "text/html": [
       "<div class=\"result c-container \" data-click=\"{'rsv_bdr':'0' }\" id=\"2\" srcid=\"1599\" tpl=\"se_com_default\"><h3 class=\"t\"><a data-click=\"{\n",
       "\t\t\t'F':'778717E8',\n",
       "\t\t\t'F1':'9D73F1E4',\n",
       "\t\t\t'F2':'4CA6DD6B',\n",
       "\t\t\t'F3':'54E5343D',\n",
       "\t\t\t'T':'1516673039',\n",
       "\t\t\t\t\t\t'y':'DFF77FFF'\n",
       "\t\t\t \n",
       "\t\t\t\t\t\t\t\t\t}\" href=\"http://www.baidu.com/link?url=t7ezUmPd7oPEURMyovbCVCDygQhqItEK1C0hEEDapLeRknZ4GjrseEgGX2fqHYU3J8MvchgZp4H2HNPfImJaqK\" target=\"_blank\"><em>世界</em>上<em>最深</em>的<em>海沟</em>,马里亚纳<em>海沟</em>(<em>最深</em>记录11034米) —【<em>世界</em>之最网】</a></h3><div class=\"c-row c-gap-top-small\"><div class=\"general_image_pic c-span6\"><a class=\"c-img6\" href=\"http://www.baidu.com/link?url=t7ezUmPd7oPEURMyovbCVCDygQhqItEK1C0hEEDapLeRknZ4GjrseEgGX2fqHYU3J8MvchgZp4H2HNPfImJaqK\" style=\"height:75px\" target=\"_blank\"><img class=\"c-img c-img6\" src=\"http://i7.baidu.com/it/u=129179214,115716526&amp;fm=85&amp;s=B98264D8CAA1A77C12F6EF870300608B\" style=\"height:75px;\"/></a></div><div class=\"c-span18 c-span-last\"><div class=\"c-abstract\"><span class=\" newTimeFactor_before_abs m\">2015年7月25日 - </span>地球表面71%都被海洋覆盖,庞大的海洋系统有着太多的不为人知的秘密,海洋<em>最深</em>处也是离地心最近的地方,那么<em>世界</em>上<em>最深</em>的<em>海沟</em>是<em>哪个?</em>至少在目前,大家公认的是马里亚...</div><div class=\"f13\"><a class=\"c-showurl\" href=\"http://www.baidu.com/link?url=t7ezUmPd7oPEURMyovbCVCDygQhqItEK1C0hEEDapLeRknZ4GjrseEgGX2fqHYU3J8MvchgZp4H2HNPfImJaqK\" style=\"text-decoration:none;\" target=\"_blank\">https://www.souid.com/archives... </a><div class=\"c-tools\" data-tools='{\"title\":\"世界上最深的海沟,马里亚纳海沟(最深记录11034米) —【世界之最网】\",\"url\":\"http://www.baidu.com/link?url=t7ezUmPd7oPEURMyovbCVCDygQhqItEK1C0hEEDapLeRknZ4GjrseEgGX2fqHYU3J8MvchgZp4H2HNPfImJaqK\"}' id=\"tools_1054210949194580087_2\"><a class=\"c-tip-icon\"><i class=\"c-icon c-icon-triangle-down-g\"></i></a></div><span class=\"c-icons-outer\"><span class=\"c-icons-inner\"></span></span> - <a class=\"m\" data-click=\"{'rsv_snapshot':'1'}\" href=\"http://cache.baiducontent.com/c?m=9f65cb4a8c8507ed19fa950d100b92235c4380147d8a974e29c3933fc239045c1426b2e17c664745cec6766d0ab8492bb0b6692c23467df7cdc79f3cddace42e38f95323011c914062c468a9dc3723d6509a4d9dab0ee6cae742e0b9a1d2c82458dd23026d81809c2c0503bd18e71541f4d7925f6228&amp;p=9c3bd403cd904ead34bd9b7e0d178c&amp;newp=9e34cc16d9c15dff57ed947f5a5e85231610db2151d7d7136b82c825d7331b001c3bbfb423251304d5c3786d0ba84b5cecf531793d012ba3dda5c91d9fb4c5747994&amp;user=baidu&amp;fm=sc&amp;query=%D2%D4%CF%C2%C4%C4%B8%F6%BA%A3%B9%B5%D7%EE%C9%EE%3F&amp;qid=cb572f520004b9db&amp;p1=2\" target=\"_blank\">百度快照</a></div></div></div></div>"
      ],
      "text/plain": [
       "<IPython.core.display.HTML object>"
      ]
     },
     "metadata": {},
     "output_type": "display_data"
    },
    {
     "name": "stdout",
     "output_type": "stream",
     "text": [
      "http://www.baidu.com/s?q1=“桃李满天下”中的“桃李”一般用来指代?&q2=&q3=&q4=&rn=50\n",
      "为什么用“桃李”指代学生_百度知道 [0, 2, 0] [0.0, 2.008258057321289, 0.0]\n",
      "\"桃李满天下\"中的\"桃李\"是什么意思??_百度知道 [0, 2, 0] [0.0, 3.902163718053103, 0.0]\n",
      "令公桃李满天下这句诗什么意思?用了什么样的修辞手法?_百度知道 [1, 1, 0] [0.9096222025846216, 4.819592966454938, 0.0]\n",
      "question: “桃李满天下”中的“桃李”一般用来指代?\n",
      "('B', '学生', 16.667370464478328)\n",
      "('A', '老师', 2.8402268848389256)\n",
      "('C', '前辈', 0.0)\n"
     ]
    },
    {
     "data": {
      "text/html": [
       "<div class=\"result c-container \" data-click=\"{'rsv_bdr':'0' ,'rsv_cd':'pt:40520'}\" id=\"1\" srcid=\"1599\" tpl=\"se_com_default\"><h3 class=\"t\"><a data-click=\"{\n",
       "\t\t\t'F':'778717E8',\n",
       "\t\t\t'F1':'9D43F1E4',\n",
       "\t\t\t'F2':'4CA6DE6B',\n",
       "\t\t\t'F3':'54E5243D',\n",
       "\t\t\t'T':'1516673041',\n",
       "\t\t\t\t\t\t'y':'FFF6A6BE'\n",
       "\t\t\t \n",
       "\t\t\t\t\t\t\t\t\t}\" href=\"http://www.baidu.com/link?url=DH6BpeozyyF2uCLOUV8qeSj_2tUqnK9hNWftoNAIjKeXJHRyvD7G7rhl-16SIsjB\" target=\"_blank\">为何<em>用</em>“<em>桃李</em>”<em>指代</em>学生?_搜狐教育_搜狐网</a></h3><div class=\"c-abstract\"><span class=\" newTimeFactor_before_abs m\">6天前 - </span>我们常用“<em>桃李满天下</em>”来赞美老师培育了众多的学生。这里的“<em>桃李</em>”,指的就是学生。 <em>用</em>“<em>桃李</em>”<em>指代</em>学生,在古籍中也有很多记载,如唐·刘禹锡《宣上...</div><div class=\"f13\"><a class=\"c-showurl\" href=\"http://www.baidu.com/link?url=DH6BpeozyyF2uCLOUV8qeSj_2tUqnK9hNWftoNAIjKeXJHRyvD7G7rhl-16SIsjB\" style=\"text-decoration:none;\" target=\"_blank\">www.sohu.com/a/2171736... </a><div class=\"c-tools\" data-tools='{\"title\":\"为何用“桃李”指代学生?_搜狐教育_搜狐网\",\"url\":\"http://www.baidu.com/link?url=DH6BpeozyyF2uCLOUV8qeSj_2tUqnK9hNWftoNAIjKeXJHRyvD7G7rhl-16SIsjB\"}' id=\"tools_7752501862049027810_1\"><a class=\"c-tip-icon\"><i class=\"c-icon c-icon-triangle-down-g\"></i></a></div><span class=\"c-icons-outer\"><span class=\"c-icons-inner\"></span></span> - <a class=\"m\" data-click=\"{'rsv_snapshot':'1'}\" href=\"http://cache.baiducontent.com/c?m=9d78d513d9d430de4f9b94697c14c0116e4381132ba6d0020ba78449e3732a30501192ac56560775d3d27c1616d94d4b9cf22173471450b08cb98e5dddca85595e9f5134676d845665a40eafba5153c137e02afedf1bf0cdf12592dec5a5de4322cb44747897808d4d0164dd19f40341e9b19838022f16ad994371b8192926c56506f450f8932f7342c4b3ca5c3b82778a260697d864ed610fe60ea41c1e2741a148bb03462144e14d24fa4036&amp;p=9f6dc64ad49600ff57e89766515c&amp;newp=8b2a97179edb11a05deec53f585192695c02dc3051d3d601298ffe0cc4241a1a1a3aecbb24241502d9c478610abb0f31aba7747d605f76e5d3d0&amp;user=baidu&amp;fm=sc&amp;query=%A1%B0%CC%D2%C0%EE%C2%FA%CC%EC%CF%C2%A1%B1%D6%D0%B5%C4%A1%B0%CC%D2%C0%EE%A1%B1%D2%BB%B0%E3%D3%C3%C0%B4%D6%B8%B4%FA%3F&amp;qid=b7249e9100054203&amp;p1=1\" target=\"_blank\">百度快照</a></div></div>"
      ],
      "text/plain": [
       "<IPython.core.display.HTML object>"
      ]
     },
     "metadata": {},
     "output_type": "display_data"
    },
    {
     "data": {
      "text/html": [
       "<div class=\"result c-container \" data-click=\"{'rsv_bdr':'0' }\" id=\"2\" srcid=\"1529\" tpl=\"se_com_default\"><h3 class=\"t\"><a data-click=\"{\n",
       "\t\t\t'F':'778717E8',\n",
       "\t\t\t'F1':'9D73F1E4',\n",
       "\t\t\t'F2':'4CA6DE6B',\n",
       "\t\t\t'F3':'54E5243D',\n",
       "\t\t\t'T':'1516673041',\n",
       "\t\t\t\t\t\t'y':'FEE2FEFF'\n",
       "\t\t\t \n",
       "\t\t\t\t\t\t\t\t\t}\" href=\"http://www.baidu.com/link?url=bRPxPizhlopx8cIEr6qP_OVDb_Hi4lrMtqAqdSqbYjRlJX5m09rYHGX3bTJQF6UtjQQilrzw0_A-mIIm8njbYMmfs1Qol_2rwbITyJGyENS\" target=\"_blank\">为什么<em>用</em>“<em>桃李</em>”<em>指代</em>学生_百度知道</a></h3><p class=\"f13 m\">1个回答 - 最新回答: 2013年10月25日 - 12人觉得有用</p><div class=\"c-abstract\"><span class=\"m\">最佳答案: </span><em>桃李</em>原本就是指桃和李。在我国最早的诗歌总集《诗经》中就有华如<em>桃李</em>的诗句,因此后世<em>用桃李</em>来形容貌美,也喻人青春年少。 它最早源自西汉学者韩婴(生...<br/><a class=\"c\" href=\"http://zhidao.baidu.com/q?ct=17&amp;pn=0&amp;tn=ikaslist&amp;rn=10&amp;word=%E2%80%9C%E6%A1%83%E6%9D%8E%E6%BB%A1%E5%A4%A9%E4%B8%8B%E2%80%9D%E4%B8%AD%E7%9A%84%E2%80%9C%E6%A1%83%E6%9D%8E%E2%80%9D%E4%B8%80%E8%88%AC%E7%94%A8%E6%9D%A5%E6%8C%87%E4%BB%A3%3F\" target=\"_blank\">更多关于“桃李满天下”中的“桃李”一般用来指代?的问题&gt;&gt;</a></div><div class=\"f13\"><a class=\"c-showurl\" href=\"http://www.baidu.com/link?url=bRPxPizhlopx8cIEr6qP_OVDb_Hi4lrMtqAqdSqbYjRlJX5m09rYHGX3bTJQF6UtjQQilrzw0_A-mIIm8njbYMmfs1Qol_2rwbITyJGyENS\" style=\"text-decoration:none;\" target=\"_blank\">https://zhidao.baidu.com/quest... </a><div class=\"c-tools\" data-tools='{\"title\":\"为什么用“桃李”指代学生_百度知道\",\"url\":\"http://www.baidu.com/link?url=bRPxPizhlopx8cIEr6qP_OVDb_Hi4lrMtqAqdSqbYjRlJX5m09rYHGX3bTJQF6UtjQQilrzw0_A-mIIm8njbYMmfs1Qol_2rwbITyJGyENS\"}' id=\"tools_15965612509845534837_2\"><a class=\"c-tip-icon\"><i class=\"c-icon c-icon-triangle-down-g\"></i></a></div><span class=\"c-icons-outer\"><span class=\"c-icons-inner\"></span></span> - <a class=\"m\" data-click=\"{'rsv_snapshot':'1'}\" href=\"http://cache.baiducontent.com/c?m=9d78d513d9d430de4f9b94697c14c0116e4381132ba6d0020ba78449e3732a30501192ac56560775d3d27c1616d94d4b9cf22173471450b08cb98e5dddca85595e9f5134676d845665a40eafba5153c137e02afedf1bf0cdf12592dec5a5de4322cb44747897808d4d0164dd19f40341e9b19838022f16ad994371b8192926c56506f406eee141731ac9ac860a1f9e3dd01641c4f463f72912c242f940066703f70df7530c7a2de34926fd423e0197e05be62a7c4525b24fb6b2d6b69c12ca83b4&amp;p=c964cc5484904ead0fbd9b790a55&amp;newp=c3769a47cc9b05ff57ea933e454e9269510edb356f8acf512496fe4291700d1a2a22b4fb66794d58dcc17b6401a94d5cebf63279340426b49dca8b4fc9fdff6978ca28632c4a9c1956&amp;user=baidu&amp;fm=sc&amp;query=%A1%B0%CC%D2%C0%EE%C2%FA%CC%EC%CF%C2%A1%B1%D6%D0%B5%C4%A1%B0%CC%D2%C0%EE%A1%B1%D2%BB%B0%E3%D3%C3%C0%B4%D6%B8%B4%FA%3F&amp;qid=b7249e9100054203&amp;p1=2\" target=\"_blank\">百度快照</a></div></div>"
      ],
      "text/plain": [
       "<IPython.core.display.HTML object>"
      ]
     },
     "metadata": {},
     "output_type": "display_data"
    },
    {
     "name": "stdout",
     "output_type": "stream",
     "text": [
      "http://www.baidu.com/s?q1=食用适量的海苔可以预防甲状腺肿大是因为海苔中的哪种元素?&q2=&q3=&q4=&rn=50\n",
      "海苔健康营养价值有哪些 海苔食用注意事项及作用_百度知道 [0, 0, 0] [0.0, 0.0, 0.0]\n",
      "多吃海带能预防甲状腺肿大是因为其中富含哪种元素?_百度知道 [0, 0, 0] [0.0, 0.0, 0.0]\n",
      "宝妈可以吃海苔吗,影响BB吃人奶吗_百度知道 [0, 0, 0] [0.0, 0.0, 0.0]\n",
      "question: 食用适量的海苔可以预防甲状腺肿大是因为海苔中的哪种元素?\n",
      "('A', '钙', 0.0)\n",
      "('B', '碘', 0.0)\n",
      "('C', '锌', 0.0)\n"
     ]
    },
    {
     "data": {
      "text/html": [
       "<div class=\"result c-container \" data-click=\"{'rsv_bdr':'0' }\" id=\"1\" srcid=\"1599\" tpl=\"se_com_default\"><h3 class=\"t\"><a data-click=\"{\n",
       "\t\t\t'F':'778717E8',\n",
       "\t\t\t'F1':'9D73E1E4',\n",
       "\t\t\t'F2':'4CA6DE6B',\n",
       "\t\t\t'F3':'54E5243D',\n",
       "\t\t\t'T':'1516673044',\n",
       "\t\t\t\t\t\t'y':'747DFF4F'\n",
       "\t\t\t \n",
       "\t\t\t\t\t\t\t\t\t}\" href=\"http://www.baidu.com/link?url=riBrVyKrVJRTCIh6ECzhaoWZmJjSDNfDn6mKOsLtowpeDysxOIzbHAghkvqAHMJ56_eN4OnOKu27rl2ujOhbk5Bb4oMC2G7QKbZ-lGz8CMy\" target=\"_blank\"><em>海苔的</em>营养价值 常<em>食用海苔的</em>好处有哪些 - 民福康健康</a></h3><div class=\"c-row c-gap-top-small\"><div class=\"general_image_pic c-span6\"><a class=\"c-img6\" href=\"http://www.baidu.com/link?url=riBrVyKrVJRTCIh6ECzhaoWZmJjSDNfDn6mKOsLtowpeDysxOIzbHAghkvqAHMJ56_eN4OnOKu27rl2ujOhbk5Bb4oMC2G7QKbZ-lGz8CMy\" style=\"height:75px\" target=\"_blank\"><img class=\"c-img c-img6\" src=\"http://i9.baidu.com/it/u=2343337784,3107250678&amp;fm=85&amp;s=F16A2FF3C082D2F51E3C732E0300F045\" style=\"height:75px;\"/></a></div><div class=\"c-span18 c-span-last\"><div class=\"c-abstract\"><span class=\" newTimeFactor_before_abs m\">2015年1月8日 - </span>有些零食<em>适当的吃</em>一些,反而对身体好哦,比如,<em>海苔</em>。...<em>海苔中</em>含有15%左右的矿物质,其中有维持正常生理功能...“<em>甲状腺肿大</em>”,有软坚散结功能,对其他郁结积块也有...</div><div class=\"f13\"><a class=\"c-showurl\" href=\"http://www.baidu.com/link?url=riBrVyKrVJRTCIh6ECzhaoWZmJjSDNfDn6mKOsLtowpeDysxOIzbHAghkvqAHMJ56_eN4OnOKu27rl2ujOhbk5Bb4oMC2G7QKbZ-lGz8CMy\" style=\"text-decoration:none;\" target=\"_blank\">www.39yst.com/yingyang... </a><div class=\"c-tools\" data-tools='{\"title\":\"海苔的营养价值 常食用海苔的好处有哪些 - 民福康健康\",\"url\":\"http://www.baidu.com/link?url=riBrVyKrVJRTCIh6ECzhaoWZmJjSDNfDn6mKOsLtowpeDysxOIzbHAghkvqAHMJ56_eN4OnOKu27rl2ujOhbk5Bb4oMC2G7QKbZ-lGz8CMy\"}' id=\"tools_2303715444424004952_1\"><a class=\"c-tip-icon\"><i class=\"c-icon c-icon-triangle-down-g\"></i></a></div><span class=\"c-icons-outer\"><span class=\"c-icons-inner\"></span></span> - <a class=\"m\" data-click=\"{'rsv_snapshot':'1'}\" href=\"http://cache.baiducontent.com/c?m=9d78d513d9d430dc4f9d95697b17c017184381132ba6a3020ea7843990732b35506793ac57250775d5d27d1716df3a4b99f12103461453b38cc9f85dadcf8559249f5134676a805613a30ed9cd5156c737e05ffede1bf0bb8025e3dfc5a5da4325cf44757c9781ff4d761fdd6e800347e7b1ef4d022f16ad993172fe296058ec3431b350f8902518079682dd4b3db43da3120696df22c04d05c612b36e6a3337a45bb078465034f73925e8454d13e2ec4a962c6e4153a139b5aeb0b0fc49fccb9c358f8ccfb82ee57790c3fd8a02550122ed53b4bffaf2636b1f449f88c917b72fa1bfa9ff5be963d61b17fb1b612f1c9f36cb9fc40cae3711a7bb3de3687861735b85e028e275726c36aa3d05b11cc474ba88614bababc7cec04b&amp;p=8b2a971991934eaf5be8d426564ecb&amp;newp=882a9546d39801ee0dbe9b7c496496231610db2151d3d501298ffe0cc4241a1a1a3aecbf20211002d1c77a6c0aae4c59e1f43770350834f1f689df08d2ecce7e74c86661&amp;user=baidu&amp;fm=sc&amp;query=%CA%B3%D3%C3%CA%CA%C1%BF%B5%C4%BA%A3%CC%A6%BF%C9%D2%D4%D4%A4%B7%C0%BC%D7%D7%B4%CF%D9%D6%D7%B4%F3%CA%C7%D2%F2%CE%AA%BA%A3%CC%A6%D6%D0%B5%C4%C4%C4%D6%D6%D4%AA%CB%D8%3F&amp;qid=ce4deeec0004a0d3&amp;p1=1\" target=\"_blank\">百度快照</a></div></div></div></div>"
      ],
      "text/plain": [
       "<IPython.core.display.HTML object>"
      ]
     },
     "metadata": {},
     "output_type": "display_data"
    },
    {
     "data": {
      "text/html": [
       "<div class=\"result c-container \" data-click=\"{'rsv_bdr':'0' }\" id=\"2\" srcid=\"1529\" tpl=\"se_com_default\"><h3 class=\"t\"><a data-click=\"{\n",
       "\t\t\t'F':'778717E8',\n",
       "\t\t\t'F1':'9D73F1E4',\n",
       "\t\t\t'F2':'4CA6DE6B',\n",
       "\t\t\t'F3':'54E5243D',\n",
       "\t\t\t'T':'1516673044',\n",
       "\t\t\t\t\t\t'y':'AE985FEF'\n",
       "\t\t\t \n",
       "\t\t\t\t\t\t\t\t\t}\" href=\"http://www.baidu.com/link?url=C56djK6y5F-n-a5jiTX8MXZj9NfgnkmvRrm60vy5TxQo6CxPeAze3jLqtGn6qUp1rDMrE1D79K48mWA7Lpjt57myPdhgefpU1e5vwxK_pUG\" target=\"_blank\">多<em>吃</em>海带<em>能预防甲状腺肿大是因为</em>其中富含<em>哪种元素?</em>_百度知道</a></h3><p class=\"f13 m\">1个回答 - 最新回答: 2015年07月27日</p><div class=\"c-abstract\"><i class=\"c-text c-text-info c-gap-icon-right-small\"><b>[</b><span>专业</span><b>]</b></i><span class=\"m\">答案:</span>在我们的日常生活当中,究竟应该如何<em>预防甲状腺肿大</em>呢<em>?</em> <em>甲状腺肿大是</em>人们生活中常见的一种疾病了,这种疾病的造成的后果是无法估量的,人们生活中只有预防这种...<br/><a class=\"c\" href=\"http://zhidao.baidu.com/q?ct=17&amp;pn=0&amp;tn=ikaslist&amp;rn=10&amp;word=%E9%A3%9F%E7%94%A8%E9%80%82%E9%87%8F%E7%9A%84%E6%B5%B7%E8%8B%94%E5%8F%AF%E4%BB%A5%E9%A2%84%E9%98%B2%E7%94%B2%E7%8A%B6%E8%85%BA%E8%82%BF%E5%A4%A7%E6%98%AF%E5%9B%A0%E4%B8%BA%E6%B5%B7%E8%8B%94%E4%B8%AD%E7%9A%84%E5%93%AA%E7%A7%8D%E5%85%83%E7%B4%A0%3F\" target=\"_blank\">更多关于食用适量的海苔可以预防甲状腺肿大是因为海苔中的哪种元素?的问题&gt;&gt;</a></div><div class=\"f13\"><a class=\"c-showurl\" href=\"http://www.baidu.com/link?url=C56djK6y5F-n-a5jiTX8MXZj9NfgnkmvRrm60vy5TxQo6CxPeAze3jLqtGn6qUp1rDMrE1D79K48mWA7Lpjt57myPdhgefpU1e5vwxK_pUG\" style=\"text-decoration:none;\" target=\"_blank\">https://zhidao.baidu.com/quest... </a><div class=\"c-tools\" data-tools='{\"title\":\"多吃海带能预防甲状腺肿大是因为其中富含哪种元素?_百度知道\",\"url\":\"http://www.baidu.com/link?url=C56djK6y5F-n-a5jiTX8MXZj9NfgnkmvRrm60vy5TxQo6CxPeAze3jLqtGn6qUp1rDMrE1D79K48mWA7Lpjt57myPdhgefpU1e5vwxK_pUG\"}' id=\"tools_12898270781601369445_2\"><a class=\"c-tip-icon\"><i class=\"c-icon c-icon-triangle-down-g\"></i></a></div><span class=\"c-icons-outer\"><span class=\"c-icons-inner\"></span></span> - <a class=\"m\" data-click=\"{'rsv_snapshot':'1'}\" href=\"http://cache.baiducontent.com/c?m=9f65cb4a8c8507ed19fa950d100b9f3c4202d33e2bd7a7452c8fc50f84642c101a39fef8607551428898207a01ad4e5de0f13d793d0027b29bcb8841dfbf973f2fff7d722f4292044f934fa0dc3756d650914d9fae0e96bbe733e3b9a3a0c82520dd22066df0849c5b7003ba68e76537f4a7e95f652c07c9ec27148e4e042d882230a1378df7436510f7f6ca2a4ad42ba0766791b846b62962b004d51d0c2534b73cc01f272327964a308f422a75e6fc2bec3d783034c04ca4cfc4a19b4e9ba8eb26998adcde5c8211e3d2eb89663470458e25a9dacaa54e175203a9ddae65d341bded9dcb5b9a10c0112cad2b72381dcc7c95f29827f5752bf2f0698e3e53203f7bd9a4758f62066b26de3a0fb06fd703b7990538cb9bed9fe91f&amp;p=882a9545d19102ec1bbe9b7c110e80&amp;newp=882a9545d1db12a05aa2d66057088123161cda386a848d0a3b8fd12590634f171c0ba7ec67634b598fca786002af4f5ee8f63d79360924b69ccb8c49d8afd4456edf653b2740d059&amp;user=baidu&amp;fm=sc&amp;query=%CA%B3%D3%C3%CA%CA%C1%BF%B5%C4%BA%A3%CC%A6%BF%C9%D2%D4%D4%A4%B7%C0%BC%D7%D7%B4%CF%D9%D6%D7%B4%F3%CA%C7%D2%F2%CE%AA%BA%A3%CC%A6%D6%D0%B5%C4%C4%C4%D6%D6%D4%AA%CB%D8%3F&amp;qid=ce4deeec0004a0d3&amp;p1=2\" target=\"_blank\">百度快照</a></div></div>"
      ],
      "text/plain": [
       "<IPython.core.display.HTML object>"
      ]
     },
     "metadata": {},
     "output_type": "display_data"
    },
    {
     "name": "stdout",
     "output_type": "stream",
     "text": [
      "http://www.baidu.com/s?q1=《马里奥》系列游戏中马里奥吃哪种植物可以体积变大?&q2=&q3=&q4=&rn=50\n",
      "《超级马里奥兄弟》中马里奥可以通过吃什么来长大?_百度知道 [2, 0, 0] [2.0039192867039435, 0.0, 0.0]\n",
      "马里奥吃什么变大_百度知道 [1, 0, 0] [2.8924397700998337, 0.0, 0.0]\n",
      "NDS《超级马里奥》系列游戏推荐下载 _NDS掌机站_NDS.DUOWAN.COM [1, 0, 0] [3.7754848093219233, 0.0, 0.0]\n",
      "question: 《马里奥》系列游戏中马里奥吃哪种植物可以体积变大?\n",
      "('A', '蘑菇', 6.323608340091091)\n",
      "('B', '土豆', 0.0)\n",
      "('C', '西红柿', 0.0)\n"
     ]
    },
    {
     "data": {
      "text/html": [
       "<div class=\"result c-container \" data-click=\"{'rsv_bdr':'0' }\" id=\"1\" srcid=\"1529\" tpl=\"se_com_default\"><h3 class=\"t\"><a data-click=\"{\n",
       "\t\t\t'F':'378717E8',\n",
       "\t\t\t'F1':'9D73F1E4',\n",
       "\t\t\t'F2':'4CA6DE6B',\n",
       "\t\t\t'F3':'54E5243D',\n",
       "\t\t\t'T':'1516673049',\n",
       "\t\t\t\t\t\t'y':'BBFE1F7C'\n",
       "\t\t\t \n",
       "\t\t\t\t\t\t\t\t\t}\" href=\"http://www.baidu.com/link?url=k7wvqWO_26DaMKmsPhP5XfcSdnNdPAAuJPTqKxS-0Utw68Jn_THivoVAovKstTtfyuPhwct-nnSh16KYIpjJuTi9GpHve5qlVsHFxMI2-rG\" target=\"_blank\"><em>马里奥吃什么变大</em>_百度知道</a></h3><p class=\"f13 m\">3个回答 - 最新回答: 2017年11月01日</p><div class=\"c-abstract\">豆苗蘑菇汤 材料 豆苗、口蘑、金针菇、姜、色拉油、鸡精、味精 做法 1.豆苗、金针菇洗净,口蘑洗净切片,姜去皮切片。 2.水中放姜片煮,水热后加入口蘑,盖上盖。...<br/><a class=\"c\" href=\"http://zhidao.baidu.com/q?ct=17&amp;pn=0&amp;tn=ikaslist&amp;rn=10&amp;word=%E3%80%8A%E9%A9%AC%E9%87%8C%E5%A5%A5%E3%80%8B%E7%B3%BB%E5%88%97%E6%B8%B8%E6%88%8F%E4%B8%AD%E9%A9%AC%E9%87%8C%E5%A5%A5%E5%90%83%E5%93%AA%E7%A7%8D%E6%A4%8D%E7%89%A9%E5%8F%AF%E4%BB%A5%E4%BD%93%E7%A7%AF%E5%8F%98%E5%A4%A7%3F\" target=\"_blank\">更多关于《马里奥》系列游戏中马里奥吃哪种植物可以体积变大?的问题&gt;&gt;</a></div><div class=\"f13\"><a class=\"c-showurl\" href=\"http://www.baidu.com/link?url=k7wvqWO_26DaMKmsPhP5XfcSdnNdPAAuJPTqKxS-0Utw68Jn_THivoVAovKstTtfyuPhwct-nnSh16KYIpjJuTi9GpHve5qlVsHFxMI2-rG\" style=\"text-decoration:none;\" target=\"_blank\">https://zhidao.baidu.com/quest... </a><div class=\"c-tools\" data-tools='{\"title\":\"马里奥吃什么变大_百度知道\",\"url\":\"http://www.baidu.com/link?url=k7wvqWO_26DaMKmsPhP5XfcSdnNdPAAuJPTqKxS-0Utw68Jn_THivoVAovKstTtfyuPhwct-nnSh16KYIpjJuTi9GpHve5qlVsHFxMI2-rG\"}' id=\"tools_12756251449521389098_1\"><a class=\"c-tip-icon\"><i class=\"c-icon c-icon-triangle-down-g\"></i></a></div><span class=\"c-icons-outer\"><span class=\"c-icons-inner\"></span></span> - <a class=\"m\" data-click=\"{'rsv_snapshot':'1'}\" href=\"http://cache.baiducontent.com/c?m=9d78d513d9d432ac4f9d90690c66c0171943f7152ba6d20208a0843891732a41506793ac54210774d6d27d1716de3d4b9af72103341456b58cc9f85dabba8559589f5640676c835613a30ed9cf5153c337912afede19f0cd8625e2acc5a4ab4323c844747a97f1fb4d7015dd19f6033093b1e84e022e16adec4072895d605f9b3441c6508fe4251e079687aa4b3bb73dd11106e7db22c13505c313b3691d3345d05bc079465137f73f57e8304b13939b4a97296e3725a149c3aeb1b0fc3c8dc8ad71c6f591e969d721f1c499e46c0a2a09ac76e3bcbdc56d371e549eddde61956fe3e7affd1ba8528c4d00a75d722e61ca619f888d56f46258f7e462f82e35265f5099ec2a&amp;p=9a72c64ad48202f61fbd9b7e0c1d95&amp;newp=8f39f916d9c111a058ec9f2913648623161cda386a848d0a3b8fd12596664f171c0ba7ec67634b598fca786002af4f58eaf130763c0027b198ce8a49d8afd4456edf653b2740d0&amp;user=baidu&amp;fm=sc&amp;query=%A1%B6%C2%ED%C0%EF%B0%C2%A1%B7%CF%B5%C1%D0%D3%CE%CF%B7%D6%D0%C2%ED%C0%EF%B0%C2%B3%D4%C4%C4%D6%D6%D6%B2%CE%EF%BF%C9%D2%D4%CC%E5%BB%FD%B1%E4%B4%F3%3F&amp;qid=bf71dcae00056a62&amp;p1=1\" target=\"_blank\">百度快照</a></div></div>"
      ],
      "text/plain": [
       "<IPython.core.display.HTML object>"
      ]
     },
     "metadata": {},
     "output_type": "display_data"
    },
    {
     "data": {
      "text/html": [
       "<div class=\"result c-container \" data-click=\"{'rsv_bdr':'0' }\" id=\"2\" srcid=\"1529\" tpl=\"se_com_default\"><h3 class=\"t\"><a data-click=\"{\n",
       "\t\t\t'F':'778717E8',\n",
       "\t\t\t'F1':'9D73F1E4',\n",
       "\t\t\t'F2':'4CA6DE6B',\n",
       "\t\t\t'F3':'54E5242D',\n",
       "\t\t\t'T':'1516673049',\n",
       "\t\t\t\t\t\t'y':'EF3FDF7F'\n",
       "\t\t\t \n",
       "\t\t\t\t\t\t\t\t\t}\" href=\"http://www.baidu.com/link?url=fwr0ZrkfriwQXXfwt0l2WttmLPbTwpGrMqtZ36F8fGLxV_OLSyH2DrdNZ3b4or-CyZiAoIBvEZS4huYKX3xRzUgGgoDy6ZCb_4hXL0M6Uqu\" target=\"_blank\">小时候玩<em>游戏</em>机的一<em>种游戏</em>,人物是<em>马里奥</em>。<em>游戏中</em>,吃到..._百度知道</a></h3><p class=\"f13 m\">17个回答 - 提问时间: 2014年04月06日</p><div class=\"c-abstract\"><span class=\"m\">最佳答案: </span>没其他的了<br/><a class=\"c\" href=\"http://zhidao.baidu.com/q?ct=17&amp;pn=0&amp;tn=ikaslist&amp;rn=10&amp;word=%E3%80%8A%E9%A9%AC%E9%87%8C%E5%A5%A5%E3%80%8B%E7%B3%BB%E5%88%97%E6%B8%B8%E6%88%8F%E4%B8%AD%E9%A9%AC%E9%87%8C%E5%A5%A5%E5%90%83%E5%93%AA%E7%A7%8D%E6%A4%8D%E7%89%A9%E5%8F%AF%E4%BB%A5%E4%BD%93%E7%A7%AF%E5%8F%98%E5%A4%A7%3F\" target=\"_blank\">更多关于《马里奥》系列游戏中马里奥吃哪种植物可以体积变大?的问题&gt;&gt;</a></div><div class=\"f13\"><a class=\"c-showurl\" href=\"http://www.baidu.com/link?url=fwr0ZrkfriwQXXfwt0l2WttmLPbTwpGrMqtZ36F8fGLxV_OLSyH2DrdNZ3b4or-CyZiAoIBvEZS4huYKX3xRzUgGgoDy6ZCb_4hXL0M6Uqu\" style=\"text-decoration:none;\" target=\"_blank\">https://zhidao.baidu.com/quest... </a><div class=\"c-tools\" data-tools='{\"title\":\"小时候玩游戏机的一种游戏,人物是马里奥。游戏中,吃到..._百度知道\",\"url\":\"http://www.baidu.com/link?url=fwr0ZrkfriwQXXfwt0l2WttmLPbTwpGrMqtZ36F8fGLxV_OLSyH2DrdNZ3b4or-CyZiAoIBvEZS4huYKX3xRzUgGgoDy6ZCb_4hXL0M6Uqu\"}' id=\"tools_10427967691003844451_2\"><a class=\"c-tip-icon\"><i class=\"c-icon c-icon-triangle-down-g\"></i></a></div><span class=\"c-icons-outer\"><span class=\"c-icons-inner\"></span></span> - <a class=\"m\" data-click=\"{'rsv_snapshot':'1'}\" href=\"http://cache.baiducontent.com/c?m=9d78d513d9d432ac4f9d90690c66c0171943f7152ba6d20208a0843891732a41506793ac54210774d6d27d1716de3d4b9af72103341456b58cc9f85dabba8559589f5640676c835613a30ed9cf5153c337912afede19f0cd8625e2acc5a4ab4323c844747a97f1fb4d7015dd19f6033093b1e84e022e16adec4072895d605f9b3441c6508fe4251e079687aa4b3bb73dd11106e7db22c13505c313b3691d3345d05bc079465137f73f57e8304b13939b4a97296e3725a149c3aeb1b0fc3c8dc8ad71c6f591e969d721f1c499e46c0a2a09ac76e3bcbdc56d371e549eddde61956fe3e7affd1ba8528c4d00a757732f6acc6894808b53f86858f3ec63fb2935265f5099ec2a&amp;p=91769a479f965be80fbd9b7e0d169d&amp;newp=8b2a970786cc41af58aad422164a8923161cda386a848d0a3b8fd12590644f171c0ba7ec67634b598fca786002af4856edf23777300126b591cc8a49d8afd4456edf653b2740d003&amp;user=baidu&amp;fm=sc&amp;query=%A1%B6%C2%ED%C0%EF%B0%C2%A1%B7%CF%B5%C1%D0%D3%CE%CF%B7%D6%D0%C2%ED%C0%EF%B0%C2%B3%D4%C4%C4%D6%D6%D6%B2%CE%EF%BF%C9%D2%D4%CC%E5%BB%FD%B1%E4%B4%F3%3F&amp;qid=bf71dcae00056a62&amp;p1=2\" target=\"_blank\">百度快照</a></div></div>"
      ],
      "text/plain": [
       "<IPython.core.display.HTML object>"
      ]
     },
     "metadata": {},
     "output_type": "display_data"
    }
   ],
   "source": [
    "with open('questions.txt','r') as f:\n",
    "    i = 0\n",
    "    for line in f:\n",
    "        question, opt_a, opt_b, opt_c = map(lambda s:s.strip(), line.split(','))\n",
    "        search_ans(question, opt_a, opt_b, opt_c)\n",
    "        time.sleep(1)\n",
    "        i += 1\n",
    "        if i > 3:\n",
    "            break"
   ]
  }
 ],
 "metadata": {
  "kernelspec": {
   "display_name": "Python 3",
   "language": "python",
   "name": "python3"
  },
  "language_info": {
   "codemirror_mode": {
    "name": "ipython",
    "version": 3
   },
   "file_extension": ".py",
   "mimetype": "text/x-python",
   "name": "python",
   "nbconvert_exporter": "python",
   "pygments_lexer": "ipython3",
   "version": "3.6.3"
  }
 },
 "nbformat": 4,
 "nbformat_minor": 2
}
