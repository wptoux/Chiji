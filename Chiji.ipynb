{
 "cells": [
  {
   "cell_type": "code",
   "execution_count": 44,
   "metadata": {},
   "outputs": [],
   "source": [
    "import PIL\n",
    "import subprocess\n",
    "import re\n",
    "import os\n",
    "import time"
   ]
  },
  {
   "cell_type": "code",
   "execution_count": 42,
   "metadata": {
    "collapsed": true
   },
   "outputs": [],
   "source": [
    "def capture_img():\n",
    "        subprocess.call('.\\\\adb\\\\adb shell /system/bin/screencap -p /sdcard/screenshot.png')\n",
    "        time.sleep(0.1)\n",
    "        subprocess.call('.\\\\adb\\\\adb pull /sdcard/screenshot.png %s' % './tmp/screenshot.png')\n",
    "        time.sleep(0.1)\n",
    "        \n",
    "        with open('./tmp/screenshot.png', 'rb') as fp:\n",
    "            return fp.read()"
   ]
  },
  {
   "cell_type": "code",
   "execution_count": 3,
   "metadata": {
    "collapsed": true
   },
   "outputs": [],
   "source": [
    "from aip import AipOcr\n",
    "\n",
    "\"\"\" 你的 APPID AK SK \"\"\"\n",
    "APP_ID = '10662052'\n",
    "API_KEY = 'BYIKECybem5hLf2yLKHt3YL4'\n",
    "SECRET_KEY = '54Gc3ED41jcj5xPfXiQMZxuvlvYtGGfr'\n",
    "\n",
    "client = AipOcr(APP_ID, API_KEY, SECRET_KEY)"
   ]
  },
  {
   "cell_type": "code",
   "execution_count": 45,
   "metadata": {},
   "outputs": [
    {
     "name": "stdout",
     "output_type": "stream",
     "text": [
      "No question found!\n"
     ]
    }
   ],
   "source": [
    "image = capture_img()\n",
    "\n",
    "rst = client.accurate(image)\n",
    "\n",
    "question = None\n",
    "options = ['A','B','C']\n",
    "opt = {}\n",
    "for p in rst['words_result']:\n",
    "    word = p['words']\n",
    "    \n",
    "    if re.match(r'^\\d+\\.',word) != None:\n",
    "        question = word[2:].strip()\n",
    "    else:\n",
    "        for o in options:\n",
    "            regex = '^%s\\\\.' % o\n",
    "            if re.match(regex, word) != None:\n",
    "                opt[o] = word[2:].strip()\n",
    "\n",
    "if question != None and question != '':\n",
    "    print('question:', question)\n",
    "    os.system('start www.baidu.com/s?wd=%s' % question)\n",
    "    \n",
    "    for k, v in opt.items():\n",
    "        if v != None and v != '':\n",
    "            print('option:', k, v)\n",
    "            os.system('start www.baidu.com/s?wd=%s' % v)\n",
    "else:\n",
    "    print('No question found!')\n"
   ]
  }
 ],
 "metadata": {
  "kernelspec": {
   "display_name": "Python 3",
   "language": "python",
   "name": "python3"
  },
  "language_info": {
   "codemirror_mode": {
    "name": "ipython",
    "version": 3
   },
   "file_extension": ".py",
   "mimetype": "text/x-python",
   "name": "python",
   "nbconvert_exporter": "python",
   "pygments_lexer": "ipython3",
   "version": "3.6.3"
  }
 },
 "nbformat": 4,
 "nbformat_minor": 2
}
